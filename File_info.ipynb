{
 "cells": [
  {
   "cell_type": "markdown",
   "metadata": {},
   "source": [
    "## File Info"
   ]
  },
  {
   "cell_type": "markdown",
   "metadata": {},
   "source": [
    "- **Preprocessing/** : 모든 데이터 전처리 작업 및 SPI 모델 <br>\n",
    "- **DL_model/** : 딥러닝 모델 <br>\n",
    "- **Searching.ipynb** : 그동안 연구하면서 검색한 내용들을 모아 놓은 것 <br>\n",
    "- **file_name_test** : df_preprocess의 test set에 해당하는 행의 file_path 모음 <br>\n",
    "- **Discussion.ipynb** : \n",
    "- **HR, MBP** : test set에서 HR과 MBP의 PostOp - PreOp / PreOp을 계산하고 AUROC로 저장\n",
    "- **Table 1** : caseid로(건수 아님) age, gender, weight, height, anesthesia time, operation time 6가지 특징에 대해 NRS>=5인지 미만인지에 따른 분포"
   ]
  },
  {
   "cell_type": "markdown",
   "metadata": {},
   "source": [
    "### Preprocessing/\n",
    "- vital data나 peaks(pickle data)는 cranberry2/Preprocessing 안에 있음"
   ]
  },
  {
   "cell_type": "markdown",
   "metadata": {},
   "source": [
    "- **Preprocessing/pyvital2** : arr.py (detecting_peaks, detecting_qrs 함수), vitaldb.py (vital record를 읽기 위한 파일), pleth_spi.py (class Histogram 정의 + SPI model의 계산값이 담긴 run (group distribution을 norm.cdf를 이용)) \n",
    "<br>\n",
    "\n",
    "- **Preprocessing/Data_Preprocessing.ipynb** : 데이터 전처리를 통해 결측치가 많거나 noise(이상한 형태나 직선)가 많은 경우를 거르기 위함\n",
    "<ul>\n",
    "    <li> 작업: 120초 pickle를 input으로 받아 peak 찾기 + 10초짜리 input의 결측치 및 noise 비율 계산 </li>\n",
    "    <li> output </li>\n",
    "    <ul>\n",
    "        <li> cache/PPG_peaks, cache/ECG_peaks: 수정하기 전의 arr로 뽑은 peak </li>\n",
    "        <li> cache/df_preprocess2 : 전처리 과정을 수정해서 update한 df_preprocess (20.11.19: nan 문제 해결 + 값이 직선인 noise를 10초 input 내의 peak 개수로 처리) </li>\n",
    "    </ul>\n",
    "    <li> copy본: 병행처리를 위한 copy본 </li>\n",
    " </ul><br>\n",
    "\n",
    "- **Preprocessing/Detecting_Peak.ipynb** : SPI 모델의 group histogram을 학습하기 위함\n",
    "<ul>\n",
    "    <li> 작업: 전체 raw data의 PPG에서 peak 찾기 </li>\n",
    "    <li> output </li>\n",
    "    <ul>\n",
    "        <li> cache/PPG: 수정하기 전의 arr로 뽑은 peak </li>\n",
    "        <li> cache/PPG_mod : 속도 개선을 위해 수정한 arr로 뽑은 peak </li>\n",
    "    </ul>\n",
    "    <li> copy본: 병행처리를 위한 copy본 </li>\n",
    "</ul><br>\n",
    "\n",
    " \n",
    "- **Preprocessing/SPI_model_SNUH.ipynb** : SNUH의 PPG 값으로 계산한 SSI\n",
    "<ul>\n",
    "    <li> 작업: SNUH에서 측정한 PPG 값으로 group histogram을 만들고 이를 통해 SSI 계산 </li>\n",
    "    <li> output </li>\n",
    "    <ul>\n",
    "        <li> NRS_vital_pickle_unzip: 수정하기 전의 arr로 뽑은 peak </li>\n",
    "        <li> cache/PPG_mod : 속도 개선을 위해 수정한 arr로 뽑은 peak </li>\n",
    "    </ul>\n",
    "</ul><br>\n",
    "\n",
    "- **Preprocessing/Preprocessing_info.ipynb** : 모든 전처리 관련 정보\n",
    "<br>\n",
    "\n",
    "- **Preprocessing/연습장.ipynb** : 데이터 전처리 과정에서 샘플 몇개를 뽑아서 그려본 것\n",
    "<br>\n",
    "\n",
    "\n",
    "- **Preprocessing/ECG_250Hz_processing** : pacu의 250Hz ECG 2분짜리 데이터에서 피크 뽑기\n",
    "<br>\n",
    "\n",
    "- **Preprocessing/ECG_250Hz_preop** : preop의 250Hz ECG 2분짜리 데이터에서 피크 뽑기\n",
    "<br>\n",
    "\n",
    "\n",
    "- **Preprocessing/PACU_vital/** : 5315명 환자의 raw data (ECG, PPG, HR, SBP, DBP, MBP)\n",
    "<br>\n",
    "\n",
    "- **Preprocessing/NRS_vital_pickle_unzip/** : NRS 측정 시점 직전의 120초 Pleth, ECG data\n",
    "<br>\n",
    "\n",
    "- **Preprocessing/SPI_test_set/** : 5315명 환자에서 뽑은 test set에 해당하는 NRS 측정 이전의 모든 Pleth, ECG data\n",
    "  - 목적: SPI 모델 계산에서 individual histogram을 학습시키기 위함\n",
    "<br><br>\n",
    "\n",
    "- **Preprocessing/preop_vital/** : 5315명 환자에서 뽑은 수술실에서 초기 2분(마취제 투여 전)의 Pleth, ECG data\n",
    "  - 목적: NRS 0에 해당하는 input을 넣어주기 위함\n",
    "<br><br>\n",
    "\n",
    "- **Preprocessing/ECG_250Hz/** : 5315명 환자에서 250Hz의 sampling rate으로 뽑은 ECG data\n",
    "  - 목적: RNN 모델에 넣기 위한 목적(HRV는 최소 250Hz 이상에서 계산할 수 있음)\n",
    "<br>\n",
    "\n",
    "\n",
    "\n",
    "- **Preprocessing/match_drug_arr_exclusion_20201110.csv** : 매칭 파일\n",
    "\n",
    "\n",
    "- **Preprocessing/set value in df_match.ipynb** : 매칭 파일에 set value 저장(train=0, test=1, drop=2)\n",
    "\n",
    "\n",
    "- **Preprocessing/match_setvalue_20201125.csv** : setvalue를 매칭 파일에 저장한 파일\n",
    "\n",
    "\n",
    "- **Preprocessing/filepath_test** : test set 저장\n",
    "\n",
    "\n",
    "- **Preprocessing/idmiss.csv** : 같은 opid에 바이탈 파일 2개 매칭된 경우 저장(4949 vs 5010)"
   ]
  },
  {
   "cell_type": "markdown",
   "metadata": {},
   "source": [
    "### DL_model/"
   ]
  },
  {
   "cell_type": "markdown",
   "metadata": {},
   "source": [
    "- **DL_model/1D_CNN_setting.ipynb** : 1D-CNN 딥러닝 모델을 돌리기 위한 train, test set 생성 + 1D-CNN 모델 훈련 + 성능, plot\n",
    "  - 작업\n",
    "    - caseid로부터 train_mask, test_mask 생성 + 전처리된 데이터를 normalize 시켜 x_train, x_test, y_train, y_test 생성\n",
    "    - 1D-CNN 모델 (keras의 sequential API 이용) 학습 및 모델 성능 plot (AUROC 계산 및 plot, 훈련곡선)\n",
    "      - input: ECG + PPG 10s\n",
    "      - output: binary classification(NRS<5) / regression(NRS 0~10)\n",
    "    - hyperparamter optimization에서 상위 모델들의 결과 출력\n",
    "  - copy본\n",
    "    - 1D_CNN_copy1.ipynb - 1D-CNN 모델 초기 작업본\n",
    "    - ID_CNN_go.ipynb - 1D-CNN 모델 구조 수정\n",
    "  - 결과 폴더\n",
    "    - DL_model/output: 1D-CNN_setting에서 돌린 모델들 결과; history(hist.history), model.json(모델구조), weights.hdf5(모델의 weights)\n",
    "\n",
    "<br>\n",
    "\n",
    "- **DL_model/1D_CNN_ECG_PPG/** : 1D-CNN 모델 (ECG, PPG 10s의 two channel input)의 cross validation을 통한 hyperparamter tuning\n",
    "  - 하위폴더\n",
    "    - /1D_CNN_ECG_PPG_cv.ipynb: sklearn의 randomsearchCV와 gridsearchCV를 이용한 hyperparameter tuning (우리모델은 무거워서 x)\n",
    "    - /1D_CNN_ECG_PPG_cv_manual.ipynb: 직접 random searching을 구현\n",
    "    - /1D-CNN_2layers... : random search 결과 폴더\n",
    "    - /1D-CNN_randomsearch.ipynb: random search 코드 틀 (참고용)\n",
    "\n",
    "<br>\n",
    "\n",
    "- **DL_model/manage_input.ipynb**: 다양한 input\n",
    "  - 작업\n",
    "    - data preprocessing + 전처리 정보 정리한 df 생성 + train, test set 생성\n",
    "  - 결과 폴더\n",
    "    - DL_model/cache/ : 전처리 정보가 담긴 df\n",
    "      - /input1 : input 10s, 겹침 5s, 총 120s\n",
    "      - /input2 : input 10s, 겹침 2s, 총 120s\n",
    "      - /input3 : input 20s, 겹침 2s, 총 120s\n",
    "    - DL_model/dataset/\n",
    "      - /input1-1/x_train_preop.npz : input1에 해당하는 preop 데이터의 raw x_train\n",
    "      - /input1-1/x_train.npz : input1에 해당하는 pacu + preop 데이터의 최종 x_train (nan 채우기 + transpose로 형태 맞춤)\n",
    "      - input n-1은 NRS 측정 전 2min, input n-2는 측정 전 1min의 vital data를 input으로 이용\n",
    "      \n",
    "<br>\n",
    "\n",
    "- **DL_model/1D_CNN_PPG/** : 1D-CNN 딥러닝 모델 (PPG 10s의 one channel input)\n",
    "\n",
    "<br>\n",
    "\n",
    "- **DL_model/1D_CNN_ECG** : 1D-CNN 딥러닝 모델 (ECG 10s의 one channel input)\n",
    "\n",
    "<br>\n",
    "\n",
    "- **DL_model/file_spi_test_pacu(preop)** : test set에 해당하는 df_preprocess_pacu(preop)에서의 행\n",
    "\n",
    "- **DL_model/filepath_test** : test set에 해당하는 caseids\n",
    "\n",
    "<br>"
   ]
  },
  {
   "cell_type": "markdown",
   "metadata": {},
   "source": [
    "### Cranberry2"
   ]
  },
  {
   "cell_type": "markdown",
   "metadata": {},
   "source": [
    "- **cranberry2/Preprocessing/preop_vital/preop_vital** : 10min preop raw vital data (4116)\n",
    "- **cranberry2/Preprocessing/preop_vital/preop** : 2min preop dataframe(pickle) of '100Hz PPG and ECG' after removing empty ECG or PPG data (3888)\n",
    "- **cranberry2/Preprocessing/ECG_250Hz_preop_2min** : 2min preop of '250Hz ECG' dataframe(pickle)\n",
    "- **cranberry2/Preprocessing/cache/ECG_250** : R peak of ECG 250Hz PACU data\n",
    "- **cranberry2/Preprocessing/cache/ECG_250Hz_preop_peak** : R peak of ECG 250Hz preop data"
   ]
  },
  {
   "cell_type": "markdown",
   "metadata": {},
   "source": [
    "### Table 1"
   ]
  },
  {
   "cell_type": "markdown",
   "metadata": {
    "ExecuteTime": {
     "end_time": "2020-12-01T01:58:01.163694Z",
     "start_time": "2020-12-01T01:58:01.146792Z"
    }
   },
   "source": [
    "- **Table 1/file_add.ipynb** : 6가지 feature 저장된 파일을 set 구분된 매칭 파일에 붙임\n",
    "- **Table 1/table1.py** : (from 교수님) NRS 0/1로 나누고, table 1을 위한 분석 코드\n",
    "- **Table 1/match_setvalue_20201125.csv** : 기존 매칭 파일(20201110)에다가 train=0 test=1 drop=2으로 저장한 것. cf. 저장 코드는 Preprocessing/set value in df_match\n",
    "- **Table 1/table_1_contents.csv** : (from 교수님) 6개의 feature + OPID + 기타\n",
    "- **Table 1/table_1_contents_op_an.csv** : 위의 파일에서 분석에 필요한 거만 남긴 파일\n",
    "- **Table 1/T1_contents_final.csv** : in/out들 마취시간/수술시간으로 변환하고 나이는 정수로 변환(내림)\n",
    "- **Table 1/results_final.csv** : table 1 자료(format만 수정해서 논문에 쓸거)"
   ]
  },
  {
   "cell_type": "markdown",
   "metadata": {},
   "source": [
    "### HR, MBP"
   ]
  },
  {
   "cell_type": "markdown",
   "metadata": {},
   "source": [
    "- **HR, MBP/HR,MBP.ipynb** : test set에 대해 vital file 읽어서 preop과 PACU에서 각각 HR과 MBP 값을 저장하고 변화율 계산 후 AUROC 계산\n",
    "- **HR,MBP/vitaldb.py** : 교수님 파일 + vital_recs_time 함수 추가한 버전(기록 시작 절대 시각도 같이 빼도록)\n",
    "- **HR,MBP/filepath_test** : test set 목록\n",
    "- **HR,MBP/HR_MBP_60s.csv** : 60초씩 뽑은 거 기준 데이터\n",
    "- **HR,MBP/match_drug_arr_exclusion_20201110.csv** : 최종 매칭파일\n",
    "- **HR,MBP/opid_fileid.csv** : preop의 opid와 바이탈 파일 경로\n",
    "\n",
    "근데 120초/120초 버전으로 작업한 파일이 사라졌다ㅏ..?"
   ]
  },
  {
   "cell_type": "markdown",
   "metadata": {},
   "source": [
    "## Vital data"
   ]
  },
  {
   "cell_type": "markdown",
   "metadata": {},
   "source": [
    "- "
   ]
  },
  {
   "cell_type": "code",
   "execution_count": null,
   "metadata": {},
   "outputs": [],
   "source": []
  },
  {
   "cell_type": "markdown",
   "metadata": {},
   "source": [
    "## Cache data\n",
    "\n",
    "- cranberry2/Preprocessing/cache/peaks/ : preop와 pacu 250Hz ECG peaks\n",
    "- "
   ]
  },
  {
   "cell_type": "markdown",
   "metadata": {},
   "source": [
    "## Individual characteristics"
   ]
  }
 ],
 "metadata": {
  "kernelspec": {
   "display_name": "Python 3",
   "language": "python",
   "name": "python3"
  },
  "language_info": {
   "codemirror_mode": {
    "name": "ipython",
    "version": 3
   },
   "file_extension": ".py",
   "mimetype": "text/x-python",
   "name": "python",
   "nbconvert_exporter": "python",
   "pygments_lexer": "ipython3",
   "version": "3.6.9"
  },
  "toc": {
   "base_numbering": 1,
   "nav_menu": {},
   "number_sections": true,
   "sideBar": true,
   "skip_h1_title": false,
   "title_cell": "Table of Contents",
   "title_sidebar": "Contents",
   "toc_cell": false,
   "toc_position": {},
   "toc_section_display": true,
   "toc_window_display": false
  },
  "varInspector": {
   "cols": {
    "lenName": 16,
    "lenType": 16,
    "lenVar": 40
   },
   "kernels_config": {
    "python": {
     "delete_cmd_postfix": "",
     "delete_cmd_prefix": "del ",
     "library": "var_list.py",
     "varRefreshCmd": "print(var_dic_list())"
    },
    "r": {
     "delete_cmd_postfix": ") ",
     "delete_cmd_prefix": "rm(",
     "library": "var_list.r",
     "varRefreshCmd": "cat(var_dic_list()) "
    }
   },
   "types_to_exclude": [
    "module",
    "function",
    "builtin_function_or_method",
    "instance",
    "_Feature"
   ],
   "window_display": false
  }
 },
 "nbformat": 4,
 "nbformat_minor": 4
}
