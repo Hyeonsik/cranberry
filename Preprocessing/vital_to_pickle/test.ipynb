{
 "cells": [
  {
   "cell_type": "markdown",
   "metadata": {},
   "source": [
    "# 체크용"
   ]
  },
  {
   "cell_type": "code",
   "execution_count": 2,
   "metadata": {
    "ExecuteTime": {
     "end_time": "2020-12-25T07:37:38.437152Z",
     "start_time": "2020-12-25T07:37:38.094684Z"
    }
   },
   "outputs": [
    {
     "name": "stdout",
     "output_type": "stream",
     "text": [
      "10156\n"
     ]
    },
    {
     "data": {
      "text/plain": [
       "8804"
      ]
     },
     "execution_count": 2,
     "metadata": {},
     "output_type": "execute_result"
    }
   ],
   "source": [
    "import pandas as pd\n",
    "import os\n",
    "\n",
    "df_match = pd.read_csv('ftn+_age_match_20201224-Copy1.csv',sep=',')\n",
    "print(len(df_match))\n",
    "\n",
    "fs=os.listdir('../../../cranberry2/Preprocessing/vital_data/PPG_100Hz_ECG_100Hz_pacu_5min/')\n",
    "len(fs)"
   ]
  },
  {
   "cell_type": "code",
   "execution_count": 15,
   "metadata": {
    "ExecuteTime": {
     "end_time": "2020-12-25T07:43:50.573513Z",
     "start_time": "2020-12-25T07:43:49.679414Z"
    }
   },
   "outputs": [
    {
     "name": "stdout",
     "output_type": "stream",
     "text": [
      "10156\n"
     ]
    },
    {
     "data": {
      "text/plain": [
       "(1352, 8804)"
      ]
     },
     "execution_count": 15,
     "metadata": {},
     "output_type": "execute_result"
    }
   ],
   "source": [
    "df_match = pd.read_csv('ftn+_age_match_20201224-Copy1.csv',sep=',')\n",
    "df_match['NRS_time']=pd.to_datetime(df_match['NRS_time'])\n",
    "df_match = df_match.rename(columns={'Unnamed: 0':'index'})\n",
    "#df_match.reset_index(inplace=True, drop=True)\n",
    "\n",
    "print(len(df_match))\n",
    "'''vital -> csv\n",
    "df_match['path']=[f_name.split('.')[0]+\".csv\" for f_name in df_match['path'].values.flatten()] '''\n",
    "\n",
    "nonlist=[]\n",
    "yeslist=[]\n",
    "srate= 100\n",
    "for i in range(len(df_match)):\n",
    "    filename = str(df_match.loc[i,'Value'])+','+str(df_match.loc[i,'index'])+','+ df_match.loc[i,'path']\n",
    "    if not os.path.exists('../../../cranberry2/Preprocessing/vital_data/PPG_100Hz_ECG_100Hz_pacu_5min/'+filename):\n",
    "        nonlist.append(df_match.loc[i,'path'])\n",
    "    else:\n",
    "        yeslist.append(df_match.loc[i,'path'])\n",
    "        \n",
    "len(nonlist),len(yeslist)"
   ]
  },
  {
   "cell_type": "code",
   "execution_count": 16,
   "metadata": {
    "ExecuteTime": {
     "end_time": "2020-12-25T07:44:15.682714Z",
     "start_time": "2020-12-25T07:44:15.479031Z"
    }
   },
   "outputs": [
    {
     "data": {
      "text/plain": [
       "(591, 190, 1132)"
      ]
     },
     "execution_count": 16,
     "metadata": {},
     "output_type": "execute_result"
    }
   ],
   "source": [
    "import pickle\n",
    "\n",
    "cid = pickle.load(open('../../DL_model/caseids_diff','rb'))\n",
    "cid = [e[:-3]+'vital' for e in cid]\n",
    "\n",
    "existed = []\n",
    "still=[]\n",
    "for p in nonlist:\n",
    "    if p in cid:\n",
    "        existed.append(p)\n",
    "    if p in yeslist:\n",
    "        still.append(p)\n",
    "len(cid),len(existed),len(still)"
   ]
  },
  {
   "cell_type": "markdown",
   "metadata": {},
   "source": [
    "# ECG 250Hz"
   ]
  },
  {
   "cell_type": "code",
   "execution_count": 5,
   "metadata": {
    "ExecuteTime": {
     "end_time": "2020-12-26T06:22:44.619858Z",
     "start_time": "2020-12-26T06:22:44.563905Z"
    }
   },
   "outputs": [
    {
     "data": {
      "text/html": [
       "<div>\n",
       "<style scoped>\n",
       "    .dataframe tbody tr th:only-of-type {\n",
       "        vertical-align: middle;\n",
       "    }\n",
       "\n",
       "    .dataframe tbody tr th {\n",
       "        vertical-align: top;\n",
       "    }\n",
       "\n",
       "    .dataframe thead th {\n",
       "        text-align: right;\n",
       "    }\n",
       "</style>\n",
       "<table border=\"1\" class=\"dataframe\">\n",
       "  <thead>\n",
       "    <tr style=\"text-align: right;\">\n",
       "      <th></th>\n",
       "      <th>index</th>\n",
       "      <th>oID</th>\n",
       "      <th>hid</th>\n",
       "      <th>gender</th>\n",
       "      <th>birthdate</th>\n",
       "      <th>NRS_time</th>\n",
       "      <th>Value</th>\n",
       "      <th>bed</th>\n",
       "      <th>opend_time</th>\n",
       "      <th>opid</th>\n",
       "      <th>path</th>\n",
       "      <th>opday</th>\n",
       "      <th>age_year</th>\n",
       "    </tr>\n",
       "  </thead>\n",
       "  <tbody>\n",
       "    <tr>\n",
       "      <th>0</th>\n",
       "      <td>0</td>\n",
       "      <td>21863852</td>\n",
       "      <td>51597829</td>\n",
       "      <td>F</td>\n",
       "      <td>1998-08-13 00:00:00</td>\n",
       "      <td>2019-04-08 12:00:00</td>\n",
       "      <td>6.0</td>\n",
       "      <td>1</td>\n",
       "      <td>2019-04-08 11:39:00</td>\n",
       "      <td>190408044</td>\n",
       "      <td>PACU1_1_190408_115004.vital</td>\n",
       "      <td>2019-04-08 00:00:00</td>\n",
       "      <td>20</td>\n",
       "    </tr>\n",
       "    <tr>\n",
       "      <th>1</th>\n",
       "      <td>1</td>\n",
       "      <td>21863852</td>\n",
       "      <td>51597829</td>\n",
       "      <td>F</td>\n",
       "      <td>1998-08-13 00:00:00</td>\n",
       "      <td>2019-04-08 12:20:00</td>\n",
       "      <td>6.0</td>\n",
       "      <td>1</td>\n",
       "      <td>2019-04-08 11:39:00</td>\n",
       "      <td>190408044</td>\n",
       "      <td>PACU1_1_190408_115004.vital</td>\n",
       "      <td>2019-04-08 00:00:00</td>\n",
       "      <td>20</td>\n",
       "    </tr>\n",
       "    <tr>\n",
       "      <th>2</th>\n",
       "      <td>2</td>\n",
       "      <td>21864256</td>\n",
       "      <td>52049619</td>\n",
       "      <td>F</td>\n",
       "      <td>1991-09-24 00:00:00</td>\n",
       "      <td>2019-04-08 20:40:00</td>\n",
       "      <td>7.0</td>\n",
       "      <td>1</td>\n",
       "      <td>2019-04-08 20:23:00</td>\n",
       "      <td>190408106</td>\n",
       "      <td>PACU1_1_190408_202459.vital</td>\n",
       "      <td>2019-04-08 00:00:00</td>\n",
       "      <td>27</td>\n",
       "    </tr>\n",
       "    <tr>\n",
       "      <th>3</th>\n",
       "      <td>3</td>\n",
       "      <td>21884764</td>\n",
       "      <td>52067408</td>\n",
       "      <td>F</td>\n",
       "      <td>1972-10-25 00:00:00</td>\n",
       "      <td>2019-04-09 11:30:00</td>\n",
       "      <td>4.0</td>\n",
       "      <td>2</td>\n",
       "      <td>2019-04-09 10:52:00</td>\n",
       "      <td>190409012</td>\n",
       "      <td>PACU1_2_190409_110712.vital</td>\n",
       "      <td>2019-04-09 00:00:00</td>\n",
       "      <td>46</td>\n",
       "    </tr>\n",
       "    <tr>\n",
       "      <th>4</th>\n",
       "      <td>4</td>\n",
       "      <td>21863954</td>\n",
       "      <td>47393105</td>\n",
       "      <td>F</td>\n",
       "      <td>1972-09-21 00:00:00</td>\n",
       "      <td>2019-04-09 12:00:00</td>\n",
       "      <td>6.0</td>\n",
       "      <td>3</td>\n",
       "      <td>2019-04-09 11:38:00</td>\n",
       "      <td>190409044</td>\n",
       "      <td>PACU1_3_190409_114333.vital</td>\n",
       "      <td>2019-04-09 00:00:00</td>\n",
       "      <td>46</td>\n",
       "    </tr>\n",
       "    <tr>\n",
       "      <th>...</th>\n",
       "      <td>...</td>\n",
       "      <td>...</td>\n",
       "      <td>...</td>\n",
       "      <td>...</td>\n",
       "      <td>...</td>\n",
       "      <td>...</td>\n",
       "      <td>...</td>\n",
       "      <td>...</td>\n",
       "      <td>...</td>\n",
       "      <td>...</td>\n",
       "      <td>...</td>\n",
       "      <td>...</td>\n",
       "      <td>...</td>\n",
       "    </tr>\n",
       "    <tr>\n",
       "      <th>10151</th>\n",
       "      <td>10221</td>\n",
       "      <td>31715531</td>\n",
       "      <td>42889043</td>\n",
       "      <td>F</td>\n",
       "      <td>1977-03-01 00:00:00</td>\n",
       "      <td>2020-10-30 15:55:00</td>\n",
       "      <td>6.0</td>\n",
       "      <td>12</td>\n",
       "      <td>2020-10-30 15:18:00</td>\n",
       "      <td>201030007</td>\n",
       "      <td>PACU1_12_201030_152744.vital</td>\n",
       "      <td>2020-10-30 00:00:00</td>\n",
       "      <td>43</td>\n",
       "    </tr>\n",
       "    <tr>\n",
       "      <th>10152</th>\n",
       "      <td>10222</td>\n",
       "      <td>31692399</td>\n",
       "      <td>54320756</td>\n",
       "      <td>F</td>\n",
       "      <td>1938-05-27 00:00:00</td>\n",
       "      <td>2020-10-30 16:00:00</td>\n",
       "      <td>6.0</td>\n",
       "      <td>8</td>\n",
       "      <td>2020-10-30 15:15:00</td>\n",
       "      <td>201030108</td>\n",
       "      <td>PACU1_8_201030_152421.vital</td>\n",
       "      <td>2020-10-30 00:00:00</td>\n",
       "      <td>82</td>\n",
       "    </tr>\n",
       "    <tr>\n",
       "      <th>10153</th>\n",
       "      <td>10223</td>\n",
       "      <td>31713962</td>\n",
       "      <td>53745840</td>\n",
       "      <td>F</td>\n",
       "      <td>1980-07-07 00:00:00</td>\n",
       "      <td>2020-10-30 17:10:00</td>\n",
       "      <td>3.0</td>\n",
       "      <td>5</td>\n",
       "      <td>2020-10-30 16:30:00</td>\n",
       "      <td>201030076</td>\n",
       "      <td>PACU1_5_201030_164442.vital</td>\n",
       "      <td>2020-10-30 00:00:00</td>\n",
       "      <td>40</td>\n",
       "    </tr>\n",
       "    <tr>\n",
       "      <th>10154</th>\n",
       "      <td>10224</td>\n",
       "      <td>31600302</td>\n",
       "      <td>51659688</td>\n",
       "      <td>M</td>\n",
       "      <td>1956-01-30 00:00:00</td>\n",
       "      <td>2020-10-31 13:45:00</td>\n",
       "      <td>7.0</td>\n",
       "      <td>3</td>\n",
       "      <td>2020-10-31 12:55:00</td>\n",
       "      <td>201031004</td>\n",
       "      <td>PACU1_3_201031_131135.vital</td>\n",
       "      <td>2020-10-31 00:00:00</td>\n",
       "      <td>64</td>\n",
       "    </tr>\n",
       "    <tr>\n",
       "      <th>10155</th>\n",
       "      <td>10225</td>\n",
       "      <td>31600302</td>\n",
       "      <td>51659688</td>\n",
       "      <td>M</td>\n",
       "      <td>1956-01-30 00:00:00</td>\n",
       "      <td>2020-10-31 14:00:00</td>\n",
       "      <td>5.0</td>\n",
       "      <td>3</td>\n",
       "      <td>2020-10-31 12:55:00</td>\n",
       "      <td>201031004</td>\n",
       "      <td>PACU1_3_201031_131135.vital</td>\n",
       "      <td>2020-10-31 00:00:00</td>\n",
       "      <td>64</td>\n",
       "    </tr>\n",
       "  </tbody>\n",
       "</table>\n",
       "<p>10156 rows × 13 columns</p>\n",
       "</div>"
      ],
      "text/plain": [
       "       index       oID       hid gender            birthdate  \\\n",
       "0          0  21863852  51597829      F  1998-08-13 00:00:00   \n",
       "1          1  21863852  51597829      F  1998-08-13 00:00:00   \n",
       "2          2  21864256  52049619      F  1991-09-24 00:00:00   \n",
       "3          3  21884764  52067408      F  1972-10-25 00:00:00   \n",
       "4          4  21863954  47393105      F  1972-09-21 00:00:00   \n",
       "...      ...       ...       ...    ...                  ...   \n",
       "10151  10221  31715531  42889043      F  1977-03-01 00:00:00   \n",
       "10152  10222  31692399  54320756      F  1938-05-27 00:00:00   \n",
       "10153  10223  31713962  53745840      F  1980-07-07 00:00:00   \n",
       "10154  10224  31600302  51659688      M  1956-01-30 00:00:00   \n",
       "10155  10225  31600302  51659688      M  1956-01-30 00:00:00   \n",
       "\n",
       "                 NRS_time  Value  bed           opend_time       opid  \\\n",
       "0     2019-04-08 12:00:00    6.0    1  2019-04-08 11:39:00  190408044   \n",
       "1     2019-04-08 12:20:00    6.0    1  2019-04-08 11:39:00  190408044   \n",
       "2     2019-04-08 20:40:00    7.0    1  2019-04-08 20:23:00  190408106   \n",
       "3     2019-04-09 11:30:00    4.0    2  2019-04-09 10:52:00  190409012   \n",
       "4     2019-04-09 12:00:00    6.0    3  2019-04-09 11:38:00  190409044   \n",
       "...                   ...    ...  ...                  ...        ...   \n",
       "10151 2020-10-30 15:55:00    6.0   12  2020-10-30 15:18:00  201030007   \n",
       "10152 2020-10-30 16:00:00    6.0    8  2020-10-30 15:15:00  201030108   \n",
       "10153 2020-10-30 17:10:00    3.0    5  2020-10-30 16:30:00  201030076   \n",
       "10154 2020-10-31 13:45:00    7.0    3  2020-10-31 12:55:00  201031004   \n",
       "10155 2020-10-31 14:00:00    5.0    3  2020-10-31 12:55:00  201031004   \n",
       "\n",
       "                               path                opday  age_year  \n",
       "0       PACU1_1_190408_115004.vital  2019-04-08 00:00:00        20  \n",
       "1       PACU1_1_190408_115004.vital  2019-04-08 00:00:00        20  \n",
       "2       PACU1_1_190408_202459.vital  2019-04-08 00:00:00        27  \n",
       "3       PACU1_2_190409_110712.vital  2019-04-09 00:00:00        46  \n",
       "4       PACU1_3_190409_114333.vital  2019-04-09 00:00:00        46  \n",
       "...                             ...                  ...       ...  \n",
       "10151  PACU1_12_201030_152744.vital  2020-10-30 00:00:00        43  \n",
       "10152   PACU1_8_201030_152421.vital  2020-10-30 00:00:00        82  \n",
       "10153   PACU1_5_201030_164442.vital  2020-10-30 00:00:00        40  \n",
       "10154   PACU1_3_201031_131135.vital  2020-10-31 00:00:00        64  \n",
       "10155   PACU1_3_201031_131135.vital  2020-10-31 00:00:00        64  \n",
       "\n",
       "[10156 rows x 13 columns]"
      ]
     },
     "execution_count": 5,
     "metadata": {},
     "output_type": "execute_result"
    }
   ],
   "source": [
    "df_match"
   ]
  },
  {
   "cell_type": "code",
   "execution_count": 4,
   "metadata": {
    "ExecuteTime": {
     "end_time": "2020-12-26T06:19:37.450427Z",
     "start_time": "2020-12-26T06:18:34.769162Z"
    }
   },
   "outputs": [
    {
     "name": "stdout",
     "output_type": "stream",
     "text": [
      "10156\n",
      "0 len 1\n",
      "2019-04-08 12:00:00 ... 2019-04-08 12:00:00\n",
      "1 len 1\n",
      "2019-04-08 12:20:00 ... 2019-04-08 12:20:00\n",
      "2 len 0\n",
      "3 len 0\n",
      "4 len 0\n",
      "5 len 0\n",
      "6 len 0\n",
      "7 len 0\n",
      "8 len 0\n",
      "9 len 0\n",
      "10 len 0\n",
      "11 len 0\n",
      "12 len 0\n",
      "13 len 0\n",
      "14 len 0\n",
      "15 len 0\n",
      "16 len 0\n",
      "17 len 0\n",
      "18 len 0\n",
      "19 len 0\n",
      "20 len 0\n",
      "21 len 0\n",
      "22 len 0\n",
      "23 "
     ]
    },
    {
     "ename": "KeyboardInterrupt",
     "evalue": "",
     "output_type": "error",
     "traceback": [
      "\u001b[0;31m---------------------------------------------------------------------------\u001b[0m",
      "\u001b[0;31mKeyboardInterrupt\u001b[0m                         Traceback (most recent call last)",
      "\u001b[0;32m<ipython-input-4-96e37a19b1b0>\u001b[0m in \u001b[0;36m<module>\u001b[0;34m\u001b[0m\n\u001b[1;32m     33\u001b[0m             \u001b[0mprint\u001b[0m\u001b[0;34m(\u001b[0m\u001b[0;34m'index '\u001b[0m\u001b[0;34m,\u001b[0m\u001b[0mdf_match\u001b[0m\u001b[0;34m.\u001b[0m\u001b[0mloc\u001b[0m\u001b[0;34m[\u001b[0m\u001b[0mi\u001b[0m\u001b[0;34m,\u001b[0m\u001b[0;34m'index'\u001b[0m\u001b[0;34m]\u001b[0m\u001b[0;34m,\u001b[0m\u001b[0;34m' OPID '\u001b[0m\u001b[0;34m,\u001b[0m\u001b[0mdf_match\u001b[0m\u001b[0;34m.\u001b[0m\u001b[0mloc\u001b[0m\u001b[0;34m[\u001b[0m\u001b[0mi\u001b[0m\u001b[0;34m,\u001b[0m\u001b[0;34m'opid'\u001b[0m\u001b[0;34m]\u001b[0m\u001b[0;34m,\u001b[0m\u001b[0;34m'empty vital file'\u001b[0m\u001b[0;34m)\u001b[0m\u001b[0;34m\u001b[0m\u001b[0;34m\u001b[0m\u001b[0m\n\u001b[1;32m     34\u001b[0m         \u001b[0;32melse\u001b[0m\u001b[0;34m:\u001b[0m\u001b[0;34m\u001b[0m\u001b[0;34m\u001b[0m\u001b[0m\n\u001b[0;32m---> 35\u001b[0;31m             \u001b[0mAbs_time\u001b[0m \u001b[0;34m=\u001b[0m \u001b[0;34m[\u001b[0m\u001b[0mvfile_ecg\u001b[0m\u001b[0;34m[\u001b[0m\u001b[0;36m1\u001b[0m\u001b[0;34m]\u001b[0m\u001b[0;34m+\u001b[0m\u001b[0mdatetime\u001b[0m\u001b[0;34m.\u001b[0m\u001b[0mtimedelta\u001b[0m\u001b[0;34m(\u001b[0m\u001b[0mhours\u001b[0m\u001b[0;34m=\u001b[0m\u001b[0;36m9\u001b[0m\u001b[0;34m)\u001b[0m\u001b[0;34m+\u001b[0m\u001b[0mdatetime\u001b[0m\u001b[0;34m.\u001b[0m\u001b[0mtimedelta\u001b[0m\u001b[0;34m(\u001b[0m\u001b[0mseconds\u001b[0m\u001b[0;34m=\u001b[0m\u001b[0mi\u001b[0m\u001b[0;34m/\u001b[0m\u001b[0msrate\u001b[0m\u001b[0;34m)\u001b[0m \u001b[0;32mfor\u001b[0m \u001b[0mi\u001b[0m \u001b[0;32min\u001b[0m \u001b[0mrange\u001b[0m\u001b[0;34m(\u001b[0m\u001b[0mlen\u001b[0m\u001b[0;34m(\u001b[0m\u001b[0mvfile_ecg\u001b[0m\u001b[0;34m[\u001b[0m\u001b[0;36m0\u001b[0m\u001b[0;34m]\u001b[0m\u001b[0;34m)\u001b[0m\u001b[0;34m)\u001b[0m\u001b[0;34m]\u001b[0m\u001b[0;34m\u001b[0m\u001b[0;34m\u001b[0m\u001b[0m\n\u001b[0m\u001b[1;32m     36\u001b[0m             \u001b[0;31m#print(vfile[1])\u001b[0m\u001b[0;34m\u001b[0m\u001b[0;34m\u001b[0m\u001b[0;34m\u001b[0m\u001b[0m\n\u001b[1;32m     37\u001b[0m             \u001b[0mdics\u001b[0m \u001b[0;34m=\u001b[0m \u001b[0;34m{\u001b[0m\u001b[0;34m'Abs_time'\u001b[0m\u001b[0;34m:\u001b[0m\u001b[0mAbs_time\u001b[0m\u001b[0;34m,\u001b[0m\u001b[0;34m'ECG'\u001b[0m\u001b[0;34m:\u001b[0m\u001b[0mvfile_ecg\u001b[0m\u001b[0;34m[\u001b[0m\u001b[0;36m0\u001b[0m\u001b[0;34m]\u001b[0m\u001b[0;34m}\u001b[0m\u001b[0;34m\u001b[0m\u001b[0;34m\u001b[0m\u001b[0m\n",
      "\u001b[0;32m<ipython-input-4-96e37a19b1b0>\u001b[0m in \u001b[0;36m<listcomp>\u001b[0;34m(.0)\u001b[0m\n\u001b[1;32m     33\u001b[0m             \u001b[0mprint\u001b[0m\u001b[0;34m(\u001b[0m\u001b[0;34m'index '\u001b[0m\u001b[0;34m,\u001b[0m\u001b[0mdf_match\u001b[0m\u001b[0;34m.\u001b[0m\u001b[0mloc\u001b[0m\u001b[0;34m[\u001b[0m\u001b[0mi\u001b[0m\u001b[0;34m,\u001b[0m\u001b[0;34m'index'\u001b[0m\u001b[0;34m]\u001b[0m\u001b[0;34m,\u001b[0m\u001b[0;34m' OPID '\u001b[0m\u001b[0;34m,\u001b[0m\u001b[0mdf_match\u001b[0m\u001b[0;34m.\u001b[0m\u001b[0mloc\u001b[0m\u001b[0;34m[\u001b[0m\u001b[0mi\u001b[0m\u001b[0;34m,\u001b[0m\u001b[0;34m'opid'\u001b[0m\u001b[0;34m]\u001b[0m\u001b[0;34m,\u001b[0m\u001b[0;34m'empty vital file'\u001b[0m\u001b[0;34m)\u001b[0m\u001b[0;34m\u001b[0m\u001b[0;34m\u001b[0m\u001b[0m\n\u001b[1;32m     34\u001b[0m         \u001b[0;32melse\u001b[0m\u001b[0;34m:\u001b[0m\u001b[0;34m\u001b[0m\u001b[0;34m\u001b[0m\u001b[0m\n\u001b[0;32m---> 35\u001b[0;31m             \u001b[0mAbs_time\u001b[0m \u001b[0;34m=\u001b[0m \u001b[0;34m[\u001b[0m\u001b[0mvfile_ecg\u001b[0m\u001b[0;34m[\u001b[0m\u001b[0;36m1\u001b[0m\u001b[0;34m]\u001b[0m\u001b[0;34m+\u001b[0m\u001b[0mdatetime\u001b[0m\u001b[0;34m.\u001b[0m\u001b[0mtimedelta\u001b[0m\u001b[0;34m(\u001b[0m\u001b[0mhours\u001b[0m\u001b[0;34m=\u001b[0m\u001b[0;36m9\u001b[0m\u001b[0;34m)\u001b[0m\u001b[0;34m+\u001b[0m\u001b[0mdatetime\u001b[0m\u001b[0;34m.\u001b[0m\u001b[0mtimedelta\u001b[0m\u001b[0;34m(\u001b[0m\u001b[0mseconds\u001b[0m\u001b[0;34m=\u001b[0m\u001b[0mi\u001b[0m\u001b[0;34m/\u001b[0m\u001b[0msrate\u001b[0m\u001b[0;34m)\u001b[0m \u001b[0;32mfor\u001b[0m \u001b[0mi\u001b[0m \u001b[0;32min\u001b[0m \u001b[0mrange\u001b[0m\u001b[0;34m(\u001b[0m\u001b[0mlen\u001b[0m\u001b[0;34m(\u001b[0m\u001b[0mvfile_ecg\u001b[0m\u001b[0;34m[\u001b[0m\u001b[0;36m0\u001b[0m\u001b[0;34m]\u001b[0m\u001b[0;34m)\u001b[0m\u001b[0;34m)\u001b[0m\u001b[0;34m]\u001b[0m\u001b[0;34m\u001b[0m\u001b[0;34m\u001b[0m\u001b[0m\n\u001b[0m\u001b[1;32m     36\u001b[0m             \u001b[0;31m#print(vfile[1])\u001b[0m\u001b[0;34m\u001b[0m\u001b[0;34m\u001b[0m\u001b[0;34m\u001b[0m\u001b[0m\n\u001b[1;32m     37\u001b[0m             \u001b[0mdics\u001b[0m \u001b[0;34m=\u001b[0m \u001b[0;34m{\u001b[0m\u001b[0;34m'Abs_time'\u001b[0m\u001b[0;34m:\u001b[0m\u001b[0mAbs_time\u001b[0m\u001b[0;34m,\u001b[0m\u001b[0;34m'ECG'\u001b[0m\u001b[0;34m:\u001b[0m\u001b[0mvfile_ecg\u001b[0m\u001b[0;34m[\u001b[0m\u001b[0;36m0\u001b[0m\u001b[0;34m]\u001b[0m\u001b[0;34m}\u001b[0m\u001b[0;34m\u001b[0m\u001b[0;34m\u001b[0m\u001b[0m\n",
      "\u001b[0;31mKeyboardInterrupt\u001b[0m: "
     ]
    }
   ],
   "source": [
    "import pandas as pd\n",
    "import datetime\n",
    "import time\n",
    "import pickle\n",
    "import os\n",
    "import numpy as np\n",
    "import vitaldb\n",
    "\n",
    "df_match = pd.read_csv('ftn+_age_match_20201224-Copy1.csv',sep=',')\n",
    "df_match['NRS_time']=pd.to_datetime(df_match['NRS_time'])\n",
    "df_match = df_match.rename(columns={'Unnamed: 0':'index'})\n",
    "#df_match.reset_index(inplace=True, drop=True)\n",
    "\n",
    "print(len(df_match))\n",
    "'''vital -> csv\n",
    "df_match['path']=[f_name.split('.')[0]+\".csv\" for f_name in df_match['path'].values.flatten()] '''\n",
    "\n",
    "srate= 250\n",
    "cnt=0\n",
    "for i in range(len(df_match)):\n",
    "    filename = str(df_match.loc[i,'Value'])+','+str(df_match.loc[i,'index'])+','+ df_match.loc[i,'path']\n",
    "    if True:\n",
    "    #if not os.path.exists('../../../cranberry2/Preprocessing/vital_data/ECG_250Hz_pacu_5min/'+filename):\n",
    "        print(i, end=' ')\n",
    "        #try: \n",
    "        rec_path = '../../../cranberry2/Preprocessing/vital_data/pacu_full_vital/'+df_match.loc[i,'path']\n",
    "        #print(rec_path)\n",
    "        #print('1')\n",
    "        vfile_ecg = vitaldb.vital_recs_time(rec_path,['SNUADCW/ECG_II'],interval=0.004).flatten()\n",
    "\n",
    "        #print(vfile)\n",
    "        if len(vfile_ecg[0])==0 :\n",
    "            print('index ',df_match.loc[i,'index'],' OPID ',df_match.loc[i,'opid'],'empty vital file')\n",
    "        else:\n",
    "            Abs_time = [vfile_ecg[1]+datetime.timedelta(hours=9)+datetime.timedelta(seconds=i/srate) for i in range(len(vfile_ecg[0]))]\n",
    "            #print(vfile[1])\n",
    "            dics = {'Abs_time':Abs_time,'ECG':vfile_ecg[0]}\n",
    "            df_vital = pd.DataFrame(data=dics)\n",
    "            end_idx_list = df_vital[df_vital['Abs_time'] == df_match.loc[i,'NRS_time']].index.tolist()\n",
    "            print('len', len(end_idx_list))\n",
    "            if len(end_idx_list)==0:\n",
    "                cnt +=1\n",
    "            else:\n",
    "                print(df_vital.loc[end_idx_list[0],'Abs_time'],'...',df_match.loc[i,'NRS_time'])\n",
    "print(cnt)"
   ]
  },
  {
   "cell_type": "markdown",
   "metadata": {},
   "source": [
    "# NIBP PACU pickle로 저장하기"
   ]
  },
  {
   "cell_type": "code",
   "execution_count": 4,
   "metadata": {
    "ExecuteTime": {
     "end_time": "2020-12-08T11:25:45.992623Z",
     "start_time": "2020-12-08T11:25:35.938756Z"
    }
   },
   "outputs": [
    {
     "name": "stdout",
     "output_type": "stream",
     "text": [
      "           opid                  fileid                    file_path   NRS  \\\n",
      "0     190408044  A2_190408_103443.vital  PACU1_1_190408_115004.vital   6.0   \n",
      "1     190408106  E3_190408_180036.vital  PACU1_1_190408_202459.vital   7.0   \n",
      "2     190409012  A2_190409_073654.vital  PACU1_2_190409_110712.vital   4.0   \n",
      "3     190409044  D5_190409_101311.vital  PACU1_3_190409_114333.vital   6.0   \n",
      "4     190409057  F4_190409_105106.vital  PACU1_1_190409_133948.vital   8.0   \n",
      "...         ...                     ...                          ...   ...   \n",
      "4109  201030106  R9_201030_145209.vital  PACU1_1_201030_161119.vital   6.0   \n",
      "4110  201030057  E6_201030_131959.vital  PACU1_3_201030_195639.vital   7.0   \n",
      "4111  201030082  R2_201030_185910.vital  PACU1_5_201030_203752.vital   6.0   \n",
      "4112  201030023  C4_201030_185047.vital  PACU1_1_201030_211816.vital   6.0   \n",
      "4113  201031004  R9_201031_084856.vital  PACU1_3_201031_131135.vital  10.0   \n",
      "\n",
      "                NRS_time  \n",
      "0    2019-04-08 12:00:00  \n",
      "1    2019-04-08 20:40:00  \n",
      "2    2019-04-09 11:30:00  \n",
      "3    2019-04-09 12:00:00  \n",
      "4    2019-04-09 13:45:00  \n",
      "...                  ...  \n",
      "4109 2020-10-30 16:15:00  \n",
      "4110 2020-10-30 20:10:00  \n",
      "4111 2020-10-30 20:55:00  \n",
      "4112 2020-10-30 21:20:00  \n",
      "4113 2020-10-31 13:20:00  \n",
      "\n",
      "[4114 rows x 5 columns]\n",
      "      Unnamed: 0  Unnamed: 0.1  Unnamed: 0.1.1  Unnamed: 0.1.1.1       oID  \\\n",
      "0              0            35              35                35  21863852   \n",
      "1              1            38              38                38  21863852   \n",
      "2              2           103             103               103  21864256   \n",
      "3              3           146             146               146  21884764   \n",
      "4              4           150             150               150  21863954   \n",
      "...          ...           ...             ...               ...       ...   \n",
      "8385        9065         45279           45279             45279  31712645   \n",
      "8386        9066         45280           45280             45280  31712645   \n",
      "8387        9067         45286           45286             45286  31600302   \n",
      "8388        9068         45288           45288             45288  31600302   \n",
      "8389        9069         45294           45294             45294  31748528   \n",
      "\n",
      "           hid gender   birthdate            NRS_time  Value  bed  \\\n",
      "0     51597829      F  1998-08-13 2019-04-08 12:00:00    6.0    1   \n",
      "1     51597829      F  1998-08-13 2019-04-08 12:20:00    6.0    1   \n",
      "2     52049619      F  1991-09-24 2019-04-08 20:40:00    7.0    1   \n",
      "3     52067408      F  1972-10-25 2019-04-09 11:30:00    4.0    2   \n",
      "4     47393105      F  1972-09-21 2019-04-09 12:00:00    6.0    3   \n",
      "...        ...    ...         ...                 ...    ...  ...   \n",
      "8385  47199853      M  1975-11-28 2020-10-30 21:20:00    6.0    1   \n",
      "8386  47199853      M  1975-11-28 2020-10-30 21:45:00    6.0    1   \n",
      "8387  51659688      M  1956-01-30 2020-10-31 13:20:00   10.0    3   \n",
      "8388  51659688      M  1956-01-30 2020-10-31 13:30:00    9.0    3   \n",
      "8389  50856998      F  1979-08-08 2020-10-31 16:20:00    3.0    4   \n",
      "\n",
      "            opend_time       opid                         path  \n",
      "0     2019-04-08 11:39  190408044  PACU1_1_190408_115004.vital  \n",
      "1     2019-04-08 11:39  190408044  PACU1_1_190408_115004.vital  \n",
      "2     2019-04-08 20:23  190408106  PACU1_1_190408_202459.vital  \n",
      "3     2019-04-09 10:52  190409012  PACU1_2_190409_110712.vital  \n",
      "4     2019-04-09 11:38  190409044  PACU1_3_190409_114333.vital  \n",
      "...                ...        ...                          ...  \n",
      "8385  2020-10-30 20:56  201030023  PACU1_1_201030_211816.vital  \n",
      "8386  2020-10-30 20:56  201030023  PACU1_1_201030_211816.vital  \n",
      "8387  2020-10-31 12:55  201031004  PACU1_3_201031_131135.vital  \n",
      "8388  2020-10-31 12:55  201031004  PACU1_3_201031_131135.vital  \n",
      "8389  2020-10-31 15:50  201031002  PACU1_4_201031_160405.vital  \n",
      "\n",
      "[8390 rows x 14 columns]\n"
     ]
    }
   ],
   "source": [
    "import pandas as pd\n",
    "import datetime\n",
    "import time\n",
    "import pickle\n",
    "import os\n",
    "import numpy as np\n",
    "from pyvital2 import vitaldb\n",
    "\n",
    "df_match = pd.read_csv('match_drug_arr_exclusion_20201110.csv',sep=',')\n",
    "df_match['NRS_time']=pd.to_datetime(df_match['NRS_time'])\n",
    "df_IDpath = pd.read_csv('opid_fileid.csv')\n",
    "#df_match['path']=[f_name.split('.')[0]+\".csv\" for f_name in df_match['path'].values.flatten()]\n",
    "\n",
    "for j in range(len(df_IDpath)):\n",
    "    #try: \n",
    "    #opid match\n",
    "    idx_list = df_match[df_match['opid']==df_IDpath.loc[j,'opid']].index.tolist()\n",
    "    i = min(idx_list)\n",
    "\n",
    "    rec_path = 'preop_vital/preop_vital/' + df_IDpath.loc[j,'fileid']\n",
    "    df_IDpath.loc[j, 'file_path'] = df_match.loc[i, 'path']\n",
    "    df_IDpath.loc[j, 'NRS'] = df_match.loc[i, 'Value']\n",
    "    df_IDpath.loc[j, 'NRS_time'] = df_match.loc[i, 'NRS_time']\n",
    "print(df_IDpath)\n",
    "print(df_match)"
   ]
  },
  {
   "cell_type": "code",
   "execution_count": null,
   "metadata": {
    "ExecuteTime": {
     "start_time": "2020-12-08T11:25:49.232Z"
    }
   },
   "outputs": [],
   "source": [
    "import pandas as pd\n",
    "import datetime\n",
    "import time\n",
    "import pickle\n",
    "import os\n",
    "import numpy as np\n",
    "from pyvital2 import vitaldb\n",
    "\n",
    "'''vital -> csv\n",
    "df_match['path']=[f_name.split('.')[0]+\".csv\" for f_name in df_match['path'].values.flatten()] '''\n",
    "\n",
    "srate= 250\n",
    "for i in range(len(df_match)):\n",
    "    bedno = df_match.loc[i,'path'].split('_')[1]\n",
    "    if int(bedno) <4:\n",
    "        filename = str(df_match.loc[i,'Value'])+','+str(i)+','+ df_match.loc[i,'path']\n",
    "        if not os.path.exists('vital_data/NIBP_250Hz_pacu_2min_pickle/'+filename):\n",
    "            rec_path = 'PACU_vital/PACU1_1-3/'+df_match.loc[i,'path']\n",
    "            vfile = vitaldb.vital_recs_time(rec_path,['Solar8000/NIBP_MBP'],interval=0.004).flatten()\n",
    "            #print(vfile)\n",
    "            if len(vfile[0])==0:\n",
    "                print('index ',i,' OPID ',df_match.loc[i,'opid'],'empty NIBP')\n",
    "            else:\n",
    "                Abs_time = [vfile[1]+datetime.timedelta(hours=9)+datetime.timedelta(seconds=i/srate) for i in range(len(vfile[0]))]\n",
    "                #print(vfile[1])\n",
    "                dics = {'Abs_time':Abs_time,'NIBP':vfile[0]}\n",
    "                df_NIBP = pd.DataFrame(data=dics)\n",
    "                end_idx_list = df_NIBP[(df_NIBP['Abs_time'] > df_match.loc[i,'NRS_time'] - datetime.timedelta(seconds=1)) & (df_NIBP['Abs_time'] < df_match.loc[i,'NRS_time'] + datetime.timedelta(seconds=1))].index.tolist()\n",
    "\n",
    "                if len(end_idx_list)==0:\n",
    "                    print('index ',i,' OPID ',df_match.loc[i,'opid'],\" no vital data at NRS time\")                  \n",
    "                else:\n",
    "                    end_idx=end_idx_list[0]\n",
    "                    start_idx= max(0,end_idx - 2 * 60 * srate)\n",
    "                    extraction = df_NIBP.loc[start_idx:end_idx]\n",
    "                    with open('vital_data/NIBP_250Hz_pacu_2min_pickle/'+filename,'wb') as f:\n",
    "                        pickle.dump(extraction, f)\n",
    "                        \n",
    "#이건 2분보다 짧아도 저장함"
   ]
  },
  {
   "cell_type": "markdown",
   "metadata": {},
   "source": [
    "# NIBP PACU pickle로 저장하기"
   ]
  },
  {
   "cell_type": "code",
   "execution_count": null,
   "metadata": {},
   "outputs": [],
   "source": [
    "import pandas as pd\n",
    "import pickle\n",
    "import datetime\n",
    "import time\n",
    "from pyvital2 import vitaldb\n",
    "import numpy as np\n",
    "import os\n",
    "\n",
    "'''vital -> csv\n",
    "df_match['path']=[f_name.split('.')[0]+\".csv\" for f_name in df_match['path'].values.flatten()] '''\n",
    "\n",
    "srate= 250\n",
    "for i in range(len(df_IDpath)):\n",
    "    filename = df_IDpath.loc[i,'file_path']\n",
    "    if not os.path.exists('vital_data/NIBP_250Hz_preop_2min_pickle/'+filename):\n",
    "        rec_path = 'preop_vital/preop_vital/'+ df_IDpath.loc[i,'fileid']\n",
    "        vfile = vitaldb.vital_recs(rec_path,['Solar8000/NIBP_MBP'],interval=0.004).flatten()[0:2*60*250]\n",
    "\n",
    "        #print(vfile)\n",
    "        if len(vfile) ==0 :\n",
    "            print('index ',i,' OPID ',df_IDpath.loc[i,'opid'],'empty NIBP')\n",
    "        else:\n",
    "            dics = {'NIBP':vfile}\n",
    "            df_NIBP = pd.DataFrame(data=dics)\n",
    "\n",
    "            extraction = df_NIBP\n",
    "            with open('vital_data/NIBP_250Hz_preop_2min_pickle/'+filename,'wb') as f:\n",
    "                pickle.dump(extraction, f)\n",
    "            print(i,'/',len(df_IDpath),' save')"
   ]
  }
 ],
 "metadata": {
  "kernelspec": {
   "display_name": "Python 3",
   "language": "python",
   "name": "python3"
  },
  "language_info": {
   "codemirror_mode": {
    "name": "ipython",
    "version": 3
   },
   "file_extension": ".py",
   "mimetype": "text/x-python",
   "name": "python",
   "nbconvert_exporter": "python",
   "pygments_lexer": "ipython3",
   "version": "3.6.9"
  },
  "toc": {
   "base_numbering": 1,
   "nav_menu": {},
   "number_sections": true,
   "sideBar": true,
   "skip_h1_title": false,
   "title_cell": "Table of Contents",
   "title_sidebar": "Contents",
   "toc_cell": false,
   "toc_position": {},
   "toc_section_display": true,
   "toc_window_display": false
  },
  "varInspector": {
   "cols": {
    "lenName": 16,
    "lenType": 16,
    "lenVar": 40
   },
   "kernels_config": {
    "python": {
     "delete_cmd_postfix": "",
     "delete_cmd_prefix": "del ",
     "library": "var_list.py",
     "varRefreshCmd": "print(var_dic_list())"
    },
    "r": {
     "delete_cmd_postfix": ") ",
     "delete_cmd_prefix": "rm(",
     "library": "var_list.r",
     "varRefreshCmd": "cat(var_dic_list()) "
    }
   },
   "types_to_exclude": [
    "module",
    "function",
    "builtin_function_or_method",
    "instance",
    "_Feature"
   ],
   "window_display": false
  }
 },
 "nbformat": 4,
 "nbformat_minor": 4
}
