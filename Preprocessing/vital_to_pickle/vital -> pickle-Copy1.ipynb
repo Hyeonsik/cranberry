{
 "cells": [
  {
   "cell_type": "code",
   "execution_count": 1,
   "metadata": {
    "ExecuteTime": {
     "end_time": "2020-12-24T07:20:32.059645Z",
     "start_time": "2020-12-24T07:20:31.532703Z"
    }
   },
   "outputs": [],
   "source": [
    "import pandas as pd\n",
    "import datetime\n",
    "import time\n",
    "import pickle\n",
    "import os\n",
    "import numpy as np\n",
    "from pyvital2 import vitaldb\n"
   ]
  },
  {
   "cell_type": "markdown",
   "metadata": {},
   "source": [
    "# ECG 250Hz pickle로 저장하기"
   ]
  },
  {
   "cell_type": "code",
   "execution_count": 13,
   "metadata": {
    "ExecuteTime": {
     "end_time": "2020-12-24T07:17:37.853620Z",
     "start_time": "2020-12-24T07:17:36.993829Z"
    }
   },
   "outputs": [],
   "source": [
    "! rm -rf 'vital_data/PPG_100Hz_ECG_100Hz_pacu_5min'"
   ]
  },
  {
   "cell_type": "code",
   "execution_count": 3,
   "metadata": {
    "ExecuteTime": {
     "end_time": "2020-12-24T08:13:20.519994Z",
     "start_time": "2020-12-24T07:21:20.210861Z"
    },
    "scrolled": true
   },
   "outputs": [
    {
     "name": "stdout",
     "output_type": "stream",
     "text": [
      "10156\n",
      "                       Abs_time        PPG       ECG\n",
      "1458 2020-01-07 16:34:26.673316  28.515625 -0.595703\n",
      "1459 2020-01-07 16:34:26.683316  27.343750 -0.634766\n",
      "1460 2020-01-07 16:34:26.693316  25.390625 -0.693359\n",
      "1461 2020-01-07 16:34:26.703316  23.828125 -0.742188\n",
      "1462 2020-01-07 16:34:26.713316  22.656250 -0.771484\n",
      "...                         ...        ...       ...\n",
      "4629 2020-01-07 16:34:58.383316  38.281250  1.484375\n",
      "4630 2020-01-07 16:34:58.393316  38.671875  1.611328\n",
      "4631 2020-01-07 16:34:58.403316  39.843750  1.005859\n",
      "4643 2020-01-07 16:34:58.523316  37.500000  0.634766\n",
      "4689 2020-01-07 16:34:58.983316  36.328125 -2.099609\n",
      "\n",
      "[403 rows x 3 columns]\n",
      "PACU1_10_200107_163413.vital\n",
      "                        Abs_time        PPG       ECG\n",
      "6154  2020-02-04 11:14:01.025229  23.828125 -0.029297\n",
      "6155  2020-02-04 11:14:01.035229  23.828125 -0.048828\n",
      "6156  2020-02-04 11:14:01.045229  23.437500 -0.039062\n",
      "6158  2020-02-04 11:14:01.065229  23.828125 -0.019531\n",
      "6159  2020-02-04 11:14:01.075229  24.609375  0.029297\n",
      "...                          ...        ...       ...\n",
      "11115 2020-02-04 11:14:50.635229  60.156250  1.132812\n",
      "11400 2020-02-04 11:14:53.485229  59.765625  1.162109\n",
      "11406 2020-02-04 11:14:53.545229  52.343750  1.191406\n",
      "11454 2020-02-04 11:14:54.025229  39.843750  1.494141\n",
      "11539 2020-02-04 11:14:54.875229  62.109375 -1.113281\n",
      "\n",
      "[444 rows x 3 columns]\n",
      "PACU1_9_200204_111259.vital\n",
      "                       Abs_time        PPG       ECG\n",
      "0    2020-02-05 16:23:41.396145  39.843750  0.253906\n",
      "1    2020-02-05 16:23:41.406145  39.453125  0.322266\n",
      "2    2020-02-05 16:23:41.416145  38.671875  0.351562\n",
      "3    2020-02-05 16:23:41.426145  38.281250  0.390625\n",
      "4    2020-02-05 16:23:41.436145  37.890625  0.458984\n",
      "...                         ...        ...       ...\n",
      "7531 2020-02-05 16:24:56.706145  44.140625 -2.910156\n",
      "7546 2020-02-05 16:24:56.856145  32.421875 -3.447266\n",
      "7557 2020-02-05 16:24:56.966145  25.781250 -2.792969\n",
      "7560 2020-02-05 16:24:56.996145  26.953125 -2.402344\n",
      "7660 2020-02-05 16:24:57.996145  62.890625 -1.855469\n",
      "\n",
      "[836 rows x 3 columns]\n",
      "PACU1_2_200205_162341.vital\n",
      "                       Abs_time      PPG       ECG\n",
      "0    2020-02-19 12:48:59.689566  2.34375 -0.517578\n",
      "1    2020-02-19 12:48:59.699566  2.34375 -0.507812\n",
      "2    2020-02-19 12:48:59.709566  2.34375 -0.488281\n",
      "3    2020-02-19 12:48:59.719566  2.34375 -0.478516\n",
      "5    2020-02-19 12:48:59.739566  2.34375 -0.468750\n",
      "...                         ...      ...       ...\n",
      "5248 2020-02-19 12:49:52.169566  2.34375  4.960938\n",
      "5518 2020-02-19 12:49:54.869566  2.34375 -1.494141\n",
      "5523 2020-02-19 12:49:54.919566  2.34375 -1.582031\n",
      "5542 2020-02-19 12:49:55.109566  2.34375 -2.050781\n",
      "5572 2020-02-19 12:49:55.409566  2.34375 -1.757812\n",
      "\n",
      "[864 rows x 3 columns]\n",
      "PACU1_6_200219_124901.vital\n",
      "                       Abs_time        PPG       ECG\n",
      "0    2020-03-04 10:23:42.626811  26.171875 -0.029297\n",
      "1    2020-03-04 10:23:42.636811  26.562500 -0.019531\n",
      "3    2020-03-04 10:23:42.656811  26.953125  0.000000\n",
      "4    2020-03-04 10:23:42.666811  26.953125  0.019531\n",
      "7    2020-03-04 10:23:42.696811  26.953125  0.029297\n",
      "...                         ...        ...       ...\n",
      "7126 2020-03-04 10:24:53.886811  -2.734375 -0.849609\n",
      "7137 2020-03-04 10:24:53.996811   9.375000 -0.615234\n",
      "7155 2020-03-04 10:24:54.176811  -1.171875  0.986328\n",
      "7497 2020-03-04 10:24:57.596811   4.687500  0.458984\n",
      "7580 2020-03-04 10:24:58.426811  -1.171875  0.781250\n",
      "\n",
      "[201 rows x 3 columns]\n",
      "PACU1_4_200304_102343.vital\n",
      "                        Abs_time        PPG       ECG\n",
      "26709 2020-03-25 10:59:45.799078  35.546875 -3.076172\n",
      "26710 2020-03-25 10:59:45.809078  35.546875 -3.085938\n",
      "26711 2020-03-25 10:59:45.819078  35.156250 -3.066406\n",
      "26717 2020-03-25 10:59:45.879078  33.984375 -3.037109\n",
      "26720 2020-03-25 10:59:45.909078  32.812500 -3.115234\n",
      "...                          ...        ...       ...\n",
      "27995 2020-03-25 10:59:58.659078  32.812500 -1.074219\n",
      "28003 2020-03-25 10:59:58.739078  32.812500 -0.625000\n",
      "28010 2020-03-25 10:59:58.809078  33.593750 -1.123047\n",
      "28014 2020-03-25 10:59:58.849078  33.984375 -1.259766\n",
      "28023 2020-03-25 10:59:58.939078  46.093750 -1.093750\n",
      "\n",
      "[358 rows x 3 columns]\n",
      "PACU1_1_200325_105519.vital\n"
     ]
    }
   ],
   "source": [
    "df_match = pd.read_csv('ftn+_age_match_20201224.csv',sep=',')\n",
    "df_match['NRS_time']=pd.to_datetime(df_match['NRS_time'])\n",
    "df_match = df_match.rename(columns={'Unnamed: 0':'index'})\n",
    "#df_match.reset_index(inplace=True, drop=True)\n",
    "\n",
    "print(len(df_match))\n",
    "'''vital -> csv\n",
    "df_match['path']=[f_name.split('.')[0]+\".csv\" for f_name in df_match['path'].values.flatten()] '''\n",
    "\n",
    "srate= 100\n",
    "for i in range(2500,len(df_match)):\n",
    "    filename = str(df_match.loc[i,'Value'])+','+str(df_match.loc[i,'index'])+','+ df_match.loc[i,'path']\n",
    "    if not os.path.exists('vital_data/PPG_100Hz_ECG_100Hz_pacu_5min/'+filename):\n",
    "        #try: \n",
    "        rec_path = 'vital_data/pacu_ecg_pleth/pacu_ecg_pleth/'+df_match.loc[i,'path']\n",
    "        #print(rec_path)\n",
    "        #print('1')\n",
    "        vfile_ecg = vitaldb.vital_recs_time(rec_path,['SNUADCW/ECG_II'],interval=0.01).flatten()\n",
    "        vfile_ppg = vitaldb.vital_recs_time(rec_path,['SNUADCW/PLETH'],interval=0.01).flatten()\n",
    "\n",
    "        #print(vfile)\n",
    "        if len(vfile_ecg[0])==0 | len(vfile_ppg[0])==0:\n",
    "            print('index ',df_match.loc[i,'index'],' OPID ',df_match.loc[i,'opid'],'empty vital file')\n",
    "        else:\n",
    "            Abs_time = [vfile_ecg[1]+datetime.timedelta(hours=9)+datetime.timedelta(seconds=i/srate) for i in range(len(vfile_ecg[0]))]\n",
    "            #print(vfile[1])\n",
    "            dics = {'Abs_time':Abs_time,'PPG':vfile_ppg[0],'ECG':vfile_ecg[0]}\n",
    "            df_vital = pd.DataFrame(data=dics)\n",
    "            end_idx_list = df_vital[(df_vital['Abs_time'] > df_match.loc[i,'NRS_time'] - datetime.timedelta(seconds=1)) & (df_vital['Abs_time'] < df_match.loc[i,'NRS_time'] + datetime.timedelta(seconds=1))].index.tolist()\n",
    "\n",
    "            if len(end_idx_list)==0:\n",
    "                print('index ',i,' OPID ',df_match.loc[i,'opid'],\" no vital data at NRS time\")\n",
    "\n",
    "            else:\n",
    "                end_idx=end_idx_list[0]+1\n",
    "                start_idx= end_idx - 5 * 60 * srate\n",
    "\n",
    "                ext = df_vital[start_idx:end_idx]\n",
    "                extr=ext.dropna(subset=['ECG'])\n",
    "                extr=extr.drop_duplicates(subset=['ECG'])\n",
    "\n",
    "                if len(extr)>1:\n",
    "                    if start_idx <0 :\n",
    "                        fit = (-1)*end_idx \n",
    "                        extraction = pd.DataFrame(index=range(5*60*srate),columns=['Abs_time','PPG','ECG'])\n",
    "                        extraction[fit:]=ext\n",
    "\n",
    "                        print(extr)\n",
    "                        print(df_match.loc[i,'path'])\n",
    "\n",
    "                    else:\n",
    "                        extraction = ext\n",
    "                    with open('vital_data/PPG_100Hz_ECG_100Hz_pacu_5min/'+filename,'wb') as f:\n",
    "                        pickle.dump(extraction, f)\n",
    "        #except:\n",
    "            #print('error: ',i,df_match.loc[i,'opid'],df_match.loc[i,'path'])"
   ]
  },
  {
   "cell_type": "markdown",
   "metadata": {},
   "source": [
    "# NIBP PACU pickle로 저장하기"
   ]
  },
  {
   "cell_type": "code",
   "execution_count": 4,
   "metadata": {
    "ExecuteTime": {
     "end_time": "2020-12-08T11:25:45.992623Z",
     "start_time": "2020-12-08T11:25:35.938756Z"
    }
   },
   "outputs": [
    {
     "name": "stdout",
     "output_type": "stream",
     "text": [
      "           opid                  fileid                    file_path   NRS  \\\n",
      "0     190408044  A2_190408_103443.vital  PACU1_1_190408_115004.vital   6.0   \n",
      "1     190408106  E3_190408_180036.vital  PACU1_1_190408_202459.vital   7.0   \n",
      "2     190409012  A2_190409_073654.vital  PACU1_2_190409_110712.vital   4.0   \n",
      "3     190409044  D5_190409_101311.vital  PACU1_3_190409_114333.vital   6.0   \n",
      "4     190409057  F4_190409_105106.vital  PACU1_1_190409_133948.vital   8.0   \n",
      "...         ...                     ...                          ...   ...   \n",
      "4109  201030106  R9_201030_145209.vital  PACU1_1_201030_161119.vital   6.0   \n",
      "4110  201030057  E6_201030_131959.vital  PACU1_3_201030_195639.vital   7.0   \n",
      "4111  201030082  R2_201030_185910.vital  PACU1_5_201030_203752.vital   6.0   \n",
      "4112  201030023  C4_201030_185047.vital  PACU1_1_201030_211816.vital   6.0   \n",
      "4113  201031004  R9_201031_084856.vital  PACU1_3_201031_131135.vital  10.0   \n",
      "\n",
      "                NRS_time  \n",
      "0    2019-04-08 12:00:00  \n",
      "1    2019-04-08 20:40:00  \n",
      "2    2019-04-09 11:30:00  \n",
      "3    2019-04-09 12:00:00  \n",
      "4    2019-04-09 13:45:00  \n",
      "...                  ...  \n",
      "4109 2020-10-30 16:15:00  \n",
      "4110 2020-10-30 20:10:00  \n",
      "4111 2020-10-30 20:55:00  \n",
      "4112 2020-10-30 21:20:00  \n",
      "4113 2020-10-31 13:20:00  \n",
      "\n",
      "[4114 rows x 5 columns]\n",
      "      Unnamed: 0  Unnamed: 0.1  Unnamed: 0.1.1  Unnamed: 0.1.1.1       oID  \\\n",
      "0              0            35              35                35  21863852   \n",
      "1              1            38              38                38  21863852   \n",
      "2              2           103             103               103  21864256   \n",
      "3              3           146             146               146  21884764   \n",
      "4              4           150             150               150  21863954   \n",
      "...          ...           ...             ...               ...       ...   \n",
      "8385        9065         45279           45279             45279  31712645   \n",
      "8386        9066         45280           45280             45280  31712645   \n",
      "8387        9067         45286           45286             45286  31600302   \n",
      "8388        9068         45288           45288             45288  31600302   \n",
      "8389        9069         45294           45294             45294  31748528   \n",
      "\n",
      "           hid gender   birthdate            NRS_time  Value  bed  \\\n",
      "0     51597829      F  1998-08-13 2019-04-08 12:00:00    6.0    1   \n",
      "1     51597829      F  1998-08-13 2019-04-08 12:20:00    6.0    1   \n",
      "2     52049619      F  1991-09-24 2019-04-08 20:40:00    7.0    1   \n",
      "3     52067408      F  1972-10-25 2019-04-09 11:30:00    4.0    2   \n",
      "4     47393105      F  1972-09-21 2019-04-09 12:00:00    6.0    3   \n",
      "...        ...    ...         ...                 ...    ...  ...   \n",
      "8385  47199853      M  1975-11-28 2020-10-30 21:20:00    6.0    1   \n",
      "8386  47199853      M  1975-11-28 2020-10-30 21:45:00    6.0    1   \n",
      "8387  51659688      M  1956-01-30 2020-10-31 13:20:00   10.0    3   \n",
      "8388  51659688      M  1956-01-30 2020-10-31 13:30:00    9.0    3   \n",
      "8389  50856998      F  1979-08-08 2020-10-31 16:20:00    3.0    4   \n",
      "\n",
      "            opend_time       opid                         path  \n",
      "0     2019-04-08 11:39  190408044  PACU1_1_190408_115004.vital  \n",
      "1     2019-04-08 11:39  190408044  PACU1_1_190408_115004.vital  \n",
      "2     2019-04-08 20:23  190408106  PACU1_1_190408_202459.vital  \n",
      "3     2019-04-09 10:52  190409012  PACU1_2_190409_110712.vital  \n",
      "4     2019-04-09 11:38  190409044  PACU1_3_190409_114333.vital  \n",
      "...                ...        ...                          ...  \n",
      "8385  2020-10-30 20:56  201030023  PACU1_1_201030_211816.vital  \n",
      "8386  2020-10-30 20:56  201030023  PACU1_1_201030_211816.vital  \n",
      "8387  2020-10-31 12:55  201031004  PACU1_3_201031_131135.vital  \n",
      "8388  2020-10-31 12:55  201031004  PACU1_3_201031_131135.vital  \n",
      "8389  2020-10-31 15:50  201031002  PACU1_4_201031_160405.vital  \n",
      "\n",
      "[8390 rows x 14 columns]\n"
     ]
    }
   ],
   "source": [
    "import pandas as pd\n",
    "import datetime\n",
    "import time\n",
    "import pickle\n",
    "import os\n",
    "import numpy as np\n",
    "from pyvital2 import vitaldb\n",
    "\n",
    "df_match = pd.read_csv('match_drug_arr_exclusion_20201110.csv',sep=',')\n",
    "df_match['NRS_time']=pd.to_datetime(df_match['NRS_time'])\n",
    "df_IDpath = pd.read_csv('opid_fileid.csv')\n",
    "#df_match['path']=[f_name.split('.')[0]+\".csv\" for f_name in df_match['path'].values.flatten()]\n",
    "\n",
    "for j in range(len(df_IDpath)):\n",
    "    #try: \n",
    "    #opid match\n",
    "    idx_list = df_match[df_match['opid']==df_IDpath.loc[j,'opid']].index.tolist()\n",
    "    i = min(idx_list)\n",
    "\n",
    "    rec_path = 'preop_vital/preop_vital/' + df_IDpath.loc[j,'fileid']\n",
    "    df_IDpath.loc[j, 'file_path'] = df_match.loc[i, 'path']\n",
    "    df_IDpath.loc[j, 'NRS'] = df_match.loc[i, 'Value']\n",
    "    df_IDpath.loc[j, 'NRS_time'] = df_match.loc[i, 'NRS_time']\n",
    "print(df_IDpath)\n",
    "print(df_match)"
   ]
  },
  {
   "cell_type": "code",
   "execution_count": null,
   "metadata": {
    "ExecuteTime": {
     "start_time": "2020-12-08T11:25:49.232Z"
    }
   },
   "outputs": [],
   "source": [
    "import pandas as pd\n",
    "import datetime\n",
    "import time\n",
    "import pickle\n",
    "import os\n",
    "import numpy as np\n",
    "from pyvital2 import vitaldb\n",
    "\n",
    "'''vital -> csv\n",
    "df_match['path']=[f_name.split('.')[0]+\".csv\" for f_name in df_match['path'].values.flatten()] '''\n",
    "\n",
    "srate= 250\n",
    "for i in range(len(df_match)):\n",
    "    bedno = df_match.loc[i,'path'].split('_')[1]\n",
    "    if int(bedno) <4:\n",
    "        filename = str(df_match.loc[i,'Value'])+','+str(i)+','+ df_match.loc[i,'path']\n",
    "        if not os.path.exists('vital_data/NIBP_250Hz_pacu_2min_pickle/'+filename):\n",
    "            rec_path = 'PACU_vital/PACU1_1-3/'+df_match.loc[i,'path']\n",
    "            vfile = vitaldb.vital_recs_time(rec_path,['Solar8000/NIBP_MBP'],interval=0.004).flatten()\n",
    "            #print(vfile)\n",
    "            if len(vfile[0])==0:\n",
    "                print('index ',i,' OPID ',df_match.loc[i,'opid'],'empty NIBP')\n",
    "            else:\n",
    "                Abs_time = [vfile[1]+datetime.timedelta(hours=9)+datetime.timedelta(seconds=i/srate) for i in range(len(vfile[0]))]\n",
    "                #print(vfile[1])\n",
    "                dics = {'Abs_time':Abs_time,'NIBP':vfile[0]}\n",
    "                df_NIBP = pd.DataFrame(data=dics)\n",
    "                end_idx_list = df_NIBP[(df_NIBP['Abs_time'] > df_match.loc[i,'NRS_time'] - datetime.timedelta(seconds=1)) & (df_NIBP['Abs_time'] < df_match.loc[i,'NRS_time'] + datetime.timedelta(seconds=1))].index.tolist()\n",
    "\n",
    "                if len(end_idx_list)==0:\n",
    "                    print('index ',i,' OPID ',df_match.loc[i,'opid'],\" no vital data at NRS time\")                  \n",
    "                else:\n",
    "                    end_idx=end_idx_list[0]\n",
    "                    start_idx= max(0,end_idx - 2 * 60 * srate)\n",
    "                    extraction = df_NIBP.loc[start_idx:end_idx]\n",
    "                    with open('vital_data/NIBP_250Hz_pacu_2min_pickle/'+filename,'wb') as f:\n",
    "                        pickle.dump(extraction, f)\n",
    "                        \n",
    "#이건 2분보다 짧아도 저장함"
   ]
  },
  {
   "cell_type": "markdown",
   "metadata": {},
   "source": [
    "# NIBP PACU pickle로 저장하기"
   ]
  },
  {
   "cell_type": "code",
   "execution_count": null,
   "metadata": {},
   "outputs": [],
   "source": [
    "import pandas as pd\n",
    "import pickle\n",
    "import datetime\n",
    "import time\n",
    "from pyvital2 import vitaldb\n",
    "import numpy as np\n",
    "import os\n",
    "\n",
    "'''vital -> csv\n",
    "df_match['path']=[f_name.split('.')[0]+\".csv\" for f_name in df_match['path'].values.flatten()] '''\n",
    "\n",
    "srate= 250\n",
    "for i in range(len(df_IDpath)):\n",
    "    filename = df_IDpath.loc[i,'file_path']\n",
    "    if not os.path.exists('vital_data/NIBP_250Hz_preop_2min_pickle/'+filename):\n",
    "        rec_path = 'preop_vital/preop_vital/'+ df_IDpath.loc[i,'fileid']\n",
    "        vfile = vitaldb.vital_recs(rec_path,['Solar8000/NIBP_MBP'],interval=0.004).flatten()[0:2*60*250]\n",
    "\n",
    "        #print(vfile)\n",
    "        if len(vfile) ==0 :\n",
    "            print('index ',i,' OPID ',df_IDpath.loc[i,'opid'],'empty NIBP')\n",
    "        else:\n",
    "            dics = {'NIBP':vfile}\n",
    "            df_NIBP = pd.DataFrame(data=dics)\n",
    "\n",
    "            extraction = df_NIBP\n",
    "            with open('vital_data/NIBP_250Hz_preop_2min_pickle/'+filename,'wb') as f:\n",
    "                pickle.dump(extraction, f)\n",
    "            print(i,'/',len(df_IDpath),' save')"
   ]
  },
  {
   "cell_type": "code",
   "execution_count": null,
   "metadata": {},
   "outputs": [],
   "source": []
  },
  {
   "cell_type": "code",
   "execution_count": 4,
   "metadata": {
    "ExecuteTime": {
     "end_time": "2020-12-27T07:24:04.650316Z",
     "start_time": "2020-12-27T07:19:16.949513Z"
    },
    "scrolled": true
   },
   "outputs": [
    {
     "name": "stdout",
     "output_type": "stream",
     "text": [
      "5000 already done\n",
      "5001 already done\n",
      "5002 already done\n",
      "5003 already done\n",
      "5004 already done\n",
      "5005 already done\n",
      "5006 already done\n",
      "5007 already done\n",
      "5008 already done\n",
      "5009 already done\n",
      "5010 PACU1_6_200511_095341.vital... "
     ]
    },
    {
     "name": "stderr",
     "output_type": "stream",
     "text": [
      "/usr/local/lib/python3.6/dist-packages/ipykernel_launcher.py:25: RuntimeWarning: Mean of empty slice\n"
     ]
    },
    {
     "name": "stdout",
     "output_type": "stream",
     "text": [
      "...done\n",
      "5011 already done\n",
      "5012 already done\n",
      "5013 already done\n",
      "5014 already done\n",
      "5015 already done\n",
      "5016 already done\n",
      "5017 already done\n",
      "5018 already done\n",
      "5019 already done\n",
      "5020 already done\n",
      "5021 already done\n",
      "5022 already done\n",
      "5023 already done\n",
      "5024 already done\n",
      "5025 already done\n",
      "5026 already done\n",
      "5027 already done\n",
      "5028 already done\n",
      "5029 already done\n",
      "5030 already done\n",
      "5031 already done\n",
      "5032 already done\n",
      "5033 already done\n",
      "5034 already done\n",
      "5035 already done\n",
      "5036 already done\n",
      "5037 PACU1_4_200512_104947.vital... "
     ]
    },
    {
     "name": "stderr",
     "output_type": "stream",
     "text": [
      "/usr/local/lib/python3.6/dist-packages/ipykernel_launcher.py:25: RuntimeWarning: Mean of empty slice\n"
     ]
    },
    {
     "name": "stdout",
     "output_type": "stream",
     "text": [
      "...done\n",
      "5038 already done\n",
      "5039 already done\n",
      "5040 already done\n",
      "5041 already done\n",
      "5042 already done\n",
      "5043 PACU1_5_200512_113947.vital... "
     ]
    },
    {
     "name": "stderr",
     "output_type": "stream",
     "text": [
      "/usr/local/lib/python3.6/dist-packages/ipykernel_launcher.py:25: RuntimeWarning: Mean of empty slice\n"
     ]
    },
    {
     "name": "stdout",
     "output_type": "stream",
     "text": [
      "...done\n",
      "5044 already done\n",
      "5045 already done\n",
      "5046 PACU1_8_200512_123853.vital... "
     ]
    },
    {
     "name": "stderr",
     "output_type": "stream",
     "text": [
      "/usr/local/lib/python3.6/dist-packages/ipykernel_launcher.py:25: RuntimeWarning: Mean of empty slice\n"
     ]
    },
    {
     "name": "stdout",
     "output_type": "stream",
     "text": [
      "...done\n",
      "5047 already done\n",
      "5048 already done\n",
      "5049 already done\n",
      "5050 already done\n",
      "5051 already done\n",
      "5052 PACU1_7_200512_144256.vital... "
     ]
    },
    {
     "name": "stderr",
     "output_type": "stream",
     "text": [
      "/usr/local/lib/python3.6/dist-packages/ipykernel_launcher.py:25: RuntimeWarning: Mean of empty slice\n"
     ]
    },
    {
     "name": "stdout",
     "output_type": "stream",
     "text": [
      "...done\n",
      "5053 already done\n",
      "5054 already done\n",
      "5055 already done\n",
      "5056 already done\n",
      "5057 PACU1_7_200512_172238.vital... "
     ]
    },
    {
     "name": "stderr",
     "output_type": "stream",
     "text": [
      "/usr/local/lib/python3.6/dist-packages/ipykernel_launcher.py:25: RuntimeWarning: Mean of empty slice\n"
     ]
    },
    {
     "name": "stdout",
     "output_type": "stream",
     "text": [
      "...done\n",
      "5058 already done\n",
      "5059 already done\n",
      "5060 already done\n",
      "5061 already done\n",
      "5062 PACU1_1_200512_203841.vital... "
     ]
    },
    {
     "name": "stderr",
     "output_type": "stream",
     "text": [
      "/usr/local/lib/python3.6/dist-packages/ipykernel_launcher.py:25: RuntimeWarning: Mean of empty slice\n"
     ]
    },
    {
     "name": "stdout",
     "output_type": "stream",
     "text": [
      "...done\n",
      "5063 already done\n",
      "5064 already done\n",
      "5065 already done\n",
      "5066 already done\n",
      "5067 already done\n",
      "5068 already done\n",
      "5069 already done\n",
      "5070 already done\n",
      "5071 already done\n",
      "5072 already done\n",
      "5073 already done\n",
      "5074 already done\n",
      "5075 already done\n",
      "5076 already done\n",
      "5077 PACU1_1_200513_163306.vital... "
     ]
    },
    {
     "name": "stderr",
     "output_type": "stream",
     "text": [
      "/usr/local/lib/python3.6/dist-packages/ipykernel_launcher.py:25: RuntimeWarning: Mean of empty slice\n"
     ]
    },
    {
     "name": "stdout",
     "output_type": "stream",
     "text": [
      "...done\n",
      "5078 already done\n",
      "5079 already done\n",
      "5080 already done\n",
      "5081 already done\n",
      "5082 already done\n",
      "5083 already done\n",
      "5084 already done\n",
      "5085 already done\n",
      "5086 already done\n",
      "5087 already done\n",
      "5088 already done\n",
      "5089 already done\n",
      "5090 already done\n",
      "5091 already done\n",
      "5092 already done\n",
      "5093 already done\n",
      "5094 already done\n",
      "5095 already done\n",
      "5096 already done\n",
      "5097 already done\n",
      "5098 "
     ]
    },
    {
     "name": "stderr",
     "output_type": "stream",
     "text": [
      "/usr/local/lib/python3.6/dist-packages/ipykernel_launcher.py:25: RuntimeWarning: Mean of empty slice\n"
     ]
    },
    {
     "name": "stdout",
     "output_type": "stream",
     "text": [
      "PACU1_1_200514_104348.vital... ...done\n",
      "5099 already done\n",
      "5100 already done\n",
      "5101 already done\n",
      "5102 already done\n",
      "5103 already done\n",
      "5104 already done\n",
      "5105 already done\n",
      "5106 already done\n",
      "5107 PACU1_6_200514_123829.vital... "
     ]
    },
    {
     "name": "stderr",
     "output_type": "stream",
     "text": [
      "/usr/local/lib/python3.6/dist-packages/ipykernel_launcher.py:25: RuntimeWarning: Mean of empty slice\n"
     ]
    },
    {
     "name": "stdout",
     "output_type": "stream",
     "text": [
      "...done\n",
      "5108 already done\n",
      "5109 already done\n",
      "5110 already done\n",
      "5111 already done\n",
      "5112 already done\n",
      "5113 already done\n",
      "5114 already done\n",
      "5115 already done\n",
      "5116 already done\n",
      "5117 already done\n",
      "5118 already done\n",
      "5119 already done\n",
      "5120 already done\n",
      "5121 already done\n",
      "5122 already done\n",
      "5123 already done\n",
      "5124 already done\n",
      "5125 already done\n",
      "5126 already done\n",
      "5127 already done\n",
      "5128 already done\n",
      "5129 already done\n",
      "5130 already done\n",
      "5131 already done\n",
      "5132 already done\n",
      "5133 already done\n",
      "5134 PACU1_3_200515_113730.vital... "
     ]
    },
    {
     "name": "stderr",
     "output_type": "stream",
     "text": [
      "/usr/local/lib/python3.6/dist-packages/ipykernel_launcher.py:25: RuntimeWarning: Mean of empty slice\n"
     ]
    },
    {
     "name": "stdout",
     "output_type": "stream",
     "text": [
      "...done\n",
      "5135 already done\n",
      "5136 already done\n",
      "5137 already done\n",
      "5138 already done\n",
      "5139 already done\n",
      "5140 already done\n",
      "5141 already done\n",
      "5142 already done\n",
      "5143 already done\n",
      "5144 already done\n",
      "5145 already done\n",
      "5146 already done\n",
      "5147 already done\n",
      "5148 already done\n",
      "5149 already done\n",
      "5150 already done\n",
      "5151 already done\n",
      "5152 already done\n",
      "5153 already done\n",
      "5154 already done\n",
      "5155 already done\n",
      "5156 already done\n",
      "5157 already done\n",
      "5158 already done\n",
      "5159 already done\n",
      "5160 already done\n",
      "5161 already done\n",
      "5162 already done\n",
      "5163 already done\n",
      "5164 already done\n",
      "5165 already done\n",
      "5166 already done\n",
      "5167 already done\n",
      "5168 already done\n",
      "5169 already done\n",
      "5170 already done\n",
      "5171 already done\n",
      "5172 already done\n",
      "5173 already done\n",
      "5174 already done\n",
      "5175 already done\n",
      "5176 already done\n",
      "5177 already done\n",
      "5178 already done\n",
      "5179 already done\n",
      "5180 already done\n",
      "5181 already done\n",
      "5182 already done\n",
      "5183 already done\n",
      "5184 already done\n",
      "5185 already done\n",
      "5186 already done\n",
      "5187 already done\n",
      "5188 already done\n",
      "5189 PACU1_9_200518_155736.vital... "
     ]
    },
    {
     "name": "stderr",
     "output_type": "stream",
     "text": [
      "/usr/local/lib/python3.6/dist-packages/ipykernel_launcher.py:25: RuntimeWarning: Mean of empty slice\n"
     ]
    },
    {
     "name": "stdout",
     "output_type": "stream",
     "text": [
      "...done\n",
      "5190 already done\n",
      "5191 already done\n",
      "5192 already done\n",
      "5193 already done\n",
      "5194 already done\n",
      "5195 already done\n",
      "5196 already done\n",
      "5197 already done\n",
      "5198 already done\n",
      "5199 PACU1_10_200519_121818.vital... "
     ]
    },
    {
     "name": "stderr",
     "output_type": "stream",
     "text": [
      "/usr/local/lib/python3.6/dist-packages/ipykernel_launcher.py:25: RuntimeWarning: Mean of empty slice\n"
     ]
    },
    {
     "name": "stdout",
     "output_type": "stream",
     "text": [
      "...done\n",
      "5200 already done\n",
      "5201 already done\n",
      "5202 already done\n",
      "5203 already done\n",
      "5204 already done\n",
      "5205 already done\n",
      "5206 already done\n",
      "5207 already done\n",
      "5208 already done\n",
      "5209 already done\n",
      "5210 already done\n",
      "5211 already done\n",
      "5212 already done\n",
      "5213 already done\n",
      "5214 already done\n",
      "5215 already done\n",
      "5216 already done\n",
      "5217 already done\n",
      "5218 already done\n",
      "5219 already done\n",
      "5220 already done\n",
      "5221 already done\n",
      "5222 already done\n",
      "5223 PACU1_4_200519_221914.vital... "
     ]
    },
    {
     "name": "stderr",
     "output_type": "stream",
     "text": [
      "/usr/local/lib/python3.6/dist-packages/ipykernel_launcher.py:25: RuntimeWarning: Mean of empty slice\n"
     ]
    },
    {
     "name": "stdout",
     "output_type": "stream",
     "text": [
      "...done\n",
      "5224 already done\n",
      "5225 already done\n",
      "5226 already done\n",
      "5227 already done\n",
      "5228 already done\n",
      "5229 already done\n",
      "5230 already done\n",
      "5231 PACU1_1_200520_110413.vital... "
     ]
    },
    {
     "name": "stderr",
     "output_type": "stream",
     "text": [
      "/usr/local/lib/python3.6/dist-packages/ipykernel_launcher.py:25: RuntimeWarning: Mean of empty slice\n"
     ]
    },
    {
     "name": "stdout",
     "output_type": "stream",
     "text": [
      "...done\n",
      "5232 already done\n",
      "5233 already done\n",
      "5234 already done\n",
      "5235 already done\n",
      "5236 PACU1_1_200520_120424.vital... "
     ]
    },
    {
     "name": "stderr",
     "output_type": "stream",
     "text": [
      "/usr/local/lib/python3.6/dist-packages/ipykernel_launcher.py:25: RuntimeWarning: Mean of empty slice\n"
     ]
    },
    {
     "name": "stdout",
     "output_type": "stream",
     "text": [
      "...done\n",
      "5237 PACU1_10_200520_122755.vital... "
     ]
    },
    {
     "name": "stderr",
     "output_type": "stream",
     "text": [
      "/usr/local/lib/python3.6/dist-packages/ipykernel_launcher.py:25: RuntimeWarning: Mean of empty slice\n"
     ]
    },
    {
     "name": "stdout",
     "output_type": "stream",
     "text": [
      "...done\n",
      "5238 already done\n",
      "5239 already done\n",
      "5240 already done\n",
      "5241 already done\n",
      "5242 already done\n",
      "5243 already done\n",
      "5244 already done\n",
      "5245 already done\n",
      "5246 already done\n",
      "5247 already done\n",
      "5248 already done\n",
      "5249 PACU1_5_200520_181252.vital... "
     ]
    },
    {
     "name": "stderr",
     "output_type": "stream",
     "text": [
      "/usr/local/lib/python3.6/dist-packages/ipykernel_launcher.py:25: RuntimeWarning: Mean of empty slice\n"
     ]
    },
    {
     "name": "stdout",
     "output_type": "stream",
     "text": [
      "...done\n",
      "5250 already done\n",
      "5251 already done\n",
      "5252 already done\n",
      "5253 already done\n",
      "5254 already done\n",
      "5255 already done\n",
      "5256 already done\n",
      "5257 already done\n",
      "5258 already done\n",
      "5259 already done\n",
      "5260 already done\n",
      "5261 already done\n",
      "5262 already done\n",
      "5263 PACU1_12_200521_155746.vital... "
     ]
    },
    {
     "name": "stderr",
     "output_type": "stream",
     "text": [
      "/usr/local/lib/python3.6/dist-packages/ipykernel_launcher.py:25: RuntimeWarning: Mean of empty slice\n"
     ]
    },
    {
     "name": "stdout",
     "output_type": "stream",
     "text": [
      "...done\n",
      "5264 already done\n",
      "5265 already done\n",
      "5266 already done\n",
      "5267 already done\n",
      "5268 PACU1_5_200521_182409.vital... "
     ]
    },
    {
     "name": "stderr",
     "output_type": "stream",
     "text": [
      "/usr/local/lib/python3.6/dist-packages/ipykernel_launcher.py:25: RuntimeWarning: Mean of empty slice\n"
     ]
    },
    {
     "name": "stdout",
     "output_type": "stream",
     "text": [
      "...done\n",
      "5269 already done\n",
      "5270 already done\n",
      "5271 already done\n",
      "5272 PACU1_4_200521_204742.vital... "
     ]
    },
    {
     "name": "stderr",
     "output_type": "stream",
     "text": [
      "/usr/local/lib/python3.6/dist-packages/ipykernel_launcher.py:25: RuntimeWarning: Mean of empty slice\n"
     ]
    },
    {
     "name": "stdout",
     "output_type": "stream",
     "text": [
      "...done\n",
      "5273 already done\n",
      "5274 already done\n",
      "5275 already done\n",
      "5276 already done\n",
      "5277 already done\n",
      "5278 already done\n",
      "5279 already done\n",
      "5280 already done\n",
      "5281 already done\n",
      "5282 already done\n",
      "5283 already done\n",
      "5284 already done\n",
      "5285 already done\n",
      "5286 already done\n",
      "5287 already done\n",
      "5288 already done\n",
      "5289 already done\n",
      "5290 already done\n",
      "5291 already done\n",
      "5292 already done\n",
      "5293 already done\n",
      "5294 already done\n",
      "5295 already done\n",
      "5296 already done\n",
      "5297 already done\n",
      "5298 already done\n",
      "5299 already done\n",
      "5300 already done\n",
      "5301 already done\n",
      "5302 PACU1_11_200525_144932.vital... "
     ]
    },
    {
     "name": "stderr",
     "output_type": "stream",
     "text": [
      "/usr/local/lib/python3.6/dist-packages/ipykernel_launcher.py:25: RuntimeWarning: Mean of empty slice\n"
     ]
    },
    {
     "name": "stdout",
     "output_type": "stream",
     "text": [
      "...done\n",
      "5303 already done\n",
      "5304 already done\n",
      "5305 already done\n",
      "5306 already done\n",
      "5307 already done\n",
      "5308 already done\n",
      "5309 already done\n",
      "5310 already done\n",
      "5311 already done\n",
      "5312 already done\n",
      "5313 PACU1_1_200525_174753.vital... "
     ]
    },
    {
     "name": "stderr",
     "output_type": "stream",
     "text": [
      "/usr/local/lib/python3.6/dist-packages/ipykernel_launcher.py:25: RuntimeWarning: Mean of empty slice\n"
     ]
    },
    {
     "name": "stdout",
     "output_type": "stream",
     "text": [
      "...done\n",
      "5314 already done\n",
      "5315 already done\n",
      "5316 already done\n",
      "5317 already done\n",
      "5318 already done\n",
      "5319 already done\n",
      "5320 already done\n",
      "5321 already done\n",
      "5322 already done\n",
      "5323 already done\n",
      "5324 PACU1_1_200526_123356.vital... "
     ]
    },
    {
     "name": "stderr",
     "output_type": "stream",
     "text": [
      "/usr/local/lib/python3.6/dist-packages/ipykernel_launcher.py:25: RuntimeWarning: Mean of empty slice\n"
     ]
    },
    {
     "name": "stdout",
     "output_type": "stream",
     "text": [
      "...done\n",
      "5325 already done\n",
      "5326 already done\n",
      "5327 already done\n",
      "5328 already done\n",
      "5329 already done\n",
      "5330 already done\n",
      "5331 already done\n",
      "5332 already done\n",
      "5333 already done\n",
      "5334 already done\n",
      "5335 already done\n",
      "5336 already done\n",
      "5337 already done\n",
      "5338 already done\n",
      "5339 already done\n",
      "5340 already done\n",
      "5341 already done\n",
      "5342 PACU1_7_200526_165356.vital... "
     ]
    },
    {
     "name": "stderr",
     "output_type": "stream",
     "text": [
      "/usr/local/lib/python3.6/dist-packages/ipykernel_launcher.py:25: RuntimeWarning: Mean of empty slice\n"
     ]
    },
    {
     "name": "stdout",
     "output_type": "stream",
     "text": [
      "...done\n",
      "5343 already done\n",
      "5344 already done\n",
      "5345 already done\n",
      "5346 already done\n",
      "5347 already done\n",
      "5348 already done\n",
      "5349 already done\n",
      "5350 already done\n",
      "5351 already done\n",
      "5352 already done\n",
      "5353 already done\n",
      "5354 already done\n",
      "5355 already done\n",
      "5356 already done\n",
      "5357 already done\n",
      "5358 already done\n",
      "5359 already done\n",
      "5360 already done\n",
      "5361 already done\n",
      "5362 already done\n",
      "5363 already done\n",
      "5364 already done\n",
      "5365 already done\n",
      "5366 already done\n",
      "5367 already done\n",
      "5368 already done\n",
      "5369 already done\n",
      "5370 already done\n",
      "5371 already done\n",
      "5372 PACU1_4_200527_135854.vital... "
     ]
    },
    {
     "name": "stderr",
     "output_type": "stream",
     "text": [
      "/usr/local/lib/python3.6/dist-packages/ipykernel_launcher.py:25: RuntimeWarning: Mean of empty slice\n"
     ]
    },
    {
     "name": "stdout",
     "output_type": "stream",
     "text": [
      "...done\n",
      "5373 already done\n",
      "5374 already done\n",
      "5375 already done\n",
      "5376 already done\n",
      "5377 already done\n",
      "5378 already done\n",
      "5379 already done\n",
      "5380 PACU1_4_200527_160428.vital... "
     ]
    },
    {
     "name": "stderr",
     "output_type": "stream",
     "text": [
      "/usr/local/lib/python3.6/dist-packages/ipykernel_launcher.py:25: RuntimeWarning: Mean of empty slice\n"
     ]
    },
    {
     "name": "stdout",
     "output_type": "stream",
     "text": [
      "...done\n",
      "5381 already done\n",
      "5382 already done\n",
      "5383 already done\n",
      "5384 already done\n",
      "5385 already done\n",
      "5386 already done\n",
      "5387 already done\n",
      "5388 already done\n",
      "5389 already done\n",
      "5390 already done\n",
      "5391 already done\n",
      "5392 already done\n",
      "5393 already done\n",
      "5394 already done\n",
      "5395 already done\n",
      "5396 already done\n",
      "5397 already done\n",
      "5398 already done\n",
      "5399 already done\n",
      "5400 already done\n",
      "5401 already done\n",
      "5402 already done\n",
      "5403 already done\n",
      "5404 already done\n",
      "5405 already done\n",
      "5406 already done\n",
      "5407 already done\n",
      "5408 already done\n",
      "5409 already done\n",
      "5410 already done\n",
      "5411 already done\n",
      "5412 already done\n",
      "5413 already done\n",
      "5414 already done\n",
      "5415 already done\n",
      "5416 already done\n",
      "5417 already done\n",
      "5418 already done\n",
      "5419 already done\n",
      "5420 already done\n",
      "5421 already done\n",
      "5422 already done\n",
      "5423 already done\n",
      "5424 already done\n",
      "5425 already done\n",
      "5426 already done\n",
      "5427 already done\n",
      "5428 already done\n",
      "5429 already done\n",
      "5430 already done\n",
      "5431 already done\n",
      "5432 already done\n",
      "5433 already done\n",
      "5434 already done\n",
      "5435 already done\n",
      "5436 already done\n",
      "5437 already done\n",
      "5438 already done\n",
      "5439 already done\n",
      "5440 already done\n",
      "5441 already done\n",
      "5442 already done\n",
      "5443 already done\n",
      "5444 already done\n",
      "5445 already done\n",
      "5446 already done\n",
      "5447 already done\n",
      "5448 already done\n",
      "5449 already done\n",
      "5450 already done\n",
      "5451 already done\n",
      "5452 already done\n",
      "5453 already done\n",
      "5454 already done\n",
      "5455 already done\n",
      "5456 already done\n",
      "5457 already done\n",
      "5458 already done\n",
      "5459 already done\n",
      "5460 already done\n",
      "5461 already done\n",
      "5462 already done\n",
      "5463 already done\n",
      "5464 already done\n",
      "5465 already done\n",
      "5466 already done\n",
      "5467 already done\n",
      "5468 already done\n",
      "5469 already done\n",
      "5470 already done\n",
      "5471 already done\n",
      "5472 already done\n",
      "5473 already done\n",
      "5474 already done\n",
      "5475 already done\n",
      "5476 already done\n",
      "5477 already done\n",
      "5478 already done\n",
      "5479 already done\n",
      "5480 already done\n",
      "5481 already done\n",
      "5482 already done\n",
      "5483 already done\n",
      "5484 already done\n",
      "5485 already done\n",
      "5486 already done\n",
      "5487 already done\n",
      "5488 already done\n",
      "5489 already done\n",
      "5490 already done\n",
      "5491 already done\n",
      "5492 already done\n",
      "5493 already done\n",
      "5494 already done\n",
      "5495 already done\n",
      "5496 already done\n",
      "5497 already done\n",
      "5498 already done\n",
      "5499 already done\n",
      "5500 already done\n",
      "5501 already done\n",
      "5502 already done\n",
      "5503 already done\n",
      "5504 already done\n",
      "5505 already done\n",
      "5506 already done\n",
      "5507 already done\n",
      "5508 already done\n",
      "5509 already done\n",
      "5510 already done\n",
      "5511 already done\n",
      "5512 already done\n",
      "5513 already done\n",
      "5514 already done\n",
      "5515 already done\n",
      "5516 PACU1_4_200602_135249.vital... "
     ]
    },
    {
     "name": "stderr",
     "output_type": "stream",
     "text": [
      "/usr/local/lib/python3.6/dist-packages/ipykernel_launcher.py:25: RuntimeWarning: Mean of empty slice\n"
     ]
    },
    {
     "name": "stdout",
     "output_type": "stream",
     "text": [
      "...done\n",
      "5517 already done\n",
      "5518 already done\n",
      "5519 already done\n",
      "5520 already done\n",
      "5521 already done\n",
      "5522 already done\n",
      "5523 already done\n",
      "5524 already done\n",
      "5525 already done\n",
      "5526 already done\n",
      "5527 already done\n",
      "5528 already done\n",
      "5529 already done\n",
      "5530 already done\n",
      "5531 already done\n",
      "5532 already done\n",
      "5533 already done\n",
      "5534 already done\n",
      "5535 already done\n",
      "5536 already done\n",
      "5537 already done\n",
      "5538 already done\n",
      "5539 already done\n",
      "5540 already done\n",
      "5541 already done\n",
      "5542 already done\n",
      "5543 already done\n",
      "5544 already done\n",
      "5545 already done\n",
      "5546 already done\n",
      "5547 already done\n",
      "5548 already done\n",
      "5549 already done\n",
      "5550 already done\n",
      "5551 already done\n",
      "5552 already done\n",
      "5553 already done\n",
      "5554 already done\n",
      "5555 already done\n",
      "5556 already done\n",
      "5557 already done\n",
      "5558 already done\n",
      "5559 already done\n",
      "5560 already done\n",
      "5561 already done\n",
      "5562 already done\n",
      "5563 already done\n",
      "5564 already done\n",
      "5565 already done\n",
      "5566 already done\n",
      "5567 already done\n",
      "5568 already done\n",
      "5569 already done\n",
      "5570 already done\n",
      "5571 already done\n",
      "5572 already done\n",
      "5573 already done\n",
      "5574 already done\n",
      "5575 already done\n",
      "5576 already done\n",
      "5577 already done\n",
      "5578 already done\n",
      "5579 already done\n",
      "5580 already done\n",
      "5581 already done\n",
      "5582 already done\n",
      "5583 already done\n",
      "5584 already done\n",
      "5585 already done\n",
      "5586 already done\n",
      "5587 already done\n",
      "5588 already done\n",
      "5589 PACU1_2_200604_090759.vital... "
     ]
    },
    {
     "name": "stderr",
     "output_type": "stream",
     "text": [
      "/usr/local/lib/python3.6/dist-packages/ipykernel_launcher.py:25: RuntimeWarning: Mean of empty slice\n"
     ]
    },
    {
     "name": "stdout",
     "output_type": "stream",
     "text": [
      "...done\n",
      "5590 already done\n",
      "5591 already done\n",
      "5592 already done\n",
      "5593 already done\n",
      "5594 already done\n",
      "5595 already done\n",
      "5596 already done\n",
      "5597 already done\n",
      "5598 already done\n",
      "5599 already done\n",
      "5600 already done\n",
      "5601 already done\n",
      "5602 already done\n",
      "5603 already done\n",
      "5604 already done\n",
      "5605 already done\n",
      "5606 already done\n",
      "5607 already done\n",
      "5608 already done\n",
      "5609 already done\n",
      "5610 already done\n",
      "5611 already done\n",
      "5612 already done\n",
      "5613 already done\n",
      "5614 already done\n",
      "5615 already done\n",
      "5616 already done\n",
      "5617 PACU1_3_200604_180441.vital... "
     ]
    },
    {
     "name": "stderr",
     "output_type": "stream",
     "text": [
      "/usr/local/lib/python3.6/dist-packages/ipykernel_launcher.py:25: RuntimeWarning: Mean of empty slice\n"
     ]
    },
    {
     "name": "stdout",
     "output_type": "stream",
     "text": [
      "...done\n",
      "5618 already done\n",
      "5619 already done\n",
      "5620 already done\n",
      "5621 already done\n",
      "5622 already done\n",
      "5623 already done\n",
      "5624 already done\n",
      "5625 already done\n",
      "5626 already done\n",
      "5627 already done\n",
      "5628 already done\n",
      "5629 already done\n",
      "5630 already done\n",
      "5631 already done\n",
      "5632 already done\n",
      "5633 already done\n",
      "5634 already done\n",
      "5635 already done\n",
      "5636 already done\n",
      "5637 already done\n",
      "5638 already done\n",
      "5639 already done\n",
      "5640 already done\n",
      "5641 already done\n",
      "5642 already done\n",
      "5643 PACU1_5_200605_152237.vital... "
     ]
    },
    {
     "name": "stderr",
     "output_type": "stream",
     "text": [
      "/usr/local/lib/python3.6/dist-packages/ipykernel_launcher.py:25: RuntimeWarning: Mean of empty slice\n"
     ]
    },
    {
     "name": "stdout",
     "output_type": "stream",
     "text": [
      "...done\n",
      "5644 already done\n",
      "5645 already done\n",
      "5646 already done\n",
      "5647 already done\n",
      "5648 already done\n",
      "5649 already done\n",
      "5650 already done\n",
      "5651 already done\n",
      "5652 PACU1_1_200605_162340.vital... "
     ]
    },
    {
     "name": "stderr",
     "output_type": "stream",
     "text": [
      "/usr/local/lib/python3.6/dist-packages/ipykernel_launcher.py:25: RuntimeWarning: Mean of empty slice\n"
     ]
    },
    {
     "name": "stdout",
     "output_type": "stream",
     "text": [
      "...done\n",
      "5653 already done\n",
      "5654 already done\n",
      "5655 already done\n",
      "5656 already done\n",
      "5657 already done\n",
      "5658 already done\n",
      "5659 already done\n",
      "5660 already done\n",
      "5661 already done\n",
      "5662 already done\n",
      "5663 PACU1_3_200607_200424.vital... "
     ]
    },
    {
     "name": "stderr",
     "output_type": "stream",
     "text": [
      "/usr/local/lib/python3.6/dist-packages/ipykernel_launcher.py:25: RuntimeWarning: Mean of empty slice\n"
     ]
    },
    {
     "name": "stdout",
     "output_type": "stream",
     "text": [
      "...done\n",
      "5664 already done\n",
      "5665 already done\n",
      "5666 already done\n",
      "5667 already done\n",
      "5668 already done\n",
      "5669 already done\n",
      "5670 PACU1_7_200608_101827.vital... "
     ]
    },
    {
     "name": "stderr",
     "output_type": "stream",
     "text": [
      "/usr/local/lib/python3.6/dist-packages/ipykernel_launcher.py:25: RuntimeWarning: Mean of empty slice\n"
     ]
    },
    {
     "name": "stdout",
     "output_type": "stream",
     "text": [
      "...done\n",
      "5671 already done\n",
      "5672 already done\n",
      "5673 already done\n",
      "5674 already done\n",
      "5675 already done\n",
      "5676 already done\n",
      "5677 already done\n",
      "5678 already done\n",
      "5679 already done\n",
      "5680 already done\n",
      "5681 already done\n",
      "5682 already done\n",
      "5683 already done\n",
      "5684 already done\n",
      "5685 already done\n",
      "5686 already done\n",
      "5687 already done\n",
      "5688 already done\n",
      "5689 already done\n",
      "5690 already done\n",
      "5691 already done\n",
      "5692 PACU1_4_200609_092831.vital... "
     ]
    },
    {
     "name": "stderr",
     "output_type": "stream",
     "text": [
      "/usr/local/lib/python3.6/dist-packages/ipykernel_launcher.py:25: RuntimeWarning: Mean of empty slice\n"
     ]
    },
    {
     "name": "stdout",
     "output_type": "stream",
     "text": [
      "...done\n",
      "5693 PACU1_7_200609_093434.vital... "
     ]
    },
    {
     "name": "stderr",
     "output_type": "stream",
     "text": [
      "/usr/local/lib/python3.6/dist-packages/ipykernel_launcher.py:25: RuntimeWarning: Mean of empty slice\n"
     ]
    },
    {
     "name": "stdout",
     "output_type": "stream",
     "text": [
      "...done\n",
      "5694 already done\n",
      "5695 already done\n",
      "5696 PACU1_12_200609_100437.vital... "
     ]
    },
    {
     "name": "stderr",
     "output_type": "stream",
     "text": [
      "/usr/local/lib/python3.6/dist-packages/ipykernel_launcher.py:25: RuntimeWarning: Mean of empty slice\n"
     ]
    },
    {
     "name": "stdout",
     "output_type": "stream",
     "text": [
      "...done\n",
      "5697 already done\n",
      "5698 already done\n",
      "5699 already done\n",
      "5700 already done\n",
      "5701 already done\n",
      "5702 already done\n",
      "5703 already done\n",
      "5704 already done\n",
      "5705 already done\n",
      "5706 already done\n",
      "5707 already done\n",
      "5708 already done\n",
      "5709 already done\n",
      "5710 already done\n",
      "5711 already done\n",
      "5712 already done\n",
      "5713 already done\n",
      "5714 already done\n",
      "5715 already done\n",
      "5716 already done\n",
      "5717 already done\n",
      "5718 already done\n",
      "5719 PACU1_7_200609_172924.vital... "
     ]
    },
    {
     "name": "stderr",
     "output_type": "stream",
     "text": [
      "/usr/local/lib/python3.6/dist-packages/ipykernel_launcher.py:25: RuntimeWarning: Mean of empty slice\n"
     ]
    },
    {
     "name": "stdout",
     "output_type": "stream",
     "text": [
      "...done\n",
      "5720 already done\n",
      "5721 PACU1_4_200609_200533.vital... "
     ]
    },
    {
     "name": "stderr",
     "output_type": "stream",
     "text": [
      "/usr/local/lib/python3.6/dist-packages/ipykernel_launcher.py:25: RuntimeWarning: Mean of empty slice\n"
     ]
    },
    {
     "name": "stdout",
     "output_type": "stream",
     "text": [
      "...done\n",
      "5722 already done\n",
      "5723 already done\n",
      "5724 already done\n",
      "5725 already done\n",
      "5726 already done\n",
      "5727 already done\n",
      "5728 already done\n",
      "5729 already done\n",
      "5730 already done\n",
      "5731 already done\n",
      "5732 already done\n",
      "5733 already done\n",
      "5734 already done\n",
      "5735 already done\n",
      "5736 already done\n",
      "5737 already done\n",
      "5738 already done\n",
      "5739 already done\n",
      "5740 already done\n",
      "5741 already done\n",
      "5742 already done\n",
      "5743 already done\n",
      "5744 already done\n",
      "5745 already done\n",
      "5746 PACU1_8_200610_161422.vital... "
     ]
    },
    {
     "name": "stderr",
     "output_type": "stream",
     "text": [
      "/usr/local/lib/python3.6/dist-packages/ipykernel_launcher.py:25: RuntimeWarning: Mean of empty slice\n"
     ]
    },
    {
     "name": "stdout",
     "output_type": "stream",
     "text": [
      "...done\n",
      "5747 already done\n",
      "5748 already done\n",
      "5749 already done\n",
      "5750 already done\n",
      "5751 already done\n",
      "5752 already done\n",
      "5753 already done\n",
      "5754 already done\n",
      "5755 already done\n",
      "5756 already done\n",
      "5757 already done\n",
      "5758 already done\n",
      "5759 already done\n",
      "5760 already done\n",
      "5761 already done\n",
      "5762 already done\n",
      "5763 already done\n",
      "5764 already done\n",
      "5765 already done\n",
      "5766 already done\n",
      "5767 already done\n",
      "5768 already done\n",
      "5769 PACU1_3_200611_122733.vital... "
     ]
    },
    {
     "name": "stderr",
     "output_type": "stream",
     "text": [
      "/usr/local/lib/python3.6/dist-packages/ipykernel_launcher.py:25: RuntimeWarning: Mean of empty slice\n"
     ]
    },
    {
     "name": "stdout",
     "output_type": "stream",
     "text": [
      "...done\n",
      "5770 already done\n",
      "5771 already done\n",
      "5772 already done\n",
      "5773 already done\n",
      "5774 already done\n",
      "5775 already done\n",
      "5776 PACU1_3_200611_163230.vital... "
     ]
    },
    {
     "name": "stderr",
     "output_type": "stream",
     "text": [
      "/usr/local/lib/python3.6/dist-packages/ipykernel_launcher.py:25: RuntimeWarning: Mean of empty slice\n"
     ]
    },
    {
     "name": "stdout",
     "output_type": "stream",
     "text": [
      "...done\n",
      "5777 already done\n",
      "5778 already done\n",
      "5779 already done\n",
      "5780 PACU1_1_200611_195930.vital... "
     ]
    },
    {
     "name": "stderr",
     "output_type": "stream",
     "text": [
      "/usr/local/lib/python3.6/dist-packages/ipykernel_launcher.py:25: RuntimeWarning: Mean of empty slice\n"
     ]
    },
    {
     "name": "stdout",
     "output_type": "stream",
     "text": [
      "...done\n",
      "5781 already done\n",
      "5782 already done\n",
      "5783 already done\n",
      "5784 already done\n",
      "5785 already done\n",
      "5786 already done\n",
      "5787 already done\n",
      "5788 already done\n",
      "5789 already done\n",
      "5790 already done\n",
      "5791 already done\n",
      "5792 already done\n",
      "5793 already done\n",
      "5794 already done\n",
      "5795 already done\n",
      "5796 already done\n",
      "5797 already done\n",
      "5798 already done\n",
      "5799 already done\n",
      "5800 already done\n",
      "5801 already done\n",
      "5802 already done\n",
      "5803 already done\n",
      "5804 already done\n",
      "5805 already done\n",
      "5806 already done\n",
      "5807 already done\n",
      "5808 already done\n",
      "5809 already done\n",
      "5810 already done\n",
      "5811 PACU1_9_200612_153815.vital... "
     ]
    },
    {
     "name": "stderr",
     "output_type": "stream",
     "text": [
      "/usr/local/lib/python3.6/dist-packages/ipykernel_launcher.py:25: RuntimeWarning: Mean of empty slice\n"
     ]
    },
    {
     "name": "stdout",
     "output_type": "stream",
     "text": [
      "...done\n",
      "5812 PACU1_4_200612_154347.vital... "
     ]
    },
    {
     "name": "stderr",
     "output_type": "stream",
     "text": [
      "/usr/local/lib/python3.6/dist-packages/ipykernel_launcher.py:25: RuntimeWarning: Mean of empty slice\n"
     ]
    },
    {
     "name": "stdout",
     "output_type": "stream",
     "text": [
      "...done\n",
      "5813 already done\n",
      "5814 already done\n",
      "5815 already done\n",
      "5816 already done\n",
      "5817 already done\n",
      "5818 already done\n",
      "5819 already done\n",
      "5820 already done\n",
      "5821 already done\n",
      "5822 already done\n",
      "5823 already done\n",
      "5824 already done\n",
      "5825 already done\n",
      "5826 already done\n",
      "5827 already done\n",
      "5828 PACU1_1_200612_223955.vital... "
     ]
    },
    {
     "name": "stderr",
     "output_type": "stream",
     "text": [
      "/usr/local/lib/python3.6/dist-packages/ipykernel_launcher.py:25: RuntimeWarning: Mean of empty slice\n"
     ]
    },
    {
     "name": "stdout",
     "output_type": "stream",
     "text": [
      "...done\n",
      "5829 already done\n",
      "5830 already done\n",
      "5831 already done\n",
      "5832 already done\n",
      "5833 PACU1_9_200615_102258.vital... "
     ]
    },
    {
     "name": "stderr",
     "output_type": "stream",
     "text": [
      "/usr/local/lib/python3.6/dist-packages/ipykernel_launcher.py:25: RuntimeWarning: Mean of empty slice\n"
     ]
    },
    {
     "name": "stdout",
     "output_type": "stream",
     "text": [
      "...done\n",
      "5834 already done\n",
      "5835 already done\n",
      "5836 already done\n",
      "5837 already done\n",
      "5838 already done\n",
      "5839 already done\n",
      "5840 already done\n",
      "5841 already done\n",
      "5842 PACU1_7_200615_124348.vital... "
     ]
    },
    {
     "name": "stderr",
     "output_type": "stream",
     "text": [
      "/usr/local/lib/python3.6/dist-packages/ipykernel_launcher.py:25: RuntimeWarning: Mean of empty slice\n"
     ]
    },
    {
     "name": "stdout",
     "output_type": "stream",
     "text": [
      "...done\n",
      "5843 already done\n",
      "5844 already done\n",
      "5845 already done\n",
      "5846 already done\n",
      "5847 already done\n",
      "5848 already done\n",
      "5849 PACU1_11_200615_144806.vital... "
     ]
    },
    {
     "name": "stderr",
     "output_type": "stream",
     "text": [
      "/usr/local/lib/python3.6/dist-packages/ipykernel_launcher.py:25: RuntimeWarning: Mean of empty slice\n"
     ]
    },
    {
     "name": "stdout",
     "output_type": "stream",
     "text": [
      "...done\n",
      "5850 already done\n",
      "5851 already done\n",
      "5852 already done\n",
      "5853 PACU1_3_200615_161732.vital... "
     ]
    },
    {
     "name": "stderr",
     "output_type": "stream",
     "text": [
      "/usr/local/lib/python3.6/dist-packages/ipykernel_launcher.py:25: RuntimeWarning: Mean of empty slice\n"
     ]
    },
    {
     "name": "stdout",
     "output_type": "stream",
     "text": [
      "...done\n",
      "5854 already done\n",
      "5855 already done\n",
      "5856 already done\n",
      "5857 already done\n",
      "5858 already done\n",
      "5859 already done\n",
      "5860 already done\n",
      "5861 already done\n",
      "5862 already done\n",
      "5863 already done\n",
      "5864 already done\n",
      "5865 already done\n",
      "5866 already done\n",
      "5867 already done\n",
      "5869 PACU1_9_200616_092750.vital... "
     ]
    },
    {
     "name": "stderr",
     "output_type": "stream",
     "text": [
      "/usr/local/lib/python3.6/dist-packages/ipykernel_launcher.py:25: RuntimeWarning: Mean of empty slice\n"
     ]
    },
    {
     "name": "stdout",
     "output_type": "stream",
     "text": [
      "...done\n",
      "5870 already done\n",
      "5871 already done\n",
      "5872 already done\n",
      "5873 already done\n",
      "5874 already done\n",
      "5875 already done\n",
      "5876 already done\n",
      "5877 already done\n",
      "5878 already done\n",
      "5879 already done\n",
      "5880 already done\n",
      "5881 already done\n",
      "5882 already done\n",
      "5883 PACU1_9_200616_130900.vital... "
     ]
    },
    {
     "name": "stderr",
     "output_type": "stream",
     "text": [
      "/usr/local/lib/python3.6/dist-packages/ipykernel_launcher.py:25: RuntimeWarning: Mean of empty slice\n"
     ]
    },
    {
     "name": "stdout",
     "output_type": "stream",
     "text": [
      "...done\n",
      "5884 PACU1_11_200616_132858.vital... "
     ]
    },
    {
     "name": "stderr",
     "output_type": "stream",
     "text": [
      "/usr/local/lib/python3.6/dist-packages/ipykernel_launcher.py:25: RuntimeWarning: Mean of empty slice\n"
     ]
    },
    {
     "name": "stdout",
     "output_type": "stream",
     "text": [
      "...done\n",
      "5885 already done\n",
      "5886 already done\n",
      "5887 PACU1_11_200616_142848.vital... "
     ]
    },
    {
     "name": "stderr",
     "output_type": "stream",
     "text": [
      "/usr/local/lib/python3.6/dist-packages/ipykernel_launcher.py:25: RuntimeWarning: Mean of empty slice\n"
     ]
    },
    {
     "name": "stdout",
     "output_type": "stream",
     "text": [
      "...done\n",
      "5888 already done\n",
      "5889 already done\n",
      "5890 already done\n",
      "5891 already done\n",
      "5892 already done\n",
      "5893 PACU1_12_200616_152932.vital... "
     ]
    },
    {
     "name": "stderr",
     "output_type": "stream",
     "text": [
      "/usr/local/lib/python3.6/dist-packages/ipykernel_launcher.py:25: RuntimeWarning: Mean of empty slice\n"
     ]
    },
    {
     "name": "stdout",
     "output_type": "stream",
     "text": [
      "...done\n",
      "5894 already done\n",
      "5895 already done\n",
      "5896 already done\n",
      "5897 already done\n",
      "5898 already done\n",
      "5899 already done\n",
      "5900 already done\n",
      "5901 already done\n",
      "5902 already done\n",
      "5903 already done\n",
      "5904 PACU1_8_200616_181235.vital... "
     ]
    },
    {
     "name": "stderr",
     "output_type": "stream",
     "text": [
      "/usr/local/lib/python3.6/dist-packages/ipykernel_launcher.py:25: RuntimeWarning: Mean of empty slice\n"
     ]
    },
    {
     "name": "stdout",
     "output_type": "stream",
     "text": [
      "...done\n",
      "5905 already done\n",
      "5906 already done\n",
      "5907 already done\n",
      "5908 already done\n",
      "5909 already done\n",
      "5910 already done\n",
      "5911 already done\n",
      "5912 already done\n",
      "5913 already done\n",
      "5914 already done\n",
      "5915 already done\n",
      "5916 already done\n",
      "5917 already done\n",
      "5918 already done\n",
      "5919 already done\n",
      "5920 already done\n",
      "5921 already done\n",
      "5922 already done\n",
      "5923 already done\n",
      "5924 already done\n",
      "5925 already done\n",
      "5926 already done\n",
      "5927 already done\n",
      "5928 already done\n",
      "5929 already done\n",
      "5930 already done\n",
      "5931 already done\n",
      "5932 already done\n",
      "5933 already done\n",
      "5934 already done\n",
      "5935 already done\n",
      "5936 already done\n",
      "5937 already done\n",
      "5938 already done\n",
      "5939 PACU1_4_200617_163518.vital... "
     ]
    },
    {
     "name": "stderr",
     "output_type": "stream",
     "text": [
      "/usr/local/lib/python3.6/dist-packages/ipykernel_launcher.py:25: RuntimeWarning: Mean of empty slice\n"
     ]
    },
    {
     "name": "stdout",
     "output_type": "stream",
     "text": [
      "...done\n",
      "5940 already done\n",
      "5941 already done\n",
      "5942 already done\n",
      "5943 already done\n",
      "5944 already done\n",
      "5945 already done\n",
      "5946 already done\n",
      "5947 already done\n",
      "5948 already done\n",
      "5949 already done\n",
      "5950 already done\n",
      "5951 already done\n",
      "5952 already done\n",
      "5953 already done\n",
      "5954 already done\n",
      "5955 already done\n",
      "5956 already done\n",
      "5957 already done\n",
      "5958 already done\n",
      "5959 already done\n",
      "5960 already done\n",
      "5961 already done\n",
      "5962 already done\n",
      "5963 already done\n",
      "5964 already done\n",
      "5965 already done\n",
      "5966 already done\n",
      "5967 already done\n",
      "5968 already done\n",
      "5969 already done\n",
      "5970 already done\n",
      "5971 already done\n",
      "5972 already done\n",
      "5973 already done\n",
      "5974 already done\n",
      "5975 PACU1_5_200618_225353.vital... "
     ]
    },
    {
     "name": "stderr",
     "output_type": "stream",
     "text": [
      "/usr/local/lib/python3.6/dist-packages/ipykernel_launcher.py:25: RuntimeWarning: Mean of empty slice\n"
     ]
    },
    {
     "name": "stdout",
     "output_type": "stream",
     "text": [
      "...done\n",
      "5976 already done\n",
      "5977 already done\n",
      "5978 already done\n",
      "5979 already done\n",
      "5980 already done\n",
      "5981 PACU1_9_200619_112814.vital... "
     ]
    },
    {
     "name": "stderr",
     "output_type": "stream",
     "text": [
      "/usr/local/lib/python3.6/dist-packages/ipykernel_launcher.py:25: RuntimeWarning: Mean of empty slice\n"
     ]
    },
    {
     "name": "stdout",
     "output_type": "stream",
     "text": [
      "...done\n",
      "5982 already done\n",
      "5983 already done\n",
      "5984 already done\n",
      "5985 already done\n",
      "5986 already done\n",
      "5987 already done\n",
      "5988 already done\n",
      "5989 already done\n",
      "5990 already done\n",
      "5991 already done\n",
      "5992 already done\n",
      "5993 already done\n",
      "5994 already done\n",
      "5995 PACU1_7_200619_164807.vital... "
     ]
    },
    {
     "name": "stderr",
     "output_type": "stream",
     "text": [
      "/usr/local/lib/python3.6/dist-packages/ipykernel_launcher.py:25: RuntimeWarning: Mean of empty slice\n"
     ]
    },
    {
     "name": "stdout",
     "output_type": "stream",
     "text": [
      "...done\n",
      "5996 already done\n",
      "5997 already done\n",
      "5998 already done\n",
      "5999 already done\n",
      "6000 already done\n",
      "6001 already done\n",
      "6002 already done\n",
      "6003 already done\n",
      "6004 already done\n",
      "6005 already done\n",
      "6006 already done\n",
      "6007 already done\n",
      "6008 already done\n",
      "6009 already done\n",
      "6010 already done\n",
      "6011 already done\n",
      "6012 already done\n",
      "6013 already done\n",
      "6014 already done\n",
      "6015 already done\n",
      "6016 "
     ]
    },
    {
     "name": "stderr",
     "output_type": "stream",
     "text": [
      "/usr/local/lib/python3.6/dist-packages/ipykernel_launcher.py:25: RuntimeWarning: Mean of empty slice\n"
     ]
    },
    {
     "name": "stdout",
     "output_type": "stream",
     "text": [
      "PACU1_7_200623_093956.vital... ...done\n",
      "6017 already done\n",
      "6018 already done\n",
      "6019 already done\n",
      "6020 already done\n",
      "6021 already done\n",
      "6022 already done\n",
      "6023 already done\n",
      "6024 already done\n",
      "6025 already done\n",
      "6026 already done\n",
      "6027 already done\n",
      "6028 already done\n",
      "6029 PACU1_12_200623_152304.vital... "
     ]
    },
    {
     "name": "stderr",
     "output_type": "stream",
     "text": [
      "/usr/local/lib/python3.6/dist-packages/ipykernel_launcher.py:25: RuntimeWarning: Mean of empty slice\n"
     ]
    },
    {
     "name": "stdout",
     "output_type": "stream",
     "text": [
      "...done\n",
      "6030 already done\n",
      "6031 already done\n",
      "6032 already done\n",
      "6033 already done\n",
      "6034 already done\n",
      "6035 already done\n",
      "6036 already done\n",
      "6037 already done\n",
      "6038 already done\n",
      "6039 already done\n",
      "6040 already done\n",
      "6041 already done\n",
      "6042 PACU1_2_200623_223241.vital... "
     ]
    },
    {
     "name": "stderr",
     "output_type": "stream",
     "text": [
      "/usr/local/lib/python3.6/dist-packages/ipykernel_launcher.py:25: RuntimeWarning: Mean of empty slice\n"
     ]
    },
    {
     "name": "stdout",
     "output_type": "stream",
     "text": [
      "...done\n",
      "6043 already done\n",
      "6044 already done\n",
      "6045 already done\n",
      "6046 already done\n",
      "6047 already done\n",
      "6048 already done\n",
      "6049 already done\n",
      "6050 already done\n",
      "6051 already done\n",
      "6052 already done\n",
      "6053 already done\n",
      "6054 already done\n",
      "6055 already done\n",
      "6056 already done\n",
      "6057 PACU1_4_200624_133854.vital... "
     ]
    },
    {
     "name": "stderr",
     "output_type": "stream",
     "text": [
      "/usr/local/lib/python3.6/dist-packages/ipykernel_launcher.py:25: RuntimeWarning: Mean of empty slice\n"
     ]
    },
    {
     "name": "stdout",
     "output_type": "stream",
     "text": [
      "...done\n",
      "6058 already done\n",
      "6059 already done\n",
      "6060 already done\n",
      "6061 already done\n",
      "6062 already done\n",
      "6063 already done\n",
      "6064 already done\n",
      "6065 already done\n",
      "6066 already done\n",
      "6067 already done\n",
      "6068 already done\n",
      "6069 already done\n",
      "6070 already done\n",
      "6071 already done\n",
      "6072 already done\n",
      "6073 already done\n",
      "6074 PACU1_4_200625_090737.vital... "
     ]
    },
    {
     "name": "stderr",
     "output_type": "stream",
     "text": [
      "/usr/local/lib/python3.6/dist-packages/ipykernel_launcher.py:25: RuntimeWarning: Mean of empty slice\n"
     ]
    },
    {
     "name": "stdout",
     "output_type": "stream",
     "text": [
      "...done\n",
      "6075 already done\n",
      "6076 already done\n",
      "6077 already done\n",
      "6078 already done\n",
      "6079 already done\n",
      "6080 already done\n",
      "6081 already done\n",
      "6082 already done\n",
      "6083 already done\n",
      "6084 PACU1_5_200625_154758.vital... "
     ]
    },
    {
     "name": "stderr",
     "output_type": "stream",
     "text": [
      "/usr/local/lib/python3.6/dist-packages/ipykernel_launcher.py:25: RuntimeWarning: Mean of empty slice\n"
     ]
    },
    {
     "name": "stdout",
     "output_type": "stream",
     "text": [
      "...done\n",
      "6085 already done\n",
      "6086 already done\n",
      "6087 already done\n",
      "6088 already done\n",
      "6089 already done\n",
      "6090 already done\n",
      "6091 already done\n",
      "6092 already done\n",
      "6093 already done\n",
      "6094 already done\n",
      "6095 already done\n",
      "6096 already done\n",
      "6097 already done\n",
      "6098 already done\n",
      "6099 already done\n",
      "6100 already done\n",
      "6101 already done\n",
      "6102 already done\n",
      "6103 already done\n",
      "6104 already done\n",
      "6105 already done\n",
      "6106 already done\n",
      "6107 already done\n",
      "6108 already done\n",
      "6109 already done\n",
      "6110 already done\n",
      "6111 PACU1_4_200627_005300.vital... "
     ]
    },
    {
     "name": "stderr",
     "output_type": "stream",
     "text": [
      "/usr/local/lib/python3.6/dist-packages/ipykernel_launcher.py:25: RuntimeWarning: Mean of empty slice\n"
     ]
    },
    {
     "name": "stdout",
     "output_type": "stream",
     "text": [
      "...done\n",
      "6112 already done\n",
      "6113 already done\n",
      "6114 already done\n",
      "6115 already done\n",
      "6116 already done\n",
      "6117 already done\n",
      "6118 already done\n",
      "6119 already done\n",
      "6120 already done\n",
      "6121 already done\n",
      "6122 already done\n",
      "6123 already done\n",
      "6124 already done\n",
      "6125 already done\n",
      "6126 already done\n",
      "6127 already done\n",
      "6128 already done\n",
      "6129 already done\n",
      "6130 already done\n",
      "6131 already done\n",
      "6132 already done\n",
      "6133 already done\n",
      "6134 already done\n",
      "6135 already done\n",
      "6136 already done\n",
      "6137 already done\n",
      "6138 already done\n",
      "6139 already done\n",
      "6140 already done\n",
      "6141 already done\n",
      "6142 already done\n",
      "6143 already done\n",
      "6144 already done\n",
      "6145 already done\n",
      "6146 already done\n",
      "6147 PACU1_2_200630_154304.vital... "
     ]
    },
    {
     "name": "stderr",
     "output_type": "stream",
     "text": [
      "/usr/local/lib/python3.6/dist-packages/ipykernel_launcher.py:25: RuntimeWarning: Mean of empty slice\n"
     ]
    },
    {
     "name": "stdout",
     "output_type": "stream",
     "text": [
      "...done\n",
      "6148 already done\n",
      "6149 already done\n",
      "6150 already done\n",
      "6151 already done\n",
      "6152 already done\n",
      "6153 already done\n",
      "6154 already done\n",
      "6155 already done\n",
      "6156 already done\n",
      "6157 already done\n",
      "6158 already done\n",
      "6159 already done\n",
      "6160 already done\n",
      "6161 already done\n",
      "6162 already done\n",
      "6163 already done\n",
      "6164 already done\n",
      "6165 PACU1_2_200701_110415.vital... "
     ]
    },
    {
     "name": "stderr",
     "output_type": "stream",
     "text": [
      "/usr/local/lib/python3.6/dist-packages/ipykernel_launcher.py:25: RuntimeWarning: Mean of empty slice\n"
     ]
    },
    {
     "name": "stdout",
     "output_type": "stream",
     "text": [
      "...done\n",
      "6166 already done\n",
      "6167 already done\n",
      "6168 already done\n",
      "6169 already done\n",
      "6170 PACU1_6_200701_122322.vital... "
     ]
    },
    {
     "name": "stderr",
     "output_type": "stream",
     "text": [
      "/usr/local/lib/python3.6/dist-packages/ipykernel_launcher.py:25: RuntimeWarning: Mean of empty slice\n"
     ]
    },
    {
     "name": "stdout",
     "output_type": "stream",
     "text": [
      "...done\n",
      "6171 already done\n",
      "6172 already done\n",
      "6173 already done\n",
      "6174 already done\n",
      "6175 already done\n",
      "6176 already done\n",
      "6177 already done\n",
      "6178 already done\n",
      "6179 already done\n",
      "6180 already done\n",
      "6181 already done\n",
      "6182 already done\n",
      "6183 already done\n",
      "6184 already done\n",
      "6185 already done\n",
      "6186 already done\n",
      "6187 already done\n",
      "6188 already done\n",
      "6189 already done\n",
      "6190 already done\n",
      "6191 already done\n",
      "6192 already done\n",
      "6193 already done\n",
      "6194 already done\n",
      "6195 already done\n",
      "6196 already done\n",
      "6197 already done\n",
      "6198 already done\n",
      "6199 already done\n",
      "6200 PACU1_4_200702_134448.vital... "
     ]
    },
    {
     "name": "stderr",
     "output_type": "stream",
     "text": [
      "/usr/local/lib/python3.6/dist-packages/ipykernel_launcher.py:25: RuntimeWarning: Mean of empty slice\n"
     ]
    },
    {
     "name": "stdout",
     "output_type": "stream",
     "text": [
      "...done\n",
      "6201 already done\n",
      "6202 already done\n",
      "6203 already done\n",
      "6204 already done\n",
      "6205 already done\n",
      "6206 already done\n",
      "6207 already done\n",
      "6208 already done\n",
      "6209 already done\n",
      "6210 already done\n",
      "6211 already done\n",
      "6212 already done\n",
      "6213 already done\n",
      "6214 PACU1_2_200703_115830.vital... "
     ]
    },
    {
     "name": "stderr",
     "output_type": "stream",
     "text": [
      "/usr/local/lib/python3.6/dist-packages/ipykernel_launcher.py:25: RuntimeWarning: Mean of empty slice\n"
     ]
    },
    {
     "name": "stdout",
     "output_type": "stream",
     "text": [
      "...done\n",
      "6215 already done\n",
      "6216 already done\n",
      "6217 already done\n",
      "6218 PACU1_7_200703_140756.vital... "
     ]
    },
    {
     "name": "stderr",
     "output_type": "stream",
     "text": [
      "/usr/local/lib/python3.6/dist-packages/ipykernel_launcher.py:25: RuntimeWarning: Mean of empty slice\n"
     ]
    },
    {
     "name": "stdout",
     "output_type": "stream",
     "text": [
      "...done\n",
      "6219 already done\n",
      "6220 already done\n",
      "6221 already done\n",
      "6222 already done\n",
      "6223 already done\n",
      "6224 already done\n",
      "6225 already done\n",
      "6226 already done\n",
      "6227 already done\n",
      "6228 already done\n",
      "6229 already done\n",
      "6230 already done\n",
      "6231 already done\n",
      "6232 already done\n",
      "6233 already done\n",
      "6234 already done\n",
      "6235 already done\n",
      "6236 already done\n",
      "6237 already done\n",
      "6238 already done\n",
      "6239 already done\n",
      "6240 already done\n",
      "6241 already done\n",
      "6242 already done\n",
      "6243 already done\n",
      "6244 already done\n",
      "6245 already done\n",
      "6246 already done\n",
      "6247 already done\n",
      "6248 PACU1_12_200706_155300.vital... "
     ]
    },
    {
     "name": "stderr",
     "output_type": "stream",
     "text": [
      "/usr/local/lib/python3.6/dist-packages/ipykernel_launcher.py:25: RuntimeWarning: Mean of empty slice\n"
     ]
    },
    {
     "name": "stdout",
     "output_type": "stream",
     "text": [
      "...done\n",
      "6249 already done\n",
      "6250 already done\n",
      "6251 already done\n",
      "6252 already done\n",
      "6253 already done\n",
      "6254 already done\n",
      "6255 already done\n",
      "6256 already done\n",
      "6257 already done\n",
      "6258 already done\n",
      "6259 already done\n",
      "6260 already done\n",
      "6261 already done\n",
      "6262 already done\n",
      "6263 already done\n",
      "6264 already done\n",
      "6265 already done\n",
      "6266 already done\n",
      "6267 already done\n",
      "6268 already done\n",
      "6269 already done\n",
      "6270 already done\n",
      "6271 already done\n",
      "6272 PACU1_7_200707_115317.vital... "
     ]
    },
    {
     "name": "stderr",
     "output_type": "stream",
     "text": [
      "/usr/local/lib/python3.6/dist-packages/ipykernel_launcher.py:25: RuntimeWarning: Mean of empty slice\n"
     ]
    },
    {
     "name": "stdout",
     "output_type": "stream",
     "text": [
      "...done\n",
      "6273 already done\n",
      "6274 already done\n",
      "6275 already done\n",
      "6276 already done\n",
      "6277 already done\n",
      "6278 already done\n",
      "6279 PACU1_5_200707_135803.vital... "
     ]
    },
    {
     "name": "stderr",
     "output_type": "stream",
     "text": [
      "/usr/local/lib/python3.6/dist-packages/ipykernel_launcher.py:25: RuntimeWarning: Mean of empty slice\n"
     ]
    },
    {
     "name": "stdout",
     "output_type": "stream",
     "text": [
      "...done\n",
      "6280 already done\n",
      "6281 already done\n",
      "6282 already done\n",
      "6283 already done\n",
      "6284 already done\n",
      "6285 already done\n",
      "6286 already done\n",
      "6287 PACU1_4_200707_195732.vital... "
     ]
    },
    {
     "name": "stderr",
     "output_type": "stream",
     "text": [
      "/usr/local/lib/python3.6/dist-packages/ipykernel_launcher.py:25: RuntimeWarning: Mean of empty slice\n"
     ]
    },
    {
     "name": "stdout",
     "output_type": "stream",
     "text": [
      "...done\n",
      "6288 already done\n",
      "6289 already done\n",
      "6290 already done\n",
      "6291 already done\n",
      "6292 already done\n",
      "6293 already done\n",
      "6294 already done\n",
      "6295 already done\n",
      "6296 already done\n",
      "6297 already done\n",
      "6298 already done\n",
      "6299 already done\n",
      "6300 already done\n",
      "6301 already done\n",
      "6302 already done\n",
      "6303 already done\n",
      "6304 already done\n",
      "6305 PACU1_9_200708_153857.vital... "
     ]
    },
    {
     "name": "stderr",
     "output_type": "stream",
     "text": [
      "/usr/local/lib/python3.6/dist-packages/ipykernel_launcher.py:25: RuntimeWarning: Mean of empty slice\n"
     ]
    },
    {
     "name": "stdout",
     "output_type": "stream",
     "text": [
      "...done\n",
      "6306 already done\n",
      "6307 already done\n",
      "6308 already done\n",
      "6309 already done\n",
      "6310 already done\n",
      "6311 already done\n",
      "6312 already done\n",
      "6313 already done\n",
      "6314 already done\n",
      "6315 already done\n",
      "6316 already done\n",
      "6317 already done\n",
      "6318 already done\n",
      "6319 already done\n",
      "6320 PACU1_4_200710_084244.vital... "
     ]
    },
    {
     "name": "stderr",
     "output_type": "stream",
     "text": [
      "/usr/local/lib/python3.6/dist-packages/ipykernel_launcher.py:25: RuntimeWarning: Mean of empty slice\n"
     ]
    },
    {
     "name": "stdout",
     "output_type": "stream",
     "text": [
      "...done\n",
      "6321 already done\n",
      "6322 already done\n",
      "6323 already done\n",
      "6324 already done\n",
      "6325 already done\n",
      "6326 already done\n",
      "6327 already done\n",
      "6328 PACU1_7_200710_114423.vital... "
     ]
    },
    {
     "name": "stderr",
     "output_type": "stream",
     "text": [
      "/usr/local/lib/python3.6/dist-packages/ipykernel_launcher.py:25: RuntimeWarning: Mean of empty slice\n"
     ]
    },
    {
     "name": "stdout",
     "output_type": "stream",
     "text": [
      "...done\n",
      "6329 already done\n",
      "6330 already done\n",
      "6331 already done\n",
      "6332 already done\n",
      "6333 already done\n",
      "6334 already done\n",
      "6335 already done\n",
      "6336 already done\n",
      "6337 already done\n",
      "6338 already done\n",
      "6339 already done\n",
      "6340 already done\n",
      "6341 already done\n",
      "6342 already done\n",
      "6343 already done\n",
      "6344 already done\n",
      "6345 already done\n",
      "6346 already done\n",
      "6347 already done\n",
      "6348 already done\n",
      "6349 already done\n",
      "6350 already done\n",
      "6351 already done\n",
      "6352 already done\n",
      "6353 already done\n",
      "6354 already done\n",
      "6355 already done\n",
      "6356 PACU1_9_200714_101746.vital... "
     ]
    },
    {
     "name": "stderr",
     "output_type": "stream",
     "text": [
      "/usr/local/lib/python3.6/dist-packages/ipykernel_launcher.py:25: RuntimeWarning: Mean of empty slice\n"
     ]
    },
    {
     "name": "stdout",
     "output_type": "stream",
     "text": [
      "...done\n",
      "6357 already done\n",
      "6358 already done\n",
      "6359 already done\n",
      "6360 already done\n",
      "6361 already done\n",
      "6362 already done\n",
      "6363 already done\n",
      "6364 already done\n",
      "6365 already done\n",
      "6366 already done\n",
      "6367 already done\n",
      "6368 already done\n",
      "6369 already done\n",
      "6370 already done\n",
      "6371 already done\n",
      "6372 already done\n",
      "6373 already done\n",
      "6374 already done\n",
      "6375 PACU1_4_200714_135900.vital... "
     ]
    },
    {
     "name": "stderr",
     "output_type": "stream",
     "text": [
      "/usr/local/lib/python3.6/dist-packages/ipykernel_launcher.py:25: RuntimeWarning: Mean of empty slice\n"
     ]
    },
    {
     "name": "stdout",
     "output_type": "stream",
     "text": [
      "...done\n",
      "6376 already done\n",
      "6377 already done\n",
      "6378 already done\n",
      "6379 already done\n",
      "6380 already done\n",
      "6381 already done\n",
      "6382 already done\n",
      "6383 already done\n",
      "6384 PACU1_11_200714_160812.vital... "
     ]
    },
    {
     "name": "stderr",
     "output_type": "stream",
     "text": [
      "/usr/local/lib/python3.6/dist-packages/ipykernel_launcher.py:25: RuntimeWarning: Mean of empty slice\n"
     ]
    },
    {
     "name": "stdout",
     "output_type": "stream",
     "text": [
      "...done\n",
      "6385 already done\n",
      "6386 already done\n",
      "6387 already done\n",
      "6388 already done\n",
      "6389 PACU1_5_200714_165941.vital... "
     ]
    },
    {
     "name": "stderr",
     "output_type": "stream",
     "text": [
      "/usr/local/lib/python3.6/dist-packages/ipykernel_launcher.py:25: RuntimeWarning: Mean of empty slice\n"
     ]
    },
    {
     "name": "stdout",
     "output_type": "stream",
     "text": [
      "...done\n",
      "6390 already done\n",
      "6392 already done\n",
      "6394 already done\n",
      "6395 already done\n",
      "6396 already done\n",
      "6397 already done\n",
      "6398 already done\n",
      "6399 already done\n",
      "6400 already done\n",
      "6401 already done\n",
      "6402 already done\n",
      "6403 already done\n",
      "6404 already done\n",
      "6405 already done\n",
      "6406 already done\n",
      "6407 already done\n",
      "6408 already done\n",
      "6409 already done\n",
      "6411 already done\n",
      "6412 already done\n",
      "6413 PACU1_9_200715_102917.vital... "
     ]
    },
    {
     "name": "stderr",
     "output_type": "stream",
     "text": [
      "/usr/local/lib/python3.6/dist-packages/ipykernel_launcher.py:25: RuntimeWarning: Mean of empty slice\n"
     ]
    },
    {
     "name": "stdout",
     "output_type": "stream",
     "text": [
      "...done\n",
      "6414 already done\n",
      "6415 already done\n",
      "6416 already done\n",
      "6417 already done\n",
      "6418 already done\n",
      "6419 already done\n",
      "6420 already done\n",
      "6421 already done\n",
      "6422 already done\n",
      "6423 already done\n",
      "6424 already done\n",
      "6425 already done\n",
      "6426 already done\n",
      "6427 already done\n",
      "6428 already done\n",
      "6429 already done\n",
      "6430 already done\n",
      "6431 PACU1_11_200715_145822.vital... "
     ]
    },
    {
     "name": "stderr",
     "output_type": "stream",
     "text": [
      "/usr/local/lib/python3.6/dist-packages/ipykernel_launcher.py:25: RuntimeWarning: Mean of empty slice\n"
     ]
    },
    {
     "name": "stdout",
     "output_type": "stream",
     "text": [
      "...done\n",
      "6432 already done\n",
      "6433 already done\n",
      "6434 already done\n",
      "6435 PACU1_9_200715_160746.vital... "
     ]
    },
    {
     "name": "stderr",
     "output_type": "stream",
     "text": [
      "/usr/local/lib/python3.6/dist-packages/ipykernel_launcher.py:25: RuntimeWarning: Mean of empty slice\n"
     ]
    },
    {
     "name": "stdout",
     "output_type": "stream",
     "text": [
      "...done\n",
      "6436 already done\n",
      "6437 already done\n",
      "6438 already done\n",
      "6439 already done\n",
      "6440 already done\n",
      "6441 already done\n",
      "6442 already done\n",
      "6443 already done\n",
      "6444 already done\n",
      "6445 already done\n",
      "6446 already done\n",
      "6447 already done\n",
      "6448 already done\n",
      "6449 PACU1_1_200715_193336.vital... "
     ]
    },
    {
     "name": "stderr",
     "output_type": "stream",
     "text": [
      "/usr/local/lib/python3.6/dist-packages/ipykernel_launcher.py:25: RuntimeWarning: Mean of empty slice\n"
     ]
    },
    {
     "name": "stdout",
     "output_type": "stream",
     "text": [
      "...done\n",
      "6450 already done\n",
      "6451 already done\n",
      "6452 already done\n",
      "6453 already done\n",
      "6454 already done\n",
      "6455 already done\n",
      "6456 PACU1_4_200716_095958.vital... "
     ]
    },
    {
     "name": "stderr",
     "output_type": "stream",
     "text": [
      "/usr/local/lib/python3.6/dist-packages/ipykernel_launcher.py:25: RuntimeWarning: Mean of empty slice\n"
     ]
    },
    {
     "name": "stdout",
     "output_type": "stream",
     "text": [
      "...done\n",
      "6457 already done\n",
      "6458 already done\n",
      "6459 already done\n",
      "6460 already done\n",
      "6461 already done\n",
      "6462 already done\n",
      "6463 already done\n",
      "6464 already done\n",
      "6465 already done\n",
      "6466 already done\n",
      "6467 already done\n",
      "6468 PACU1_12_200716_125232.vital... "
     ]
    },
    {
     "name": "stderr",
     "output_type": "stream",
     "text": [
      "/usr/local/lib/python3.6/dist-packages/ipykernel_launcher.py:25: RuntimeWarning: Mean of empty slice\n"
     ]
    },
    {
     "name": "stdout",
     "output_type": "stream",
     "text": [
      "...done\n",
      "6469 already done\n",
      "6470 already done\n",
      "6471 already done\n",
      "6472 already done\n",
      "6473 already done\n",
      "6474 already done\n",
      "6475 already done\n",
      "6476 already done\n",
      "6477 already done\n",
      "6478 already done\n",
      "6479 already done\n",
      "6480 already done\n",
      "6481 already done\n",
      "6482 already done\n",
      "6483 already done\n",
      "6484 already done\n",
      "6485 already done\n",
      "6486 already done\n",
      "6487 already done\n",
      "6488 already done\n",
      "6489 already done\n",
      "6490 already done\n",
      "6491 PACU1_1_200716_174742.vital... "
     ]
    },
    {
     "name": "stderr",
     "output_type": "stream",
     "text": [
      "/usr/local/lib/python3.6/dist-packages/ipykernel_launcher.py:25: RuntimeWarning: Mean of empty slice\n"
     ]
    },
    {
     "name": "stdout",
     "output_type": "stream",
     "text": [
      "...done\n",
      "6492 already done\n",
      "6493 PACU1_1_200716_212744.vital... "
     ]
    },
    {
     "name": "stderr",
     "output_type": "stream",
     "text": [
      "/usr/local/lib/python3.6/dist-packages/ipykernel_launcher.py:25: RuntimeWarning: Mean of empty slice\n"
     ]
    },
    {
     "name": "stdout",
     "output_type": "stream",
     "text": [
      "...done\n",
      "6494 already done\n",
      "6495 already done\n",
      "6496 already done\n",
      "6497 already done\n",
      "6498 already done\n",
      "6499 already done\n",
      "6500 already done\n",
      "6501 already done\n",
      "6502 already done\n",
      "6503 already done\n",
      "6504 already done\n",
      "6505 already done\n",
      "6506 already done\n",
      "6507 already done\n",
      "6508 already done\n",
      "6509 already done\n",
      "6510 already done\n",
      "6511 already done\n",
      "6512 PACU1_7_200717_134953.vital... "
     ]
    },
    {
     "name": "stderr",
     "output_type": "stream",
     "text": [
      "/usr/local/lib/python3.6/dist-packages/ipykernel_launcher.py:25: RuntimeWarning: Mean of empty slice\n"
     ]
    },
    {
     "name": "stdout",
     "output_type": "stream",
     "text": [
      "...done\n",
      "6513 already done\n",
      "6514 already done\n",
      "6515 already done\n",
      "6516 already done\n",
      "6517 already done\n",
      "6518 already done\n",
      "6519 already done\n",
      "6520 already done\n",
      "6521 already done\n",
      "6522 already done\n",
      "6523 "
     ]
    },
    {
     "name": "stderr",
     "output_type": "stream",
     "text": [
      "/usr/local/lib/python3.6/dist-packages/ipykernel_launcher.py:25: RuntimeWarning: Mean of empty slice\n"
     ]
    },
    {
     "name": "stdout",
     "output_type": "stream",
     "text": [
      "PACU1_2_200717_152318.vital... ...done\n",
      "6524 already done\n",
      "6525 already done\n",
      "6526 already done\n",
      "6527 PACU1_3_200717_160323.vital... "
     ]
    },
    {
     "name": "stderr",
     "output_type": "stream",
     "text": [
      "/usr/local/lib/python3.6/dist-packages/ipykernel_launcher.py:25: RuntimeWarning: Mean of empty slice\n"
     ]
    },
    {
     "name": "stdout",
     "output_type": "stream",
     "text": [
      "...done\n",
      "6528 already done\n",
      "6529 already done\n",
      "6530 PACU1_7_200717_162235.vital... "
     ]
    },
    {
     "name": "stderr",
     "output_type": "stream",
     "text": [
      "/usr/local/lib/python3.6/dist-packages/ipykernel_launcher.py:25: RuntimeWarning: Mean of empty slice\n"
     ]
    },
    {
     "name": "stdout",
     "output_type": "stream",
     "text": [
      "...done\n",
      "6531 already done\n",
      "6532 already done\n",
      "6533 already done\n",
      "6534 already done\n",
      "6535 already done\n",
      "6536 already done\n",
      "6537 already done\n",
      "6538 already done\n",
      "6539 already done\n",
      "6540 already done\n",
      "6541 already done\n",
      "6542 already done\n",
      "6543 already done\n",
      "6544 already done\n",
      "6545 PACU1_7_200720_125233.vital... "
     ]
    },
    {
     "name": "stderr",
     "output_type": "stream",
     "text": [
      "/usr/local/lib/python3.6/dist-packages/ipykernel_launcher.py:25: RuntimeWarning: Mean of empty slice\n"
     ]
    },
    {
     "name": "stdout",
     "output_type": "stream",
     "text": [
      "...done\n",
      "6546 already done\n",
      "6547 already done\n",
      "6548 already done\n",
      "6549 already done\n",
      "6550 already done\n",
      "6551 already done\n",
      "6552 already done\n",
      "6553 already done\n",
      "6554 already done\n",
      "6555 already done\n",
      "6556 already done\n",
      "6557 already done\n",
      "6558 already done\n",
      "6559 already done\n",
      "6560 already done\n",
      "6561 already done\n",
      "6562 already done\n",
      "6563 already done\n",
      "6564 already done\n",
      "6565 already done\n",
      "6566 already done\n",
      "6567 already done\n",
      "6568 already done\n",
      "6569 already done\n",
      "6570 already done\n",
      "6571 already done\n",
      "6572 PACU1_1_200721_174447.vital... "
     ]
    },
    {
     "name": "stderr",
     "output_type": "stream",
     "text": [
      "/usr/local/lib/python3.6/dist-packages/ipykernel_launcher.py:25: RuntimeWarning: Mean of empty slice\n"
     ]
    },
    {
     "name": "stdout",
     "output_type": "stream",
     "text": [
      "...done\n",
      "6573 already done\n",
      "6574 already done\n",
      "6575 already done\n",
      "6576 already done\n",
      "6577 already done\n",
      "6578 already done\n",
      "6579 already done\n",
      "6580 already done\n",
      "6581 already done\n",
      "6582 already done\n",
      "6583 already done\n",
      "6584 already done\n",
      "6585 PACU1_7_200722_121843.vital... "
     ]
    },
    {
     "name": "stderr",
     "output_type": "stream",
     "text": [
      "/usr/local/lib/python3.6/dist-packages/ipykernel_launcher.py:25: RuntimeWarning: Mean of empty slice\n"
     ]
    },
    {
     "name": "stdout",
     "output_type": "stream",
     "text": [
      "...done\n",
      "6586 already done\n",
      "6587 already done\n",
      "6588 already done\n",
      "6589 already done\n",
      "6590 already done\n",
      "6591 already done\n",
      "6592 already done\n",
      "6593 already done\n",
      "6594 already done\n",
      "6595 already done\n",
      "6596 already done\n",
      "6597 already done\n",
      "6598 already done\n",
      "6599 already done\n",
      "6600 already done\n",
      "6601 already done\n",
      "6602 already done\n",
      "6603 already done\n",
      "6604 already done\n",
      "6605 already done\n",
      "6606 already done\n",
      "6607 already done\n",
      "6608 already done\n",
      "6609 already done\n",
      "6610 already done\n",
      "6611 already done\n",
      "6612 already done\n",
      "6613 already done\n",
      "6614 already done\n",
      "6615 already done\n",
      "6616 already done\n",
      "6617 already done\n",
      "6618 already done\n",
      "6619 already done\n",
      "6620 already done\n",
      "6621 already done\n",
      "6622 already done\n",
      "6623 PACU1_1_200723_211733.vital... "
     ]
    },
    {
     "name": "stderr",
     "output_type": "stream",
     "text": [
      "/usr/local/lib/python3.6/dist-packages/ipykernel_launcher.py:25: RuntimeWarning: Mean of empty slice\n"
     ]
    },
    {
     "name": "stdout",
     "output_type": "stream",
     "text": [
      "...done\n",
      "6624 already done\n",
      "6625 already done\n",
      "6626 already done\n",
      "6627 already done\n",
      "6628 already done\n",
      "6629 already done\n",
      "6630 already done\n",
      "6631 already done\n",
      "6632 already done\n",
      "6633 already done\n",
      "6634 already done\n",
      "6635 already done\n",
      "6636 already done\n",
      "6637 already done\n",
      "6638 already done\n",
      "6639 already done\n",
      "6640 already done\n",
      "6641 already done\n",
      "6642 already done\n",
      "6643 already done\n",
      "6644 already done\n",
      "6645 PACU1_11_200724_152334.vital... "
     ]
    },
    {
     "name": "stderr",
     "output_type": "stream",
     "text": [
      "/usr/local/lib/python3.6/dist-packages/ipykernel_launcher.py:25: RuntimeWarning: Mean of empty slice\n"
     ]
    },
    {
     "name": "stdout",
     "output_type": "stream",
     "text": [
      "...done\n",
      "6646 already done\n",
      "6647 already done\n",
      "6648 already done\n",
      "6649 already done\n",
      "6650 already done\n",
      "6651 PACU1_4_200724_161340.vital... "
     ]
    },
    {
     "name": "stderr",
     "output_type": "stream",
     "text": [
      "/usr/local/lib/python3.6/dist-packages/ipykernel_launcher.py:25: RuntimeWarning: Mean of empty slice\n"
     ]
    },
    {
     "name": "stdout",
     "output_type": "stream",
     "text": [
      "...done\n",
      "6652 already done\n",
      "6653 already done\n",
      "6654 already done\n",
      "6655 already done\n",
      "6656 already done\n",
      "6657 already done\n",
      "6658 already done\n",
      "6659 already done\n",
      "6660 already done\n",
      "6661 already done\n",
      "6662 already done\n",
      "6663 already done\n",
      "6664 PACU1_3_200727_024433.vital... "
     ]
    },
    {
     "name": "stderr",
     "output_type": "stream",
     "text": [
      "/usr/local/lib/python3.6/dist-packages/ipykernel_launcher.py:25: RuntimeWarning: Mean of empty slice\n"
     ]
    },
    {
     "name": "stdout",
     "output_type": "stream",
     "text": [
      "...done\n",
      "6665 already done\n",
      "6666 already done\n",
      "6667 already done\n",
      "6668 already done\n",
      "6669 already done\n",
      "6670 already done\n",
      "6671 already done\n",
      "6672 already done\n",
      "6673 already done\n",
      "6674 already done\n",
      "6675 already done\n",
      "6676 already done\n",
      "6677 already done\n",
      "6678 already done\n",
      "6679 already done\n",
      "6680 PACU1_1_200727_162858.vital... "
     ]
    },
    {
     "name": "stderr",
     "output_type": "stream",
     "text": [
      "/usr/local/lib/python3.6/dist-packages/ipykernel_launcher.py:25: RuntimeWarning: Mean of empty slice\n"
     ]
    },
    {
     "name": "stdout",
     "output_type": "stream",
     "text": [
      "...done\n",
      "6681 already done\n",
      "6682 already done\n",
      "6683 already done\n",
      "6684 already done\n",
      "6685 already done\n",
      "6686 already done\n",
      "6687 already done\n",
      "6688 already done\n",
      "6689 already done\n",
      "6690 already done\n",
      "6691 already done\n",
      "6692 already done\n",
      "6693 already done\n",
      "6694 already done\n",
      "6695 already done\n",
      "6696 already done\n",
      "6697 already done\n",
      "6698 already done\n",
      "6699 already done\n",
      "6700 already done\n",
      "6701 already done\n",
      "6702 already done\n",
      "6703 already done\n",
      "6704 already done\n",
      "6705 already done\n",
      "6706 already done\n",
      "6707 PACU1_7_200729_084603.vital... "
     ]
    },
    {
     "name": "stderr",
     "output_type": "stream",
     "text": [
      "/usr/local/lib/python3.6/dist-packages/ipykernel_launcher.py:25: RuntimeWarning: Mean of empty slice\n"
     ]
    },
    {
     "name": "stdout",
     "output_type": "stream",
     "text": [
      "...done\n",
      "6708 already done\n",
      "6709 already done\n",
      "6710 already done\n",
      "6711 already done\n",
      "6712 already done\n",
      "6713 already done\n",
      "6714 PACU1_3_200729_125451.vital... "
     ]
    },
    {
     "name": "stderr",
     "output_type": "stream",
     "text": [
      "/usr/local/lib/python3.6/dist-packages/ipykernel_launcher.py:25: RuntimeWarning: Mean of empty slice\n"
     ]
    },
    {
     "name": "stdout",
     "output_type": "stream",
     "text": [
      "...done\n",
      "6715 PACU1_11_200729_131331.vital... "
     ]
    },
    {
     "name": "stderr",
     "output_type": "stream",
     "text": [
      "/usr/local/lib/python3.6/dist-packages/ipykernel_launcher.py:25: RuntimeWarning: Mean of empty slice\n"
     ]
    },
    {
     "name": "stdout",
     "output_type": "stream",
     "text": [
      "...done\n",
      "6716 already done\n",
      "6717 already done\n",
      "6718 already done\n",
      "6719 already done\n",
      "6720 already done\n",
      "6721 already done\n",
      "6722 already done\n",
      "6723 already done\n",
      "6724 already done\n",
      "6725 already done\n",
      "6726 already done\n",
      "6727 already done\n",
      "6728 already done\n",
      "6729 already done\n",
      "6730 already done\n",
      "6731 already done\n",
      "6732 already done\n",
      "6733 already done\n",
      "6734 already done\n",
      "6735 already done\n",
      "6736 already done\n",
      "6737 already done\n",
      "6738 already done\n",
      "6739 already done\n",
      "6740 already done\n",
      "6741 already done\n",
      "6742 PACU1_11_200730_144335.vital... "
     ]
    },
    {
     "name": "stderr",
     "output_type": "stream",
     "text": [
      "/usr/local/lib/python3.6/dist-packages/ipykernel_launcher.py:25: RuntimeWarning: Mean of empty slice\n"
     ]
    },
    {
     "name": "stdout",
     "output_type": "stream",
     "text": [
      "...done\n",
      "6743 PACU1_6_200730_144827.vital... "
     ]
    },
    {
     "name": "stderr",
     "output_type": "stream",
     "text": [
      "/usr/local/lib/python3.6/dist-packages/ipykernel_launcher.py:25: RuntimeWarning: Mean of empty slice\n"
     ]
    },
    {
     "name": "stdout",
     "output_type": "stream",
     "text": [
      "...done\n",
      "6744 already done\n",
      "6745 already done\n",
      "6746 already done\n",
      "6747 already done\n",
      "6748 already done\n",
      "6749 already done\n",
      "6750 already done\n",
      "6751 already done\n",
      "6752 already done\n",
      "6753 already done\n",
      "6754 already done\n",
      "6755 already done\n",
      "6756 already done\n",
      "6757 already done\n",
      "6758 already done\n",
      "6759 already done\n",
      "6760 already done\n",
      "6761 already done\n",
      "6762 already done\n",
      "6763 PACU1_1_200731_115835.vital... "
     ]
    },
    {
     "name": "stderr",
     "output_type": "stream",
     "text": [
      "/usr/local/lib/python3.6/dist-packages/ipykernel_launcher.py:25: RuntimeWarning: Mean of empty slice\n"
     ]
    },
    {
     "name": "stdout",
     "output_type": "stream",
     "text": [
      "...done\n",
      "6764 already done\n",
      "6765 already done\n",
      "6766 already done\n",
      "6767 already done\n",
      "6768 already done\n",
      "6769 already done\n",
      "6770 already done\n",
      "6771 already done\n",
      "6772 already done\n",
      "6773 already done\n",
      "6774 already done\n",
      "6775 already done\n",
      "6776 already done\n",
      "6777 already done\n",
      "6778 already done\n",
      "6779 already done\n",
      "6780 already done\n",
      "6781 already done\n",
      "6782 PACU1_3_200731_185547.vital... "
     ]
    },
    {
     "name": "stderr",
     "output_type": "stream",
     "text": [
      "/usr/local/lib/python3.6/dist-packages/ipykernel_launcher.py:25: RuntimeWarning: Mean of empty slice\n"
     ]
    },
    {
     "name": "stdout",
     "output_type": "stream",
     "text": [
      "...done\n",
      "6783 already done\n",
      "6784 already done\n",
      "6785 already done\n",
      "6786 PACU1_6_200803_092842.vital... "
     ]
    },
    {
     "name": "stderr",
     "output_type": "stream",
     "text": [
      "/usr/local/lib/python3.6/dist-packages/ipykernel_launcher.py:25: RuntimeWarning: Mean of empty slice\n"
     ]
    },
    {
     "name": "stdout",
     "output_type": "stream",
     "text": [
      "...done\n",
      "6787 already done\n",
      "6788 already done\n",
      "6789 already done\n",
      "6790 already done\n",
      "6791 already done\n",
      "6792 already done\n",
      "6793 already done\n",
      "6794 already done\n",
      "6795 already done\n",
      "6796 already done\n",
      "6797 already done\n",
      "6798 already done\n",
      "6799 already done\n",
      "6800 already done\n",
      "6801 already done\n",
      "6802 already done\n",
      "6803 already done\n",
      "6804 already done\n",
      "6805 already done\n",
      "6806 already done\n",
      "6807 already done\n",
      "6808 already done\n",
      "6809 already done\n",
      "6810 already done\n",
      "6811 already done\n",
      "6812 already done\n",
      "6813 already done\n",
      "6814 already done\n",
      "6815 already done\n",
      "6816 already done\n",
      "6817 already done\n",
      "6818 already done\n",
      "6819 already done\n",
      "6820 already done\n",
      "6821 already done\n",
      "6822 already done\n",
      "6823 already done\n",
      "6824 already done\n",
      "6825 already done\n",
      "6826 already done\n",
      "6827 already done\n",
      "6828 already done\n",
      "6829 already done\n",
      "6830 already done\n",
      "6831 already done\n",
      "6832 already done\n",
      "6833 already done\n",
      "6834 already done\n",
      "6835 already done\n",
      "6836 already done\n",
      "6837 already done\n",
      "6838 already done\n",
      "6839 PACU1_1_200805_140602.vital... "
     ]
    },
    {
     "name": "stderr",
     "output_type": "stream",
     "text": [
      "/usr/local/lib/python3.6/dist-packages/ipykernel_launcher.py:25: RuntimeWarning: Mean of empty slice\n"
     ]
    },
    {
     "name": "stdout",
     "output_type": "stream",
     "text": [
      "...done\n",
      "6840 already done\n",
      "6841 already done\n",
      "6842 already done\n",
      "6843 already done\n",
      "6844 already done\n",
      "6845 already done\n",
      "6846 PACU1_11_200805_165907.vital... "
     ]
    },
    {
     "name": "stderr",
     "output_type": "stream",
     "text": [
      "/usr/local/lib/python3.6/dist-packages/ipykernel_launcher.py:25: RuntimeWarning: Mean of empty slice\n"
     ]
    },
    {
     "name": "stdout",
     "output_type": "stream",
     "text": [
      "...done\n",
      "6847 already done\n",
      "6848 already done\n",
      "6849 already done\n",
      "6850 already done\n",
      "6851 already done\n",
      "6852 already done\n",
      "6853 already done\n",
      "6854 already done\n",
      "6855 already done\n",
      "6856 already done\n",
      "6857 PACU1_6_200806_094740.vital... "
     ]
    },
    {
     "name": "stderr",
     "output_type": "stream",
     "text": [
      "/usr/local/lib/python3.6/dist-packages/ipykernel_launcher.py:25: RuntimeWarning: Mean of empty slice\n"
     ]
    },
    {
     "name": "stdout",
     "output_type": "stream",
     "text": [
      "...done\n",
      "6858 already done\n",
      "6859 already done\n",
      "6860 already done\n",
      "6861 already done\n",
      "6862 already done\n",
      "6863 already done\n",
      "6864 already done\n",
      "6865 already done\n",
      "6866 already done\n",
      "6867 already done\n",
      "6868 already done\n",
      "6869 already done\n",
      "6870 already done\n",
      "6871 already done\n",
      "6872 already done\n",
      "6873 already done\n",
      "6874 already done\n",
      "6875 already done\n",
      "6876 already done\n",
      "6877 already done\n",
      "6878 already done\n",
      "6879 already done\n",
      "6880 already done\n",
      "6881 already done\n",
      "6882 already done\n",
      "6883 already done\n",
      "6884 already done\n",
      "6885 already done\n",
      "6886 already done\n",
      "6887 PACU1_7_200810_093356.vital... "
     ]
    },
    {
     "name": "stderr",
     "output_type": "stream",
     "text": [
      "/usr/local/lib/python3.6/dist-packages/ipykernel_launcher.py:25: RuntimeWarning: Mean of empty slice\n"
     ]
    },
    {
     "name": "stdout",
     "output_type": "stream",
     "text": [
      "...done\n",
      "6888 already done\n",
      "6889 already done\n",
      "6890 already done\n",
      "6891 PACU1_1_200810_122348.vital... "
     ]
    },
    {
     "name": "stderr",
     "output_type": "stream",
     "text": [
      "/usr/local/lib/python3.6/dist-packages/ipykernel_launcher.py:25: RuntimeWarning: Mean of empty slice\n"
     ]
    },
    {
     "name": "stdout",
     "output_type": "stream",
     "text": [
      "...done\n",
      "6892 already done\n",
      "6893 already done\n",
      "6894 already done\n",
      "6895 already done\n",
      "6896 already done\n",
      "6897 already done\n",
      "6898 already done\n",
      "6899 already done\n",
      "6900 already done\n",
      "6901 already done\n",
      "6902 PACU1_6_200810_183805.vital... "
     ]
    },
    {
     "name": "stderr",
     "output_type": "stream",
     "text": [
      "/usr/local/lib/python3.6/dist-packages/ipykernel_launcher.py:25: RuntimeWarning: Mean of empty slice\n"
     ]
    },
    {
     "name": "stdout",
     "output_type": "stream",
     "text": [
      "...done\n",
      "6903 already done\n",
      "6904 already done\n",
      "6905 already done\n",
      "6906 already done\n",
      "6907 already done\n",
      "6908 already done\n",
      "6909 already done\n",
      "6910 already done\n",
      "6911 already done\n",
      "6912 already done\n",
      "6913 already done\n",
      "6914 PACU1_6_200811_113240.vital... "
     ]
    },
    {
     "name": "stderr",
     "output_type": "stream",
     "text": [
      "/usr/local/lib/python3.6/dist-packages/ipykernel_launcher.py:25: RuntimeWarning: Mean of empty slice\n"
     ]
    },
    {
     "name": "stdout",
     "output_type": "stream",
     "text": [
      "...done\n",
      "6915 already done\n",
      "6916 already done\n",
      "6917 already done\n",
      "6918 already done\n",
      "6919 already done\n",
      "6920 already done\n",
      "6921 already done\n",
      "6922 PACU1_2_200811_124816.vital... "
     ]
    },
    {
     "name": "stderr",
     "output_type": "stream",
     "text": [
      "/usr/local/lib/python3.6/dist-packages/ipykernel_launcher.py:25: RuntimeWarning: Mean of empty slice\n"
     ]
    },
    {
     "name": "stdout",
     "output_type": "stream",
     "text": [
      "...done\n",
      "6923 already done\n",
      "6924 already done\n",
      "6925 already done\n",
      "6926 already done\n",
      "6927 already done\n",
      "6928 PACU1_8_200811_162825.vital... "
     ]
    },
    {
     "name": "stderr",
     "output_type": "stream",
     "text": [
      "/usr/local/lib/python3.6/dist-packages/ipykernel_launcher.py:25: RuntimeWarning: Mean of empty slice\n"
     ]
    },
    {
     "name": "stdout",
     "output_type": "stream",
     "text": [
      "...done\n",
      "6929 already done\n",
      "6930 already done\n",
      "6931 already done\n",
      "6932 already done\n",
      "6933 already done\n",
      "6934 already done\n",
      "6935 already done\n",
      "6936 already done\n",
      "6937 already done\n",
      "6938 already done\n",
      "6939 already done\n",
      "6940 already done\n",
      "6941 already done\n",
      "6942 already done\n",
      "6943 already done\n",
      "6944 already done\n",
      "6945 already done\n",
      "6946 already done\n",
      "6947 already done\n",
      "6948 already done\n",
      "6949 already done\n",
      "6950 already done\n",
      "6951 already done\n",
      "6952 already done\n",
      "6953 already done\n",
      "6954 already done\n",
      "6955 PACU1_2_200812_113817.vital... "
     ]
    },
    {
     "name": "stderr",
     "output_type": "stream",
     "text": [
      "/usr/local/lib/python3.6/dist-packages/ipykernel_launcher.py:25: RuntimeWarning: Mean of empty slice\n"
     ]
    },
    {
     "name": "stdout",
     "output_type": "stream",
     "text": [
      "...done\n",
      "6956 already done\n",
      "6957 already done\n",
      "6958 already done\n",
      "6959 already done\n",
      "6960 already done\n",
      "6961 already done\n",
      "6962 already done\n",
      "6963 already done\n",
      "6964 already done\n",
      "6965 already done\n",
      "6966 already done\n",
      "6967 already done\n",
      "6968 already done\n",
      "6969 already done\n",
      "6970 already done\n",
      "6971 already done\n",
      "6972 already done\n",
      "6973 already done\n",
      "6974 already done\n",
      "6975 already done\n",
      "6976 already done\n",
      "6977 already done\n",
      "6978 already done\n",
      "6979 already done\n",
      "6980 already done\n",
      "6981 already done\n",
      "6982 already done\n",
      "6983 already done\n",
      "6984 already done\n",
      "6985 already done\n",
      "6986 already done\n",
      "6987 already done\n",
      "6988 already done\n",
      "6989 already done\n",
      "6990 already done\n",
      "6991 already done\n",
      "6992 already done\n",
      "6993 already done\n",
      "6994 already done\n",
      "6995 already done\n",
      "6996 already done\n",
      "6997 already done\n",
      "6998 already done\n",
      "6999 already done\n",
      "7000 already done\n",
      "7001 already done\n",
      "7002 already done\n",
      "7003 already done\n",
      "7004 already done\n",
      "7005 already done\n",
      "7006 already done\n",
      "7007 already done\n",
      "7008 already done\n",
      "7009 already done\n",
      "7010 already done\n",
      "7011 already done\n",
      "7012 already done\n",
      "7013 already done\n",
      "7014 already done\n",
      "7015 already done\n",
      "7016 already done\n",
      "7017 already done\n",
      "7018 already done\n",
      "7019 already done\n",
      "7020 already done\n",
      "7021 already done\n",
      "7022 already done\n",
      "7023 already done\n",
      "7024 PACU1_3_200818_092917.vital... "
     ]
    },
    {
     "name": "stderr",
     "output_type": "stream",
     "text": [
      "/usr/local/lib/python3.6/dist-packages/ipykernel_launcher.py:25: RuntimeWarning: Mean of empty slice\n"
     ]
    },
    {
     "name": "stdout",
     "output_type": "stream",
     "text": [
      "...done\n",
      "7025 already done\n",
      "7026 already done\n",
      "7027 already done\n",
      "7028 already done\n",
      "7029 already done\n",
      "7030 already done\n",
      "7031 already done\n",
      "7032 already done\n",
      "7033 already done\n",
      "7034 already done\n",
      "7035 already done\n",
      "7036 already done\n",
      "7037 already done\n",
      "7038 already done\n",
      "7039 PACU1_6_200818_183733.vital... "
     ]
    },
    {
     "name": "stderr",
     "output_type": "stream",
     "text": [
      "/usr/local/lib/python3.6/dist-packages/ipykernel_launcher.py:25: RuntimeWarning: Mean of empty slice\n"
     ]
    },
    {
     "name": "stdout",
     "output_type": "stream",
     "text": [
      "...done\n",
      "7040 already done\n",
      "7041 already done\n",
      "7042 already done\n",
      "7043 already done\n",
      "7044 already done\n",
      "7045 already done\n",
      "7046 already done\n",
      "7047 already done\n",
      "7048 already done\n",
      "7049 already done\n",
      "7050 already done\n",
      "7051 already done\n",
      "7052 already done\n",
      "7053 already done\n",
      "7054 already done\n",
      "7055 already done\n",
      "7056 already done\n",
      "7057 already done\n",
      "7058 already done\n",
      "7059 already done\n",
      "7060 already done\n",
      "7061 PACU1_7_200819_145818.vital... "
     ]
    },
    {
     "name": "stderr",
     "output_type": "stream",
     "text": [
      "/usr/local/lib/python3.6/dist-packages/ipykernel_launcher.py:25: RuntimeWarning: Mean of empty slice\n"
     ]
    },
    {
     "name": "stdout",
     "output_type": "stream",
     "text": [
      "...done\n",
      "7062 already done\n",
      "7063 already done\n",
      "7064 already done\n",
      "7065 already done\n",
      "7066 already done\n",
      "7067 already done\n",
      "7068 already done\n",
      "7069 already done\n",
      "7070 already done\n",
      "7071 already done\n",
      "7072 already done\n",
      "7073 already done\n",
      "7074 already done\n",
      "7075 already done\n",
      "7076 already done\n",
      "7077 already done\n",
      "7078 already done\n",
      "7079 already done\n",
      "7080 already done\n",
      "7081 already done\n",
      "7082 already done\n",
      "7083 already done\n",
      "7084 already done\n",
      "7085 PACU1_1_200820_093916.vital... "
     ]
    },
    {
     "name": "stderr",
     "output_type": "stream",
     "text": [
      "/usr/local/lib/python3.6/dist-packages/ipykernel_launcher.py:25: RuntimeWarning: Mean of empty slice\n"
     ]
    },
    {
     "name": "stdout",
     "output_type": "stream",
     "text": [
      "...done\n",
      "7086 already done\n",
      "7087 already done\n",
      "7088 already done\n",
      "7089 already done\n",
      "7090 already done\n",
      "7091 already done\n",
      "7092 already done\n",
      "7093 already done\n",
      "7094 already done\n",
      "7095 already done\n",
      "7096 already done\n",
      "7097 already done\n",
      "7098 already done\n",
      "7099 already done\n",
      "7100 already done\n",
      "7101 already done\n",
      "7102 already done\n",
      "7103 already done\n",
      "7104 already done\n",
      "7105 already done\n",
      "7106 already done\n",
      "7107 already done\n",
      "7108 already done\n",
      "7109 PACU1_3_200821_010310.vital... "
     ]
    },
    {
     "name": "stderr",
     "output_type": "stream",
     "text": [
      "/usr/local/lib/python3.6/dist-packages/ipykernel_launcher.py:25: RuntimeWarning: Mean of empty slice\n"
     ]
    },
    {
     "name": "stdout",
     "output_type": "stream",
     "text": [
      "...done\n",
      "7110 already done\n",
      "7111 already done\n",
      "7112 already done\n",
      "7113 already done\n",
      "7114 already done\n",
      "7115 already done\n",
      "7116 already done\n",
      "7117 already done\n",
      "7118 PACU1_9_200821_103747.vital... "
     ]
    },
    {
     "name": "stderr",
     "output_type": "stream",
     "text": [
      "/usr/local/lib/python3.6/dist-packages/ipykernel_launcher.py:25: RuntimeWarning: Mean of empty slice\n"
     ]
    },
    {
     "name": "stdout",
     "output_type": "stream",
     "text": [
      "...done\n",
      "7119 already done\n",
      "7120 already done\n",
      "7121 already done\n",
      "7122 already done\n",
      "7123 already done\n",
      "7124 already done\n",
      "7125 already done\n",
      "7126 already done\n",
      "7127 already done\n",
      "7128 already done\n",
      "7129 already done\n",
      "7130 already done\n",
      "7131 already done\n",
      "7132 already done\n",
      "7133 already done\n",
      "7134 already done\n",
      "7135 already done\n",
      "7136 already done\n",
      "7137 already done\n",
      "7138 already done\n",
      "7139 "
     ]
    },
    {
     "name": "stderr",
     "output_type": "stream",
     "text": [
      "/usr/local/lib/python3.6/dist-packages/ipykernel_launcher.py:25: RuntimeWarning: Mean of empty slice\n"
     ]
    },
    {
     "name": "stdout",
     "output_type": "stream",
     "text": [
      "PACU1_12_200821_154648.vital... ...done\n",
      "7140 already done\n",
      "7141 already done\n",
      "7142 already done\n",
      "7143 already done\n",
      "7144 already done\n",
      "7145 already done\n",
      "7146 already done\n",
      "7147 already done\n",
      "7148 already done\n",
      "7149 already done\n",
      "7150 already done\n",
      "7151 already done\n",
      "7152 already done\n",
      "7153 already done\n",
      "7154 already done\n",
      "7155 already done\n",
      "7156 already done\n",
      "7157 already done\n",
      "7158 already done\n",
      "7159 already done\n",
      "7160 already done\n",
      "7161 already done\n",
      "7162 already done\n",
      "7163 already done\n",
      "7164 already done\n",
      "7165 already done\n",
      "7166 already done\n",
      "7167 already done\n",
      "7168 already done\n",
      "7169 already done\n",
      "7170 already done\n",
      "7171 already done\n",
      "7172 already done\n",
      "7173 already done\n",
      "7174 already done\n",
      "7175 already done\n",
      "7176 already done\n",
      "7177 already done\n",
      "7178 already done\n",
      "7179 already done\n",
      "7180 already done\n",
      "7181 already done\n",
      "7182 already done\n",
      "7183 already done\n",
      "7184 already done\n",
      "7185 already done\n",
      "7186 already done\n",
      "7187 already done\n",
      "7188 already done\n",
      "7189 already done\n",
      "7190 already done\n",
      "7191 already done\n",
      "7192 already done\n",
      "7193 already done\n",
      "7194 already done\n",
      "7195 already done\n",
      "7196 already done\n",
      "7197 already done\n",
      "7198 already done\n",
      "7199 already done\n",
      "7200 already done\n",
      "7201 already done\n",
      "7202 already done\n",
      "7203 already done\n",
      "7204 already done\n",
      "7205 already done\n",
      "7206 already done\n",
      "7207 already done\n",
      "7208 already done\n",
      "7209 already done\n",
      "7210 already done\n",
      "7211 already done\n",
      "7212 already done\n",
      "7213 already done\n",
      "7214 already done\n",
      "7215 already done\n",
      "7216 already done\n",
      "7217 already done\n",
      "7218 already done\n",
      "7219 already done\n",
      "7220 already done\n",
      "7221 already done\n",
      "7222 already done\n",
      "7223 already done\n",
      "7224 already done\n",
      "7225 already done\n",
      "7226 already done\n",
      "7227 already done\n",
      "7228 already done\n",
      "7229 already done\n",
      "7230 already done\n",
      "7231 already done\n",
      "7232 already done\n",
      "7233 already done\n",
      "7234 PACU1_1_200909_090352.vital... "
     ]
    },
    {
     "name": "stderr",
     "output_type": "stream",
     "text": [
      "/usr/local/lib/python3.6/dist-packages/ipykernel_launcher.py:25: RuntimeWarning: Mean of empty slice\n"
     ]
    },
    {
     "name": "stdout",
     "output_type": "stream",
     "text": [
      "...done\n",
      "7235 already done\n",
      "7236 already done\n",
      "7237 already done\n",
      "7238 already done\n",
      "7239 already done\n",
      "7240 already done\n",
      "7241 already done\n",
      "7242 already done\n",
      "7243 already done\n",
      "7244 already done\n",
      "7245 already done\n",
      "7246 already done\n",
      "7247 already done\n",
      "7248 already done\n",
      "7249 already done\n",
      "7250 already done\n",
      "7251 already done\n",
      "7252 already done\n",
      "7253 already done\n",
      "7254 already done\n",
      "7255 already done\n",
      "7256 already done\n",
      "7257 already done\n",
      "7258 already done\n",
      "7259 already done\n",
      "7260 already done\n",
      "7261 already done\n",
      "7262 already done\n",
      "7263 already done\n",
      "7264 already done\n",
      "7265 already done\n",
      "7266 already done\n",
      "7267 already done\n",
      "7268 already done\n",
      "7269 already done\n",
      "7270 already done\n",
      "7271 already done\n",
      "7272 already done\n",
      "7273 already done\n",
      "7274 already done\n",
      "7275 already done\n",
      "7276 already done\n",
      "7277 already done\n",
      "7278 PACU1_2_200910_181432.vital... "
     ]
    },
    {
     "name": "stderr",
     "output_type": "stream",
     "text": [
      "/usr/local/lib/python3.6/dist-packages/ipykernel_launcher.py:25: RuntimeWarning: Mean of empty slice\n"
     ]
    },
    {
     "name": "stdout",
     "output_type": "stream",
     "text": [
      "...done\n",
      "7279 already done\n",
      "7280 already done\n",
      "7281 already done\n",
      "7282 already done\n",
      "7283 already done\n",
      "7284 already done\n",
      "7285 already done\n",
      "7286 already done\n",
      "7287 already done\n",
      "7288 already done\n",
      "7289 already done\n",
      "7290 already done\n",
      "7291 already done\n",
      "7292 already done\n",
      "7293 already done\n",
      "7294 already done\n",
      "7295 already done\n",
      "7296 already done\n",
      "7297 already done\n",
      "7298 already done\n",
      "7299 already done\n",
      "7300 PACU1_5_200911_130336.vital... "
     ]
    },
    {
     "name": "stderr",
     "output_type": "stream",
     "text": [
      "/usr/local/lib/python3.6/dist-packages/ipykernel_launcher.py:25: RuntimeWarning: Mean of empty slice\n"
     ]
    },
    {
     "name": "stdout",
     "output_type": "stream",
     "text": [
      "...done\n",
      "7301 already done\n",
      "7302 already done\n",
      "7303 already done\n",
      "7304 already done\n",
      "7305 already done\n",
      "7306 already done\n",
      "7307 already done\n",
      "7308 already done\n",
      "7309 already done\n",
      "7310 PACU1_3_200911_163759.vital... "
     ]
    },
    {
     "name": "stderr",
     "output_type": "stream",
     "text": [
      "/usr/local/lib/python3.6/dist-packages/ipykernel_launcher.py:25: RuntimeWarning: Mean of empty slice\n"
     ]
    },
    {
     "name": "stdout",
     "output_type": "stream",
     "text": [
      "...done\n",
      "7311 already done\n",
      "7312 already done\n",
      "7313 already done\n",
      "7314 already done\n",
      "7315 already done\n",
      "7316 already done\n",
      "7317 already done\n",
      "7318 already done\n",
      "7319 already done\n",
      "7320 already done\n",
      "7321 already done\n",
      "7322 already done\n",
      "7323 already done\n",
      "7324 already done\n",
      "7325 already done\n",
      "7326 already done\n",
      "7327 already done\n",
      "7328 already done\n",
      "7329 already done\n",
      "7330 already done\n",
      "7331 already done\n",
      "7332 already done\n",
      "7333 already done\n",
      "7334 already done\n",
      "7335 already done\n",
      "7336 already done\n",
      "7337 already done\n",
      "7338 already done\n",
      "7339 already done\n",
      "7340 already done\n",
      "7341 already done\n",
      "7342 already done\n",
      "7343 already done\n",
      "7344 already done\n",
      "7345 already done\n",
      "7346 already done\n",
      "7347 already done\n",
      "7348 already done\n",
      "7349 already done\n",
      "7350 already done\n",
      "7351 already done\n",
      "7352 already done\n",
      "7353 already done\n",
      "7354 already done\n",
      "7355 already done\n",
      "7356 already done\n",
      "7357 already done\n",
      "7358 already done\n",
      "7359 already done\n",
      "7360 already done\n",
      "7361 already done\n",
      "7362 already done\n",
      "7363 already done\n",
      "7364 already done\n",
      "7365 already done\n",
      "7366 already done\n",
      "7367 already done\n",
      "7368 already done\n",
      "7369 already done\n",
      "7370 already done\n",
      "7371 already done\n",
      "7372 already done\n",
      "7373 PACU1_5_200916_100738.vital... "
     ]
    },
    {
     "name": "stderr",
     "output_type": "stream",
     "text": [
      "/usr/local/lib/python3.6/dist-packages/ipykernel_launcher.py:25: RuntimeWarning: Mean of empty slice\n"
     ]
    },
    {
     "name": "stdout",
     "output_type": "stream",
     "text": [
      "...done\n",
      "7374 already done\n",
      "7375 already done\n",
      "7376 already done\n",
      "7377 already done\n",
      "7378 already done\n",
      "7379 already done\n",
      "7380 already done\n",
      "7381 already done\n",
      "7382 already done\n",
      "7383 already done\n",
      "7384 already done\n",
      "7385 already done\n",
      "7386 already done\n",
      "7387 already done\n",
      "7388 already done\n",
      "7389 already done\n",
      "7390 already done\n",
      "7391 already done\n",
      "7392 already done\n",
      "7393 already done\n",
      "7394 already done\n",
      "7395 already done\n",
      "7396 already done\n",
      "7397 already done\n",
      "7398 already done\n",
      "7399 already done\n",
      "7400 already done\n",
      "7401 already done\n",
      "7402 already done\n",
      "7403 already done\n",
      "7404 already done\n",
      "7405 already done\n",
      "7406 already done\n",
      "7407 already done\n",
      "7408 already done\n",
      "7409 already done\n",
      "7410 already done\n",
      "7411 already done\n",
      "7412 already done\n",
      "7413 already done\n",
      "7414 already done\n",
      "7415 already done\n",
      "7416 already done\n",
      "7417 already done\n",
      "7418 already done\n",
      "7419 already done\n",
      "7420 already done\n",
      "7421 already done\n",
      "7422 already done\n",
      "7423 already done\n",
      "7424 already done\n",
      "7425 already done\n",
      "7426 already done\n",
      "7427 already done\n",
      "7428 PACU1_9_200917_114802.vital... "
     ]
    },
    {
     "name": "stderr",
     "output_type": "stream",
     "text": [
      "/usr/local/lib/python3.6/dist-packages/ipykernel_launcher.py:25: RuntimeWarning: Mean of empty slice\n"
     ]
    },
    {
     "name": "stdout",
     "output_type": "stream",
     "text": [
      "...done\n",
      "7429 already done\n",
      "7430 already done\n",
      "7431 already done\n",
      "7432 PACU1_1_200917_121338.vital... "
     ]
    },
    {
     "name": "stderr",
     "output_type": "stream",
     "text": [
      "/usr/local/lib/python3.6/dist-packages/ipykernel_launcher.py:25: RuntimeWarning: Mean of empty slice\n"
     ]
    },
    {
     "name": "stdout",
     "output_type": "stream",
     "text": [
      "...done\n",
      "7433 already done\n",
      "7434 already done\n",
      "7435 already done\n",
      "7436 already done\n",
      "7437 already done\n",
      "7438 already done\n",
      "7439 already done\n",
      "7440 already done\n",
      "7441 PACU1_10_200917_134831.vital... "
     ]
    },
    {
     "name": "stderr",
     "output_type": "stream",
     "text": [
      "/usr/local/lib/python3.6/dist-packages/ipykernel_launcher.py:25: RuntimeWarning: Mean of empty slice\n"
     ]
    },
    {
     "name": "stdout",
     "output_type": "stream",
     "text": [
      "...done\n",
      "7442 already done\n",
      "7443 already done\n",
      "7444 already done\n",
      "7445 already done\n",
      "7446 already done\n",
      "7447 already done\n",
      "7448 already done\n",
      "7449 already done\n",
      "7450 already done\n",
      "7451 already done\n",
      "7452 already done\n",
      "7453 already done\n",
      "7454 PACU1_2_200917_185454.vital... "
     ]
    },
    {
     "name": "stderr",
     "output_type": "stream",
     "text": [
      "/usr/local/lib/python3.6/dist-packages/ipykernel_launcher.py:25: RuntimeWarning: Mean of empty slice\n"
     ]
    },
    {
     "name": "stdout",
     "output_type": "stream",
     "text": [
      "...done\n",
      "7455 already done\n",
      "7456 already done\n",
      "7457 already done\n",
      "7458 already done\n",
      "7459 already done\n",
      "7460 PACU1_3_200918_092853.vital... "
     ]
    },
    {
     "name": "stderr",
     "output_type": "stream",
     "text": [
      "/usr/local/lib/python3.6/dist-packages/ipykernel_launcher.py:25: RuntimeWarning: Mean of empty slice\n"
     ]
    },
    {
     "name": "stdout",
     "output_type": "stream",
     "text": [
      "...done\n",
      "7461 already done\n",
      "7462 already done\n",
      "7463 already done\n",
      "7464 already done\n",
      "7465 already done\n",
      "7466 already done\n",
      "7467 already done\n",
      "7468 already done\n",
      "7469 already done\n",
      "7470 already done\n",
      "7471 already done\n",
      "7472 already done\n",
      "7473 already done\n",
      "7474 PACU1_8_200918_145407.vital... "
     ]
    },
    {
     "name": "stderr",
     "output_type": "stream",
     "text": [
      "/usr/local/lib/python3.6/dist-packages/ipykernel_launcher.py:25: RuntimeWarning: Mean of empty slice\n"
     ]
    },
    {
     "name": "stdout",
     "output_type": "stream",
     "text": [
      "...done\n",
      "7475 already done\n",
      "7476 already done\n",
      "7477 already done\n",
      "7478 already done\n",
      "7479 PACU1_8_200918_163328.vital... "
     ]
    },
    {
     "name": "stderr",
     "output_type": "stream",
     "text": [
      "/usr/local/lib/python3.6/dist-packages/ipykernel_launcher.py:25: RuntimeWarning: Mean of empty slice\n"
     ]
    },
    {
     "name": "stdout",
     "output_type": "stream",
     "text": [
      "...done\n",
      "7480 already done\n",
      "7481 already done\n",
      "7482 already done\n",
      "7483 already done\n",
      "7484 already done\n",
      "7485 already done\n",
      "7486 already done\n",
      "7487 already done\n",
      "7488 already done\n",
      "7489 already done\n",
      "7490 already done\n",
      "7491 already done\n",
      "7492 already done\n",
      "7493 already done\n",
      "7494 already done\n",
      "7495 already done\n",
      "7496 already done\n",
      "7497 already done\n",
      "7498 already done\n",
      "7499 already done\n",
      "7500 already done\n",
      "7501 already done\n",
      "7502 already done\n",
      "7503 already done\n",
      "7504 already done\n",
      "7505 already done\n",
      "7506 already done\n",
      "7507 already done\n",
      "7508 already done\n",
      "7509 already done\n",
      "7510 already done\n",
      "7511 already done\n",
      "7512 already done\n",
      "7513 already done\n",
      "7514 PACU1_2_200921_171750.vital... "
     ]
    },
    {
     "name": "stderr",
     "output_type": "stream",
     "text": [
      "/usr/local/lib/python3.6/dist-packages/ipykernel_launcher.py:25: RuntimeWarning: Mean of empty slice\n"
     ]
    },
    {
     "name": "stdout",
     "output_type": "stream",
     "text": [
      "...done\n",
      "7515 already done\n",
      "7516 already done\n",
      "7517 already done\n",
      "7518 already done\n",
      "7519 already done\n",
      "7520 already done\n",
      "7521 already done\n",
      "7522 already done\n",
      "7523 already done\n",
      "7524 already done\n",
      "7525 already done\n",
      "7526 already done\n",
      "7527 already done\n",
      "7528 already done\n",
      "7529 already done\n",
      "7530 already done\n",
      "7531 already done\n",
      "7532 already done\n",
      "7533 already done\n",
      "7534 already done\n",
      "7535 already done\n",
      "7536 already done\n",
      "7537 already done\n",
      "7538 already done\n",
      "7539 already done\n",
      "7540 already done\n",
      "7541 already done\n",
      "7542 already done\n",
      "7543 already done\n",
      "7544 already done\n",
      "7545 already done\n",
      "7546 PACU1_5_200923_085343.vital... "
     ]
    },
    {
     "name": "stderr",
     "output_type": "stream",
     "text": [
      "/usr/local/lib/python3.6/dist-packages/ipykernel_launcher.py:25: RuntimeWarning: Mean of empty slice\n"
     ]
    },
    {
     "name": "stdout",
     "output_type": "stream",
     "text": [
      "...done\n",
      "7547 already done\n",
      "7548 already done\n",
      "7549 already done\n",
      "7550 already done\n",
      "7551 already done\n",
      "7552 already done\n",
      "7553 already done\n",
      "7554 already done\n",
      "7555 already done\n",
      "7556 already done\n",
      "7557 already done\n",
      "7558 already done\n",
      "7559 already done\n",
      "7560 already done\n",
      "7561 already done\n",
      "7562 already done\n",
      "7563 already done\n",
      "7564 already done\n",
      "7565 already done\n",
      "7566 already done\n",
      "7567 already done\n",
      "7568 already done\n",
      "7569 already done\n",
      "7570 already done\n",
      "7571 already done\n",
      "7572 already done\n",
      "7573 already done\n",
      "7574 already done\n",
      "7575 already done\n",
      "7576 already done\n",
      "7577 already done\n",
      "7578 already done\n",
      "7579 already done\n",
      "7580 already done\n",
      "7581 already done\n",
      "7582 already done\n",
      "7583 already done\n",
      "7584 already done\n",
      "7585 already done\n",
      "7586 PACU1_7_200923_173426.vital... "
     ]
    },
    {
     "name": "stderr",
     "output_type": "stream",
     "text": [
      "/usr/local/lib/python3.6/dist-packages/ipykernel_launcher.py:25: RuntimeWarning: Mean of empty slice\n"
     ]
    },
    {
     "name": "stdout",
     "output_type": "stream",
     "text": [
      "...done\n",
      "7587 already done\n",
      "7588 already done\n",
      "7589 already done\n",
      "7590 PACU1_2_200924_002253.vital... "
     ]
    },
    {
     "name": "stderr",
     "output_type": "stream",
     "text": [
      "/usr/local/lib/python3.6/dist-packages/ipykernel_launcher.py:25: RuntimeWarning: Mean of empty slice\n"
     ]
    },
    {
     "name": "stdout",
     "output_type": "stream",
     "text": [
      "...done\n",
      "7591 already done\n",
      "7592 already done\n",
      "7593 already done\n",
      "7594 already done\n",
      "7595 already done\n",
      "7596 already done\n",
      "7597 already done\n",
      "7598 already done\n",
      "7599 already done\n",
      "7600 already done\n",
      "7601 already done\n",
      "7602 PACU1_4_200924_105332.vital... "
     ]
    },
    {
     "name": "stderr",
     "output_type": "stream",
     "text": [
      "/usr/local/lib/python3.6/dist-packages/ipykernel_launcher.py:25: RuntimeWarning: Mean of empty slice\n"
     ]
    },
    {
     "name": "stdout",
     "output_type": "stream",
     "text": [
      "...done\n",
      "7603 already done\n",
      "7604 PACU1_1_200924_114932.vital... "
     ]
    },
    {
     "name": "stderr",
     "output_type": "stream",
     "text": [
      "/usr/local/lib/python3.6/dist-packages/ipykernel_launcher.py:25: RuntimeWarning: Mean of empty slice\n"
     ]
    },
    {
     "name": "stdout",
     "output_type": "stream",
     "text": [
      "...done\n",
      "7605 PACU1_3_200924_120358.vital... "
     ]
    },
    {
     "name": "stderr",
     "output_type": "stream",
     "text": [
      "/usr/local/lib/python3.6/dist-packages/ipykernel_launcher.py:25: RuntimeWarning: Mean of empty slice\n"
     ]
    },
    {
     "name": "stdout",
     "output_type": "stream",
     "text": [
      "...done\n",
      "7606 already done\n",
      "7607 already done\n",
      "7608 already done\n",
      "7609 already done\n",
      "7610 already done\n",
      "7611 already done\n",
      "7612 already done\n",
      "7613 already done\n",
      "7614 already done\n",
      "7615 already done\n",
      "7616 already done\n",
      "7617 already done\n",
      "7618 already done\n",
      "7619 already done\n",
      "7620 already done\n",
      "7621 already done\n",
      "7622 already done\n",
      "7623 already done\n",
      "7624 already done\n",
      "7625 already done\n",
      "7626 already done\n",
      "7627 PACU1_1_200924_205336.vital... "
     ]
    },
    {
     "name": "stderr",
     "output_type": "stream",
     "text": [
      "/usr/local/lib/python3.6/dist-packages/ipykernel_launcher.py:25: RuntimeWarning: Mean of empty slice\n"
     ]
    },
    {
     "name": "stdout",
     "output_type": "stream",
     "text": [
      "...done\n",
      "7628 already done\n",
      "7629 already done\n",
      "7630 already done\n",
      "7631 already done\n",
      "7632 PACU1_9_200925_091850.vital... "
     ]
    },
    {
     "name": "stderr",
     "output_type": "stream",
     "text": [
      "/usr/local/lib/python3.6/dist-packages/ipykernel_launcher.py:25: RuntimeWarning: Mean of empty slice\n"
     ]
    },
    {
     "name": "stdout",
     "output_type": "stream",
     "text": [
      "...done\n",
      "7633 already done\n",
      "7634 already done\n",
      "7635 already done\n",
      "7636 already done\n",
      "7637 already done\n",
      "7638 already done\n",
      "7639 already done\n",
      "7640 already done\n",
      "7641 already done\n",
      "7642 already done\n",
      "7643 already done\n",
      "7644 already done\n",
      "7645 already done\n",
      "7646 already done\n",
      "7647 already done\n",
      "7648 already done\n",
      "7649 already done\n",
      "7650 already done\n",
      "7651 PACU1_1_200925_135316.vital... "
     ]
    },
    {
     "name": "stderr",
     "output_type": "stream",
     "text": [
      "/usr/local/lib/python3.6/dist-packages/ipykernel_launcher.py:25: RuntimeWarning: Mean of empty slice\n"
     ]
    },
    {
     "name": "stdout",
     "output_type": "stream",
     "text": [
      "...done\n",
      "7652 already done\n",
      "7653 already done\n",
      "7654 already done\n",
      "7655 PACU1_10_200925_153417.vital... "
     ]
    },
    {
     "name": "stderr",
     "output_type": "stream",
     "text": [
      "/usr/local/lib/python3.6/dist-packages/ipykernel_launcher.py:25: RuntimeWarning: Mean of empty slice\n"
     ]
    },
    {
     "name": "stdout",
     "output_type": "stream",
     "text": [
      "...done\n",
      "7656 already done\n",
      "7657 already done\n",
      "7658 already done\n",
      "7659 already done\n",
      "7660 already done\n",
      "7661 already done\n",
      "7662 already done\n",
      "7663 already done\n",
      "7664 already done\n",
      "7665 already done\n",
      "7666 already done\n",
      "7667 already done\n",
      "7668 already done\n",
      "7669 already done\n",
      "7670 already done\n",
      "7671 already done\n",
      "7672 already done\n",
      "7673 already done\n",
      "7674 already done\n",
      "7675 already done\n",
      "7676 PACU1_1_200928_115238.vital... "
     ]
    },
    {
     "name": "stderr",
     "output_type": "stream",
     "text": [
      "/usr/local/lib/python3.6/dist-packages/ipykernel_launcher.py:25: RuntimeWarning: Mean of empty slice\n"
     ]
    },
    {
     "name": "stdout",
     "output_type": "stream",
     "text": [
      "...done\n",
      "7677 already done\n",
      "7678 already done\n",
      "7679 already done\n",
      "7680 already done\n",
      "7681 already done\n",
      "7682 already done\n",
      "7683 already done\n",
      "7684 already done\n",
      "7685 already done\n",
      "7686 already done\n",
      "7687 already done\n",
      "7688 already done\n",
      "7689 already done\n",
      "7690 already done\n",
      "7691 already done\n",
      "7692 already done\n",
      "7693 already done\n",
      "7694 already done\n",
      "7695 already done\n",
      "7696 already done\n",
      "7697 already done\n",
      "7698 already done\n",
      "7699 already done\n",
      "7700 already done\n",
      "7701 already done\n",
      "7702 already done\n",
      "7703 already done\n",
      "7704 already done\n",
      "7705 already done\n",
      "7706 already done\n",
      "7707 already done\n",
      "7708 PACU1_4_200929_102240.vital... "
     ]
    },
    {
     "name": "stderr",
     "output_type": "stream",
     "text": [
      "/usr/local/lib/python3.6/dist-packages/ipykernel_launcher.py:25: RuntimeWarning: Mean of empty slice\n"
     ]
    },
    {
     "name": "stdout",
     "output_type": "stream",
     "text": [
      "...done\n",
      "7709 already done\n",
      "7710 already done\n",
      "7711 already done\n",
      "7712 already done\n",
      "7713 already done\n",
      "7714 already done\n",
      "7715 already done\n",
      "7716 already done\n",
      "7717 already done\n",
      "7718 already done\n",
      "7719 already done\n",
      "7720 already done\n",
      "7721 already done\n",
      "7722 already done\n",
      "7723 PACU1_8_200929_165327.vital... "
     ]
    },
    {
     "name": "stderr",
     "output_type": "stream",
     "text": [
      "/usr/local/lib/python3.6/dist-packages/ipykernel_launcher.py:25: RuntimeWarning: Mean of empty slice\n"
     ]
    },
    {
     "name": "stdout",
     "output_type": "stream",
     "text": [
      "...done\n",
      "7724 already done\n",
      "7725 already done\n",
      "7726 already done\n",
      "7727 already done\n",
      "7728 already done\n",
      "7729 already done\n",
      "7730 already done\n",
      "7731 already done\n",
      "7732 already done\n",
      "7733 already done\n",
      "7734 already done\n",
      "7735 already done\n",
      "7736 already done\n",
      "7737 already done\n",
      "7738 already done\n",
      "7739 already done\n",
      "7740 already done\n",
      "7741 already done\n",
      "7742 already done\n",
      "7743 already done\n",
      "7744 already done\n",
      "7745 already done\n",
      "7746 already done\n",
      "7747 already done\n",
      "7748 already done\n",
      "7749 already done\n",
      "7750 already done\n",
      "7751 already done\n",
      "7752 already done\n",
      "7753 already done\n",
      "7754 PACU1_3_201005_213957.vital... "
     ]
    },
    {
     "name": "stderr",
     "output_type": "stream",
     "text": [
      "/usr/local/lib/python3.6/dist-packages/ipykernel_launcher.py:25: RuntimeWarning: Mean of empty slice\n"
     ]
    },
    {
     "name": "stdout",
     "output_type": "stream",
     "text": [
      "...done\n",
      "7755 already done\n",
      "7756 already done\n",
      "7757 already done\n",
      "7758 already done\n",
      "7759 already done\n",
      "7760 already done\n",
      "7761 already done\n",
      "7762 already done\n",
      "7763 already done\n",
      "7764 already done\n",
      "7765 already done\n",
      "7766 already done\n",
      "7767 already done\n",
      "7768 already done\n",
      "7769 already done\n",
      "7770 already done\n",
      "7771 already done\n",
      "7772 already done\n",
      "7773 already done\n",
      "7774 already done\n",
      "7775 already done\n",
      "7776 already done\n",
      "7777 PACU1_3_201006_173757.vital... "
     ]
    },
    {
     "name": "stderr",
     "output_type": "stream",
     "text": [
      "/usr/local/lib/python3.6/dist-packages/ipykernel_launcher.py:25: RuntimeWarning: Mean of empty slice\n"
     ]
    },
    {
     "name": "stdout",
     "output_type": "stream",
     "text": [
      "...done\n",
      "7778 already done\n",
      "7779 already done\n",
      "7780 already done\n",
      "7781 already done\n",
      "7782 already done\n",
      "7783 PACU1_4_201006_210842.vital... "
     ]
    },
    {
     "name": "stderr",
     "output_type": "stream",
     "text": [
      "/usr/local/lib/python3.6/dist-packages/ipykernel_launcher.py:25: RuntimeWarning: Mean of empty slice\n"
     ]
    },
    {
     "name": "stdout",
     "output_type": "stream",
     "text": [
      "...done\n",
      "7784 PACU1_4_201007_001249.vital... ...done\n",
      "7785 already done\n",
      "7786 already done\n",
      "7787 already done\n",
      "7788 already done\n",
      "7789 already done\n",
      "7790 already done\n",
      "7791 PACU1_10_201007_095750.vital... "
     ]
    },
    {
     "name": "stderr",
     "output_type": "stream",
     "text": [
      "/usr/local/lib/python3.6/dist-packages/ipykernel_launcher.py:25: RuntimeWarning: Mean of empty slice\n",
      "/usr/local/lib/python3.6/dist-packages/ipykernel_launcher.py:25: RuntimeWarning: Mean of empty slice\n"
     ]
    },
    {
     "name": "stdout",
     "output_type": "stream",
     "text": [
      "...done\n",
      "7792 already done\n",
      "7793 already done\n",
      "7794 PACU1_11_201007_102740.vital... "
     ]
    },
    {
     "name": "stderr",
     "output_type": "stream",
     "text": [
      "/usr/local/lib/python3.6/dist-packages/ipykernel_launcher.py:25: RuntimeWarning: Mean of empty slice\n"
     ]
    },
    {
     "name": "stdout",
     "output_type": "stream",
     "text": [
      "...done\n",
      "7795 already done\n",
      "7796 already done\n",
      "7797 PACU1_7_201007_111324.vital... "
     ]
    },
    {
     "name": "stderr",
     "output_type": "stream",
     "text": [
      "/usr/local/lib/python3.6/dist-packages/ipykernel_launcher.py:25: RuntimeWarning: Mean of empty slice\n"
     ]
    },
    {
     "name": "stdout",
     "output_type": "stream",
     "text": [
      "...done\n",
      "7798 already done\n",
      "7799 already done\n",
      "7800 already done\n",
      "7801 already done\n",
      "7802 already done\n",
      "7803 already done\n",
      "7804 already done\n",
      "7805 already done\n",
      "7806 already done\n",
      "7807 already done\n",
      "7808 PACU1_10_201007_134431.vital... "
     ]
    },
    {
     "name": "stderr",
     "output_type": "stream",
     "text": [
      "/usr/local/lib/python3.6/dist-packages/ipykernel_launcher.py:25: RuntimeWarning: Mean of empty slice\n"
     ]
    },
    {
     "name": "stdout",
     "output_type": "stream",
     "text": [
      "...done\n",
      "7809 already done\n",
      "7810 already done\n",
      "7811 already done\n",
      "7812 already done\n",
      "7813 already done\n",
      "7814 already done\n",
      "7815 already done\n",
      "7816 already done\n",
      "7817 already done\n",
      "7818 already done\n",
      "7819 already done\n",
      "7820 already done\n",
      "7821 already done\n",
      "7822 already done\n",
      "7823 already done\n",
      "7824 already done\n",
      "7825 already done\n",
      "7826 already done\n",
      "7827 PACU1_3_201008_015829.vital... "
     ]
    },
    {
     "name": "stderr",
     "output_type": "stream",
     "text": [
      "/usr/local/lib/python3.6/dist-packages/ipykernel_launcher.py:25: RuntimeWarning: Mean of empty slice\n"
     ]
    },
    {
     "name": "stdout",
     "output_type": "stream",
     "text": [
      "...done\n",
      "7828 already done\n",
      "7829 already done\n",
      "7830 already done\n",
      "7831 already done\n",
      "7832 already done\n",
      "7833 already done\n",
      "7834 already done\n",
      "7835 already done\n",
      "7836 already done\n",
      "7837 already done\n",
      "7838 already done\n",
      "7839 already done\n",
      "7840 already done\n",
      "7841 already done\n",
      "7842 PACU1_7_201008_121756.vital... "
     ]
    },
    {
     "name": "stderr",
     "output_type": "stream",
     "text": [
      "/usr/local/lib/python3.6/dist-packages/ipykernel_launcher.py:25: RuntimeWarning: Mean of empty slice\n"
     ]
    },
    {
     "name": "stdout",
     "output_type": "stream",
     "text": [
      "...done\n",
      "7843 already done\n",
      "7844 already done\n",
      "7845 already done\n",
      "7846 already done\n",
      "7847 already done\n",
      "7848 already done\n",
      "7849 already done\n",
      "7850 PACU1_4_201008_134232.vital... "
     ]
    },
    {
     "name": "stderr",
     "output_type": "stream",
     "text": [
      "/usr/local/lib/python3.6/dist-packages/ipykernel_launcher.py:25: RuntimeWarning: Mean of empty slice\n"
     ]
    },
    {
     "name": "stdout",
     "output_type": "stream",
     "text": [
      "...done\n",
      "7851 already done\n",
      "7852 already done\n",
      "7853 already done\n",
      "7854 already done\n",
      "7855 already done\n",
      "7856 PACU1_11_201008_153842.vital... "
     ]
    },
    {
     "name": "stderr",
     "output_type": "stream",
     "text": [
      "/usr/local/lib/python3.6/dist-packages/ipykernel_launcher.py:25: RuntimeWarning: Mean of empty slice\n"
     ]
    },
    {
     "name": "stdout",
     "output_type": "stream",
     "text": [
      "...done\n",
      "7857 already done\n",
      "7858 already done\n",
      "7859 already done\n",
      "7860 already done\n",
      "7861 already done\n",
      "7862 already done\n",
      "7863 already done\n",
      "7864 already done\n",
      "7865 PACU1_5_201008_165909.vital... "
     ]
    },
    {
     "name": "stderr",
     "output_type": "stream",
     "text": [
      "/usr/local/lib/python3.6/dist-packages/ipykernel_launcher.py:25: RuntimeWarning: Mean of empty slice\n"
     ]
    },
    {
     "name": "stdout",
     "output_type": "stream",
     "text": [
      "...done\n",
      "7866 already done\n",
      "7867 already done\n",
      "7868 already done\n",
      "7869 already done\n",
      "7870 already done\n",
      "7871 already done\n",
      "7872 already done\n",
      "7873 already done\n",
      "7874 already done\n",
      "7875 already done\n",
      "7876 already done\n",
      "7877 already done\n",
      "7878 already done\n",
      "7879 already done\n",
      "7880 already done\n",
      "7881 already done\n",
      "7882 already done\n",
      "7883 already done\n",
      "7884 already done\n",
      "7885 already done\n",
      "7886 already done\n",
      "7887 already done\n",
      "7888 already done\n",
      "7889 already done\n",
      "7890 already done\n",
      "7891 PACU1_3_201012_133423.vital... "
     ]
    },
    {
     "name": "stderr",
     "output_type": "stream",
     "text": [
      "/usr/local/lib/python3.6/dist-packages/ipykernel_launcher.py:25: RuntimeWarning: Mean of empty slice\n"
     ]
    },
    {
     "name": "stdout",
     "output_type": "stream",
     "text": [
      "...done\n",
      "7892 already done\n",
      "7893 already done\n",
      "7894 already done\n",
      "7895 already done\n",
      "7896 already done\n",
      "7897 already done\n",
      "7898 already done\n",
      "7899 PACU1_1_201012_174400.vital... "
     ]
    },
    {
     "name": "stderr",
     "output_type": "stream",
     "text": [
      "/usr/local/lib/python3.6/dist-packages/ipykernel_launcher.py:25: RuntimeWarning: Mean of empty slice\n"
     ]
    },
    {
     "name": "stdout",
     "output_type": "stream",
     "text": [
      "...done\n",
      "7900 already done\n",
      "7901 already done\n",
      "7902 already done\n",
      "7903 PACU1_2_201013_014254.vital... "
     ]
    },
    {
     "name": "stderr",
     "output_type": "stream",
     "text": [
      "/usr/local/lib/python3.6/dist-packages/ipykernel_launcher.py:25: RuntimeWarning: Mean of empty slice\n"
     ]
    },
    {
     "name": "stdout",
     "output_type": "stream",
     "text": [
      "...done\n",
      "7904 already done\n",
      "7905 already done\n",
      "7906 already done\n",
      "7907 already done\n",
      "7908 already done\n",
      "7909 PACU1_3_201013_100233.vital... "
     ]
    },
    {
     "name": "stderr",
     "output_type": "stream",
     "text": [
      "/usr/local/lib/python3.6/dist-packages/ipykernel_launcher.py:25: RuntimeWarning: Mean of empty slice\n"
     ]
    },
    {
     "name": "stdout",
     "output_type": "stream",
     "text": [
      "...done\n",
      "7910 already done\n",
      "7911 already done\n",
      "7912 already done\n",
      "7913 already done\n",
      "7914 already done\n",
      "7915 already done\n",
      "7916 already done\n",
      "7917 PACU1_5_201013_140323.vital... ...done\n",
      "7918 already done\n",
      "7919 "
     ]
    },
    {
     "name": "stderr",
     "output_type": "stream",
     "text": [
      "/usr/local/lib/python3.6/dist-packages/ipykernel_launcher.py:25: RuntimeWarning: Mean of empty slice\n"
     ]
    },
    {
     "name": "stdout",
     "output_type": "stream",
     "text": [
      "already done\n",
      "7920 already done\n",
      "7921 already done\n",
      "7922 already done\n",
      "7923 already done\n",
      "7924 already done\n",
      "7925 already done\n",
      "7926 already done\n",
      "7927 already done\n",
      "7928 already done\n",
      "7929 already done\n",
      "7930 already done\n",
      "7931 PACU1_4_201013_181313.vital... "
     ]
    },
    {
     "name": "stderr",
     "output_type": "stream",
     "text": [
      "/usr/local/lib/python3.6/dist-packages/ipykernel_launcher.py:25: RuntimeWarning: Mean of empty slice\n"
     ]
    },
    {
     "name": "stdout",
     "output_type": "stream",
     "text": [
      "...done\n",
      "7932 already done\n",
      "7933 already done\n",
      "7934 already done\n",
      "7935 already done\n",
      "7936 already done\n",
      "7937 already done\n",
      "7938 already done\n",
      "7939 already done\n",
      "7940 already done\n",
      "7941 already done\n",
      "7942 already done\n",
      "7943 already done\n",
      "7944 already done\n",
      "7945 already done\n",
      "7946 already done\n",
      "7947 already done\n",
      "7948 PACU1_1_201014_105405.vital... "
     ]
    },
    {
     "name": "stderr",
     "output_type": "stream",
     "text": [
      "/usr/local/lib/python3.6/dist-packages/ipykernel_launcher.py:25: RuntimeWarning: Mean of empty slice\n"
     ]
    },
    {
     "name": "stdout",
     "output_type": "stream",
     "text": [
      "...done\n",
      "7949 already done\n",
      "7950 already done\n",
      "7951 already done\n",
      "7952 already done\n",
      "7953 already done\n",
      "7954 already done\n",
      "7955 already done\n",
      "7956 already done\n",
      "7957 already done\n",
      "7958 already done\n",
      "7959 already done\n",
      "7960 already done\n",
      "7961 already done\n",
      "7962 already done\n",
      "7963 already done\n",
      "7964 already done\n",
      "7965 already done\n",
      "7966 already done\n",
      "7967 already done\n",
      "7968 already done\n",
      "7969 already done\n",
      "7970 already done\n",
      "7971 already done\n",
      "7972 already done\n",
      "7973 already done\n",
      "7974 already done\n",
      "7977 already done\n",
      "7978 already done\n",
      "7979 already done\n",
      "7980 already done\n",
      "7981 already done\n",
      "7982 already done\n",
      "7983 already done\n",
      "7984 already done\n",
      "7985 already done\n",
      "7986 PACU1_3_201014_234437.vital... "
     ]
    },
    {
     "name": "stderr",
     "output_type": "stream",
     "text": [
      "/usr/local/lib/python3.6/dist-packages/ipykernel_launcher.py:25: RuntimeWarning: Mean of empty slice\n"
     ]
    },
    {
     "name": "stdout",
     "output_type": "stream",
     "text": [
      "...done\n",
      "7987 already done\n",
      "7988 already done\n",
      "7989 already done\n",
      "7990 already done\n",
      "7991 already done\n",
      "7992 already done\n",
      "7993 already done\n",
      "7994 PACU1_9_201016_111800.vital... "
     ]
    },
    {
     "name": "stderr",
     "output_type": "stream",
     "text": [
      "/usr/local/lib/python3.6/dist-packages/ipykernel_launcher.py:25: RuntimeWarning: Mean of empty slice\n"
     ]
    },
    {
     "name": "stdout",
     "output_type": "stream",
     "text": [
      "...done\n",
      "7995 already done\n",
      "7996 already done\n",
      "7997 already done\n",
      "7998 already done\n",
      "7999 already done\n",
      "8000 already done\n",
      "8001 already done\n",
      "8002 already done\n",
      "8003 already done\n",
      "8004 PACU1_1_201016_143857.vital... "
     ]
    },
    {
     "name": "stderr",
     "output_type": "stream",
     "text": [
      "/usr/local/lib/python3.6/dist-packages/ipykernel_launcher.py:25: RuntimeWarning: Mean of empty slice\n"
     ]
    },
    {
     "name": "stdout",
     "output_type": "stream",
     "text": [
      "...done\n",
      "8005 already done\n",
      "8006 already done\n",
      "8007 already done\n",
      "8008 already done\n",
      "8009 already done\n",
      "8010 already done\n",
      "8011 already done\n",
      "8012 already done\n",
      "8013 already done\n",
      "8014 already done\n",
      "8015 already done\n",
      "8016 already done\n",
      "8017 already done\n",
      "8018 already done\n",
      "8019 already done\n",
      "8020 already done\n",
      "8021 already done\n",
      "8022 PACU1_3_201017_175738.vital... "
     ]
    },
    {
     "name": "stderr",
     "output_type": "stream",
     "text": [
      "/usr/local/lib/python3.6/dist-packages/ipykernel_launcher.py:25: RuntimeWarning: Mean of empty slice\n"
     ]
    },
    {
     "name": "stdout",
     "output_type": "stream",
     "text": [
      "...done\n",
      "8023 already done\n",
      "8024 already done\n",
      "8025 already done\n",
      "8026 already done\n",
      "8027 already done\n",
      "8028 already done\n",
      "8030 already done\n",
      "8031 already done\n",
      "8032 already done\n",
      "8033 PACU1_4_201019_163758.vital... "
     ]
    },
    {
     "name": "stderr",
     "output_type": "stream",
     "text": [
      "/usr/local/lib/python3.6/dist-packages/ipykernel_launcher.py:25: RuntimeWarning: Mean of empty slice\n"
     ]
    },
    {
     "name": "stdout",
     "output_type": "stream",
     "text": [
      "...done\n",
      "8034 already done\n",
      "8035 already done\n",
      "8036 already done\n",
      "8037 already done\n",
      "8038 already done\n",
      "8039 already done\n",
      "8040 already done\n",
      "8041 already done\n",
      "8042 already done\n",
      "8043 already done\n",
      "8044 PACU1_3_201019_204425.vital... "
     ]
    },
    {
     "name": "stderr",
     "output_type": "stream",
     "text": [
      "/usr/local/lib/python3.6/dist-packages/ipykernel_launcher.py:25: RuntimeWarning: Mean of empty slice\n"
     ]
    },
    {
     "name": "stdout",
     "output_type": "stream",
     "text": [
      "...done\n",
      "8045 already done\n",
      "8046 already done\n",
      "8047 already done\n",
      "8048 already done\n",
      "8049 already done\n",
      "8050 already done\n",
      "8051 already done\n",
      "8052 already done\n",
      "8053 PACU1_6_201020_131741.vital... "
     ]
    },
    {
     "name": "stderr",
     "output_type": "stream",
     "text": [
      "/usr/local/lib/python3.6/dist-packages/ipykernel_launcher.py:25: RuntimeWarning: Mean of empty slice\n"
     ]
    },
    {
     "name": "stdout",
     "output_type": "stream",
     "text": [
      "...done\n",
      "8054 already done\n",
      "8055 already done\n",
      "8056 PACU1_11_201020_133418.vital... "
     ]
    },
    {
     "name": "stderr",
     "output_type": "stream",
     "text": [
      "/usr/local/lib/python3.6/dist-packages/ipykernel_launcher.py:25: RuntimeWarning: Mean of empty slice\n"
     ]
    },
    {
     "name": "stdout",
     "output_type": "stream",
     "text": [
      "...done\n",
      "8057 already done\n",
      "8058 already done\n",
      "8059 already done\n",
      "8060 already done\n",
      "8061 already done\n",
      "8062 already done\n",
      "8063 already done\n",
      "8064 PACU1_7_201020_170303.vital... "
     ]
    },
    {
     "name": "stderr",
     "output_type": "stream",
     "text": [
      "/usr/local/lib/python3.6/dist-packages/ipykernel_launcher.py:25: RuntimeWarning: Mean of empty slice\n"
     ]
    },
    {
     "name": "stdout",
     "output_type": "stream",
     "text": [
      "...done\n",
      "8065 already done\n",
      "8066 already done\n",
      "8067 already done\n",
      "8068 already done\n",
      "8069 already done\n",
      "8070 already done\n",
      "8071 PACU1_3_201020_211912.vital... "
     ]
    },
    {
     "name": "stderr",
     "output_type": "stream",
     "text": [
      "/usr/local/lib/python3.6/dist-packages/ipykernel_launcher.py:25: RuntimeWarning: Mean of empty slice\n"
     ]
    },
    {
     "name": "stdout",
     "output_type": "stream",
     "text": [
      "...done\n",
      "8072 already done\n",
      "8073 already done\n",
      "8074 already done\n",
      "8075 already done\n",
      "8076 already done\n",
      "8077 already done\n",
      "8078 already done\n",
      "8079 already done\n",
      "8080 already done\n",
      "8081 already done\n",
      "8082 already done\n",
      "8083 already done\n",
      "8084 already done\n",
      "8085 already done\n",
      "8086 already done\n",
      "8087 already done\n",
      "8088 already done\n",
      "8089 already done\n",
      "8090 already done\n",
      "8091 already done\n",
      "8092 "
     ]
    },
    {
     "name": "stderr",
     "output_type": "stream",
     "text": [
      "/usr/local/lib/python3.6/dist-packages/ipykernel_launcher.py:25: RuntimeWarning: Mean of empty slice\n"
     ]
    },
    {
     "name": "stdout",
     "output_type": "stream",
     "text": [
      "PACU1_6_201021_142848.vital... ...done\n",
      "8093 already done\n",
      "8094 already done\n",
      "8095 already done\n",
      "8096 PACU1_5_201021_162806.vital... "
     ]
    },
    {
     "name": "stderr",
     "output_type": "stream",
     "text": [
      "/usr/local/lib/python3.6/dist-packages/ipykernel_launcher.py:25: RuntimeWarning: Mean of empty slice\n"
     ]
    },
    {
     "name": "stdout",
     "output_type": "stream",
     "text": [
      "...done\n",
      "8097 already done\n",
      "8098 PACU1_9_201021_164441.vital... "
     ]
    },
    {
     "name": "stderr",
     "output_type": "stream",
     "text": [
      "/usr/local/lib/python3.6/dist-packages/ipykernel_launcher.py:25: RuntimeWarning: Mean of empty slice\n"
     ]
    },
    {
     "name": "stdout",
     "output_type": "stream",
     "text": [
      "...done\n",
      "8099 already done\n",
      "8100 already done\n",
      "8101 already done\n",
      "8102 already done\n",
      "8103 already done\n",
      "8104 already done\n",
      "8105 already done\n",
      "8106 PACU1_3_201022_030133.vital... "
     ]
    },
    {
     "name": "stderr",
     "output_type": "stream",
     "text": [
      "/usr/local/lib/python3.6/dist-packages/ipykernel_launcher.py:25: RuntimeWarning: Mean of empty slice\n"
     ]
    },
    {
     "name": "stdout",
     "output_type": "stream",
     "text": [
      "...done\n",
      "8107 PACU1_5_201022_090341.vital... "
     ]
    },
    {
     "name": "stderr",
     "output_type": "stream",
     "text": [
      "/usr/local/lib/python3.6/dist-packages/ipykernel_launcher.py:25: RuntimeWarning: Mean of empty slice\n"
     ]
    },
    {
     "name": "stdout",
     "output_type": "stream",
     "text": [
      "...done\n",
      "8108 already done\n",
      "8109 already done\n",
      "8110 already done\n",
      "8111 already done\n",
      "8112 PACU1_5_201022_094412.vital... "
     ]
    },
    {
     "name": "stderr",
     "output_type": "stream",
     "text": [
      "/usr/local/lib/python3.6/dist-packages/ipykernel_launcher.py:25: RuntimeWarning: Mean of empty slice\n"
     ]
    },
    {
     "name": "stdout",
     "output_type": "stream",
     "text": [
      "...done\n",
      "8113 already done\n",
      "8114 already done\n",
      "8115 already done\n",
      "8116 PACU1_10_201022_103506.vital... "
     ]
    },
    {
     "name": "stderr",
     "output_type": "stream",
     "text": [
      "/usr/local/lib/python3.6/dist-packages/ipykernel_launcher.py:25: RuntimeWarning: Mean of empty slice\n"
     ]
    },
    {
     "name": "stdout",
     "output_type": "stream",
     "text": [
      "...done\n",
      "8117 already done\n",
      "8118 already done\n",
      "8119 already done\n",
      "8120 already done\n",
      "8121 already done\n",
      "8122 already done\n",
      "8123 already done\n",
      "8124 already done\n",
      "8125 already done\n",
      "8126 already done\n",
      "8127 already done\n",
      "8128 already done\n",
      "8129 already done\n",
      "8130 already done\n",
      "8131 PACU1_1_201022_140255.vital... "
     ]
    },
    {
     "name": "stderr",
     "output_type": "stream",
     "text": [
      "/usr/local/lib/python3.6/dist-packages/ipykernel_launcher.py:25: RuntimeWarning: Mean of empty slice\n"
     ]
    },
    {
     "name": "stdout",
     "output_type": "stream",
     "text": [
      "...done\n",
      "8132 already done\n",
      "8133 already done\n",
      "8134 already done\n",
      "8135 already done\n",
      "8136 already done\n",
      "8137 already done\n",
      "8138 already done\n",
      "8139 already done\n",
      "8140 already done\n",
      "8141 already done\n",
      "8142 already done\n",
      "8144 already done\n",
      "8145 already done\n",
      "8146 already done\n",
      "8147 already done\n",
      "8148 already done\n",
      "8149 already done\n",
      "8150 already done\n",
      "8151 PACU1_3_201023_192748.vital... "
     ]
    },
    {
     "name": "stderr",
     "output_type": "stream",
     "text": [
      "/usr/local/lib/python3.6/dist-packages/ipykernel_launcher.py:25: RuntimeWarning: Mean of empty slice\n"
     ]
    },
    {
     "name": "stdout",
     "output_type": "stream",
     "text": [
      "...done\n",
      "8152 already done\n",
      "8153 already done\n",
      "8154 already done\n",
      "8155 already done\n",
      "8156 already done\n",
      "8157 already done\n",
      "8158 already done\n",
      "8159 PACU1_3_201023_235803.vital... "
     ]
    },
    {
     "name": "stderr",
     "output_type": "stream",
     "text": [
      "/usr/local/lib/python3.6/dist-packages/ipykernel_launcher.py:25: RuntimeWarning: Mean of empty slice\n"
     ]
    },
    {
     "name": "stdout",
     "output_type": "stream",
     "text": [
      "...done\n",
      "8160 already done\n",
      "8161 PACU1_3_201024_005821.vital... "
     ]
    },
    {
     "name": "stderr",
     "output_type": "stream",
     "text": [
      "/usr/local/lib/python3.6/dist-packages/ipykernel_launcher.py:25: RuntimeWarning: Mean of empty slice\n"
     ]
    },
    {
     "name": "stdout",
     "output_type": "stream",
     "text": [
      "...done\n",
      "8162 already done\n",
      "8163 already done\n",
      "8164 already done\n",
      "8165 already done\n",
      "8166 PACU1_3_201026_113257.vital... "
     ]
    },
    {
     "name": "stderr",
     "output_type": "stream",
     "text": [
      "/usr/local/lib/python3.6/dist-packages/ipykernel_launcher.py:25: RuntimeWarning: Mean of empty slice\n"
     ]
    },
    {
     "name": "stdout",
     "output_type": "stream",
     "text": [
      "...done\n",
      "8167 already done\n",
      "8168 already done\n",
      "8169 already done\n",
      "8170 already done\n",
      "8171 already done\n",
      "8172 already done\n",
      "8173 already done\n",
      "8174 PACU1_1_201026_141415.vital... "
     ]
    },
    {
     "name": "stderr",
     "output_type": "stream",
     "text": [
      "/usr/local/lib/python3.6/dist-packages/ipykernel_launcher.py:25: RuntimeWarning: Mean of empty slice\n"
     ]
    },
    {
     "name": "stdout",
     "output_type": "stream",
     "text": [
      "...done\n",
      "8175 already done\n",
      "8176 already done\n",
      "8177 already done\n",
      "8178 already done\n",
      "8179 already done\n",
      "8180 already done\n",
      "8181 already done\n",
      "8182 already done\n",
      "8183 already done\n",
      "8184 already done\n",
      "8185 already done\n",
      "8186 already done\n",
      "8187 already done\n",
      "8188 already done\n",
      "8189 already done\n",
      "8190 already done\n",
      "8191 already done\n",
      "8192 already done\n",
      "8193 already done\n",
      "8194 already done\n",
      "8195 already done\n",
      "8196 PACU1_10_201027_103908.vital... "
     ]
    },
    {
     "name": "stderr",
     "output_type": "stream",
     "text": [
      "/usr/local/lib/python3.6/dist-packages/ipykernel_launcher.py:25: RuntimeWarning: Mean of empty slice\n"
     ]
    },
    {
     "name": "stdout",
     "output_type": "stream",
     "text": [
      "...done\n",
      "8197 already done\n",
      "8198 PACU1_7_201027_110406.vital... "
     ]
    },
    {
     "name": "stderr",
     "output_type": "stream",
     "text": [
      "/usr/local/lib/python3.6/dist-packages/ipykernel_launcher.py:25: RuntimeWarning: Mean of empty slice\n"
     ]
    },
    {
     "name": "stdout",
     "output_type": "stream",
     "text": [
      "...done\n",
      "8199 already done\n",
      "8200 already done\n",
      "8201 PACU1_12_201027_113752.vital... "
     ]
    },
    {
     "name": "stderr",
     "output_type": "stream",
     "text": [
      "/usr/local/lib/python3.6/dist-packages/ipykernel_launcher.py:25: RuntimeWarning: Mean of empty slice\n"
     ]
    },
    {
     "name": "stdout",
     "output_type": "stream",
     "text": [
      "...done\n",
      "8202 already done\n",
      "8203 already done\n",
      "8204 PACU1_6_201027_121357.vital... "
     ]
    },
    {
     "name": "stderr",
     "output_type": "stream",
     "text": [
      "/usr/local/lib/python3.6/dist-packages/ipykernel_launcher.py:25: RuntimeWarning: Mean of empty slice\n"
     ]
    },
    {
     "name": "stdout",
     "output_type": "stream",
     "text": [
      "...done\n",
      "8205 already done\n",
      "8206 already done\n",
      "8207 already done\n",
      "8208 already done\n",
      "8209 already done\n",
      "8210 already done\n",
      "8211 already done\n",
      "8212 PACU1_2_201027_153435.vital... "
     ]
    },
    {
     "name": "stderr",
     "output_type": "stream",
     "text": [
      "/usr/local/lib/python3.6/dist-packages/ipykernel_launcher.py:25: RuntimeWarning: Mean of empty slice\n"
     ]
    },
    {
     "name": "stdout",
     "output_type": "stream",
     "text": [
      "...done\n",
      "8213 already done\n",
      "8214 already done\n",
      "8215 already done\n",
      "8216 already done\n",
      "8217 already done\n",
      "8218 already done\n",
      "8219 already done\n",
      "8220 already done\n",
      "8221 PACU1_5_201027_182805.vital... "
     ]
    },
    {
     "name": "stderr",
     "output_type": "stream",
     "text": [
      "/usr/local/lib/python3.6/dist-packages/ipykernel_launcher.py:25: RuntimeWarning: Mean of empty slice\n"
     ]
    },
    {
     "name": "stdout",
     "output_type": "stream",
     "text": [
      "...done\n",
      "8222 already done\n",
      "8223 PACU1_1_201027_191236.vital... "
     ]
    },
    {
     "name": "stderr",
     "output_type": "stream",
     "text": [
      "/usr/local/lib/python3.6/dist-packages/ipykernel_launcher.py:25: RuntimeWarning: Mean of empty slice\n"
     ]
    },
    {
     "name": "stdout",
     "output_type": "stream",
     "text": [
      "...done\n",
      "8224 already done\n",
      "8225 already done\n",
      "8226 already done\n",
      "8227 already done\n",
      "8228 already done\n",
      "8229 already done\n",
      "8230 already done\n",
      "8231 already done\n",
      "8232 already done\n",
      "8233 already done\n",
      "8234 already done\n",
      "8235 already done\n",
      "8236 already done\n",
      "8237 already done\n",
      "8238 already done\n",
      "8239 PACU1_10_201028_093439.vital... "
     ]
    },
    {
     "name": "stderr",
     "output_type": "stream",
     "text": [
      "/usr/local/lib/python3.6/dist-packages/ipykernel_launcher.py:25: RuntimeWarning: Mean of empty slice\n"
     ]
    },
    {
     "name": "stdout",
     "output_type": "stream",
     "text": [
      "...done\n",
      "8240 already done\n",
      "8241 already done\n",
      "8242 already done\n",
      "8243 already done\n",
      "8244 already done\n",
      "8245 already done\n",
      "8246 already done\n",
      "8247 PACU1_5_201028_142907.vital... "
     ]
    },
    {
     "name": "stderr",
     "output_type": "stream",
     "text": [
      "/usr/local/lib/python3.6/dist-packages/ipykernel_launcher.py:25: RuntimeWarning: Mean of empty slice\n"
     ]
    },
    {
     "name": "stdout",
     "output_type": "stream",
     "text": [
      "...done\n",
      "8248 already done\n",
      "8249 already done\n",
      "8250 already done\n",
      "8251 already done\n",
      "8252 already done\n",
      "8253 already done\n",
      "8254 already done\n",
      "8255 already done\n",
      "8256 already done\n",
      "8257 already done\n",
      "8258 already done\n",
      "8259 already done\n",
      "8260 already done\n",
      "8261 already done\n",
      "8262 already done\n",
      "8263 already done\n",
      "8264 already done\n",
      "8265 already done\n",
      "8266 already done\n",
      "8267 already done\n",
      "8268 already done\n",
      "8269 already done\n",
      "8270 already done\n",
      "8271 already done\n",
      "8272 already done\n",
      "8273 already done\n",
      "8274 already done\n",
      "8275 already done\n",
      "8276 already done\n",
      "8277 already done\n",
      "8278 already done\n",
      "8279 already done\n",
      "8280 already done\n",
      "8281 already done\n",
      "8282 already done\n",
      "8283 already done\n",
      "8284 already done\n",
      "8285 already done\n",
      "8286 already done\n",
      "8287 PACU1_4_201029_183915.vital... "
     ]
    },
    {
     "name": "stderr",
     "output_type": "stream",
     "text": [
      "/usr/local/lib/python3.6/dist-packages/ipykernel_launcher.py:25: RuntimeWarning: Mean of empty slice\n"
     ]
    },
    {
     "name": "stdout",
     "output_type": "stream",
     "text": [
      "...done\n",
      "8288 already done\n",
      "8289 already done\n",
      "8290 already done\n",
      "8291 already done\n",
      "8292 already done\n",
      "8293 already done\n",
      "8294 already done\n",
      "8295 already done\n",
      "8296 already done\n",
      "8297 already done\n",
      "8298 already done\n",
      "8299 already done\n",
      "8300 already done\n",
      "8301 already done\n",
      "8302 already done\n",
      "8303 already done\n",
      "8304 already done\n",
      "8305 already done\n",
      "8306 already done\n",
      "8307 already done\n",
      "8308 already done\n",
      "8309 already done\n",
      "8310 already done\n",
      "8311 already done\n",
      "8312 already done\n",
      "8313 already done\n",
      "8314 already done\n",
      "8315 already done\n",
      "8316 already done\n",
      "8317 already done\n",
      "8318 already done\n",
      "8319 already done\n",
      "8320 already done\n",
      "8321 already done\n",
      "8322 already done\n",
      "8323 PACU1_1_201030_211816.vital... "
     ]
    },
    {
     "name": "stderr",
     "output_type": "stream",
     "text": [
      "/usr/local/lib/python3.6/dist-packages/ipykernel_launcher.py:25: RuntimeWarning: Mean of empty slice\n"
     ]
    },
    {
     "name": "stdout",
     "output_type": "stream",
     "text": [
      "...done\n",
      "8324 already done\n",
      "8325 already done\n",
      "8326 already done\n",
      "8327 already done\n",
      "8328 already done\n",
      "8329 already done\n",
      "8330 already done\n",
      "8331 already done\n",
      "8332 already done\n",
      "8333 already done\n",
      "8334 already done\n",
      "8335 already done\n",
      "8336 already done\n",
      "8337 already done\n",
      "8338 already done\n",
      "8339 already done\n",
      "8340 already done\n",
      "8341 already done\n",
      "8342 already done\n",
      "8343 already done\n",
      "8344 already done\n",
      "8345 already done\n",
      "8346 already done\n",
      "8347 already done\n",
      "8348 already done\n",
      "8349 already done\n",
      "8350 already done\n",
      "8351 already done\n",
      "8352 already done\n",
      "8353 already done\n",
      "8354 already done\n",
      "8355 already done\n",
      "8356 PACU1_2_190726_143531.vital... "
     ]
    },
    {
     "name": "stderr",
     "output_type": "stream",
     "text": [
      "/usr/local/lib/python3.6/dist-packages/ipykernel_launcher.py:25: RuntimeWarning: Mean of empty slice\n"
     ]
    },
    {
     "name": "stdout",
     "output_type": "stream",
     "text": [
      "...done\n",
      "8357 already done\n",
      "8358 already done\n",
      "8359 already done\n",
      "8360 already done\n",
      "8361 already done\n",
      "8362 already done\n",
      "8363 already done\n",
      "8364 already done\n",
      "8365 already done\n",
      "8366 already done\n",
      "8367 already done\n",
      "8368 already done\n",
      "8369 already done\n",
      "8370 already done\n",
      "8371 already done\n",
      "8372 already done\n",
      "8373 already done\n",
      "8374 already done\n",
      "8375 already done\n",
      "8376 already done\n",
      "8377 already done\n",
      "8378 already done\n",
      "8379 already done\n",
      "8380 already done\n",
      "8381 already done\n",
      "8382 already done\n",
      "8383 already done\n",
      "8384 already done\n",
      "8385 already done\n",
      "8386 already done\n",
      "8387 already done\n",
      "8388 already done\n",
      "8389 already done\n",
      "8390 PACU1_2_200122_154936.vital... "
     ]
    },
    {
     "name": "stderr",
     "output_type": "stream",
     "text": [
      "/usr/local/lib/python3.6/dist-packages/ipykernel_launcher.py:25: RuntimeWarning: Mean of empty slice\n"
     ]
    },
    {
     "name": "stdout",
     "output_type": "stream",
     "text": [
      "...done\n",
      "8391 already done\n",
      "8392 already done\n",
      "8393 already done\n",
      "8394 already done\n",
      "8395 already done\n",
      "8396 PACU1_6_200213_110240.vital... "
     ]
    },
    {
     "name": "stderr",
     "output_type": "stream",
     "text": [
      "/usr/local/lib/python3.6/dist-packages/ipykernel_launcher.py:25: RuntimeWarning: Mean of empty slice\n"
     ]
    },
    {
     "name": "stdout",
     "output_type": "stream",
     "text": [
      "...done\n",
      "8397 already done\n",
      "8398 already done\n",
      "8399 already done\n",
      "8400 already done\n",
      "8401 already done\n",
      "8402 already done\n",
      "8403 already done\n",
      "8404 already done\n",
      "8405 already done\n",
      "8406 already done\n",
      "8407 already done\n",
      "8408 already done\n",
      "8409 already done\n",
      "8410 already done\n",
      "8411 already done\n",
      "8412 already done\n",
      "8413 already done\n",
      "8414 already done\n",
      "8415 already done\n",
      "8416 already done\n",
      "8417 already done\n",
      "8418 already done\n",
      "8419 already done\n",
      "8420 already done\n",
      "8421 already done\n",
      "8422 already done\n",
      "8423 already done\n",
      "8424 already done\n",
      "8425 already done\n",
      "8426 already done\n",
      "8427 already done\n",
      "8428 already done\n",
      "8429 already done\n",
      "8430 already done\n",
      "8431 already done\n",
      "8432 already done\n",
      "8433 already done\n",
      "8434 already done\n",
      "8435 already done\n",
      "8436 already done\n",
      "8437 already done\n",
      "8438 already done\n",
      "8439 already done\n",
      "8440 already done\n",
      "8441 already done\n",
      "8442 already done\n",
      "8443 already done\n",
      "8444 already done\n",
      "8445 already done\n",
      "8446 already done\n",
      "8447 already done\n",
      "8448 already done\n",
      "8449 already done\n",
      "8450 already done\n",
      "8451 already done\n",
      "8452 already done\n",
      "8453 already done\n",
      "8454 already done\n",
      "8455 already done\n",
      "8456 already done\n",
      "8457 already done\n",
      "8458 already done\n",
      "8459 already done\n",
      "8460 already done\n",
      "8461 already done\n",
      "8462 already done\n",
      "8463 already done\n",
      "8464 already done\n",
      "8465 already done\n",
      "8466 already done\n",
      "8467 already done\n",
      "8468 already done\n",
      "8469 already done\n",
      "8470 already done\n",
      "8471 already done\n",
      "8472 already done\n",
      "8473 already done\n",
      "8474 already done\n",
      "8475 already done\n",
      "8476 already done\n",
      "8477 already done\n",
      "8478 already done\n",
      "8479 already done\n",
      "8480 already done\n",
      "8481 already done\n",
      "8482 already done\n",
      "8483 already done\n",
      "8484 already done\n",
      "8485 already done\n",
      "8486 already done\n",
      "8487 already done\n",
      "8488 already done\n",
      "8489 already done\n",
      "8491 already done\n",
      "8492 already done\n",
      "8493 already done\n",
      "8494 already done\n",
      "8495 already done\n",
      "8497 already done\n",
      "8500 already done\n",
      "8501 already done\n",
      "8502 already done\n",
      "8503 already done\n",
      "8504 already done\n",
      "8505 already done\n",
      "8506 already done\n",
      "8507 already done\n",
      "8508 already done\n",
      "8509 already done\n",
      "8510 already done\n",
      "8511 already done\n",
      "8512 already done\n",
      "8513 already done\n",
      "8514 already done\n",
      "8515 already done\n",
      "8516 already done\n",
      "8517 already done\n",
      "8518 already done\n",
      "8519 already done\n",
      "8520 already done\n",
      "8521 already done\n",
      "8522 already done\n",
      "8523 already done\n",
      "8524 already done\n",
      "8525 already done\n",
      "8526 already done\n",
      "8527 already done\n",
      "8528 already done\n",
      "8529 already done\n",
      "8530 already done\n",
      "8531 already done\n",
      "8532 already done\n",
      "8533 already done\n",
      "8534 already done\n",
      "8535 already done\n",
      "8536 already done\n",
      "8537 already done\n",
      "8538 already done\n",
      "8539 already done\n",
      "8540 already done\n",
      "8541 already done\n",
      "8542 already done\n",
      "8543 already done\n",
      "8544 already done\n",
      "8545 already done\n",
      "8546 already done\n",
      "8547 already done\n",
      "8548 already done\n",
      "8549 already done\n",
      "8550 already done\n",
      "8551 already done\n",
      "8552 already done\n",
      "8553 already done\n",
      "8554 already done\n",
      "8555 already done\n",
      "8556 already done\n",
      "8557 already done\n",
      "8558 already done\n",
      "8559 already done\n",
      "8560 already done\n",
      "8561 already done\n",
      "8562 already done\n",
      "8563 already done\n",
      "8564 already done\n",
      "8565 already done\n",
      "8566 already done\n",
      "8567 already done\n",
      "8568 already done\n",
      "8569 already done\n",
      "8570 already done\n",
      "8571 already done\n",
      "8572 already done\n",
      "8573 already done\n",
      "8574 already done\n",
      "8575 already done\n",
      "8576 already done\n",
      "8577 already done\n",
      "8578 already done\n",
      "8579 already done\n",
      "8580 already done\n",
      "8581 already done\n",
      "8582 already done\n",
      "8583 already done\n",
      "8584 already done\n",
      "8585 already done\n",
      "8586 already done\n",
      "8587 already done\n",
      "8588 already done\n",
      "8589 already done\n",
      "8590 already done\n",
      "8591 PACU1_11_190517_111359.vital... "
     ]
    },
    {
     "name": "stderr",
     "output_type": "stream",
     "text": [
      "/usr/local/lib/python3.6/dist-packages/ipykernel_launcher.py:25: RuntimeWarning: Mean of empty slice\n"
     ]
    },
    {
     "name": "stdout",
     "output_type": "stream",
     "text": [
      "...done\n",
      "8592 already done\n",
      "8593 already done\n",
      "8594 already done\n",
      "8595 already done\n",
      "8596 already done\n",
      "8597 already done\n",
      "8598 already done\n",
      "8599 already done\n",
      "8600 already done\n",
      "8601 already done\n",
      "8602 already done\n",
      "8603 already done\n",
      "8604 already done\n",
      "8606 already done\n",
      "8607 already done\n",
      "8608 already done\n",
      "8609 PACU1_5_190524_134340.vital... "
     ]
    },
    {
     "name": "stderr",
     "output_type": "stream",
     "text": [
      "/usr/local/lib/python3.6/dist-packages/ipykernel_launcher.py:25: RuntimeWarning: Mean of empty slice\n"
     ]
    },
    {
     "name": "stdout",
     "output_type": "stream",
     "text": [
      "...done\n",
      "8610 already done\n",
      "8611 already done\n",
      "8612 already done\n",
      "8613 already done\n",
      "8614 already done\n",
      "8615 already done\n",
      "8616 already done\n",
      "8617 already done\n",
      "8618 already done\n",
      "8619 already done\n",
      "8620 already done\n",
      "8621 already done\n",
      "8622 already done\n",
      "8623 already done\n",
      "8624 already done\n",
      "8625 already done\n",
      "8626 already done\n",
      "8627 already done\n",
      "8628 already done\n",
      "8629 already done\n",
      "8630 already done\n",
      "8631 already done\n",
      "8632 already done\n",
      "8633 already done\n",
      "8634 already done\n",
      "8635 already done\n",
      "8636 already done\n",
      "8637 already done\n",
      "8638 already done\n",
      "8639 already done\n",
      "8640 already done\n",
      "8641 already done\n",
      "8642 already done\n",
      "8643 already done\n",
      "8644 already done\n",
      "8645 already done\n",
      "8646 already done\n",
      "8647 already done\n",
      "8648 already done\n",
      "8649 already done\n",
      "8650 already done\n",
      "8651 already done\n",
      "8652 already done\n",
      "8653 already done\n",
      "8654 already done\n",
      "8655 already done\n",
      "8656 already done\n",
      "8657 already done\n",
      "8658 already done\n",
      "8659 already done\n",
      "8660 already done\n",
      "8661 already done\n",
      "8662 already done\n",
      "8663 already done\n",
      "8664 already done\n",
      "8665 already done\n",
      "8666 already done\n",
      "8667 already done\n",
      "8668 already done\n",
      "8669 already done\n",
      "8670 already done\n",
      "8671 already done\n",
      "8672 already done\n",
      "8673 already done\n",
      "8674 already done\n",
      "8675 already done\n",
      "8676 already done\n",
      "8677 already done\n",
      "8678 already done\n",
      "8679 already done\n",
      "8680 already done\n",
      "8681 already done\n",
      "8682 already done\n",
      "8683 already done\n",
      "8684 already done\n",
      "8685 already done\n",
      "8686 already done\n",
      "8687 already done\n",
      "8688 already done\n",
      "8689 already done\n",
      "8690 already done\n",
      "8691 already done\n",
      "8692 already done\n",
      "8693 already done\n",
      "8694 already done\n",
      "8695 already done\n",
      "8696 already done\n",
      "8697 already done\n",
      "8698 already done\n",
      "8699 already done\n",
      "8700 already done\n",
      "8701 already done\n",
      "8702 already done\n",
      "8703 already done\n",
      "8704 already done\n",
      "8705 already done\n",
      "8706 already done\n",
      "8707 already done\n",
      "8708 already done\n",
      "8709 already done\n",
      "8710 already done\n",
      "8711 already done\n",
      "8712 already done\n",
      "8713 already done\n",
      "8714 already done\n",
      "8715 already done\n",
      "8716 already done\n",
      "8717 already done\n",
      "8718 already done\n",
      "8719 already done\n",
      "8720 already done\n",
      "8721 already done\n",
      "8722 already done\n",
      "8723 already done\n",
      "8724 already done\n",
      "8725 already done\n",
      "8726 already done\n",
      "8727 already done\n",
      "8728 already done\n",
      "8729 already done\n",
      "8730 already done\n",
      "8731 already done\n",
      "8732 already done\n",
      "8733 already done\n",
      "8734 already done\n",
      "8735 already done\n",
      "8736 already done\n",
      "8737 already done\n",
      "8738 already done\n",
      "8739 already done\n",
      "8740 already done\n",
      "8741 already done\n",
      "8742 already done\n",
      "8743 already done\n",
      "8744 already done\n",
      "8745 already done\n",
      "8746 already done\n",
      "8747 already done\n",
      "8748 already done\n",
      "8749 already done\n",
      "8750 already done\n",
      "8751 already done\n",
      "8752 already done\n",
      "8753 already done\n",
      "8754 already done\n",
      "8755 already done\n",
      "8756 already done\n",
      "8757 already done\n",
      "8758 already done\n",
      "8759 already done\n",
      "8760 already done\n",
      "8761 already done\n",
      "8762 already done\n",
      "8763 already done\n",
      "8764 already done\n",
      "8765 already done\n",
      "8766 already done\n",
      "8767 already done\n",
      "8768 already done\n",
      "8769 already done\n",
      "8770 already done\n",
      "8771 already done\n",
      "8772 already done\n",
      "8773 already done\n",
      "8774 already done\n",
      "8775 already done\n",
      "8776 already done\n",
      "8777 already done\n",
      "8778 already done\n",
      "8779 already done\n",
      "8780 already done\n",
      "8781 already done\n",
      "8782 already done\n",
      "8783 already done\n",
      "8784 already done\n",
      "8785 already done\n",
      "8786 already done\n",
      "8787 already done\n",
      "8788 already done\n",
      "8790 already done\n",
      "8791 already done\n",
      "8792 already done\n",
      "8793 already done\n",
      "8794 already done\n",
      "8795 already done\n",
      "8796 already done\n",
      "8797 already done\n",
      "8798 already done\n",
      "8799 already done\n",
      "8800 already done\n",
      "8801 already done\n",
      "8802 already done\n",
      "8803 already done\n",
      "8804 already done\n",
      "8805 already done\n",
      "8806 already done\n",
      "8807 already done\n",
      "8808 already done\n",
      "8809 already done\n",
      "8810 already done\n",
      "8811 already done\n",
      "8812 already done\n",
      "8813 already done\n",
      "8814 already done\n",
      "8815 already done\n",
      "8816 already done\n",
      "8817 already done\n",
      "8818 already done\n",
      "8819 already done\n",
      "8820 already done\n",
      "8821 already done\n",
      "8822 already done\n",
      "8823 already done\n",
      "8824 already done\n",
      "8825 already done\n",
      "8826 already done\n",
      "8827 already done\n",
      "8828 already done\n",
      "8829 already done\n",
      "8830 already done\n",
      "8831 already done\n",
      "8832 already done\n",
      "8833 already done\n",
      "8834 already done\n",
      "8835 already done\n",
      "8836 already done\n",
      "8837 already done\n",
      "8838 already done\n",
      "8839 already done\n",
      "8840 already done\n",
      "8841 already done\n",
      "8842 already done\n",
      "8843 already done\n",
      "8844 already done\n",
      "8845 already done\n",
      "8846 already done\n",
      "8847 already done\n",
      "8848 already done\n",
      "8849 already done\n",
      "8850 already done\n",
      "8851 already done\n",
      "8852 already done\n",
      "8853 already done\n",
      "8854 already done\n",
      "8855 already done\n",
      "8856 already done\n",
      "8857 already done\n",
      "8858 already done\n",
      "8859 already done\n",
      "8860 already done\n",
      "8861 already done\n",
      "8862 already done\n",
      "8863 already done\n",
      "8864 already done\n",
      "8865 already done\n",
      "8866 already done\n",
      "8867 already done\n",
      "8868 already done\n",
      "8869 already done\n",
      "8870 already done\n",
      "8871 already done\n",
      "8872 already done\n",
      "8873 already done\n",
      "8874 already done\n",
      "8875 already done\n",
      "8876 already done\n",
      "8877 already done\n",
      "8878 already done\n",
      "8879 already done\n",
      "8880 already done\n",
      "8881 already done\n",
      "8882 already done\n",
      "8883 already done\n",
      "8884 already done\n",
      "8885 already done\n",
      "8886 already done\n",
      "8887 already done\n",
      "8888 already done\n",
      "8889 already done\n",
      "8890 already done\n",
      "8891 already done\n",
      "8892 already done\n",
      "8893 already done\n",
      "8894 already done\n",
      "8895 already done\n",
      "8896 already done\n",
      "8897 already done\n",
      "8898 already done\n",
      "8899 already done\n",
      "8900 already done\n",
      "8901 already done\n",
      "8902 already done\n",
      "8903 already done\n",
      "8904 already done\n",
      "8905 already done\n",
      "8906 already done\n",
      "8907 already done\n",
      "8908 already done\n",
      "8909 already done\n",
      "8910 already done\n",
      "8911 already done\n",
      "8912 already done\n",
      "8913 already done\n",
      "8914 already done\n",
      "8915 already done\n",
      "8916 already done\n",
      "8917 already done\n",
      "8918 already done\n",
      "8919 already done\n",
      "8920 already done\n",
      "8921 already done\n",
      "8922 already done\n",
      "8923 already done\n",
      "8924 already done\n",
      "8925 already done\n",
      "8926 already done\n",
      "8927 already done\n",
      "8928 already done\n",
      "8929 already done\n",
      "8930 already done\n",
      "8931 already done\n",
      "8932 already done\n",
      "8933 already done\n",
      "8934 already done\n",
      "8935 already done\n",
      "8936 already done\n",
      "8937 already done\n",
      "8938 already done\n",
      "8939 already done\n",
      "8940 already done\n",
      "8941 already done\n",
      "8942 already done\n",
      "8943 already done\n",
      "8944 already done\n",
      "8945 already done\n",
      "8946 already done\n",
      "8947 already done\n",
      "8948 already done\n",
      "8949 already done\n",
      "8950 already done\n",
      "8951 already done\n",
      "8952 already done\n",
      "8953 already done\n",
      "8954 already done\n",
      "8955 already done\n",
      "8956 already done\n",
      "8957 already done\n",
      "8958 already done\n",
      "8959 already done\n",
      "8960 already done\n",
      "8961 already done\n",
      "8962 already done\n",
      "8963 already done\n",
      "8964 already done\n",
      "8965 already done\n",
      "8966 already done\n",
      "8967 already done\n",
      "8968 already done\n",
      "8969 already done\n",
      "8970 already done\n",
      "8971 already done\n",
      "8972 already done\n",
      "8973 already done\n",
      "8974 already done\n",
      "8975 already done\n",
      "8976 already done\n",
      "8977 already done\n",
      "8978 already done\n",
      "8979 already done\n",
      "8980 already done\n",
      "8981 already done\n",
      "8982 already done\n",
      "8983 already done\n",
      "8984 already done\n",
      "8985 already done\n",
      "8986 already done\n",
      "8987 already done\n",
      "8988 already done\n",
      "8989 already done\n",
      "8990 already done\n",
      "8991 already done\n",
      "8992 already done\n",
      "8993 already done\n",
      "8994 already done\n",
      "8995 already done\n",
      "8996 already done\n",
      "8997 already done\n",
      "8998 already done\n",
      "8999 already done\n",
      "9000 already done\n",
      "9001 already done\n",
      "9002 already done\n",
      "9003 already done\n",
      "9004 already done\n",
      "9005 already done\n",
      "9006 already done\n",
      "9007 already done\n",
      "9008 already done\n",
      "9009 already done\n",
      "9010 already done\n",
      "9011 already done\n",
      "9012 already done\n",
      "9013 already done\n",
      "9014 already done\n",
      "9015 already done\n",
      "9016 already done\n",
      "9017 already done\n",
      "9018 already done\n",
      "9019 already done\n",
      "9020 already done\n",
      "9021 already done\n",
      "9022 already done\n",
      "9023 already done\n",
      "9024 already done\n",
      "9025 already done\n",
      "9026 already done\n",
      "9027 already done\n",
      "9028 already done\n",
      "9029 already done\n",
      "9030 already done\n",
      "9031 already done\n",
      "9032 already done\n",
      "9033 already done\n",
      "9034 already done\n",
      "9035 already done\n",
      "9036 already done\n",
      "9037 already done\n",
      "9038 already done\n",
      "9039 already done\n",
      "9040 already done\n",
      "9041 already done\n",
      "9042 already done\n",
      "9043 already done\n",
      "9044 already done\n",
      "9045 already done\n",
      "9046 already done\n",
      "9047 already done\n",
      "9048 already done\n",
      "9049 already done\n",
      "9050 already done\n",
      "9051 already done\n",
      "9052 already done\n",
      "9053 already done\n",
      "9054 PACU1_9_191129_114055.vital... "
     ]
    },
    {
     "name": "stderr",
     "output_type": "stream",
     "text": [
      "/usr/local/lib/python3.6/dist-packages/ipykernel_launcher.py:25: RuntimeWarning: Mean of empty slice\n"
     ]
    },
    {
     "name": "stdout",
     "output_type": "stream",
     "text": [
      "...done\n",
      "9055 already done\n",
      "9056 already done\n",
      "9057 already done\n",
      "9058 already done\n",
      "9059 already done\n",
      "9060 already done\n",
      "9061 already done\n",
      "9062 already done\n",
      "9063 already done\n",
      "9064 already done\n",
      "9065 already done\n",
      "9066 already done\n",
      "9067 already done\n",
      "9068 already done\n",
      "9069 already done\n",
      "9070 already done\n",
      "9071 already done\n",
      "9072 already done\n",
      "9073 already done\n",
      "9074 already done\n",
      "9075 already done\n",
      "9076 already done\n",
      "9077 already done\n",
      "9078 already done\n",
      "9079 already done\n",
      "9080 already done\n",
      "9081 already done\n",
      "9082 already done\n",
      "9083 already done\n",
      "9084 already done\n",
      "9085 already done\n",
      "9086 already done\n",
      "9087 already done\n",
      "9088 already done\n",
      "9089 already done\n",
      "9090 already done\n",
      "9091 already done\n",
      "9092 already done\n",
      "9093 already done\n",
      "9094 already done\n",
      "9095 already done\n",
      "9096 already done\n",
      "9097 already done\n",
      "9098 already done\n",
      "9099 already done\n",
      "9100 already done\n",
      "9101 already done\n",
      "9102 already done\n",
      "9103 already done\n",
      "9104 already done\n",
      "9105 already done\n",
      "9106 already done\n",
      "9107 already done\n",
      "9108 already done\n",
      "9109 already done\n",
      "9110 already done\n",
      "9111 already done\n",
      "9112 already done\n",
      "9113 already done\n",
      "9114 already done\n",
      "9115 already done\n",
      "9116 already done\n",
      "9117 already done\n",
      "9118 already done\n",
      "9119 already done\n",
      "9120 already done\n",
      "9121 already done\n",
      "9122 already done\n",
      "9123 already done\n",
      "9124 already done\n",
      "9125 already done\n",
      "9126 already done\n",
      "9127 already done\n",
      "9128 already done\n",
      "9129 already done\n",
      "9130 already done\n",
      "9131 already done\n",
      "9132 already done\n",
      "9133 already done\n",
      "9134 already done\n",
      "9135 already done\n",
      "9136 already done\n",
      "9137 already done\n",
      "9138 already done\n",
      "9139 already done\n",
      "9140 already done\n",
      "9141 already done\n",
      "9142 already done\n",
      "9143 already done\n",
      "9144 already done\n",
      "9145 already done\n",
      "9146 already done\n",
      "9147 already done\n",
      "9148 already done\n",
      "9149 already done\n",
      "9150 already done\n",
      "9151 already done\n",
      "9152 already done\n",
      "9153 already done\n",
      "9154 already done\n",
      "9155 already done\n",
      "9156 already done\n",
      "9157 already done\n",
      "9158 already done\n",
      "9159 already done\n",
      "9160 already done\n",
      "9161 already done\n",
      "9162 already done\n",
      "9163 already done\n",
      "9164 already done\n",
      "9165 already done\n",
      "9166 already done\n",
      "9167 already done\n",
      "9168 already done\n",
      "9169 already done\n",
      "9170 already done\n",
      "9171 already done\n",
      "9172 already done\n",
      "9173 already done\n",
      "9174 already done\n",
      "9175 already done\n",
      "9176 already done\n",
      "9177 already done\n",
      "9178 already done\n",
      "9179 already done\n",
      "9180 already done\n",
      "9181 already done\n",
      "9182 already done\n",
      "9183 already done\n",
      "9184 already done\n",
      "9185 already done\n",
      "9186 already done\n",
      "9187 already done\n",
      "9188 already done\n",
      "9189 already done\n",
      "9190 already done\n",
      "9191 already done\n",
      "9192 already done\n",
      "9193 already done\n",
      "9194 already done\n",
      "9195 already done\n",
      "9196 already done\n",
      "9197 already done\n",
      "9198 already done\n",
      "9199 already done\n",
      "9200 already done\n",
      "9201 already done\n",
      "9202 already done\n",
      "9203 already done\n",
      "9204 already done\n",
      "9205 already done\n",
      "9206 already done\n",
      "9207 already done\n",
      "9208 already done\n",
      "9209 already done\n",
      "9210 already done\n",
      "9211 already done\n",
      "9212 already done\n",
      "9213 already done\n",
      "9214 already done\n",
      "9215 already done\n",
      "9216 already done\n",
      "9217 already done\n",
      "9218 already done\n",
      "9219 already done\n",
      "9220 already done\n",
      "9221 already done\n",
      "9222 already done\n",
      "9223 already done\n",
      "9224 already done\n",
      "9225 already done\n",
      "9226 already done\n",
      "9227 already done\n",
      "9228 already done\n",
      "9229 already done\n",
      "9230 already done\n",
      "9231 already done\n",
      "9232 already done\n",
      "9233 already done\n",
      "9234 already done\n",
      "9235 already done\n",
      "9236 already done\n",
      "9237 already done\n",
      "9238 already done\n",
      "9239 already done\n",
      "9240 already done\n",
      "9241 already done\n",
      "9242 already done\n",
      "9243 already done\n",
      "9244 already done\n",
      "9245 already done\n",
      "9246 already done\n",
      "9247 already done\n",
      "9248 already done\n",
      "9249 already done\n",
      "9250 already done\n",
      "9251 already done\n",
      "9252 already done\n",
      "9253 already done\n",
      "9254 already done\n",
      "9255 already done\n",
      "9256 already done\n",
      "9257 already done\n",
      "9258 already done\n",
      "9259 already done\n",
      "9260 already done\n",
      "9261 already done\n",
      "9262 already done\n",
      "9263 already done\n",
      "9264 already done\n",
      "9265 already done\n",
      "9266 already done\n",
      "9267 already done\n",
      "9268 already done\n",
      "9269 already done\n",
      "9270 already done\n",
      "9271 already done\n",
      "9272 already done\n",
      "9273 already done\n",
      "9274 already done\n",
      "9275 already done\n",
      "9276 already done\n",
      "9277 already done\n",
      "9278 already done\n",
      "9279 already done\n",
      "9280 already done\n",
      "9281 already done\n",
      "9282 already done\n",
      "9283 already done\n",
      "9284 already done\n",
      "9285 already done\n",
      "9286 already done\n",
      "9287 already done\n",
      "9288 already done\n",
      "9289 already done\n",
      "9290 already done\n",
      "9291 already done\n",
      "9292 already done\n",
      "9293 already done\n",
      "9294 already done\n",
      "9295 already done\n",
      "9296 already done\n",
      "9297 already done\n",
      "9298 already done\n",
      "9299 already done\n",
      "9300 already done\n",
      "9301 already done\n",
      "9302 already done\n",
      "9303 already done\n",
      "9304 already done\n",
      "9305 already done\n",
      "9306 already done\n",
      "9307 already done\n",
      "9308 already done\n",
      "9309 already done\n",
      "9310 already done\n",
      "9311 already done\n",
      "9312 already done\n",
      "9313 already done\n",
      "9314 already done\n",
      "9315 already done\n",
      "9316 already done\n",
      "9317 already done\n",
      "9318 already done\n",
      "9319 already done\n",
      "9320 already done\n",
      "9321 already done\n",
      "9322 already done\n",
      "9323 already done\n",
      "9324 already done\n",
      "9325 already done\n",
      "9326 already done\n",
      "9327 already done\n",
      "9328 already done\n",
      "9329 already done\n",
      "9330 already done\n",
      "9331 already done\n",
      "9332 already done\n",
      "9333 already done\n",
      "9334 already done\n",
      "9335 already done\n",
      "9336 already done\n",
      "9337 already done\n",
      "9338 already done\n",
      "9339 already done\n",
      "9340 already done\n",
      "9341 already done\n",
      "9342 already done\n",
      "9343 already done\n",
      "9344 already done\n",
      "9345 already done\n",
      "9346 already done\n",
      "9347 already done\n",
      "9348 already done\n",
      "9349 already done\n",
      "9350 already done\n",
      "9351 already done\n",
      "9352 already done\n",
      "9353 already done\n",
      "9354 already done\n",
      "9355 already done\n",
      "9356 already done\n",
      "9357 already done\n",
      "9358 already done\n",
      "9359 already done\n",
      "9360 already done\n",
      "9361 already done\n",
      "9362 already done\n",
      "9363 already done\n",
      "9364 already done\n",
      "9365 already done\n",
      "9366 already done\n",
      "9367 already done\n",
      "9368 already done\n",
      "9369 already done\n",
      "9370 already done\n",
      "9371 already done\n",
      "9372 already done\n",
      "9373 already done\n",
      "9374 already done\n",
      "9375 already done\n",
      "9376 already done\n",
      "9377 already done\n",
      "9378 already done\n",
      "9379 already done\n",
      "9380 already done\n",
      "9381 already done\n",
      "9382 already done\n",
      "9383 already done\n",
      "9384 already done\n",
      "9385 already done\n",
      "9386 already done\n",
      "9387 already done\n",
      "9388 already done\n",
      "9389 already done\n",
      "9390 already done\n",
      "9391 already done\n",
      "9392 already done\n",
      "9393 already done\n",
      "9394 already done\n",
      "9395 already done\n",
      "9396 already done\n",
      "9397 already done\n",
      "9398 already done\n",
      "9399 already done\n",
      "9400 already done\n",
      "9401 already done\n",
      "9402 already done\n",
      "9403 already done\n",
      "9404 already done\n",
      "9405 already done\n",
      "9406 already done\n",
      "9407 already done\n",
      "9408 already done\n",
      "9409 already done\n",
      "9410 already done\n",
      "9411 already done\n",
      "9412 already done\n",
      "9413 already done\n",
      "9414 already done\n",
      "9415 already done\n",
      "9416 already done\n",
      "9417 already done\n",
      "9418 already done\n",
      "9419 already done\n",
      "9420 already done\n",
      "9421 already done\n",
      "9422 already done\n",
      "9423 already done\n",
      "9424 already done\n",
      "9425 already done\n",
      "9426 already done\n",
      "9427 already done\n",
      "9428 already done\n",
      "9429 already done\n",
      "9430 already done\n",
      "9431 already done\n",
      "9432 already done\n",
      "9433 PACU1_7_200311_105731.vital... "
     ]
    },
    {
     "name": "stderr",
     "output_type": "stream",
     "text": [
      "/usr/local/lib/python3.6/dist-packages/ipykernel_launcher.py:25: RuntimeWarning: Mean of empty slice\n"
     ]
    },
    {
     "name": "stdout",
     "output_type": "stream",
     "text": [
      "...done\n",
      "9434 already done\n",
      "9435 already done\n",
      "9436 already done\n",
      "9437 already done\n",
      "9438 already done\n",
      "9439 already done\n",
      "9440 already done\n",
      "9441 already done\n",
      "9442 already done\n",
      "9443 already done\n",
      "9444 already done\n",
      "9445 already done\n",
      "9446 already done\n",
      "9447 already done\n",
      "9448 already done\n",
      "9449 already done\n",
      "9450 already done\n",
      "9451 already done\n",
      "9452 already done\n",
      "9453 already done\n",
      "9454 already done\n",
      "9455 already done\n",
      "9456 already done\n",
      "9457 already done\n",
      "9458 already done\n",
      "9459 already done\n",
      "9460 already done\n",
      "9461 already done\n",
      "9462 already done\n",
      "9463 already done\n",
      "9464 already done\n",
      "9465 already done\n",
      "9466 already done\n",
      "9467 already done\n",
      "9468 already done\n",
      "9469 already done\n",
      "9470 already done\n",
      "9471 already done\n",
      "9472 already done\n",
      "9473 already done\n",
      "9474 already done\n",
      "9475 already done\n",
      "9476 already done\n",
      "9477 already done\n",
      "9478 already done\n",
      "9479 already done\n",
      "9480 already done\n",
      "9481 already done\n",
      "9482 already done\n",
      "9483 already done\n",
      "9484 already done\n",
      "9485 already done\n",
      "9486 already done\n",
      "9487 already done\n",
      "9488 already done\n",
      "9489 already done\n",
      "9490 already done\n",
      "9491 already done\n",
      "9492 already done\n",
      "9493 already done\n",
      "9494 already done\n",
      "9495 already done\n",
      "9496 already done\n",
      "9497 already done\n",
      "9498 already done\n",
      "9499 already done\n",
      "9500 already done\n",
      "9501 already done\n",
      "9502 already done\n",
      "9503 already done\n",
      "9504 already done\n",
      "9505 already done\n",
      "9506 already done\n",
      "9507 already done\n",
      "9508 already done\n",
      "9509 already done\n",
      "9510 already done\n",
      "9511 already done\n",
      "9512 already done\n",
      "9513 already done\n",
      "9514 already done\n",
      "9515 already done\n",
      "9516 already done\n",
      "9517 already done\n",
      "9518 already done\n",
      "9519 already done\n",
      "9520 already done\n",
      "9521 already done\n",
      "9522 already done\n",
      "9523 already done\n",
      "9524 already done\n",
      "9525 already done\n",
      "9526 already done\n",
      "9527 already done\n",
      "9528 already done\n",
      "9529 already done\n",
      "9530 already done\n",
      "9531 already done\n",
      "9532 already done\n",
      "9533 already done\n",
      "9534 already done\n",
      "9535 already done\n",
      "9536 already done\n",
      "9537 already done\n",
      "9538 already done\n",
      "9539 already done\n",
      "9540 already done\n",
      "9541 already done\n",
      "9542 already done\n",
      "9543 already done\n",
      "9544 already done\n",
      "9545 already done\n",
      "9546 already done\n",
      "9547 already done\n",
      "9548 already done\n",
      "9549 already done\n",
      "9550 already done\n",
      "9551 already done\n",
      "9552 already done\n",
      "9553 already done\n",
      "9554 already done\n",
      "9555 already done\n",
      "9556 already done\n",
      "9557 already done\n",
      "9558 already done\n",
      "9559 already done\n",
      "9560 already done\n",
      "9561 already done\n",
      "9562 already done\n",
      "9563 already done\n",
      "9564 already done\n",
      "9565 already done\n",
      "9566 already done\n",
      "9567 already done\n",
      "9568 already done\n",
      "9569 already done\n",
      "9570 already done\n",
      "9571 already done\n",
      "9572 already done\n",
      "9573 already done\n",
      "9574 already done\n",
      "9575 already done\n",
      "9576 already done\n",
      "9577 already done\n",
      "9578 already done\n",
      "9579 already done\n",
      "9580 already done\n",
      "9581 already done\n",
      "9582 already done\n",
      "9583 already done\n",
      "9584 already done\n",
      "9585 already done\n",
      "9586 already done\n",
      "9587 already done\n",
      "9588 already done\n",
      "9589 already done\n",
      "9590 already done\n",
      "9591 already done\n",
      "9592 already done\n",
      "9593 already done\n",
      "9594 already done\n",
      "9595 already done\n",
      "9596 already done\n",
      "9597 already done\n",
      "9598 already done\n",
      "9599 already done\n",
      "9600 already done\n",
      "9601 already done\n",
      "9602 already done\n",
      "9603 already done\n",
      "9604 already done\n",
      "9605 already done\n",
      "9606 already done\n",
      "9607 already done\n",
      "9608 already done\n",
      "9609 already done\n",
      "9610 already done\n",
      "9611 already done\n",
      "9612 already done\n",
      "9613 already done\n",
      "9614 already done\n",
      "9615 already done\n",
      "9616 already done\n",
      "9617 already done\n",
      "9618 already done\n",
      "9619 already done\n",
      "9620 already done\n",
      "9621 already done\n",
      "9622 already done\n",
      "9623 already done\n",
      "9624 already done\n",
      "9625 already done\n",
      "9626 already done\n",
      "9627 already done\n",
      "9628 already done\n",
      "9629 already done\n",
      "9630 already done\n",
      "9631 already done\n",
      "9632 already done\n",
      "9633 already done\n",
      "9634 already done\n",
      "9635 already done\n",
      "9636 already done\n",
      "9637 already done\n",
      "9638 already done\n",
      "9639 already done\n",
      "9640 already done\n",
      "9641 already done\n",
      "9642 already done\n",
      "9643 already done\n",
      "9644 already done\n",
      "9645 already done\n",
      "9646 already done\n",
      "9647 already done\n",
      "9648 already done\n",
      "9649 already done\n",
      "9650 already done\n",
      "9651 already done\n",
      "9652 already done\n",
      "9653 already done\n",
      "9654 already done\n",
      "9655 already done\n",
      "9656 already done\n",
      "9657 already done\n",
      "9658 already done\n",
      "9659 already done\n",
      "9660 already done\n",
      "9661 already done\n",
      "9662 already done\n",
      "9663 already done\n",
      "9664 already done\n",
      "9665 already done\n",
      "9666 already done\n",
      "9667 already done\n",
      "9668 already done\n",
      "9669 already done\n",
      "9670 already done\n",
      "9671 already done\n",
      "9672 already done\n",
      "9673 already done\n",
      "9674 already done\n",
      "9675 already done\n",
      "9676 already done\n",
      "9677 already done\n",
      "9678 already done\n",
      "9679 already done\n",
      "9680 already done\n",
      "9681 already done\n",
      "9682 already done\n",
      "9683 already done\n",
      "9684 already done\n",
      "9685 already done\n",
      "9686 already done\n",
      "9687 already done\n",
      "9688 already done\n",
      "9689 already done\n",
      "9690 already done\n",
      "9691 already done\n",
      "9692 already done\n",
      "9693 already done\n",
      "9694 already done\n",
      "9695 already done\n",
      "9696 already done\n",
      "9697 already done\n",
      "9698 already done\n",
      "9699 already done\n",
      "9700 already done\n",
      "9701 already done\n",
      "9702 already done\n",
      "9703 already done\n",
      "9704 already done\n",
      "9705 already done\n",
      "9706 already done\n",
      "9707 already done\n",
      "9708 already done\n",
      "9709 already done\n",
      "9710 already done\n",
      "9711 already done\n",
      "9712 already done\n",
      "9713 already done\n",
      "9714 already done\n",
      "9715 already done\n",
      "9716 already done\n",
      "9717 already done\n",
      "9718 already done\n",
      "9719 already done\n",
      "9720 PACU1_6_200611_164232.vital... "
     ]
    },
    {
     "name": "stderr",
     "output_type": "stream",
     "text": [
      "/usr/local/lib/python3.6/dist-packages/ipykernel_launcher.py:25: RuntimeWarning: Mean of empty slice\n"
     ]
    },
    {
     "name": "stdout",
     "output_type": "stream",
     "text": [
      "...done\n",
      "9721 already done\n",
      "9722 already done\n",
      "9723 already done\n",
      "9724 already done\n",
      "9725 already done\n",
      "9726 already done\n",
      "9727 already done\n",
      "9728 already done\n",
      "9729 already done\n",
      "9730 already done\n",
      "9731 already done\n",
      "9732 already done\n",
      "9733 already done\n",
      "9734 already done\n",
      "9735 already done\n",
      "9736 already done\n",
      "9737 already done\n",
      "9738 already done\n",
      "9739 already done\n",
      "9740 already done\n",
      "9741 already done\n",
      "9742 already done\n",
      "9743 already done\n",
      "9744 already done\n",
      "9745 already done\n",
      "9746 already done\n",
      "9747 already done\n",
      "9748 already done\n",
      "9749 already done\n",
      "9750 already done\n",
      "9751 already done\n",
      "9752 already done\n",
      "9753 already done\n",
      "9754 already done\n",
      "9755 already done\n",
      "9756 already done\n",
      "9757 already done\n",
      "9758 already done\n",
      "9759 already done\n",
      "9760 already done\n",
      "9761 already done\n",
      "9762 already done\n",
      "9763 already done\n",
      "9764 already done\n",
      "9765 already done\n",
      "9766 already done\n",
      "9767 already done\n",
      "9768 already done\n",
      "9769 already done\n",
      "9770 already done\n",
      "9771 already done\n",
      "9772 already done\n",
      "9773 already done\n",
      "9774 already done\n",
      "9775 already done\n",
      "9776 already done\n",
      "9777 already done\n",
      "9778 already done\n",
      "9779 already done\n",
      "9780 already done\n",
      "9781 already done\n",
      "9782 already done\n",
      "9783 already done\n",
      "9784 already done\n",
      "9785 already done\n",
      "9786 already done\n",
      "9787 already done\n",
      "9788 already done\n",
      "9789 already done\n",
      "9790 already done\n",
      "9791 already done\n",
      "9792 already done\n",
      "9793 already done\n",
      "9794 already done\n",
      "9795 already done\n",
      "9796 already done\n",
      "9797 already done\n",
      "9798 already done\n",
      "9799 already done\n",
      "9800 already done\n",
      "9801 already done\n",
      "9802 already done\n",
      "9803 already done\n",
      "9804 already done\n",
      "9805 already done\n",
      "9806 already done\n",
      "9807 already done\n",
      "9808 already done\n",
      "9809 already done\n",
      "9810 already done\n",
      "9811 already done\n",
      "9812 already done\n",
      "9813 already done\n",
      "9814 already done\n",
      "9815 already done\n",
      "9816 already done\n",
      "9817 already done\n",
      "9818 already done\n",
      "9819 already done\n",
      "9820 already done\n",
      "9821 already done\n",
      "9822 already done\n",
      "9823 already done\n",
      "9824 already done\n",
      "9825 already done\n",
      "9826 already done\n",
      "9827 already done\n",
      "9828 already done\n",
      "9829 already done\n",
      "9830 already done\n",
      "9831 already done\n",
      "9832 already done\n",
      "9833 already done\n",
      "9835 already done\n",
      "9836 already done\n",
      "9837 already done\n",
      "9838 already done\n",
      "9839 already done\n",
      "9840 already done\n",
      "9841 already done\n",
      "9842 already done\n",
      "9843 already done\n",
      "9844 already done\n",
      "9845 already done\n",
      "9846 already done\n",
      "9847 already done\n",
      "9848 already done\n",
      "9849 already done\n",
      "9850 already done\n",
      "9851 already done\n",
      "9852 already done\n",
      "9853 already done\n",
      "9854 already done\n",
      "9855 already done\n",
      "9856 already done\n",
      "9857 already done\n",
      "9858 already done\n",
      "9859 already done\n",
      "9860 already done\n",
      "9861 already done\n",
      "9862 already done\n",
      "9863 already done\n",
      "9864 already done\n",
      "9865 already done\n",
      "9866 already done\n",
      "9867 already done\n",
      "9868 already done\n",
      "9869 already done\n",
      "9870 already done\n",
      "9871 already done\n",
      "9872 already done\n",
      "9873 already done\n",
      "9874 already done\n",
      "9875 already done\n",
      "9876 already done\n",
      "9877 already done\n",
      "9878 already done\n",
      "9879 already done\n",
      "9880 already done\n",
      "9881 already done\n",
      "9882 already done\n",
      "9883 already done\n",
      "9884 already done\n",
      "9885 already done\n",
      "9886 already done\n",
      "9887 already done\n",
      "9888 already done\n",
      "9889 already done\n",
      "9890 already done\n",
      "9891 already done\n",
      "9892 already done\n",
      "9893 already done\n",
      "9894 already done\n",
      "9895 already done\n",
      "9896 already done\n",
      "9897 already done\n",
      "9898 already done\n",
      "9899 already done\n",
      "9900 already done\n",
      "9901 already done\n",
      "9902 already done\n",
      "9903 already done\n",
      "9904 already done\n",
      "9905 already done\n",
      "9906 already done\n",
      "9907 already done\n",
      "9908 already done\n",
      "9909 already done\n",
      "9910 already done\n",
      "9911 already done\n",
      "9912 already done\n",
      "9913 already done\n",
      "9914 already done\n",
      "9915 already done\n",
      "9916 already done\n",
      "9917 already done\n",
      "9918 already done\n",
      "9919 already done\n",
      "9920 already done\n",
      "9921 already done\n",
      "9922 already done\n",
      "9923 already done\n",
      "9924 already done\n",
      "9925 already done\n",
      "9926 already done\n",
      "9927 already done\n",
      "9928 already done\n",
      "9929 already done\n",
      "9930 already done\n",
      "9931 already done\n",
      "9932 already done\n",
      "9933 already done\n",
      "9934 already done\n",
      "9935 already done\n",
      "9936 already done\n",
      "9937 already done\n",
      "9938 already done\n",
      "9939 already done\n",
      "9940 already done\n",
      "9941 already done\n",
      "9942 already done\n",
      "9943 already done\n",
      "9944 already done\n",
      "9945 already done\n",
      "9946 already done\n",
      "9947 already done\n",
      "9948 already done\n",
      "9949 already done\n",
      "9950 already done\n",
      "9951 already done\n",
      "9952 already done\n",
      "9953 already done\n",
      "9954 already done\n",
      "9955 already done\n",
      "9956 already done\n",
      "9957 already done\n",
      "9958 already done\n",
      "9959 already done\n",
      "9960 already done\n",
      "9961 already done\n",
      "9962 already done\n",
      "9963 already done\n",
      "9964 already done\n",
      "9965 already done\n",
      "9966 already done\n",
      "9967 already done\n",
      "9968 already done\n",
      "9969 already done\n",
      "9970 already done\n",
      "9971 already done\n",
      "9972 already done\n",
      "9973 already done\n",
      "9974 already done\n",
      "9975 already done\n",
      "9976 already done\n",
      "9977 already done\n",
      "9978 already done\n",
      "9979 already done\n",
      "9980 already done\n",
      "9981 already done\n",
      "9982 already done\n",
      "9983 already done\n",
      "9984 already done\n",
      "9985 already done\n",
      "9986 already done\n",
      "9987 already done\n",
      "9988 already done\n",
      "9989 already done\n",
      "9990 already done\n",
      "9991 already done\n",
      "9992 already done\n",
      "9993 already done\n",
      "9994 already done\n",
      "9995 already done\n",
      "9996 already done\n",
      "9997 already done\n",
      "9998 already done\n",
      "9999 already done\n",
      "10000 already done\n",
      "10001 already done\n",
      "10002 already done\n",
      "10003 already done\n",
      "10004 already done\n",
      "10005 already done\n",
      "10006 already done\n",
      "10007 already done\n",
      "10008 already done\n",
      "10009 already done\n",
      "10010 already done\n",
      "10011 already done\n",
      "10012 already done\n",
      "10013 already done\n",
      "10014 already done\n",
      "10015 already done\n",
      "10016 already done\n",
      "10017 already done\n",
      "10018 already done\n",
      "10019 already done\n",
      "10020 already done\n",
      "10021 already done\n",
      "10022 already done\n",
      "10023 already done\n",
      "10024 already done\n",
      "10025 already done\n",
      "10026 already done\n",
      "10027 already done\n",
      "10028 already done\n",
      "10029 already done\n",
      "10030 already done\n",
      "10031 already done\n",
      "10032 already done\n",
      "10033 already done\n",
      "10034 already done\n",
      "10035 already done\n",
      "10036 already done\n",
      "10037 already done\n",
      "10038 already done\n",
      "10039 already done\n",
      "10040 already done\n",
      "10041 already done\n",
      "10042 already done\n",
      "10043 already done\n",
      "10044 already done\n",
      "10045 already done\n",
      "10046 already done\n",
      "10047 already done\n",
      "10048 already done\n",
      "10049 already done\n",
      "10050 already done\n",
      "10051 already done\n",
      "10052 already done\n",
      "10053 already done\n",
      "10054 already done\n",
      "10055 already done\n",
      "10056 already done\n",
      "10057 already done\n",
      "10058 already done\n",
      "10059 already done\n",
      "10060 already done\n",
      "10061 already done\n",
      "10062 already done\n",
      "10063 already done\n",
      "10064 already done\n",
      "10065 already done\n",
      "10066 already done\n",
      "10067 already done\n",
      "10068 already done\n",
      "10069 already done\n",
      "10070 already done\n",
      "10071 already done\n",
      "10072 already done\n",
      "10073 already done\n",
      "10074 already done\n",
      "10075 already done\n",
      "10076 already done\n",
      "10077 already done\n",
      "10078 already done\n",
      "10079 already done\n",
      "10080 already done\n",
      "10081 already done\n",
      "10082 already done\n",
      "10083 already done\n",
      "10084 already done\n",
      "10085 already done\n",
      "10086 already done\n",
      "10087 already done\n",
      "10088 already done\n",
      "10089 already done\n",
      "10090 already done\n",
      "10091 already done\n",
      "10092 already done\n",
      "10093 already done\n",
      "10094 already done\n",
      "10095 already done\n",
      "10096 already done\n",
      "10097 already done\n",
      "10098 already done\n",
      "10099 already done\n",
      "10100 already done\n",
      "10101 already done\n",
      "10102 already done\n",
      "10103 already done\n",
      "10104 already done\n",
      "10105 already done\n",
      "10106 already done\n",
      "10107 already done\n",
      "10108 already done\n",
      "10109 already done\n",
      "10110 already done\n",
      "10111 already done\n",
      "10112 already done\n",
      "10113 already done\n",
      "10114 already done\n",
      "10115 already done\n",
      "10116 already done\n",
      "10117 already done\n",
      "10118 already done\n",
      "10119 already done\n",
      "10120 already done\n",
      "10121 already done\n",
      "10122 already done\n",
      "10123 already done\n",
      "10124 already done\n",
      "10125 already done\n",
      "10126 already done\n",
      "10127 already done\n",
      "10128 already done\n",
      "10129 already done\n",
      "10130 already done\n",
      "10131 already done\n",
      "10132 already done\n",
      "10133 already done\n",
      "10134 already done\n",
      "10135 already done\n",
      "10136 already done\n",
      "10137 already done\n",
      "10138 already done\n",
      "10139 already done\n",
      "10140 already done\n",
      "10141 already done\n",
      "10142 already done\n",
      "10143 already done\n",
      "10144 already done\n",
      "10145 already done\n",
      "10146 already done\n",
      "10147 already done\n",
      "10148 already done\n",
      "10149 already done\n",
      "10150 already done\n",
      "10151 already done\n",
      "10152 already done\n",
      "10153 already done\n",
      "10154 already done\n",
      "10155 already done\n"
     ]
    }
   ],
   "source": [
    "import pandas as pd\n",
    "import datetime, time, pickle, os, vitaldb\n",
    "\n",
    "\n",
    "df_match = pd.read_csv('ftn+_age_match_20201224-Copy1.csv',sep=',')\n",
    "df_match['NRS_time']=pd.to_datetime(df_match['NRS_time'])\n",
    "df_match = df_match.rename(columns={'Unnamed: 0':'index'})\n",
    "#df_match.reset_index(inplace=True, drop=True)\n",
    "#print(len(df_match))\n",
    "\n",
    "\n",
    "error_list = []\n",
    "srate= 100\n",
    "for i in range(5000,len(df_match)):\n",
    "    filename = str(df_match.loc[i,'Value'])+','+str(df_match.loc[i,'index'])+','+ df_match.loc[i,'path']\n",
    "    vital_path = '../../../cranberry2/Preprocessing/vital_data/PPG_100Hz_ECG_100Hz_pacu_5min/'+filename\n",
    "    if os.path.exists(vital_path):\n",
    "        print(i, end=' ')\n",
    "        rec_path = '../../../cranberry2/Preprocessing/vital_data/pacu_full_vital/'+df_match.loc[i,'path']\n",
    "        #print(rec_path)\n",
    "        \n",
    "        \n",
    "        # vitaldb 에러에 해당되는 케이스\n",
    "        df_vital = pickle.load(open(vital_path,'rb'))\n",
    "        if np.nanmean(df_vital['ECG'].tolist()) > -4 and np.nanmean(df_vital['PPG'].tolist()) > - 100:\n",
    "            print('already done')\n",
    "            continue\n",
    "        \n",
    "        error_list.append(filename)\n",
    "        print(df_match.loc[i,'path'], end='... ')\n",
    "        vfile_ecg = vitaldb.vital_recs_time(rec_path,['SNUADCW/ECG_II'],interval=0.01).flatten()\n",
    "        vfile_ppg = vitaldb.vital_recs_time(rec_path,['SNUADCW/PLETH'],interval=0.01).flatten()\n",
    "        \n",
    "        \n",
    "        #print(vfile)\n",
    "        # vital이 비어있는 경우\n",
    "        if len(vfile_ecg[0])==0 | len(vfile_ppg[0])==0:\n",
    "            print('index ',df_match.loc[i,'index'],' OPID ',df_match.loc[i,'opid'],'empty vital file')\n",
    "            continue\n",
    "        \n",
    "        \n",
    "        Abs_time = [vfile_ecg[1]+datetime.timedelta(hours=9)+datetime.timedelta(seconds=i/srate) for i in range(len(vfile_ecg[0]))]\n",
    "        #print(vfile[1])\n",
    "        dics = {'Abs_time':Abs_time,'PPG':vfile_ppg[0],'ECG':vfile_ecg[0]}\n",
    "        df_vital = pd.DataFrame(data=dics)\n",
    "        end_idx_list = df_vital[(df_vital['Abs_time'] > df_match.loc[i,'NRS_time'] - datetime.timedelta(seconds=1)) & (df_vital['Abs_time'] < df_match.loc[i,'NRS_time'] + datetime.timedelta(seconds=1))].index.tolist()\n",
    "\n",
    "        if len(end_idx_list)==0:\n",
    "            print('index ',i,' OPID ',df_match.loc[i,'opid'],\" no vital data at NRS time\")\n",
    "\n",
    "        else:\n",
    "            end_idx=end_idx_list[0]+1\n",
    "            start_idx= end_idx - 5 * 60 * srate\n",
    "            start_idx_n = max(0,start_idx)\n",
    "\n",
    "\n",
    "            ext = df_vital[start_idx_n:end_idx]\n",
    "            extr=ext.dropna(subset=['ECG'])\n",
    "            extr=extr.drop_duplicates(subset=['ECG'])\n",
    "\n",
    "            \n",
    "            # vital 값이 전부 nan이 아닌 경우\n",
    "            if len(extr)>1:\n",
    "                # vital이 NRS 측정 5분전까지 없는 경우\n",
    "                if start_idx <0 :\n",
    "                    fit = (-1)*end_idx \n",
    "                    extraction = pd.DataFrame(index=range(5*60*srate),columns=['PPG','ECG'])\n",
    "                    \n",
    "                    col_ppg = np.full(5*60*srate, np.nan)\n",
    "                    col_ppg[fit:] = ext['PPG'][fit:].tolist()\n",
    "                    \n",
    "                    col_ecg = np.full(5*60*srate, np.nan)\n",
    "                    col_ecg[fit:] = ext['ECG'][fit:].tolist()                    \n",
    "                    \n",
    "                    extraction['PPG'] = col_ppg\n",
    "                    extraction['ECG'] = col_ecg\n",
    "\n",
    "                else:\n",
    "                    extraction = ext\n",
    "  \n",
    "                with open('../../../cranberry2/Preprocessing/vital_data/PPG_100Hz_ECG_100Hz_pacu_5min/'+filename,'wb') as f:\n",
    "                    pickle.dump(extraction, f)\n",
    "                print('...done')\n",
    "\n",
    "        #except:\n",
    "            #print('error: ',i,df_match.loc[i,'opid'],df_match.loc[i,'path'])"
   ]
  },
  {
   "cell_type": "code",
   "execution_count": 3,
   "metadata": {
    "ExecuteTime": {
     "end_time": "2020-12-27T06:26:50.028425Z",
     "start_time": "2020-12-27T06:26:50.021887Z"
    }
   },
   "outputs": [
    {
     "name": "stdout",
     "output_type": "stream",
     "text": [
      "381\n"
     ]
    }
   ],
   "source": [
    "print(len(error_list))\n",
    "pickle.dump(error_list, open('err2', 'wb'))"
   ]
  }
 ],
 "metadata": {
  "kernelspec": {
   "display_name": "Python 3",
   "language": "python",
   "name": "python3"
  },
  "language_info": {
   "codemirror_mode": {
    "name": "ipython",
    "version": 3
   },
   "file_extension": ".py",
   "mimetype": "text/x-python",
   "name": "python",
   "nbconvert_exporter": "python",
   "pygments_lexer": "ipython3",
   "version": "3.6.9"
  },
  "toc": {
   "base_numbering": 1,
   "nav_menu": {},
   "number_sections": true,
   "sideBar": true,
   "skip_h1_title": false,
   "title_cell": "Table of Contents",
   "title_sidebar": "Contents",
   "toc_cell": false,
   "toc_position": {},
   "toc_section_display": true,
   "toc_window_display": true
  },
  "varInspector": {
   "cols": {
    "lenName": 16,
    "lenType": 16,
    "lenVar": 40
   },
   "kernels_config": {
    "python": {
     "delete_cmd_postfix": "",
     "delete_cmd_prefix": "del ",
     "library": "var_list.py",
     "varRefreshCmd": "print(var_dic_list())"
    },
    "r": {
     "delete_cmd_postfix": ") ",
     "delete_cmd_prefix": "rm(",
     "library": "var_list.r",
     "varRefreshCmd": "cat(var_dic_list()) "
    }
   },
   "types_to_exclude": [
    "module",
    "function",
    "builtin_function_or_method",
    "instance",
    "_Feature"
   ],
   "window_display": false
  }
 },
 "nbformat": 4,
 "nbformat_minor": 4
}
