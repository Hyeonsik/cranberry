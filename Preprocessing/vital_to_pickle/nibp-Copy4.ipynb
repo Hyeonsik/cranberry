{
 "cells": [
  {
   "cell_type": "code",
   "execution_count": null,
   "metadata": {
    "ExecuteTime": {
     "start_time": "2020-12-29T12:35:48.494Z"
    }
   },
   "outputs": [
    {
     "name": "stdout",
     "output_type": "stream",
     "text": [
      "1144 ... "
     ]
    }
   ],
   "source": [
    "import pandas as pd\n",
    "import datetime\n",
    "import time\n",
    "import pickle\n",
    "import os\n",
    "import numpy as np\n",
    "import vitaldb\n",
    "\n",
    "df_match = pd.read_csv('ftn+_age_match_20201224-Copy1.csv',sep=',')\n",
    "df_match['NRS_time']=pd.to_datetime(df_match['NRS_time'])\n",
    "df_match = df_match.rename(columns={'Unnamed: 0':'index'})\n",
    "#df_match.reset_index(inplace=True, drop=True)\n",
    "'''vital -> csv\n",
    "df_match['path']=[f_name.split('.')[0]+\".csv\" for f_name in df_match['path'].values.flatten()] '''\n",
    "\n",
    "save_path = '../../../cranberry2/Preprocessing/vital_data/NIBP_250Hz_preop_5min/'\n",
    "if not os.path.exists(save_path[:-1]):\n",
    "    os.mkdir(save_path[:-1])\n",
    "    \n",
    "srate= 250\n",
    "for i in range(1144,1145):\n",
    "    filename = str(df_match.loc[i,'Value'])+','+str(df_match.loc[i,'index'])+','+ df_match.loc[i,'path']\n",
    "    if not os.path.exists(save_path+filename):\n",
    "        print(i,'...', end=' ')\n",
    "        rec_path = '../../../cranberry2/Preprocessing/vital_data/pacu_full_vital/'+df_match.loc[i,'path']    \n",
    "        vfile = vitaldb.vital_recs_time(rec_path,['Solar8000/NIBP_MBP'],interval=0.004).flatten()\n",
    "        \n",
    "        if len(vfile[0])==0:\n",
    "            print('index ',i,' OPID ',df_match.loc[i,'opid'],'empty NIBP')\n",
    "        else:\n",
    "            Abs_time = [vfile[1]+datetime.timedelta(hours=9)+datetime.timedelta(seconds=j/srate) for j in range(len(vfile[0]))]\n",
    "            dics = {'Abs_time':Abs_time,'NIBP':vfile[0]}\n",
    "            df_NIBP = pd.DataFrame(data=dics)\n",
    "            end_idx_list = df_NIBP[(df_NIBP['Abs_time'] > df_match.loc[i,'NRS_time'] - datetime.timedelta(seconds=1)) & (df_NIBP['Abs_time'] < df_match.loc[i,'NRS_time'] + datetime.timedelta(seconds=1))].index.tolist()\n",
    "\n",
    "            if len(end_idx_list)==0:\n",
    "                print('index ',i,' OPID ',df_match.loc[i,'opid'],\" no vital data at NRS time\")                  \n",
    "            else:\n",
    "                end_idx=end_idx_list[0]\n",
    "                start_idx= max(0,end_idx - 5 * 60 * srate)\n",
    "                extraction = df_NIBP[start_idx:end_idx]\n",
    "                with open(save_path+filename,'wb') as f:\n",
    "                    pickle.dump(extraction, f)\n",
    "                    print('done')\n",
    "\n",
    "#이건 2분보다 짧아도 저장함"
   ]
  }
 ],
 "metadata": {
  "kernelspec": {
   "display_name": "Python 3",
   "language": "python",
   "name": "python3"
  },
  "language_info": {
   "codemirror_mode": {
    "name": "ipython",
    "version": 3
   },
   "file_extension": ".py",
   "mimetype": "text/x-python",
   "name": "python",
   "nbconvert_exporter": "python",
   "pygments_lexer": "ipython3",
   "version": "3.6.9"
  },
  "toc": {
   "base_numbering": 1,
   "nav_menu": {},
   "number_sections": true,
   "sideBar": true,
   "skip_h1_title": false,
   "title_cell": "Table of Contents",
   "title_sidebar": "Contents",
   "toc_cell": false,
   "toc_position": {},
   "toc_section_display": true,
   "toc_window_display": false
  },
  "varInspector": {
   "cols": {
    "lenName": 16,
    "lenType": 16,
    "lenVar": 40
   },
   "kernels_config": {
    "python": {
     "delete_cmd_postfix": "",
     "delete_cmd_prefix": "del ",
     "library": "var_list.py",
     "varRefreshCmd": "print(var_dic_list())"
    },
    "r": {
     "delete_cmd_postfix": ") ",
     "delete_cmd_prefix": "rm(",
     "library": "var_list.r",
     "varRefreshCmd": "cat(var_dic_list()) "
    }
   },
   "types_to_exclude": [
    "module",
    "function",
    "builtin_function_or_method",
    "instance",
    "_Feature"
   ],
   "window_display": false
  }
 },
 "nbformat": 4,
 "nbformat_minor": 4
}
