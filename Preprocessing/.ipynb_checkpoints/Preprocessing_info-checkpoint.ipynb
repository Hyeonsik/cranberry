{
 "cells": [
  {
   "cell_type": "markdown",
   "metadata": {},
   "source": [
    "# Input 1"
   ]
  },
  {
   "cell_type": "markdown",
   "metadata": {},
   "source": [
    "## Preprocessing result"
   ]
  },
  {
   "cell_type": "code",
   "execution_count": 14,
   "metadata": {
    "ExecuteTime": {
     "end_time": "2020-12-01T02:21:38.147159Z",
     "start_time": "2020-12-01T02:21:36.837868Z"
    },
    "scrolled": true
   },
   "outputs": [
    {
     "data": {
      "text/html": [
       "<div>\n",
       "<style scoped>\n",
       "    .dataframe tbody tr th:only-of-type {\n",
       "        vertical-align: middle;\n",
       "    }\n",
       "\n",
       "    .dataframe tbody tr th {\n",
       "        vertical-align: top;\n",
       "    }\n",
       "\n",
       "    .dataframe thead th {\n",
       "        text-align: right;\n",
       "    }\n",
       "</style>\n",
       "<table border=\"1\" class=\"dataframe\">\n",
       "  <thead>\n",
       "    <tr style=\"text-align: right;\">\n",
       "      <th></th>\n",
       "      <th>level_0</th>\n",
       "      <th>index</th>\n",
       "      <th>caseids</th>\n",
       "      <th>NRS</th>\n",
       "      <th>file_path</th>\n",
       "      <th>1</th>\n",
       "      <th>2</th>\n",
       "      <th>3</th>\n",
       "      <th>4</th>\n",
       "      <th>5</th>\n",
       "      <th>...</th>\n",
       "      <th>14</th>\n",
       "      <th>15</th>\n",
       "      <th>16</th>\n",
       "      <th>17</th>\n",
       "      <th>18</th>\n",
       "      <th>19</th>\n",
       "      <th>20</th>\n",
       "      <th>21</th>\n",
       "      <th>22</th>\n",
       "      <th>23</th>\n",
       "    </tr>\n",
       "  </thead>\n",
       "  <tbody>\n",
       "    <tr>\n",
       "      <th>0</th>\n",
       "      <td>0</td>\n",
       "      <td>0</td>\n",
       "      <td>PACU1_2_190503_132609.csv</td>\n",
       "      <td>3.0</td>\n",
       "      <td>3.0,249,PACU1_2_190503_132609.csv</td>\n",
       "      <td>(False, [0.688, 0.688, 0.688], [-1, -1])</td>\n",
       "      <td>(False, [1.0, 1.0, 1.0], [-1, -1])</td>\n",
       "      <td>(False, [0.95, 0.95, 0.95], [-1, -1])</td>\n",
       "      <td>(False, [0.45, 0.45, 0.45], [-1, -1])</td>\n",
       "      <td>(True, [0.0, 0.0, 0.0], [0.0, 0.0])</td>\n",
       "      <td>...</td>\n",
       "      <td>(True, [0.0, 0.0, 0.0], [0.0, 0.0])</td>\n",
       "      <td>(True, [0.0, 0.0, 0.0], [0.07142857142857142, ...</td>\n",
       "      <td>(True, [0.0, 0.0, 0.0], [0.14285714285714285, ...</td>\n",
       "      <td>(True, [0.0, 0.0, 0.0], [0.0, 0.0])</td>\n",
       "      <td>(True, [0.0, 0.0, 0.0], [0.0, 0.07142857142857...</td>\n",
       "      <td>(True, [0.0, 0.0, 0.0], [0.0, 0.07142857142857...</td>\n",
       "      <td>(True, [0.0, 0.0, 0.0], [0.0, 0.0])</td>\n",
       "      <td>(False, [0.297, 0.297, 0.297], [-1, -1])</td>\n",
       "      <td>(False, [0.361, 0.361, 0.361], [-1, -1])</td>\n",
       "      <td>(True, [0.064, 0.064, 0.064], [0.1538461538461...</td>\n",
       "    </tr>\n",
       "    <tr>\n",
       "      <th>1</th>\n",
       "      <td>2</td>\n",
       "      <td>2</td>\n",
       "      <td>PACU1_12_200604_165543.csv</td>\n",
       "      <td>3.0</td>\n",
       "      <td>3.0,5650,PACU1_12_200604_165543.csv</td>\n",
       "      <td>(True, [0.0, 0.0, 0.0], [0.0, 0.0])</td>\n",
       "      <td>(True, [0.0, 0.0, 0.0], [0.0, 0.0])</td>\n",
       "      <td>(True, [0.0, 0.0, 0.0], [0.0, 0.0])</td>\n",
       "      <td>(True, [0.0, 0.0, 0.0], [0.0, 0.11111111111111...</td>\n",
       "      <td>(True, [0.0, 0.0, 0.0], [0.0, 0.11111111111111...</td>\n",
       "      <td>...</td>\n",
       "      <td>(True, [0.0, 0.0, 0.0], [0.09090909090909091, ...</td>\n",
       "      <td>(True, [0.0, 0.0, 0.0], [0.4444444444444444, 0...</td>\n",
       "      <td>(True, [0.0, 0.0, 0.0], [0.2, 0.09090909090909...</td>\n",
       "      <td>(True, [0.0, 0.0, 0.0], [0.08333333333333333, ...</td>\n",
       "      <td>(True, [0.0, 0.0, 0.0], [0.09090909090909091, ...</td>\n",
       "      <td>(True, [0.0, 0.0, 0.0], [0.0, 0.0])</td>\n",
       "      <td>(True, [0.0, 0.0, 0.0], [0.0, 0.0])</td>\n",
       "      <td>(True, [0.0, 0.0, 0.0], [0.0, 0.0])</td>\n",
       "      <td>(True, [0.0, 0.0, 0.0], [0.0, 0.0])</td>\n",
       "      <td>(True, [0.0, 0.0, 0.0], [0.0, 0.0])</td>\n",
       "    </tr>\n",
       "    <tr>\n",
       "      <th>2</th>\n",
       "      <td>3</td>\n",
       "      <td>3</td>\n",
       "      <td>PACU1_12_200528_152944.csv</td>\n",
       "      <td>6.0</td>\n",
       "      <td>6.0,5450,PACU1_12_200528_152944.csv</td>\n",
       "      <td>(True, [0.0, 0.0, 0.0], [0.3, 0.3])</td>\n",
       "      <td>(False, [0.0, 0.0, 0.0], [0.5, 0.2727272727272...</td>\n",
       "      <td>(True, [0.0, 0.0, 0.0], [0.3333333333333333, 0...</td>\n",
       "      <td>(True, [0.0, 0.0, 0.0], [0.0, 0.0])</td>\n",
       "      <td>(True, [0.0, 0.0, 0.0], [0.0, 0.0])</td>\n",
       "      <td>...</td>\n",
       "      <td>(True, [0.0, 0.0, 0.0], [0.2727272727272727, 0...</td>\n",
       "      <td>(True, [0.0, 0.0, 0.0], [0.18181818181818182, ...</td>\n",
       "      <td>(True, [0.0, 0.0, 0.0], [0.0, 0.0])</td>\n",
       "      <td>(True, [0.0, 0.0, 0.0], [0.0, 0.0])</td>\n",
       "      <td>(True, [0.0, 0.0, 0.0], [0.08333333333333333, ...</td>\n",
       "      <td>(True, [0.0, 0.0, 0.0], [0.09090909090909091, ...</td>\n",
       "      <td>(True, [0.0, 0.0, 0.0], [0.0, 0.0])</td>\n",
       "      <td>(True, [0.0, 0.0, 0.0], [0.09090909090909091, ...</td>\n",
       "      <td>(False, [0.0, 0.0, 0.0], [0.5454545454545454, ...</td>\n",
       "      <td>(False, [0.0, 0.0, 0.0], [0.5, 0.0])</td>\n",
       "    </tr>\n",
       "    <tr>\n",
       "      <th>3</th>\n",
       "      <td>4</td>\n",
       "      <td>4</td>\n",
       "      <td>PACU1_12_201008_143103.csv</td>\n",
       "      <td>3.0</td>\n",
       "      <td>3.0,7909,PACU1_12_201008_143103.csv</td>\n",
       "      <td>(True, [0.0, 0.0, 0.0], [0.0, 0.0])</td>\n",
       "      <td>(True, [0.0, 0.0, 0.0], [0.0, 0.0])</td>\n",
       "      <td>(True, [0.0, 0.0, 0.0], [0.0, 0.0])</td>\n",
       "      <td>(True, [0.0, 0.0, 0.0], [0.0, 0.0])</td>\n",
       "      <td>(True, [0.0, 0.0, 0.0], [0.0, 0.0])</td>\n",
       "      <td>...</td>\n",
       "      <td>(True, [0.0, 0.0, 0.0], [0.0, 0.0])</td>\n",
       "      <td>(True, [0.0, 0.0, 0.0], [0.0, 0.0])</td>\n",
       "      <td>(True, [0.0, 0.0, 0.0], [0.0, 0.0])</td>\n",
       "      <td>(True, [0.0, 0.0, 0.0], [0.0, 0.0])</td>\n",
       "      <td>(True, [0.0, 0.0, 0.0], [0.0, 0.0])</td>\n",
       "      <td>(True, [0.0, 0.0, 0.0], [0.0, 0.0])</td>\n",
       "      <td>(True, [0.0, 0.0, 0.0], [0.0, 0.0])</td>\n",
       "      <td>(True, [0.0, 0.0, 0.0], [0.0, 0.0])</td>\n",
       "      <td>(True, [0.0, 0.0, 0.0], [0.0, 0.0])</td>\n",
       "      <td>(True, [0.0, 0.0, 0.0], [0.0, 0.0])</td>\n",
       "    </tr>\n",
       "    <tr>\n",
       "      <th>4</th>\n",
       "      <td>5</td>\n",
       "      <td>5</td>\n",
       "      <td>PACU1_12_200109_150545.csv</td>\n",
       "      <td>6.0</td>\n",
       "      <td>6.0,2882,PACU1_12_200109_150545.csv</td>\n",
       "      <td>(False, [0.048, 0.048, 0.048], [0.833333333333...</td>\n",
       "      <td>(False, [0.33299999999999996, 0.33299999999999...</td>\n",
       "      <td>(False, [0.833, 0.833, 0.833], [-1, -1])</td>\n",
       "      <td>(False, [1.0, 1.0, 1.0], [-1, -1])</td>\n",
       "      <td>(False, [1.0, 1.0, 1.0], [-1, -1])</td>\n",
       "      <td>...</td>\n",
       "      <td>(False, [1.0, 1.0, 1.0], [-1, -1])</td>\n",
       "      <td>(False, [1.0, 1.0, 1.0], [-1, -1])</td>\n",
       "      <td>(False, [1.0, 1.0, 1.0], [-1, -1])</td>\n",
       "      <td>(False, [1.0, 1.0, 1.0], [-1, -1])</td>\n",
       "      <td>(False, [1.0, 1.0, 1.0], [-1, -1])</td>\n",
       "      <td>(False, [1.0, 1.0, 1.0], [-1, -1])</td>\n",
       "      <td>(False, [1.0, 1.0, 1.0], [-1, -1])</td>\n",
       "      <td>(False, [1.0, 1.0, 1.0], [-1, -1])</td>\n",
       "      <td>(False, [1.0, 1.0, 1.0], [-1, -1])</td>\n",
       "      <td>(False, [1.0, 1.0, 1.0], [-1, -1])</td>\n",
       "    </tr>\n",
       "    <tr>\n",
       "      <th>...</th>\n",
       "      <td>...</td>\n",
       "      <td>...</td>\n",
       "      <td>...</td>\n",
       "      <td>...</td>\n",
       "      <td>...</td>\n",
       "      <td>...</td>\n",
       "      <td>...</td>\n",
       "      <td>...</td>\n",
       "      <td>...</td>\n",
       "      <td>...</td>\n",
       "      <td>...</td>\n",
       "      <td>...</td>\n",
       "      <td>...</td>\n",
       "      <td>...</td>\n",
       "      <td>...</td>\n",
       "      <td>...</td>\n",
       "      <td>...</td>\n",
       "      <td>...</td>\n",
       "      <td>...</td>\n",
       "      <td>...</td>\n",
       "      <td>...</td>\n",
       "    </tr>\n",
       "    <tr>\n",
       "      <th>7934</th>\n",
       "      <td>8288</td>\n",
       "      <td>8312</td>\n",
       "      <td>PACU1_3_200219_150005.csv</td>\n",
       "      <td>4.0</td>\n",
       "      <td>4.0,3860,PACU1_3_200219_150005.csv</td>\n",
       "      <td>(True, [0.0, 0.0, 0.0], [0.0, 0.0])</td>\n",
       "      <td>(True, [0.0, 0.0, 0.0], [0.0, 0.0])</td>\n",
       "      <td>(True, [0.0, 0.0, 0.0], [0.0, 0.0])</td>\n",
       "      <td>(True, [0.0, 0.0, 0.0], [0.15384615384615385, ...</td>\n",
       "      <td>(True, [0.0, 0.0, 0.0], [0.15384615384615385, ...</td>\n",
       "      <td>...</td>\n",
       "      <td>(True, [0.0, 0.0, 0.0], [0.06666666666666667, ...</td>\n",
       "      <td>(True, [0.0, 0.0, 0.0], [0.07142857142857142, ...</td>\n",
       "      <td>(True, [0.0, 0.0, 0.0], [0.0, 0.0])</td>\n",
       "      <td>(True, [0.0, 0.0, 0.0], [0.0, 0.0])</td>\n",
       "      <td>(True, [0.0, 0.0, 0.0], [0.0, 0.0])</td>\n",
       "      <td>(True, [0.0, 0.0, 0.0], [0.0, 0.0])</td>\n",
       "      <td>(True, [0.0, 0.0, 0.0], [0.0, 0.0])</td>\n",
       "      <td>(True, [0.0, 0.0, 0.0], [0.0, 0.0])</td>\n",
       "      <td>(True, [0.0, 0.0, 0.0], [0.0, 0.0])</td>\n",
       "      <td>(True, [0.0, 0.0, 0.0], [0.0, 0.0])</td>\n",
       "    </tr>\n",
       "    <tr>\n",
       "      <th>7935</th>\n",
       "      <td>8290</td>\n",
       "      <td>8314</td>\n",
       "      <td>PACU1_3_190723_083248.csv</td>\n",
       "      <td>6.0</td>\n",
       "      <td>6.0,1424,PACU1_3_190723_083248.csv</td>\n",
       "      <td>(True, [0.0, 0.0, 0.0], [0.058823529411764705,...</td>\n",
       "      <td>(True, [0.0, 0.0, 0.0], [0.0, 0.0])</td>\n",
       "      <td>(True, [0.0, 0.0, 0.0], [0.0, 0.0])</td>\n",
       "      <td>(True, [0.0, 0.0, 0.0], [0.0, 0.05882352941176...</td>\n",
       "      <td>(True, [0.0, 0.0, 0.0], [0.0, 0.05555555555555...</td>\n",
       "      <td>...</td>\n",
       "      <td>(True, [0.0, 0.0, 0.0], [0.0, 0.0])</td>\n",
       "      <td>(True, [0.0, 0.0, 0.0], [0.0, 0.125])</td>\n",
       "      <td>(False, [0.0, 0.0, 0.0], [0.0, 0.5333333333333...</td>\n",
       "      <td>(False, [0.0, 0.0, 0.0], [0.0, 0.7857142857142...</td>\n",
       "      <td>(False, [0.0, 0.0, 0.0], [0.0, 1.0])</td>\n",
       "      <td>(False, [0.0, 0.0, 0.0], [0.0, 1.0])</td>\n",
       "      <td>(False, [0.0, 0.0, 0.0], [0.0, 0.9090909090909...</td>\n",
       "      <td>(False, [0.0, 0.0, 0.0], [0.0, 0.8666666666666...</td>\n",
       "      <td>(False, [0.0, 0.0, 0.0], [0.0, 0.6428571428571...</td>\n",
       "      <td>(True, [0.0, 0.0, 0.0], [0.0, 0.38461538461538...</td>\n",
       "    </tr>\n",
       "    <tr>\n",
       "      <th>7936</th>\n",
       "      <td>8291</td>\n",
       "      <td>8315</td>\n",
       "      <td>PACU1_3_200103_003134.csv</td>\n",
       "      <td>3.0</td>\n",
       "      <td>3.0,2732,PACU1_3_200103_003134.csv</td>\n",
       "      <td>(True, [0.0, 0.0, 0.0], [0.09090909090909091, ...</td>\n",
       "      <td>(True, [0.0, 0.0, 0.0], [0.0, 0.0])</td>\n",
       "      <td>(True, [0.0, 0.0, 0.0], [0.0, 0.0])</td>\n",
       "      <td>(True, [0.0, 0.0, 0.0], [0.0, 0.14285714285714...</td>\n",
       "      <td>(True, [0.0, 0.0, 0.0], [0.0, 0.0])</td>\n",
       "      <td>...</td>\n",
       "      <td>(True, [0.0, 0.0, 0.0], [0.0, 0.0])</td>\n",
       "      <td>(True, [0.0, 0.0, 0.0], [0.0, 0.0])</td>\n",
       "      <td>(True, [0.0, 0.0, 0.0], [0.0, 0.0])</td>\n",
       "      <td>(True, [0.0, 0.0, 0.0], [0.0, 0.0])</td>\n",
       "      <td>(True, [0.0, 0.0, 0.0], [0.0, 0.0])</td>\n",
       "      <td>(True, [0.0, 0.0, 0.0], [0.0, 0.0])</td>\n",
       "      <td>(True, [0.0, 0.0, 0.0], [0.1111111111111111, 0...</td>\n",
       "      <td>(True, [0.0, 0.0, 0.0], [0.2222222222222222, 0...</td>\n",
       "      <td>(True, [0.0, 0.0, 0.0], [0.0, 0.0])</td>\n",
       "      <td>(True, [0.0, 0.0, 0.0], [0.0, 0.0])</td>\n",
       "    </tr>\n",
       "    <tr>\n",
       "      <th>7937</th>\n",
       "      <td>8292</td>\n",
       "      <td>8316</td>\n",
       "      <td>PACU1_4_200317_113143.csv</td>\n",
       "      <td>7.0</td>\n",
       "      <td>7.0,4548,PACU1_4_200317_113143.csv</td>\n",
       "      <td>(True, [0.0, 0.0, 0.0], [0.0, 0.07692307692307...</td>\n",
       "      <td>(True, [0.0, 0.0, 0.0], [0.0, 0.30769230769230...</td>\n",
       "      <td>(True, [0.0, 0.0, 0.0], [0.0, 0.41666666666666...</td>\n",
       "      <td>(False, [0.0, 0.0, 0.0], [0.0, 0.5])</td>\n",
       "      <td>(True, [0.0, 0.0, 0.0], [0.0, 0.15384615384615...</td>\n",
       "      <td>...</td>\n",
       "      <td>(True, [0.0, 0.0, 0.0], [0.0, 0.09090909090909...</td>\n",
       "      <td>(True, [0.0, 0.0, 0.0], [0.0, 0.18181818181818...</td>\n",
       "      <td>(True, [0.0, 0.0, 0.0], [0.0, 0.08333333333333...</td>\n",
       "      <td>(True, [0.0, 0.0, 0.0], [0.0, 0.08333333333333...</td>\n",
       "      <td>(True, [0.0, 0.0, 0.0], [0.0, 0.08333333333333...</td>\n",
       "      <td>(True, [0.0, 0.0, 0.0], [0.0, 0.0])</td>\n",
       "      <td>(True, [0.0, 0.0, 0.0], [0.0, 0.0])</td>\n",
       "      <td>(True, [0.0, 0.0, 0.0], [0.0, 0.0])</td>\n",
       "      <td>(True, [0.0, 0.0, 0.0], [0.0, 0.0])</td>\n",
       "      <td>(True, [0.0, 0.0, 0.0], [0.0, 0.0])</td>\n",
       "    </tr>\n",
       "    <tr>\n",
       "      <th>7938</th>\n",
       "      <td>8293</td>\n",
       "      <td>8317</td>\n",
       "      <td>PACU1_7_200311_091556.csv</td>\n",
       "      <td>5.0</td>\n",
       "      <td>5.0,4423,PACU1_7_200311_091556.csv</td>\n",
       "      <td>(True, [0.0, 0.0, 0.0], [0.0, 0.14285714285714...</td>\n",
       "      <td>(True, [0.0, 0.0, 0.0], [0.23076923076923078, ...</td>\n",
       "      <td>(True, [0.0, 0.0, 0.0], [0.4166666666666667, 0...</td>\n",
       "      <td>(False, [0.0, 0.0, 0.0], [0.6666666666666666, ...</td>\n",
       "      <td>(True, [0.0, 0.0, 0.0], [0.21428571428571427, ...</td>\n",
       "      <td>...</td>\n",
       "      <td>(True, [0.0, 0.0, 0.0], [0.0, 0.0])</td>\n",
       "      <td>(True, [0.0, 0.0, 0.0], [0.06666666666666667, ...</td>\n",
       "      <td>(True, [0.0, 0.0, 0.0], [0.06666666666666667, ...</td>\n",
       "      <td>(True, [0.0, 0.0, 0.0], [0.07142857142857142, ...</td>\n",
       "      <td>(True, [0.0, 0.0, 0.0], [0.21428571428571427, ...</td>\n",
       "      <td>(True, [0.0, 0.0, 0.0], [0.21428571428571427, ...</td>\n",
       "      <td>(True, [0.0, 0.0, 0.0], [0.14285714285714285, ...</td>\n",
       "      <td>(True, [0.0, 0.0, 0.0], [0.14285714285714285, ...</td>\n",
       "      <td>(True, [0.0, 0.0, 0.0], [0.14285714285714285, ...</td>\n",
       "      <td>(True, [0.0, 0.0, 0.0], [0.13333333333333333, ...</td>\n",
       "    </tr>\n",
       "  </tbody>\n",
       "</table>\n",
       "<p>7939 rows × 28 columns</p>\n",
       "</div>"
      ],
      "text/plain": [
       "      level_0  index                     caseids  NRS  \\\n",
       "0           0      0   PACU1_2_190503_132609.csv  3.0   \n",
       "1           2      2  PACU1_12_200604_165543.csv  3.0   \n",
       "2           3      3  PACU1_12_200528_152944.csv  6.0   \n",
       "3           4      4  PACU1_12_201008_143103.csv  3.0   \n",
       "4           5      5  PACU1_12_200109_150545.csv  6.0   \n",
       "...       ...    ...                         ...  ...   \n",
       "7934     8288   8312   PACU1_3_200219_150005.csv  4.0   \n",
       "7935     8290   8314   PACU1_3_190723_083248.csv  6.0   \n",
       "7936     8291   8315   PACU1_3_200103_003134.csv  3.0   \n",
       "7937     8292   8316   PACU1_4_200317_113143.csv  7.0   \n",
       "7938     8293   8317   PACU1_7_200311_091556.csv  5.0   \n",
       "\n",
       "                                file_path  \\\n",
       "0       3.0,249,PACU1_2_190503_132609.csv   \n",
       "1     3.0,5650,PACU1_12_200604_165543.csv   \n",
       "2     6.0,5450,PACU1_12_200528_152944.csv   \n",
       "3     3.0,7909,PACU1_12_201008_143103.csv   \n",
       "4     6.0,2882,PACU1_12_200109_150545.csv   \n",
       "...                                   ...   \n",
       "7934   4.0,3860,PACU1_3_200219_150005.csv   \n",
       "7935   6.0,1424,PACU1_3_190723_083248.csv   \n",
       "7936   3.0,2732,PACU1_3_200103_003134.csv   \n",
       "7937   7.0,4548,PACU1_4_200317_113143.csv   \n",
       "7938   5.0,4423,PACU1_7_200311_091556.csv   \n",
       "\n",
       "                                                      1  \\\n",
       "0              (False, [0.688, 0.688, 0.688], [-1, -1])   \n",
       "1                   (True, [0.0, 0.0, 0.0], [0.0, 0.0])   \n",
       "2                   (True, [0.0, 0.0, 0.0], [0.3, 0.3])   \n",
       "3                   (True, [0.0, 0.0, 0.0], [0.0, 0.0])   \n",
       "4     (False, [0.048, 0.048, 0.048], [0.833333333333...   \n",
       "...                                                 ...   \n",
       "7934                (True, [0.0, 0.0, 0.0], [0.0, 0.0])   \n",
       "7935  (True, [0.0, 0.0, 0.0], [0.058823529411764705,...   \n",
       "7936  (True, [0.0, 0.0, 0.0], [0.09090909090909091, ...   \n",
       "7937  (True, [0.0, 0.0, 0.0], [0.0, 0.07692307692307...   \n",
       "7938  (True, [0.0, 0.0, 0.0], [0.0, 0.14285714285714...   \n",
       "\n",
       "                                                      2  \\\n",
       "0                    (False, [1.0, 1.0, 1.0], [-1, -1])   \n",
       "1                   (True, [0.0, 0.0, 0.0], [0.0, 0.0])   \n",
       "2     (False, [0.0, 0.0, 0.0], [0.5, 0.2727272727272...   \n",
       "3                   (True, [0.0, 0.0, 0.0], [0.0, 0.0])   \n",
       "4     (False, [0.33299999999999996, 0.33299999999999...   \n",
       "...                                                 ...   \n",
       "7934                (True, [0.0, 0.0, 0.0], [0.0, 0.0])   \n",
       "7935                (True, [0.0, 0.0, 0.0], [0.0, 0.0])   \n",
       "7936                (True, [0.0, 0.0, 0.0], [0.0, 0.0])   \n",
       "7937  (True, [0.0, 0.0, 0.0], [0.0, 0.30769230769230...   \n",
       "7938  (True, [0.0, 0.0, 0.0], [0.23076923076923078, ...   \n",
       "\n",
       "                                                      3  \\\n",
       "0                 (False, [0.95, 0.95, 0.95], [-1, -1])   \n",
       "1                   (True, [0.0, 0.0, 0.0], [0.0, 0.0])   \n",
       "2     (True, [0.0, 0.0, 0.0], [0.3333333333333333, 0...   \n",
       "3                   (True, [0.0, 0.0, 0.0], [0.0, 0.0])   \n",
       "4              (False, [0.833, 0.833, 0.833], [-1, -1])   \n",
       "...                                                 ...   \n",
       "7934                (True, [0.0, 0.0, 0.0], [0.0, 0.0])   \n",
       "7935                (True, [0.0, 0.0, 0.0], [0.0, 0.0])   \n",
       "7936                (True, [0.0, 0.0, 0.0], [0.0, 0.0])   \n",
       "7937  (True, [0.0, 0.0, 0.0], [0.0, 0.41666666666666...   \n",
       "7938  (True, [0.0, 0.0, 0.0], [0.4166666666666667, 0...   \n",
       "\n",
       "                                                      4  \\\n",
       "0                 (False, [0.45, 0.45, 0.45], [-1, -1])   \n",
       "1     (True, [0.0, 0.0, 0.0], [0.0, 0.11111111111111...   \n",
       "2                   (True, [0.0, 0.0, 0.0], [0.0, 0.0])   \n",
       "3                   (True, [0.0, 0.0, 0.0], [0.0, 0.0])   \n",
       "4                    (False, [1.0, 1.0, 1.0], [-1, -1])   \n",
       "...                                                 ...   \n",
       "7934  (True, [0.0, 0.0, 0.0], [0.15384615384615385, ...   \n",
       "7935  (True, [0.0, 0.0, 0.0], [0.0, 0.05882352941176...   \n",
       "7936  (True, [0.0, 0.0, 0.0], [0.0, 0.14285714285714...   \n",
       "7937               (False, [0.0, 0.0, 0.0], [0.0, 0.5])   \n",
       "7938  (False, [0.0, 0.0, 0.0], [0.6666666666666666, ...   \n",
       "\n",
       "                                                      5  ...  \\\n",
       "0                   (True, [0.0, 0.0, 0.0], [0.0, 0.0])  ...   \n",
       "1     (True, [0.0, 0.0, 0.0], [0.0, 0.11111111111111...  ...   \n",
       "2                   (True, [0.0, 0.0, 0.0], [0.0, 0.0])  ...   \n",
       "3                   (True, [0.0, 0.0, 0.0], [0.0, 0.0])  ...   \n",
       "4                    (False, [1.0, 1.0, 1.0], [-1, -1])  ...   \n",
       "...                                                 ...  ...   \n",
       "7934  (True, [0.0, 0.0, 0.0], [0.15384615384615385, ...  ...   \n",
       "7935  (True, [0.0, 0.0, 0.0], [0.0, 0.05555555555555...  ...   \n",
       "7936                (True, [0.0, 0.0, 0.0], [0.0, 0.0])  ...   \n",
       "7937  (True, [0.0, 0.0, 0.0], [0.0, 0.15384615384615...  ...   \n",
       "7938  (True, [0.0, 0.0, 0.0], [0.21428571428571427, ...  ...   \n",
       "\n",
       "                                                     14  \\\n",
       "0                   (True, [0.0, 0.0, 0.0], [0.0, 0.0])   \n",
       "1     (True, [0.0, 0.0, 0.0], [0.09090909090909091, ...   \n",
       "2     (True, [0.0, 0.0, 0.0], [0.2727272727272727, 0...   \n",
       "3                   (True, [0.0, 0.0, 0.0], [0.0, 0.0])   \n",
       "4                    (False, [1.0, 1.0, 1.0], [-1, -1])   \n",
       "...                                                 ...   \n",
       "7934  (True, [0.0, 0.0, 0.0], [0.06666666666666667, ...   \n",
       "7935                (True, [0.0, 0.0, 0.0], [0.0, 0.0])   \n",
       "7936                (True, [0.0, 0.0, 0.0], [0.0, 0.0])   \n",
       "7937  (True, [0.0, 0.0, 0.0], [0.0, 0.09090909090909...   \n",
       "7938                (True, [0.0, 0.0, 0.0], [0.0, 0.0])   \n",
       "\n",
       "                                                     15  \\\n",
       "0     (True, [0.0, 0.0, 0.0], [0.07142857142857142, ...   \n",
       "1     (True, [0.0, 0.0, 0.0], [0.4444444444444444, 0...   \n",
       "2     (True, [0.0, 0.0, 0.0], [0.18181818181818182, ...   \n",
       "3                   (True, [0.0, 0.0, 0.0], [0.0, 0.0])   \n",
       "4                    (False, [1.0, 1.0, 1.0], [-1, -1])   \n",
       "...                                                 ...   \n",
       "7934  (True, [0.0, 0.0, 0.0], [0.07142857142857142, ...   \n",
       "7935              (True, [0.0, 0.0, 0.0], [0.0, 0.125])   \n",
       "7936                (True, [0.0, 0.0, 0.0], [0.0, 0.0])   \n",
       "7937  (True, [0.0, 0.0, 0.0], [0.0, 0.18181818181818...   \n",
       "7938  (True, [0.0, 0.0, 0.0], [0.06666666666666667, ...   \n",
       "\n",
       "                                                     16  \\\n",
       "0     (True, [0.0, 0.0, 0.0], [0.14285714285714285, ...   \n",
       "1     (True, [0.0, 0.0, 0.0], [0.2, 0.09090909090909...   \n",
       "2                   (True, [0.0, 0.0, 0.0], [0.0, 0.0])   \n",
       "3                   (True, [0.0, 0.0, 0.0], [0.0, 0.0])   \n",
       "4                    (False, [1.0, 1.0, 1.0], [-1, -1])   \n",
       "...                                                 ...   \n",
       "7934                (True, [0.0, 0.0, 0.0], [0.0, 0.0])   \n",
       "7935  (False, [0.0, 0.0, 0.0], [0.0, 0.5333333333333...   \n",
       "7936                (True, [0.0, 0.0, 0.0], [0.0, 0.0])   \n",
       "7937  (True, [0.0, 0.0, 0.0], [0.0, 0.08333333333333...   \n",
       "7938  (True, [0.0, 0.0, 0.0], [0.06666666666666667, ...   \n",
       "\n",
       "                                                     17  \\\n",
       "0                   (True, [0.0, 0.0, 0.0], [0.0, 0.0])   \n",
       "1     (True, [0.0, 0.0, 0.0], [0.08333333333333333, ...   \n",
       "2                   (True, [0.0, 0.0, 0.0], [0.0, 0.0])   \n",
       "3                   (True, [0.0, 0.0, 0.0], [0.0, 0.0])   \n",
       "4                    (False, [1.0, 1.0, 1.0], [-1, -1])   \n",
       "...                                                 ...   \n",
       "7934                (True, [0.0, 0.0, 0.0], [0.0, 0.0])   \n",
       "7935  (False, [0.0, 0.0, 0.0], [0.0, 0.7857142857142...   \n",
       "7936                (True, [0.0, 0.0, 0.0], [0.0, 0.0])   \n",
       "7937  (True, [0.0, 0.0, 0.0], [0.0, 0.08333333333333...   \n",
       "7938  (True, [0.0, 0.0, 0.0], [0.07142857142857142, ...   \n",
       "\n",
       "                                                     18  \\\n",
       "0     (True, [0.0, 0.0, 0.0], [0.0, 0.07142857142857...   \n",
       "1     (True, [0.0, 0.0, 0.0], [0.09090909090909091, ...   \n",
       "2     (True, [0.0, 0.0, 0.0], [0.08333333333333333, ...   \n",
       "3                   (True, [0.0, 0.0, 0.0], [0.0, 0.0])   \n",
       "4                    (False, [1.0, 1.0, 1.0], [-1, -1])   \n",
       "...                                                 ...   \n",
       "7934                (True, [0.0, 0.0, 0.0], [0.0, 0.0])   \n",
       "7935               (False, [0.0, 0.0, 0.0], [0.0, 1.0])   \n",
       "7936                (True, [0.0, 0.0, 0.0], [0.0, 0.0])   \n",
       "7937  (True, [0.0, 0.0, 0.0], [0.0, 0.08333333333333...   \n",
       "7938  (True, [0.0, 0.0, 0.0], [0.21428571428571427, ...   \n",
       "\n",
       "                                                     19  \\\n",
       "0     (True, [0.0, 0.0, 0.0], [0.0, 0.07142857142857...   \n",
       "1                   (True, [0.0, 0.0, 0.0], [0.0, 0.0])   \n",
       "2     (True, [0.0, 0.0, 0.0], [0.09090909090909091, ...   \n",
       "3                   (True, [0.0, 0.0, 0.0], [0.0, 0.0])   \n",
       "4                    (False, [1.0, 1.0, 1.0], [-1, -1])   \n",
       "...                                                 ...   \n",
       "7934                (True, [0.0, 0.0, 0.0], [0.0, 0.0])   \n",
       "7935               (False, [0.0, 0.0, 0.0], [0.0, 1.0])   \n",
       "7936                (True, [0.0, 0.0, 0.0], [0.0, 0.0])   \n",
       "7937                (True, [0.0, 0.0, 0.0], [0.0, 0.0])   \n",
       "7938  (True, [0.0, 0.0, 0.0], [0.21428571428571427, ...   \n",
       "\n",
       "                                                     20  \\\n",
       "0                   (True, [0.0, 0.0, 0.0], [0.0, 0.0])   \n",
       "1                   (True, [0.0, 0.0, 0.0], [0.0, 0.0])   \n",
       "2                   (True, [0.0, 0.0, 0.0], [0.0, 0.0])   \n",
       "3                   (True, [0.0, 0.0, 0.0], [0.0, 0.0])   \n",
       "4                    (False, [1.0, 1.0, 1.0], [-1, -1])   \n",
       "...                                                 ...   \n",
       "7934                (True, [0.0, 0.0, 0.0], [0.0, 0.0])   \n",
       "7935  (False, [0.0, 0.0, 0.0], [0.0, 0.9090909090909...   \n",
       "7936  (True, [0.0, 0.0, 0.0], [0.1111111111111111, 0...   \n",
       "7937                (True, [0.0, 0.0, 0.0], [0.0, 0.0])   \n",
       "7938  (True, [0.0, 0.0, 0.0], [0.14285714285714285, ...   \n",
       "\n",
       "                                                     21  \\\n",
       "0              (False, [0.297, 0.297, 0.297], [-1, -1])   \n",
       "1                   (True, [0.0, 0.0, 0.0], [0.0, 0.0])   \n",
       "2     (True, [0.0, 0.0, 0.0], [0.09090909090909091, ...   \n",
       "3                   (True, [0.0, 0.0, 0.0], [0.0, 0.0])   \n",
       "4                    (False, [1.0, 1.0, 1.0], [-1, -1])   \n",
       "...                                                 ...   \n",
       "7934                (True, [0.0, 0.0, 0.0], [0.0, 0.0])   \n",
       "7935  (False, [0.0, 0.0, 0.0], [0.0, 0.8666666666666...   \n",
       "7936  (True, [0.0, 0.0, 0.0], [0.2222222222222222, 0...   \n",
       "7937                (True, [0.0, 0.0, 0.0], [0.0, 0.0])   \n",
       "7938  (True, [0.0, 0.0, 0.0], [0.14285714285714285, ...   \n",
       "\n",
       "                                                     22  \\\n",
       "0              (False, [0.361, 0.361, 0.361], [-1, -1])   \n",
       "1                   (True, [0.0, 0.0, 0.0], [0.0, 0.0])   \n",
       "2     (False, [0.0, 0.0, 0.0], [0.5454545454545454, ...   \n",
       "3                   (True, [0.0, 0.0, 0.0], [0.0, 0.0])   \n",
       "4                    (False, [1.0, 1.0, 1.0], [-1, -1])   \n",
       "...                                                 ...   \n",
       "7934                (True, [0.0, 0.0, 0.0], [0.0, 0.0])   \n",
       "7935  (False, [0.0, 0.0, 0.0], [0.0, 0.6428571428571...   \n",
       "7936                (True, [0.0, 0.0, 0.0], [0.0, 0.0])   \n",
       "7937                (True, [0.0, 0.0, 0.0], [0.0, 0.0])   \n",
       "7938  (True, [0.0, 0.0, 0.0], [0.14285714285714285, ...   \n",
       "\n",
       "                                                     23  \n",
       "0     (True, [0.064, 0.064, 0.064], [0.1538461538461...  \n",
       "1                   (True, [0.0, 0.0, 0.0], [0.0, 0.0])  \n",
       "2                  (False, [0.0, 0.0, 0.0], [0.5, 0.0])  \n",
       "3                   (True, [0.0, 0.0, 0.0], [0.0, 0.0])  \n",
       "4                    (False, [1.0, 1.0, 1.0], [-1, -1])  \n",
       "...                                                 ...  \n",
       "7934                (True, [0.0, 0.0, 0.0], [0.0, 0.0])  \n",
       "7935  (True, [0.0, 0.0, 0.0], [0.0, 0.38461538461538...  \n",
       "7936                (True, [0.0, 0.0, 0.0], [0.0, 0.0])  \n",
       "7937                (True, [0.0, 0.0, 0.0], [0.0, 0.0])  \n",
       "7938  (True, [0.0, 0.0, 0.0], [0.13333333333333333, ...  \n",
       "\n",
       "[7939 rows x 28 columns]"
      ]
     },
     "execution_count": 14,
     "metadata": {},
     "output_type": "execute_result"
    }
   ],
   "source": [
    "import pickle\n",
    "import pandas as pd\n",
    "# 전처리 정보 불러오기\n",
    "df_preprocess = pickle.load(open('../DL_model/cache/preprocess1/input1/df_preprocess_pacu_final', 'rb'))#.reset_index()\n",
    "\n",
    "# df_preprocess\n",
    "df_preprocess"
   ]
  },
  {
   "cell_type": "code",
   "execution_count": 7,
   "metadata": {
    "ExecuteTime": {
     "end_time": "2020-11-19T09:35:24.796361Z",
     "start_time": "2020-11-19T09:35:17.487181Z"
    }
   },
   "outputs": [],
   "source": [
    "pass_info, nan_info, noise_info = [], [], []\n",
    "pass_per_case = []\n",
    "for _, row in df_preprocess.iterrows():\n",
    "    per_case = []\n",
    "    for i in range(1,24):\n",
    "        pass_info.append(row[str(i)][0])\n",
    "        per_case.append(row[str(i)][0])\n",
    "        nan_info.append(row[str(i)][1])\n",
    "        noise_info.append(row[str(i)][2])\n",
    "    pass_per_case.append(np.mean(per_case))"
   ]
  },
  {
   "cell_type": "code",
   "execution_count": 12,
   "metadata": {
    "ExecuteTime": {
     "end_time": "2020-11-19T09:36:40.083617Z",
     "start_time": "2020-11-19T09:36:40.031123Z"
    }
   },
   "outputs": [
    {
     "name": "stdout",
     "output_type": "stream",
     "text": [
      "전처리 통과 비율: 154601 / 190762 (81.04)%\n"
     ]
    }
   ],
   "source": [
    "print('전처리 통과 비율: {} / {} ({:.2f})%'.format(np.sum(pass_info), len(pass_info), np.mean(pass_info)*100))"
   ]
  },
  {
   "cell_type": "markdown",
   "metadata": {},
   "source": [
    "### Nan distribution"
   ]
  },
  {
   "cell_type": "code",
   "execution_count": null,
   "metadata": {},
   "outputs": [],
   "source": [
    "nan_ppg_info = np.array(nan_info)[:,0]\n",
    "nan_ecg_info = np.array(nan_info)[:,1]\n",
    "nan_both_info = np.array(nan_info)[:,2]\n",
    "\n",
    "nan_ppg_0 = 0\n",
    "nan_ppg_1 = 0\n",
    "for nan_ppg in nan_ppg_info:\n",
    "    if nan_ppg == 0:\n",
    "        nan_ppg_0 += 1\n",
    "    if 0.95 < nan_ppg <= 1:\n",
    "        nan_ppg_1 += 1\n",
    "        \n",
    "nan_ecg_0 = 0\n",
    "nan_ecg_1 = 0\n",
    "for nan_ecg in nan_ecg_info:\n",
    "    if nan_ecg == 0:\n",
    "        nan_ecg_0 += 1\n",
    "    if 0.95 < nan_ecg <= 1:\n",
    "        nan_ecg_1 += 1\n",
    "        \n",
    "nan_false = 0\n",
    "for i in range(len(nan_ppg_info)):\n",
    "    if (nan_ppg_info[i]>=0.3) or (nan_ecg_info[i]>=0.3) or (nan_both_info[i]>=0.2):\n",
    "        nan_false += 1\n",
    "\n",
    "        \n",
    "print('ppg의 nan 비율이 0: {} / {} ({:.2f}%),   1: {} / {} ({:.2f}%)'.format(nan_ppg_0,len(nan_ppg_info), nan_ppg_0/len(nan_ppg_info)*100, nan_ppg_1,len(nan_ecg_info), nan_ppg_1/len(nan_ecg_info)*100))\n",
    "print('ecg의 nan 비율이 0: {} / {} ({:.2f}%),   1: {} / {} ({:.2f}%)'.format(nan_ecg_0,len(nan_ecg_info), nan_ecg_0/len(nan_ecg_info)*100, nan_ecg_1,len(nan_ecg_info), nan_ecg_1/len(nan_ecg_info)*100))\n",
    "print('nan으로 인한 전처리 실패 케이스: {} / {} ({:.2f}%)'.format(nan_false, len(nan_ecg_info), nan_false/len(nan_ecg_info)*100))"
   ]
  },
  {
   "cell_type": "code",
   "execution_count": 13,
   "metadata": {
    "ExecuteTime": {
     "end_time": "2020-11-19T09:36:45.564757Z",
     "start_time": "2020-11-19T09:36:44.063324Z"
    },
    "scrolled": false
   },
   "outputs": [
    {
     "data": {
      "image/png": "[encoded data removed]",
      "text/plain": [
       "<Figure size 1440x576 with 2 Axes>"
      ]
     },
     "metadata": {
      "needs_background": "light"
     },
     "output_type": "display_data"
    }
   ],
   "source": [
    "import matplotlib.pyplot as plt\n",
    "%matplotlib inline\n",
    "\n",
    "nan_ppg_info = np.array(nan_info)[:,0]\n",
    "nan_ecg_info = np.array(nan_info)[:,1]\n",
    "nan_both_info = np.array(nan_info)[:,2]\n",
    "\n",
    "plt.figure(figsize=(20,8))\n",
    "ax1 = plt.subplot(1,2,1)\n",
    "ax1.hist(nan_ppg_info, bins = 'auto')\n",
    "ax1.set_title('nan distribution of PPG', fontdict={'fontsize':20})\n",
    "ax1.set_ylim(0, 200)\n",
    "\n",
    "ax2 = plt.subplot(1,2,2)\n",
    "ax2.hist(nan_ecg_info, bins = 'auto')\n",
    "ax2.set_title('nan distribution of ECG', fontdict={'fontsize':20})\n",
    "ax2.set_ylim(0, 200)\n",
    "plt.show()\n",
    "\n",
    "#print(np.unique(nan_ppg_info))"
   ]
  },
  {
   "cell_type": "code",
   "execution_count": 41,
   "metadata": {
    "ExecuteTime": {
     "end_time": "2020-11-18T15:52:19.649415Z",
     "start_time": "2020-11-18T15:52:19.186723Z"
    },
    "scrolled": true
   },
   "outputs": [
    {
     "data": {
      "text/plain": [
       "(0.0, 6000.0)"
      ]
     },
     "execution_count": 41,
     "metadata": {},
     "output_type": "execute_result"
    },
    {
     "data": {
      "image/png": "[encoded data removed]",
      "text/plain": [
       "<Figure size 1440x576 with 1 Axes>"
      ]
     },
     "metadata": {
      "needs_background": "light"
     },
     "output_type": "display_data"
    }
   ],
   "source": [
    "# 0은 175000 정도, 1은 5000 정도\n",
    "plt.figure(figsize=(20,8))\n",
    "ax1 = plt.subplot(1,2,1)\n",
    "ax1.hist(nan_both_info, bins = 'auto')\n",
    "ax1.set_title('nan distribution of PPG', fontdict={'fontsize':20})\n",
    "ax1.set_ylim(0, 6000)\n",
    "\n",
    "\n"
   ]
  },
  {
   "cell_type": "markdown",
   "metadata": {},
   "source": [
    "### Noise distribution"
   ]
  },
  {
   "cell_type": "code",
   "execution_count": 52,
   "metadata": {
    "ExecuteTime": {
     "end_time": "2020-11-19T09:53:59.167506Z",
     "start_time": "2020-11-19T09:53:58.320276Z"
    }
   },
   "outputs": [
    {
     "data": {
      "image/png": "[encoded data removed]",
      "text/plain": [
       "<Figure size 1440x576 with 2 Axes>"
      ]
     },
     "metadata": {
      "needs_background": "light"
     },
     "output_type": "display_data"
    }
   ],
   "source": [
    "import matplotlib.pyplot as plt\n",
    "%matplotlib inline\n",
    "\n",
    "noise_ppg_info = np.array(noise_info)[:,0]\n",
    "noise_ecg_info = np.array(noise_info)[:,1]\n",
    "\n",
    "xticks = np.array([0.1*i for i in range(0,11)])\n",
    "\n",
    "plt.figure(figsize=(20,8))\n",
    "ax1 = plt.subplot(1,2,1)\n",
    "ax1.hist(noise_ppg_info, bins = xticks, rwidth=0.8)\n",
    "ax1.set_title('noise distribution of PPG', fontdict={'fontsize':20})\n",
    "ax1.set_ylim(0, 16000)\n",
    "ax1.set_xlim(0,1)\n",
    "ax1.set_xticks(xticks)\n",
    "\n",
    "ax2 = plt.subplot(1,2,2)\n",
    "ax2.hist(noise_ecg_info, bins = xticks, rwidth=0.8)\n",
    "ax2.set_title('noise distribution of ECG', fontdict={'fontsize':20})\n",
    "ax2.set_ylim(0, 16000)\n",
    "ax2.set_xlim(0,1)\n",
    "ax2.set_xticks(xticks)\n",
    "plt.show()\n"
   ]
  },
  {
   "cell_type": "code",
   "execution_count": 34,
   "metadata": {
    "ExecuteTime": {
     "end_time": "2020-11-19T09:45:44.537131Z",
     "start_time": "2020-11-19T09:45:44.190972Z"
    },
    "scrolled": true
   },
   "outputs": [
    {
     "data": {
      "image/png": "[encoded data removed]",
      "text/plain": [
       "<Figure size 1440x576 with 2 Axes>"
      ]
     },
     "metadata": {
      "needs_background": "light"
     },
     "output_type": "display_data"
    }
   ],
   "source": [
    "# -1은 결측치가 많아서 pass된 case : 7000 case\n",
    "# -2는 peak 개수가 적어서 pass된 case : 4000 case\n",
    "\n",
    "plt.figure(figsize=(20,8))\n",
    "ax1 = plt.subplot(1,2,1)\n",
    "ax1.hist(noise_ppg_info, bins = [-2.5, -1.5,-0.5, 0.5], rwidth = 0.85)\n",
    "ax1.set_title('noise distribution of PPG', fontdict={'fontsize':20})\n",
    "ax1.set_ylim(0, 10000)\n",
    "ax1.set_xticks([-2,-1,0])\n",
    "\n",
    "ax2 = plt.subplot(1,2,2)\n",
    "ax2.hist(noise_ecg_info, bins = [-2.5,-1.5,-0.5, 0.5], rwidth = 0.85)\n",
    "ax2.set_title('noise distribution of ECG', fontdict={'fontsize':20})\n",
    "ax2.set_ylim(0, 10000)\n",
    "ax1.set_xticks([-2,-1,0])\n",
    "#ax2.set_xlim(0,1)\n",
    "plt.show()\n"
   ]
  },
  {
   "cell_type": "markdown",
   "metadata": {},
   "source": [
    "## Train set, Test set"
   ]
  },
  {
   "cell_type": "code",
   "execution_count": null,
   "metadata": {},
   "outputs": [],
   "source": [
    "x_train"
   ]
  },
  {
   "cell_type": "markdown",
   "metadata": {},
   "source": [
    "## Individual characteristics"
   ]
  },
  {
   "cell_type": "code",
   "execution_count": null,
   "metadata": {},
   "outputs": [],
   "source": []
  },
  {
   "cell_type": "code",
   "execution_count": null,
   "metadata": {},
   "outputs": [],
   "source": []
  },
  {
   "cell_type": "markdown",
   "metadata": {},
   "source": [
    "# Input 1 - preprocessing 2"
   ]
  },
  {
   "cell_type": "markdown",
   "metadata": {},
   "source": [
    "## Pacu"
   ]
  },
  {
   "cell_type": "markdown",
   "metadata": {},
   "source": [
    "### Preprocessing result"
   ]
  },
  {
   "cell_type": "code",
   "execution_count": 2,
   "metadata": {
    "ExecuteTime": {
     "end_time": "2020-12-01T01:22:37.375244Z",
     "start_time": "2020-12-01T01:22:28.990698Z"
    }
   },
   "outputs": [
    {
     "name": "stdout",
     "output_type": "stream",
     "text": [
      "전처리 통과 비율(pacu): 124566 / 190762 (65.30)%\n"
     ]
    }
   ],
   "source": [
    "import pickle\n",
    "import pandas as pd\n",
    "\n",
    "\n",
    "# 전처리 정보 불러오기\n",
    "df_preprocess_pacu = pickle.load(open('../DL_model/cache/preprocess2/input1/df_preprocess_pacu', 'rb'))\n",
    "\n",
    "\n",
    "# pacu의 정보\n",
    "pass_info, nan_info, noise_info = [], [], []\n",
    "pass_per_case = []\n",
    "\n",
    "for _, row in df_preprocess_pacu.iterrows():\n",
    "    per_case = []\n",
    "    for i in range(1,24):\n",
    "        pass_info.append(row[str(i)][0])\n",
    "        per_case.append(row[str(i)][0])\n",
    "        nan_info.append(row[str(i)][1])\n",
    "        noise_info.append(row[str(i)][2])\n",
    "    pass_per_case.append(np.mean(per_case))\n",
    "    \n",
    "    \n",
    "print('전처리 통과 비율(pacu): {} / {} ({:.2f})%'.format(np.sum(pass_info), len(pass_info), np.mean(pass_info)*100))"
   ]
  },
  {
   "cell_type": "markdown",
   "metadata": {},
   "source": [
    "### Nan distribution"
   ]
  },
  {
   "cell_type": "code",
   "execution_count": 3,
   "metadata": {
    "ExecuteTime": {
     "end_time": "2020-12-01T01:23:28.349918Z",
     "start_time": "2020-12-01T01:23:26.895098Z"
    }
   },
   "outputs": [
    {
     "name": "stdout",
     "output_type": "stream",
     "text": [
      "ppg의 nan 비율이 0: 183005 / 190762 (95.93%),   1: 5838 / 190762 (3.06%)\n",
      "ecg의 nan 비율이 0: 183216 / 190762 (96.04%),   1: 5838 / 190762 (3.06%)\n",
      "nan으로 인한 전처리 실패 케이스: 7026 / 190762 (3.68%)\n"
     ]
    }
   ],
   "source": [
    "nan_ppg_info = np.array(nan_info)[:,0]\n",
    "nan_ecg_info = np.array(nan_info)[:,1]\n",
    "nan_both_info = np.array(nan_info)[:,2]\n",
    "\n",
    "nan_ppg_0 = 0\n",
    "nan_ppg_1 = 0\n",
    "for nan_ppg in nan_ppg_info:\n",
    "    if nan_ppg == 0:\n",
    "        nan_ppg_0 += 1\n",
    "    if 0.95 < nan_ppg <= 1:\n",
    "        nan_ppg_1 += 1\n",
    "        \n",
    "nan_ecg_0 = 0\n",
    "nan_ecg_1 = 0\n",
    "for nan_ecg in nan_ecg_info:\n",
    "    if nan_ecg == 0:\n",
    "        nan_ecg_0 += 1\n",
    "    if 0.95 < nan_ecg <= 1:\n",
    "        nan_ecg_1 += 1\n",
    "        \n",
    "nan_false = 0\n",
    "for i in range(len(nan_ppg_info)):\n",
    "    if (nan_ppg_info[i]>=0.3) or (nan_ecg_info[i]>=0.3) or (nan_both_info[i]>=0.2):\n",
    "        nan_false += 1\n",
    "\n",
    "        \n",
    "print('ppg의 nan 비율이 0: {} / {} ({:.2f}%),   1: {} / {} ({:.2f}%)'.format(nan_ppg_0,len(nan_ppg_info), nan_ppg_0/len(nan_ppg_info)*100, nan_ppg_1,len(nan_ecg_info), nan_ppg_1/len(nan_ecg_info)*100))\n",
    "print('ecg의 nan 비율이 0: {} / {} ({:.2f}%),   1: {} / {} ({:.2f}%)'.format(nan_ecg_0,len(nan_ecg_info), nan_ecg_0/len(nan_ecg_info)*100, nan_ecg_1,len(nan_ecg_info), nan_ecg_1/len(nan_ecg_info)*100))\n",
    "print('nan으로 인한 전처리 실패 케이스: {} / {} ({:.2f}%)'.format(nan_false, len(nan_ecg_info), nan_false/len(nan_ecg_info)*100))"
   ]
  },
  {
   "cell_type": "code",
   "execution_count": 4,
   "metadata": {
    "ExecuteTime": {
     "end_time": "2020-12-01T01:23:30.131446Z",
     "start_time": "2020-12-01T01:23:29.432371Z"
    },
    "hide_input": true
   },
   "outputs": [
    {
     "name": "stdout",
     "output_type": "stream",
     "text": [
      "nan ppg 0: 183005   nan ppg 1: 5838\n"
     ]
    },
    {
     "data": {
      "image/png": "[encoded data removed]",
      "text/plain": [
       "<Figure size 1440x576 with 2 Axes>"
      ]
     },
     "metadata": {
      "needs_background": "light"
     },
     "output_type": "display_data"
    },
    {
     "name": "stdout",
     "output_type": "stream",
     "text": [
      "nan ecg 0: 183216   nan ecg 1: 5838\n"
     ]
    }
   ],
   "source": [
    "import matplotlib.pyplot as plt\n",
    "%matplotlib inline\n",
    "\n",
    "plt.figure(figsize=(20,8))\n",
    "ax1 = plt.subplot(1,2,1)\n",
    "ax1.hist(nan_ppg_info, bins = 'auto')\n",
    "ax1.set_title('nan distribution of PPG (pacu)', fontdict={'fontsize':20})\n",
    "ax1.set_ylim(0, 300)\n",
    "print('nan ppg 0: {}   nan ppg 1: {}'.format(nan_ppg_0, nan_ppg_1))\n",
    "\n",
    "\n",
    "ax2 = plt.subplot(1,2,2)\n",
    "ax2.hist(nan_ecg_info, bins = 'auto')\n",
    "ax2.set_title('nan distribution of ECG (pacu)', fontdict={'fontsize':20})\n",
    "ax2.set_ylim(0, 300)\n",
    "plt.show()\n",
    "print('nan ecg 0: {}   nan ecg 1: {}'.format(nan_ecg_0, nan_ecg_1))"
   ]
  },
  {
   "cell_type": "markdown",
   "metadata": {},
   "source": [
    "### Noise distribution"
   ]
  },
  {
   "cell_type": "code",
   "execution_count": 5,
   "metadata": {
    "ExecuteTime": {
     "end_time": "2020-12-01T01:23:37.257703Z",
     "start_time": "2020-12-01T01:23:36.079680Z"
    }
   },
   "outputs": [
    {
     "name": "stdout",
     "output_type": "stream",
     "text": [
      "ppg의 noise 비율이 0: 113376 / 190762 (59.43%),   1: 6728 / 190762 (3.53%)\n",
      "ecg의 noise 비율이 0: 107958 / 190762 (56.59%),   1: 10401 / 190762 (5.45%)\n",
      "input의 peak 수가 적어 제외된 케이스: 4263 / 190762 (2.23%)\n",
      "noise으로 인한 전처리 실패케이스: 39284 / 190762 (20.59%)\n"
     ]
    }
   ],
   "source": [
    "noise_ppg_info = np.array(noise_info)[:,0]\n",
    "noise_ecg_info = np.array(noise_info)[:,1]\n",
    "\n",
    "noise_ppg_0 = 0\n",
    "noise_ppg_1 = 0\n",
    "no_peak = 0\n",
    "nan_removed = 0\n",
    "for noise_ppg in noise_ppg_info:\n",
    "    if noise_ppg == 0:\n",
    "        noise_ppg_0 += 1\n",
    "    if 0.95 < noise_ppg <= 1:\n",
    "        noise_ppg_1 += 1\n",
    "    # peak 수 부족 (직선이거나 엄청 이상해서 peak 조차 안잡히는 경우)\n",
    "    if noise_ppg == -2:\n",
    "        no_peak += 1\n",
    "    # nan 결측치가 기준치보다 많아 제거된 케이스\n",
    "    if noise_ppg == -1:\n",
    "        nan_removed += 1\n",
    "        \n",
    "noise_ecg_0 = 0\n",
    "noise_ecg_1 = 0\n",
    "for noise_ecg in noise_ecg_info:\n",
    "    if noise_ecg == 0:\n",
    "        noise_ecg_0 += 1\n",
    "    if 0.95 < noise_ecg <= 1:\n",
    "        noise_ecg_1 += 1\n",
    "\n",
    "noise_false = 0\n",
    "for i in range(len(noise_ppg_info)):\n",
    "    if (noise_ppg_info[i]>=0.5) or (noise_ecg_info[i]>=0.5):\n",
    "        noise_false += 1\n",
    "\n",
    "        \n",
    "\n",
    "        \n",
    "print('ppg의 noise 비율이 0: {} / {} ({:.2f}%),   1: {} / {} ({:.2f}%)'.format(noise_ppg_0,len(noise_ppg_info), noise_ppg_0/len(noise_ppg_info)*100, noise_ppg_1,len(noise_ppg_info), noise_ppg_1/len(noise_ppg_info)*100))\n",
    "print('ecg의 noise 비율이 0: {} / {} ({:.2f}%),   1: {} / {} ({:.2f}%)'.format(noise_ecg_0,len(noise_ecg_info), noise_ecg_0/len(noise_ecg_info)*100, noise_ecg_1,len(noise_ecg_info), noise_ecg_1/len(noise_ecg_info)*100))\n",
    "print('input의 peak 수가 적어 제외된 케이스: {} / {} ({:.2f}%)'.format(no_peak, len(noise_ecg_info), no_peak/len(noise_ecg_info)*100))\n",
    "#print('noise으로 인한 전처리 실패케이스: {} / {} ({:.2f}%)'.format(noise_false, len(noise_ecg_info)-(nan_removed), noise_false/(len(noise_ecg_info)-(nan_removed))*100))\n",
    "print('noise으로 인한 전처리 실패케이스: {} / {} ({:.2f}%)'.format(noise_false, len(noise_ecg_info), noise_false/(len(noise_ecg_info))*100))\n",
    "\n"
   ]
  },
  {
   "cell_type": "code",
   "execution_count": 6,
   "metadata": {
    "ExecuteTime": {
     "end_time": "2020-12-01T01:23:47.150503Z",
     "start_time": "2020-12-01T01:23:46.691462Z"
    },
    "hide_input": true
   },
   "outputs": [
    {
     "data": {
      "image/png": "[encoded data removed]",
      "text/plain": [
       "<Figure size 1440x576 with 2 Axes>"
      ]
     },
     "metadata": {
      "needs_background": "light"
     },
     "output_type": "display_data"
    }
   ],
   "source": [
    "import matplotlib.pyplot as plt\n",
    "%matplotlib inline\n",
    "\n",
    "\n",
    "\n",
    "xticks = np.array([0.1*i for i in range(0,11)])\n",
    "\n",
    "plt.figure(figsize=(20,8))\n",
    "ax1 = plt.subplot(1,2,1)\n",
    "ax1.hist(noise_ppg_info, bins = xticks, rwidth=0.8)\n",
    "ax1.set_title('noise distribution of PPG (pacu)', fontdict={'fontsize':20})\n",
    "ax1.set_ylim(0, 40000)\n",
    "ax1.set_xlim(0,1)\n",
    "#ax1.set_xticks(xticks)\n",
    "\n",
    "ax2 = plt.subplot(1,2,2)\n",
    "ax2.hist(noise_ecg_info, bins = xticks, rwidth=0.8)\n",
    "ax2.set_title('noise distribution of ECG (pacu)', fontdict={'fontsize':20})\n",
    "ax2.set_ylim(0, 40000)\n",
    "ax2.set_xlim(0,1)\n",
    "ax2.set_xticks(xticks)\n",
    "plt.show()"
   ]
  },
  {
   "cell_type": "markdown",
   "metadata": {},
   "source": [
    "## Preop"
   ]
  },
  {
   "cell_type": "markdown",
   "metadata": {},
   "source": [
    "### Preprocessing result"
   ]
  },
  {
   "cell_type": "code",
   "execution_count": 9,
   "metadata": {
    "ExecuteTime": {
     "end_time": "2020-12-01T01:25:48.347121Z",
     "start_time": "2020-12-01T01:25:44.060650Z"
    }
   },
   "outputs": [
    {
     "name": "stdout",
     "output_type": "stream",
     "text": [
      "전처리 통과 비율(pacu): 28791 / 89217 (32.27)%\n"
     ]
    }
   ],
   "source": [
    "import pickle\n",
    "import pandas as pd\n",
    "\n",
    "\n",
    "# 전처리 정보 불러오기\n",
    "df_preprocess_pacu = pickle.load(open('../DL_model/cache/preprocess2/input1/df_preprocess_preop', 'rb'))\n",
    "\n",
    "\n",
    "# pacu의 정보\n",
    "pass_info, nan_info, noise_info = [], [], []\n",
    "pass_per_case = []\n",
    "\n",
    "for _, row in df_preprocess_pacu.iterrows():\n",
    "    per_case = []\n",
    "    for i in range(1,24):\n",
    "        pass_info.append(row[str(i)][0])\n",
    "        per_case.append(row[str(i)][0])\n",
    "        nan_info.append(row[str(i)][1])\n",
    "        noise_info.append(row[str(i)][2])\n",
    "    pass_per_case.append(np.mean(per_case))\n",
    "    \n",
    "    \n",
    "print('전처리 통과 비율(pacu): {} / {} ({:.2f})%'.format(np.sum(pass_info), len(pass_info), np.mean(pass_info)*100))"
   ]
  },
  {
   "cell_type": "markdown",
   "metadata": {},
   "source": [
    "### Nan distribution"
   ]
  },
  {
   "cell_type": "code",
   "execution_count": 10,
   "metadata": {
    "ExecuteTime": {
     "end_time": "2020-12-01T01:26:38.594691Z",
     "start_time": "2020-12-01T01:26:37.952291Z"
    }
   },
   "outputs": [
    {
     "name": "stdout",
     "output_type": "stream",
     "text": [
      "ppg의 nan 비율이 0: 78751 / 89217 (88.27%),   1: 6570 / 89217 (7.36%)\n",
      "ecg의 nan 비율이 0: 78849 / 89217 (88.38%),   1: 6464 / 89217 (7.25%)\n",
      "nan으로 인한 전처리 실패 케이스: 7413 / 89217 (8.31%)\n"
     ]
    }
   ],
   "source": [
    "nan_ppg_info = np.array(nan_info)[:,0]\n",
    "nan_ecg_info = np.array(nan_info)[:,1]\n",
    "nan_both_info = np.array(nan_info)[:,2]\n",
    "\n",
    "nan_ppg_0 = 0\n",
    "nan_ppg_1 = 0\n",
    "for nan_ppg in nan_ppg_info:\n",
    "    if nan_ppg == 0:\n",
    "        nan_ppg_0 += 1\n",
    "    if 0.95 < nan_ppg <= 1:\n",
    "        nan_ppg_1 += 1\n",
    "        \n",
    "nan_ecg_0 = 0\n",
    "nan_ecg_1 = 0\n",
    "for nan_ecg in nan_ecg_info:\n",
    "    if nan_ecg == 0:\n",
    "        nan_ecg_0 += 1\n",
    "    if 0.95 < nan_ecg <= 1:\n",
    "        nan_ecg_1 += 1\n",
    "        \n",
    "nan_false = 0\n",
    "for i in range(len(nan_ppg_info)):\n",
    "    if (nan_ppg_info[i]>=0.3) or (nan_ecg_info[i]>=0.3) or (nan_both_info[i]>=0.2):\n",
    "        nan_false += 1\n",
    "\n",
    "        \n",
    "print('ppg의 nan 비율이 0: {} / {} ({:.2f}%),   1: {} / {} ({:.2f}%)'.format(nan_ppg_0,len(nan_ppg_info), nan_ppg_0/len(nan_ppg_info)*100, nan_ppg_1,len(nan_ecg_info), nan_ppg_1/len(nan_ecg_info)*100))\n",
    "print('ecg의 nan 비율이 0: {} / {} ({:.2f}%),   1: {} / {} ({:.2f}%)'.format(nan_ecg_0,len(nan_ecg_info), nan_ecg_0/len(nan_ecg_info)*100, nan_ecg_1,len(nan_ecg_info), nan_ecg_1/len(nan_ecg_info)*100))\n",
    "print('nan으로 인한 전처리 실패 케이스: {} / {} ({:.2f}%)'.format(nan_false, len(nan_ecg_info), nan_false/len(nan_ecg_info)*100))"
   ]
  },
  {
   "cell_type": "markdown",
   "metadata": {},
   "source": [
    "### Noise distribution"
   ]
  },
  {
   "cell_type": "code",
   "execution_count": 11,
   "metadata": {
    "ExecuteTime": {
     "end_time": "2020-12-01T01:26:40.012253Z",
     "start_time": "2020-12-01T01:26:39.476749Z"
    }
   },
   "outputs": [
    {
     "name": "stdout",
     "output_type": "stream",
     "text": [
      "ppg의 noise 비율이 0: 46682 / 89217 (52.32%),   1: 7441 / 89217 (8.34%)\n",
      "ecg의 noise 비율이 0: 20295 / 89217 (22.75%),   1: 24938 / 89217 (27.95%)\n",
      "input의 peak 수가 적어 제외된 케이스: 3918 / 89217 (4.39%)\n",
      "noise으로 인한 전처리 실패케이스: 43020 / 89217 (48.22%)\n"
     ]
    }
   ],
   "source": [
    "noise_ppg_info = np.array(noise_info)[:,0]\n",
    "noise_ecg_info = np.array(noise_info)[:,1]\n",
    "\n",
    "noise_ppg_0 = 0\n",
    "noise_ppg_1 = 0\n",
    "no_peak = 0\n",
    "nan_removed = 0\n",
    "for noise_ppg in noise_ppg_info:\n",
    "    if noise_ppg == 0:\n",
    "        noise_ppg_0 += 1\n",
    "    if 0.95 < noise_ppg <= 1:\n",
    "        noise_ppg_1 += 1\n",
    "    # peak 수 부족 (직선이거나 엄청 이상해서 peak 조차 안잡히는 경우)\n",
    "    if noise_ppg == -2:\n",
    "        no_peak += 1\n",
    "    # nan 결측치가 기준치보다 많아 제거된 케이스\n",
    "    if noise_ppg == -1:\n",
    "        nan_removed += 1\n",
    "        \n",
    "noise_ecg_0 = 0\n",
    "noise_ecg_1 = 0\n",
    "for noise_ecg in noise_ecg_info:\n",
    "    if noise_ecg == 0:\n",
    "        noise_ecg_0 += 1\n",
    "    if 0.95 < noise_ecg <= 1:\n",
    "        noise_ecg_1 += 1\n",
    "\n",
    "noise_false = 0\n",
    "for i in range(len(noise_ppg_info)):\n",
    "    if (noise_ppg_info[i]>=0.5) or (noise_ecg_info[i]>=0.5):\n",
    "        noise_false += 1\n",
    "\n",
    "        \n",
    "\n",
    "        \n",
    "print('ppg의 noise 비율이 0: {} / {} ({:.2f}%),   1: {} / {} ({:.2f}%)'.format(noise_ppg_0,len(noise_ppg_info), noise_ppg_0/len(noise_ppg_info)*100, noise_ppg_1,len(noise_ppg_info), noise_ppg_1/len(noise_ppg_info)*100))\n",
    "print('ecg의 noise 비율이 0: {} / {} ({:.2f}%),   1: {} / {} ({:.2f}%)'.format(noise_ecg_0,len(noise_ecg_info), noise_ecg_0/len(noise_ecg_info)*100, noise_ecg_1,len(noise_ecg_info), noise_ecg_1/len(noise_ecg_info)*100))\n",
    "print('input의 peak 수가 적어 제외된 케이스: {} / {} ({:.2f}%)'.format(no_peak, len(noise_ecg_info), no_peak/len(noise_ecg_info)*100))\n",
    "#print('noise으로 인한 전처리 실패케이스: {} / {} ({:.2f}%)'.format(noise_false, len(noise_ecg_info)-(nan_removed), noise_false/(len(noise_ecg_info)-(nan_removed))*100))\n",
    "print('noise으로 인한 전처리 실패케이스: {} / {} ({:.2f}%)'.format(noise_false, len(noise_ecg_info), noise_false/(len(noise_ecg_info))*100))\n",
    "\n"
   ]
  },
  {
   "cell_type": "code",
   "execution_count": null,
   "metadata": {},
   "outputs": [],
   "source": []
  },
  {
   "cell_type": "code",
   "execution_count": null,
   "metadata": {},
   "outputs": [],
   "source": []
  },
  {
   "cell_type": "code",
   "execution_count": null,
   "metadata": {},
   "outputs": [],
   "source": []
  },
  {
   "cell_type": "code",
   "execution_count": null,
   "metadata": {},
   "outputs": [],
   "source": []
  },
  {
   "cell_type": "markdown",
   "metadata": {},
   "source": [
    "# Input 2"
   ]
  },
  {
   "cell_type": "markdown",
   "metadata": {},
   "source": [
    "## Pacu"
   ]
  },
  {
   "cell_type": "markdown",
   "metadata": {},
   "source": [
    "### Preprocessing result"
   ]
  },
  {
   "cell_type": "code",
   "execution_count": 1,
   "metadata": {
    "ExecuteTime": {
     "end_time": "2020-11-30T06:48:01.106499Z",
     "start_time": "2020-11-30T06:47:42.952127Z"
    }
   },
   "outputs": [
    {
     "name": "stdout",
     "output_type": "stream",
     "text": [
      "전처리 통과 비율(pacu): 376351 / 464464 (81.03)%\n"
     ]
    }
   ],
   "source": [
    "import pickle\n",
    "import pandas as pd\n",
    "\n",
    "\n",
    "# 전처리 정보 불러오기\n",
    "df_preprocess_pacu = pickle.load(open('../DL_model/cache/input2/df_preprocess_pacu', 'rb'))\n",
    "\n",
    "\n",
    "# pacu의 정보\n",
    "pass_info, nan_info, noise_info = [], [], []\n",
    "pass_per_case = []\n",
    "\n",
    "for _, row in df_preprocess_pacu.iterrows():\n",
    "    per_case = []\n",
    "    for i in range(1,57):\n",
    "        pass_info.append(row[str(i)][0])\n",
    "        per_case.append(row[str(i)][0])\n",
    "        nan_info.append(row[str(i)][1])\n",
    "        noise_info.append(row[str(i)][2])\n",
    "    pass_per_case.append(np.mean(per_case))\n",
    "    \n",
    "    \n",
    "print('전처리 통과 비율(pacu): {} / {} ({:.2f})%'.format(np.sum(pass_info), len(pass_info), np.mean(pass_info)*100))"
   ]
  },
  {
   "cell_type": "markdown",
   "metadata": {},
   "source": [
    "### Nan distribution"
   ]
  },
  {
   "cell_type": "code",
   "execution_count": 19,
   "metadata": {
    "ExecuteTime": {
     "end_time": "2020-11-27T18:39:30.879227Z",
     "start_time": "2020-11-27T18:39:27.006427Z"
    }
   },
   "outputs": [
    {
     "name": "stdout",
     "output_type": "stream",
     "text": [
      "ppg의 nan 비율이 0: 445979 / 464464 (96.02%),   1: 14194 / 464464 (3.06%)\n",
      "ecg의 nan 비율이 0: 446398 / 464464 (96.02%),   1: 14194 / 464464 (3.06%)\n",
      "nan으로 인한 전처리 실패케이스 17068 / 464464 (3.67%)\n"
     ]
    }
   ],
   "source": [
    "nan_ppg_info = np.array(nan_info)[:,0]\n",
    "nan_ecg_info = np.array(nan_info)[:,1]\n",
    "nan_both_info = np.array(nan_info)[:,2]\n",
    "\n",
    "nan_ppg_0 = 0\n",
    "nan_ppg_1 = 0\n",
    "for nan_ppg in nan_ppg_info:\n",
    "    if nan_ppg == 0:\n",
    "        nan_ppg_0 += 1\n",
    "    if 0.95 < nan_ppg <= 1:\n",
    "        nan_ppg_1 += 1\n",
    "        \n",
    "nan_ecg_0 = 0\n",
    "nan_ecg_1 = 0\n",
    "for nan_ecg in nan_ecg_info:\n",
    "    if nan_ecg == 0:\n",
    "        nan_ecg_0 += 1\n",
    "    if 0.95 < nan_ecg <= 1:\n",
    "        nan_ecg_1 += 1\n",
    "        \n",
    "nan_false = 0\n",
    "for i in range(len(nan_ppg_info)):\n",
    "    if (nan_ppg_info[i]>=0.3) or (nan_ecg_info[i]>=0.3) or (nan_both_info[i]>=0.2):\n",
    "        nan_false += 1\n",
    "\n",
    "        \n",
    "print('ppg의 nan 비율이 0: {} / {} ({:.2f}%),   1: {} / {} ({:.2f}%)'.format(nan_ppg_0,len(nan_ppg_info), nan_ppg_0/len(nan_ppg_info)*100, nan_ppg_1,len(nan_ecg_info), nan_ppg_1/len(nan_ecg_info)*100))\n",
    "print('ecg의 nan 비율이 0: {} / {} ({:.2f}%),   1: {} / {} ({:.2f}%)'.format(nan_ecg_0,len(nan_ecg_info), nan_ecg_0/len(nan_ecg_info)*100, nan_ecg_1,len(nan_ecg_info), nan_ecg_1/len(nan_ecg_info)*100))\n",
    "print('nan으로 인한 전처리 실패 케이스: {} / {} ({:.2f}%)'.format(nan_false, len(nan_ecg_info), nan_false/len(nan_ecg_info)*100))"
   ]
  },
  {
   "cell_type": "code",
   "execution_count": 9,
   "metadata": {
    "ExecuteTime": {
     "end_time": "2020-11-27T14:25:27.167555Z",
     "start_time": "2020-11-27T14:25:23.662878Z"
    },
    "scrolled": true
   },
   "outputs": [
    {
     "name": "stdout",
     "output_type": "stream",
     "text": [
      "nan ppg 0: 445979   nan ppg 1: 14194\n"
     ]
    },
    {
     "data": {
      "image/png": "[encoded data removed]",
      "text/plain": [
       "<Figure size 1440x576 with 2 Axes>"
      ]
     },
     "metadata": {
      "needs_background": "light"
     },
     "output_type": "display_data"
    },
    {
     "name": "stdout",
     "output_type": "stream",
     "text": [
      "nan ecg 0: 446398   nan ecg 1: 14194\n"
     ]
    }
   ],
   "source": [
    "import matplotlib.pyplot as plt\n",
    "%matplotlib inline\n",
    "\n",
    "plt.figure(figsize=(20,8))\n",
    "ax1 = plt.subplot(1,2,1)\n",
    "ax1.hist(nan_ppg_info, bins = 'auto')\n",
    "ax1.set_title('nan distribution of PPG (pacu)', fontdict={'fontsize':20})\n",
    "ax1.set_ylim(0, 300)\n",
    "print('nan ppg 0: {}   nan ppg 1: {}'.format(nan_ppg_0, nan_ppg_1))\n",
    "\n",
    "\n",
    "ax2 = plt.subplot(1,2,2)\n",
    "ax2.hist(nan_ecg_info, bins = 'auto')\n",
    "ax2.set_title('nan distribution of ECG (pacu)', fontdict={'fontsize':20})\n",
    "ax2.set_ylim(0, 300)\n",
    "plt.show()\n",
    "print('nan ecg 0: {}   nan ecg 1: {}'.format(nan_ecg_0, nan_ecg_1))"
   ]
  },
  {
   "cell_type": "markdown",
   "metadata": {},
   "source": [
    "### Noise distribution"
   ]
  },
  {
   "cell_type": "code",
   "execution_count": 6,
   "metadata": {
    "ExecuteTime": {
     "end_time": "2020-11-30T06:55:16.272181Z",
     "start_time": "2020-11-30T06:55:13.178220Z"
    }
   },
   "outputs": [
    {
     "name": "stdout",
     "output_type": "stream",
     "text": [
      "ppg의 noise 비율이 0: 311723 / 464464 (67.11%),   1: 7608 / 464464 (1.64%)\n",
      "ecg의 noise 비율이 0: 311578 / 464464 (67.08%),   1: 13898 / 464464 (2.99%)\n",
      "nan으로 인한 전처리 실패 케이스: 60717 / 464464 (13.07%)\n",
      "input의 peak 수가 적어 제외된 케이스: 10333 / 464464 (2.22%)\n",
      "noise으로 인한 전처리 실패케이스: 60717 / 464464 (13.07%)\n"
     ]
    }
   ],
   "source": [
    "noise_ppg_info = np.array(noise_info)[:,0]\n",
    "noise_ecg_info = np.array(noise_info)[:,1]\n",
    "\n",
    "noise_ppg_0 = 0\n",
    "noise_ppg_1 = 0\n",
    "no_peak = 0\n",
    "nan_removed = 0\n",
    "for noise_ppg in noise_ppg_info:\n",
    "    if noise_ppg == 0:\n",
    "        noise_ppg_0 += 1\n",
    "    if 0.95 < noise_ppg <= 1:\n",
    "        noise_ppg_1 += 1\n",
    "    # peak 수 부족 (직선이거나 엄청 이상해서 peak 조차 안잡히는 경우)\n",
    "    if noise_ppg == -2:\n",
    "        no_peak += 1\n",
    "    # nan 결측치가 기준치보다 많아 제거된 케이스\n",
    "    if noise_ppg == -1:\n",
    "        nan_removed += 1\n",
    "        \n",
    "noise_ecg_0 = 0\n",
    "noise_ecg_1 = 0\n",
    "for noise_ecg in noise_ecg_info:\n",
    "    if noise_ecg == 0:\n",
    "        noise_ecg_0 += 1\n",
    "    if 0.95 < noise_ecg <= 1:\n",
    "        noise_ecg_1 += 1\n",
    "\n",
    "noise_false = 0\n",
    "for i in range(len(noise_ppg_info)):\n",
    "    if (noise_ppg_info[i]>=0.5) or (noise_ecg_info[i]>=0.5):\n",
    "        noise_false += 1\n",
    "\n",
    "        \n",
    "\n",
    "        \n",
    "print('ppg의 noise 비율이 0: {} / {} ({:.2f}%),   1: {} / {} ({:.2f}%)'.format(noise_ppg_0,len(noise_ppg_info), noise_ppg_0/len(noise_ppg_info)*100, noise_ppg_1,len(noise_ppg_info), noise_ppg_1/len(noise_ppg_info)*100))\n",
    "print('ecg의 noise 비율이 0: {} / {} ({:.2f}%),   1: {} / {} ({:.2f}%)'.format(noise_ecg_0,len(noise_ecg_info), noise_ecg_0/len(noise_ecg_info)*100, noise_ecg_1,len(noise_ecg_info), noise_ecg_1/len(noise_ecg_info)*100))\n",
    "print('noise으로 인한 전처리 실패 케이스: {} / {} ({:.2f}%)'.format(noise_false, len(noise_ecg_info), noise_false/len(noise_ecg_info)*100))\n",
    "print('input의 peak 수가 적어 제외된 케이스: {} / {} ({:.2f}%)'.format(no_peak, len(noise_ecg_info), no_peak/len(noise_ecg_info)*100))\n",
    "#print('noise으로 인한 전처리 실패케이스: {} / {} ({:.2f}%)'.format(noise_false, len(noise_ecg_info)-(nan_removed), noise_false/(len(noise_ecg_info)-(nan_removed))*100))\n",
    "print('noise으로 인한 전처리 실패케이스: {} / {} ({:.2f}%)'.format(noise_false, len(noise_ecg_info), noise_false/(len(noise_ecg_info))*100))\n",
    "\n"
   ]
  },
  {
   "cell_type": "code",
   "execution_count": 11,
   "metadata": {
    "ExecuteTime": {
     "end_time": "2020-11-30T06:56:49.590981Z",
     "start_time": "2020-11-30T06:56:49.030336Z"
    }
   },
   "outputs": [
    {
     "data": {
      "image/png": "[encoded data removed]",
      "text/plain": [
       "<Figure size 1440x576 with 2 Axes>"
      ]
     },
     "metadata": {
      "needs_background": "light"
     },
     "output_type": "display_data"
    }
   ],
   "source": [
    "import matplotlib.pyplot as plt\n",
    "%matplotlib inline\n",
    "\n",
    "\n",
    "\n",
    "xticks = np.array([0.1*i for i in range(0,11)])\n",
    "\n",
    "plt.figure(figsize=(20,8))\n",
    "ax1 = plt.subplot(1,2,1)\n",
    "ax1.hist(noise_ppg_info, bins = xticks, rwidth=0.8)\n",
    "ax1.set_title('noise distribution of PPG (pacu)', fontdict={'fontsize':20})\n",
    "ax1.set_ylim(0, 40000)\n",
    "ax1.set_xlim(0,1)\n",
    "#ax1.set_xticks(xticks)\n",
    "\n",
    "ax2 = plt.subplot(1,2,2)\n",
    "ax2.hist(noise_ecg_info, bins = xticks, rwidth=0.8)\n",
    "ax2.set_title('noise distribution of ECG (pacu)', fontdict={'fontsize':20})\n",
    "ax2.set_ylim(0, 40000)\n",
    "ax2.set_xlim(0,1)\n",
    "ax2.set_xticks(xticks)\n",
    "plt.show()"
   ]
  },
  {
   "cell_type": "markdown",
   "metadata": {},
   "source": [
    "## Preop"
   ]
  },
  {
   "cell_type": "markdown",
   "metadata": {},
   "source": [
    "### Preprocessing result"
   ]
  },
  {
   "cell_type": "code",
   "execution_count": null,
   "metadata": {},
   "outputs": [],
   "source": [
    "import pickle\n",
    "import pandas as pd\n",
    "\n",
    "\n",
    "# 전처리 정보 불러오기\n",
    "df_preprocess_pacu = pickle.load(open('../DL_model/cache/input2/df_preprocess_pacu', 'rb'))\n",
    "\n",
    "\n",
    "# pacu의 정보\n",
    "pass_info, nan_info, noise_info = [], [], []\n",
    "pass_per_case = []\n",
    "\n",
    "for _, row in df_preprocess_pacu.iterrows():\n",
    "    per_case = []\n",
    "    for i in range(1,57):\n",
    "        pass_info.append(row[str(i)][0])\n",
    "        per_case.append(row[str(i)][0])\n",
    "        nan_info.append(row[str(i)][1])\n",
    "        noise_info.append(row[str(i)][2])\n",
    "    pass_per_case.append(np.mean(per_case))\n",
    "    \n",
    "    \n",
    "print('전처리 통과 비율(pacu): {} / {} ({:.2f})%'.format(np.sum(pass_info), len(pass_info), np.mean(pass_info)*100))"
   ]
  },
  {
   "cell_type": "markdown",
   "metadata": {},
   "source": [
    "### Nan distribution"
   ]
  },
  {
   "cell_type": "code",
   "execution_count": null,
   "metadata": {},
   "outputs": [],
   "source": [
    "import pickle\n",
    "import pandas as pd\n",
    "\n",
    "# 전처리 정보 불러오기\n",
    "df_preprocess_preop = pickle.load(open('../DL_model/cache/input2/df_preprocess_preop', 'rb'))\n",
    "\n",
    "\n",
    "# preop의 정보\n",
    "pass_info_preop, nan_info_preop, noise_info_preop = [], [], []\n",
    "pass_per_case_preop = []\n",
    "\n",
    "for _, row in df_preprocess_preop.iterrows():\n",
    "    per_case = []\n",
    "    for i in range(1,57):\n",
    "        pass_info.append(row[str(i)][0])\n",
    "        per_case.append(row[str(i)][0])\n",
    "        nan_info_preop.append(row[str(i)][1])\n",
    "        noise_info_preop.append(row[str(i)][2])\n",
    "    pass_per_case_preop.append(np.mean(per_case))"
   ]
  },
  {
   "cell_type": "markdown",
   "metadata": {},
   "source": [
    "### Noise distribution"
   ]
  },
  {
   "cell_type": "code",
   "execution_count": null,
   "metadata": {},
   "outputs": [],
   "source": []
  },
  {
   "cell_type": "markdown",
   "metadata": {},
   "source": [
    "## Nan distribution"
   ]
  },
  {
   "cell_type": "code",
   "execution_count": null,
   "metadata": {},
   "outputs": [],
   "source": [
    "import matplotlib.pyplot as plt\n",
    "%matplotlib inline\n",
    "\n",
    "\n",
    "nan_ppg_info = np.array(nan_info)[:,0]\n",
    "nan_ecg_info = np.array(nan_info)[:,1]\n",
    "nan_both_info = np.array(nan_info)[:,2]\n",
    "\n",
    "plt.figure(figsize=(20,8))\n",
    "ax1 = plt.subplot(1,2,1)\n",
    "ax1.hist(nan_ppg_info, bins = 'auto')\n",
    "ax1.set_title('nan distribution of PPG (pacu)', fontdict={'fontsize':20})\n",
    "ax1.set_ylim(0, 200)\n",
    "\n",
    "ax2 = plt.subplot(1,2,2)\n",
    "ax2.hist(nan_ecg_info, bins = 'auto')\n",
    "ax2.set_title('nan distribution of ECG (pacu)', fontdict={'fontsize':20})\n",
    "ax2.set_ylim(0, 200)\n",
    "plt.show()\n"
   ]
  },
  {
   "cell_type": "markdown",
   "metadata": {},
   "source": [
    "## Noise distribution"
   ]
  },
  {
   "cell_type": "code",
   "execution_count": null,
   "metadata": {},
   "outputs": [],
   "source": [
    "import matplotlib.pyplot as plt\n",
    "%matplotlib inline\n",
    "\n",
    "noise_ppg_info = np.array(noise_info)[:,0]\n",
    "noise_ecg_info = np.array(noise_info)[:,1]\n",
    "\n",
    "xticks = np.array([0.1*i for i in range(0,11)])\n",
    "\n",
    "plt.figure(figsize=(20,8))\n",
    "ax1 = plt.subplot(1,2,1)\n",
    "ax1.hist(noise_ppg_info, bins = xticks, rwidth=0.8)\n",
    "ax1.set_title('noise distribution of PPG', fontdict={'fontsize':20})\n",
    "ax1.set_ylim(0, 16000)\n",
    "ax1.set_xlim(0,1)\n",
    "ax1.set_xticks(xticks)\n",
    "\n",
    "ax2 = plt.subplot(1,2,2)\n",
    "ax2.hist(noise_ecg_info, bins = xticks, rwidth=0.8)\n",
    "ax2.set_title('noise distribution of ECG', fontdict={'fontsize':20})\n",
    "ax2.set_ylim(0, 16000)\n",
    "ax2.set_xlim(0,1)\n",
    "ax2.set_xticks(xticks)\n",
    "plt.show()\n"
   ]
  },
  {
   "cell_type": "code",
   "execution_count": null,
   "metadata": {},
   "outputs": [],
   "source": []
  },
  {
   "cell_type": "markdown",
   "metadata": {},
   "source": [
    "# Input 3- preprocessing 1"
   ]
  },
  {
   "cell_type": "markdown",
   "metadata": {},
   "source": [
    "## Pacu"
   ]
  },
  {
   "cell_type": "markdown",
   "metadata": {},
   "source": [
    "### Preprocessing result"
   ]
  },
  {
   "cell_type": "code",
   "execution_count": 6,
   "metadata": {
    "ExecuteTime": {
     "end_time": "2020-11-30T14:55:54.901515Z",
     "start_time": "2020-11-30T14:55:37.842450Z"
    }
   },
   "outputs": [
    {
     "name": "stdout",
     "output_type": "stream",
     "text": [
      "전처리 통과 비율(pacu): 348905 / 422994 (82.48)%\n"
     ]
    }
   ],
   "source": [
    "import pickle\n",
    "import pandas as pd\n",
    "\n",
    "\n",
    "# 전처리 정보 불러오기\n",
    "df_preprocess_pacu = pickle.load(open('../DL_model/cache/preprocess1/input3/df_preprocess_pacu', 'rb'))\n",
    "\n",
    "\n",
    "# pacu의 정보\n",
    "pass_info, nan_info, noise_info = [], [], []\n",
    "pass_per_case = []\n",
    "\n",
    "for _, row in df_preprocess_pacu.iterrows():\n",
    "    per_case = []\n",
    "    for i in range(1,52):\n",
    "        pass_info.append(row[str(i)][0])\n",
    "        per_case.append(row[str(i)][0])\n",
    "        nan_info.append(row[str(i)][1])\n",
    "        noise_info.append(row[str(i)][2])\n",
    "    pass_per_case.append(np.mean(per_case))\n",
    "    \n",
    "    \n",
    "print('전처리 통과 비율(pacu): {} / {} ({:.2f})%'.format(np.sum(pass_info), len(pass_info), np.mean(pass_info)*100))"
   ]
  },
  {
   "cell_type": "markdown",
   "metadata": {},
   "source": [
    "### Nan distribution"
   ]
  },
  {
   "cell_type": "code",
   "execution_count": 7,
   "metadata": {
    "ExecuteTime": {
     "end_time": "2020-11-30T14:56:20.834370Z",
     "start_time": "2020-11-30T14:56:17.409243Z"
    }
   },
   "outputs": [
    {
     "name": "stdout",
     "output_type": "stream",
     "text": [
      "ppg의 nan 비율이 0: 404469 / 422994 (95.62%),   1: 11703 / 422994 (2.77%)\n",
      "ecg의 nan 비율이 0: 404873 / 422994 (95.72%),   1: 11703 / 422994 (2.77%)\n",
      "nan으로 인한 전처리 실패 케이스: 16422 / 422994 (3.88%)\n"
     ]
    }
   ],
   "source": [
    "nan_ppg_info = np.array(nan_info)[:,0]\n",
    "nan_ecg_info = np.array(nan_info)[:,1]\n",
    "nan_both_info = np.array(nan_info)[:,2]\n",
    "\n",
    "nan_ppg_0 = 0\n",
    "nan_ppg_1 = 0\n",
    "for nan_ppg in nan_ppg_info:\n",
    "    if nan_ppg == 0:\n",
    "        nan_ppg_0 += 1\n",
    "    if 0.95 < nan_ppg <= 1:\n",
    "        nan_ppg_1 += 1\n",
    "        \n",
    "nan_ecg_0 = 0\n",
    "nan_ecg_1 = 0\n",
    "for nan_ecg in nan_ecg_info:\n",
    "    if nan_ecg == 0:\n",
    "        nan_ecg_0 += 1\n",
    "    if 0.95 < nan_ecg <= 1:\n",
    "        nan_ecg_1 += 1\n",
    "        \n",
    "nan_false = 0\n",
    "for i in range(len(nan_ppg_info)):\n",
    "    if (nan_ppg_info[i]>=0.3) or (nan_ecg_info[i]>=0.3) or (nan_both_info[i]>=0.2):\n",
    "        nan_false += 1\n",
    "\n",
    "        \n",
    "print('ppg의 nan 비율이 0: {} / {} ({:.2f}%),   1: {} / {} ({:.2f}%)'.format(nan_ppg_0,len(nan_ppg_info), nan_ppg_0/len(nan_ppg_info)*100, nan_ppg_1,len(nan_ecg_info), nan_ppg_1/len(nan_ecg_info)*100))\n",
    "print('ecg의 nan 비율이 0: {} / {} ({:.2f}%),   1: {} / {} ({:.2f}%)'.format(nan_ecg_0,len(nan_ecg_info), nan_ecg_0/len(nan_ecg_info)*100, nan_ecg_1,len(nan_ecg_info), nan_ecg_1/len(nan_ecg_info)*100))\n",
    "print('nan으로 인한 전처리 실패 케이스: {} / {} ({:.2f}%)'.format(nan_false, len(nan_ecg_info), nan_false/len(nan_ecg_info)*100))"
   ]
  },
  {
   "cell_type": "code",
   "execution_count": null,
   "metadata": {},
   "outputs": [],
   "source": []
  },
  {
   "cell_type": "markdown",
   "metadata": {},
   "source": [
    "### Noise distribution"
   ]
  },
  {
   "cell_type": "code",
   "execution_count": 11,
   "metadata": {
    "ExecuteTime": {
     "end_time": "2020-11-30T14:59:41.654960Z",
     "start_time": "2020-11-30T14:59:38.792619Z"
    }
   },
   "outputs": [
    {
     "name": "stdout",
     "output_type": "stream",
     "text": [
      "ppg의 noise 비율이 0: 238473 / 422994 (56.38%),   1: 11891 / 422994 (2.81%)\n",
      "ecg의 noise 비율이 0: 240987 / 422994 (56.97%),   1: 12772 / 422994 (3.02%)\n",
      "nan으로 인한 전처리 실패 케이스: 56766 / 422994 (13.42%)\n",
      "input의 peak 수가 적어 제외된 케이스: 902 / 422994 (0.21%)\n",
      "noise으로 인한 전처리 실패케이스: 56766 / 422994 (13.42%)\n"
     ]
    }
   ],
   "source": [
    "noise_ppg_info = np.array(noise_info)[:,0]\n",
    "noise_ecg_info = np.array(noise_info)[:,1]\n",
    "\n",
    "noise_ppg_0 = 0\n",
    "noise_ppg_1 = 0\n",
    "no_peak = 0\n",
    "nan_removed = 0\n",
    "for noise_ppg in noise_ppg_info:\n",
    "    if noise_ppg == 0:\n",
    "        noise_ppg_0 += 1\n",
    "    if 0.95 < noise_ppg <= 1:\n",
    "        noise_ppg_1 += 1\n",
    "    # peak 수 부족 (직선이거나 엄청 이상해서 peak 조차 안잡히는 경우)\n",
    "    if noise_ppg == -2:\n",
    "        no_peak += 1\n",
    "    # nan 결측치가 기준치보다 많아 제거된 케이스\n",
    "    if noise_ppg == -1:\n",
    "        nan_removed += 1\n",
    "        \n",
    "noise_ecg_0 = 0\n",
    "noise_ecg_1 = 0\n",
    "for noise_ecg in noise_ecg_info:\n",
    "    if noise_ecg == 0:\n",
    "        noise_ecg_0 += 1\n",
    "    if 0.95 < noise_ecg <= 1:\n",
    "        noise_ecg_1 += 1\n",
    "\n",
    "noise_false = 0\n",
    "for i in range(len(noise_ppg_info)):\n",
    "    if (noise_ppg_info[i]>=0.5) or (noise_ecg_info[i]>=0.5):\n",
    "        noise_false += 1\n",
    "\n",
    "        \n",
    "\n",
    "        \n",
    "print('ppg의 noise 비율이 0: {} / {} ({:.2f}%),   1: {} / {} ({:.2f}%)'.format(noise_ppg_0,len(noise_ppg_info), noise_ppg_0/len(noise_ppg_info)*100, noise_ppg_1,len(noise_ppg_info), noise_ppg_1/len(noise_ppg_info)*100))\n",
    "print('ecg의 noise 비율이 0: {} / {} ({:.2f}%),   1: {} / {} ({:.2f}%)'.format(noise_ecg_0,len(noise_ecg_info), noise_ecg_0/len(noise_ecg_info)*100, noise_ecg_1,len(noise_ecg_info), noise_ecg_1/len(noise_ecg_info)*100))\n",
    "print('input의 peak 수가 적어 제외된 케이스: {} / {} ({:.2f}%)'.format(no_peak, len(noise_ecg_info), no_peak/len(noise_ecg_info)*100))\n",
    "#print('noise으로 인한 전처리 실패케이스: {} / {} ({:.2f}%)'.format(noise_false, len(noise_ecg_info)-(nan_removed), noise_false/(len(noise_ecg_info)-(nan_removed))*100))\n",
    "print('noise으로 인한 전처리 실패케이스: {} / {} ({:.2f}%)'.format(noise_false, len(noise_ecg_info), noise_false/(len(noise_ecg_info))*100))\n",
    "\n"
   ]
  },
  {
   "cell_type": "code",
   "execution_count": 10,
   "metadata": {
    "ExecuteTime": {
     "end_time": "2020-11-30T14:57:47.374304Z",
     "start_time": "2020-11-30T14:57:46.898976Z"
    }
   },
   "outputs": [
    {
     "data": {
      "image/png": "[encoded data removed]",
      "text/plain": [
       "<Figure size 1440x576 with 2 Axes>"
      ]
     },
     "metadata": {
      "needs_background": "light"
     },
     "output_type": "display_data"
    }
   ],
   "source": [
    "import matplotlib.pyplot as plt\n",
    "%matplotlib inline\n",
    "\n",
    "\n",
    "\n",
    "xticks = np.array([0.1*i for i in range(0,11)])\n",
    "\n",
    "plt.figure(figsize=(20,8))\n",
    "ax1 = plt.subplot(1,2,1)\n",
    "ax1.hist(noise_ppg_info, bins = xticks, rwidth=0.8)\n",
    "ax1.set_title('noise distribution of PPG (pacu)', fontdict={'fontsize':20})\n",
    "ax1.set_ylim(0, 40000)\n",
    "ax1.set_xlim(0,1)\n",
    "#ax1.set_xticks(xticks)\n",
    "\n",
    "ax2 = plt.subplot(1,2,2)\n",
    "ax2.hist(noise_ecg_info, bins = xticks, rwidth=0.8)\n",
    "ax2.set_title('noise distribution of ECG (pacu)', fontdict={'fontsize':20})\n",
    "ax2.set_ylim(0, 40000)\n",
    "ax2.set_xlim(0,1)\n",
    "ax2.set_xticks(xticks)\n",
    "plt.show()"
   ]
  },
  {
   "cell_type": "markdown",
   "metadata": {},
   "source": [
    "# Input 3 - preprocessing 2"
   ]
  },
  {
   "cell_type": "markdown",
   "metadata": {},
   "source": [
    "## Pacu"
   ]
  },
  {
   "cell_type": "markdown",
   "metadata": {},
   "source": [
    "### Preprocessing result"
   ]
  },
  {
   "cell_type": "code",
   "execution_count": 13,
   "metadata": {
    "ExecuteTime": {
     "end_time": "2020-11-30T15:00:34.184592Z",
     "start_time": "2020-11-30T15:00:17.270385Z"
    },
    "hide_input": false
   },
   "outputs": [
    {
     "name": "stdout",
     "output_type": "stream",
     "text": [
      "전처리 통과 비율(pacu): 278848 / 422994 (65.92)%\n"
     ]
    }
   ],
   "source": [
    "import pickle\n",
    "import pandas as pd\n",
    "\n",
    "\n",
    "# 전처리 정보 불러오기\n",
    "df_preprocess_pacu = pickle.load(open('../DL_model/cache/preprocess2/input3/df_preprocess_pacu', 'rb'))\n",
    "\n",
    "\n",
    "# pacu의 정보\n",
    "pass_info, nan_info, noise_info = [], [], []\n",
    "pass_per_case = []\n",
    "\n",
    "for _, row in df_preprocess_pacu.iterrows():\n",
    "    per_case = []\n",
    "    for i in range(1,52):\n",
    "        pass_info.append(row[str(i)][0])\n",
    "        per_case.append(row[str(i)][0])\n",
    "        nan_info.append(row[str(i)][1])\n",
    "        noise_info.append(row[str(i)][2])\n",
    "    pass_per_case.append(np.mean(per_case))\n",
    "    \n",
    "    \n",
    "print('전처리 통과 비율(pacu): {} / {} ({:.2f})%'.format(np.sum(pass_info), len(pass_info), np.mean(pass_info)*100))"
   ]
  },
  {
   "cell_type": "markdown",
   "metadata": {},
   "source": [
    "### Nan distribution"
   ]
  },
  {
   "cell_type": "code",
   "execution_count": 2,
   "metadata": {
    "ExecuteTime": {
     "end_time": "2020-11-30T14:53:52.164531Z",
     "start_time": "2020-11-30T14:53:48.814351Z"
    },
    "hide_input": true
   },
   "outputs": [
    {
     "name": "stdout",
     "output_type": "stream",
     "text": [
      "ppg의 nan 비율이 0: 404469 / 422994 (95.62%),   1: 11703 / 422994 (2.77%)\n",
      "ecg의 nan 비율이 0: 404873 / 422994 (95.72%),   1: 11703 / 422994 (2.77%)\n",
      "nan으로 인한 전처리 실패 케이스: 16422 / 422994 (3.88%)\n"
     ]
    }
   ],
   "source": [
    "nan_ppg_info = np.array(nan_info)[:,0]\n",
    "nan_ecg_info = np.array(nan_info)[:,1]\n",
    "nan_both_info = np.array(nan_info)[:,2]\n",
    "\n",
    "nan_ppg_0 = 0\n",
    "nan_ppg_1 = 0\n",
    "for nan_ppg in nan_ppg_info:\n",
    "    if nan_ppg == 0:\n",
    "        nan_ppg_0 += 1\n",
    "    if 0.95 < nan_ppg <= 1:\n",
    "        nan_ppg_1 += 1\n",
    "        \n",
    "nan_ecg_0 = 0\n",
    "nan_ecg_1 = 0\n",
    "for nan_ecg in nan_ecg_info:\n",
    "    if nan_ecg == 0:\n",
    "        nan_ecg_0 += 1\n",
    "    if 0.95 < nan_ecg <= 1:\n",
    "        nan_ecg_1 += 1\n",
    "        \n",
    "nan_false = 0\n",
    "for i in range(len(nan_ppg_info)):\n",
    "    if (nan_ppg_info[i]>=0.3) or (nan_ecg_info[i]>=0.3) or (nan_both_info[i]>=0.2):\n",
    "        nan_false += 1\n",
    "\n",
    "        \n",
    "print('ppg의 nan 비율이 0: {} / {} ({:.2f}%),   1: {} / {} ({:.2f}%)'.format(nan_ppg_0,len(nan_ppg_info), nan_ppg_0/len(nan_ppg_info)*100, nan_ppg_1,len(nan_ecg_info), nan_ppg_1/len(nan_ecg_info)*100))\n",
    "print('ecg의 nan 비율이 0: {} / {} ({:.2f}%),   1: {} / {} ({:.2f}%)'.format(nan_ecg_0,len(nan_ecg_info), nan_ecg_0/len(nan_ecg_info)*100, nan_ecg_1,len(nan_ecg_info), nan_ecg_1/len(nan_ecg_info)*100))\n",
    "print('nan으로 인한 전처리 실패 케이스: {} / {} ({:.2f}%)'.format(nan_false, len(nan_ecg_info), nan_false/len(nan_ecg_info)*100))"
   ]
  },
  {
   "cell_type": "code",
   "execution_count": 5,
   "metadata": {
    "ExecuteTime": {
     "end_time": "2020-11-30T14:54:40.476327Z",
     "start_time": "2020-11-30T14:54:39.989252Z"
    },
    "hide_input": true
   },
   "outputs": [
    {
     "name": "stdout",
     "output_type": "stream",
     "text": [
      "nan ppg 0: 404469   nan ppg 1: 11703\n"
     ]
    },
    {
     "data": {
      "image/png": "[encoded data removed]",
      "text/plain": [
       "<Figure size 1440x576 with 2 Axes>"
      ]
     },
     "metadata": {
      "needs_background": "light"
     },
     "output_type": "display_data"
    },
    {
     "name": "stdout",
     "output_type": "stream",
     "text": [
      "nan ecg 0: 404873   nan ecg 1: 11703\n"
     ]
    }
   ],
   "source": [
    "import matplotlib.pyplot as plt\n",
    "%matplotlib inline\n",
    "\n",
    "plt.figure(figsize=(20,8))\n",
    "ax1 = plt.subplot(1,2,1)\n",
    "ax1.hist(nan_ppg_info, bins = 'auto')\n",
    "ax1.set_title('nan distribution of PPG (pacu)', fontdict={'fontsize':20})\n",
    "ax1.set_ylim(0, 300)\n",
    "print('nan ppg 0: {}   nan ppg 1: {}'.format(nan_ppg_0, nan_ppg_1))\n",
    "\n",
    "\n",
    "ax2 = plt.subplot(1,2,2)\n",
    "ax2.hist(nan_ecg_info, bins = 'auto')\n",
    "ax2.set_title('nan distribution of ECG (pacu)', fontdict={'fontsize':20})\n",
    "ax2.set_ylim(0, 300)\n",
    "plt.show()\n",
    "print('nan ecg 0: {}   nan ecg 1: {}'.format(nan_ecg_0, nan_ecg_1))"
   ]
  },
  {
   "cell_type": "markdown",
   "metadata": {},
   "source": [
    "### Noise distribution"
   ]
  },
  {
   "cell_type": "code",
   "execution_count": 15,
   "metadata": {
    "ExecuteTime": {
     "end_time": "2020-11-30T15:03:01.342895Z",
     "start_time": "2020-11-30T15:02:58.541960Z"
    },
    "hide_input": true
   },
   "outputs": [
    {
     "name": "stdout",
     "output_type": "stream",
     "text": [
      "ppg의 noise 비율이 0: 202618 / 422994 (47.90%),   1: 18860 / 422994 (4.46%)\n",
      "ecg의 noise 비율이 0: 186300 / 422994 (44.04%),   1: 21491 / 422994 (5.08%)\n",
      "input의 peak 수가 적어 제외된 케이스: 902 / 422994 (0.21%)\n",
      "noise으로 인한 전처리 실패케이스: 86690 / 422994 (20.49%)\n"
     ]
    }
   ],
   "source": [
    "noise_ppg_info = np.array(noise_info)[:,0]\n",
    "noise_ecg_info = np.array(noise_info)[:,1]\n",
    "\n",
    "noise_ppg_0 = 0\n",
    "noise_ppg_1 = 0\n",
    "no_peak = 0\n",
    "nan_removed = 0\n",
    "for noise_ppg in noise_ppg_info:\n",
    "    if noise_ppg == 0:\n",
    "        noise_ppg_0 += 1\n",
    "    if 0.95 < noise_ppg <= 1:\n",
    "        noise_ppg_1 += 1\n",
    "    # peak 수 부족 (직선이거나 엄청 이상해서 peak 조차 안잡히는 경우)\n",
    "    if noise_ppg == -2:\n",
    "        no_peak += 1\n",
    "    # nan 결측치가 기준치보다 많아 제거된 케이스\n",
    "    if noise_ppg == -1:\n",
    "        nan_removed += 1\n",
    "        \n",
    "noise_ecg_0 = 0\n",
    "noise_ecg_1 = 0\n",
    "for noise_ecg in noise_ecg_info:\n",
    "    if noise_ecg == 0:\n",
    "        noise_ecg_0 += 1\n",
    "    if 0.95 < noise_ecg <= 1:\n",
    "        noise_ecg_1 += 1\n",
    "\n",
    "noise_false = 0\n",
    "for i in range(len(noise_ppg_info)):\n",
    "    if (noise_ppg_info[i]>=0.5) or (noise_ecg_info[i]>=0.5):\n",
    "        noise_false += 1\n",
    "\n",
    "        \n",
    "\n",
    "        \n",
    "print('ppg의 noise 비율이 0: {} / {} ({:.2f}%),   1: {} / {} ({:.2f}%)'.format(noise_ppg_0,len(noise_ppg_info), noise_ppg_0/len(noise_ppg_info)*100, noise_ppg_1,len(noise_ppg_info), noise_ppg_1/len(noise_ppg_info)*100))\n",
    "print('ecg의 noise 비율이 0: {} / {} ({:.2f}%),   1: {} / {} ({:.2f}%)'.format(noise_ecg_0,len(noise_ecg_info), noise_ecg_0/len(noise_ecg_info)*100, noise_ecg_1,len(noise_ecg_info), noise_ecg_1/len(noise_ecg_info)*100))\n",
    "print('input의 peak 수가 적어 제외된 케이스: {} / {} ({:.2f}%)'.format(no_peak, len(noise_ecg_info), no_peak/len(noise_ecg_info)*100))\n",
    "#print('noise으로 인한 전처리 실패케이스: {} / {} ({:.2f}%)'.format(noise_false, len(noise_ecg_info)-(nan_removed), noise_false/(len(noise_ecg_info)-(nan_removed))*100))\n",
    "print('noise으로 인한 전처리 실패케이스: {} / {} ({:.2f}%)'.format(noise_false, len(noise_ecg_info), noise_false/(len(noise_ecg_info))*100))\n",
    "\n"
   ]
  },
  {
   "cell_type": "code",
   "execution_count": 4,
   "metadata": {
    "ExecuteTime": {
     "end_time": "2020-11-30T14:54:32.584222Z",
     "start_time": "2020-11-30T14:54:31.825528Z"
    },
    "hide_input": true
   },
   "outputs": [
    {
     "data": {
      "image/png": "[encoded data removed]",
      "text/plain": [
       "<Figure size 1440x576 with 2 Axes>"
      ]
     },
     "metadata": {
      "needs_background": "light"
     },
     "output_type": "display_data"
    }
   ],
   "source": [
    "import matplotlib.pyplot as plt\n",
    "%matplotlib inline\n",
    "\n",
    "\n",
    "\n",
    "xticks = np.array([0.1*i for i in range(0,11)])\n",
    "\n",
    "plt.figure(figsize=(20,8))\n",
    "ax1 = plt.subplot(1,2,1)\n",
    "ax1.hist(noise_ppg_info, bins = xticks, rwidth=0.8)\n",
    "ax1.set_title('noise distribution of PPG (pacu)', fontdict={'fontsize':20})\n",
    "ax1.set_ylim(0, 40000)\n",
    "ax1.set_xlim(0,1)\n",
    "#ax1.set_xticks(xticks)\n",
    "\n",
    "ax2 = plt.subplot(1,2,2)\n",
    "ax2.hist(noise_ecg_info, bins = xticks, rwidth=0.8)\n",
    "ax2.set_title('noise distribution of ECG (pacu)', fontdict={'fontsize':20})\n",
    "ax2.set_ylim(0, 40000)\n",
    "ax2.set_xlim(0,1)\n",
    "ax2.set_xticks(xticks)\n",
    "plt.show()"
   ]
  },
  {
   "cell_type": "markdown",
   "metadata": {},
   "source": [
    "## Preop"
   ]
  },
  {
   "cell_type": "markdown",
   "metadata": {},
   "source": []
  },
  {
   "cell_type": "code",
   "execution_count": null,
   "metadata": {},
   "outputs": [],
   "source": []
  },
  {
   "cell_type": "code",
   "execution_count": null,
   "metadata": {},
   "outputs": [],
   "source": []
  },
  {
   "cell_type": "code",
   "execution_count": null,
   "metadata": {},
   "outputs": [],
   "source": []
  },
  {
   "cell_type": "code",
   "execution_count": null,
   "metadata": {},
   "outputs": [],
   "source": []
  }
 ],
 "metadata": {
  "kernelspec": {
   "display_name": "Python 3",
   "language": "python",
   "name": "python3"
  },
  "language_info": {
   "codemirror_mode": {
    "name": "ipython",
    "version": 3
   },
   "file_extension": ".py",
   "mimetype": "text/x-python",
   "name": "python",
   "nbconvert_exporter": "python",
   "pygments_lexer": "ipython3",
   "version": "3.6.9"
  },
  "toc": {
   "base_numbering": 1,
   "nav_menu": {},
   "number_sections": true,
   "sideBar": true,
   "skip_h1_title": false,
   "title_cell": "Table of Contents",
   "title_sidebar": "Contents",
   "toc_cell": false,
   "toc_position": {
    "height": "calc(100% - 180px)",
    "left": "10px",
    "top": "150px",
    "width": "480px"
   },
   "toc_section_display": true,
   "toc_window_display": true
  },
  "varInspector": {
   "cols": {
    "lenName": 16,
    "lenType": 16,
    "lenVar": 40
   },
   "kernels_config": {
    "python": {
     "delete_cmd_postfix": "",
     "delete_cmd_prefix": "del ",
     "library": "var_list.py",
     "varRefreshCmd": "print(var_dic_list())"
    },
    "r": {
     "delete_cmd_postfix": ") ",
     "delete_cmd_prefix": "rm(",
     "library": "var_list.r",
     "varRefreshCmd": "cat(var_dic_list()) "
    }
   },
   "position": {
    "height": "286px",
    "left": "1711px",
    "right": "20px",
    "top": "111px",
    "width": "350px"
   },
   "types_to_exclude": [
    "module",
    "function",
    "builtin_function_or_method",
    "instance",
    "_Feature"
   ],
   "window_display": true
  }
 },
 "nbformat": 4,
 "nbformat_minor": 4
}
