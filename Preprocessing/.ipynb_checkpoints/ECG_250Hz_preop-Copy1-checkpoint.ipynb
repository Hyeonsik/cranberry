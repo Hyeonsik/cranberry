{
 "cells": [
  {
   "cell_type": "code",
   "execution_count": null,
   "metadata": {
    "ExecuteTime": {
     "start_time": "2020-11-28T04:08:38.411Z"
    },
    "scrolled": false
   },
   "outputs": [
    {
     "name": "stdout",
     "output_type": "stream",
     "text": [
      "(1/4116) size of F4_190718_122631.vital : 239280\n",
      "detecting peak...successfully saved ECG peaks\n",
      "(2/4116) size of R2_201017_152717.vital : 238441\n",
      "detecting peak...successfully saved ECG peaks\n",
      "(3/4116) size of R7_200325_140654.vital : 238801\n",
      "detecting peak...successfully saved ECG peaks\n",
      "(4/4116) size of R6_200311_074332.vital : 239697\n",
      "detecting peak...successfully saved ECG peaks\n",
      "(5/4116) size of D1_190717_122932.vital : 239360\n",
      "detecting peak...successfully saved ECG peaks\n",
      "(6/4116) size of D4_190723_120847.vital : 238560\n",
      "detecting peak...successfully saved ECG peaks\n",
      "(7/4116) size of R6_200521_075516.vital : 238641\n",
      "detecting peak...successfully saved ECG peaks\n",
      "(8/4116) size of E1_200120_074737.vital : 239280\n",
      "detecting peak...successfully saved ECG peaks\n",
      "(9/4116) size of R2_200318_140336.vital : 239441\n",
      "detecting peak..."
     ]
    }
   ],
   "source": [
    "import os, sys\n",
    "import pickle\n",
    "import pandas as pd\n",
    "import numpy as np\n",
    "\n",
    "#sys.path.append(os.path.dirname(os.path.abspath(os.path.dirname('SPI_model'))))\n",
    "from pyvital2 import arr, vitaldb\n",
    "\n",
    "vital_path = '../../cranberry2/Preprocessing/preop_vital/preop_vital'\n",
    "vital_list = os.listdir(vital_path)\n",
    "srate = 100\n",
    "non_list, error_list = [], []\n",
    "\n",
    "non_ecg = 0\n",
    "cnt = 0\n",
    "# 추가 샘플을 group histo 에 집어넣음\n",
    "for f_vital in vital_list:\n",
    "    cnt += 1\n",
    "    cachepath = \"../../cranberry2/Preprocessing/cache/ECG_250Hz_preop/\" + f_vital[3:]\n",
    "    \n",
    "    #이미 저장된 pickle 파일이 있으면 loading -> group histogram을 훈련시킴\n",
    "    if os.path.exists(cachepath):\n",
    "        print('({}/{}) '.format(cnt, len(vital_list)), end=' ')\n",
    "        print('already existing peak ' + f_vital[3:])\n",
    "            \n",
    "    #저장된 pickle 파일이 없으면 새로 계산해서 저장   \n",
    "    else:\n",
    "        print('({}/{}) '.format(cnt, len(vital_list)), end='')\n",
    "        if not '.vital' in f_vital:\n",
    "            print('not a vital file')\n",
    "            non_list.append(f_vital)\n",
    "            continue\n",
    "        \n",
    "        vals = vitaldb.vital_recs(vital_path+'/'+f_vital, ['SNUADC/ECG_II'], interval = 0.0025).flatten()\n",
    "        print('size of', f_vital, ':', len(vals), end='')\n",
    "        \n",
    "        if len(np.unique(vals)) == 1:\n",
    "            print('  no data')\n",
    "            non_list.append(f_vital)\n",
    "            continue\n",
    "        \n",
    "        print('\\ndetecting peak...', end='')\n",
    "        \n",
    "        try:\n",
    "            r_peak_list = arr.detect_qrs((pd.DataFrame(vals).fillna(method='ffill').fillna(method='bfill').values.flatten()),100)\n",
    "\n",
    "        except Exception as er:\n",
    "            print('에러발생:', er)\n",
    "            non_ecg += 1\n",
    "            error_list.append({'file': f_vital, 'type': 'ECG', 'error': er, })\n",
    "        else:\n",
    "            pickle.dump(r_peak_list, open(cachepath, 'wb'))\n",
    "            print('successfully saved ECG peaks')     "
   ]
  }
 ],
 "metadata": {
  "kernelspec": {
   "display_name": "Python 3",
   "language": "python",
   "name": "python3"
  },
  "language_info": {
   "codemirror_mode": {
    "name": "ipython",
    "version": 3
   },
   "file_extension": ".py",
   "mimetype": "text/x-python",
   "name": "python",
   "nbconvert_exporter": "python",
   "pygments_lexer": "ipython3",
   "version": "3.6.9"
  },
  "toc": {
   "base_numbering": 1,
   "nav_menu": {},
   "number_sections": true,
   "sideBar": true,
   "skip_h1_title": false,
   "title_cell": "Table of Contents",
   "title_sidebar": "Contents",
   "toc_cell": false,
   "toc_position": {},
   "toc_section_display": true,
   "toc_window_display": false
  },
  "varInspector": {
   "cols": {
    "lenName": 16,
    "lenType": 16,
    "lenVar": 40
   },
   "kernels_config": {
    "python": {
     "delete_cmd_postfix": "",
     "delete_cmd_prefix": "del ",
     "library": "var_list.py",
     "varRefreshCmd": "print(var_dic_list())"
    },
    "r": {
     "delete_cmd_postfix": ") ",
     "delete_cmd_prefix": "rm(",
     "library": "var_list.r",
     "varRefreshCmd": "cat(var_dic_list()) "
    }
   },
   "types_to_exclude": [
    "module",
    "function",
    "builtin_function_or_method",
    "instance",
    "_Feature"
   ],
   "window_display": false
  }
 },
 "nbformat": 4,
 "nbformat_minor": 4
}
