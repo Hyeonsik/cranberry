{
 "cells": [
  {
   "cell_type": "code",
   "execution_count": 1,
   "metadata": {
    "ExecuteTime": {
     "end_time": "2020-12-07T07:04:33.018517Z",
     "start_time": "2020-12-07T07:04:23.192510Z"
    }
   },
   "outputs": [
    {
     "name": "stdout",
     "output_type": "stream",
     "text": [
      "['PACU1_10_190528_110437.csv', 'PACU1_10_190709_172441.csv', 'PACU1_10_190723_125732.csv', 'PACU1_10_190820_163322.csv', 'PACU1_10_190821_102951.csv', 'PACU1_10_190821_140008.csv', 'PACU1_10_190821_154935.csv', 'PACU1_10_190827_134744.csv', 'PACU1_10_190829_170015.csv', 'PACU1_10_190830_135223.csv', 'PACU1_10_200115_155300.csv', 'PACU1_10_200205_120438.csv', 'PACU1_10_200205_145216.csv', 'PACU1_10_200211_172517.csv', 'PACU1_10_200214_134908.csv', 'PACU1_10_200217_165735.csv', 'PACU1_10_200221_102154.csv', 'PACU1_10_200228_130016.csv', 'PACU1_10_200507_132540.csv', 'PACU1_10_200521_103234.csv', 'PACU1_10_200521_164846.csv', 'PACU1_10_200529_151443.csv', 'PACU1_10_200603_131444.csv', 'PACU1_10_200612_095554.csv', 'PACU1_10_200616_173958.csv', 'PACU1_10_200617_142506.csv', 'PACU1_10_200716_103518.csv', 'PACU1_10_200811_131641.csv', 'PACU1_10_200820_103206.csv', 'PACU1_10_200918_163449.csv', 'PACU1_10_200922_111940.csv', 'PACU1_10_201028_152639.csv', 'PACU1_11_190507_112917.csv', 'PACU1_11_190514_093500.csv', 'PACU1_11_190718_104139.csv', 'PACU1_11_190822_145331.csv', 'PACU1_11_190905_145000.csv', 'PACU1_11_191017_140015.csv', 'PACU1_11_200110_120805.csv', 'PACU1_11_200129_095707.csv', 'PACU1_11_200205_164828.csv', 'PACU1_11_200206_132451.csv', 'PACU1_11_200224_152545.csv', 'PACU1_11_200504_141412.csv', 'PACU1_11_200526_131650.csv', 'PACU1_11_200529_143500.csv', 'PACU1_11_200616_142848.csv', 'PACU1_11_200701_094103.csv', 'PACU1_11_200722_125355.csv', 'PACU1_11_200730_144335.csv', 'PACU1_11_200731_095959.csv', 'PACU1_11_200731_135403.csv', 'PACU1_11_200804_131019.csv', 'PACU1_11_200911_153855.csv', 'PACU1_11_200916_141636.csv', 'PACU1_11_200929_161835.csv', 'PACU1_11_201014_141319.csv', 'PACU1_11_201026_132629.csv', 'PACU1_12_190430_151349.csv', 'PACU1_12_190507_153946.csv', 'PACU1_12_190529_135309.csv', 'PACU1_12_190607_141912.csv', 'PACU1_12_190822_120852.csv', 'PACU1_12_190917_105505.csv', 'PACU1_12_191024_163122.csv', 'PACU1_12_200114_164133.csv', 'PACU1_12_200122_163312.csv', 'PACU1_12_200514_182209.csv', 'PACU1_12_200609_100437.csv', 'PACU1_12_200610_094140.csv', 'PACU1_12_200616_152932.csv', 'PACU1_12_200819_132943.csv', 'PACU1_12_201030_152744.csv', 'PACU1_1_190419_134204.csv', 'PACU1_1_190419_144203.csv', 'PACU1_1_190419_195900.csv', 'PACU1_1_190424_104547.csv', 'PACU1_1_190425_110118.csv', 'PACU1_1_190429_114357.csv', 'PACU1_1_190515_123546.csv', 'PACU1_1_190515_202235.csv', 'PACU1_1_190516_203320.csv', 'PACU1_1_190529_130659.csv', 'PACU1_1_190603_152550.csv', 'PACU1_1_190717_084957.csv', 'PACU1_1_190718_165707.csv', 'PACU1_1_190820_130519.csv', 'PACU1_1_190828_151038.csv', 'PACU1_1_191024_125724.csv', 'PACU1_1_191024_173737.csv', 'PACU1_1_191224_162516.csv', 'PACU1_1_191226_204620.csv', 'PACU1_1_191231_155615.csv', 'PACU1_1_200103_203750.csv', 'PACU1_1_200109_162237.csv', 'PACU1_1_200109_172222.csv', 'PACU1_1_200115_154629.csv', 'PACU1_1_200116_155222.csv', 'PACU1_1_200122_134827.csv', 'PACU1_1_200122_160552.csv', 'PACU1_1_200122_174235.csv', 'PACU1_1_200123_104144.csv', 'PACU1_1_200204_153005.csv', 'PACU1_1_200204_201938.csv', 'PACU1_1_200204_210634.csv', 'PACU1_1_200205_151207.csv', 'PACU1_1_200206_165455.csv', 'PACU1_1_200214_212645.csv', 'PACU1_1_200217_115421.csv', 'PACU1_1_200220_102905.csv', 'PACU1_1_200220_130022.csv', 'PACU1_1_200311_095801.csv', 'PACU1_1_200318_161331.csv', 'PACU1_1_200319_173606.csv', 'PACU1_1_200513_163306.csv', 'PACU1_1_200514_153414.csv', 'PACU1_1_200526_123356.csv', 'PACU1_1_200528_112642.csv', 'PACU1_1_200602_160011.csv', 'PACU1_1_200610_191621.csv', 'PACU1_1_200610_202606.csv', 'PACU1_1_200611_160159.csv', 'PACU1_1_200615_195658.csv', 'PACU1_1_200616_155404.csv', 'PACU1_1_200720_141748.csv', 'PACU1_1_200722_093243.csv', 'PACU1_1_200805_103731.csv', 'PACU1_1_200820_093916.csv', 'PACU1_1_200820_180714.csv', 'PACU1_1_200821_165245.csv', 'PACU1_1_200821_204839.csv', 'PACU1_1_200828_144451.csv', 'PACU1_1_200911_211638.csv', 'PACU1_1_200916_141847.csv', 'PACU1_1_200916_162304.csv', 'PACU1_1_200917_151922.csv', 'PACU1_1_200922_150810.csv', 'PACU1_1_200928_203944.csv', 'PACU1_1_201005_105450.csv', 'PACU1_1_201007_171720.csv', 'PACU1_1_201008_111807.csv', 'PACU1_1_201030_141354.csv', 'PACU1_2_190409_110712.csv', 'PACU1_2_190412_122750.csv', 'PACU1_2_190430_093048.csv', 'PACU1_2_190503_132609.csv', 'PACU1_2_190513_214102.csv', 'PACU1_2_190517_151347.csv', 'PACU1_2_190528_171135.csv', 'PACU1_2_190531_092313.csv', 'PACU1_2_190704_085949.csv', 'PACU1_2_190704_105657.csv', 'PACU1_2_190709_224023.csv', 'PACU1_2_190710_020706.csv', 'PACU1_2_190906_104722.csv', 'PACU1_2_190906_133817.csv', 'PACU1_2_190910_100401.csv', 'PACU1_2_191024_135037.csv', 'PACU1_2_191219_092649.csv', 'PACU1_2_200108_092327.csv', 'PACU1_2_200113_090329.csv', 'PACU1_2_200207_135024.csv', 'PACU1_2_200217_125601.csv', 'PACU1_2_200218_185629.csv', 'PACU1_2_200220_172524.csv', 'PACU1_2_200224_104638.csv', 'PACU1_2_200325_151657.csv', 'PACU1_2_200326_152654.csv', 'PACU1_2_200331_204748.csv', 'PACU1_2_200529_101615.csv', 'PACU1_2_200529_191241.csv', 'PACU1_2_200608_090708.csv', 'PACU1_2_200714_152029.csv', 'PACU1_2_200715_140603.csv', 'PACU1_2_200720_152439.csv', 'PACU1_2_200811_124816.csv', 'PACU1_2_200812_113817.csv', 'PACU1_2_200812_164026.csv', 'PACU1_2_200819_152037.csv', 'PACU1_2_200819_224203.csv', 'PACU1_2_200911_191543.csv', 'PACU1_2_200918_163529.csv', 'PACU1_2_201008_095403.csv', 'PACU1_2_201022_091414.csv', 'PACU1_2_201027_153435.csv', 'PACU1_2_201029_175450.csv', 'PACU1_3_190410_023648.csv', 'PACU1_3_190412_164430.csv', 'PACU1_3_190415_221102.csv', 'PACU1_3_190507_131442.csv', 'PACU1_3_190514_120643.csv', 'PACU1_3_190516_005453.csv', 'PACU1_3_190529_162322.csv', 'PACU1_3_190529_164508.csv', 'PACU1_3_190531_215548.csv', 'PACU1_3_190704_230042.csv', 'PACU1_3_190717_022425.csv', 'PACU1_3_190717_180456.csv', 'PACU1_3_190718_043027.csv', 'PACU1_3_190719_154655.csv', 'PACU1_3_190722_182437.csv', 'PACU1_3_190820_121227.csv', 'PACU1_3_190821_084813.csv', 'PACU1_3_190821_160843.csv', 'PACU1_3_190822_111857.csv', 'PACU1_3_190905_015352.csv', 'PACU1_3_190907_102054.csv', 'PACU1_3_190909_202932.csv', 'PACU1_3_190917_173755.csv', 'PACU1_3_191018_110127.csv', 'PACU1_3_191021_093930.csv', 'PACU1_3_191022_121704.csv', 'PACU1_3_200103_132530.csv', 'PACU1_3_200103_142835.csv', 'PACU1_3_200109_124545.csv', 'PACU1_3_200117_165846.csv', 'PACU1_3_200122_000657.csv', 'PACU1_3_200123_020700.csv', 'PACU1_3_200211_112038.csv', 'PACU1_3_200211_180328.csv', 'PACU1_3_200215_105753.csv', 'PACU1_3_200221_104707.csv', 'PACU1_3_200221_224732.csv', 'PACU1_3_200228_195646.csv', 'PACU1_3_200302_100836.csv', 'PACU1_3_200303_154819.csv', 'PACU1_3_200317_000128.csv', 'PACU1_3_200318_155533.csv', 'PACU1_3_200320_163212.csv', 'PACU1_3_200325_194331.csv', 'PACU1_3_200506_173310.csv', 'PACU1_3_200507_203115.csv', 'PACU1_3_200508_094519.csv', 'PACU1_3_200508_235124.csv', 'PACU1_3_200528_113953.csv', 'PACU1_3_200531_144135.csv', 'PACU1_3_200601_114514.csv', 'PACU1_3_200609_085639.csv', 'PACU1_3_200611_163230.csv', 'PACU1_3_200611_190608.csv', 'PACU1_3_200616_233649.csv', 'PACU1_3_200706_123533.csv', 'PACU1_3_200707_025533.csv', 'PACU1_3_200707_172721.csv', 'PACU1_3_200708_154355.csv', 'PACU1_3_200710_142046.csv', 'PACU1_3_200715_225931.csv', 'PACU1_3_200718_022020.csv', 'PACU1_3_200724_091213.csv', 'PACU1_3_200724_132406.csv', 'PACU1_3_200724_153849.csv', 'PACU1_3_200803_191512.csv', 'PACU1_3_200804_140134.csv', 'PACU1_3_200811_112456.csv', 'PACU1_3_200814_211330.csv', 'PACU1_3_200818_092917.csv', 'PACU1_3_200820_182844.csv', 'PACU1_3_200824_163114.csv', 'PACU1_3_200910_131322.csv', 'PACU1_3_200911_195111.csv', 'PACU1_3_200917_122608.csv', 'PACU1_3_200917_163255.csv', 'PACU1_3_200918_092853.csv', 'PACU1_3_201008_225810.csv', 'PACU1_3_201017_175738.csv', 'PACU1_3_201029_175055.csv', 'PACU1_4_190429_094705.csv', 'PACU1_4_190430_011154.csv', 'PACU1_4_190503_094652.csv', 'PACU1_4_190507_171358.csv', 'PACU1_4_190513_115702.csv', 'PACU1_4_190523_090239.csv', 'PACU1_4_190523_111205.csv', 'PACU1_4_190717_084020.csv', 'PACU1_4_190718_090635.csv', 'PACU1_4_190723_164623.csv', 'PACU1_4_190821_183002.csv', 'PACU1_4_190822_203857.csv', 'PACU1_4_190902_234827.csv', 'PACU1_4_190912_000138.csv', 'PACU1_4_190913_033054.csv', 'PACU1_4_191017_140350.csv', 'PACU1_4_200108_135548.csv', 'PACU1_4_200110_000846.csv', 'PACU1_4_200121_184111.csv', 'PACU1_4_200207_093624.csv', 'PACU1_4_200207_102655.csv', 'PACU1_4_200218_154434.csv', 'PACU1_4_200219_101817.csv', 'PACU1_4_200219_152531.csv', 'PACU1_4_200219_210246.csv', 'PACU1_4_200220_122740.csv', 'PACU1_4_200222_211257.csv', 'PACU1_4_200302_150423.csv', 'PACU1_4_200302_162641.csv', 'PACU1_4_200313_155044.csv', 'PACU1_4_200323_140030.csv', 'PACU1_4_200325_115122.csv', 'PACU1_4_200508_160724.csv', 'PACU1_4_200527_135854.csv', 'PACU1_4_200604_110216.csv', 'PACU1_4_200611_095129.csv', 'PACU1_4_200617_163518.csv', 'PACU1_4_200623_113620.csv', 'PACU1_4_200623_151318.csv', 'PACU1_4_200707_195732.csv', 'PACU1_4_200724_102945.csv', 'PACU1_4_200729_141941.csv', 'PACU1_4_200812_090717.csv', 'PACU1_4_200916_085117.csv', 'PACU1_4_200917_083845.csv', 'PACU1_4_201006_184916.csv', 'PACU1_4_201007_121925.csv', 'PACU1_4_201016_121452.csv', 'PACU1_4_201019_163758.csv', 'PACU1_5_190507_170516.csv', 'PACU1_5_190509_180418.csv', 'PACU1_5_190509_223112.csv', 'PACU1_5_190513_084542.csv', 'PACU1_5_190513_153956.csv', 'PACU1_5_190523_115631.csv', 'PACU1_5_190529_101102.csv', 'PACU1_5_190607_122953.csv', 'PACU1_5_190617_175954.csv', 'PACU1_5_190704_190828.csv', 'PACU1_5_190704_215924.csv', 'PACU1_5_190709_162403.csv', 'PACU1_5_190716_105345.csv', 'PACU1_5_190717_082658.csv', 'PACU1_5_190718_090028.csv', 'PACU1_5_190718_182050.csv', 'PACU1_5_190719_091106.csv', 'PACU1_5_190719_151049.csv', 'PACU1_5_190723_165846.csv', 'PACU1_5_190816_083839.csv', 'PACU1_5_190816_135540.csv', 'PACU1_5_190821_101316.csv', 'PACU1_5_190821_201717.csv', 'PACU1_5_190830_101948.csv', 'PACU1_5_190830_111107.csv', 'PACU1_5_190903_124645.csv', 'PACU1_5_190904_154406.csv', 'PACU1_5_190906_164701.csv', 'PACU1_5_190910_143402.csv', 'PACU1_5_200115_131826.csv', 'PACU1_5_200120_210648.csv', 'PACU1_5_200121_181944.csv', 'PACU1_5_200206_105613.csv', 'PACU1_5_200207_194913.csv', 'PACU1_5_200218_110158.csv', 'PACU1_5_200303_124705.csv', 'PACU1_5_200303_132745.csv', 'PACU1_5_200304_111848.csv', 'PACU1_5_200304_124721.csv', 'PACU1_5_200310_123621.csv', 'PACU1_5_200318_124834.csv', 'PACU1_5_200331_102415.csv', 'PACU1_5_200507_120955.csv', 'PACU1_5_200519_123807.csv', 'PACU1_5_200602_180159.csv', 'PACU1_5_200618_121829.csv', 'PACU1_5_200619_153003.csv', 'PACU1_5_200623_093143.csv', 'PACU1_5_200623_164454.csv', 'PACU1_5_200629_095349.csv', 'PACU1_5_200702_181420.csv', 'PACU1_5_200706_103944.csv', 'PACU1_5_200707_184709.csv', 'PACU1_5_200715_163313.csv', 'PACU1_5_200826_164402.csv', 'PACU1_5_200925_152353.csv', 'PACU1_5_201008_181951.csv', 'PACU1_5_201021_193843.csv', 'PACU1_5_201022_140109.csv', 'PACU1_5_201028_195109.csv', 'PACU1_5_201030_164442.csv', 'PACU1_6_190430_123508.csv', 'PACU1_6_190515_135321.csv', 'PACU1_6_190516_170312.csv', 'PACU1_6_190612_092442.csv', 'PACU1_6_190709_121303.csv', 'PACU1_6_190712_155258.csv', 'PACU1_6_190715_094923.csv', 'PACU1_6_190726_190319.csv', 'PACU1_6_190816_170443.csv', 'PACU1_6_190830_155845.csv', 'PACU1_6_191219_190827.csv', 'PACU1_6_200117_124202.csv', 'PACU1_6_200121_115121.csv', 'PACU1_6_200129_181351.csv', 'PACU1_6_200218_210433.csv', 'PACU1_6_200306_144138.csv', 'PACU1_6_200313_115216.csv', 'PACU1_6_200508_154519.csv', 'PACU1_6_200514_123829.csv', 'PACU1_6_200515_181108.csv', 'PACU1_6_200529_121341.csv', 'PACU1_6_200608_185951.csv', 'PACU1_6_200616_122910.csv', 'PACU1_6_200618_083629.csv', 'PACU1_6_200706_090609.csv', 'PACU1_6_200715_114620.csv', 'PACU1_6_200731_112056.csv', 'PACU1_6_200915_112132.csv', 'PACU1_6_200923_093534.csv', 'PACU1_6_200923_160908.csv', 'PACU1_6_200928_160609.csv', 'PACU1_6_201014_103929.csv', 'PACU1_6_201014_135931.csv', 'PACU1_7_190502_141009.csv', 'PACU1_7_190515_093454.csv', 'PACU1_7_190515_162217.csv', 'PACU1_7_190524_131003.csv', 'PACU1_7_190705_121048.csv', 'PACU1_7_190708_094819.csv', 'PACU1_7_190709_164712.csv', 'PACU1_7_190905_182232.csv', 'PACU1_7_190909_150630.csv', 'PACU1_7_191022_093516.csv', 'PACU1_7_191219_083644.csv', 'PACU1_7_200210_133551.csv', 'PACU1_7_200217_103355.csv', 'PACU1_7_200219_113123.csv', 'PACU1_7_200228_161438.csv', 'PACU1_7_200304_171221.csv', 'PACU1_7_200309_165443.csv', 'PACU1_7_200313_120535.csv', 'PACU1_7_200318_150240.csv', 'PACU1_7_200318_173159.csv', 'PACU1_7_200506_174637.csv', 'PACU1_7_200507_124641.csv', 'PACU1_7_200511_182051.csv', 'PACU1_7_200513_172534.csv', 'PACU1_7_200514_121133.csv', 'PACU1_7_200521_160955.csv', 'PACU1_7_200527_092619.csv', 'PACU1_7_200609_093434.csv', 'PACU1_7_200611_105257.csv', 'PACU1_7_200624_093158.csv', 'PACU1_7_200701_102147.csv', 'PACU1_7_200701_152031.csv', 'PACU1_7_200703_140756.csv', 'PACU1_7_200721_162603.csv', 'PACU1_7_200818_145515.csv', 'PACU1_7_200821_115832.csv', 'PACU1_7_200825_104427.csv', 'PACU1_7_200904_133043.csv', 'PACU1_7_201007_111324.csv', 'PACU1_7_201008_110107.csv', 'PACU1_7_201019_162425.csv', 'PACU1_7_201022_102105.csv', 'PACU1_7_201022_131513.csv', 'PACU1_8_190503_105617.csv', 'PACU1_8_190514_100124.csv', 'PACU1_8_190515_103501.csv', 'PACU1_8_190709_132151.csv', 'PACU1_8_190816_132740.csv', 'PACU1_8_190910_165227.csv', 'PACU1_8_190911_135025.csv', 'PACU1_8_200106_163626.csv', 'PACU1_8_200107_171716.csv', 'PACU1_8_200110_090837.csv', 'PACU1_8_200211_095856.csv', 'PACU1_8_200219_150439.csv', 'PACU1_8_200318_101415.csv', 'PACU1_8_200508_105237.csv', 'PACU1_8_200522_110921.csv', 'PACU1_8_200526_101944.csv', 'PACU1_8_200805_094246.csv', 'PACU1_8_200811_162825.csv', 'PACU1_8_200818_105044.csv', 'PACU1_8_200918_163328.csv', 'PACU1_8_200924_091734.csv', 'PACU1_8_201008_164816.csv', 'PACU1_9_190430_100913.csv', 'PACU1_9_190705_122129.csv', 'PACU1_9_190710_155430.csv', 'PACU1_9_191127_102057.csv', 'PACU1_9_191128_131353.csv', 'PACU1_9_200103_140901.csv', 'PACU1_9_200116_153514.csv', 'PACU1_9_200120_094732.csv', 'PACU1_9_200123_093644.csv', 'PACU1_9_200129_100629.csv', 'PACU1_9_200130_124336.csv', 'PACU1_9_200225_172708.csv', 'PACU1_9_200310_165006.csv', 'PACU1_9_200319_150036.csv', 'PACU1_9_200507_091727.csv', 'PACU1_9_200522_174109.csv', 'PACU1_9_200528_171014.csv', 'PACU1_9_200529_113115.csv', 'PACU1_9_200609_132333.csv', 'PACU1_9_200612_094447.csv', 'PACU1_9_200616_092750.csv', 'PACU1_9_200630_112105.csv', 'PACU1_9_200702_140935.csv', 'PACU1_9_200821_103747.csv', 'PACU1_9_200918_135458.csv', 'PACU1_9_200924_115216.csv', 'PACU1_9_201008_153304.csv']\n"
     ]
    }
   ],
   "source": [
    "import pandas as pd\n",
    "import pickle\n",
    "import datetime\n",
    "import time\n",
    "import vitaldb\n",
    "import numpy as np\n",
    "import os\n",
    "\n",
    "df_match = pd.read_csv('match_drug_arr_exclusion_20201110.csv',sep=',')\n",
    "df_IDpath = pd.read_csv('opid_fileid.csv')\n",
    "df_match['path']=[f_name.split('.')[0]+\".csv\" for f_name in df_match['path'].values.flatten()]\n",
    "\n",
    "for j in range(len(df_IDpath)):\n",
    "    #try: \n",
    "    #opid match\n",
    "    idx_list = df_match[df_match['opid']==df_IDpath.loc[j,'opid']].index.tolist()\n",
    "    i = min(idx_list)\n",
    "\n",
    "    rec_path = 'preop_vital/preop_vital/' + df_IDpath.loc[j,'fileid']\n",
    "    df_IDpath.loc[j, 'file_path'] = df_match.loc[i, 'path']\n",
    "    df_IDpath.loc[j, 'NRS'] = df_match.loc[i, 'Value']\n",
    "    df_IDpath.loc[j, 'NRS_time'] = df_match.loc[i, 'NRS_time']\n",
    "#print(df_IDpath)\n",
    "\n",
    "with open('../DL_model/caseid_test','rb') as f:\n",
    "    test_list = pickle.load(f)\n",
    "\n",
    "'''\n",
    "caseid=[]\n",
    "for fp in test_list:\n",
    "    splits = fp.split(',')[2]\n",
    "    caseid.append(splits)\n",
    "'''\n",
    "caseid = test_list.tolist()\n",
    "print(caseid)\n",
    "#print(len(caseid)) #787"
   ]
  },
  {
   "cell_type": "markdown",
   "metadata": {},
   "source": [
    "# PreOp HR/MBP data"
   ]
  },
  {
   "cell_type": "code",
   "execution_count": 5,
   "metadata": {
    "ExecuteTime": {
     "end_time": "2020-12-07T07:15:05.858858Z",
     "start_time": "2020-12-07T07:13:42.715979Z"
    }
   },
   "outputs": [
    {
     "name": "stdout",
     "output_type": "stream",
     "text": [
      "           opid                  fileid                   file_path  NRS  \\\n",
      "2     190409012  A2_190409_073654.vital   PACU1_2_190409_110712.csv  4.0   \n",
      "13    190409134  C5_190409_213724.vital   PACU1_3_190410_023648.csv  7.0   \n",
      "33    190415107  E1_190415_193833.vital   PACU1_3_190415_221102.csv  7.0   \n",
      "48    190419059  A1_190419_110023.vital   PACU1_1_190419_144203.csv  7.0   \n",
      "49    190419103  F1_190419_150058.vital   PACU1_1_190419_195900.csv  8.0   \n",
      "...         ...                     ...                         ...  ...   \n",
      "4076  201028081  E4_201028_161038.vital   PACU1_5_201028_195109.csv  6.0   \n",
      "4091  201029125  R9_201029_150341.vital   PACU1_3_201029_175055.csv  6.0   \n",
      "4092  201029063  E3_201029_134138.vital   PACU1_2_201029_175450.csv  6.0   \n",
      "4101  201030098  R7_201030_132821.vital   PACU1_1_201030_141354.csv  2.0   \n",
      "4107  201030007  B2_201030_134718.vital  PACU1_12_201030_152744.csv  7.0   \n",
      "\n",
      "              NRS_time      preHR  preMBP  \n",
      "2     2019-04-09 11:30  78.566666    98.0  \n",
      "13     2019-04-10 3:00  70.533333    88.0  \n",
      "33    2019-04-15 22:20  95.233330   122.0  \n",
      "48    2019-04-19 14:45  74.555557   122.0  \n",
      "49    2019-04-19 20:01  71.099998   103.0  \n",
      "...                ...        ...     ...  \n",
      "4076  2020-10-28 20:00  97.333336   124.0  \n",
      "4091  2020-10-29 17:55  61.500000   124.0  \n",
      "4092  2020-10-29 18:10  75.533333    79.0  \n",
      "4101  2020-10-30 14:26  90.409088    85.0  \n",
      "4107  2020-10-30 15:35  69.866669    94.0  \n",
      "\n",
      "[390 rows x 7 columns]\n"
     ]
    }
   ],
   "source": [
    "for i in range(len(df_IDpath)):\n",
    "    if df_IDpath.loc[i,'file_path'] in caseid:\n",
    "        rec_path = '../../cranberry2/Preprocessing/preop_vital/preop_vital/' + df_IDpath.loc[i,'fileid']\n",
    "        HR = vitaldb.vital_recs(rec_path, ['Solar8000/HR'], interval = 0.01).flatten()[0:6000]\n",
    "        MBP= vitaldb.vital_recs(rec_path, ['Solar8000/NIBP_MBP'], interval = 0.01).flatten()[0:6000]\n",
    "\n",
    "        diff = HR.size - MBP.size\n",
    "        nan_list = [np.nan] * abs(diff)\n",
    "        if diff > 0:\n",
    "            MBP = np.concatenate((MBP,np.array(nan_list)),axis=0)\n",
    "        if diff < 0:\n",
    "            HR = np.concatenate((HR,np.array(nan_list)),axis=0)\n",
    "        dicts = {'HR':HR,'MBP':MBP}\n",
    "        df_rec = pd.DataFrame(data=dicts,dtype='float32')\n",
    "        df_nHR=df_rec[df_rec['HR']>0]\n",
    "        HR_mean = df_nHR['HR'].mean()\n",
    "        for v in range(len(df_rec)):\n",
    "            if df_rec.loc[v,'MBP']>0:\n",
    "                MBP_value = df_rec.loc[v,'MBP']\n",
    "                break\n",
    "        \n",
    "        df_IDpath.loc[i, 'preHR'] = HR_mean\n",
    "        df_IDpath.loc[i,'preMBP'] = MBP_value\n",
    "    else:\n",
    "        df_IDpath.loc[i, 'preHR'] = np.nan\n",
    "        df_IDpath.loc[i,'preMBP'] = np.nan\n",
    "    \n",
    "#print(df_IDpath)\n",
    "df_HR = df_IDpath.dropna(thresh=6)\n",
    "print(df_HR)"
   ]
  },
  {
   "cell_type": "markdown",
   "metadata": {},
   "source": [
    "# PACU HR/MBP data"
   ]
  },
  {
   "cell_type": "code",
   "execution_count": 6,
   "metadata": {
    "ExecuteTime": {
     "end_time": "2020-12-07T07:21:22.068876Z",
     "start_time": "2020-12-07T07:15:13.808850Z"
    }
   },
   "outputs": [
    {
     "name": "stderr",
     "output_type": "stream",
     "text": [
      "/usr/local/lib/python3.6/dist-packages/ipykernel_launcher.py:3: SettingWithCopyWarning: \n",
      "A value is trying to be set on a copy of a slice from a DataFrame.\n",
      "Try using .loc[row_indexer,col_indexer] = value instead\n",
      "\n",
      "See the caveats in the documentation: https://pandas.pydata.org/pandas-docs/stable/user_guide/indexing.html#returning-a-view-versus-a-copy\n",
      "  This is separate from the ipykernel package so we can avoid doing imports until\n"
     ]
    },
    {
     "name": "stdout",
     "output_type": "stream",
     "text": [
      "     index       opid                  fileid                     file_path  \\\n",
      "0        2  190409012  A2_190409_073654.vital   PACU1_2_190409_110712.vital   \n",
      "1       13  190409134  C5_190409_213724.vital   PACU1_3_190410_023648.vital   \n",
      "2       33  190415107  E1_190415_193833.vital   PACU1_3_190415_221102.vital   \n",
      "3       48  190419059  A1_190419_110023.vital   PACU1_1_190419_144203.vital   \n",
      "4       49  190419103  F1_190419_150058.vital   PACU1_1_190419_195900.vital   \n",
      "..     ...        ...                     ...                           ...   \n",
      "385   4076  201028081  E4_201028_161038.vital   PACU1_5_201028_195109.vital   \n",
      "386   4091  201029125  R9_201029_150341.vital   PACU1_3_201029_175055.vital   \n",
      "387   4092  201029063  E3_201029_134138.vital   PACU1_2_201029_175450.vital   \n",
      "388   4101  201030098  R7_201030_132821.vital   PACU1_1_201030_141354.vital   \n",
      "389   4107  201030007  B2_201030_134718.vital  PACU1_12_201030_152744.vital   \n",
      "\n",
      "     NRS            NRS_time      preHR  preMBP      postHR  postMBP  \n",
      "0    4.0 2019-04-09 11:30:00  78.566666    98.0   71.413795     67.0  \n",
      "1    7.0 2019-04-10 03:00:00  70.533333    88.0   84.233330     96.0  \n",
      "2    7.0 2019-04-15 22:20:00  95.233330   122.0   96.933334    121.0  \n",
      "3    7.0 2019-04-19 14:45:00  74.555557   122.0   52.266666     78.0  \n",
      "4    8.0 2019-04-19 20:01:00  71.099998   103.0   84.666664    136.0  \n",
      "..   ...                 ...        ...     ...         ...      ...  \n",
      "385  6.0 2020-10-28 20:00:00  97.333336   124.0   77.266670    101.0  \n",
      "386  6.0 2020-10-29 17:55:00  61.500000   124.0   73.199997    159.0  \n",
      "387  6.0 2020-10-29 18:10:00  75.533333    79.0  102.266670     81.0  \n",
      "388  2.0 2020-10-30 14:26:00  90.409088    85.0   76.233330     74.0  \n",
      "389  7.0 2020-10-30 15:35:00  69.866669    94.0   92.199997    104.0  \n",
      "\n",
      "[390 rows x 10 columns]\n"
     ]
    }
   ],
   "source": [
    "rect= 6000\n",
    "\n",
    "df_HR['file_path']=[f_name.split('.')[0]+\".vital\" for f_name in df_HR['file_path'].values.flatten()]\n",
    "df_HR=df_HR.reset_index()\n",
    "\n",
    "for k in range(len(df_HR)):\n",
    "    file_path = df_HR.loc[k,'file_path']\n",
    "    dir_PACU = '../../cranberry2/Preprocessing/PACU_vital/PACU1_'\n",
    "    folders = ['1-3/','4-6/','7-9/','10-12/']\n",
    "\n",
    "    for fd in folders:\n",
    "        if os.path.isfile(dir_PACU + fd + file_path):\n",
    "            #print(dir_PACU + fd + file_path)\n",
    "            rec_path = dir_PACU+fd+file_path\n",
    "\n",
    "    both = vitaldb.vital_recs_time(rec_path, ['Solar8000/HR','Solar8000/NIBP_MBP'], interval = 0.01).flatten()\n",
    "    srate = 100\n",
    "    maxlen = max(len(both[0]),len(both[1]))\n",
    "    Abs_time = [both[2]+datetime.timedelta(hours=9)+datetime.timedelta(seconds=i/srate) for i in range(maxlen)]\n",
    "    both_dic = {'Abs_time':Abs_time,'HR':both[0],'MBP':both[1]}\n",
    "    df_both = pd.DataFrame(both_dic)\n",
    "\n",
    "    #df_both['Abs_time']=pd.to_datetime(df_both['Abs_time'])\n",
    "    df_HR['NRS_time']=pd.to_datetime(df_HR['NRS_time'])\n",
    "    end_idx_list = df_both[(df_both['Abs_time'] > df_HR.loc[k,'NRS_time'] - datetime.timedelta(seconds=1)) & (df_both['Abs_time'] < df_HR.loc[k,'NRS_time'] + datetime.timedelta(seconds=1))].index.tolist()\n",
    "\n",
    "    if len(end_idx_list)==0:\n",
    "        print(str(k)+\"no end idx\")                  \n",
    "        df_HR.loc[k, 'postHR'] = np.nan\n",
    "        df_HR.loc[k,'postMBP'] = np.nan\n",
    "    else:\n",
    "        end_idx=end_idx_list[0]\n",
    "        start_idx= max(0,end_idx-rect)\n",
    "        df_both_60 = df_both.loc[start_idx:end_idx]\n",
    "\n",
    "        HR=np.array(df_both_60['HR'])\n",
    "        MBP=np.array(df_both_60['MBP'])\n",
    "\n",
    "        diff = HR.size - MBP.size\n",
    "        nan_list = [np.nan] * abs(diff)\n",
    "        if diff > 0:\n",
    "            MBP = np.concatenate((MBP,np.array(nan_list)),axis=0)\n",
    "        if diff < 0:\n",
    "            HR = np.concatenate((HR,np.array(nan_list)),axis=0)\n",
    "        dicts = {'HR':HR,'MBP':MBP}\n",
    "        df_rec = pd.DataFrame(data=dicts,dtype='float32')\n",
    "        #df_rec['MBP']=MBP\n",
    "\n",
    "        df_nHR=df_rec[df_rec['HR']>0]\n",
    "        HR_mean = df_nHR['HR'].mean()\n",
    "        for w in range(len(df_rec)-1,-1,-1):\n",
    "            if df_rec.loc[w,'MBP']>0:\n",
    "                MBP_value = df_rec.loc[w,'MBP']\n",
    "                break\n",
    "\n",
    "        df_HR.loc[k, 'postHR'] = HR_mean\n",
    "        df_HR.loc[k,'postMBP'] = MBP_value\n",
    "    #print('1')\n",
    "\n",
    "\n",
    "#print(df_IDpath)\n",
    "#df_HR = df_IDpath.dropna(thresh=4)\n",
    "print(df_HR)"
   ]
  },
  {
   "cell_type": "code",
   "execution_count": 6,
   "metadata": {
    "ExecuteTime": {
     "end_time": "2020-11-27T13:02:26.829380Z",
     "start_time": "2020-11-27T13:02:26.798926Z"
    }
   },
   "outputs": [
    {
     "name": "stdout",
     "output_type": "stream",
     "text": [
      "372\n"
     ]
    }
   ],
   "source": [
    "#그냥 확인용\n",
    "for k in range(len(df_HR)):\n",
    "    if df_HR.loc[k,'postHR']==0:\n",
    "        print(k,'HR')\n",
    "    if df_HR.loc[k,'postMBP'] == 0:\n",
    "        print(k,'MBP')\n",
    "df_drop = df_HR.dropna(subset=['postMBP'])\n",
    "print(len(df_drop))"
   ]
  },
  {
   "cell_type": "markdown",
   "metadata": {},
   "source": [
    "# 변화율 계산"
   ]
  },
  {
   "cell_type": "code",
   "execution_count": 7,
   "metadata": {
    "ExecuteTime": {
     "end_time": "2020-12-07T07:21:38.925593Z",
     "start_time": "2020-12-07T07:21:38.890108Z"
    }
   },
   "outputs": [],
   "source": [
    "df_HR['dHR'] = (df_HR['postHR']- df_HR['preHR']) / df_HR['preHR']\n",
    "df_HR['dMBP'] = (df_HR['postMBP']- df_HR['preMBP']) / df_HR['preMBP']\n",
    "df_HR.replace([np.inf, -np.inf,-1], np.nan,inplace=True)\n",
    "\n",
    "df_HR['NRS_bin'] = df_HR['NRS']>=4\n",
    "df_HR['NRS_bin']=df_HR['NRS_bin'].astype(int)\n",
    "\n",
    "#print(df_HR)\n",
    "df_HR.to_csv('HR_60s_MBP_firstvalue_nHR.csv',sep=',')"
   ]
  },
  {
   "cell_type": "markdown",
   "metadata": {},
   "source": [
    "# AUROC 계산"
   ]
  },
  {
   "cell_type": "code",
   "execution_count": null,
   "metadata": {},
   "outputs": [],
   "source": [
    "import pandas as pd\n",
    "import pickle\n",
    "import datetime\n",
    "import time\n",
    "import vitaldb\n",
    "import numpy as np\n",
    "import os"
   ]
  },
  {
   "cell_type": "code",
   "execution_count": 8,
   "metadata": {
    "ExecuteTime": {
     "end_time": "2020-12-07T07:21:43.365209Z",
     "start_time": "2020-12-07T07:21:42.838906Z"
    }
   },
   "outputs": [
    {
     "name": "stdout",
     "output_type": "stream",
     "text": [
      "HR test set auroc: 0.4598466825270949\n",
      "MBP test set auroc: 0.5824495381457407\n"
     ]
    }
   ],
   "source": [
    "import numpy as np\n",
    "from sklearn.metrics import roc_curve, auc, r2_score\n",
    "import matplotlib.pyplot as plt\n",
    "\n",
    "df_HR_ = pd.DataFrame({'dHR':df_HR['dHR'],'NRS_bin':df_HR['NRS_bin']})\n",
    "df_MBP = pd.DataFrame({'dMBP':df_HR['dMBP'],'NRS_bin':df_HR['NRS_bin']})\n",
    "\n",
    "df_HR_ = df_HR_.dropna(subset=['dHR'])\n",
    "#print(df_HR_.loc[341,'dHR'] == np.inf)\n",
    "#df_HR_.drop([341],inplace=True)\n",
    "\n",
    "df_MBP = df_MBP.dropna(subset=['dMBP'])\n",
    "\n",
    "x_HR = np.array(df_HR_['dHR'])\n",
    "y1 = np.array(df_HR_['NRS_bin'])\n",
    "\n",
    "x_MBP = np.array(df_MBP['dMBP'])\n",
    "y2 = np.array(df_MBP['NRS_bin'])\n",
    "\n",
    "false_positive_rate, true_positive_rate, threshold = roc_curve(y1, x_HR)\n",
    "roc_auc_HR = auc(false_positive_rate, true_positive_rate)\n",
    "print('HR test set auroc:', roc_auc_HR)\n",
    "\n",
    "false_positive_rate, true_positive_rate, threshold = roc_curve(y2, x_MBP)\n",
    "roc_auc_MBP = auc(false_positive_rate, true_positive_rate)\n",
    "print('MBP test set auroc:', roc_auc_MBP)"
   ]
  },
  {
   "cell_type": "markdown",
   "metadata": {},
   "source": [
    "## AUROC 한번에 출력"
   ]
  },
  {
   "cell_type": "markdown",
   "metadata": {},
   "source": [
    "# Plotting"
   ]
  },
  {
   "cell_type": "code",
   "execution_count": 32,
   "metadata": {
    "ExecuteTime": {
     "end_time": "2020-11-27T09:58:29.126619Z",
     "start_time": "2020-11-27T09:58:28.905051Z"
    },
    "scrolled": true
   },
   "outputs": [
    {
     "name": "stdout",
     "output_type": "stream",
     "text": [
      "test set auroc: 0.6767094017094017\n"
     ]
    },
    {
     "data": {
      "image/png": "[encoded data removed]",
      "text/plain": [
       "<Figure size 432x288 with 1 Axes>"
      ]
     },
     "metadata": {
      "needs_background": "light"
     },
     "output_type": "display_data"
    }
   ],
   "source": [
    "plt.figure()\n",
    "plt.plot(false_positive_rate, true_positive_rate, label='ROC curve (area = %0.2f)' % roc_auc)\n",
    "plt.plot([0, 1], [0, 1], 'k--')\n",
    "plt.xlim([0.0, 1.0])\n",
    "plt.ylim([0.0, 1.05])\n",
    "plt.xlabel('False Positive Rate')\n",
    "plt.ylabel('True Positive Rate')\n",
    "plt.title('Receiver operating characteristic example')\n",
    "plt.legend(loc=\"lower right\")\n",
    "plt.show()"
   ]
  }
 ],
 "metadata": {
  "kernelspec": {
   "display_name": "Python 3",
   "language": "python",
   "name": "python3"
  },
  "language_info": {
   "codemirror_mode": {
    "name": "ipython",
    "version": 3
   },
   "file_extension": ".py",
   "mimetype": "text/x-python",
   "name": "python",
   "nbconvert_exporter": "python",
   "pygments_lexer": "ipython3",
   "version": "3.6.9"
  },
  "toc": {
   "base_numbering": 1,
   "nav_menu": {},
   "number_sections": true,
   "sideBar": true,
   "skip_h1_title": false,
   "title_cell": "Table of Contents",
   "title_sidebar": "Contents",
   "toc_cell": false,
   "toc_position": {},
   "toc_section_display": true,
   "toc_window_display": false
  },
  "varInspector": {
   "cols": {
    "lenName": 16,
    "lenType": 16,
    "lenVar": 40
   },
   "kernels_config": {
    "python": {
     "delete_cmd_postfix": "",
     "delete_cmd_prefix": "del ",
     "library": "var_list.py",
     "varRefreshCmd": "print(var_dic_list())"
    },
    "r": {
     "delete_cmd_postfix": ") ",
     "delete_cmd_prefix": "rm(",
     "library": "var_list.r",
     "varRefreshCmd": "cat(var_dic_list()) "
    }
   },
   "types_to_exclude": [
    "module",
    "function",
    "builtin_function_or_method",
    "instance",
    "_Feature"
   ],
   "window_display": false
  }
 },
 "nbformat": 4,
 "nbformat_minor": 4
}
