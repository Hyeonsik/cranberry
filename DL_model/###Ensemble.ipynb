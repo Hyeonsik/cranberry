{
 "cells": [
  {
   "cell_type": "markdown",
   "metadata": {},
   "source": [
    "# Input"
   ]
  },
  {
   "cell_type": "code",
   "execution_count": 3,
   "metadata": {
    "ExecuteTime": {
     "end_time": "2020-12-15T11:01:28.225764Z",
     "start_time": "2020-12-15T11:01:25.151612Z"
    }
   },
   "outputs": [
    {
     "name": "stdout",
     "output_type": "stream",
     "text": [
      "loading train...done\n",
      "x_test.shape: (8795, 5000, 2)\n",
      "x_test welch.shape: (8792, 16, 128, 2)\n"
     ]
    }
   ],
   "source": [
    "print('loading train...', flush=True, end='')\n",
    "\n",
    "input_path = '../DL_model/dataset/preprocess4/input2/'\n",
    "x_test = np.load(input_path+'x_test.npz', allow_pickle=True)['arr_0']\n",
    "y_test = np.load(input_path+'y_test.npz')['arr_0']\n",
    "\n",
    "\n",
    "welch_path = '../DL_model/dataset/preprocess4/welch/' \n",
    "x_test_welch = np.load(welch_path+'x_test.npz', allow_pickle=True)['arr_0']\n",
    "y_test_welch = np.load(welch_path+'y_test.npz')['arr_0']\n",
    "print('done', flush=True)\n",
    "\n",
    "\n",
    "print('x_test.shape:', x_test.shape)\n",
    "print('x_test welch.shape:', x_test_welch.shape)"
   ]
  },
  {
   "cell_type": "markdown",
   "metadata": {},
   "source": [
    "## Welch test mask"
   ]
  },
  {
   "cell_type": "code",
   "execution_count": 4,
   "metadata": {
    "ExecuteTime": {
     "end_time": "2020-12-15T11:01:30.129317Z",
     "start_time": "2020-12-15T11:01:30.011825Z"
    }
   },
   "outputs": [
    {
     "name": "stdout",
     "output_type": "stream",
     "text": [
      "x_test cnn shape: (8792, 5000, 2)\n",
      "x_test welch shape: (8792, 16, 128, 2)\n"
     ]
    }
   ],
   "source": [
    "import pickle\n",
    "\n",
    "test_mask = pickle.load(open(welch_path+'test_mask_pacu','rb'))+pickle.load(open(welch_path+'test_mask_preop','rb'))\n",
    "\n",
    "x_test_cnn = x_test[test_mask]\n",
    "y_test_cnn = y_test[test_mask]\n",
    "\n",
    "y_test_cnn_bin = y_test_cnn >= 4\n",
    "y_test_welch_bin = y_test_welch >= 4\n",
    "\n",
    "\n",
    "print('x_test cnn shape:', x_test_cnn.shape)\n",
    "print('x_test welch shape:', x_test_welch.shape)"
   ]
  },
  {
   "cell_type": "markdown",
   "metadata": {},
   "source": [
    "## Class weight"
   ]
  },
  {
   "cell_type": "markdown",
   "metadata": {},
   "source": [
    "### 2 class"
   ]
  },
  {
   "cell_type": "code",
   "execution_count": null,
   "metadata": {},
   "outputs": [],
   "source": [
    "# binary classification\n",
    "y_train_bin = y_train>=4\n",
    "y_test_bin = y_test>=4\n",
    "y_val_bin = y_val>=4\n",
    "\n",
    "\n",
    "# 2 class에 대한 sample weight\n",
    "train_w_samp2 = np.ones(shape=(len(y_train),))\n",
    "train_w_samp2[y_train_bin==0]= len(y_train) / np.sum(y_train_bin)\n",
    "train_w_samp2[y_train_bin!=0]= len(y_train) / np.sum(~y_train_bin)\n",
    "\n",
    "\n",
    "print('train set')\n",
    "print('sample weight for no pain: {:.2f}, moderate pain: {:.2f}'\n",
    "      .format(len(y_train) / np.sum(y_train_bin), len(y_train) / np.sum(~y_train_bin)))\n",
    "\n",
    "\n",
    "# 2 class에 대한 sample weight\n",
    "val_w_samp2 = np.ones(shape=(len(y_val),))\n",
    "val_w_samp2[y_val_bin==0]= len(y_val) / np.sum(y_val_bin)\n",
    "val_w_samp2[y_val_bin!=0]= len(y_val) / np.sum(~y_val_bin)\n",
    "\n",
    "print('val set')\n",
    "print('sample weight for no pain: {:.2f}, moderate pain: {:.2f}'\n",
    "      .format(len(y_val) / np.sum(y_val_bin), len(y_val) / np.sum(~y_val_bin)))\n",
    "\n",
    "# 2 class에 대한 sample weight\n",
    "test_w_samp2 = np.ones(shape=(len(y_test),))\n",
    "test_w_samp2[y_test_bin==0]= len(y_test) / np.sum(y_test_bin)\n",
    "test_w_samp2[y_test_bin!=0]= len(y_test) / np.sum(~y_test_bin)\n",
    "\n",
    "\n",
    "print('test set')\n",
    "print('sample weight for no pain: {:.2f}, moderate pain: {:.2f}'\n",
    "      .format(len(y_test) / np.sum(y_test_bin), len(y_test) / np.sum(~y_test_bin)))"
   ]
  },
  {
   "cell_type": "markdown",
   "metadata": {},
   "source": [
    "### 3 class"
   ]
  },
  {
   "cell_type": "code",
   "execution_count": 6,
   "metadata": {
    "ExecuteTime": {
     "end_time": "2020-12-15T11:01:56.855434Z",
     "start_time": "2020-12-15T11:01:56.838876Z"
    }
   },
   "outputs": [
    {
     "name": "stdout",
     "output_type": "stream",
     "text": [
      "test set\n",
      "sample weight for class 1: 2.62, class 2: 2.17, class 3: 6.36\n"
     ]
    }
   ],
   "source": [
    "# 3 class에 대한 sample weight\n",
    "test_w_samp3 = np.ones(shape=(len(y_test),))\n",
    "\n",
    "test_w_samp3[y_test<4]= len(y_test)/np.sum(y_test<4)\n",
    "test_w_samp3[(y_test>=4)&(y_test<7)]= len(y_test)/np.sum((4<=y_test)&(y_test<7))\n",
    "test_w_samp3[y_test>=7]= len(y_test)/np.sum(y_test>=7)\n",
    "\n",
    "print('test set')\n",
    "print('sample weight for class 1: {:.2f}, class 2: {:.2f}, class 3: {:.2f}'\n",
    "      .format(len(y_test)/np.sum(y_test<4),len(y_test)/np.sum((y_test>=4)&(y_test<7)),len(y_test)/np.sum(y_test>=7)))"
   ]
  },
  {
   "cell_type": "markdown",
   "metadata": {},
   "source": [
    "## GPU Setting"
   ]
  },
  {
   "cell_type": "code",
   "execution_count": 5,
   "metadata": {
    "ExecuteTime": {
     "end_time": "2020-12-16T05:46:06.501839Z",
     "start_time": "2020-12-16T05:46:00.952508Z"
    }
   },
   "outputs": [
    {
     "name": "stdout",
     "output_type": "stream",
     "text": [
      "4 Physical GPUs, 4 Logical GPUs\n"
     ]
    }
   ],
   "source": [
    "import tensorflow as tf\n",
    "\n",
    "gpus = tf.config.experimental.list_physical_devices('GPU')\n",
    "if gpus:\n",
    "    try:\n",
    "        # Currently, memory growth needs to be the same across GPUs\n",
    "        for gpu in gpus:\n",
    "            tf.config.experimental.set_memory_growth(gpu, True)\n",
    "        logical_gpus = tf.config.experimental.list_logical_devices('GPU')\n",
    "        print(len(gpus), \"Physical GPUs,\", len(logical_gpus), \"Logical GPUs\")\n",
    "    except RuntimeError as e:\n",
    "        # Memory growth must be set before GPUs have been initialized\n",
    "        print(e)"
   ]
  },
  {
   "cell_type": "markdown",
   "metadata": {},
   "source": [
    "## Best model"
   ]
  },
  {
   "cell_type": "code",
   "execution_count": 7,
   "metadata": {
    "ExecuteTime": {
     "end_time": "2020-12-16T05:46:24.349161Z",
     "start_time": "2020-12-16T05:46:24.337971Z"
    }
   },
   "outputs": [],
   "source": [
    "import os\n",
    "\n",
    "def best_model_path(models_dir):\n",
    "    roc_list = []\n",
    "    model_list = os.listdir(models_dir)\n",
    "    for f_model in model_list:\n",
    "        if f_model[0:3]=='roc':\n",
    "            roc_list.append(f_model[3:9])\n",
    "        else:\n",
    "            roc_list.append(0)\n",
    "\n",
    "\n",
    "    roc_list = np.array(roc_list)\n",
    "    return os.path.join(models_dir,model_list[np.argmax(roc_list)])"
   ]
  },
  {
   "cell_type": "markdown",
   "metadata": {},
   "source": [
    "## Ensemble"
   ]
  },
  {
   "cell_type": "code",
   "execution_count": 19,
   "metadata": {
    "ExecuteTime": {
     "end_time": "2020-12-15T11:10:07.451417Z",
     "start_time": "2020-12-15T11:10:07.444444Z"
    }
   },
   "outputs": [],
   "source": [
    "from keras.layers import Average\n",
    "from keras.models import Model\n",
    "\n",
    "def ensemble(models, model_input):\n",
    "    \n",
    "    outputs = [model.outputs[0] for model in models]\n",
    "    y = Average()(outputs)\n",
    "    \n",
    "    model = Model(model_input, y, name='ensemble')\n",
    "    \n",
    "    return model\n",
    "#ensemble_model = ensemble(models, model_input)"
   ]
  },
  {
   "cell_type": "markdown",
   "metadata": {},
   "source": [
    "# Ensemble: ECG"
   ]
  },
  {
   "cell_type": "markdown",
   "metadata": {},
   "source": [
    "## Input Loading"
   ]
  },
  {
   "cell_type": "code",
   "execution_count": null,
   "metadata": {},
   "outputs": [],
   "source": [
    "print('loading train...', flush=True, end='')\n",
    "\n",
    "input_path = '../DL_model/dataset/preprocess4/input2/'\n",
    "x_test = np.load(input_path+'x_test.npz', allow_pickle=True)['arr_0']\n",
    "y_test = np.load(input_path+'y_test.npz')['arr_0']\n",
    "\n",
    "\n",
    "welch_path = '../DL_model/dataset/preprocess4/welch/' \n",
    "x_test_welch = np.load(welch_path+'x_test.npz', allow_pickle=True)['arr_0']\n",
    "y_test_welch = np.load(welch_path+'y_test.npz')['arr_0']\n",
    "print('done', flush=True)\n",
    "\n",
    "\n",
    "print('x_test.shape:', x_test.shape)\n",
    "print('x_test welch.shape:', x_test_welch.shape)"
   ]
  },
  {
   "cell_type": "code",
   "execution_count": null,
   "metadata": {},
   "outputs": [],
   "source": []
  },
  {
   "cell_type": "code",
   "execution_count": null,
   "metadata": {},
   "outputs": [],
   "source": []
  },
  {
   "cell_type": "markdown",
   "metadata": {},
   "source": [
    "## Models loading"
   ]
  },
  {
   "cell_type": "markdown",
   "metadata": {},
   "source": [
    "### 1D-CNN : Inception"
   ]
  },
  {
   "cell_type": "code",
   "execution_count": null,
   "metadata": {},
   "outputs": [],
   "source": [
    "from keras.models import model_from_json\n",
    "import os\n",
    "\n",
    "models_dir = '1D-CNN_ECG/NRS>=4/Inception_8-20modules_sample-weight_3class'\n",
    "\n",
    "load_path = best_model_path\n",
    "load_weight_path = load_path+'/weights.hdf5'\n",
    "\n",
    "print('loading model...', flush=True, end='')\n",
    "with open(load_path+\"/model.json\", 'r') as f_json:\n",
    "    loaded_model_json = f_json.read()\n",
    "model_cnn = model_from_json(loaded_model_json)\n",
    "print('done')\n",
    "print('loading weights...', flush=True, end='')\n",
    "model_cnn.load_weights(load_weight_path)\n",
    "print('done')"
   ]
  },
  {
   "cell_type": "code",
   "execution_count": 12,
   "metadata": {
    "ExecuteTime": {
     "end_time": "2020-12-10T02:22:56.270396Z",
     "start_time": "2020-12-10T02:22:56.265028Z"
    },
    "scrolled": true
   },
   "outputs": [
    {
     "data": {
      "text/plain": [
       "'1D-CNN_ECG+PPG/NRS>=4/1nception_8-20modules_sample-weight_3class/roc0.7662_prc0.8305_batch=256,nlayer=17,nfilters=16,c1layer256,k1=5x2,globalpool_opt=max,dropout=0.3,dnodes=0,dropout=0.1_acc0.80'"
      ]
     },
     "execution_count": 12,
     "metadata": {},
     "output_type": "execute_result"
    }
   ],
   "source": [
    "load_path"
   ]
  },
  {
   "cell_type": "markdown",
   "metadata": {},
   "source": [
    "### LSTM"
   ]
  },
  {
   "cell_type": "code",
   "execution_count": null,
   "metadata": {},
   "outputs": [],
   "source": [
    "from keras.models import model_from_json\n",
    "\n",
    "models_dir = '1D-CNN_ECG+PPG'\n",
    "\n",
    "\n",
    "\n",
    "load_path = 'output/preprocess3/input3-2_PPG+ECG/auroc0.7776_auprc0.7871_1D_CNN_model_bin_conv64_conv64_conv64_conv64_conv64_filter3x2_tanh_bn_maxpool2_globalmaxpool_dropout0.2_dense0_dropout0.3_batch1024_lr_0.001_kinit_kreg0acc0.75'\n",
    "load_weight_path = load_path+'/weights.hdf5'\n",
    "\n",
    "print('loading model...', flush=True, end='')\n",
    "with open(load_path+\"/model.json\", 'r') as f_json:\n",
    "    loaded_model_json = f_json.read()\n",
    "model_cnn = model_from_json(loaded_model_json)\n",
    "print('done')\n",
    "print('loading weights...', flush=True, end='')\n",
    "model_cnn.load_weights(load_weight_path)\n",
    "print('done')"
   ]
  },
  {
   "cell_type": "code",
   "execution_count": null,
   "metadata": {},
   "outputs": [],
   "source": []
  },
  {
   "cell_type": "code",
   "execution_count": null,
   "metadata": {},
   "outputs": [],
   "source": []
  },
  {
   "cell_type": "markdown",
   "metadata": {},
   "source": [
    "## Ensemble model"
   ]
  },
  {
   "cell_type": "code",
   "execution_count": null,
   "metadata": {},
   "outputs": [],
   "source": []
  },
  {
   "cell_type": "code",
   "execution_count": null,
   "metadata": {},
   "outputs": [],
   "source": []
  },
  {
   "cell_type": "code",
   "execution_count": null,
   "metadata": {},
   "outputs": [],
   "source": []
  },
  {
   "cell_type": "markdown",
   "metadata": {},
   "source": [
    "# Ensemble: PPG"
   ]
  },
  {
   "cell_type": "markdown",
   "metadata": {},
   "source": [
    "## Input loading"
   ]
  },
  {
   "cell_type": "code",
   "execution_count": 60,
   "metadata": {
    "ExecuteTime": {
     "end_time": "2020-12-15T11:56:19.981704Z",
     "start_time": "2020-12-15T11:56:18.988056Z"
    }
   },
   "outputs": [
    {
     "name": "stdout",
     "output_type": "stream",
     "text": [
      "loading train...done\n",
      "x_test.shape: (8795, 2000, 1)\n",
      "x_test welch.shape: (8792, 16, 128, 2)\n"
     ]
    }
   ],
   "source": [
    "print('loading train...', flush=True, end='')\n",
    "\n",
    "input_path = '../DL_model/dataset/preprocess4/input2/PPG_100Hz/'\n",
    "x_test = np.load(input_path+'x_test.npz', allow_pickle=True)['arr_0']\n",
    "y_test = np.load(input_path+'y_test.npz')['arr_0']\n",
    "\n",
    "\n",
    "welch_path = '../DL_model/dataset/preprocess4/welch/' \n",
    "x_test_welch = np.load(welch_path+'x_test.npz', allow_pickle=True)['arr_0']\n",
    "y_test_welch = np.load(welch_path+'y_test.npz')['arr_0']\n",
    "print('done', flush=True)\n",
    "\n",
    "\n",
    "print('x_test.shape:', x_test.shape)\n",
    "print('x_test welch.shape:', x_test_welch.shape)"
   ]
  },
  {
   "cell_type": "code",
   "execution_count": 61,
   "metadata": {
    "ExecuteTime": {
     "end_time": "2020-12-15T11:56:21.029672Z",
     "start_time": "2020-12-15T11:56:20.982541Z"
    }
   },
   "outputs": [
    {
     "name": "stdout",
     "output_type": "stream",
     "text": [
      "x_test cnn shape: (8792, 2000, 1)\n",
      "x_test welch shape: (8792, 16, 128)\n",
      "test set\n",
      "sample weight for class 1: 2.62, class 2: 2.17, class 3: 6.36\n"
     ]
    }
   ],
   "source": [
    "import pickle\n",
    "\n",
    "test_mask = pickle.load(open(welch_path+'test_mask_pacu','rb'))+pickle.load(open(welch_path+'test_mask_preop','rb'))\n",
    "\n",
    "x_test_cnn = x_test[test_mask][:,:,0:1]\n",
    "y_test_cnn = y_test[test_mask]\n",
    "x_test_welch = x_test_welch[:,:,:,0]\n",
    "\n",
    "y_test_cnn_bin = y_test_cnn >= 4\n",
    "y_test_welch_bin = y_test_welch >= 4\n",
    "\n",
    "\n",
    "print('x_test cnn shape:', x_test_cnn.shape)\n",
    "print('x_test welch shape:', x_test_welch.shape)\n",
    "\n",
    "\n",
    "# 3 class에 대한 sample weight\n",
    "test_w_samp3 = np.ones(shape=(len(y_test),))\n",
    "\n",
    "test_w_samp3[y_test<4]= len(y_test)/np.sum(y_test<4)\n",
    "test_w_samp3[(y_test>=4)&(y_test<7)]= len(y_test)/np.sum((4<=y_test)&(y_test<7))\n",
    "test_w_samp3[y_test>=7]= len(y_test)/np.sum(y_test>=7)\n",
    "\n",
    "print('test set')\n",
    "print('sample weight for class 1: {:.2f}, class 2: {:.2f}, class 3: {:.2f}'\n",
    "      .format(len(y_test)/np.sum(y_test<4),len(y_test)/np.sum((y_test>=4)&(y_test<7)),len(y_test)/np.sum(y_test>=7)))"
   ]
  },
  {
   "cell_type": "markdown",
   "metadata": {},
   "source": [
    "## Models loading"
   ]
  },
  {
   "cell_type": "markdown",
   "metadata": {},
   "source": [
    "### LSTM"
   ]
  },
  {
   "cell_type": "code",
   "execution_count": 50,
   "metadata": {
    "ExecuteTime": {
     "end_time": "2020-12-15T11:51:24.217335Z",
     "start_time": "2020-12-15T11:51:23.421457Z"
    }
   },
   "outputs": [
    {
     "name": "stdout",
     "output_type": "stream",
     "text": [
      "LSTM_PPG/NRS>=4_welch/LSTM_3layers_sample-weighted_3class/roc0.7580_prc0.8281_gru_batch=512,unit16,unit64,unit128,dropout=0.5,dnodes=0,dropout=0,dnodes=0,dropout=0_acc0.78\n",
      "loading model...done\n",
      "loading weights...done\n"
     ]
    }
   ],
   "source": [
    "from keras.models import model_from_json\n",
    "\n",
    "models_dir = 'LSTM_PPG/NRS>=4_welch/LSTM_3layers_sample-weighted_3class'\n",
    "load_path = best_model_path(models_dir)\n",
    "print(load_path)\n",
    "load_weight_path = load_path+'/weights.hdf5'\n",
    "\n",
    "print('loading model...', flush=True, end='')\n",
    "with open(load_path+\"/model.json\", 'r') as f_json:\n",
    "    loaded_model_json = f_json.read()\n",
    "model_lstm = model_from_json(loaded_model_json)\n",
    "print('done')\n",
    "print('loading weights...', flush=True, end='')\n",
    "model_lstm.load_weights(load_weight_path)\n",
    "print('done')"
   ]
  },
  {
   "cell_type": "markdown",
   "metadata": {},
   "source": [
    "### CNN"
   ]
  },
  {
   "cell_type": "code",
   "execution_count": 53,
   "metadata": {
    "ExecuteTime": {
     "end_time": "2020-12-15T11:52:42.037475Z",
     "start_time": "2020-12-15T11:52:41.804309Z"
    }
   },
   "outputs": [
    {
     "name": "stdout",
     "output_type": "stream",
     "text": [
      "1D-CNN_PPG/NRS>=4_PPG100Hz/1D_CNN_5layers_sample-weighted_3class_lowess_filtered/manual/roc0.7461_prc0.8220_batch=512,c1=128,c2=256,c3=0,filt1=7,filt2=3,filt3=0,str1=1,str2=1,str3=0,conv_double=True,globalpool=ave,dropout=0.4,dnodes=16,dropout=0.1_acc0.78\n",
      "loading model...done\n",
      "loading weights...done\n"
     ]
    }
   ],
   "source": [
    "from keras.models import model_from_json\n",
    "import os\n",
    "\n",
    "models_dir = '1D-CNN_PPG/NRS>=4_PPG100Hz/1D_CNN_5layers_sample-weighted_3class_lowess_filtered/manual'\n",
    "\n",
    "load_path = best_model_path(models_dir)\n",
    "print(load_path)\n",
    "load_weight_path = load_path+'/weights.hdf5'\n",
    "\n",
    "print('loading model...', flush=True, end='')\n",
    "with open(load_path+\"/model.json\", 'r') as f_json:\n",
    "    loaded_model_json = f_json.read()\n",
    "model_cnn = model_from_json(loaded_model_json)\n",
    "print('done')\n",
    "print('loading weights...', flush=True, end='')\n",
    "model_cnn.load_weights(load_weight_path)\n",
    "print('done')"
   ]
  },
  {
   "cell_type": "markdown",
   "metadata": {},
   "source": [
    "## Ensemble"
   ]
  },
  {
   "cell_type": "code",
   "execution_count": 62,
   "metadata": {
    "ExecuteTime": {
     "end_time": "2020-12-15T11:56:27.077834Z",
     "start_time": "2020-12-15T11:56:23.957002Z"
    }
   },
   "outputs": [],
   "source": [
    "y_cnn = model_cnn.predict(x_test_cnn).flatten()\n",
    "y_lstm = model_lstm.predict(x_test_welch).flatten()\n",
    "\n",
    "# ensemble 모델에서 이들의 평균 이용\n",
    "y_ens = (y_cnn+y_lstm)/2"
   ]
  },
  {
   "cell_type": "markdown",
   "metadata": {},
   "source": [
    "## Evaluation"
   ]
  },
  {
   "cell_type": "code",
   "execution_count": 63,
   "metadata": {
    "ExecuteTime": {
     "end_time": "2020-12-15T11:56:31.185366Z",
     "start_time": "2020-12-15T11:56:30.707109Z"
    }
   },
   "outputs": [
    {
     "name": "stdout",
     "output_type": "stream",
     "text": [
      "test set accuracy:0.77\n",
      "test set AUROC: 0.7510967581342874\n",
      "test set AUPRC: 0.8249460998580077\n"
     ]
    },
    {
     "data": {
      "text/plain": [
       "[<matplotlib.lines.Line2D at 0x7ff7c386ec18>]"
      ]
     },
     "execution_count": 63,
     "metadata": {},
     "output_type": "execute_result"
    },
    {
     "data": {
      "image/png": "[encoded data removed]",
      "text/plain": [
       "<Figure size 864x432 with 2 Axes>"
      ]
     },
     "metadata": {
      "needs_background": "light"
     },
     "output_type": "display_data"
    }
   ],
   "source": [
    "from sklearn.metrics import roc_curve, auc, precision_recall_curve\n",
    "from numpy import interp\n",
    "from keras import losses, metrics\n",
    "import keras.backend as K\n",
    "import matplotlib.pyplot as plt\n",
    "\n",
    "\n",
    "y_pred = y_ens\n",
    "y_test_bin = y_test_cnn_bin\n",
    "test_w_samp = test_w_samp3[test_mask]\n",
    "\n",
    "### Classification\n",
    "# Model Accuracy of test set\n",
    "#model_y = y_pred>=0.5\n",
    "#acc_val = np.mean(model_y==y_test_bin)\n",
    "acc = metrics.Accuracy()\n",
    "acc.update_state(y_pred>=0.5, y_test_bin, sample_weight=test_w_samp)\n",
    "acc_val = acc.result().numpy()\n",
    "print('test set accuracy:{:.2f}'.format(acc_val))\n",
    "\n",
    "\n",
    "# moderate pain\n",
    "false_positive_rate, true_positive_rate, threshold = roc_curve(y_test_bin, y_pred, sample_weight = test_w_samp)\n",
    "precision, recall, _ = precision_recall_curve(y_test_bin, y_pred, sample_weight = test_w_samp)\n",
    "roc_auc = auc(false_positive_rate, true_positive_rate)\n",
    "prc_auc = auc(recall, precision)\n",
    "print('test set AUROC:', roc_auc)\n",
    "print('test set AUPRC:', prc_auc)\n",
    "\n",
    "\n",
    "# Adding evaluation results to file name\n",
    "#test_path = 'output/preprocess4/welch/auroc{:.4f}_auprc{:.4f}_{}acc{:.2f}'.format(roc_auc,prc_auc,model_name,acc_val)\n",
    "#os.rename(save_path, test_path)\n",
    "\n",
    "# Plotting ROC, PRC\n",
    "fig = plt.figure(figsize=(12,6))\n",
    "\n",
    "# ax1: auroc\n",
    "ax1 = fig.add_subplot(1,2,1)\n",
    "ax1.set_title('Receiver Operating Characteristic')\n",
    "ax1.set_xlabel(\"False Positive Rate(1 - Specificity)\")\n",
    "ax1.set_ylabel('True Positive Rate(Sensitivity)')\n",
    "ax1.plot([0,1],[1,1],'y--')\n",
    "ax1.plot([0,1],[0,1],'r--')\n",
    "ax1.plot(false_positive_rate, true_positive_rate, 'b', label='moderate pain (AUC = %0.4f)'% roc_auc)\n",
    "\n",
    "# ax2: auprc\n",
    "ax2 = fig.add_subplot(1,2,2)\n",
    "ax2.set_title('Precision - Recall Curve')\n",
    "ax2.set_xlabel(\"Precision\")\n",
    "ax2.set_ylabel('Recall')\n",
    "ax2.plot(recall, precision, 'b', label='moderate pain (AUC = %0.4f)'% prc_auc)\n",
    "\n",
    "#plt.savefig(test_path + '/roc_prc.png', bbox_inches=\"tight\", pad_inches=0.5)\n"
   ]
  },
  {
   "cell_type": "markdown",
   "metadata": {},
   "source": [
    "# Ensemble: ECG+PPG+age,gender"
   ]
  },
  {
   "cell_type": "markdown",
   "metadata": {},
   "source": [
    "## Input loading"
   ]
  },
  {
   "cell_type": "code",
   "execution_count": 1,
   "metadata": {
    "ExecuteTime": {
     "end_time": "2020-12-16T05:45:44.258285Z",
     "start_time": "2020-12-16T05:45:41.258850Z"
    }
   },
   "outputs": [
    {
     "name": "stdout",
     "output_type": "stream",
     "text": [
      "loading train...done\n",
      "x_test.shape: (8795, 5000, 2)\n",
      "x_test welch.shape: (8792, 16, 128, 2)\n"
     ]
    }
   ],
   "source": [
    "print('loading train...', flush=True, end='')\n",
    "\n",
    "input_path = '../DL_model/dataset/preprocess4/input2/'\n",
    "x_test = np.load(input_path+'x_test.npz', allow_pickle=True)['arr_0']\n",
    "y_test = np.load(input_path+'y_test.npz')['arr_0']\n",
    "\n",
    "\n",
    "welch_path = '../DL_model/dataset/preprocess4/welch/' \n",
    "x_test_welch = np.load(welch_path+'x_test.npz', allow_pickle=True)['arr_0']\n",
    "y_test_welch = np.load(welch_path+'y_test.npz')['arr_0']\n",
    "print('done', flush=True)\n",
    "\n",
    "\n",
    "print('x_test.shape:', x_test.shape)\n",
    "print('x_test welch.shape:', x_test_welch.shape)"
   ]
  },
  {
   "cell_type": "code",
   "execution_count": 2,
   "metadata": {
    "ExecuteTime": {
     "end_time": "2020-12-16T05:45:45.696661Z",
     "start_time": "2020-12-16T05:45:45.584002Z"
    }
   },
   "outputs": [
    {
     "name": "stdout",
     "output_type": "stream",
     "text": [
      "x_test cnn shape: (8792, 5000, 2)\n",
      "x_test welch shape: (8792, 16, 128, 2)\n"
     ]
    }
   ],
   "source": [
    "import pickle\n",
    "\n",
    "test_mask = pickle.load(open(welch_path+'test_mask_pacu','rb'))+pickle.load(open(welch_path+'test_mask_preop','rb'))\n",
    "\n",
    "x_test_cnn = x_test[test_mask]\n",
    "y_test_cnn = y_test[test_mask]\n",
    "\n",
    "y_test_cnn_bin = y_test_cnn >= 4\n",
    "y_test_welch_bin = y_test_welch >= 4\n",
    "\n",
    "\n",
    "print('x_test cnn shape:', x_test_cnn.shape)\n",
    "print('x_test welch shape:', x_test_welch.shape)"
   ]
  },
  {
   "cell_type": "code",
   "execution_count": 3,
   "metadata": {
    "ExecuteTime": {
     "end_time": "2020-12-16T05:45:47.135021Z",
     "start_time": "2020-12-16T05:45:47.116694Z"
    }
   },
   "outputs": [
    {
     "name": "stdout",
     "output_type": "stream",
     "text": [
      "test set\n",
      "sample weight for class 1: 2.62, class 2: 2.17, class 3: 6.36\n"
     ]
    }
   ],
   "source": [
    "# 3 class에 대한 sample weight\n",
    "test_w_samp3 = np.ones(shape=(len(y_test),))\n",
    "\n",
    "test_w_samp3[y_test<4]= len(y_test)/np.sum(y_test<4)\n",
    "test_w_samp3[(y_test>=4)&(y_test<7)]= len(y_test)/np.sum((4<=y_test)&(y_test<7))\n",
    "test_w_samp3[y_test>=7]= len(y_test)/np.sum(y_test>=7)\n",
    "\n",
    "print('test set')\n",
    "print('sample weight for class 1: {:.2f}, class 2: {:.2f}, class 3: {:.2f}'\n",
    "      .format(len(y_test)/np.sum(y_test<4),len(y_test)/np.sum((y_test>=4)&(y_test<7)),len(y_test)/np.sum(y_test>=7)))"
   ]
  },
  {
   "cell_type": "markdown",
   "metadata": {},
   "source": [
    "## Models loading"
   ]
  },
  {
   "cell_type": "markdown",
   "metadata": {},
   "source": [
    "### ECG+age+gender CNN"
   ]
  },
  {
   "cell_type": "code",
   "execution_count": 4,
   "metadata": {
    "ExecuteTime": {
     "end_time": "2020-12-16T05:45:49.553845Z",
     "start_time": "2020-12-16T05:45:49.521418Z"
    }
   },
   "outputs": [],
   "source": [
    "age_test = np.load(input_path+'age_test.npz', allow_pickle=True)['arr_0']\n",
    "gender_test = np.load(input_path+'gender_test.npz', allow_pickle=True)['arr_0']\n",
    "\n",
    "age_test = age_test[test_mask]\n",
    "gender_test = gender_test[test_mask]\n",
    "\n",
    "agender_test = np.array([[age_test[i], gender_test[i]] for i in range(len(age_test))])\n",
    "\n",
    "\n",
    "x_tests = [x_test_cnn[:,:,1:2], agender_test]"
   ]
  },
  {
   "cell_type": "code",
   "execution_count": 9,
   "metadata": {
    "ExecuteTime": {
     "end_time": "2020-12-16T05:46:46.673679Z",
     "start_time": "2020-12-16T05:46:46.454829Z"
    }
   },
   "outputs": [
    {
     "name": "stdout",
     "output_type": "stream",
     "text": [
      "1D-CNN_age+gender/ECG/1D_CNN_3layers_sample-weighted_3class_lowess_filtered/roc0.7725_prc0.8419_batch=512,c1=128,c2=32,c3=0,filt1=3,filt2=3,filt3=0,str1=1,str2=1,str3=0,conv_double=True,globalpool=ave,dropout=0.2,dnodes=0,dropout=0,dnodes=0,dropout=0_acc0.78\n",
      "loading model...done\n",
      "loading weights...done\n"
     ]
    }
   ],
   "source": [
    "from keras.models import model_from_json\n",
    "import os\n",
    "\n",
    "models_dir = '1D-CNN_age+gender/ECG/1D_CNN_3layers_sample-weighted_3class_lowess_filtered'\n",
    "\n",
    "load_path = best_model_path(models_dir)\n",
    "print(load_path)\n",
    "load_weight_path = load_path+'/weights.hdf5'\n",
    "\n",
    "print('loading model...', flush=True, end='')\n",
    "with open(load_path+\"/model.json\", 'r') as f_json:\n",
    "    loaded_model_json = f_json.read()\n",
    "model_cnn = model_from_json(loaded_model_json)\n",
    "print('done')\n",
    "print('loading weights...', flush=True, end='')\n",
    "model_cnn.load_weights(load_weight_path)\n",
    "print('done')"
   ]
  },
  {
   "cell_type": "markdown",
   "metadata": {},
   "source": [
    "### PPG LSTM"
   ]
  },
  {
   "cell_type": "code",
   "execution_count": 10,
   "metadata": {
    "ExecuteTime": {
     "end_time": "2020-12-16T05:46:49.650885Z",
     "start_time": "2020-12-16T05:46:48.879486Z"
    }
   },
   "outputs": [
    {
     "name": "stdout",
     "output_type": "stream",
     "text": [
      "LSTM_PPG/NRS>=4_welch/LSTM_3layers_sample-weighted_3class/roc0.7580_prc0.8281_gru_batch=512,unit16,unit64,unit128,dropout=0.5,dnodes=0,dropout=0,dnodes=0,dropout=0_acc0.78\n",
      "loading model...done\n",
      "loading weights...done\n"
     ]
    }
   ],
   "source": [
    "from keras.models import model_from_json\n",
    "\n",
    "models_dir = 'LSTM_PPG/NRS>=4_welch/LSTM_3layers_sample-weighted_3class'\n",
    "load_path = best_model_path(models_dir)\n",
    "print(load_path)\n",
    "#load_path = 'output/preprocess3/input3-2_PPG+ECG/auroc0.7776_auprc0.7871_1D_CNN_model_bin_conv64_conv64_conv64_conv64_conv64_filter3x2_tanh_bn_maxpool2_globalmaxpool_dropout0.2_dense0_dropout0.3_batch1024_lr_0.001_kinit_kreg0acc0.75'\n",
    "load_weight_path = load_path+'/weights.hdf5'\n",
    "\n",
    "print('loading model...', flush=True, end='')\n",
    "with open(load_path+\"/model.json\", 'r') as f_json:\n",
    "    loaded_model_json = f_json.read()\n",
    "model_lstm = model_from_json(loaded_model_json)\n",
    "print('done')\n",
    "print('loading weights...', flush=True, end='')\n",
    "model_lstm.load_weights(load_weight_path)\n",
    "print('done')"
   ]
  },
  {
   "cell_type": "markdown",
   "metadata": {},
   "source": [
    "## Ensemble"
   ]
  },
  {
   "cell_type": "code",
   "execution_count": 11,
   "metadata": {
    "ExecuteTime": {
     "end_time": "2020-12-16T05:46:59.310023Z",
     "start_time": "2020-12-16T05:46:52.689532Z"
    },
    "scrolled": true
   },
   "outputs": [],
   "source": [
    "#model_ens = ensemble([model_cnn, model_lstm], [x_tests, x_test_welch[:,:,:,0]])\n",
    "\n",
    "y_cnn = model_cnn.predict(x_tests).flatten()\n",
    "y_lstm = model_lstm.predict(x_test_welch[:,:,:,0]).flatten()\n",
    "\n",
    "# ensemble 모델에서 이들의 평균 이용\n",
    "y_ens = (y_cnn+y_lstm)/2"
   ]
  },
  {
   "cell_type": "markdown",
   "metadata": {},
   "source": [
    "## Evaluation"
   ]
  },
  {
   "cell_type": "code",
   "execution_count": 48,
   "metadata": {
    "ExecuteTime": {
     "end_time": "2020-12-15T11:23:46.527151Z",
     "start_time": "2020-12-15T11:23:46.035634Z"
    }
   },
   "outputs": [
    {
     "name": "stdout",
     "output_type": "stream",
     "text": [
      "test set accuracy:0.78\n",
      "test set AUROC: 0.7831257885873636\n",
      "test set AUPRC: 0.8510957156083211\n"
     ]
    },
    {
     "data": {
      "text/plain": [
       "[<matplotlib.lines.Line2D at 0x7ff7c47bb898>]"
      ]
     },
     "execution_count": 48,
     "metadata": {},
     "output_type": "execute_result"
    },
    {
     "data": {
      "image/png": "[encoded data removed]",
      "text/plain": [
       "<Figure size 864x432 with 2 Axes>"
      ]
     },
     "metadata": {
      "needs_background": "light"
     },
     "output_type": "display_data"
    }
   ],
   "source": [
    "from sklearn.metrics import roc_curve, auc, precision_recall_curve\n",
    "from numpy import interp\n",
    "from keras import losses, metrics\n",
    "import keras.backend as K\n",
    "import matplotlib.pyplot as plt\n",
    "\n",
    "\n",
    "y_pred = y_ens\n",
    "y_test_bin = y_test_cnn_bin\n",
    "test_w_samp = test_w_samp3[test_mask]\n",
    "\n",
    "### Classification\n",
    "# Model Accuracy of test set\n",
    "#model_y = y_pred>=0.5\n",
    "#acc_val = np.mean(model_y==y_test_bin)\n",
    "acc = metrics.Accuracy()\n",
    "acc.update_state(y_pred>=0.5, y_test_bin, sample_weight=test_w_samp)\n",
    "acc_val = acc.result().numpy()\n",
    "print('test set accuracy:{:.2f}'.format(acc_val))\n",
    "\n",
    "\n",
    "# moderate pain\n",
    "false_positive_rate, true_positive_rate, threshold = roc_curve(y_test_bin, y_pred, sample_weight = test_w_samp)\n",
    "precision, recall, _ = precision_recall_curve(y_test_bin, y_pred, sample_weight = test_w_samp)\n",
    "roc_auc = auc(false_positive_rate, true_positive_rate)\n",
    "prc_auc = auc(recall, precision)\n",
    "print('test set AUROC:', roc_auc)\n",
    "print('test set AUPRC:', prc_auc)\n",
    "\n",
    "\n",
    "# Adding evaluation results to file name\n",
    "#test_path = 'output/preprocess4/welch/auroc{:.4f}_auprc{:.4f}_{}acc{:.2f}'.format(roc_auc,prc_auc,model_name,acc_val)\n",
    "#os.rename(save_path, test_path)\n",
    "\n",
    "# Plotting ROC, PRC\n",
    "fig = plt.figure(figsize=(12,6))\n",
    "\n",
    "# ax1: auroc\n",
    "ax1 = fig.add_subplot(1,2,1)\n",
    "ax1.set_title('Receiver Operating Characteristic')\n",
    "ax1.set_xlabel(\"False Positive Rate(1 - Specificity)\")\n",
    "ax1.set_ylabel('True Positive Rate(Sensitivity)')\n",
    "ax1.plot([0,1],[1,1],'y--')\n",
    "ax1.plot([0,1],[0,1],'r--')\n",
    "ax1.plot(false_positive_rate, true_positive_rate, 'b', label='moderate pain (AUC = %0.4f)'% roc_auc)\n",
    "\n",
    "# ax2: auprc\n",
    "ax2 = fig.add_subplot(1,2,2)\n",
    "ax2.set_title('Precision - Recall Curve')\n",
    "ax2.set_xlabel(\"Precision\")\n",
    "ax2.set_ylabel('Recall')\n",
    "ax2.plot(recall, precision, 'b', label='moderate pain (AUC = %0.4f)'% prc_auc)\n",
    "\n",
    "#plt.savefig(test_path + '/roc_prc.png', bbox_inches=\"tight\", pad_inches=0.5)\n"
   ]
  },
  {
   "cell_type": "code",
   "execution_count": null,
   "metadata": {},
   "outputs": [],
   "source": []
  },
  {
   "cell_type": "code",
   "execution_count": null,
   "metadata": {},
   "outputs": [],
   "source": []
  },
  {
   "cell_type": "code",
   "execution_count": null,
   "metadata": {},
   "outputs": [],
   "source": []
  },
  {
   "cell_type": "code",
   "execution_count": 14,
   "metadata": {
    "ExecuteTime": {
     "end_time": "2020-12-16T05:47:21.514293Z",
     "start_time": "2020-12-16T05:47:21.093156Z"
    }
   },
   "outputs": [
    {
     "name": "stdout",
     "output_type": "stream",
     "text": [
      "test set accuracy:0.66\n",
      "test set AUROC: 0.5936561929348905\n",
      "test set AUPRC: 0.7343466022889066\n"
     ]
    },
    {
     "data": {
      "text/plain": [
       "[<matplotlib.lines.Line2D at 0x7f043a083e80>]"
      ]
     },
     "execution_count": 14,
     "metadata": {},
     "output_type": "execute_result"
    },
    {
     "data": {
      "image/png": "[encoded data removed]",
      "text/plain": [
       "<Figure size 864x432 with 2 Axes>"
      ]
     },
     "metadata": {
      "needs_background": "light"
     },
     "output_type": "display_data"
    }
   ],
   "source": [
    "from sklearn.metrics import roc_curve, auc, precision_recall_curve\n",
    "from numpy import interp\n",
    "from keras import losses, metrics\n",
    "import keras.backend as K\n",
    "import matplotlib.pyplot as plt\n",
    "\n",
    "\n",
    "y_pred = y_lstm\n",
    "y_test_bin = y_test_cnn_bin\n",
    "test_w_samp = test_w_samp3[test_mask]\n",
    "\n",
    "### Classification\n",
    "# Model Accuracy of test set\n",
    "#model_y = y_pred>=0.5\n",
    "#acc_val = np.mean(model_y==y_test_bin)\n",
    "acc = metrics.Accuracy()\n",
    "acc.update_state(y_pred>=0.5, y_test_bin, sample_weight=test_w_samp)\n",
    "acc_val = acc.result().numpy()\n",
    "print('test set accuracy:{:.2f}'.format(acc_val))\n",
    "\n",
    "\n",
    "# moderate pain\n",
    "false_positive_rate, true_positive_rate, threshold = roc_curve(y_test_bin, y_pred, sample_weight = test_w_samp)\n",
    "precision, recall, _ = precision_recall_curve(y_test_bin, y_pred, sample_weight = test_w_samp)\n",
    "roc_auc = auc(false_positive_rate, true_positive_rate)\n",
    "prc_auc = auc(recall, precision)\n",
    "print('test set AUROC:', roc_auc)\n",
    "print('test set AUPRC:', prc_auc)\n",
    "\n",
    "\n",
    "# Adding evaluation results to file name\n",
    "#test_path = 'output/preprocess4/welch/auroc{:.4f}_auprc{:.4f}_{}acc{:.2f}'.format(roc_auc,prc_auc,model_name,acc_val)\n",
    "#os.rename(save_path, test_path)\n",
    "\n",
    "# Plotting ROC, PRC\n",
    "fig = plt.figure(figsize=(12,6))\n",
    "\n",
    "# ax1: auroc\n",
    "ax1 = fig.add_subplot(1,2,1)\n",
    "ax1.set_title('Receiver Operating Characteristic')\n",
    "ax1.set_xlabel(\"False Positive Rate(1 - Specificity)\")\n",
    "ax1.set_ylabel('True Positive Rate(Sensitivity)')\n",
    "ax1.plot([0,1],[1,1],'y--')\n",
    "ax1.plot([0,1],[0,1],'r--')\n",
    "ax1.plot(false_positive_rate, true_positive_rate, 'b', label='moderate pain (AUC = %0.4f)'% roc_auc)\n",
    "\n",
    "# ax2: auprc\n",
    "ax2 = fig.add_subplot(1,2,2)\n",
    "ax2.set_title('Precision - Recall Curve')\n",
    "ax2.set_xlabel(\"Precision\")\n",
    "ax2.set_ylabel('Recall')\n",
    "ax2.plot(recall, precision, 'b', label='moderate pain (AUC = %0.4f)'% prc_auc)\n",
    "\n",
    "#plt.savefig(test_path + '/roc_prc.png', bbox_inches=\"tight\", pad_inches=0.5)\n"
   ]
  }
 ],
 "metadata": {
  "kernelspec": {
   "display_name": "Python 3",
   "language": "python",
   "name": "python3"
  },
  "language_info": {
   "codemirror_mode": {
    "name": "ipython",
    "version": 3
   },
   "file_extension": ".py",
   "mimetype": "text/x-python",
   "name": "python",
   "nbconvert_exporter": "python",
   "pygments_lexer": "ipython3",
   "version": "3.6.9"
  },
  "toc": {
   "base_numbering": 1,
   "nav_menu": {},
   "number_sections": true,
   "sideBar": true,
   "skip_h1_title": false,
   "title_cell": "Table of Contents",
   "title_sidebar": "Contents",
   "toc_cell": false,
   "toc_position": {},
   "toc_section_display": true,
   "toc_window_display": true
  },
  "varInspector": {
   "cols": {
    "lenName": 16,
    "lenType": 16,
    "lenVar": 40
   },
   "kernels_config": {
    "python": {
     "delete_cmd_postfix": "",
     "delete_cmd_prefix": "del ",
     "library": "var_list.py",
     "varRefreshCmd": "print(var_dic_list())"
    },
    "r": {
     "delete_cmd_postfix": ") ",
     "delete_cmd_prefix": "rm(",
     "library": "var_list.r",
     "varRefreshCmd": "cat(var_dic_list()) "
    }
   },
   "types_to_exclude": [
    "module",
    "function",
    "builtin_function_or_method",
    "instance",
    "_Feature"
   ],
   "window_display": false
  }
 },
 "nbformat": 4,
 "nbformat_minor": 4
}
