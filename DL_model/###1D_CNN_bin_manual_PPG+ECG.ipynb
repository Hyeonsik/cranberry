{
 "cells": [
  {
   "cell_type": "markdown",
   "metadata": {},
   "source": [
    "# train, test loading"
   ]
  },
  {
   "cell_type": "code",
   "execution_count": 1,
   "metadata": {
    "ExecuteTime": {
     "end_time": "2020-12-08T03:44:21.214539Z",
     "start_time": "2020-12-08T03:43:56.276680Z"
    },
    "scrolled": true
   },
   "outputs": [
    {
     "name": "stdout",
     "output_type": "stream",
     "text": [
      "loading train...done\n",
      "x_train shape: (78513, 5000, 2)\n",
      "x_test.shape: (9344, 5000, 2)\n",
      "x_val.shape: (8707, 5000, 2)\n"
     ]
    }
   ],
   "source": [
    "import pandas as pd\n",
    "\n",
    "print('loading train...', flush=True, end='')\n",
    "\n",
    "# x를 loading해서 (batch_size, step, channel)\n",
    "input_path = '../DL_model/dataset/preprocess3/input3-2/'\n",
    "x_train = np.load(input_path+'x_train.npz', allow_pickle=True)['arr_0']\n",
    "x_test = np.load(input_path+'x_test.npz', allow_pickle=True)['arr_0']\n",
    "x_val = np.load(input_path+'x_val.npz', allow_pickle=True)['arr_0']\n",
    "\n",
    "y_train = np.load(input_path+'y_train.npz')['arr_0']\n",
    "y_test = np.load(input_path+'y_test.npz')['arr_0']\n",
    "y_val = np.load(input_path+'y_val.npz')['arr_0']\n",
    "print('done', flush=True)\n",
    "\n",
    "print('x_train shape:', x_train.shape)\n",
    "print('x_test.shape:', x_test.shape)\n",
    "print('x_val.shape:', x_val.shape)\n"
   ]
  },
  {
   "cell_type": "markdown",
   "metadata": {},
   "source": [
    "## binary classification"
   ]
  },
  {
   "cell_type": "code",
   "execution_count": 2,
   "metadata": {
    "ExecuteTime": {
     "end_time": "2020-12-08T03:44:21.288014Z",
     "start_time": "2020-12-08T03:44:21.284902Z"
    }
   },
   "outputs": [],
   "source": [
    "# binary classification\n",
    "y_train_bin = y_train >= 4\n",
    "y_test_bin = y_test >= 4\n",
    "y_val_bin = y_val >= 4\n",
    "\n",
    "y_train_bin2 = y_train >=7\n",
    "y_val_bin2 = y_val>=7\n",
    "y_test_bin2 = y_test>=7"
   ]
  },
  {
   "cell_type": "markdown",
   "metadata": {},
   "source": [
    "## multi-class classification (3 class)"
   ]
  },
  {
   "cell_type": "code",
   "execution_count": 20,
   "metadata": {
    "ExecuteTime": {
     "end_time": "2020-12-04T14:16:14.567594Z",
     "start_time": "2020-12-04T14:16:14.546204Z"
    }
   },
   "outputs": [
    {
     "name": "stdout",
     "output_type": "stream",
     "text": [
      "train set: no pain 30132 (38.38%), moderate pain 36114 (46.00%), severe pain 12267 (15.62%)\n",
      "val set: no pain 3253 (37.36%), moderate pain 4185 (48.06%), severe pain 1269 (14.57%)\n",
      "test set: no pain 3947 (42.24%), moderate pain 4015 (42.97%), severe pain 1382 (14.79%)\n"
     ]
    }
   ],
   "source": [
    "print('train set: no pain {} ({:.2f}%), moderate pain {} ({:.2f}%), severe pain {} ({:.2f}%)'.format(dict_train['0'],dict_train['0']/(dict_train['0']+dict_train['1']+dict_train['2'])*100,dict_train['1'],dict_train['1']/(dict_train['0']+dict_train['1']+dict_train['2'])*100,dict_train['2'],dict_train['2']/(dict_train['0']+dict_train['1']+dict_train['2'])*100))\n",
    "print('val set: no pain {} ({:.2f}%), moderate pain {} ({:.2f}%), severe pain {} ({:.2f}%)'.format(dict_val['0'],dict_val['0']/(dict_val['0']+dict_val['1']+dict_val['2'])*100,dict_val['1'],dict_val['1']/(dict_val['0']+dict_val['1']+dict_val['2'])*100,dict_val['2'],dict_val['2']/(dict_val['0']+dict_val['1']+dict_val['2'])*100))\n",
    "print('test set: no pain {} ({:.2f}%), moderate pain {} ({:.2f}%), severe pain {} ({:.2f}%)'.format(dict_test['0'],dict_test['0']/(dict_test['0']+dict_test['1']+dict_test['2'])*100,dict_test['1'],dict_test['1']/(dict_test['0']+dict_test['1']+dict_test['2'])*100,dict_test['2'],dict_test['2']/(dict_test['0']+dict_test['1']+dict_test['2'])*100))\n"
   ]
  },
  {
   "cell_type": "code",
   "execution_count": 2,
   "metadata": {
    "ExecuteTime": {
     "end_time": "2020-12-02T15:00:02.465381Z",
     "start_time": "2020-12-02T15:00:02.455301Z"
    }
   },
   "outputs": [
    {
     "name": "stdout",
     "output_type": "stream",
     "text": [
      "y_train의 평균: 0.6065, y_test의 평균: 0.5790\n",
      "y_val의 평균: 0.6111\n"
     ]
    }
   ],
   "source": [
    "print('y_train의 평균: {:.4f}, y_test의 평균: {:.4f}'.format(np.mean(y_train_bin), np.mean(y_test_bin)))\n",
    "print('y_val의 평균: {:.4f}'.format(np.mean(y_val_bin)))"
   ]
  },
  {
   "cell_type": "code",
   "execution_count": 3,
   "metadata": {
    "ExecuteTime": {
     "end_time": "2020-12-07T18:18:50.043030Z",
     "start_time": "2020-12-07T18:18:49.231720Z"
    }
   },
   "outputs": [
    {
     "name": "stdout",
     "output_type": "stream",
     "text": [
      "y_test class bins:  [3947, 4015, 1382]\n"
     ]
    }
   ],
   "source": [
    "# labels for y_train\n",
    "y_train_class = []\n",
    "for i in range(y_train.shape[0]):\n",
    "    if y_train[i] <= 3.5:\n",
    "        y_train_class.append((1,0,0))\n",
    "    elif 3.5<y_train[i]<=6.5:\n",
    "        y_train_class.append((0,1,0))\n",
    "    else:\n",
    "        y_train_class.append((0,0,1))\n",
    "        \n",
    "y_train_class = np.array(y_train_class, int)\n",
    "\n",
    "\n",
    "# labels for y_val\n",
    "y_val_class = []\n",
    "for i in range(y_val.shape[0]):\n",
    "    if y_val[i] <= 3.5:\n",
    "        y_val_class.append((1,0,0))\n",
    "    elif 3.5<y_val[i]<=6.5:\n",
    "        y_val_class.append((0,1,0))\n",
    "    else:\n",
    "        y_val_class.append((0,0,1))\n",
    "        \n",
    "y_val_class = np.array(y_val_class, int)\n",
    "\n",
    "# labels for y_test\n",
    "y_test_class = []\n",
    "hist_y_test = [0, 0, 0]\n",
    "for i in range(y_test.shape[0]):\n",
    "    if y_test[i] <= 3.5:\n",
    "        y_test_class.append([1,0,0])\n",
    "        hist_y_test[0]+=1\n",
    "    elif 3.5<y_test[i]<=6.5:\n",
    "        y_test_class.append([0,1,0])\n",
    "        hist_y_test[1]+=1\n",
    "    else:\n",
    "        y_test_class.append([0,0,1])\n",
    "        hist_y_test[2]+=1\n",
    "        \n",
    "y_test_class = np.array(y_test_class, int)\n",
    "print('y_test class bins: ', hist_y_test)"
   ]
  },
  {
   "cell_type": "markdown",
   "metadata": {},
   "source": [
    "# GPU setting"
   ]
  },
  {
   "cell_type": "markdown",
   "metadata": {},
   "source": [
    "## GPU memory 확장"
   ]
  },
  {
   "cell_type": "code",
   "execution_count": 3,
   "metadata": {
    "ExecuteTime": {
     "end_time": "2020-12-08T03:44:27.460151Z",
     "start_time": "2020-12-08T03:44:21.358589Z"
    }
   },
   "outputs": [
    {
     "name": "stdout",
     "output_type": "stream",
     "text": [
      "4 Physical GPUs, 4 Logical GPUs\n"
     ]
    }
   ],
   "source": [
    "import tensorflow as tf\n",
    "\n",
    "gpus = tf.config.experimental.list_physical_devices('GPU')\n",
    "if gpus:\n",
    "    try:\n",
    "        # Currently, memory growth needs to be the same across GPUs\n",
    "        for gpu in gpus:\n",
    "            tf.config.experimental.set_memory_growth(gpu, True)\n",
    "        logical_gpus = tf.config.experimental.list_logical_devices('GPU')\n",
    "        print(len(gpus), \"Physical GPUs,\", len(logical_gpus), \"Logical GPUs\")\n",
    "    except RuntimeError as e:\n",
    "        # Memory growth must be set before GPUs have been initialized\n",
    "        print(e)"
   ]
  },
  {
   "cell_type": "markdown",
   "metadata": {},
   "source": [
    "# Model"
   ]
  },
  {
   "cell_type": "markdown",
   "metadata": {},
   "source": [
    "## Sample weight"
   ]
  },
  {
   "cell_type": "markdown",
   "metadata": {},
   "source": [
    "### NRS 각 class마다 weight"
   ]
  },
  {
   "cell_type": "code",
   "execution_count": 73,
   "metadata": {
    "ExecuteTime": {
     "end_time": "2020-12-04T16:14:55.130620Z",
     "start_time": "2020-12-04T16:14:55.116947Z"
    }
   },
   "outputs": [
    {
     "name": "stdout",
     "output_type": "stream",
     "text": [
      "5.300276783906028\n",
      "872.3666666666667\n",
      "17.105228758169936\n",
      "7.379734937494125\n",
      "7.4047910968593795\n",
      "4.210941271118262\n",
      "11.4350422371104\n",
      "14.285480349344978\n",
      "13.854420328215987\n",
      "83.79188900747064\n",
      "470.1377245508982\n"
     ]
    }
   ],
   "source": [
    "sample_weight = np.ones(shape=(len(y_train),))\n",
    "for i in range(0,11):\n",
    "    sample_weight[y_train==i] = len(y_train)/np.sum(y_train==i)\n",
    "    \n",
    "    \n",
    "for i in range(0,11):\n",
    "    print(len(y_train)/np.sum(y_train==i))"
   ]
  },
  {
   "cell_type": "markdown",
   "metadata": {},
   "source": [
    "### 2개의 class에 대한 sample_weight"
   ]
  },
  {
   "cell_type": "code",
   "execution_count": 12,
   "metadata": {
    "ExecuteTime": {
     "end_time": "2020-12-07T19:35:23.835730Z",
     "start_time": "2020-12-07T19:35:23.791391Z"
    }
   },
   "outputs": [
    {
     "ename": "NameError",
     "evalue": "name 'y_train_bin2' is not defined",
     "output_type": "error",
     "traceback": [
      "\u001b[0;31m---------------------------------------------------------------------------\u001b[0m",
      "\u001b[0;31mNameError\u001b[0m                                 Traceback (most recent call last)",
      "\u001b[0;32m<ipython-input-12-eaf55c0c1352>\u001b[0m in \u001b[0;36m<module>\u001b[0;34m\u001b[0m\n\u001b[1;32m      5\u001b[0m \u001b[0;34m\u001b[0m\u001b[0m\n\u001b[1;32m      6\u001b[0m \u001b[0mtrain_w_samp2_2\u001b[0m \u001b[0;34m=\u001b[0m \u001b[0mnp\u001b[0m\u001b[0;34m.\u001b[0m\u001b[0mones\u001b[0m\u001b[0;34m(\u001b[0m\u001b[0mshape\u001b[0m\u001b[0;34m=\u001b[0m\u001b[0;34m(\u001b[0m\u001b[0mlen\u001b[0m\u001b[0;34m(\u001b[0m\u001b[0my_train\u001b[0m\u001b[0;34m)\u001b[0m\u001b[0;34m,\u001b[0m\u001b[0;34m)\u001b[0m\u001b[0;34m)\u001b[0m\u001b[0;34m\u001b[0m\u001b[0;34m\u001b[0m\u001b[0m\n\u001b[0;32m----> 7\u001b[0;31m \u001b[0mtrain_w_samp2_2\u001b[0m\u001b[0;34m[\u001b[0m\u001b[0my_train_bin\u001b[0m\u001b[0;34m==\u001b[0m\u001b[0;36m0\u001b[0m\u001b[0;34m]\u001b[0m\u001b[0;34m=\u001b[0m \u001b[0mlen\u001b[0m\u001b[0;34m(\u001b[0m\u001b[0my_train\u001b[0m\u001b[0;34m)\u001b[0m \u001b[0;34m/\u001b[0m \u001b[0mnp\u001b[0m\u001b[0;34m.\u001b[0m\u001b[0msum\u001b[0m\u001b[0;34m(\u001b[0m\u001b[0my_train_bin2\u001b[0m\u001b[0;34m)\u001b[0m\u001b[0;34m\u001b[0m\u001b[0;34m\u001b[0m\u001b[0m\n\u001b[0m\u001b[1;32m      8\u001b[0m \u001b[0mtrain_w_samp2_2\u001b[0m\u001b[0;34m[\u001b[0m\u001b[0my_train_bin\u001b[0m\u001b[0;34m!=\u001b[0m\u001b[0;36m0\u001b[0m\u001b[0;34m]\u001b[0m\u001b[0;34m=\u001b[0m \u001b[0mlen\u001b[0m\u001b[0;34m(\u001b[0m\u001b[0my_train\u001b[0m\u001b[0;34m)\u001b[0m \u001b[0;34m/\u001b[0m \u001b[0mnp\u001b[0m\u001b[0;34m.\u001b[0m\u001b[0msum\u001b[0m\u001b[0;34m(\u001b[0m\u001b[0;34m~\u001b[0m\u001b[0my_train_bin2\u001b[0m\u001b[0;34m)\u001b[0m\u001b[0;34m\u001b[0m\u001b[0;34m\u001b[0m\u001b[0m\n\u001b[1;32m      9\u001b[0m \u001b[0;34m\u001b[0m\u001b[0m\n",
      "\u001b[0;31mNameError\u001b[0m: name 'y_train_bin2' is not defined"
     ]
    }
   ],
   "source": [
    "# 2 class에 대한 sample weight\n",
    "train_w_samp2 = np.ones(shape=(len(y_train),))\n",
    "train_w_samp2[y_train_bin==0]= len(y_train) / np.sum(y_train_bin)\n",
    "train_w_samp2[y_train_bin!=0]= len(y_train) / np.sum(~y_train_bin)\n",
    "\n",
    "train_w_samp2_2 = np.ones(shape=(len(y_train),))\n",
    "train_w_samp2_2[y_train_bin==0]= len(y_train) / np.sum(y_train_bin2)\n",
    "train_w_samp2_2[y_train_bin!=0]= len(y_train) / np.sum(~y_train_bin2)\n",
    "\n",
    "print('sample weight for no pain: {:.2f}, moderate pain: {:.2f}'\n",
    "      .format(len(y_train) / np.sum(y_train_bin), len(y_train) / np.sum(~y_train_bin)))\n",
    "print('sample weight for no pain: {:.2f}, severe pain: {:.2f}'\n",
    "      .format(len(y_train) / np.sum(y_train_bin2), len(y_train) / np.sum(~y_train_bin2)))\n",
    "\n",
    "# 2 class에 대한 sample weight\n",
    "val_w_samp2 = np.ones(shape=(len(y_val),))\n",
    "val_w_samp2[y_val_bin==0]= len(y_val) / np.sum(y_val_bin)\n",
    "val_w_samp2[y_val_bin!=0]= len(y_val) / np.sum(~y_val_bin)\n",
    "\n",
    "val_w_samp2_2 = np.ones(shape=(len(y_val),))\n",
    "val_w_samp2_2[y_val_bin==0]= len(y_val) / np.sum(y_val_bin2)\n",
    "val_w_samp2_2[y_val_bin!=0]= len(y_val) / np.sum(~y_val_bin2)\n",
    "\n",
    "print('sample weight for no pain: {:.2f}, moderate pain: {:.2f}'\n",
    "      .format(len(y_val) / np.sum(y_val_bin), len(y_val) / np.sum(~y_val_bin)))\n",
    "print('sample weight for no pain: {:.2f}, severe pain: {:.2f}'\n",
    "      .format(len(y_val) / np.sum(y_val_bin2), len(y_val) / np.sum(~y_val_bin2)))\n",
    "\n",
    "# 2 class에 대한 sample weight\n",
    "test_w_samp2 = np.ones(shape=(len(y_test),))\n",
    "test_w_samp2[y_test_bin==0]= len(y_test) / np.sum(y_test_bin)\n",
    "test_w_samp2[y_test_bin!=0]= len(y_test) / np.sum(~y_test_bin)\n",
    "\n",
    "test_w_samp2_2 = np.ones(shape=(len(y_test),))\n",
    "test_w_samp2_2[y_test_bin==0]= len(y_test) / np.sum(y_test_bin2)\n",
    "test_w_samp2_2[y_test_bin!=0]= len(y_test) / np.sum(~y_test_bin2)\n",
    "\n",
    "print('sample weight for no pain: {:.2f}, moderate pain: {:.2f}'\n",
    "      .format(len(y_test) / np.sum(y_test_bin), len(y_test) / np.sum(~y_test_bin)))\n",
    "print('sample weight for no pain: {:.2f}, severe pain: {:.2f}'\n",
    "      .format(len(y_test) / np.sum(y_test_bin2), len(y_test) / np.sum(~y_test_bin2)))"
   ]
  },
  {
   "cell_type": "markdown",
   "metadata": {},
   "source": [
    "### 3개의 class에 대해 sample_weight"
   ]
  },
  {
   "cell_type": "code",
   "execution_count": 4,
   "metadata": {
    "ExecuteTime": {
     "end_time": "2020-12-08T03:48:41.457672Z",
     "start_time": "2020-12-08T03:48:41.425447Z"
    }
   },
   "outputs": [
    {
     "name": "stdout",
     "output_type": "stream",
     "text": [
      "sample weight for class 1: 2.61, class 2: 2.17, class 3: 6.40\n",
      "sample weight for class 1: 2.68, class 2: 2.08, class 3: 6.86\n",
      "sample weight for class 1: 2.37, class 2: 2.33, class 3: 6.76\n"
     ]
    }
   ],
   "source": [
    "# 3 class에 대한 sample weight\n",
    "train_w_samp3 = np.ones(shape=(len(y_train),))\n",
    "\n",
    "train_w_samp3[y_train<4]= len(y_train)/np.sum(y_train<4)\n",
    "train_w_samp3[(y_train>=4)&(y_train<7)]= len(y_train)/np.sum((4<=y_train)&(y_train<7))\n",
    "train_w_samp3[y_train>=7]= len(y_train)/np.sum(y_train>=7)\n",
    "\n",
    "\n",
    "print('sample weight for class 1: {:.2f}, class 2: {:.2f}, class 3: {:.2f}'\n",
    "      .format(len(y_train)/np.sum(y_train<4),len(y_train)/np.sum((y_train>=4)&(y_train<7)),len(y_train)/np.sum(y_train>=7)))\n",
    "\n",
    "# 3 class에 대한 sample weight\n",
    "val_w_samp3 = np.ones(shape=(len(y_val),))\n",
    "\n",
    "val_w_samp3[y_val<4]= len(y_val)/np.sum(y_val<4)\n",
    "val_w_samp3[(y_val>=4)&(y_val<7)]= len(y_val)/np.sum((4<=y_val)&(y_val<7))\n",
    "val_w_samp3[y_val>=7]= len(y_val)/np.sum(y_val>=7)\n",
    "\n",
    "\n",
    "print('sample weight for class 1: {:.2f}, class 2: {:.2f}, class 3: {:.2f}'\n",
    "      .format(len(y_val)/np.sum(y_val<4),len(y_val)/np.sum((y_val>=4)&(y_val<7)),len(y_val)/np.sum(y_val>=7)))\n",
    "\n",
    "# 3 class에 대한 sample weight\n",
    "test_w_samp3 = np.ones(shape=(len(y_test),))\n",
    "\n",
    "test_w_samp3[y_test<4]= len(y_test)/np.sum(y_test<4)\n",
    "test_w_samp3[(y_test>=4)&(y_test<7)]= len(y_test)/np.sum((4<=y_test)&(y_test<7))\n",
    "test_w_samp3[y_test>=7]= len(y_test)/np.sum(y_test>=7)\n",
    "\n",
    "\n",
    "print('sample weight for class 1: {:.2f}, class 2: {:.2f}, class 3: {:.2f}'\n",
    "      .format(len(y_test)/np.sum(y_test<4),len(y_test)/np.sum((y_test>=4)&(y_test<7)),len(y_test)/np.sum(y_test>=7)))"
   ]
  },
  {
   "cell_type": "markdown",
   "metadata": {},
   "source": [
    "## Training"
   ]
  },
  {
   "cell_type": "markdown",
   "metadata": {},
   "source": [
    "### 1D-CNN"
   ]
  },
  {
   "cell_type": "code",
   "execution_count": 29,
   "metadata": {
    "ExecuteTime": {
     "end_time": "2020-12-07T04:33:38.410296Z",
     "start_time": "2020-12-07T04:29:59.445482Z"
    },
    "scrolled": true
   },
   "outputs": [
    {
     "name": "stdout",
     "output_type": "stream",
     "text": [
      "64-64-64-256\n",
      "INFO:tensorflow:Using MirroredStrategy with devices ('/job:localhost/replica:0/task:0/device:GPU:2', '/job:localhost/replica:0/task:0/device:GPU:3')\n",
      "Epoch 1/100\n",
      "INFO:tensorflow:batch_all_reduce: 26 all-reduces with algorithm = nccl, num_packs = 1\n",
      "INFO:tensorflow:batch_all_reduce: 26 all-reduces with algorithm = nccl, num_packs = 1\n",
      "77/77 [==============================] - ETA: 0s - loss: 3.0012 - acc: 0.5695 - auc_4: 0.5338\n",
      "Epoch 00001: val_loss improved from inf to 3.14056, saving model to output/preprocess3/input3-2_PPG+ECG/1D_CNN_model_bin_sampleweight_conv64_conv64_conv64_conv256_filter3x2_tanh_bn_maxpool2_globalmaxpool_dropout0.3_dense0_dropout0.3_batch1024_lr_0.001_kinit_kreg0/weights.hdf5\n",
      "77/77 [==============================] - 21s 274ms/step - loss: 3.0012 - acc: 0.5695 - auc_4: 0.5338 - val_loss: 3.1406 - val_acc: 0.6286 - val_auc_4: 0.6227\n",
      "Epoch 2/100\n",
      "77/77 [==============================] - ETA: 0s - loss: 2.2038 - acc: 0.6100 - auc_4: 0.5944\n",
      "Epoch 00002: val_loss improved from 3.14056 to 2.69650, saving model to output/preprocess3/input3-2_PPG+ECG/1D_CNN_model_bin_sampleweight_conv64_conv64_conv64_conv256_filter3x2_tanh_bn_maxpool2_globalmaxpool_dropout0.3_dense0_dropout0.3_batch1024_lr_0.001_kinit_kreg0/weights.hdf5\n",
      "77/77 [==============================] - 17s 216ms/step - loss: 2.2038 - acc: 0.6100 - auc_4: 0.5944 - val_loss: 2.6965 - val_acc: 0.6273 - val_auc_4: 0.6466\n",
      "Epoch 3/100\n",
      "77/77 [==============================] - ETA: 0s - loss: 2.0054 - acc: 0.6446 - auc_4: 0.6451\n",
      "Epoch 00003: val_loss improved from 2.69650 to 1.75066, saving model to output/preprocess3/input3-2_PPG+ECG/1D_CNN_model_bin_sampleweight_conv64_conv64_conv64_conv256_filter3x2_tanh_bn_maxpool2_globalmaxpool_dropout0.3_dense0_dropout0.3_batch1024_lr_0.001_kinit_kreg0/weights.hdf5\n",
      "77/77 [==============================] - 17s 215ms/step - loss: 2.0054 - acc: 0.6446 - auc_4: 0.6451 - val_loss: 1.7507 - val_acc: 0.6635 - val_auc_4: 0.7137\n",
      "Epoch 4/100\n",
      "77/77 [==============================] - ETA: 0s - loss: 1.8902 - acc: 0.6716 - auc_4: 0.6747\n",
      "Epoch 00004: val_loss improved from 1.75066 to 1.68636, saving model to output/preprocess3/input3-2_PPG+ECG/1D_CNN_model_bin_sampleweight_conv64_conv64_conv64_conv256_filter3x2_tanh_bn_maxpool2_globalmaxpool_dropout0.3_dense0_dropout0.3_batch1024_lr_0.001_kinit_kreg0/weights.hdf5\n",
      "77/77 [==============================] - 17s 215ms/step - loss: 1.8902 - acc: 0.6716 - auc_4: 0.6747 - val_loss: 1.6864 - val_acc: 0.6953 - val_auc_4: 0.7326\n",
      "Epoch 5/100\n",
      "77/77 [==============================] - ETA: 0s - loss: 1.8064 - acc: 0.6922 - auc_4: 0.6959\n",
      "Epoch 00005: val_loss improved from 1.68636 to 1.58351, saving model to output/preprocess3/input3-2_PPG+ECG/1D_CNN_model_bin_sampleweight_conv64_conv64_conv64_conv256_filter3x2_tanh_bn_maxpool2_globalmaxpool_dropout0.3_dense0_dropout0.3_batch1024_lr_0.001_kinit_kreg0/weights.hdf5\n",
      "77/77 [==============================] - 17s 216ms/step - loss: 1.8064 - acc: 0.6922 - auc_4: 0.6959 - val_loss: 1.5835 - val_acc: 0.7635 - val_auc_4: 0.7549\n",
      "Epoch 6/100\n",
      "77/77 [==============================] - ETA: 0s - loss: 1.7013 - acc: 0.7174 - auc_4: 0.7227\n",
      "Epoch 00006: val_loss improved from 1.58351 to 1.55079, saving model to output/preprocess3/input3-2_PPG+ECG/1D_CNN_model_bin_sampleweight_conv64_conv64_conv64_conv256_filter3x2_tanh_bn_maxpool2_globalmaxpool_dropout0.3_dense0_dropout0.3_batch1024_lr_0.001_kinit_kreg0/weights.hdf5\n",
      "77/77 [==============================] - 17s 217ms/step - loss: 1.7013 - acc: 0.7174 - auc_4: 0.7227 - val_loss: 1.5508 - val_acc: 0.7564 - val_auc_4: 0.7636\n",
      "Epoch 7/100\n",
      "77/77 [==============================] - ETA: 0s - loss: 1.6539 - acc: 0.7295 - auc_4: 0.7329\n",
      "Epoch 00007: val_loss did not improve from 1.55079\n",
      "77/77 [==============================] - 17s 215ms/step - loss: 1.6539 - acc: 0.7295 - auc_4: 0.7329 - val_loss: 1.5614 - val_acc: 0.7323 - val_auc_4: 0.7637\n",
      "Epoch 8/100\n",
      "77/77 [==============================] - ETA: 0s - loss: 1.5642 - acc: 0.7483 - auc_4: 0.7494\n",
      "Epoch 00008: val_loss did not improve from 1.55079\n",
      "77/77 [==============================] - 17s 215ms/step - loss: 1.5642 - acc: 0.7483 - auc_4: 0.7494 - val_loss: 1.5996 - val_acc: 0.7133 - val_auc_4: 0.7611\n",
      "Epoch 9/100\n",
      "77/77 [==============================] - ETA: 0s - loss: 1.5489 - acc: 0.7502 - auc_4: 0.7518\n",
      "Epoch 00009: val_loss did not improve from 1.55079\n",
      "77/77 [==============================] - 17s 215ms/step - loss: 1.5489 - acc: 0.7502 - auc_4: 0.7518 - val_loss: 1.7310 - val_acc: 0.6772 - val_auc_4: 0.7596\n",
      "Epoch 10/100\n",
      "77/77 [==============================] - ETA: 0s - loss: 1.4591 - acc: 0.7666 - auc_4: 0.7685\n",
      "Epoch 00010: val_loss did not improve from 1.55079\n",
      "77/77 [==============================] - 17s 216ms/step - loss: 1.4591 - acc: 0.7666 - auc_4: 0.7685 - val_loss: 2.9449 - val_acc: 0.4972 - val_auc_4: 0.7484\n",
      "Epoch 11/100\n",
      "77/77 [==============================] - ETA: 0s - loss: 1.3835 - acc: 0.7805 - auc_4: 0.7788\n",
      "Epoch 00011: val_loss did not improve from 1.55079\n",
      "77/77 [==============================] - 17s 215ms/step - loss: 1.3835 - acc: 0.7805 - auc_4: 0.7788 - val_loss: 1.6720 - val_acc: 0.7005 - val_auc_4: 0.7529\n"
     ]
    }
   ],
   "source": [
    "from keras.models import Sequential\n",
    "from keras.models import Model, load_model\n",
    "from keras.optimizers import Adam as Adam\n",
    "from keras.layers import Dense, Conv1D, MaxPooling1D, GlobalMaxPool1D, BatchNormalization, Dropout, Activation\n",
    "from keras.layers import GlobalAveragePooling1D, Flatten, SeparableConv1D, LeakyReLU\n",
    "from keras.callbacks import ModelCheckpoint, EarlyStopping\n",
    "from sklearn.metrics import auc, classification_report, confusion_matrix, accuracy_score, roc_curve, roc_auc_score, f1_score, precision_recall_curve\n",
    "import tensorflow as tf\n",
    "import os, pickle\n",
    "from keras import backend as K\n",
    "from keras import regularizers\n",
    "from keras.initializers import he_normal, GlorotNormal\n",
    "import tensorflow_addons as tfa\n",
    "\n",
    "# hyperparamters\n",
    "num_nodes = [64, 64, 64, 256] #, 64, 64, 64]\n",
    "kernel_size = 3\n",
    "pool_size = 2\n",
    "BATCH_SIZE = 1024\n",
    "dense_node = 0\n",
    "dropout_rate = 0.3\n",
    "dropout_cnn = 0.3\n",
    "dropout_fc = 0.3\n",
    "learning_rate = 0.001\n",
    "\n",
    "\n",
    "# initializer & regularizer\n",
    "k_init = he_normal(seed=None)\n",
    "#k_init = GlorotNormal(seed=None) # Xavier normal initializer\n",
    "#k_init = None\n",
    "b_init = None\n",
    "k_l2 = 0\n",
    "#k_reg = regularizers.l2(l2=k_l2)\n",
    "k_reg = None\n",
    "b_reg = None\n",
    "\n",
    "\n",
    "testname = '-'.join([str(num_node) for num_node in num_nodes])\n",
    "print(testname)\n",
    "\n",
    "\n",
    "# 출력 폴더를 생성\n",
    "model_name = 'model_bin_sampleweight_'\n",
    "for num_node in num_nodes:\n",
    "    model_name += 'conv{}_'.format(num_node)\n",
    "model_name += 'filter{}x2_tanh_bn_maxpool{}_globalmaxpool_dropout{}_dense{}_dropout{}_batch{}_lr_{}_kinit_kreg{}'.format(kernel_size, pool_size, dropout_cnn, dense_node, dropout_fc, BATCH_SIZE, learning_rate, k_l2)\n",
    "\n",
    "#model_name = 'model_reg_{}_{}_{}_size{}_relu_bn_maxpool{}_globalmaxpool_dense32_dropout{}_batch{}_learning_rate{}'.format(num_nodes[0], num_nodes[1], num_nodes[2], kernel_size, pool_size, dropout_rate, BATCH_SIZE, learning_rate)\n",
    "save_path = \"output/preprocess3/input3-2_PPG+ECG/1D_CNN_\"+model_name\n",
    "\n",
    "if not os.path.exists(save_path):\n",
    "    os.mkdir(save_path)\n",
    "weight_path = save_path + \"/weights.hdf5\"\n",
    "\n",
    "\n",
    "# GPU 설정\n",
    "strategy = tf.distribute.MirroredStrategy(devices=[\"/gpu:0\"])\n",
    "with strategy.scope():\n",
    "    \n",
    "    # build a model\n",
    "    model = Sequential()\n",
    "    for num_node in num_nodes:\n",
    "        model.add(Conv1D(filters=num_node, kernel_size=kernel_size, padding='same', kernel_initializer=k_init,bias_initializer =b_init , kernel_regularizer=k_reg, bias_regularizer=b_reg))\n",
    "        model.add(Conv1D(filters=num_node, kernel_size=kernel_size, padding='same', kernel_initializer=k_init,bias_initializer =b_init , kernel_regularizer=k_reg, bias_regularizer=b_reg))\n",
    "        #model.add(LeakyReLU(alpha=0.1))\n",
    "        model.add(Activation('relu'))\n",
    "        model.add(BatchNormalization())\n",
    "        model.add(MaxPooling1D(pool_size=pool_size))\n",
    "    #model.add(BatchNormalization())    \n",
    "    model.add(GlobalMaxPool1D())\n",
    "    #model.add(Flatten())\n",
    "    model.add(Dropout(dropout_cnn))\n",
    "    #model.add(Activation('sigmoid'))\n",
    "    #model.add(Dropout(dropout_rate))\n",
    "    if dense_node != 0:\n",
    "        model.add(Dense(dense_node, activation='tanh', kernel_initializer=k_init, kernel_regularizer=k_reg))\n",
    "        model.add(Dropout(dropout_fc))\n",
    "    model.add(Dense(1, activation='sigmoid'))\n",
    "\n",
    "    \n",
    "    # model 학습 설정\n",
    "    model.compile(loss='binary_crossentropy', optimizer=Adam(lr=learning_rate), metrics=[\"acc\", tf.keras.metrics.AUC()])\n",
    "    hist = model.fit(x_train, y_train_bin, validation_data = (x_val, y_val_bin, val_w_samp), sample_weight=train_w_samp, epochs=100, batch_size=BATCH_SIZE, #class_weight={0:1, 1:3}, \n",
    "                            callbacks=[ModelCheckpoint(monitor='val_loss', filepath=weight_path, verbose=1, save_best_only=True),\n",
    "                                        EarlyStopping(monitor='val_loss', patience=5, verbose=0, mode='auto')])\n",
    "\n",
    "    #tf.keras.backend.clear_session()\n",
    "\n",
    "model.load_weights(weight_path)\n",
    "    \n",
    "# 모델의 아키텍처 및 구조 저장\n",
    "open(save_path + \"/model.json\", \"wt\").write(model.to_json())\n",
    "\n",
    "\n",
    "# 전체 test 샘플을 한번에 예측\n",
    "y_pred = model.predict(x_test).flatten() # binary는 flatten\n",
    "\n",
    "# 결과를 저장\n",
    "#np.savetxt(save_path+'/pred_y.txt', y_pred)\n",
    "\n",
    "\n",
    "# 모델의 history log 저장 - binary classification\n",
    "for key in hist.history.keys():\n",
    "    if 'auc' in key and not 'val' in key:\n",
    "        auc_key = key\n",
    "#pickle.dump((hist.history['loss'], hist.history['val_loss'], hist.history['accuracy'], hist.history['val_accuracy'], hist.history[auc], hist.history['val_'+auc]), open(save_path+'/history', 'wb'))\n",
    "\n",
    "# 모델의 history log 저장 - regression\n",
    "pickle.dump((hist.history['loss'], hist.history['val_loss'], hist.history['acc'], hist.history['val_acc'], hist.history[auc_key], hist.history['val_'+auc_key]), open(save_path+'/history', 'wb'))\n"
   ]
  },
  {
   "cell_type": "markdown",
   "metadata": {},
   "source": [
    "### 5 layers with options"
   ]
  },
  {
   "cell_type": "code",
   "execution_count": 11,
   "metadata": {
    "ExecuteTime": {
     "end_time": "2020-12-08T04:07:24.065131Z",
     "start_time": "2020-12-08T04:07:06.141118Z"
    }
   },
   "outputs": [
    {
     "name": "stdout",
     "output_type": "stream",
     "text": [
      "INFO:tensorflow:Using MirroredStrategy with devices ('/job:localhost/replica:0/task:0/device:GPU:0',)\n",
      "Epoch 1/100\n",
      "WARNING:tensorflow:From /usr/local/lib/python3.6/dist-packages/tensorflow/python/data/ops/multi_device_iterator_ops.py:601: get_next_as_optional (from tensorflow.python.data.ops.iterator_ops) is deprecated and will be removed in a future version.\n",
      "Instructions for updating:\n",
      "Use `tf.data.Iterator.get_next_as_optional()` instead.\n",
      "INFO:tensorflow:Error reported to Coordinator: Negative dimension size caused by subtracting 2 from 1 for '{{node sequential_4/max_pooling1d_19/MaxPool}} = MaxPool[T=DT_FLOAT, data_format=\"NHWC\", ksize=[1, 2, 1, 1], padding=\"VALID\", strides=[1, 2, 1, 1]](sequential_4/max_pooling1d_19/ExpandDims)' with input shapes: [?,1,1,128].\n",
      "Traceback (most recent call last):\n",
      "  File \"/usr/local/lib/python3.6/dist-packages/tensorflow/python/framework/ops.py\", line 1812, in _create_c_op\n",
      "    c_op = pywrap_tf_session.TF_FinishOperation(op_desc)\n",
      "tensorflow.python.framework.errors_impl.InvalidArgumentError: Negative dimension size caused by subtracting 2 from 1 for '{{node sequential_4/max_pooling1d_19/MaxPool}} = MaxPool[T=DT_FLOAT, data_format=\"NHWC\", ksize=[1, 2, 1, 1], padding=\"VALID\", strides=[1, 2, 1, 1]](sequential_4/max_pooling1d_19/ExpandDims)' with input shapes: [?,1,1,128].\n",
      "\n",
      "During handling of the above exception, another exception occurred:\n",
      "\n",
      "Traceback (most recent call last):\n",
      "  File \"/usr/local/lib/python3.6/dist-packages/tensorflow/python/training/coordinator.py\", line 297, in stop_on_exception\n",
      "    yield\n",
      "  File \"/usr/local/lib/python3.6/dist-packages/tensorflow/python/distribute/mirrored_run.py\", line 323, in run\n",
      "    self.main_result = self.main_fn(*self.main_args, **self.main_kwargs)\n",
      "  File \"/usr/local/lib/python3.6/dist-packages/tensorflow/python/autograph/impl/api.py\", line 255, in wrapper\n",
      "    return converted_call(f, args, kwargs, options=options)\n",
      "  File \"/usr/local/lib/python3.6/dist-packages/tensorflow/python/autograph/impl/api.py\", line 532, in converted_call\n",
      "    return _call_unconverted(f, args, kwargs, options)\n",
      "  File \"/usr/local/lib/python3.6/dist-packages/tensorflow/python/autograph/impl/api.py\", line 339, in _call_unconverted\n",
      "    return f(*args, **kwargs)\n",
      "  File \"/usr/local/lib/python3.6/dist-packages/tensorflow/python/keras/engine/training.py\", line 789, in run_step\n",
      "    outputs = model.train_step(data)\n",
      "  File \"/usr/local/lib/python3.6/dist-packages/tensorflow/python/keras/engine/training.py\", line 747, in train_step\n",
      "    y_pred = self(x, training=True)\n",
      "  File \"/usr/local/lib/python3.6/dist-packages/tensorflow/python/keras/engine/base_layer.py\", line 985, in __call__\n",
      "    outputs = call_fn(inputs, *args, **kwargs)\n",
      "  File \"/usr/local/lib/python3.6/dist-packages/tensorflow/python/keras/engine/sequential.py\", line 386, in call\n",
      "    outputs = layer(inputs, **kwargs)\n",
      "  File \"/usr/local/lib/python3.6/dist-packages/tensorflow/python/keras/engine/base_layer.py\", line 985, in __call__\n",
      "    outputs = call_fn(inputs, *args, **kwargs)\n",
      "  File \"/usr/local/lib/python3.6/dist-packages/tensorflow/python/keras/layers/pooling.py\", line 80, in call\n",
      "    data_format=self.data_format)\n",
      "  File \"/usr/local/lib/python3.6/dist-packages/tensorflow/python/util/dispatch.py\", line 201, in wrapper\n",
      "    return target(*args, **kwargs)\n",
      "  File \"/usr/local/lib/python3.6/dist-packages/tensorflow/python/keras/backend.py\", line 5519, in pool2d\n",
      "    x, pool_size, strides, padding=padding, data_format=tf_data_format)\n",
      "  File \"/usr/local/lib/python3.6/dist-packages/tensorflow/python/util/dispatch.py\", line 201, in wrapper\n",
      "    return target(*args, **kwargs)\n",
      "  File \"/usr/local/lib/python3.6/dist-packages/tensorflow/python/ops/nn_ops.py\", line 4520, in max_pool\n",
      "    name=name)\n",
      "  File \"/usr/local/lib/python3.6/dist-packages/tensorflow/python/ops/gen_nn_ops.py\", line 5269, in max_pool\n",
      "    data_format=data_format, name=name)\n",
      "  File \"/usr/local/lib/python3.6/dist-packages/tensorflow/python/framework/op_def_library.py\", line 744, in _apply_op_helper\n",
      "    attrs=attr_protos, op_def=op_def)\n",
      "  File \"/usr/local/lib/python3.6/dist-packages/tensorflow/python/framework/func_graph.py\", line 593, in _create_op_internal\n",
      "    compute_device)\n",
      "  File \"/usr/local/lib/python3.6/dist-packages/tensorflow/python/framework/ops.py\", line 3485, in _create_op_internal\n",
      "    op_def=op_def)\n",
      "  File \"/usr/local/lib/python3.6/dist-packages/tensorflow/python/framework/ops.py\", line 1975, in __init__\n",
      "    control_input_ops, op_def)\n",
      "  File \"/usr/local/lib/python3.6/dist-packages/tensorflow/python/framework/ops.py\", line 1815, in _create_c_op\n",
      "    raise ValueError(str(e))\n",
      "ValueError: Negative dimension size caused by subtracting 2 from 1 for '{{node sequential_4/max_pooling1d_19/MaxPool}} = MaxPool[T=DT_FLOAT, data_format=\"NHWC\", ksize=[1, 2, 1, 1], padding=\"VALID\", strides=[1, 2, 1, 1]](sequential_4/max_pooling1d_19/ExpandDims)' with input shapes: [?,1,1,128].\n"
     ]
    },
    {
     "ename": "ValueError",
     "evalue": "in user code:\n\n    /usr/local/lib/python3.6/dist-packages/tensorflow/python/keras/engine/training.py:806 train_function  *\n        return step_function(self, iterator)\n    /usr/local/lib/python3.6/dist-packages/tensorflow/python/keras/engine/training.py:796 step_function  **\n        outputs = model.distribute_strategy.run(run_step, args=(data,))\n    /usr/local/lib/python3.6/dist-packages/tensorflow/python/distribute/distribute_lib.py:1211 run\n        return self._extended.call_for_each_replica(fn, args=args, kwargs=kwargs)\n    /usr/local/lib/python3.6/dist-packages/tensorflow/python/distribute/distribute_lib.py:2585 call_for_each_replica\n        return self._call_for_each_replica(fn, args, kwargs)\n    /usr/local/lib/python3.6/dist-packages/tensorflow/python/distribute/mirrored_strategy.py:585 _call_for_each_replica\n        self._container_strategy(), fn, args, kwargs)\n    /usr/local/lib/python3.6/dist-packages/tensorflow/python/distribute/mirrored_run.py:96 call_for_each_replica\n        return _call_for_each_replica(strategy, fn, args, kwargs)\n    /usr/local/lib/python3.6/dist-packages/tensorflow/python/distribute/mirrored_run.py:237 _call_for_each_replica\n        coord.join(threads)\n    /usr/local/lib/python3.6/dist-packages/tensorflow/python/training/coordinator.py:389 join\n        six.reraise(*self._exc_info_to_raise)\n    /usr/local/lib/python3.6/dist-packages/six.py:703 reraise\n        raise value\n    /usr/local/lib/python3.6/dist-packages/tensorflow/python/training/coordinator.py:297 stop_on_exception\n        yield\n    /usr/local/lib/python3.6/dist-packages/tensorflow/python/distribute/mirrored_run.py:323 run\n        self.main_result = self.main_fn(*self.main_args, **self.main_kwargs)\n    /usr/local/lib/python3.6/dist-packages/tensorflow/python/keras/engine/training.py:789 run_step  **\n        outputs = model.train_step(data)\n    /usr/local/lib/python3.6/dist-packages/tensorflow/python/keras/engine/training.py:747 train_step\n        y_pred = self(x, training=True)\n    /usr/local/lib/python3.6/dist-packages/tensorflow/python/keras/engine/base_layer.py:985 __call__\n        outputs = call_fn(inputs, *args, **kwargs)\n    /usr/local/lib/python3.6/dist-packages/tensorflow/python/keras/engine/sequential.py:386 call\n        outputs = layer(inputs, **kwargs)\n    /usr/local/lib/python3.6/dist-packages/tensorflow/python/keras/engine/base_layer.py:985 __call__\n        outputs = call_fn(inputs, *args, **kwargs)\n    /usr/local/lib/python3.6/dist-packages/tensorflow/python/keras/layers/pooling.py:80 call\n        data_format=self.data_format)\n    /usr/local/lib/python3.6/dist-packages/tensorflow/python/util/dispatch.py:201 wrapper\n        return target(*args, **kwargs)\n    /usr/local/lib/python3.6/dist-packages/tensorflow/python/keras/backend.py:5519 pool2d\n        x, pool_size, strides, padding=padding, data_format=tf_data_format)\n    /usr/local/lib/python3.6/dist-packages/tensorflow/python/util/dispatch.py:201 wrapper\n        return target(*args, **kwargs)\n    /usr/local/lib/python3.6/dist-packages/tensorflow/python/ops/nn_ops.py:4520 max_pool\n        name=name)\n    /usr/local/lib/python3.6/dist-packages/tensorflow/python/ops/gen_nn_ops.py:5269 max_pool\n        data_format=data_format, name=name)\n    /usr/local/lib/python3.6/dist-packages/tensorflow/python/framework/op_def_library.py:744 _apply_op_helper\n        attrs=attr_protos, op_def=op_def)\n    /usr/local/lib/python3.6/dist-packages/tensorflow/python/framework/func_graph.py:593 _create_op_internal\n        compute_device)\n    /usr/local/lib/python3.6/dist-packages/tensorflow/python/framework/ops.py:3485 _create_op_internal\n        op_def=op_def)\n    /usr/local/lib/python3.6/dist-packages/tensorflow/python/framework/ops.py:1975 __init__\n        control_input_ops, op_def)\n    /usr/local/lib/python3.6/dist-packages/tensorflow/python/framework/ops.py:1815 _create_c_op\n        raise ValueError(str(e))\n\n    ValueError: Negative dimension size caused by subtracting 2 from 1 for '{{node sequential_4/max_pooling1d_19/MaxPool}} = MaxPool[T=DT_FLOAT, data_format=\"NHWC\", ksize=[1, 2, 1, 1], padding=\"VALID\", strides=[1, 2, 1, 1]](sequential_4/max_pooling1d_19/ExpandDims)' with input shapes: [?,1,1,128].\n",
     "output_type": "error",
     "traceback": [
      "\u001b[0;31m---------------------------------------------------------------------------\u001b[0m",
      "\u001b[0;31mValueError\u001b[0m                                Traceback (most recent call last)",
      "\u001b[0;32m<ipython-input-11-0f053572d62e>\u001b[0m in \u001b[0;36m<module>\u001b[0;34m\u001b[0m\n\u001b[1;32m    113\u001b[0m     hist = model.fit(x_train, y_train_bin, validation_data = (x_val, y_val_bin, val_w_samp3), sample_weight=train_w_samp3, epochs=100, batch_size=batch_size, #class_weight={0:1, 1:3}, \n\u001b[1;32m    114\u001b[0m                             callbacks=[ModelCheckpoint(monitor='val_loss', filepath=None, verbose=1, save_best_only=True),\n\u001b[0;32m--> 115\u001b[0;31m                                         EarlyStopping(monitor='val_loss', patience=5, verbose=0, mode='auto')])\n\u001b[0m",
      "\u001b[0;32m/usr/local/lib/python3.6/dist-packages/tensorflow/python/keras/engine/training.py\u001b[0m in \u001b[0;36m_method_wrapper\u001b[0;34m(self, *args, **kwargs)\u001b[0m\n\u001b[1;32m    106\u001b[0m   \u001b[0;32mdef\u001b[0m \u001b[0m_method_wrapper\u001b[0m\u001b[0;34m(\u001b[0m\u001b[0mself\u001b[0m\u001b[0;34m,\u001b[0m \u001b[0;34m*\u001b[0m\u001b[0margs\u001b[0m\u001b[0;34m,\u001b[0m \u001b[0;34m**\u001b[0m\u001b[0mkwargs\u001b[0m\u001b[0;34m)\u001b[0m\u001b[0;34m:\u001b[0m\u001b[0;34m\u001b[0m\u001b[0;34m\u001b[0m\u001b[0m\n\u001b[1;32m    107\u001b[0m     \u001b[0;32mif\u001b[0m \u001b[0;32mnot\u001b[0m \u001b[0mself\u001b[0m\u001b[0;34m.\u001b[0m\u001b[0m_in_multi_worker_mode\u001b[0m\u001b[0;34m(\u001b[0m\u001b[0;34m)\u001b[0m\u001b[0;34m:\u001b[0m  \u001b[0;31m# pylint: disable=protected-access\u001b[0m\u001b[0;34m\u001b[0m\u001b[0;34m\u001b[0m\u001b[0m\n\u001b[0;32m--> 108\u001b[0;31m       \u001b[0;32mreturn\u001b[0m \u001b[0mmethod\u001b[0m\u001b[0;34m(\u001b[0m\u001b[0mself\u001b[0m\u001b[0;34m,\u001b[0m \u001b[0;34m*\u001b[0m\u001b[0margs\u001b[0m\u001b[0;34m,\u001b[0m \u001b[0;34m**\u001b[0m\u001b[0mkwargs\u001b[0m\u001b[0;34m)\u001b[0m\u001b[0;34m\u001b[0m\u001b[0;34m\u001b[0m\u001b[0m\n\u001b[0m\u001b[1;32m    109\u001b[0m \u001b[0;34m\u001b[0m\u001b[0m\n\u001b[1;32m    110\u001b[0m     \u001b[0;31m# Running inside `run_distribute_coordinator` already.\u001b[0m\u001b[0;34m\u001b[0m\u001b[0;34m\u001b[0m\u001b[0;34m\u001b[0m\u001b[0m\n",
      "\u001b[0;32m/usr/local/lib/python3.6/dist-packages/tensorflow/python/keras/engine/training.py\u001b[0m in \u001b[0;36mfit\u001b[0;34m(self, x, y, batch_size, epochs, verbose, callbacks, validation_split, validation_data, shuffle, class_weight, sample_weight, initial_epoch, steps_per_epoch, validation_steps, validation_batch_size, validation_freq, max_queue_size, workers, use_multiprocessing)\u001b[0m\n\u001b[1;32m   1096\u001b[0m                 batch_size=batch_size):\n\u001b[1;32m   1097\u001b[0m               \u001b[0mcallbacks\u001b[0m\u001b[0;34m.\u001b[0m\u001b[0mon_train_batch_begin\u001b[0m\u001b[0;34m(\u001b[0m\u001b[0mstep\u001b[0m\u001b[0;34m)\u001b[0m\u001b[0;34m\u001b[0m\u001b[0;34m\u001b[0m\u001b[0m\n\u001b[0;32m-> 1098\u001b[0;31m               \u001b[0mtmp_logs\u001b[0m \u001b[0;34m=\u001b[0m \u001b[0mtrain_function\u001b[0m\u001b[0;34m(\u001b[0m\u001b[0miterator\u001b[0m\u001b[0;34m)\u001b[0m\u001b[0;34m\u001b[0m\u001b[0;34m\u001b[0m\u001b[0m\n\u001b[0m\u001b[1;32m   1099\u001b[0m               \u001b[0;32mif\u001b[0m \u001b[0mdata_handler\u001b[0m\u001b[0;34m.\u001b[0m\u001b[0mshould_sync\u001b[0m\u001b[0;34m:\u001b[0m\u001b[0;34m\u001b[0m\u001b[0;34m\u001b[0m\u001b[0m\n\u001b[1;32m   1100\u001b[0m                 \u001b[0mcontext\u001b[0m\u001b[0;34m.\u001b[0m\u001b[0masync_wait\u001b[0m\u001b[0;34m(\u001b[0m\u001b[0;34m)\u001b[0m\u001b[0;34m\u001b[0m\u001b[0;34m\u001b[0m\u001b[0m\n",
      "\u001b[0;32m/usr/local/lib/python3.6/dist-packages/tensorflow/python/eager/def_function.py\u001b[0m in \u001b[0;36m__call__\u001b[0;34m(self, *args, **kwds)\u001b[0m\n\u001b[1;32m    778\u001b[0m       \u001b[0;32melse\u001b[0m\u001b[0;34m:\u001b[0m\u001b[0;34m\u001b[0m\u001b[0;34m\u001b[0m\u001b[0m\n\u001b[1;32m    779\u001b[0m         \u001b[0mcompiler\u001b[0m \u001b[0;34m=\u001b[0m \u001b[0;34m\"nonXla\"\u001b[0m\u001b[0;34m\u001b[0m\u001b[0;34m\u001b[0m\u001b[0m\n\u001b[0;32m--> 780\u001b[0;31m         \u001b[0mresult\u001b[0m \u001b[0;34m=\u001b[0m \u001b[0mself\u001b[0m\u001b[0;34m.\u001b[0m\u001b[0m_call\u001b[0m\u001b[0;34m(\u001b[0m\u001b[0;34m*\u001b[0m\u001b[0margs\u001b[0m\u001b[0;34m,\u001b[0m \u001b[0;34m**\u001b[0m\u001b[0mkwds\u001b[0m\u001b[0;34m)\u001b[0m\u001b[0;34m\u001b[0m\u001b[0;34m\u001b[0m\u001b[0m\n\u001b[0m\u001b[1;32m    781\u001b[0m \u001b[0;34m\u001b[0m\u001b[0m\n\u001b[1;32m    782\u001b[0m       \u001b[0mnew_tracing_count\u001b[0m \u001b[0;34m=\u001b[0m \u001b[0mself\u001b[0m\u001b[0;34m.\u001b[0m\u001b[0m_get_tracing_count\u001b[0m\u001b[0;34m(\u001b[0m\u001b[0;34m)\u001b[0m\u001b[0;34m\u001b[0m\u001b[0;34m\u001b[0m\u001b[0m\n",
      "\u001b[0;32m/usr/local/lib/python3.6/dist-packages/tensorflow/python/eager/def_function.py\u001b[0m in \u001b[0;36m_call\u001b[0;34m(self, *args, **kwds)\u001b[0m\n\u001b[1;32m    821\u001b[0m       \u001b[0;31m# This is the first call of __call__, so we have to initialize.\u001b[0m\u001b[0;34m\u001b[0m\u001b[0;34m\u001b[0m\u001b[0;34m\u001b[0m\u001b[0m\n\u001b[1;32m    822\u001b[0m       \u001b[0minitializers\u001b[0m \u001b[0;34m=\u001b[0m \u001b[0;34m[\u001b[0m\u001b[0;34m]\u001b[0m\u001b[0;34m\u001b[0m\u001b[0;34m\u001b[0m\u001b[0m\n\u001b[0;32m--> 823\u001b[0;31m       \u001b[0mself\u001b[0m\u001b[0;34m.\u001b[0m\u001b[0m_initialize\u001b[0m\u001b[0;34m(\u001b[0m\u001b[0margs\u001b[0m\u001b[0;34m,\u001b[0m \u001b[0mkwds\u001b[0m\u001b[0;34m,\u001b[0m \u001b[0madd_initializers_to\u001b[0m\u001b[0;34m=\u001b[0m\u001b[0minitializers\u001b[0m\u001b[0;34m)\u001b[0m\u001b[0;34m\u001b[0m\u001b[0;34m\u001b[0m\u001b[0m\n\u001b[0m\u001b[1;32m    824\u001b[0m     \u001b[0;32mfinally\u001b[0m\u001b[0;34m:\u001b[0m\u001b[0;34m\u001b[0m\u001b[0;34m\u001b[0m\u001b[0m\n\u001b[1;32m    825\u001b[0m       \u001b[0;31m# At this point we know that the initialization is complete (or less\u001b[0m\u001b[0;34m\u001b[0m\u001b[0;34m\u001b[0m\u001b[0;34m\u001b[0m\u001b[0m\n",
      "\u001b[0;32m/usr/local/lib/python3.6/dist-packages/tensorflow/python/eager/def_function.py\u001b[0m in \u001b[0;36m_initialize\u001b[0;34m(self, args, kwds, add_initializers_to)\u001b[0m\n\u001b[1;32m    695\u001b[0m     self._concrete_stateful_fn = (\n\u001b[1;32m    696\u001b[0m         self._stateful_fn._get_concrete_function_internal_garbage_collected(  # pylint: disable=protected-access\n\u001b[0;32m--> 697\u001b[0;31m             *args, **kwds))\n\u001b[0m\u001b[1;32m    698\u001b[0m \u001b[0;34m\u001b[0m\u001b[0m\n\u001b[1;32m    699\u001b[0m     \u001b[0;32mdef\u001b[0m \u001b[0minvalid_creator_scope\u001b[0m\u001b[0;34m(\u001b[0m\u001b[0;34m*\u001b[0m\u001b[0munused_args\u001b[0m\u001b[0;34m,\u001b[0m \u001b[0;34m**\u001b[0m\u001b[0munused_kwds\u001b[0m\u001b[0;34m)\u001b[0m\u001b[0;34m:\u001b[0m\u001b[0;34m\u001b[0m\u001b[0;34m\u001b[0m\u001b[0m\n",
      "\u001b[0;32m/usr/local/lib/python3.6/dist-packages/tensorflow/python/eager/function.py\u001b[0m in \u001b[0;36m_get_concrete_function_internal_garbage_collected\u001b[0;34m(self, *args, **kwargs)\u001b[0m\n\u001b[1;32m   2853\u001b[0m       \u001b[0margs\u001b[0m\u001b[0;34m,\u001b[0m \u001b[0mkwargs\u001b[0m \u001b[0;34m=\u001b[0m \u001b[0;32mNone\u001b[0m\u001b[0;34m,\u001b[0m \u001b[0;32mNone\u001b[0m\u001b[0;34m\u001b[0m\u001b[0;34m\u001b[0m\u001b[0m\n\u001b[1;32m   2854\u001b[0m     \u001b[0;32mwith\u001b[0m \u001b[0mself\u001b[0m\u001b[0;34m.\u001b[0m\u001b[0m_lock\u001b[0m\u001b[0;34m:\u001b[0m\u001b[0;34m\u001b[0m\u001b[0;34m\u001b[0m\u001b[0m\n\u001b[0;32m-> 2855\u001b[0;31m       \u001b[0mgraph_function\u001b[0m\u001b[0;34m,\u001b[0m \u001b[0m_\u001b[0m\u001b[0;34m,\u001b[0m \u001b[0m_\u001b[0m \u001b[0;34m=\u001b[0m \u001b[0mself\u001b[0m\u001b[0;34m.\u001b[0m\u001b[0m_maybe_define_function\u001b[0m\u001b[0;34m(\u001b[0m\u001b[0margs\u001b[0m\u001b[0;34m,\u001b[0m \u001b[0mkwargs\u001b[0m\u001b[0;34m)\u001b[0m\u001b[0;34m\u001b[0m\u001b[0;34m\u001b[0m\u001b[0m\n\u001b[0m\u001b[1;32m   2856\u001b[0m     \u001b[0;32mreturn\u001b[0m \u001b[0mgraph_function\u001b[0m\u001b[0;34m\u001b[0m\u001b[0;34m\u001b[0m\u001b[0m\n\u001b[1;32m   2857\u001b[0m \u001b[0;34m\u001b[0m\u001b[0m\n",
      "\u001b[0;32m/usr/local/lib/python3.6/dist-packages/tensorflow/python/eager/function.py\u001b[0m in \u001b[0;36m_maybe_define_function\u001b[0;34m(self, args, kwargs)\u001b[0m\n\u001b[1;32m   3211\u001b[0m \u001b[0;34m\u001b[0m\u001b[0m\n\u001b[1;32m   3212\u001b[0m       \u001b[0mself\u001b[0m\u001b[0;34m.\u001b[0m\u001b[0m_function_cache\u001b[0m\u001b[0;34m.\u001b[0m\u001b[0mmissed\u001b[0m\u001b[0;34m.\u001b[0m\u001b[0madd\u001b[0m\u001b[0;34m(\u001b[0m\u001b[0mcall_context_key\u001b[0m\u001b[0;34m)\u001b[0m\u001b[0;34m\u001b[0m\u001b[0;34m\u001b[0m\u001b[0m\n\u001b[0;32m-> 3213\u001b[0;31m       \u001b[0mgraph_function\u001b[0m \u001b[0;34m=\u001b[0m \u001b[0mself\u001b[0m\u001b[0;34m.\u001b[0m\u001b[0m_create_graph_function\u001b[0m\u001b[0;34m(\u001b[0m\u001b[0margs\u001b[0m\u001b[0;34m,\u001b[0m \u001b[0mkwargs\u001b[0m\u001b[0;34m)\u001b[0m\u001b[0;34m\u001b[0m\u001b[0;34m\u001b[0m\u001b[0m\n\u001b[0m\u001b[1;32m   3214\u001b[0m       \u001b[0mself\u001b[0m\u001b[0;34m.\u001b[0m\u001b[0m_function_cache\u001b[0m\u001b[0;34m.\u001b[0m\u001b[0mprimary\u001b[0m\u001b[0;34m[\u001b[0m\u001b[0mcache_key\u001b[0m\u001b[0;34m]\u001b[0m \u001b[0;34m=\u001b[0m \u001b[0mgraph_function\u001b[0m\u001b[0;34m\u001b[0m\u001b[0;34m\u001b[0m\u001b[0m\n\u001b[1;32m   3215\u001b[0m       \u001b[0;32mreturn\u001b[0m \u001b[0mgraph_function\u001b[0m\u001b[0;34m,\u001b[0m \u001b[0margs\u001b[0m\u001b[0;34m,\u001b[0m \u001b[0mkwargs\u001b[0m\u001b[0;34m\u001b[0m\u001b[0;34m\u001b[0m\u001b[0m\n",
      "\u001b[0;32m/usr/local/lib/python3.6/dist-packages/tensorflow/python/eager/function.py\u001b[0m in \u001b[0;36m_create_graph_function\u001b[0;34m(self, args, kwargs, override_flat_arg_shapes)\u001b[0m\n\u001b[1;32m   3073\u001b[0m             \u001b[0marg_names\u001b[0m\u001b[0;34m=\u001b[0m\u001b[0marg_names\u001b[0m\u001b[0;34m,\u001b[0m\u001b[0;34m\u001b[0m\u001b[0;34m\u001b[0m\u001b[0m\n\u001b[1;32m   3074\u001b[0m             \u001b[0moverride_flat_arg_shapes\u001b[0m\u001b[0;34m=\u001b[0m\u001b[0moverride_flat_arg_shapes\u001b[0m\u001b[0;34m,\u001b[0m\u001b[0;34m\u001b[0m\u001b[0;34m\u001b[0m\u001b[0m\n\u001b[0;32m-> 3075\u001b[0;31m             capture_by_value=self._capture_by_value),\n\u001b[0m\u001b[1;32m   3076\u001b[0m         \u001b[0mself\u001b[0m\u001b[0;34m.\u001b[0m\u001b[0m_function_attributes\u001b[0m\u001b[0;34m,\u001b[0m\u001b[0;34m\u001b[0m\u001b[0;34m\u001b[0m\u001b[0m\n\u001b[1;32m   3077\u001b[0m         \u001b[0mfunction_spec\u001b[0m\u001b[0;34m=\u001b[0m\u001b[0mself\u001b[0m\u001b[0;34m.\u001b[0m\u001b[0mfunction_spec\u001b[0m\u001b[0;34m,\u001b[0m\u001b[0;34m\u001b[0m\u001b[0;34m\u001b[0m\u001b[0m\n",
      "\u001b[0;32m/usr/local/lib/python3.6/dist-packages/tensorflow/python/framework/func_graph.py\u001b[0m in \u001b[0;36mfunc_graph_from_py_func\u001b[0;34m(name, python_func, args, kwargs, signature, func_graph, autograph, autograph_options, add_control_dependencies, arg_names, op_return_value, collections, capture_by_value, override_flat_arg_shapes)\u001b[0m\n\u001b[1;32m    984\u001b[0m         \u001b[0m_\u001b[0m\u001b[0;34m,\u001b[0m \u001b[0moriginal_func\u001b[0m \u001b[0;34m=\u001b[0m \u001b[0mtf_decorator\u001b[0m\u001b[0;34m.\u001b[0m\u001b[0munwrap\u001b[0m\u001b[0;34m(\u001b[0m\u001b[0mpython_func\u001b[0m\u001b[0;34m)\u001b[0m\u001b[0;34m\u001b[0m\u001b[0;34m\u001b[0m\u001b[0m\n\u001b[1;32m    985\u001b[0m \u001b[0;34m\u001b[0m\u001b[0m\n\u001b[0;32m--> 986\u001b[0;31m       \u001b[0mfunc_outputs\u001b[0m \u001b[0;34m=\u001b[0m \u001b[0mpython_func\u001b[0m\u001b[0;34m(\u001b[0m\u001b[0;34m*\u001b[0m\u001b[0mfunc_args\u001b[0m\u001b[0;34m,\u001b[0m \u001b[0;34m**\u001b[0m\u001b[0mfunc_kwargs\u001b[0m\u001b[0;34m)\u001b[0m\u001b[0;34m\u001b[0m\u001b[0;34m\u001b[0m\u001b[0m\n\u001b[0m\u001b[1;32m    987\u001b[0m \u001b[0;34m\u001b[0m\u001b[0m\n\u001b[1;32m    988\u001b[0m       \u001b[0;31m# invariant: `func_outputs` contains only Tensors, CompositeTensors,\u001b[0m\u001b[0;34m\u001b[0m\u001b[0;34m\u001b[0m\u001b[0;34m\u001b[0m\u001b[0m\n",
      "\u001b[0;32m/usr/local/lib/python3.6/dist-packages/tensorflow/python/eager/def_function.py\u001b[0m in \u001b[0;36mwrapped_fn\u001b[0;34m(*args, **kwds)\u001b[0m\n\u001b[1;32m    598\u001b[0m         \u001b[0;31m# __wrapped__ allows AutoGraph to swap in a converted function. We give\u001b[0m\u001b[0;34m\u001b[0m\u001b[0;34m\u001b[0m\u001b[0;34m\u001b[0m\u001b[0m\n\u001b[1;32m    599\u001b[0m         \u001b[0;31m# the function a weak reference to itself to avoid a reference cycle.\u001b[0m\u001b[0;34m\u001b[0m\u001b[0;34m\u001b[0m\u001b[0;34m\u001b[0m\u001b[0m\n\u001b[0;32m--> 600\u001b[0;31m         \u001b[0;32mreturn\u001b[0m \u001b[0mweak_wrapped_fn\u001b[0m\u001b[0;34m(\u001b[0m\u001b[0;34m)\u001b[0m\u001b[0;34m.\u001b[0m\u001b[0m__wrapped__\u001b[0m\u001b[0;34m(\u001b[0m\u001b[0;34m*\u001b[0m\u001b[0margs\u001b[0m\u001b[0;34m,\u001b[0m \u001b[0;34m**\u001b[0m\u001b[0mkwds\u001b[0m\u001b[0;34m)\u001b[0m\u001b[0;34m\u001b[0m\u001b[0;34m\u001b[0m\u001b[0m\n\u001b[0m\u001b[1;32m    601\u001b[0m     \u001b[0mweak_wrapped_fn\u001b[0m \u001b[0;34m=\u001b[0m \u001b[0mweakref\u001b[0m\u001b[0;34m.\u001b[0m\u001b[0mref\u001b[0m\u001b[0;34m(\u001b[0m\u001b[0mwrapped_fn\u001b[0m\u001b[0;34m)\u001b[0m\u001b[0;34m\u001b[0m\u001b[0;34m\u001b[0m\u001b[0m\n\u001b[1;32m    602\u001b[0m \u001b[0;34m\u001b[0m\u001b[0m\n",
      "\u001b[0;32m/usr/local/lib/python3.6/dist-packages/tensorflow/python/framework/func_graph.py\u001b[0m in \u001b[0;36mwrapper\u001b[0;34m(*args, **kwargs)\u001b[0m\n\u001b[1;32m    971\u001b[0m           \u001b[0;32mexcept\u001b[0m \u001b[0mException\u001b[0m \u001b[0;32mas\u001b[0m \u001b[0me\u001b[0m\u001b[0;34m:\u001b[0m  \u001b[0;31m# pylint:disable=broad-except\u001b[0m\u001b[0;34m\u001b[0m\u001b[0;34m\u001b[0m\u001b[0m\n\u001b[1;32m    972\u001b[0m             \u001b[0;32mif\u001b[0m \u001b[0mhasattr\u001b[0m\u001b[0;34m(\u001b[0m\u001b[0me\u001b[0m\u001b[0;34m,\u001b[0m \u001b[0;34m\"ag_error_metadata\"\u001b[0m\u001b[0;34m)\u001b[0m\u001b[0;34m:\u001b[0m\u001b[0;34m\u001b[0m\u001b[0;34m\u001b[0m\u001b[0m\n\u001b[0;32m--> 973\u001b[0;31m               \u001b[0;32mraise\u001b[0m \u001b[0me\u001b[0m\u001b[0;34m.\u001b[0m\u001b[0mag_error_metadata\u001b[0m\u001b[0;34m.\u001b[0m\u001b[0mto_exception\u001b[0m\u001b[0;34m(\u001b[0m\u001b[0me\u001b[0m\u001b[0;34m)\u001b[0m\u001b[0;34m\u001b[0m\u001b[0;34m\u001b[0m\u001b[0m\n\u001b[0m\u001b[1;32m    974\u001b[0m             \u001b[0;32melse\u001b[0m\u001b[0;34m:\u001b[0m\u001b[0;34m\u001b[0m\u001b[0;34m\u001b[0m\u001b[0m\n\u001b[1;32m    975\u001b[0m               \u001b[0;32mraise\u001b[0m\u001b[0;34m\u001b[0m\u001b[0;34m\u001b[0m\u001b[0m\n",
      "\u001b[0;31mValueError\u001b[0m: in user code:\n\n    /usr/local/lib/python3.6/dist-packages/tensorflow/python/keras/engine/training.py:806 train_function  *\n        return step_function(self, iterator)\n    /usr/local/lib/python3.6/dist-packages/tensorflow/python/keras/engine/training.py:796 step_function  **\n        outputs = model.distribute_strategy.run(run_step, args=(data,))\n    /usr/local/lib/python3.6/dist-packages/tensorflow/python/distribute/distribute_lib.py:1211 run\n        return self._extended.call_for_each_replica(fn, args=args, kwargs=kwargs)\n    /usr/local/lib/python3.6/dist-packages/tensorflow/python/distribute/distribute_lib.py:2585 call_for_each_replica\n        return self._call_for_each_replica(fn, args, kwargs)\n    /usr/local/lib/python3.6/dist-packages/tensorflow/python/distribute/mirrored_strategy.py:585 _call_for_each_replica\n        self._container_strategy(), fn, args, kwargs)\n    /usr/local/lib/python3.6/dist-packages/tensorflow/python/distribute/mirrored_run.py:96 call_for_each_replica\n        return _call_for_each_replica(strategy, fn, args, kwargs)\n    /usr/local/lib/python3.6/dist-packages/tensorflow/python/distribute/mirrored_run.py:237 _call_for_each_replica\n        coord.join(threads)\n    /usr/local/lib/python3.6/dist-packages/tensorflow/python/training/coordinator.py:389 join\n        six.reraise(*self._exc_info_to_raise)\n    /usr/local/lib/python3.6/dist-packages/six.py:703 reraise\n        raise value\n    /usr/local/lib/python3.6/dist-packages/tensorflow/python/training/coordinator.py:297 stop_on_exception\n        yield\n    /usr/local/lib/python3.6/dist-packages/tensorflow/python/distribute/mirrored_run.py:323 run\n        self.main_result = self.main_fn(*self.main_args, **self.main_kwargs)\n    /usr/local/lib/python3.6/dist-packages/tensorflow/python/keras/engine/training.py:789 run_step  **\n        outputs = model.train_step(data)\n    /usr/local/lib/python3.6/dist-packages/tensorflow/python/keras/engine/training.py:747 train_step\n        y_pred = self(x, training=True)\n    /usr/local/lib/python3.6/dist-packages/tensorflow/python/keras/engine/base_layer.py:985 __call__\n        outputs = call_fn(inputs, *args, **kwargs)\n    /usr/local/lib/python3.6/dist-packages/tensorflow/python/keras/engine/sequential.py:386 call\n        outputs = layer(inputs, **kwargs)\n    /usr/local/lib/python3.6/dist-packages/tensorflow/python/keras/engine/base_layer.py:985 __call__\n        outputs = call_fn(inputs, *args, **kwargs)\n    /usr/local/lib/python3.6/dist-packages/tensorflow/python/keras/layers/pooling.py:80 call\n        data_format=self.data_format)\n    /usr/local/lib/python3.6/dist-packages/tensorflow/python/util/dispatch.py:201 wrapper\n        return target(*args, **kwargs)\n    /usr/local/lib/python3.6/dist-packages/tensorflow/python/keras/backend.py:5519 pool2d\n        x, pool_size, strides, padding=padding, data_format=tf_data_format)\n    /usr/local/lib/python3.6/dist-packages/tensorflow/python/util/dispatch.py:201 wrapper\n        return target(*args, **kwargs)\n    /usr/local/lib/python3.6/dist-packages/tensorflow/python/ops/nn_ops.py:4520 max_pool\n        name=name)\n    /usr/local/lib/python3.6/dist-packages/tensorflow/python/ops/gen_nn_ops.py:5269 max_pool\n        data_format=data_format, name=name)\n    /usr/local/lib/python3.6/dist-packages/tensorflow/python/framework/op_def_library.py:744 _apply_op_helper\n        attrs=attr_protos, op_def=op_def)\n    /usr/local/lib/python3.6/dist-packages/tensorflow/python/framework/func_graph.py:593 _create_op_internal\n        compute_device)\n    /usr/local/lib/python3.6/dist-packages/tensorflow/python/framework/ops.py:3485 _create_op_internal\n        op_def=op_def)\n    /usr/local/lib/python3.6/dist-packages/tensorflow/python/framework/ops.py:1975 __init__\n        control_input_ops, op_def)\n    /usr/local/lib/python3.6/dist-packages/tensorflow/python/framework/ops.py:1815 _create_c_op\n        raise ValueError(str(e))\n\n    ValueError: Negative dimension size caused by subtracting 2 from 1 for '{{node sequential_4/max_pooling1d_19/MaxPool}} = MaxPool[T=DT_FLOAT, data_format=\"NHWC\", ksize=[1, 2, 1, 1], padding=\"VALID\", strides=[1, 2, 1, 1]](sequential_4/max_pooling1d_19/ExpandDims)' with input shapes: [?,1,1,128].\n"
     ]
    }
   ],
   "source": [
    "from keras.models import Sequential\n",
    "from keras.models import Model, load_model\n",
    "from keras.optimizers import Adam as Adam\n",
    "from keras.layers import Dense, Conv1D, MaxPooling1D, GlobalMaxPool1D, BatchNormalization, Dropout, Activation\n",
    "from keras.layers import GlobalAveragePooling1D, Flatten, SeparableConv1D, LeakyReLU\n",
    "from keras.callbacks import ModelCheckpoint, EarlyStopping\n",
    "from sklearn.metrics import auc, classification_report, confusion_matrix, accuracy_score, roc_curve, roc_auc_score, f1_score, precision_recall_curve\n",
    "import tensorflow as tf\n",
    "import os, pickle\n",
    "from keras import backend as K\n",
    "from keras import regularizers\n",
    "from keras.initializers import he_normal, GlorotNormal\n",
    "\n",
    "#error_batch=512,c1=256,c2=32,c3=32,c4=64,c5=128,filt1=5,filt2=3,filt3=7,filt4=9,filt5=5,str1=4,str2=4,str3=3,str4=4,\n",
    "#str5=4,conv_double=False,globalpool=ave,dropout=0.1,dnodes=16,dropout=0\n",
    "\n",
    "# test_setting\n",
    "num_l1, num_l2, num_l3, num_l4, kernel_l1, kernel_l2, kernel_l3, kernel_l4 = 256,32,32,64,5,3,7,9\n",
    "dense_node, dropout_cnn, dropout_fc, globalpool_opt, batch_size, conv_double = 16,0.1,0,'ave',512,False\n",
    "stride_l1, stride_l2, stride_l3, stride_l4, stride_l5, num_l5, kernel_l5 = 4,4,3,4,4,128,5\n",
    "pool_size=2\n",
    "learning_rate=0.001\n",
    "\n",
    "# total conv layers of the model\n",
    "n_conv = 5\n",
    "\n",
    "if n_conv==2:\n",
    "    num_l3,kernel_l3,stride_l3 = 0,0,0\n",
    "    num_l4,kernel_l4,stride_l4 = 0,0,0\n",
    "    num_l5,kernel_l5,stride_l5 = 0,0,0\n",
    "\n",
    "if n_conv==3:\n",
    "    num_l4,kernel_l4,stride_l4 = 0,0,0\n",
    "    num_l5,kernel_l5,stride_l5 = 0,0,0\n",
    "\n",
    "\n",
    "\n",
    "# GPU 설정\n",
    "strategy = tf.distribute.MirroredStrategy(devices=[\"/gpu:0\"])\n",
    "with strategy.scope():\n",
    "\n",
    "    model = Sequential()\n",
    "\n",
    "    act='relu'\n",
    "\n",
    "    # c1 layer\n",
    "    if conv_double:\n",
    "        model.add(Conv1D(filters=num_l1, kernel_size=kernel_l1, strides=stride_l1, padding='same'))\n",
    "    model.add(Conv1D(filters=num_l1, kernel_size=kernel_l1, strides=stride_l1, padding='same', activation=act))\n",
    "    model.add(BatchNormalization())\n",
    "    model.add(MaxPooling1D(pool_size=pool_size))\n",
    "\n",
    "\n",
    "    # c2 layer\n",
    "    if num_l1 == 512:\n",
    "        model.add(Conv1D(filters=128,kernel_size=1,padding='same'))\n",
    "    if conv_double:\n",
    "        model.add(Conv1D(filters=num_l2, kernel_size=kernel_l2, strides=stride_l2, padding='same'))\n",
    "    model.add(Conv1D(filters=num_l2, kernel_size=kernel_l2, strides=stride_l2, padding='same', activation=act))\n",
    "    model.add(BatchNormalization())\n",
    "    model.add(MaxPooling1D(pool_size=pool_size))\n",
    "\n",
    "\n",
    "    # c3 layer\n",
    "    if n_conv>2:\n",
    "        if num_l2 == 512:\n",
    "            model.add(Conv1D(filters=128,kernel_size=1,padding='same'))\n",
    "        if conv_double:\n",
    "            model.add(Conv1D(filters=num_l3, kernel_size=kernel_l3, strides=stride_l3, padding='same'))\n",
    "        model.add(Conv1D(filters=num_l3, kernel_size=kernel_l3, strides=stride_l3, padding='same', activation=act))\n",
    "        model.add(BatchNormalization())\n",
    "        model.add(MaxPooling1D(pool_size=pool_size))\n",
    "\n",
    "\n",
    "    # c4 layer\n",
    "    if n_conv>3:\n",
    "        if num_l3 == 512:\n",
    "            model.add(Conv1D(filters=128,kernel_size=1,padding='same'))\n",
    "        if conv_double:\n",
    "            model.add(Conv1D(filters=num_l4, kernel_size=kernel_l4, strides=stride_l4, padding='same'))\n",
    "        model.add(Conv1D(filters=num_l4, kernel_size=kernel_l4, strides=stride_l4, padding='same', activation=act))\n",
    "        model.add(BatchNormalization())\n",
    "        model.add(MaxPooling1D(pool_size=pool_size))\n",
    "\n",
    "    # c5 layer\n",
    "    if n_conv>4:\n",
    "        if num_l4 == 512:\n",
    "            model.add(Conv1D(filters=128,kernel_size=1,padding='same'))\n",
    "        if conv_double:\n",
    "            model.add(Conv1D(filters=num_l5, kernel_size=kernel_l5, strides=stride_l5, padding='same'))\n",
    "        model.add(Conv1D(filters=num_l5, kernel_size=kernel_l5, strides=stride_l5,padding='same', activation=act))\n",
    "        model.add(BatchNormalization())\n",
    "        model.add(MaxPooling1D(pool_size=pool_size))            \n",
    "\n",
    "\n",
    "\n",
    "    # global이냐 flatten이냐는 따로 모델 나눠야 할듯\n",
    "    if globalpool_opt == 'max':\n",
    "        model.add(GlobalMaxPool1D())\n",
    "    elif globalpool_opt == 'ave':\n",
    "        model.add(GlobalAveragePooling1D())\n",
    "\n",
    "\n",
    "    if dense_node != 0:\n",
    "        model.add(Dropout(dropout_cnn))\n",
    "        model.add(Dense(dense_node, activation='tanh'))\n",
    "    model.add(Dropout(dropout_fc))\n",
    "    model.add(Dense(1, activation='sigmoid'))\n",
    "\n",
    "    \n",
    "    # model 학습 설정\n",
    "    model.compile(loss='binary_crossentropy', optimizer=Adam(lr=learning_rate), metrics=[\"acc\", tf.keras.metrics.AUC()])\n",
    "    hist = model.fit(x_train, y_train_bin, validation_data = (x_val, y_val_bin, val_w_samp3), sample_weight=train_w_samp3, epochs=100, batch_size=batch_size, #class_weight={0:1, 1:3}, \n",
    "                            callbacks=[ModelCheckpoint(monitor='val_loss', filepath=None, verbose=1, save_best_only=True),\n",
    "                                        EarlyStopping(monitor='val_loss', patience=5, verbose=0, mode='auto')])\n"
   ]
  },
  {
   "cell_type": "markdown",
   "metadata": {},
   "source": [
    "### Inception"
   ]
  },
  {
   "cell_type": "code",
   "execution_count": 13,
   "metadata": {
    "ExecuteTime": {
     "end_time": "2020-12-08T04:20:40.869899Z",
     "start_time": "2020-12-08T04:20:40.842018Z"
    }
   },
   "outputs": [],
   "source": [
    "from keras.models import Sequential\n",
    "from keras.models import Model, load_model\n",
    "from keras.optimizers import Adam as Adam\n",
    "from keras.layers import Dense, Conv1D, MaxPooling1D, GlobalMaxPool1D, BatchNormalization, Dropout, Activation\n",
    "from keras.layers import GlobalAveragePooling1D, Flatten, SeparableConv1D, AveragePooling1D, Input, concatenate, add, LSTM, Average\n",
    "from keras.callbacks import ModelCheckpoint, EarlyStopping\n",
    "from sklearn.metrics import auc, classification_report, confusion_matrix, accuracy_score, roc_curve, roc_auc_score, f1_score, precision_recall_curve\n",
    "import tensorflow as tf\n",
    "import os, pickle\n",
    "from keras import backend as K\n",
    "\n",
    "\n",
    "def inception(inp, nfilters=32):\n",
    "    # 각각은 길이가 줄어들지 않는다\n",
    "\n",
    "    # 1 conv\n",
    "    c1 = Conv1D(filters=nfilters, kernel_size=1, kernel_initializer='glorot_uniform', padding='same', activation='relu')(inp)\n",
    "\n",
    "    # 3 reduce\n",
    "    c2 = Conv1D(filters=nfilters, kernel_size=1, kernel_initializer='glorot_uniform', padding='same', activation='relu')(inp)\n",
    "    # 3 conv\n",
    "    c2 = Conv1D(filters=nfilters, kernel_size=3, kernel_initializer='glorot_uniform', padding='same', activation='relu')(c2)\n",
    "\n",
    "    # 5 reduce\n",
    "    c3 = Conv1D(filters=nfilters, kernel_size=1, kernel_initializer='glorot_uniform', padding='same', activation='relu')(inp)\n",
    "    # 5 conv\n",
    "    c3 = Conv1D(filters=nfilters, kernel_size=5, kernel_initializer='glorot_uniform', padding='same', activation='relu')(c3)\n",
    "\n",
    "    # pooling\n",
    "    m1 = MaxPooling1D(pool_size=3, strides=1, padding='same')(inp)\n",
    "    # pooling proj\n",
    "    m1 = Conv1D(filters=nfilters, kernel_size=1, kernel_initializer='glorot_uniform', padding='same', activation='relu')(m1)\n",
    "\n",
    "    return concatenate([c1, c2, c3, m1], axis=-1)\n",
    "\n",
    "\n",
    "def inception2(inp, nfilters=32):\n",
    "    # 각각은 길이가 줄어들지 않는다\n",
    "\n",
    "    # 3 conv\n",
    "    c1 = Conv1D(filters=nfilters, kernel_size=3, strides=1, kernel_initializer='glorot_uniform', padding='same', activation='relu')(inp)\n",
    "\n",
    "    # 5 conv \n",
    "    c2 = Conv1D(filters=nfilters, kernel_size=5, kernel_initializer='glorot_uniform', padding='same', activation='relu')(inp)\n",
    "\n",
    "    # 7 conv\n",
    "    c3 = Conv1D(filters=nfilters, kernel_size=7, kernel_initializer='glorot_uniform', padding='same', activation='relu')(inp)\n",
    "\n",
    "    # 15 conv\n",
    "    c4 = Conv1D(filters=nfilters, kernel_size=15, kernel_initializer='glorot_uniform', padding='same', activation='relu')(inp)\n",
    "    \n",
    "    \n",
    "    # pooling\n",
    "    m1 = MaxPooling1D(pool_size=3, strides=1, padding='same')(inp)\n",
    "    # pooling proj\n",
    "    m1 = Conv1D(filters=nfilters, kernel_size=1, kernel_initializer='glorot_uniform', padding='same', activation='relu')(m1)\n",
    "\n",
    "    return concatenate([c1, c2, c3, c4, m1], axis=-1)\n",
    "\n"
   ]
  },
  {
   "cell_type": "code",
   "execution_count": 22,
   "metadata": {
    "ExecuteTime": {
     "end_time": "2020-12-08T06:22:59.822168Z",
     "start_time": "2020-12-08T05:46:40.425489Z"
    },
    "scrolled": true
   },
   "outputs": [
    {
     "name": "stdout",
     "output_type": "stream",
     "text": [
      "INFO:tensorflow:Using MirroredStrategy with devices ('/job:localhost/replica:0/task:0/device:GPU:0',)\n",
      "Epoch 1/100\n",
      "154/154 [==============================] - ETA: 0s - loss: 1.9526 - acc: 0.6091 - auc_7: 0.5204\n",
      "Epoch 00001: val_loss improved from inf to 1.89822, saving model to output/preprocess3/input3-2_PPG+ECG/Inception_model_bin_sampleweight_simpleTrue_batch512_conv0_k3x2_nfilter32_k3x2_nlayer2_drop0.2_dense0_drop0.2/weights.hdf5\n",
      "154/154 [==============================] - 50s 325ms/step - loss: 1.9526 - acc: 0.6091 - auc_7: 0.5204 - val_loss: 1.8982 - val_acc: 0.6264 - val_auc_7: 0.5446\n",
      "Epoch 2/100\n",
      "154/154 [==============================] - ETA: 0s - loss: 1.8814 - acc: 0.6160 - auc_7: 0.5749\n",
      "Epoch 00002: val_loss did not improve from 1.89822\n",
      "154/154 [==============================] - 44s 286ms/step - loss: 1.8814 - acc: 0.6160 - auc_7: 0.5749 - val_loss: 1.9005 - val_acc: 0.6204 - val_auc_7: 0.5648\n",
      "Epoch 3/100\n",
      "154/154 [==============================] - ETA: 0s - loss: 1.8216 - acc: 0.6299 - auc_7: 0.6446\n",
      "Epoch 00003: val_loss improved from 1.89822 to 1.80685, saving model to output/preprocess3/input3-2_PPG+ECG/Inception_model_bin_sampleweight_simpleTrue_batch512_conv0_k3x2_nfilter32_k3x2_nlayer2_drop0.2_dense0_drop0.2/weights.hdf5\n",
      "154/154 [==============================] - 46s 301ms/step - loss: 1.8216 - acc: 0.6299 - auc_7: 0.6446 - val_loss: 1.8069 - val_acc: 0.6565 - val_auc_7: 0.6648\n",
      "Epoch 4/100\n",
      "154/154 [==============================] - ETA: 0s - loss: 1.7791 - acc: 0.6659 - auc_7: 0.6695\n",
      "Epoch 00004: val_loss improved from 1.80685 to 1.75551, saving model to output/preprocess3/input3-2_PPG+ECG/Inception_model_bin_sampleweight_simpleTrue_batch512_conv0_k3x2_nfilter32_k3x2_nlayer2_drop0.2_dense0_drop0.2/weights.hdf5\n",
      "154/154 [==============================] - 47s 303ms/step - loss: 1.7791 - acc: 0.6659 - auc_7: 0.6695 - val_loss: 1.7555 - val_acc: 0.6819 - val_auc_7: 0.6992\n",
      "Epoch 5/100\n",
      "154/154 [==============================] - ETA: 0s - loss: 1.7629 - acc: 0.6734 - auc_7: 0.6788\n",
      "Epoch 00005: val_loss did not improve from 1.75551\n",
      "154/154 [==============================] - 49s 317ms/step - loss: 1.7629 - acc: 0.6734 - auc_7: 0.6788 - val_loss: 1.7771 - val_acc: 0.6830 - val_auc_7: 0.6827\n",
      "Epoch 6/100\n",
      "154/154 [==============================] - ETA: 0s - loss: 1.7416 - acc: 0.6839 - auc_7: 0.6897\n",
      "Epoch 00006: val_loss improved from 1.75551 to 1.73063, saving model to output/preprocess3/input3-2_PPG+ECG/Inception_model_bin_sampleweight_simpleTrue_batch512_conv0_k3x2_nfilter32_k3x2_nlayer2_drop0.2_dense0_drop0.2/weights.hdf5\n",
      "154/154 [==============================] - 44s 286ms/step - loss: 1.7416 - acc: 0.6839 - auc_7: 0.6897 - val_loss: 1.7306 - val_acc: 0.6992 - val_auc_7: 0.7106\n",
      "Epoch 7/100\n",
      "154/154 [==============================] - ETA: 0s - loss: 1.7220 - acc: 0.6937 - auc_7: 0.7001\n",
      "Epoch 00007: val_loss improved from 1.73063 to 1.70403, saving model to output/preprocess3/input3-2_PPG+ECG/Inception_model_bin_sampleweight_simpleTrue_batch512_conv0_k3x2_nfilter32_k3x2_nlayer2_drop0.2_dense0_drop0.2/weights.hdf5\n",
      "154/154 [==============================] - 42s 276ms/step - loss: 1.7220 - acc: 0.6937 - auc_7: 0.7001 - val_loss: 1.7040 - val_acc: 0.6998 - val_auc_7: 0.7179\n",
      "Epoch 8/100\n",
      "154/154 [==============================] - ETA: 0s - loss: 1.7079 - acc: 0.7001 - auc_7: 0.7065\n",
      "Epoch 00008: val_loss improved from 1.70403 to 1.68279, saving model to output/preprocess3/input3-2_PPG+ECG/Inception_model_bin_sampleweight_simpleTrue_batch512_conv0_k3x2_nfilter32_k3x2_nlayer2_drop0.2_dense0_drop0.2/weights.hdf5\n",
      "154/154 [==============================] - 43s 278ms/step - loss: 1.7079 - acc: 0.7001 - auc_7: 0.7065 - val_loss: 1.6828 - val_acc: 0.7120 - val_auc_7: 0.7261\n",
      "Epoch 9/100\n",
      "154/154 [==============================] - ETA: 0s - loss: 1.6936 - acc: 0.7064 - auc_7: 0.7119\n",
      "Epoch 00009: val_loss did not improve from 1.68279\n",
      "154/154 [==============================] - 46s 296ms/step - loss: 1.6936 - acc: 0.7064 - auc_7: 0.7119 - val_loss: 1.7030 - val_acc: 0.7025 - val_auc_7: 0.7198\n",
      "Epoch 10/100\n",
      "154/154 [==============================] - ETA: 0s - loss: 1.6804 - acc: 0.7130 - auc_7: 0.7175\n",
      "Epoch 00010: val_loss improved from 1.68279 to 1.67160, saving model to output/preprocess3/input3-2_PPG+ECG/Inception_model_bin_sampleweight_simpleTrue_batch512_conv0_k3x2_nfilter32_k3x2_nlayer2_drop0.2_dense0_drop0.2/weights.hdf5\n",
      "154/154 [==============================] - 47s 305ms/step - loss: 1.6804 - acc: 0.7130 - auc_7: 0.7175 - val_loss: 1.6716 - val_acc: 0.7392 - val_auc_7: 0.7290\n",
      "Epoch 11/100\n",
      "154/154 [==============================] - ETA: 0s - loss: 1.6739 - acc: 0.7135 - auc_7: 0.7190\n",
      "Epoch 00011: val_loss did not improve from 1.67160\n",
      "154/154 [==============================] - 47s 305ms/step - loss: 1.6739 - acc: 0.7135 - auc_7: 0.7190 - val_loss: 1.6903 - val_acc: 0.7324 - val_auc_7: 0.7228\n",
      "Epoch 12/100\n",
      "154/154 [==============================] - ETA: 0s - loss: 1.6626 - acc: 0.7166 - auc_7: 0.7225\n",
      "Epoch 00012: val_loss improved from 1.67160 to 1.65057, saving model to output/preprocess3/input3-2_PPG+ECG/Inception_model_bin_sampleweight_simpleTrue_batch512_conv0_k3x2_nfilter32_k3x2_nlayer2_drop0.2_dense0_drop0.2/weights.hdf5\n",
      "154/154 [==============================] - 47s 304ms/step - loss: 1.6626 - acc: 0.7166 - auc_7: 0.7225 - val_loss: 1.6506 - val_acc: 0.7358 - val_auc_7: 0.7288\n",
      "Epoch 13/100\n",
      "154/154 [==============================] - ETA: 0s - loss: 1.6494 - acc: 0.7188 - auc_7: 0.7257\n",
      "Epoch 00013: val_loss improved from 1.65057 to 1.63185, saving model to output/preprocess3/input3-2_PPG+ECG/Inception_model_bin_sampleweight_simpleTrue_batch512_conv0_k3x2_nfilter32_k3x2_nlayer2_drop0.2_dense0_drop0.2/weights.hdf5\n",
      "154/154 [==============================] - 45s 294ms/step - loss: 1.6494 - acc: 0.7188 - auc_7: 0.7257 - val_loss: 1.6318 - val_acc: 0.7531 - val_auc_7: 0.7350\n",
      "Epoch 14/100\n",
      "154/154 [==============================] - ETA: 0s - loss: 1.6389 - acc: 0.7216 - auc_7: 0.7284\n",
      "Epoch 00014: val_loss did not improve from 1.63185\n",
      "154/154 [==============================] - 45s 293ms/step - loss: 1.6389 - acc: 0.7216 - auc_7: 0.7284 - val_loss: 1.6445 - val_acc: 0.7291 - val_auc_7: 0.7274\n",
      "Epoch 15/100\n",
      "154/154 [==============================] - ETA: 0s - loss: 1.6388 - acc: 0.7204 - auc_7: 0.7279\n",
      "Epoch 00015: val_loss did not improve from 1.63185\n",
      "154/154 [==============================] - 44s 284ms/step - loss: 1.6388 - acc: 0.7204 - auc_7: 0.7279 - val_loss: 1.6348 - val_acc: 0.7329 - val_auc_7: 0.7288\n",
      "Epoch 16/100\n",
      "154/154 [==============================] - ETA: 0s - loss: 1.6278 - acc: 0.7228 - auc_7: 0.7310\n",
      "Epoch 00016: val_loss did not improve from 1.63185\n",
      "154/154 [==============================] - 42s 271ms/step - loss: 1.6278 - acc: 0.7228 - auc_7: 0.7310 - val_loss: 1.6335 - val_acc: 0.7303 - val_auc_7: 0.7265\n",
      "Epoch 17/100\n",
      "154/154 [==============================] - ETA: 0s - loss: 1.6189 - acc: 0.7245 - auc_7: 0.7334\n",
      "Epoch 00017: val_loss improved from 1.63185 to 1.62711, saving model to output/preprocess3/input3-2_PPG+ECG/Inception_model_bin_sampleweight_simpleTrue_batch512_conv0_k3x2_nfilter32_k3x2_nlayer2_drop0.2_dense0_drop0.2/weights.hdf5\n",
      "154/154 [==============================] - 42s 272ms/step - loss: 1.6189 - acc: 0.7245 - auc_7: 0.7334 - val_loss: 1.6271 - val_acc: 0.7372 - val_auc_7: 0.7332\n",
      "Epoch 18/100\n",
      "154/154 [==============================] - ETA: 0s - loss: 1.6138 - acc: 0.7249 - auc_7: 0.7347\n",
      "Epoch 00018: val_loss improved from 1.62711 to 1.61324, saving model to output/preprocess3/input3-2_PPG+ECG/Inception_model_bin_sampleweight_simpleTrue_batch512_conv0_k3x2_nfilter32_k3x2_nlayer2_drop0.2_dense0_drop0.2/weights.hdf5\n",
      "154/154 [==============================] - 42s 272ms/step - loss: 1.6138 - acc: 0.7249 - auc_7: 0.7347 - val_loss: 1.6132 - val_acc: 0.7299 - val_auc_7: 0.7364\n",
      "Epoch 19/100\n",
      "154/154 [==============================] - ETA: 0s - loss: 1.6071 - acc: 0.7252 - auc_7: 0.7367\n",
      "Epoch 00019: val_loss did not improve from 1.61324\n",
      "154/154 [==============================] - 42s 271ms/step - loss: 1.6071 - acc: 0.7252 - auc_7: 0.7367 - val_loss: 1.6406 - val_acc: 0.7346 - val_auc_7: 0.7197\n",
      "Epoch 20/100\n",
      "154/154 [==============================] - ETA: 0s - loss: 1.5967 - acc: 0.7287 - auc_7: 0.7388\n",
      "Epoch 00020: val_loss did not improve from 1.61324\n",
      "154/154 [==============================] - 42s 271ms/step - loss: 1.5967 - acc: 0.7287 - auc_7: 0.7388 - val_loss: 1.6662 - val_acc: 0.7259 - val_auc_7: 0.7146\n",
      "Epoch 21/100\n",
      "154/154 [==============================] - ETA: 0s - loss: 1.5943 - acc: 0.7283 - auc_7: 0.7389\n",
      "Epoch 00021: val_loss did not improve from 1.61324\n",
      "154/154 [==============================] - 42s 271ms/step - loss: 1.5943 - acc: 0.7283 - auc_7: 0.7389 - val_loss: 1.6766 - val_acc: 0.7108 - val_auc_7: 0.7123\n",
      "Epoch 22/100\n",
      "154/154 [==============================] - ETA: 0s - loss: 1.5902 - acc: 0.7294 - auc_7: 0.7409\n",
      "Epoch 00022: val_loss did not improve from 1.61324\n",
      "154/154 [==============================] - 42s 270ms/step - loss: 1.5902 - acc: 0.7294 - auc_7: 0.7409 - val_loss: 1.6196 - val_acc: 0.7441 - val_auc_7: 0.7270\n",
      "Epoch 23/100\n",
      "154/154 [==============================] - ETA: 0s - loss: 1.5759 - acc: 0.7319 - auc_7: 0.7455\n",
      "Epoch 00023: val_loss improved from 1.61324 to 1.59440, saving model to output/preprocess3/input3-2_PPG+ECG/Inception_model_bin_sampleweight_simpleTrue_batch512_conv0_k3x2_nfilter32_k3x2_nlayer2_drop0.2_dense0_drop0.2/weights.hdf5\n",
      "154/154 [==============================] - 42s 271ms/step - loss: 1.5759 - acc: 0.7319 - auc_7: 0.7455 - val_loss: 1.5944 - val_acc: 0.7469 - val_auc_7: 0.7389\n",
      "Epoch 24/100\n",
      "154/154 [==============================] - ETA: 0s - loss: 1.5685 - acc: 0.7352 - auc_7: 0.7475\n",
      "Epoch 00024: val_loss did not improve from 1.59440\n",
      "154/154 [==============================] - 42s 271ms/step - loss: 1.5685 - acc: 0.7352 - auc_7: 0.7475 - val_loss: 1.5975 - val_acc: 0.7480 - val_auc_7: 0.7386\n",
      "Epoch 25/100\n",
      "154/154 [==============================] - ETA: 0s - loss: 1.5609 - acc: 0.7359 - auc_7: 0.7485\n",
      "Epoch 00025: val_loss did not improve from 1.59440\n",
      "154/154 [==============================] - 42s 271ms/step - loss: 1.5609 - acc: 0.7359 - auc_7: 0.7485 - val_loss: 1.6071 - val_acc: 0.7469 - val_auc_7: 0.7330\n",
      "Epoch 26/100\n",
      "154/154 [==============================] - ETA: 0s - loss: 1.5541 - acc: 0.7367 - auc_7: 0.7519\n",
      "Epoch 00026: val_loss improved from 1.59440 to 1.59319, saving model to output/preprocess3/input3-2_PPG+ECG/Inception_model_bin_sampleweight_simpleTrue_batch512_conv0_k3x2_nfilter32_k3x2_nlayer2_drop0.2_dense0_drop0.2/weights.hdf5\n",
      "154/154 [==============================] - 42s 271ms/step - loss: 1.5541 - acc: 0.7367 - auc_7: 0.7519 - val_loss: 1.5932 - val_acc: 0.7522 - val_auc_7: 0.7351\n",
      "Epoch 27/100\n",
      "154/154 [==============================] - ETA: 0s - loss: 1.5408 - acc: 0.7409 - auc_7: 0.7551\n",
      "Epoch 00027: val_loss did not improve from 1.59319\n",
      "154/154 [==============================] - 42s 271ms/step - loss: 1.5408 - acc: 0.7409 - auc_7: 0.7551 - val_loss: 1.6038 - val_acc: 0.7561 - val_auc_7: 0.7324\n",
      "Epoch 28/100\n",
      "154/154 [==============================] - ETA: 0s - loss: 1.5302 - acc: 0.7442 - auc_7: 0.7580\n",
      "Epoch 00028: val_loss improved from 1.59319 to 1.57835, saving model to output/preprocess3/input3-2_PPG+ECG/Inception_model_bin_sampleweight_simpleTrue_batch512_conv0_k3x2_nfilter32_k3x2_nlayer2_drop0.2_dense0_drop0.2/weights.hdf5\n",
      "154/154 [==============================] - 42s 271ms/step - loss: 1.5302 - acc: 0.7442 - auc_7: 0.7580 - val_loss: 1.5784 - val_acc: 0.7530 - val_auc_7: 0.7408\n",
      "Epoch 29/100\n",
      "154/154 [==============================] - ETA: 0s - loss: 1.5205 - acc: 0.7457 - auc_7: 0.7611\n",
      "Epoch 00029: val_loss did not improve from 1.57835\n",
      "154/154 [==============================] - 42s 271ms/step - loss: 1.5205 - acc: 0.7457 - auc_7: 0.7611 - val_loss: 1.6073 - val_acc: 0.7347 - val_auc_7: 0.7243\n",
      "Epoch 30/100\n",
      "154/154 [==============================] - ETA: 0s - loss: 1.5141 - acc: 0.7472 - auc_7: 0.7630\n",
      "Epoch 00030: val_loss improved from 1.57835 to 1.54463, saving model to output/preprocess3/input3-2_PPG+ECG/Inception_model_bin_sampleweight_simpleTrue_batch512_conv0_k3x2_nfilter32_k3x2_nlayer2_drop0.2_dense0_drop0.2/weights.hdf5\n",
      "154/154 [==============================] - 42s 271ms/step - loss: 1.5141 - acc: 0.7472 - auc_7: 0.7630 - val_loss: 1.5446 - val_acc: 0.7657 - val_auc_7: 0.7471\n",
      "Epoch 31/100\n",
      "154/154 [==============================] - ETA: 0s - loss: 1.4944 - acc: 0.7514 - auc_7: 0.7674\n",
      "Epoch 00031: val_loss did not improve from 1.54463\n",
      "154/154 [==============================] - 42s 271ms/step - loss: 1.4944 - acc: 0.7514 - auc_7: 0.7674 - val_loss: 1.5576 - val_acc: 0.7608 - val_auc_7: 0.7498\n",
      "Epoch 32/100\n",
      "154/154 [==============================] - ETA: 0s - loss: 1.4834 - acc: 0.7540 - auc_7: 0.7713\n",
      "Epoch 00032: val_loss improved from 1.54463 to 1.53923, saving model to output/preprocess3/input3-2_PPG+ECG/Inception_model_bin_sampleweight_simpleTrue_batch512_conv0_k3x2_nfilter32_k3x2_nlayer2_drop0.2_dense0_drop0.2/weights.hdf5\n",
      "154/154 [==============================] - 42s 271ms/step - loss: 1.4834 - acc: 0.7540 - auc_7: 0.7713 - val_loss: 1.5392 - val_acc: 0.7679 - val_auc_7: 0.7481\n",
      "Epoch 33/100\n",
      "154/154 [==============================] - ETA: 0s - loss: 1.4682 - acc: 0.7560 - auc_7: 0.7735\n",
      "Epoch 00033: val_loss did not improve from 1.53923\n",
      "154/154 [==============================] - 42s 271ms/step - loss: 1.4682 - acc: 0.7560 - auc_7: 0.7735 - val_loss: 1.5547 - val_acc: 0.7620 - val_auc_7: 0.7268\n",
      "Epoch 34/100\n",
      "154/154 [==============================] - ETA: 0s - loss: 1.4652 - acc: 0.7570 - auc_7: 0.7736\n",
      "Epoch 00034: val_loss improved from 1.53923 to 1.52340, saving model to output/preprocess3/input3-2_PPG+ECG/Inception_model_bin_sampleweight_simpleTrue_batch512_conv0_k3x2_nfilter32_k3x2_nlayer2_drop0.2_dense0_drop0.2/weights.hdf5\n",
      "154/154 [==============================] - 44s 288ms/step - loss: 1.4652 - acc: 0.7570 - auc_7: 0.7736 - val_loss: 1.5234 - val_acc: 0.7671 - val_auc_7: 0.7424\n",
      "Epoch 35/100\n",
      "154/154 [==============================] - ETA: 0s - loss: 1.4391 - acc: 0.7604 - auc_7: 0.7788\n",
      "Epoch 00035: val_loss improved from 1.52340 to 1.49983, saving model to output/preprocess3/input3-2_PPG+ECG/Inception_model_bin_sampleweight_simpleTrue_batch512_conv0_k3x2_nfilter32_k3x2_nlayer2_drop0.2_dense0_drop0.2/weights.hdf5\n",
      "154/154 [==============================] - 43s 277ms/step - loss: 1.4391 - acc: 0.7604 - auc_7: 0.7788 - val_loss: 1.4998 - val_acc: 0.7724 - val_auc_7: 0.7494\n",
      "Epoch 36/100\n",
      "154/154 [==============================] - ETA: 0s - loss: 1.4084 - acc: 0.7671 - auc_7: 0.7860\n",
      "Epoch 00036: val_loss improved from 1.49983 to 1.47415, saving model to output/preprocess3/input3-2_PPG+ECG/Inception_model_bin_sampleweight_simpleTrue_batch512_conv0_k3x2_nfilter32_k3x2_nlayer2_drop0.2_dense0_drop0.2/weights.hdf5\n",
      "154/154 [==============================] - 43s 277ms/step - loss: 1.4084 - acc: 0.7671 - auc_7: 0.7860 - val_loss: 1.4741 - val_acc: 0.7723 - val_auc_7: 0.7460\n",
      "Epoch 37/100\n",
      "154/154 [==============================] - ETA: 0s - loss: 1.3816 - acc: 0.7725 - auc_7: 0.7908\n",
      "Epoch 00037: val_loss improved from 1.47415 to 1.45710, saving model to output/preprocess3/input3-2_PPG+ECG/Inception_model_bin_sampleweight_simpleTrue_batch512_conv0_k3x2_nfilter32_k3x2_nlayer2_drop0.2_dense0_drop0.2/weights.hdf5\n",
      "154/154 [==============================] - 43s 278ms/step - loss: 1.3816 - acc: 0.7725 - auc_7: 0.7908 - val_loss: 1.4571 - val_acc: 0.7847 - val_auc_7: 0.7436\n",
      "Epoch 38/100\n",
      "154/154 [==============================] - ETA: 0s - loss: 1.3427 - acc: 0.7813 - auc_7: 0.7975\n",
      "Epoch 00038: val_loss improved from 1.45710 to 1.42020, saving model to output/preprocess3/input3-2_PPG+ECG/Inception_model_bin_sampleweight_simpleTrue_batch512_conv0_k3x2_nfilter32_k3x2_nlayer2_drop0.2_dense0_drop0.2/weights.hdf5\n",
      "154/154 [==============================] - 43s 277ms/step - loss: 1.3427 - acc: 0.7813 - auc_7: 0.7975 - val_loss: 1.4202 - val_acc: 0.7835 - val_auc_7: 0.7514\n",
      "Epoch 39/100\n",
      "154/154 [==============================] - ETA: 0s - loss: 1.3156 - acc: 0.7867 - auc_7: 0.8021\n",
      "Epoch 00039: val_loss did not improve from 1.42020\n",
      "154/154 [==============================] - 45s 293ms/step - loss: 1.3156 - acc: 0.7867 - auc_7: 0.8021 - val_loss: 1.4265 - val_acc: 0.7857 - val_auc_7: 0.7477\n",
      "Epoch 40/100\n"
     ]
    },
    {
     "name": "stdout",
     "output_type": "stream",
     "text": [
      "154/154 [==============================] - ETA: 0s - loss: 1.3018 - acc: 0.7888 - auc_7: 0.8056\n",
      "Epoch 00040: val_loss improved from 1.42020 to 1.39987, saving model to output/preprocess3/input3-2_PPG+ECG/Inception_model_bin_sampleweight_simpleTrue_batch512_conv0_k3x2_nfilter32_k3x2_nlayer2_drop0.2_dense0_drop0.2/weights.hdf5\n",
      "154/154 [==============================] - 47s 307ms/step - loss: 1.3018 - acc: 0.7888 - auc_7: 0.8056 - val_loss: 1.3999 - val_acc: 0.7883 - val_auc_7: 0.7497\n",
      "Epoch 41/100\n",
      "154/154 [==============================] - ETA: 0s - loss: 1.2869 - acc: 0.7914 - auc_7: 0.8089\n",
      "Epoch 00041: val_loss improved from 1.39987 to 1.39284, saving model to output/preprocess3/input3-2_PPG+ECG/Inception_model_bin_sampleweight_simpleTrue_batch512_conv0_k3x2_nfilter32_k3x2_nlayer2_drop0.2_dense0_drop0.2/weights.hdf5\n",
      "154/154 [==============================] - 47s 307ms/step - loss: 1.2869 - acc: 0.7914 - auc_7: 0.8089 - val_loss: 1.3928 - val_acc: 0.7848 - val_auc_7: 0.7515\n",
      "Epoch 42/100\n",
      "154/154 [==============================] - ETA: 0s - loss: 1.2711 - acc: 0.7938 - auc_7: 0.8114\n",
      "Epoch 00042: val_loss improved from 1.39284 to 1.39096, saving model to output/preprocess3/input3-2_PPG+ECG/Inception_model_bin_sampleweight_simpleTrue_batch512_conv0_k3x2_nfilter32_k3x2_nlayer2_drop0.2_dense0_drop0.2/weights.hdf5\n",
      "154/154 [==============================] - 47s 302ms/step - loss: 1.2711 - acc: 0.7938 - auc_7: 0.8114 - val_loss: 1.3910 - val_acc: 0.7902 - val_auc_7: 0.7504\n",
      "Epoch 43/100\n",
      "154/154 [==============================] - ETA: 0s - loss: 1.2607 - acc: 0.7950 - auc_7: 0.8143\n",
      "Epoch 00043: val_loss improved from 1.39096 to 1.38937, saving model to output/preprocess3/input3-2_PPG+ECG/Inception_model_bin_sampleweight_simpleTrue_batch512_conv0_k3x2_nfilter32_k3x2_nlayer2_drop0.2_dense0_drop0.2/weights.hdf5\n",
      "154/154 [==============================] - 44s 285ms/step - loss: 1.2607 - acc: 0.7950 - auc_7: 0.8143 - val_loss: 1.3894 - val_acc: 0.7857 - val_auc_7: 0.7540\n",
      "Epoch 44/100\n",
      "154/154 [==============================] - ETA: 0s - loss: 1.2577 - acc: 0.7963 - auc_7: 0.8147\n",
      "Epoch 00044: val_loss improved from 1.38937 to 1.35986, saving model to output/preprocess3/input3-2_PPG+ECG/Inception_model_bin_sampleweight_simpleTrue_batch512_conv0_k3x2_nfilter32_k3x2_nlayer2_drop0.2_dense0_drop0.2/weights.hdf5\n",
      "154/154 [==============================] - 43s 279ms/step - loss: 1.2577 - acc: 0.7963 - auc_7: 0.8147 - val_loss: 1.3599 - val_acc: 0.7945 - val_auc_7: 0.7602\n",
      "Epoch 45/100\n",
      "154/154 [==============================] - ETA: 0s - loss: 1.2495 - acc: 0.7978 - auc_7: 0.8172\n",
      "Epoch 00045: val_loss did not improve from 1.35986\n",
      "154/154 [==============================] - 43s 278ms/step - loss: 1.2495 - acc: 0.7978 - auc_7: 0.8172 - val_loss: 1.3750 - val_acc: 0.7932 - val_auc_7: 0.7603\n",
      "Epoch 46/100\n",
      "154/154 [==============================] - ETA: 0s - loss: 1.2386 - acc: 0.7990 - auc_7: 0.8201\n",
      "Epoch 00046: val_loss did not improve from 1.35986\n",
      "154/154 [==============================] - 43s 278ms/step - loss: 1.2386 - acc: 0.7990 - auc_7: 0.8201 - val_loss: 1.3798 - val_acc: 0.7968 - val_auc_7: 0.7447\n",
      "Epoch 47/100\n",
      "154/154 [==============================] - ETA: 0s - loss: 1.2323 - acc: 0.7991 - auc_7: 0.8217\n",
      "Epoch 00047: val_loss did not improve from 1.35986\n",
      "154/154 [==============================] - 43s 279ms/step - loss: 1.2323 - acc: 0.7991 - auc_7: 0.8217 - val_loss: 1.3940 - val_acc: 0.7874 - val_auc_7: 0.7484\n",
      "Epoch 48/100\n",
      "154/154 [==============================] - ETA: 0s - loss: 1.2261 - acc: 0.7999 - auc_7: 0.8234\n",
      "Epoch 00048: val_loss did not improve from 1.35986\n",
      "154/154 [==============================] - 43s 278ms/step - loss: 1.2261 - acc: 0.7999 - auc_7: 0.8234 - val_loss: 1.3766 - val_acc: 0.7912 - val_auc_7: 0.7563\n",
      "Epoch 49/100\n",
      "154/154 [==============================] - ETA: 0s - loss: 1.2255 - acc: 0.8000 - auc_7: 0.8246\n",
      "Epoch 00049: val_loss did not improve from 1.35986\n",
      "154/154 [==============================] - 43s 277ms/step - loss: 1.2255 - acc: 0.8000 - auc_7: 0.8246 - val_loss: 1.4332 - val_acc: 0.7840 - val_auc_7: 0.7570\n"
     ]
    }
   ],
   "source": [
    "from keras.models import Sequential\n",
    "from keras.models import Model, load_model\n",
    "from keras.optimizers import Adam as Adam\n",
    "from keras.layers import Dense, Conv1D, MaxPooling1D, GlobalMaxPool1D, BatchNormalization, Dropout, Activation\n",
    "from keras.layers import GlobalAveragePooling1D, Flatten, SeparableConv1D, AveragePooling1D, Input, concatenate, add, LSTM, Average\n",
    "from keras.callbacks import ModelCheckpoint, EarlyStopping\n",
    "from sklearn.metrics import auc, classification_report, confusion_matrix, accuracy_score, roc_curve, roc_auc_score, f1_score, precision_recall_curve\n",
    "import tensorflow as tf\n",
    "import os, pickle\n",
    "from keras import backend as K\n",
    "import tensorflow_addons as tfa\n",
    "\n",
    "\n",
    "# learning related hyperparamters\n",
    "BATCH_SIZE = 512\n",
    "learning_rate = 0.001\n",
    "# AdamW setting\n",
    "step = tf.Variable(0, trainable=False)\n",
    "schedule = tf.optimizers.schedules.PiecewiseConstantDecay(\n",
    "    [10000, 15000], [1e-0, 1e-1, 1e-2])\n",
    "# lr and wd can be a function or a tensor\n",
    "lr = 1e-1 * schedule(step)\n",
    "wd = lambda: 1e-4 * schedule(step)\n",
    "\n",
    "\n",
    "# inception paramters\n",
    "ngpu = 2\n",
    "nfilters=32\n",
    "nlayer=2\n",
    "conv1 = 0\n",
    "dense = 0\n",
    "dropout1 = 0.2\n",
    "dropout2 = 0.2\n",
    "kernel1 = 3\n",
    "kernel2 = 3\n",
    "simple = True\n",
    "\n",
    "# 출력 폴더를 생성\n",
    "model_name = 'Inception_model_bin_sampleweight_simple{}_batch{}_conv{}_k{}x2_nfilter{}_k{}x2_nlayer{}_drop{}_dense{}_drop{}'.format(simple, BATCH_SIZE, conv1,kernel1,nfilters,kernel2,nlayer,dropout1,dense,dropout2)\n",
    "#model_name = 'Inception2_model_bin_sampleweight_simple{}_batch{}_conv3_5_7_15_nfilter{}_nlayer{}_drop{}_dense{}_drop{}'.format(simple, BATCH_SIZE, nfilters,kernel2,nlayer,dropout1,dense,dropout2)\n",
    "\n",
    "\n",
    "save_path = \"output/preprocess3/input3-2_PPG+ECG/\"+model_name\n",
    "if not os.path.exists(save_path):\n",
    "    os.mkdir(save_path)\n",
    "weight_path = save_path + \"/weights.hdf5\"\n",
    "\n",
    "\n",
    "\n",
    "# GPU 설정\n",
    "strategy = tf.distribute.MirroredStrategy(devices=[\"/gpu:0\"])\n",
    "with strategy.scope():\n",
    "    \n",
    "    #inp_fnn = Input(shape=(x_train[0].shape[1],))\n",
    "    inp_cnn = Input(shape=(x_train.shape[1], x_train.shape[2]))\n",
    "\n",
    "    #out_fnn = inp_fnn\n",
    "    #out_fnn = Dense(256,  activation='relu')(out_fnn)\n",
    "\n",
    "    out_cnn = inp_cnn\n",
    "    \n",
    "    if not simple:\n",
    "        if conv1 != 0:\n",
    "            out_cnn = Conv1D(filters=conv1, kernel_size=kernel1, strides=1, padding='same')(out_cnn)\n",
    "            out_cnn = Conv1D(filters=conv1, kernel_size=kernel1, strides=2, padding='same')(out_cnn)\n",
    "            #out_cnn = Conv1D(filters=conv1, kernel_size=kernel1, padding='same')(out_cnn)\n",
    "            #out_cnn = Conv1D(filters=conv1, kernel_size=kernel_size, padding='same', activation='relu')(out_cnn)\n",
    "            out_cnn = Activation('relu')(out_cnn)\n",
    "            out_cnn = MaxPooling1D(pool_size=3, strides=2)(out_cnn)\n",
    "            out_cnn = BatchNormalization()(out_cnn)\n",
    "\n",
    "        \n",
    "        out_cnn = Conv1D(filters=nfilters*4, kernel_size=kernel2, padding='same')(out_cnn)\n",
    "        out_cnn = Conv1D(filters=nfilters*4, kernel_size=kernel2, padding='same')(out_cnn)\n",
    "        out_cnn = Activation('relu')(out_cnn)\n",
    "        out_cnn = MaxPooling1D(pool_size=3, strides=2)(out_cnn)\n",
    "        out_cnn = BatchNormalization()(out_cnn)\n",
    "    \n",
    "    for ilayer in range(nlayer):\n",
    "        #inp_blk = out_cnn\n",
    "        out_cnn = inception(out_cnn, nfilters=nfilters)\n",
    "        #out_cnn = Conv1D(filters=64, kernel_size=1, padding='same')(out_cnn)\n",
    "        #out_cnn = add([out_cnn, inp_blk])\n",
    "        #out_cnn = AveragePooling1D(pool_size=2)(out_cnn)\n",
    "    out_cnn = GlobalAveragePooling1D()(out_cnn)\n",
    "    out_cnn = Dropout(dropout1)(out_cnn)\n",
    "    #out = concatenate([out_cnn, out_fnn])\n",
    "    out = out_cnn\n",
    "    #out = Dense(256,  activation='relu')(out)\n",
    "    \n",
    "    if dense != 0:\n",
    "        out = Dense(dense,  activation='tanh')(out)\n",
    "        out = Dropout(dropout2)(out)\n",
    "    out = Dense(1, activation='sigmoid')(out)\n",
    "\n",
    "    model = Model(inputs=[inp_cnn], outputs=[out])\n",
    "    \n",
    "    # model 학습 설정\n",
    "    #optimizer=tfa.optimizers.AdamW(lr=learning_rate, weight_decay=wd)\n",
    "    model.compile(loss='binary_crossentropy', optimizer=Adam(lr=learning_rate), metrics=[\"acc\", tf.keras.metrics.AUC()])\n",
    "    hist = model.fit(x_train, y_train_bin, validation_data = (x_val, y_val_bin, val_w_samp3), sample_weight=train_w_samp3, epochs=100, batch_size=BATCH_SIZE, #class_weight={0:1, 1:3}, \n",
    "                            callbacks=[ModelCheckpoint(monitor='val_loss', filepath=weight_path, verbose=1, save_best_only=True),\n",
    "                                        EarlyStopping(monitor='val_loss', patience=5, verbose=0, mode='auto')])\n",
    "\n",
    "    #tf.keras.backend.clear_session()\n",
    "\n",
    "model.load_weights(weight_path)\n",
    "    \n",
    "# 모델의 아키텍처 및 구조 저장\n",
    "open(save_path + \"/model.json\", \"wt\").write(model.to_json())\n",
    "\n",
    "\n",
    "# 전체 test 샘플을 한번에 예측\n",
    "y_pred = model.predict(x_test).flatten() # binary는 flatten\n",
    "\n",
    "# 결과를 저장\n",
    "#np.savetxt(save_path+'/pred_y.txt', y_pred)\n",
    "\n",
    "\n",
    "# 모델의 history log 저장 - binary classification\n",
    "for key in hist.history.keys():\n",
    "    if 'auc' in key and not 'val' in key:\n",
    "        auc_key = key\n",
    "#pickle.dump((hist.history['loss'], hist.history['val_loss'], hist.history['accuracy'], hist.history['val_accuracy'], hist.history[auc], hist.history['val_'+auc]), open(save_path+'/history', 'wb'))\n",
    "\n",
    "# 모델의 history log 저장 - regression\n",
    "pickle.dump((hist.history['loss'], hist.history['val_loss'], hist.history['acc'], hist.history['val_acc'], hist.history[auc_key], hist.history['val_'+auc_key]), open(save_path+'/history', 'wb'))\n"
   ]
  },
  {
   "cell_type": "markdown",
   "metadata": {},
   "source": [
    "## Model Evaluation"
   ]
  },
  {
   "cell_type": "markdown",
   "metadata": {},
   "source": [
    "###  AUROC, AUPRC (sample weighted)"
   ]
  },
  {
   "cell_type": "code",
   "execution_count": 23,
   "metadata": {
    "ExecuteTime": {
     "end_time": "2020-12-08T07:00:47.759551Z",
     "start_time": "2020-12-08T07:00:47.015598Z"
    },
    "scrolled": false
   },
   "outputs": [
    {
     "name": "stdout",
     "output_type": "stream",
     "text": [
      "test set accuracy:0.78\n",
      "test set AUROC: 0.7452569123714586\n",
      "test set AUPRC: 0.8243459367850006\n"
     ]
    },
    {
     "data": {
      "image/png": "[encoded data removed]",
      "text/plain": [
       "<Figure size 864x432 with 2 Axes>"
      ]
     },
     "metadata": {
      "needs_background": "light"
     },
     "output_type": "display_data"
    }
   ],
   "source": [
    "from sklearn.metrics import roc_curve, auc, precision_recall_curve\n",
    "from numpy import interp\n",
    "from keras import losses, metrics\n",
    "import keras.backend as K\n",
    "import matplotlib.pyplot as plt\n",
    "\n",
    "### Classification\n",
    "# Model Accuracy of test set\n",
    "#model_y = y_pred>=0.5\n",
    "#acc_val = np.mean(model_y==y_test_bin)\n",
    "acc = metrics.Accuracy()\n",
    "acc.update_state(y_pred>=0.5, y_test_bin, sample_weight=test_w_samp3)\n",
    "acc_val = acc.result().numpy()\n",
    "print('test set accuracy:{:.2f}'.format(acc_val))\n",
    "\n",
    "\n",
    "# moderate pain\n",
    "false_positive_rate, true_positive_rate, threshold = roc_curve(y_test_bin, y_pred, sample_weight = test_w_samp3)\n",
    "precision, recall, _ = precision_recall_curve(y_test_bin, y_pred, sample_weight = test_w_samp3)\n",
    "roc_auc = auc(false_positive_rate, true_positive_rate)\n",
    "prc_auc = auc(recall, precision)\n",
    "print('test set AUROC:', roc_auc)\n",
    "print('test set AUPRC:', prc_auc)\n",
    "\n",
    "\n",
    "# Adding evaluation results to file name\n",
    "test_path = 'output/preprocess3/input3-2_PPG+ECG/auroc{:.4f}_auprc{:.4f}_{}acc{:.2f}'.format(roc_auc,prc_auc,model_name,acc_val)\n",
    "os.rename(save_path, test_path)\n",
    "\n",
    "# Plotting ROC, PRC\n",
    "fig = plt.figure(figsize=(12,6))\n",
    "\n",
    "# ax1: auroc\n",
    "ax1 = fig.add_subplot(1,2,1)\n",
    "ax1.set_title('Receiver Operating Characteristic')\n",
    "ax1.set_xlabel(\"False Positive Rate(1 - Specificity)\")\n",
    "ax1.set_ylabel('True Positive Rate(Sensitivity)')\n",
    "ax1.plot([0,1],[1,1],'y--')\n",
    "ax1.plot([0,1],[0,1],'r--')\n",
    "ax1.plot(false_positive_rate, true_positive_rate, 'b', label='moderate pain (AUC = %0.4f)'% roc_auc)\n",
    "\n",
    "# ax2: auprc\n",
    "ax2 = fig.add_subplot(1,2,2)\n",
    "ax2.set_title('Precision - Recall Curve')\n",
    "ax2.set_xlabel(\"Precision\")\n",
    "ax2.set_ylabel('Recall')\n",
    "ax2.plot(recall, precision, 'b', label='moderate pain (AUC = %0.4f)'% prc_auc)\n",
    "\n",
    "plt.savefig(test_path + '/roc_prc.png', bbox_inches=\"tight\", pad_inches=0.5)\n"
   ]
  },
  {
   "cell_type": "markdown",
   "metadata": {},
   "source": [
    "### Confusion matrix"
   ]
  },
  {
   "cell_type": "code",
   "execution_count": 16,
   "metadata": {
    "ExecuteTime": {
     "end_time": "2020-12-08T02:44:03.586919Z",
     "start_time": "2020-12-08T02:44:03.565945Z"
    }
   },
   "outputs": [],
   "source": [
    "import itertools\n",
    "import matplotlib.pyplot as plt\n",
    "\n",
    "\n",
    "def plot_confusion_matrix(cm, classes,\n",
    "                          normalize=False,\n",
    "                          title='Confusion matrix',\n",
    "                          cmap=plt.cm.Blues):\n",
    "    \"\"\"\n",
    "    This function prints and plots the confusion matrix.\n",
    "    Normalization can be applied by setting `normalize=True`.\n",
    "    \"\"\"\n",
    "    plt.figure(figsize=(3,3))\n",
    "    plt.imshow(cm, interpolation='nearest', cmap=cmap)\n",
    "    plt.title(title)\n",
    "    #plt.colorbar()\n",
    "    tick_marks = np.arange(len(classes))\n",
    "    plt.xticks(tick_marks, classes, rotation=45)\n",
    "    plt.yticks(tick_marks, classes)\n",
    "\n",
    "    if normalize:\n",
    "        cm = cm.astype('float') / cm.sum(axis=1)[:, np.newaxis]\n",
    "        print(\"Normalized confusion matrix\")\n",
    "    else:\n",
    "        print('Confusion matrix, without normalization')\n",
    "\n",
    "    print(cm)\n",
    "\n",
    "    thresh = cm.max() / 2.\n",
    "    for i, j in itertools.product(range(cm.shape[0]), range(cm.shape[1])):\n",
    "        plt.text(j, i, '{:.0f}'.format(cm[i, j]),\n",
    "                 horizontalalignment=\"center\",\n",
    "                 color=\"white\" if cm[i, j] > thresh else \"black\")\n",
    "\n",
    "    plt.tight_layout()\n",
    "    plt.ylabel('True label')\n",
    "    plt.xlabel('Predicted label')"
   ]
  },
  {
   "cell_type": "code",
   "execution_count": 17,
   "metadata": {
    "ExecuteTime": {
     "end_time": "2020-12-08T02:44:06.048500Z",
     "start_time": "2020-12-08T02:44:05.829360Z"
    }
   },
   "outputs": [
    {
     "name": "stdout",
     "output_type": "stream",
     "text": [
      "optimal thval: 0.5818\n",
      "\n",
      "auroc:0.7448,  auprc:0.8243\n",
      "Confusion matrix, without normalization\n",
      "[[1982 1965]\n",
      " [ 388 5009]]\n"
     ]
    },
    {
     "data": {
      "image/png": "[encoded data removed]",
      "text/plain": [
       "<Figure size 216x216 with 1 Axes>"
      ]
     },
     "metadata": {
      "needs_background": "light"
     },
     "output_type": "display_data"
    }
   ],
   "source": [
    "from sklearn.metrics import confusion_matrix, roc_curve\n",
    "\n",
    "\n",
    "# calculate optimal threshold that minimize 'sensitivity(TPR) + specificity(1-FPR)''\n",
    "fpr, tpr, thvals = roc_curve(y_test_bin, y_pred)\n",
    "optimal_idx = np.argmax(tpr-fpr)\n",
    "thval = thvals[optimal_idx]\n",
    "print('optimal thval: {:.4f}'.format(thval))\n",
    "                             \n",
    "#precision1, recall1, _ = precision_recall_curve(y_test_pacu_bin, y_pred)\n",
    "\n",
    "# confusion matrix\n",
    "cnf_matrix = confusion_matrix(y_test_bin, y_pred>=thval)\n",
    "np.set_printoptions(precision=2)\n",
    "class_names = ['NRS<4','NRS>=4']\n",
    "\n",
    "print('\\nauroc:{:.4f},  auprc:{:.4f}'.format(roc_auc, prc_auc))\n",
    "plot_confusion_matrix(cnf_matrix, classes=class_names, normalize=False, title='Confusion matrix for moderate pain')"
   ]
  },
  {
   "cell_type": "markdown",
   "metadata": {},
   "source": [
    "## Model history plot\n",
    "- training curve"
   ]
  },
  {
   "cell_type": "code",
   "execution_count": 20,
   "metadata": {
    "ExecuteTime": {
     "end_time": "2020-12-08T05:40:48.279860Z",
     "start_time": "2020-12-08T05:40:47.546071Z"
    },
    "scrolled": false
   },
   "outputs": [
    {
     "name": "stdout",
     "output_type": "stream",
     "text": [
      "model: Inception_model_bin_sampleweight_simpleTrue_batch512_conv0_k3x2_nfilter32_k3x2_nlayer2_drop0.2_dense0_drop0.2\n"
     ]
    },
    {
     "data": {
      "image/png": "[encoded data removed]",
      "text/plain": [
       "<Figure size 1440x720 with 2 Axes>"
      ]
     },
     "metadata": {
      "needs_background": "light"
     },
     "output_type": "display_data"
    }
   ],
   "source": [
    "%matplotlib inline\n",
    "import matplotlib.pyplot as plt\n",
    "\n",
    "\n",
    "print('model:', model_name)\n",
    "\n",
    "\n",
    "fig, loss_ax = plt.subplots(figsize=(20,10))\n",
    "\n",
    "#x-axis는 공유하지만 y-axis는 공유x\n",
    "acc_ax = loss_ax.twinx()\n",
    "\n",
    "loss_ax.plot(hist.history['loss'], 'y', linestyle='dashed', label='train loss')\n",
    "loss_ax.plot(hist.history['val_loss'], 'r', label='val loss')\n",
    "\n",
    "#acc_ax.plot(hist.history['mean_absolute_error'], 'b', linestyle='dashed',label='train mae')\n",
    "#acc_ax.plot(hist.history['val_mean_absolute_error'], 'g', label='val mae')\n",
    "acc_ax.plot(hist.history['acc'], 'b', linestyle='dashed',label='train acc')\n",
    "acc_ax.plot(hist.history['val_acc'], 'g', label='val acc')\n",
    "\n",
    "loss_ax.set_xlabel('epoch')\n",
    "loss_ax.set_ylabel('loss')\n",
    "#acc_ax.set_ylim(0.2,1.0)\n",
    "acc_ax.set_ylabel('accuray')\n",
    "\n",
    "loss_ax.legend(loc='upper left')\n",
    "acc_ax.legend(loc='lower left')\n",
    "\n",
    "plt.show()"
   ]
  },
  {
   "cell_type": "code",
   "execution_count": null,
   "metadata": {},
   "outputs": [],
   "source": [
    "test_result = model.evaluate(x=x_test, y=y_test_bin, batch_size=512, verbose=1, sample_weight=None, steps=None, callbacks=None)"
   ]
  },
  {
   "cell_type": "markdown",
   "metadata": {},
   "source": [
    "## Model summary"
   ]
  },
  {
   "cell_type": "code",
   "execution_count": 19,
   "metadata": {
    "ExecuteTime": {
     "end_time": "2020-12-08T02:44:14.367568Z",
     "start_time": "2020-12-08T02:44:14.343875Z"
    },
    "scrolled": false
   },
   "outputs": [
    {
     "name": "stdout",
     "output_type": "stream",
     "text": [
      "Model: \"functional_3\"\n",
      "__________________________________________________________________________________________________\n",
      "Layer (type)                    Output Shape         Param #     Connected to                     \n",
      "==================================================================================================\n",
      "input_2 (InputLayer)            [(None, 5000, 2)]    0                                            \n",
      "__________________________________________________________________________________________________\n",
      "max_pooling1d_2 (MaxPooling1D)  (None, 5000, 2)      0           input_2[0][0]                    \n",
      "__________________________________________________________________________________________________\n",
      "conv1d_10 (Conv1D)              (None, 5000, 32)     224         input_2[0][0]                    \n",
      "__________________________________________________________________________________________________\n",
      "conv1d_11 (Conv1D)              (None, 5000, 32)     352         input_2[0][0]                    \n",
      "__________________________________________________________________________________________________\n",
      "conv1d_12 (Conv1D)              (None, 5000, 32)     480         input_2[0][0]                    \n",
      "__________________________________________________________________________________________________\n",
      "conv1d_14 (Conv1D)              (None, 5000, 32)     96          max_pooling1d_2[0][0]            \n",
      "__________________________________________________________________________________________________\n",
      "concatenate_2 (Concatenate)     (None, 5000, 128)    0           conv1d_10[0][0]                  \n",
      "                                                                 conv1d_11[0][0]                  \n",
      "                                                                 conv1d_12[0][0]                  \n",
      "                                                                 conv1d_14[0][0]                  \n",
      "__________________________________________________________________________________________________\n",
      "max_pooling1d_3 (MaxPooling1D)  (None, 5000, 128)    0           concatenate_2[0][0]              \n",
      "__________________________________________________________________________________________________\n",
      "conv1d_15 (Conv1D)              (None, 5000, 32)     12320       concatenate_2[0][0]              \n",
      "__________________________________________________________________________________________________\n",
      "conv1d_16 (Conv1D)              (None, 5000, 32)     20512       concatenate_2[0][0]              \n",
      "__________________________________________________________________________________________________\n",
      "conv1d_17 (Conv1D)              (None, 5000, 32)     28704       concatenate_2[0][0]              \n",
      "__________________________________________________________________________________________________\n",
      "conv1d_19 (Conv1D)              (None, 5000, 32)     4128        max_pooling1d_3[0][0]            \n",
      "__________________________________________________________________________________________________\n",
      "concatenate_3 (Concatenate)     (None, 5000, 128)    0           conv1d_15[0][0]                  \n",
      "                                                                 conv1d_16[0][0]                  \n",
      "                                                                 conv1d_17[0][0]                  \n",
      "                                                                 conv1d_19[0][0]                  \n",
      "__________________________________________________________________________________________________\n",
      "global_average_pooling1d_1 (Glo (None, 128)          0           concatenate_3[0][0]              \n",
      "__________________________________________________________________________________________________\n",
      "dropout_1 (Dropout)             (None, 128)          0           global_average_pooling1d_1[0][0] \n",
      "__________________________________________________________________________________________________\n",
      "dense_1 (Dense)                 (None, 1)            129         dropout_1[0][0]                  \n",
      "==================================================================================================\n",
      "Total params: 66,945\n",
      "Trainable params: 66,945\n",
      "Non-trainable params: 0\n",
      "__________________________________________________________________________________________________\n"
     ]
    }
   ],
   "source": [
    "model.summary()"
   ]
  },
  {
   "cell_type": "markdown",
   "metadata": {},
   "source": [
    "## Model ROC plot"
   ]
  },
  {
   "cell_type": "code",
   "execution_count": null,
   "metadata": {},
   "outputs": [],
   "source": [
    "# Model Accuracy of test set\n",
    "#print('test set accuracy:{:.2f}'.format(np.mean(y_pred>0.5==y_test_bin)))\n",
    "\n",
    "# Model AUROC\n",
    "from sklearn.metrics import roc_curve ,auc\n",
    "from numpy import interp\n",
    "#pipe_lr = make_pipeline(StandardScaler(), PCA(n_components=2), LogisticRegression(solver='liblinear', penalty='12', random_state=1, C=100.0))\n",
    "\n",
    "#cv = list(StratifiedKFold(n_splits=3, shuffle=True, random_state=1).split(x_))\n",
    "\n",
    "false_positive_rate, true_positive_rate, threshold = roc_curve(y_test_bin, y_pred)\n",
    "roc_auc = auc(false_positive_rate, true_positive_rate)\n",
    "print('test set auroc:', roc_auc)\n",
    "\n",
    "plt.title('Receiver Operating Characteristic')\n",
    "plt.xlabel(\"False Positive Rate(1 - Specificity)\")\n",
    "plt.ylabel('True Positive Rate(Sensitivity)')\n",
    "\n",
    "plt.plot(false_positive_rate, true_positive_rate, 'b', label='Model 1 (AUC = %0.4f)'% roc_auc)\n",
    "plt.plot([0,1],[1,1],'y--')\n",
    "plt.plot([0,1],[0,1],'r--')\n",
    "\n",
    "plt.legend(loc='lower right')\n",
    "plt.show()"
   ]
  },
  {
   "cell_type": "code",
   "execution_count": null,
   "metadata": {},
   "outputs": [],
   "source": []
  },
  {
   "cell_type": "code",
   "execution_count": 10,
   "metadata": {
    "ExecuteTime": {
     "end_time": "2020-12-04T17:54:12.438434Z",
     "start_time": "2020-12-04T17:54:12.426553Z"
    }
   },
   "outputs": [
    {
     "data": {
      "text/plain": [
       "array([0, 1, 0, 1, 0])"
      ]
     },
     "execution_count": 10,
     "metadata": {},
     "output_type": "execute_result"
    }
   ],
   "source": [
    "a = np.array([ [1,0,0], [0,1,0], [1,0,0],[0,0,1],[1,0,0]])\n",
    "a[:,1]+a[:,2]"
   ]
  },
  {
   "cell_type": "code",
   "execution_count": 4,
   "metadata": {
    "ExecuteTime": {
     "end_time": "2020-12-06T13:15:09.008695Z",
     "start_time": "2020-12-06T13:15:08.982690Z"
    }
   },
   "outputs": [
    {
     "data": {
      "text/plain": [
       "array([[0.55, 0.45],\n",
       "       [0.39, 0.61]])"
      ]
     },
     "execution_count": 4,
     "metadata": {},
     "output_type": "execute_result"
    }
   ],
   "source": [
    "cm = np.array([[0.55, 0.45], [0.39, 0.61]])\n",
    "cm = cm.astype('float') / cm.sum(axis=1)[:, np.newaxis]\n",
    "cm"
   ]
  }
 ],
 "metadata": {
  "kernelspec": {
   "display_name": "Python 3",
   "language": "python",
   "name": "python3"
  },
  "language_info": {
   "codemirror_mode": {
    "name": "ipython",
    "version": 3
   },
   "file_extension": ".py",
   "mimetype": "text/x-python",
   "name": "python",
   "nbconvert_exporter": "python",
   "pygments_lexer": "ipython3",
   "version": "3.6.9"
  },
  "toc": {
   "base_numbering": 1,
   "nav_menu": {},
   "number_sections": true,
   "sideBar": true,
   "skip_h1_title": false,
   "title_cell": "Table of Contents",
   "title_sidebar": "Contents",
   "toc_cell": false,
   "toc_position": {},
   "toc_section_display": true,
   "toc_window_display": true
  },
  "varInspector": {
   "cols": {
    "lenName": 16,
    "lenType": 16,
    "lenVar": 40
   },
   "kernels_config": {
    "python": {
     "delete_cmd_postfix": "",
     "delete_cmd_prefix": "del ",
     "library": "var_list.py",
     "varRefreshCmd": "print(var_dic_list())"
    },
    "r": {
     "delete_cmd_postfix": ") ",
     "delete_cmd_prefix": "rm(",
     "library": "var_list.r",
     "varRefreshCmd": "cat(var_dic_list()) "
    }
   },
   "types_to_exclude": [
    "module",
    "function",
    "builtin_function_or_method",
    "instance",
    "_Feature"
   ],
   "window_display": false
  }
 },
 "nbformat": 4,
 "nbformat_minor": 4
}
