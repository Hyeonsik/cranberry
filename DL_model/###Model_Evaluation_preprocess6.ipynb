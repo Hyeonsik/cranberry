{
 "cells": [
  {
   "cell_type": "markdown",
   "metadata": {},
   "source": [
    "# Setting"
   ]
  },
  {
   "cell_type": "markdown",
   "metadata": {},
   "source": [
    "## input setting"
   ]
  },
  {
   "cell_type": "code",
   "execution_count": 1,
   "metadata": {
    "ExecuteTime": {
     "end_time": "2020-12-29T12:18:52.612732Z",
     "start_time": "2020-12-29T12:18:08.313720Z"
    }
   },
   "outputs": [
    {
     "name": "stdout",
     "output_type": "stream",
     "text": [
      "loading train...x_train shape: (120609, 5000, 2)\n",
      "x_test.shape: (14522, 5000, 2)\n",
      "x_val.shape: (13602, 5000, 2)\n",
      "done\n"
     ]
    }
   ],
   "source": [
    "import pandas as pd\n",
    "\n",
    "print('loading train...', flush=True, end='')\n",
    "\n",
    "# x를 loading해서 (batch_size, step, channel)\n",
    "#input_path = '../dataset/preprocess4/input2/PPG_100Hz/'\n",
    "input_path = 'dataset/preprocess6/input/'\n",
    "\n",
    "x_train_pacu = np.load(input_path+'x_train_pacu.npz', allow_pickle=True)['arr_0']\n",
    "y_train_pacu =  np.load(input_path+'y_train_pacu.npz')['arr_0']\n",
    "\n",
    "\n",
    "x_test_pacu = np.load(input_path+'x_test_pacu.npz', allow_pickle=True)['arr_0']\n",
    "y_test_pacu = np.load(input_path+'y_test_pacu.npz')['arr_0']\n",
    "\n",
    "\n",
    "x_val_pacu = np.load(input_path+'x_val_pacu.npz', allow_pickle=True)['arr_0']\n",
    "y_val_pacu =  np.load(input_path+'y_val_pacu.npz')['arr_0']\n",
    "\n",
    "\n",
    "#print('x_train shape:', x_train.shape)\n",
    "print('x_train shape:', x_train_pacu.shape)\n",
    "print('x_test.shape:', x_test_pacu.shape)\n",
    "print('x_val.shape:', x_val_pacu.shape)\n",
    "\n",
    "print('done', flush=True)\n"
   ]
  },
  {
   "cell_type": "code",
   "execution_count": 2,
   "metadata": {
    "ExecuteTime": {
     "end_time": "2020-12-29T12:18:52.910523Z",
     "start_time": "2020-12-29T12:18:52.625143Z"
    }
   },
   "outputs": [
    {
     "name": "stdout",
     "output_type": "stream",
     "text": [
      "train_pacu set\n",
      "sample weight for class 1: 4.91, class 2: 1.61, class 3: 5.67\n",
      "\n"
     ]
    }
   ],
   "source": [
    "# train_pacu: age+gender\n",
    "age_train_pacu = np.load(input_path+'age_train_pacu.npz', allow_pickle=True)['arr_0']\n",
    "gender_train_pacu = np.load(input_path+'gender_train_pacu.npz', allow_pickle=True)['arr_0']\n",
    "\n",
    "agender_train_pacu = np.array([[age_train_pacu[i], gender_train_pacu[i]] for i in range(len(age_train_pacu))])\n",
    "\n",
    "\n",
    "# val: age+gender\n",
    "age_val_pacu = np.load(input_path+'age_val_pacu.npz', allow_pickle=True)['arr_0']\n",
    "gender_val_pacu = np.load(input_path+'gender_val_pacu.npz', allow_pickle=True)['arr_0']\n",
    "\n",
    "agender_val_pacu = np.array([[age_val_pacu[i], gender_val_pacu[i]] for i in range(len(age_val_pacu))])\n",
    "\n",
    "\n",
    "# test: age+gender\n",
    "age_test_pacu = np.load(input_path+'age_test_pacu.npz', allow_pickle=True)['arr_0']\n",
    "gender_test_pacu = np.load(input_path+'gender_test_pacu.npz', allow_pickle=True)['arr_0']\n",
    "\n",
    "agender_test_pacu = np.array([[age_test_pacu[i], gender_test_pacu[i]] for i in range(len(age_test_pacu))])\n",
    "\n",
    "\n",
    "# 3 class에 대한 sample weight\n",
    "train_w_samp3 = np.ones(shape=(len(y_train_pacu),))\n",
    "\n",
    "train_w_samp3[y_train_pacu<4]= len(y_train_pacu)/np.sum(y_train_pacu<4)\n",
    "train_w_samp3[(4<=y_train_pacu)&(y_train_pacu<7)]= len(y_train_pacu)/np.sum((4<=y_train_pacu)&(y_train_pacu<7))\n",
    "train_w_samp3[7<=y_train_pacu]= len(y_train_pacu)/np.sum(7<=y_train_pacu)\n",
    "\n",
    "print('train_pacu set')\n",
    "print('sample weight for class 1: {:.2f}, class 2: {:.2f}, class 3: {:.2f}\\n'\n",
    "      .format(len(y_train_pacu)/np.sum(y_train_pacu<4),len(y_train_pacu)/np.sum((4<=y_train_pacu)&(y_train_pacu<7)),len(y_train_pacu)/np.sum(7<=y_train_pacu)))"
   ]
  },
  {
   "cell_type": "markdown",
   "metadata": {},
   "source": [
    "## gpu setting"
   ]
  },
  {
   "cell_type": "code",
   "execution_count": 5,
   "metadata": {
    "ExecuteTime": {
     "end_time": "2020-12-29T12:20:27.540428Z",
     "start_time": "2020-12-29T12:20:21.461841Z"
    }
   },
   "outputs": [
    {
     "name": "stdout",
     "output_type": "stream",
     "text": [
      "4 Physical GPUs, 4 Logical GPUs\n"
     ]
    }
   ],
   "source": [
    "from keras.models import Sequential\n",
    "from keras.models import Model, load_model\n",
    "from keras.optimizers import Adam as Adam\n",
    "from keras.layers import Dense, Conv1D, MaxPooling1D, GlobalMaxPool1D, BatchNormalization, Dropout, Activation\n",
    "from keras.layers import GlobalAveragePooling1D, Flatten, SeparableConv1D, LeakyReLU\n",
    "from keras.callbacks import ModelCheckpoint, EarlyStopping\n",
    "from sklearn.metrics import auc, classification_report, confusion_matrix, accuracy_score, roc_curve, roc_auc_score, f1_score, precision_recall_curve\n",
    "import tensorflow as tf\n",
    "import os, pickle\n",
    "from keras import backend as K\n",
    "from keras import regularizers\n",
    "from keras.initializers import he_normal, GlorotNormal\n",
    "\n",
    "\n",
    "import tensorflow as tf\n",
    "\n",
    "gpus = tf.config.experimental.list_physical_devices('GPU')\n",
    "if gpus:\n",
    "    try:\n",
    "        # Currently, memory growth needs to be the same across GPUs\n",
    "        for gpu in gpus:\n",
    "            tf.config.experimental.set_memory_growth(gpu, True)\n",
    "        logical_gpus = tf.config.experimental.list_logical_devices('GPU')\n",
    "        print(len(gpus), \"Physical GPUs,\", len(logical_gpus), \"Logical GPUs\")\n",
    "    except RuntimeError as e:\n",
    "        # Memory growth must be set before GPUs have been initialized\n",
    "        print(e)\n"
   ]
  },
  {
   "cell_type": "markdown",
   "metadata": {},
   "source": [
    "# Model 1 (PPG50Hz + agender) - pacu, NRS<4, NRS>=7"
   ]
  },
  {
   "cell_type": "markdown",
   "metadata": {},
   "source": [
    "## setting"
   ]
  },
  {
   "cell_type": "code",
   "execution_count": 3,
   "metadata": {
    "ExecuteTime": {
     "end_time": "2020-12-29T12:19:48.893478Z",
     "start_time": "2020-12-29T12:19:44.265563Z"
    }
   },
   "outputs": [
    {
     "name": "stdout",
     "output_type": "stream",
     "text": [
      "x_train shape: (45831, 5000, 2)\n",
      "x_val shape: (5042, 5000, 2)\n",
      "x_test shape: (5216, 5000, 2)\n",
      "PPG\n",
      "(45831, 1000, 1) 45831 45831\n",
      "(5042, 1000, 1) 5042 5042\n",
      "(5216, 1000, 1) 5216 5216\n"
     ]
    }
   ],
   "source": [
    "train_mask =(y_train_pacu>=7) | (y_train_pacu<4)\n",
    "val_mask =(y_val_pacu>=7) | (y_val_pacu<4)\n",
    "test_mask =(y_test_pacu>=7) | (y_test_pacu<4)\n",
    "\n",
    "\n",
    "x_train1 = x_train_pacu[train_mask]\n",
    "x_val1 = x_val_pacu[val_mask]\n",
    "x_test1 = x_test_pacu[test_mask]\n",
    "\n",
    "y_train1 = y_train_pacu[train_mask]\n",
    "y_val1 = y_val_pacu[val_mask]\n",
    "y_test1 = y_test_pacu[test_mask]\n",
    "\n",
    "age_train1 = age_train_pacu[train_mask]\n",
    "age_val1 = age_val_pacu[val_mask]\n",
    "age_test1 = age_test_pacu[test_mask]\n",
    "\n",
    "gender_train1 = gender_train_pacu[train_mask]\n",
    "gender_val1 = gender_val_pacu[val_mask]\n",
    "gender_test1 = gender_test_pacu[test_mask]\n",
    "\n",
    "agender_train1 = np.array([[age_train1[i], gender_train1[i]] for i in range(len(age_train1))])\n",
    "agender_val1 = np.array([[age_val1[i], gender_val1[i]] for i in range(len(age_val1))])\n",
    "agender_test1 = np.array([[age_test1[i], gender_test1[i]] for i in range(len(age_test1))])\n",
    "\n",
    "\n",
    "print('x_train shape:', x_train1.shape)\n",
    "print('x_val shape:', x_val1.shape)\n",
    "print('x_test shape:', x_test1.shape)\n",
    "\n",
    "\n",
    "\n",
    "from scipy import signal\n",
    "# ECG - all pacu or ppg\n",
    "#train_w_samp = train_w_samp3\n",
    "train_w_samp = np.ones(len(y_train1))\n",
    "val_w_samp = np.ones(len(y_val1))\n",
    "test_w_samp = np.ones(len(y_test1))\n",
    "\n",
    "\n",
    "case = 'PPG'\n",
    "print(case)\n",
    "if case == 'ECG':\n",
    "    x_train1 = x_train1[:,:,1:2]\n",
    "    x_val1 = x_val1[:,:,1:2]\n",
    "    x_test1 = x_test1[:,:,1:2]\n",
    "\n",
    "if case == 'PPG':\n",
    "    x_train1 = x_train1[:,:,0:1]\n",
    "    x_val1 = x_val1[:,:,0:1]\n",
    "    x_test1 = x_test1[:,:,0:1]\n",
    "    \n",
    "    # 50Hz\n",
    "    SRATE = 50\n",
    "    x_train1 = signal.resample(x_train1, 20*SRATE, axis=1)\n",
    "    x_val1 = signal.resample(x_val1, 20*SRATE, axis=1)\n",
    "    x_test1 = signal.resample(x_test1, 20*SRATE, axis=1)\n",
    "\n",
    "if case == 'both':\n",
    "    x_train1 = x_train1\n",
    "    x_val1 = x_val1\n",
    "    x_test1 = x_test1\n",
    "    \n",
    "    \n",
    "    \n",
    "x_train = x_train1\n",
    "agender_train = agender_train1\n",
    "\n",
    "\n",
    "x_trains = [x_train1, agender_train1]\n",
    "x_vals = [x_val1, agender_val1]\n",
    "x_tests = [x_test1, agender_test1]\n",
    "\n",
    "\n",
    "print(x_train1.shape, len(agender_train1), len(train_w_samp))\n",
    "print(x_val1.shape, len(agender_val1), len(val_w_samp))\n",
    "print(x_test1.shape, len(agender_test1), len(test_w_samp))"
   ]
  },
  {
   "cell_type": "markdown",
   "metadata": {},
   "source": [
    "## model loading"
   ]
  },
  {
   "cell_type": "code",
   "execution_count": 6,
   "metadata": {
    "ExecuteTime": {
     "end_time": "2020-12-29T12:21:56.948373Z",
     "start_time": "2020-12-29T12:21:56.550275Z"
    }
   },
   "outputs": [
    {
     "name": "stdout",
     "output_type": "stream",
     "text": [
      "loading model...done\n",
      "loading weights...done\n"
     ]
    }
   ],
   "source": [
    "from keras.models import model_from_json\n",
    "\n",
    "\n",
    "load_path = '1D-CNN_age+gender/PPG_50Hz/pacu/preprocess6/NRS<4_NRS>=7/1D_CNN_3layers_train_w_samp3_lowess_filtered'\n",
    "load_path+='/roc0.6816_prc0.6491_batch=1024,c1=64,c2=256,c3=0,filt1=3,filt2=5,filt3=0,str1=2,str2=3,str3=0,conv_double=False,globalpool=max,dropout=0.3,dnodes=64,dropout=0.3,dnodes=0,dropout=0_acc0.64'\n",
    "load_weight_path = load_path+'/weights.hdf5'\n",
    "\n",
    "\n",
    "print('loading model...', flush=True, end='')\n",
    "with open(load_path+\"/model.json\", 'r') as f_json:\n",
    "    loaded_model_json = f_json.read()\n",
    "model1 = model_from_json(loaded_model_json)\n",
    "print('done')\n",
    "\n",
    "\n",
    "print('loading weights...', flush=True, end='')\n",
    "model1.load_weights(load_weight_path)\n",
    "print('done')"
   ]
  },
  {
   "cell_type": "markdown",
   "metadata": {},
   "source": [
    "## model evaluation"
   ]
  },
  {
   "cell_type": "markdown",
   "metadata": {},
   "source": [
    "### test set"
   ]
  },
  {
   "cell_type": "code",
   "execution_count": 12,
   "metadata": {
    "ExecuteTime": {
     "end_time": "2020-12-29T12:25:49.369047Z",
     "start_time": "2020-12-29T12:25:49.362456Z"
    }
   },
   "outputs": [
    {
     "data": {
      "text/plain": [
       "array([2., 2., 2., ..., 2., 2., 2.], dtype=float32)"
      ]
     },
     "execution_count": 12,
     "metadata": {},
     "output_type": "execute_result"
    }
   ],
   "source": [
    "y_train_label3"
   ]
  },
  {
   "cell_type": "code",
   "execution_count": 13,
   "metadata": {
    "ExecuteTime": {
     "end_time": "2020-12-29T12:26:20.448801Z",
     "start_time": "2020-12-29T12:26:10.270592Z"
    }
   },
   "outputs": [
    {
     "name": "stdout",
     "output_type": "stream",
     "text": [
      "INFO:tensorflow:Using MirroredStrategy with devices ('/job:localhost/replica:0/task:0/device:GPU:0', '/job:localhost/replica:0/task:0/device:GPU:1')\n"
     ]
    },
    {
     "data": {
      "text/plain": [
       "<AxesSubplot:title={'center':'CM of train set with model trained for NRS<4, NRS>=7'}, xlabel='Predicted label', ylabel='True label'>"
      ]
     },
     "execution_count": 13,
     "metadata": {},
     "output_type": "execute_result"
    },
    {
     "data": {
      "image/png": "[encoded data removed]",
      "text/plain": [
       "<Figure size 864x864 with 2 Axes>"
      ]
     },
     "metadata": {
      "needs_background": "light"
     },
     "output_type": "display_data"
    }
   ],
   "source": [
    "from scikitplot.metrics import plot_confusion_matrix\n",
    "import tensorflow as tf\n",
    "\n",
    "\n",
    "#x_trains = [x_train[:,:,1:2], agender_train[:]]\n",
    "\n",
    "\n",
    "# 전체 test 샘플을 한번에 예측\n",
    "strategy = tf.distribute.MirroredStrategy(devices=[\"/gpu:0\", \"/gpu:1\"])\n",
    "with strategy.scope():\n",
    "    y_pred3 = model1.predict(x_trains).flatten()\n",
    "\n",
    "    \n",
    "# labels for NRS 0 ~ 10\n",
    "labels = []\n",
    "for i in range(11):\n",
    "    label = [0]*11\n",
    "    label[i] = 1\n",
    "    labels.append(label)\n",
    "\n",
    "    \n",
    "y_pred_label3 = np.array([int(round(y_pr/0.1)) for y_pr in y_pred3])\n",
    "y_train_label3 = np.array(y_train1, int)\n",
    "\n",
    "plot_confusion_matrix(\n",
    "    y_train_label3, y_pred_label3, title='CM of train set with model trained for NRS<4, NRS>=7',\n",
    "    figsize=(12,12))"
   ]
  },
  {
   "cell_type": "code",
   "execution_count": 20,
   "metadata": {
    "ExecuteTime": {
     "end_time": "2020-12-29T12:34:14.653852Z",
     "start_time": "2020-12-29T12:34:05.997951Z"
    }
   },
   "outputs": [
    {
     "name": "stdout",
     "output_type": "stream",
     "text": [
      "INFO:tensorflow:Using MirroredStrategy with devices ('/job:localhost/replica:0/task:0/device:GPU:0', '/job:localhost/replica:0/task:0/device:GPU:1')\n"
     ]
    },
    {
     "data": {
      "text/plain": [
       "<AxesSubplot:title={'center':'CM of test set with model trained for NRS<4, NRS>=7'}, xlabel='Predicted label', ylabel='True label'>"
      ]
     },
     "execution_count": 20,
     "metadata": {},
     "output_type": "execute_result"
    },
    {
     "data": {
      "image/png": "[encoded data removed]",
      "text/plain": [
       "<Figure size 864x864 with 2 Axes>"
      ]
     },
     "metadata": {
      "needs_background": "light"
     },
     "output_type": "display_data"
    }
   ],
   "source": [
    "from scikitplot.metrics import plot_confusion_matrix\n",
    "\n",
    "\n",
    "#x_trains0 = [signal.resample(x_train_pacu, 20*SRATE, axis=1), agender_train_pacu]\n",
    "x_tests0 = [signal.resample(x_test_pacu[:,:,0:1], 20*SRATE, axis=1), agender_test_pacu]\n",
    "\n",
    "\n",
    "strategy = tf.distribute.MirroredStrategy(devices=[\"/gpu:0\", \"/gpu:1\"])\n",
    "with strategy.scope():\n",
    "    # 전체 test 샘플을 한번에 예측\n",
    "    y_pred3 = model1.predict(x_tests0).flatten()\n",
    "\n",
    "# labels for NRS 0 ~ 10\n",
    "labels = []\n",
    "for i in range(11):\n",
    "    label = [0]*11\n",
    "    label[i] = 1\n",
    "    labels.append(label)\n",
    "\n",
    "y_pred_label3 = np.array([int(round(y_pr/0.1)) for y_pr in y_pred3])\n",
    "y_test_label3 = np.array(y_test_pacu, int)\n",
    "\n",
    "plot_confusion_matrix(\n",
    "    y_test_label3, y_pred_label3, title='CM of test set with model trained for NRS<4, NRS>=7',\n",
    "    figsize=(12,12))"
   ]
  },
  {
   "cell_type": "code",
   "execution_count": null,
   "metadata": {},
   "outputs": [],
   "source": []
  }
 ],
 "metadata": {
  "kernelspec": {
   "display_name": "Python 3",
   "language": "python",
   "name": "python3"
  },
  "language_info": {
   "codemirror_mode": {
    "name": "ipython",
    "version": 3
   },
   "file_extension": ".py",
   "mimetype": "text/x-python",
   "name": "python",
   "nbconvert_exporter": "python",
   "pygments_lexer": "ipython3",
   "version": "3.6.9"
  },
  "toc": {
   "base_numbering": 1,
   "nav_menu": {},
   "number_sections": true,
   "sideBar": true,
   "skip_h1_title": false,
   "title_cell": "Table of Contents",
   "title_sidebar": "Contents",
   "toc_cell": false,
   "toc_position": {},
   "toc_section_display": true,
   "toc_window_display": false
  },
  "varInspector": {
   "cols": {
    "lenName": 16,
    "lenType": 16,
    "lenVar": 40
   },
   "kernels_config": {
    "python": {
     "delete_cmd_postfix": "",
     "delete_cmd_prefix": "del ",
     "library": "var_list.py",
     "varRefreshCmd": "print(var_dic_list())"
    },
    "r": {
     "delete_cmd_postfix": ") ",
     "delete_cmd_prefix": "rm(",
     "library": "var_list.r",
     "varRefreshCmd": "cat(var_dic_list()) "
    }
   },
   "types_to_exclude": [
    "module",
    "function",
    "builtin_function_or_method",
    "instance",
    "_Feature"
   ],
   "window_display": false
  }
 },
 "nbformat": 4,
 "nbformat_minor": 4
}
