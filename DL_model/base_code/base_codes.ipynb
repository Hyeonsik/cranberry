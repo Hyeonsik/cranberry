{
 "cells": [
  {
   "cell_type": "code",
   "execution_count": null,
   "metadata": {},
   "outputs": [],
   "source": []
  },
  {
   "cell_type": "code",
   "execution_count": null,
   "metadata": {},
   "outputs": [],
   "source": []
  },
  {
   "cell_type": "code",
   "execution_count": null,
   "metadata": {},
   "outputs": [],
   "source": []
  },
  {
   "cell_type": "markdown",
   "metadata": {},
   "source": [
    "# GPU settings"
   ]
  },
  {
   "cell_type": "code",
   "execution_count": null,
   "metadata": {},
   "outputs": [],
   "source": [
    "import tensorflow as tf\n",
    "\n",
    "gpus = tf.config.experimental.list_physical_devices('GPU')\n",
    "if gpus:\n",
    "    try:\n",
    "        # Currently, memory growth needs to be the same across GPUs\n",
    "        for gpu in gpus:\n",
    "            tf.config.experimental.set_memory_growth(gpu, True)\n",
    "        logical_gpus = tf.config.experimental.list_logical_devices('GPU')\n",
    "        print(len(gpus), \"Physical GPUs,\", len(logical_gpus), \"Logical GPUs\")\n",
    "    except RuntimeError as e:\n",
    "        # Memory growth must be set before GPUs have been initialized\n",
    "        print(e)"
   ]
  },
  {
   "cell_type": "markdown",
   "metadata": {},
   "source": [
    "# Sample weights"
   ]
  },
  {
   "cell_type": "markdown",
   "metadata": {},
   "source": [
    "## 2 class (NRS>=4, NRS<4)"
   ]
  },
  {
   "cell_type": "code",
   "execution_count": null,
   "metadata": {},
   "outputs": [],
   "source": [
    "# binary classification\n",
    "y_train_bin = y_train>=4\n",
    "y_test_bin = y_test>=4\n",
    "y_val_bin = y_val>=4\n",
    "\n",
    "\n",
    "# 2 class에 대한 sample weight\n",
    "train_w_samp2 = np.ones(shape=(len(y_train),))\n",
    "train_w_samp2[y_train_bin==0]= len(y_train) / np.sum(y_train_bin)\n",
    "train_w_samp2[y_train_bin!=0]= len(y_train) / np.sum(~y_train_bin)\n",
    "\n",
    "\n",
    "print('train set')\n",
    "print('sample weight for no pain: {:.2f}, moderate pain: {:.2f}'\n",
    "      .format(len(y_train) / np.sum(y_train_bin), len(y_train) / np.sum(~y_train_bin)))\n",
    "\n",
    "\n",
    "# 2 class에 대한 sample weight\n",
    "val_w_samp2 = np.ones(shape=(len(y_val),))\n",
    "val_w_samp2[y_val_bin==0]= len(y_val) / np.sum(y_val_bin)\n",
    "val_w_samp2[y_val_bin!=0]= len(y_val) / np.sum(~y_val_bin)\n",
    "\n",
    "print('val set')\n",
    "print('sample weight for no pain: {:.2f}, moderate pain: {:.2f}'\n",
    "      .format(len(y_val) / np.sum(y_val_bin), len(y_val) / np.sum(~y_val_bin)))\n",
    "\n",
    "# 2 class에 대한 sample weight\n",
    "test_w_samp2 = np.ones(shape=(len(y_test),))\n",
    "test_w_samp2[y_test_bin==0]= len(y_test) / np.sum(y_test_bin)\n",
    "test_w_samp2[y_test_bin!=0]= len(y_test) / np.sum(~y_test_bin)\n",
    "\n",
    "\n",
    "print('test set')\n",
    "print('sample weight for no pain: {:.2f}, moderate pain: {:.2f}'\n",
    "      .format(len(y_test) / np.sum(y_test_bin), len(y_test) / np.sum(~y_test_bin)))"
   ]
  },
  {
   "cell_type": "markdown",
   "metadata": {},
   "source": [
    "## 2 class (NRS>=7, NRS<7)"
   ]
  },
  {
   "cell_type": "code",
   "execution_count": null,
   "metadata": {},
   "outputs": [],
   "source": [
    "y_train_bin2 = y_train>=7\n",
    "y_test_bin2 = y_test>=7\n",
    "y_val_bin2 = y_val>=7\n",
    "\n",
    "\n",
    "# 2 class에 대한 sample weight\n",
    "train_w_samp2_2 = np.ones(shape=(len(y_train),))\n",
    "train_w_samp2_2[y_train_bin==0]= len(y_train) / np.sum(y_train_bin2)\n",
    "train_w_samp2_2[y_train_bin!=0]= len(y_train) / np.sum(~y_train_bin2)\n",
    "\n",
    "print('train set')\n",
    "print('sample weight for no pain: {:.2f}, severe pain: {:.2f}\\n'\n",
    "      .format(len(y_train) / np.sum(y_train_bin2), len(y_train) / np.sum(~y_train_bin2)))\n",
    "\n",
    "\n",
    "# 2 class에 대한 sample weight\n",
    "val_w_samp2_2 = np.ones(shape=(len(y_val),))\n",
    "val_w_samp2_2[y_val_bin==0]= len(y_val) / np.sum(y_val_bin2)\n",
    "val_w_samp2_2[y_val_bin!=0]= len(y_val) / np.sum(~y_val_bin2)\n",
    "\n",
    "print('val set')\n",
    "print('sample weight for no pain: {:.2f}, severe pain: {:.2f}\\n'\n",
    "      .format(len(y_val) / np.sum(y_val_bin2), len(y_val) / np.sum(~y_val_bin2)))\n",
    "\n",
    "\n",
    "# 2 class에 대한 sample weight\n",
    "test_w_samp2_2 = np.ones(shape=(len(y_test),))\n",
    "test_w_samp2_2[y_test_bin==0]= len(y_test) / np.sum(y_test_bin2)\n",
    "test_w_samp2_2[y_test_bin!=0]= len(y_test) / np.sum(~y_test_bin2)\n",
    "\n",
    "print('test set')\n",
    "print('sample weight for no pain: {:.2f}, severe pain: {:.2f}'\n",
    "      .format(len(y_test) / np.sum(y_test_bin2), len(y_test) / np.sum(~y_test_bin2)))"
   ]
  },
  {
   "cell_type": "markdown",
   "metadata": {},
   "source": [
    "## 3 class (NRS>=7, 7>NRS>=4, NRS<4)"
   ]
  },
  {
   "cell_type": "code",
   "execution_count": null,
   "metadata": {},
   "outputs": [],
   "source": [
    "# 3 class에 대한 sample weight\n",
    "train_w_samp3 = np.ones(shape=(len(y_train),))\n",
    "\n",
    "train_w_samp3[y_train<4]= len(y_train)/np.sum(y_train<4)\n",
    "train_w_samp3[(y_train>=4)&(y_train<7)]= len(y_train)/np.sum((4<=y_train)&(y_train<7))\n",
    "train_w_samp3[y_train>=7]= len(y_train)/np.sum(y_train>=7)\n",
    "\n",
    "print('train set')\n",
    "print('sample weight for class 1: {:.2f}, class 2: {:.2f}, class 3: {:.2f}\\n'\n",
    "      .format(len(y_train)/np.sum(y_train<4),len(y_train)/np.sum((y_train>=4)&(y_train<7)),len(y_train)/np.sum(y_train>=7)))\n",
    "\n",
    "\n",
    "# 3 class에 대한 sample weight\n",
    "val_w_samp3 = np.ones(shape=(len(y_val),))\n",
    "\n",
    "val_w_samp3[y_val<4]= len(y_val)/np.sum(y_val<4)\n",
    "val_w_samp3[(y_val>=4)&(y_val<7)]= len(y_val)/np.sum((4<=y_val)&(y_val<7))\n",
    "val_w_samp3[y_val>=7]= len(y_val)/np.sum(y_val>=7)\n",
    "\n",
    "print('val set')\n",
    "print('sample weight for class 1: {:.2f}, class 2: {:.2f}, class 3: {:.2f}\\n'\n",
    "      .format(len(y_val)/np.sum(y_val<4),len(y_val)/np.sum((y_val>=4)&(y_val<7)),len(y_val)/np.sum(y_val>=7)))\n",
    "\n",
    "\n",
    "# 3 class에 대한 sample weight\n",
    "test_w_samp3 = np.ones(shape=(len(y_test),))\n",
    "\n",
    "test_w_samp3[y_test<4]= len(y_test)/np.sum(y_test<4)\n",
    "test_w_samp3[(y_test>=4)&(y_test<7)]= len(y_test)/np.sum((4<=y_test)&(y_test<7))\n",
    "test_w_samp3[y_test>=7]= len(y_test)/np.sum(y_test>=7)\n",
    "\n",
    "print('test set')\n",
    "print('sample weight for class 1: {:.2f}, class 2: {:.2f}, class 3: {:.2f}'\n",
    "      .format(len(y_test)/np.sum(y_test<4),len(y_test)/np.sum((y_test>=4)&(y_test<7)),len(y_test)/np.sum(y_test>=7)))"
   ]
  }
 ],
 "metadata": {
  "kernelspec": {
   "display_name": "Python 3",
   "language": "python",
   "name": "python3"
  },
  "language_info": {
   "codemirror_mode": {
    "name": "ipython",
    "version": 3
   },
   "file_extension": ".py",
   "mimetype": "text/x-python",
   "name": "python",
   "nbconvert_exporter": "python",
   "pygments_lexer": "ipython3",
   "version": "3.6.9"
  },
  "toc": {
   "base_numbering": 1,
   "nav_menu": {},
   "number_sections": true,
   "sideBar": true,
   "skip_h1_title": false,
   "title_cell": "Table of Contents",
   "title_sidebar": "Contents",
   "toc_cell": false,
   "toc_position": {},
   "toc_section_display": true,
   "toc_window_display": true
  },
  "varInspector": {
   "cols": {
    "lenName": 16,
    "lenType": 16,
    "lenVar": 40
   },
   "kernels_config": {
    "python": {
     "delete_cmd_postfix": "",
     "delete_cmd_prefix": "del ",
     "library": "var_list.py",
     "varRefreshCmd": "print(var_dic_list())"
    },
    "r": {
     "delete_cmd_postfix": ") ",
     "delete_cmd_prefix": "rm(",
     "library": "var_list.r",
     "varRefreshCmd": "cat(var_dic_list()) "
    }
   },
   "types_to_exclude": [
    "module",
    "function",
    "builtin_function_or_method",
    "instance",
    "_Feature"
   ],
   "window_display": false
  }
 },
 "nbformat": 4,
 "nbformat_minor": 4
}
