{
 "cells": [
  {
   "cell_type": "markdown",
   "metadata": {},
   "source": [
    "# train, test loading"
   ]
  },
  {
   "cell_type": "code",
   "execution_count": 1,
   "metadata": {
    "ExecuteTime": {
     "end_time": "2020-12-03T05:52:14.692061Z",
     "start_time": "2020-12-03T05:51:36.631875Z"
    }
   },
   "outputs": [
    {
     "name": "stdout",
     "output_type": "stream",
     "text": [
      "loading train...done\n",
      "x_train shape: (116619, 5000, 2)\n",
      "x_test.shape: (13749, 5000, 2)\n",
      "x_val.shape: (13128, 5000, 2)\n"
     ]
    }
   ],
   "source": [
    "print('loading train...', flush=True, end='')\n",
    "\n",
    "# x를 loading해서 (batch_size, step, channel)\n",
    "input_path = '../DL_model/dataset/preprocess2/input3-2/'\n",
    "x_train = np.load(input_path+'x_train.npz', allow_pickle=True)['arr_0']\n",
    "x_test = np.load(input_path+'x_test.npz', allow_pickle=True)['arr_0']\n",
    "x_val = np.load(input_path+'x_val.npz', allow_pickle=True)['arr_0']\n",
    "y_train = np.load(input_path+'y_train.npz')['arr_0']\n",
    "y_test = np.load(input_path+'y_test.npz')['arr_0']\n",
    "y_val = np.load(input_path+'y_val.npz')['arr_0']\n",
    "print('done', flush=True)\n",
    "\n",
    "\n",
    "print('x_train shape:', x_train.shape)\n",
    "print('x_test.shape:', x_test.shape)\n",
    "print('x_val.shape:', x_val.shape)\n",
    "\n",
    "\n",
    "# random shuffling - train set\n",
    "ids = np.arange(x_train.shape[0])\n",
    "np.random.shuffle(ids)\n",
    "\n",
    "x_train = x_train[ids]\n",
    "y_train = y_train[ids]\n",
    "\n",
    "\n",
    "# random shuffling - vall set\n",
    "ids = np.arange(x_val.shape[0])\n",
    "np.random.shuffle(ids)\n",
    "\n",
    "x_val = x_val[ids]\n",
    "y_val = y_val[ids]\n",
    "\n",
    "\n",
    "# random shuffling\n",
    "ids = np.arange(x_test.shape[0])\n",
    "np.random.shuffle(ids)\n",
    "\n",
    "x_test = x_test[ids]\n",
    "y_test = y_test[ids]\n",
    "                          \n",
    "                          \n",
    "# binary classification\n",
    "y_train_bin = y_train >= 4\n",
    "y_test_bin = y_test >= 4\n",
    "y_val_bin = y_val >= 4"
   ]
  },
  {
   "cell_type": "code",
   "execution_count": 2,
   "metadata": {
    "ExecuteTime": {
     "end_time": "2020-12-02T15:00:02.465381Z",
     "start_time": "2020-12-02T15:00:02.455301Z"
    }
   },
   "outputs": [
    {
     "name": "stdout",
     "output_type": "stream",
     "text": [
      "y_train의 평균: 0.6065, y_test의 평균: 0.5790\n",
      "y_val의 평균: 0.6111\n"
     ]
    }
   ],
   "source": [
    "print('y_train의 평균: {:.4f}, y_test의 평균: {:.4f}'.format(np.mean(y_train_bin), np.mean(y_test_bin)))\n",
    "print('y_val의 평균: {:.4f}'.format(np.mean(y_val_bin)))"
   ]
  },
  {
   "cell_type": "markdown",
   "metadata": {},
   "source": [
    "# GPU setting"
   ]
  },
  {
   "cell_type": "markdown",
   "metadata": {},
   "source": [
    "## GPU memory 확장"
   ]
  },
  {
   "cell_type": "code",
   "execution_count": 2,
   "metadata": {
    "ExecuteTime": {
     "end_time": "2020-12-03T05:52:39.307587Z",
     "start_time": "2020-12-03T05:52:32.987067Z"
    }
   },
   "outputs": [
    {
     "name": "stdout",
     "output_type": "stream",
     "text": [
      "4 Physical GPUs, 4 Logical GPUs\n"
     ]
    }
   ],
   "source": [
    "import tensorflow as tf\n",
    "\n",
    "gpus = tf.config.experimental.list_physical_devices('GPU')\n",
    "if gpus:\n",
    "    try:\n",
    "        # Currently, memory growth needs to be the same across GPUs\n",
    "        for gpu in gpus:\n",
    "            tf.config.experimental.set_memory_growth(gpu, True)\n",
    "        logical_gpus = tf.config.experimental.list_logical_devices('GPU')\n",
    "        print(len(gpus), \"Physical GPUs,\", len(logical_gpus), \"Logical GPUs\")\n",
    "    except RuntimeError as e:\n",
    "        # Memory growth must be set before GPUs have been initialized\n",
    "        print(e)"
   ]
  },
  {
   "cell_type": "markdown",
   "metadata": {},
   "source": [
    "# Model"
   ]
  },
  {
   "cell_type": "markdown",
   "metadata": {},
   "source": [
    "## Training"
   ]
  },
  {
   "cell_type": "code",
   "execution_count": 13,
   "metadata": {
    "ExecuteTime": {
     "end_time": "2020-12-03T06:16:23.790187Z",
     "start_time": "2020-12-03T06:13:49.028418Z"
    },
    "scrolled": true
   },
   "outputs": [
    {
     "name": "stdout",
     "output_type": "stream",
     "text": [
      "32-32-32\n",
      "INFO:tensorflow:Using MirroredStrategy with devices ('/job:localhost/replica:0/task:0/device:GPU:0', '/job:localhost/replica:0/task:0/device:GPU:1')\n",
      "Epoch 1/100\n",
      "INFO:tensorflow:batch_all_reduce: 20 all-reduces with algorithm = nccl, num_packs = 1\n",
      "INFO:tensorflow:batch_all_reduce: 20 all-reduces with algorithm = nccl, num_packs = 1\n",
      "114/114 [==============================] - ETA: 0s - loss: 0.7514 - acc: 0.6677 - auc_3: 0.6817\n",
      "Epoch 00001: val_loss improved from inf to 0.46563, saving model to output/input3-2_PPG+ECG/1D_CNN_model(NRS4)_bin_conv32_conv32_conv32_filter5x2_tanh_bn_maxpool2_globalmaxpool_dropout0.3_dense0_dropout0.3_batch1024_lr_0.001_kinit_kreg1e-05/weights.hdf5\n",
      "114/114 [==============================] - 14s 123ms/step - loss: 0.7514 - acc: 0.6677 - auc_3: 0.6817 - val_loss: 0.4656 - val_acc: 0.8081 - val_auc_3: 0.7916\n",
      "Epoch 2/100\n",
      "114/114 [==============================] - ETA: 0s - loss: 0.5366 - acc: 0.7528 - auc_3: 0.7597\n",
      "Epoch 00002: val_loss improved from 0.46563 to 0.44693, saving model to output/input3-2_PPG+ECG/1D_CNN_model(NRS4)_bin_conv32_conv32_conv32_filter5x2_tanh_bn_maxpool2_globalmaxpool_dropout0.3_dense0_dropout0.3_batch1024_lr_0.001_kinit_kreg1e-05/weights.hdf5\n",
      "114/114 [==============================] - 11s 97ms/step - loss: 0.5366 - acc: 0.7528 - auc_3: 0.7597 - val_loss: 0.4469 - val_acc: 0.8142 - val_auc_3: 0.7964\n",
      "Epoch 3/100\n",
      "114/114 [==============================] - ETA: 0s - loss: 0.4905 - acc: 0.7793 - auc_3: 0.7708\n",
      "Epoch 00003: val_loss did not improve from 0.44693\n",
      "114/114 [==============================] - 11s 94ms/step - loss: 0.4905 - acc: 0.7793 - auc_3: 0.7708 - val_loss: 0.4629 - val_acc: 0.8144 - val_auc_3: 0.8053\n",
      "Epoch 4/100\n",
      "114/114 [==============================] - ETA: 0s - loss: 0.4681 - acc: 0.7950 - auc_3: 0.7758\n",
      "Epoch 00004: val_loss improved from 0.44693 to 0.44691, saving model to output/input3-2_PPG+ECG/1D_CNN_model(NRS4)_bin_conv32_conv32_conv32_filter5x2_tanh_bn_maxpool2_globalmaxpool_dropout0.3_dense0_dropout0.3_batch1024_lr_0.001_kinit_kreg1e-05/weights.hdf5\n",
      "114/114 [==============================] - 11s 95ms/step - loss: 0.4681 - acc: 0.7950 - auc_3: 0.7758 - val_loss: 0.4469 - val_acc: 0.8151 - val_auc_3: 0.7829\n",
      "Epoch 5/100\n",
      "114/114 [==============================] - ETA: 0s - loss: 0.4554 - acc: 0.8031 - auc_3: 0.7818\n",
      "Epoch 00005: val_loss improved from 0.44691 to 0.42486, saving model to output/input3-2_PPG+ECG/1D_CNN_model(NRS4)_bin_conv32_conv32_conv32_filter5x2_tanh_bn_maxpool2_globalmaxpool_dropout0.3_dense0_dropout0.3_batch1024_lr_0.001_kinit_kreg1e-05/weights.hdf5\n",
      "114/114 [==============================] - 11s 96ms/step - loss: 0.4554 - acc: 0.8031 - auc_3: 0.7818 - val_loss: 0.4249 - val_acc: 0.8202 - val_auc_3: 0.7992\n",
      "Epoch 6/100\n",
      "114/114 [==============================] - ETA: 0s - loss: 0.4470 - acc: 0.8081 - auc_3: 0.7864\n",
      "Epoch 00006: val_loss improved from 0.42486 to 0.42416, saving model to output/input3-2_PPG+ECG/1D_CNN_model(NRS4)_bin_conv32_conv32_conv32_filter5x2_tanh_bn_maxpool2_globalmaxpool_dropout0.3_dense0_dropout0.3_batch1024_lr_0.001_kinit_kreg1e-05/weights.hdf5\n",
      "114/114 [==============================] - 11s 94ms/step - loss: 0.4470 - acc: 0.8081 - auc_3: 0.7864 - val_loss: 0.4242 - val_acc: 0.8201 - val_auc_3: 0.7982\n",
      "Epoch 7/100\n",
      "114/114 [==============================] - ETA: 0s - loss: 0.4408 - acc: 0.8113 - auc_3: 0.7904\n",
      "Epoch 00007: val_loss improved from 0.42416 to 0.42319, saving model to output/input3-2_PPG+ECG/1D_CNN_model(NRS4)_bin_conv32_conv32_conv32_filter5x2_tanh_bn_maxpool2_globalmaxpool_dropout0.3_dense0_dropout0.3_batch1024_lr_0.001_kinit_kreg1e-05/weights.hdf5\n",
      "114/114 [==============================] - 11s 96ms/step - loss: 0.4408 - acc: 0.8113 - auc_3: 0.7904 - val_loss: 0.4232 - val_acc: 0.8227 - val_auc_3: 0.7895\n",
      "Epoch 8/100\n",
      "114/114 [==============================] - ETA: 0s - loss: 0.4332 - acc: 0.8138 - auc_3: 0.7976\n",
      "Epoch 00008: val_loss did not improve from 0.42319\n",
      "114/114 [==============================] - 11s 94ms/step - loss: 0.4332 - acc: 0.8138 - auc_3: 0.7976 - val_loss: 0.4236 - val_acc: 0.8239 - val_auc_3: 0.7912\n",
      "Epoch 9/100\n",
      "114/114 [==============================] - ETA: 0s - loss: 0.4351 - acc: 0.8132 - auc_3: 0.7949\n",
      "Epoch 00009: val_loss did not improve from 0.42319\n",
      "114/114 [==============================] - 11s 96ms/step - loss: 0.4351 - acc: 0.8132 - auc_3: 0.7949 - val_loss: 0.4358 - val_acc: 0.8175 - val_auc_3: 0.7724\n",
      "Epoch 10/100\n",
      "114/114 [==============================] - ETA: 0s - loss: 0.4320 - acc: 0.8142 - auc_3: 0.7978\n",
      "Epoch 00010: val_loss did not improve from 0.42319\n",
      "114/114 [==============================] - 11s 95ms/step - loss: 0.4320 - acc: 0.8142 - auc_3: 0.7978 - val_loss: 0.4280 - val_acc: 0.8243 - val_auc_3: 0.7847\n",
      "Epoch 11/100\n",
      "114/114 [==============================] - ETA: 0s - loss: 0.4260 - acc: 0.8164 - auc_3: 0.8052\n",
      "Epoch 00011: val_loss did not improve from 0.42319\n",
      "114/114 [==============================] - 11s 95ms/step - loss: 0.4260 - acc: 0.8164 - auc_3: 0.8052 - val_loss: 0.4262 - val_acc: 0.8248 - val_auc_3: 0.7950\n",
      "Epoch 12/100\n",
      "114/114 [==============================] - ETA: 0s - loss: 0.4243 - acc: 0.8169 - auc_3: 0.8071\n",
      "Epoch 00012: val_loss did not improve from 0.42319\n",
      "114/114 [==============================] - 11s 97ms/step - loss: 0.4243 - acc: 0.8169 - auc_3: 0.8071 - val_loss: 0.4257 - val_acc: 0.8244 - val_auc_3: 0.7932\n"
     ]
    }
   ],
   "source": [
    "from keras.models import Sequential\n",
    "from keras.models import Model, load_model\n",
    "from keras.optimizers import Adam as Adam\n",
    "from keras.layers import Dense, Conv1D, MaxPooling1D, GlobalMaxPool1D, BatchNormalization, Dropout, Activation\n",
    "from keras.layers import GlobalAveragePooling1D, Flatten, SeparableConv1D, LeakyReLU\n",
    "from keras.callbacks import ModelCheckpoint, EarlyStopping\n",
    "from sklearn.metrics import auc, classification_report, confusion_matrix, accuracy_score, roc_curve, roc_auc_score, f1_score, precision_recall_curve\n",
    "import tensorflow as tf\n",
    "import os, pickle\n",
    "from keras import backend as K\n",
    "from keras import regularizers\n",
    "from keras.initializers import he_normal, GlorotNormal\n",
    "\n",
    "\n",
    "# hyperparamters\n",
    "num_nodes = [32, 32, 32] #, 64, 64, 64]\n",
    "kernel_size = 5\n",
    "pool_size = 2\n",
    "BATCH_SIZE = 1024\n",
    "dense_node = 0\n",
    "dropout_rate = 0.3\n",
    "dropout_cnn = 0.3\n",
    "dropout_fc = 0.3\n",
    "learning_rate = 0.001\n",
    "\n",
    "\n",
    "# initializer & regularizer\n",
    "k_init = he_normal(seed=None)\n",
    "#k_init = GlorotNormal(seed=None) # Xavier normal initializer\n",
    "#k_init = None\n",
    "b_init = None\n",
    "k_l2 = 1e-5\n",
    "k_reg = regularizers.l2(l2=k_l2)\n",
    "k_reg = None\n",
    "b_reg = None\n",
    "\n",
    "\n",
    "testname = '-'.join([str(num_node) for num_node in num_nodes])\n",
    "print(testname)\n",
    "\n",
    "\n",
    "# 출력 폴더를 생성\n",
    "model_name = 'model(NRS4)_bin_'\n",
    "for num_node in num_nodes:\n",
    "    model_name += 'conv{}_'.format(num_node)\n",
    "model_name += 'filter{}x2_tanh_bn_maxpool{}_globalmaxpool_dropout{}_dense{}_dropout{}_batch{}_lr_{}_kinit_kreg{}'.format(kernel_size, pool_size, dropout_cnn, dense_node, dropout_fc, BATCH_SIZE, learning_rate, k_l2)\n",
    "\n",
    "#model_name = 'model_reg_{}_{}_{}_size{}_relu_bn_maxpool{}_globalmaxpool_dense32_dropout{}_batch{}_learning_rate{}'.format(num_nodes[0], num_nodes[1], num_nodes[2], kernel_size, pool_size, dropout_rate, BATCH_SIZE, learning_rate)\n",
    "save_path = \"output/input3-2_PPG+ECG/1D_CNN_\"+model_name\n",
    "\n",
    "if not os.path.exists(save_path):\n",
    "    os.mkdir(save_path)\n",
    "weight_path = save_path + \"/weights.hdf5\"\n",
    "\n",
    "\n",
    "# GPU 설정\n",
    "strategy = tf.distribute.MirroredStrategy(devices=[\"/gpu:0\",\"/gpu:1\"])#,\"/gpu:2\",\"/gpu:3\"])\n",
    "with strategy.scope():\n",
    "    \n",
    "    # build a model\n",
    "    model = Sequential()\n",
    "    for num_node in num_nodes:\n",
    "        model.add(Conv1D(filters=num_node, kernel_size=kernel_size, padding='same', kernel_initializer=k_init,bias_initializer =b_init , kernel_regularizer=k_reg, bias_regularizer=b_reg))\n",
    "        model.add(Conv1D(filters=num_node, kernel_size=kernel_size, padding='same', kernel_initializer=k_init,bias_initializer =b_init , kernel_regularizer=k_reg, bias_regularizer=b_reg))\n",
    "        model.add(LeakyReLU(alpha=0.1))\n",
    "        #model.add(Activation('tanh'))\n",
    "        model.add(BatchNormalization())\n",
    "        model.add(MaxPooling1D(pool_size=pool_size))\n",
    "    #model.add(BatchNormalization())    \n",
    "    model.add(GlobalMaxPool1D())\n",
    "    #model.add(Flatten())\n",
    "    model.add(Dropout(dropout_cnn))\n",
    "    #model.add(Activation('sigmoid'))\n",
    "    #model.add(Dropout(dropout_rate))\n",
    "    if dense_node != 0:\n",
    "        model.add(Dense(dense_node, activation='tanh', kernel_initializer=k_init, kernel_regularizer=k_reg))\n",
    "        model.add(Dropout(dropout_fc))\n",
    "    model.add(Dense(1, activation='sigmoid'))\n",
    "\n",
    "    \n",
    "    # model 학습 설정\n",
    "    model.compile(loss='binary_crossentropy', optimizer=Adam(lr=learning_rate), metrics=[\"acc\", tf.keras.metrics.AUC()])\n",
    "    hist = model.fit(x_train, y_train_bin, validation_data = (x_val, y_val_bin), epochs=100, batch_size=BATCH_SIZE, #class_weight={0:1, 1:3}, \n",
    "                            callbacks=[ModelCheckpoint(monitor='val_loss', filepath=weight_path, verbose=1, save_best_only=True),\n",
    "                                        EarlyStopping(monitor='val_loss', patience=5, verbose=0, mode='auto')])\n",
    "\n",
    "    #tf.keras.backend.clear_session()\n",
    "\n",
    "model.load_weights(weight_path)\n",
    "    \n",
    "# 모델의 아키텍처 및 구조 저장\n",
    "open(save_path + \"/model.json\", \"wt\").write(model.to_json())\n",
    "\n",
    "\n",
    "# 전체 test 샘플을 한번에 예측\n",
    "y_pred = model.predict(x_test).flatten()\n",
    "\n",
    "# 결과를 저장\n",
    "#np.savetxt(save_path+'/pred_y.txt', y_pred)\n",
    "\n",
    "\n",
    "# 모델의 history log 저장 - binary classification\n",
    "for key in hist.history.keys():\n",
    "    if 'auc' in key and not 'val' in key:\n",
    "        auc_key = key\n",
    "#pickle.dump((hist.history['loss'], hist.history['val_loss'], hist.history['accuracy'], hist.history['val_accuracy'], hist.history[auc], hist.history['val_'+auc]), open(save_path+'/history', 'wb'))\n",
    "\n",
    "# 모델의 history log 저장 - regression\n",
    "pickle.dump((hist.history['loss'], hist.history['val_loss'], hist.history['acc'], hist.history['val_acc'], hist.history[auc_key], hist.history['val_'+auc_key]), open(save_path+'/history', 'wb'))\n"
   ]
  },
  {
   "cell_type": "markdown",
   "metadata": {},
   "source": [
    "## Model Evaluation"
   ]
  },
  {
   "cell_type": "code",
   "execution_count": 14,
   "metadata": {
    "ExecuteTime": {
     "end_time": "2020-12-03T06:16:36.619564Z",
     "start_time": "2020-12-03T06:16:36.365397Z"
    }
   },
   "outputs": [
    {
     "name": "stdout",
     "output_type": "stream",
     "text": [
      "test set accuracy:0.78\n",
      "test set auroc: 0.7394301356497464\n"
     ]
    },
    {
     "data": {
      "image/png": "[encoded data removed]",
      "text/plain": [
       "<Figure size 432x432 with 1 Axes>"
      ]
     },
     "metadata": {
      "needs_background": "light"
     },
     "output_type": "display_data"
    }
   ],
   "source": [
    "from sklearn.metrics import roc_curve, auc, r2_score\n",
    "from numpy import interp\n",
    "from keras import losses, metrics\n",
    "import keras.backend as K\n",
    "import matplotlib.pyplot as plt\n",
    "\n",
    "### Classification\n",
    "# Model Accuracy of test set\n",
    "model_y = y_pred>=0.5\n",
    "acc_val = np.mean(model_y==y_test_bin)\n",
    "print('test set accuracy:{:.2f}'.format(acc_val))\n",
    "\n",
    "\n",
    "# Model AUROC\n",
    "false_positive_rate, true_positive_rate, threshold = roc_curve(y_test_bin, y_pred)\n",
    "roc_auc = auc(false_positive_rate, true_positive_rate)\n",
    "print('test set auroc:', roc_auc)\n",
    "\n",
    "# Model R_square\n",
    "#print('test set R2:', r2_score(y_test, y_pred*9))\n",
    "\n",
    "\n",
    "# Adding evaluation results to file name\n",
    "# classification\n",
    "#os.rename(save_path, save_path+'_auc{:.4f}_acc{:.4f}'.format(roc_auc,np.mean(model_y==y_test_bin)))\n",
    "\n",
    "# regression\n",
    "os.rename(save_path, 'output/input3-2_PPG+ECG/auc{:.4f}_1D_CNN_{}acc{:.2f}'.format(roc_auc,model_name,acc_val))\n",
    "\n",
    "\n",
    "# plotting roc\n",
    "plt.figure(figsize=(6,6))\n",
    "plt.title('Receiver Operating Characteristic')\n",
    "plt.xlabel(\"False Positive Rate(1 - Specificity)\")\n",
    "plt.ylabel('True Positive Rate(Sensitivity)')\n",
    "\n",
    "plt.plot(false_positive_rate, true_positive_rate, 'b', label='Model 1 (AUC = %0.4f)'% roc_auc)\n",
    "plt.plot([0,1],[1,1],'y--')\n",
    "plt.plot([0,1],[0,1],'r--')\n",
    "\n",
    "plt.legend(loc='lower right')\n",
    "plt.show()"
   ]
  },
  {
   "cell_type": "markdown",
   "metadata": {},
   "source": [
    "## Model history plot\n",
    "- training curve"
   ]
  },
  {
   "cell_type": "code",
   "execution_count": 15,
   "metadata": {
    "ExecuteTime": {
     "end_time": "2020-12-03T06:16:41.875553Z",
     "start_time": "2020-12-03T06:16:41.434935Z"
    }
   },
   "outputs": [
    {
     "data": {
      "image/png": "[encoded data removed]",
      "text/plain": [
       "<Figure size 1440x720 with 2 Axes>"
      ]
     },
     "metadata": {
      "needs_background": "light"
     },
     "output_type": "display_data"
    }
   ],
   "source": [
    "# model auroc 0.719짜리\n",
    "%matplotlib inline\n",
    "import matplotlib.pyplot as plt\n",
    "\n",
    "fig, loss_ax = plt.subplots(figsize=(20,10))\n",
    "\n",
    "#x-axis는 공유하지만 y-axis는 공유x\n",
    "acc_ax = loss_ax.twinx()\n",
    "\n",
    "loss_ax.plot(hist.history['loss'], 'y', linestyle='dashed', label='train loss')\n",
    "loss_ax.plot(hist.history['val_loss'], 'r', label='val loss')\n",
    "\n",
    "#acc_ax.plot(hist.history['mean_absolute_error'], 'b', linestyle='dashed',label='train mae')\n",
    "#acc_ax.plot(hist.history['val_mean_absolute_error'], 'g', label='val mae')\n",
    "acc_ax.plot(hist.history['acc'], 'b', linestyle='dashed',label='train acc')\n",
    "acc_ax.plot(hist.history['val_acc'], 'g', label='val acc')\n",
    "\n",
    "loss_ax.set_xlabel('epoch')\n",
    "loss_ax.set_ylabel('loss')\n",
    "#acc_ax.set_ylim(0.2,1.0)\n",
    "acc_ax.set_ylabel('accuray')\n",
    "\n",
    "loss_ax.legend(loc='upper left')\n",
    "acc_ax.legend(loc='lower left')\n",
    "\n",
    "plt.show()"
   ]
  },
  {
   "cell_type": "code",
   "execution_count": null,
   "metadata": {},
   "outputs": [],
   "source": [
    "test_result = model.evaluate(x=x_test, y=y_test_bin, batch_size=512, verbose=1, sample_weight=None, steps=None, callbacks=None)"
   ]
  },
  {
   "cell_type": "markdown",
   "metadata": {},
   "source": [
    "## Model summary"
   ]
  },
  {
   "cell_type": "code",
   "execution_count": 6,
   "metadata": {
    "ExecuteTime": {
     "end_time": "2020-12-03T06:05:50.906085Z",
     "start_time": "2020-12-03T06:05:50.881509Z"
    },
    "scrolled": true
   },
   "outputs": [
    {
     "name": "stdout",
     "output_type": "stream",
     "text": [
      "Model: \"sequential\"\n",
      "_________________________________________________________________\n",
      "Layer (type)                 Output Shape              Param #   \n",
      "=================================================================\n",
      "conv1d (Conv1D)              (None, 5000, 128)         1408      \n",
      "_________________________________________________________________\n",
      "conv1d_1 (Conv1D)            (None, 5000, 128)         82048     \n",
      "_________________________________________________________________\n",
      "leaky_re_lu (LeakyReLU)      (None, 5000, 128)         0         \n",
      "_________________________________________________________________\n",
      "batch_normalization (BatchNo (None, 5000, 128)         512       \n",
      "_________________________________________________________________\n",
      "max_pooling1d (MaxPooling1D) (None, 2500, 128)         0         \n",
      "_________________________________________________________________\n",
      "conv1d_2 (Conv1D)            (None, 2500, 128)         82048     \n",
      "_________________________________________________________________\n",
      "conv1d_3 (Conv1D)            (None, 2500, 128)         82048     \n",
      "_________________________________________________________________\n",
      "leaky_re_lu_1 (LeakyReLU)    (None, 2500, 128)         0         \n",
      "_________________________________________________________________\n",
      "batch_normalization_1 (Batch (None, 2500, 128)         512       \n",
      "_________________________________________________________________\n",
      "max_pooling1d_1 (MaxPooling1 (None, 1250, 128)         0         \n",
      "_________________________________________________________________\n",
      "conv1d_4 (Conv1D)            (None, 1250, 128)         82048     \n",
      "_________________________________________________________________\n",
      "conv1d_5 (Conv1D)            (None, 1250, 128)         82048     \n",
      "_________________________________________________________________\n",
      "leaky_re_lu_2 (LeakyReLU)    (None, 1250, 128)         0         \n",
      "_________________________________________________________________\n",
      "batch_normalization_2 (Batch (None, 1250, 128)         512       \n",
      "_________________________________________________________________\n",
      "max_pooling1d_2 (MaxPooling1 (None, 625, 128)          0         \n",
      "_________________________________________________________________\n",
      "global_max_pooling1d (Global (None, 128)               0         \n",
      "_________________________________________________________________\n",
      "dropout (Dropout)            (None, 128)               0         \n",
      "_________________________________________________________________\n",
      "dense (Dense)                (None, 1)                 129       \n",
      "=================================================================\n",
      "Total params: 413,313\n",
      "Trainable params: 412,545\n",
      "Non-trainable params: 768\n",
      "_________________________________________________________________\n"
     ]
    }
   ],
   "source": [
    "model.summary()"
   ]
  },
  {
   "cell_type": "markdown",
   "metadata": {},
   "source": [
    "## Model ROC plot"
   ]
  },
  {
   "cell_type": "code",
   "execution_count": null,
   "metadata": {},
   "outputs": [],
   "source": [
    "# Model Accuracy of test set\n",
    "#print('test set accuracy:{:.2f}'.format(np.mean(y_pred>0.5==y_test_bin)))\n",
    "\n",
    "# Model AUROC\n",
    "from sklearn.metrics import roc_curve ,auc\n",
    "from numpy import interp\n",
    "#pipe_lr = make_pipeline(StandardScaler(), PCA(n_components=2), LogisticRegression(solver='liblinear', penalty='12', random_state=1, C=100.0))\n",
    "\n",
    "#cv = list(StratifiedKFold(n_splits=3, shuffle=True, random_state=1).split(x_))\n",
    "\n",
    "false_positive_rate, true_positive_rate, threshold = roc_curve(y_test_bin, y_pred)\n",
    "roc_auc = auc(false_positive_rate, true_positive_rate)\n",
    "print('test set auroc:', roc_auc)\n",
    "\n",
    "plt.title('Receiver Operating Characteristic')\n",
    "plt.xlabel(\"False Positive Rate(1 - Specificity)\")\n",
    "plt.ylabel('True Positive Rate(Sensitivity)')\n",
    "\n",
    "plt.plot(false_positive_rate, true_positive_rate, 'b', label='Model 1 (AUC = %0.4f)'% roc_auc)\n",
    "plt.plot([0,1],[1,1],'y--')\n",
    "plt.plot([0,1],[0,1],'r--')\n",
    "\n",
    "plt.legend(loc='lower right')\n",
    "plt.show()"
   ]
  },
  {
   "cell_type": "code",
   "execution_count": null,
   "metadata": {},
   "outputs": [],
   "source": []
  },
  {
   "cell_type": "code",
   "execution_count": null,
   "metadata": {},
   "outputs": [],
   "source": []
  }
 ],
 "metadata": {
  "kernelspec": {
   "display_name": "Python 3",
   "language": "python",
   "name": "python3"
  },
  "language_info": {
   "codemirror_mode": {
    "name": "ipython",
    "version": 3
   },
   "file_extension": ".py",
   "mimetype": "text/x-python",
   "name": "python",
   "nbconvert_exporter": "python",
   "pygments_lexer": "ipython3",
   "version": "3.6.9"
  },
  "toc": {
   "base_numbering": 1,
   "nav_menu": {},
   "number_sections": true,
   "sideBar": true,
   "skip_h1_title": false,
   "title_cell": "Table of Contents",
   "title_sidebar": "Contents",
   "toc_cell": false,
   "toc_position": {},
   "toc_section_display": true,
   "toc_window_display": true
  },
  "varInspector": {
   "cols": {
    "lenName": 16,
    "lenType": 16,
    "lenVar": 40
   },
   "kernels_config": {
    "python": {
     "delete_cmd_postfix": "",
     "delete_cmd_prefix": "del ",
     "library": "var_list.py",
     "varRefreshCmd": "print(var_dic_list())"
    },
    "r": {
     "delete_cmd_postfix": ") ",
     "delete_cmd_prefix": "rm(",
     "library": "var_list.r",
     "varRefreshCmd": "cat(var_dic_list()) "
    }
   },
   "types_to_exclude": [
    "module",
    "function",
    "builtin_function_or_method",
    "instance",
    "_Feature"
   ],
   "window_display": false
  }
 },
 "nbformat": 4,
 "nbformat_minor": 4
}
