{
 "cells": [
  {
   "cell_type": "markdown",
   "metadata": {},
   "source": [
    "# train, test loading"
   ]
  },
  {
   "cell_type": "code",
   "execution_count": 1,
   "metadata": {
    "ExecuteTime": {
     "end_time": "2020-12-02T07:14:17.270611Z",
     "start_time": "2020-12-02T07:13:40.154838Z"
    },
    "scrolled": true
   },
   "outputs": [
    {
     "name": "stdout",
     "output_type": "stream",
     "text": [
      "loading train...done\n",
      "x_train_ecg.shape: (116619, 5000, 1)\n",
      "x_test_ecg.shape: (13749, 5000, 1)\n",
      "x_val_ecg.shape: (13128, 5000, 1)\n"
     ]
    }
   ],
   "source": [
    "print('loading train...', flush=True, end='')\n",
    "\n",
    "# x를 loading해서 (batch_size, step, channel)\n",
    "input_path = '../DL_model/dataset/preprocess2/input3-2/'\n",
    "x_train = np.load(input_path+'x_train.npz', allow_pickle=True)['arr_0']\n",
    "x_test = np.load(input_path+'x_test.npz', allow_pickle=True)['arr_0']\n",
    "x_val = np.load(input_path+'x_val.npz', allow_pickle=True)['arr_0']\n",
    "y_train = np.load(input_path+'y_train.npz')['arr_0']\n",
    "y_test = np.load(input_path+'y_test.npz')['arr_0']\n",
    "y_val = np.load(input_path+'y_val.npz')['arr_0']\n",
    "print('done', flush=True)\n",
    "\n",
    "x_train_ecg = x_train[:,:,1:2]\n",
    "x_test_ecg = x_test[:,:,1:2]\n",
    "x_val_ecg = x_val[:,:,1:2]\n",
    "\n",
    "\n",
    "print('x_train_ecg.shape:', x_train_ecg.shape)\n",
    "print('x_test_ecg.shape:', x_test_ecg.shape)\n",
    "print('x_val_ecg.shape:', x_val_ecg.shape)\n",
    "\n",
    "\n",
    "\"\"\"\n",
    "# random shuffling - train set\n",
    "ids = np.arange(x_train.shape[0])\n",
    "np.random.shuffle(ids)\n",
    "x_train = x_train[ids]\n",
    "y_train = y_train[ids]\n",
    "\n",
    "# random shuffling - vall set\n",
    "ids = np.arange(x_val.shape[0])\n",
    "np.random.shuffle(ids)\n",
    "x_val = x_val[ids]\n",
    "y_val = y_val[ids]\n",
    "\n",
    "# random shuffling\n",
    "ids = np.arange(x_test.shape[0])\n",
    "np.random.shuffle(ids)\n",
    "x_test = x_test[ids]\n",
    "y_test = y_test[ids]\n",
    "\"\"\"                         \n",
    "                          \n",
    "# binary classification\n",
    "y_train_bin = y_train >= 5\n",
    "y_test_bin = y_test >= 5\n",
    "y_val_bin = y_val >= 5"
   ]
  },
  {
   "cell_type": "markdown",
   "metadata": {},
   "source": [
    "# Model"
   ]
  },
  {
   "cell_type": "markdown",
   "metadata": {},
   "source": [
    "## Training"
   ]
  },
  {
   "cell_type": "code",
   "execution_count": 38,
   "metadata": {
    "ExecuteTime": {
     "end_time": "2020-12-02T07:02:03.887655Z",
     "start_time": "2020-12-02T06:56:56.642276Z"
    },
    "scrolled": true
   },
   "outputs": [
    {
     "name": "stdout",
     "output_type": "stream",
     "text": [
      "64-64-64\n",
      "INFO:tensorflow:Using MirroredStrategy with devices ('/job:localhost/replica:0/task:0/device:GPU:3',)\n",
      "Epoch 1/100\n",
      "228/228 [==============================] - ETA: 0s - loss: 0.0501 - mean_absolute_error: 0.1812\n",
      "Epoch 00001: val_loss improved from inf to 18.63398, saving model to output_ecg/1D_CNN_model_reg_64_64_64_filtersize9_relu_bn_maxpool2_globalmaxpool_dropout0.5_dense16_dropout0.2_batch512_lr_0.1/weights.hdf5\n",
      "228/228 [==============================] - 26s 115ms/step - loss: 0.0501 - mean_absolute_error: 0.1812 - val_loss: 18.6340 - val_mean_absolute_error: 3.6122\n",
      "Epoch 2/100\n",
      "228/228 [==============================] - ETA: 0s - loss: 0.0343 - mean_absolute_error: 0.1481\n",
      "Epoch 00002: val_loss improved from 18.63398 to 18.56722, saving model to output_ecg/1D_CNN_model_reg_64_64_64_filtersize9_relu_bn_maxpool2_globalmaxpool_dropout0.5_dense16_dropout0.2_batch512_lr_0.1/weights.hdf5\n",
      "228/228 [==============================] - 24s 107ms/step - loss: 0.0343 - mean_absolute_error: 0.1481 - val_loss: 18.5672 - val_mean_absolute_error: 3.5931\n",
      "Epoch 3/100\n",
      "228/228 [==============================] - ETA: 0s - loss: 0.0309 - mean_absolute_error: 0.1370\n",
      "Epoch 00003: val_loss improved from 18.56722 to 18.31020, saving model to output_ecg/1D_CNN_model_reg_64_64_64_filtersize9_relu_bn_maxpool2_globalmaxpool_dropout0.5_dense16_dropout0.2_batch512_lr_0.1/weights.hdf5\n",
      "228/228 [==============================] - 25s 108ms/step - loss: 0.0309 - mean_absolute_error: 0.1370 - val_loss: 18.3102 - val_mean_absolute_error: 3.5669\n",
      "Epoch 4/100\n",
      "228/228 [==============================] - ETA: 0s - loss: 0.0303 - mean_absolute_error: 0.1347\n",
      "Epoch 00004: val_loss did not improve from 18.31020\n",
      "228/228 [==============================] - 24s 107ms/step - loss: 0.0303 - mean_absolute_error: 0.1347 - val_loss: 18.7602 - val_mean_absolute_error: 3.6109\n",
      "Epoch 5/100\n",
      "228/228 [==============================] - ETA: 0s - loss: 0.0298 - mean_absolute_error: 0.1337\n",
      "Epoch 00005: val_loss improved from 18.31020 to 18.15461, saving model to output_ecg/1D_CNN_model_reg_64_64_64_filtersize9_relu_bn_maxpool2_globalmaxpool_dropout0.5_dense16_dropout0.2_batch512_lr_0.1/weights.hdf5\n",
      "228/228 [==============================] - 24s 107ms/step - loss: 0.0298 - mean_absolute_error: 0.1337 - val_loss: 18.1546 - val_mean_absolute_error: 3.5425\n",
      "Epoch 6/100\n",
      "228/228 [==============================] - ETA: 0s - loss: 0.0299 - mean_absolute_error: 0.1342\n",
      "Epoch 00006: val_loss did not improve from 18.15461\n",
      "228/228 [==============================] - 24s 105ms/step - loss: 0.0299 - mean_absolute_error: 0.1342 - val_loss: 18.4594 - val_mean_absolute_error: 3.5871\n",
      "Epoch 7/100\n",
      "228/228 [==============================] - ETA: 0s - loss: 0.0302 - mean_absolute_error: 0.1353\n",
      "Epoch 00007: val_loss improved from 18.15461 to 18.05778, saving model to output_ecg/1D_CNN_model_reg_64_64_64_filtersize9_relu_bn_maxpool2_globalmaxpool_dropout0.5_dense16_dropout0.2_batch512_lr_0.1/weights.hdf5\n",
      "228/228 [==============================] - 24s 106ms/step - loss: 0.0302 - mean_absolute_error: 0.1353 - val_loss: 18.0578 - val_mean_absolute_error: 3.5345\n",
      "Epoch 8/100\n",
      "228/228 [==============================] - ETA: 0s - loss: 0.0302 - mean_absolute_error: 0.1352\n",
      "Epoch 00008: val_loss did not improve from 18.05778\n",
      "228/228 [==============================] - 24s 106ms/step - loss: 0.0302 - mean_absolute_error: 0.1352 - val_loss: 18.4651 - val_mean_absolute_error: 3.5764\n",
      "Epoch 9/100\n",
      "228/228 [==============================] - ETA: 0s - loss: 0.0296 - mean_absolute_error: 0.1336\n",
      "Epoch 00009: val_loss did not improve from 18.05778\n",
      "228/228 [==============================] - 24s 106ms/step - loss: 0.0296 - mean_absolute_error: 0.1336 - val_loss: 18.5035 - val_mean_absolute_error: 3.5822\n",
      "Epoch 10/100\n",
      "228/228 [==============================] - ETA: 0s - loss: 0.0297 - mean_absolute_error: 0.1341\n",
      "Epoch 00010: val_loss did not improve from 18.05778\n",
      "228/228 [==============================] - 24s 106ms/step - loss: 0.0297 - mean_absolute_error: 0.1341 - val_loss: 18.9838 - val_mean_absolute_error: 3.6357\n",
      "Epoch 11/100\n",
      "228/228 [==============================] - ETA: 0s - loss: 0.0298 - mean_absolute_error: 0.1340\n",
      "Epoch 00011: val_loss did not improve from 18.05778\n",
      "228/228 [==============================] - 24s 106ms/step - loss: 0.0298 - mean_absolute_error: 0.1340 - val_loss: 18.4428 - val_mean_absolute_error: 3.5736\n",
      "Epoch 12/100\n",
      "228/228 [==============================] - ETA: 0s - loss: 0.0298 - mean_absolute_error: 0.1339\n",
      "Epoch 00012: val_loss did not improve from 18.05778\n",
      "228/228 [==============================] - 24s 105ms/step - loss: 0.0298 - mean_absolute_error: 0.1339 - val_loss: 18.2812 - val_mean_absolute_error: 3.5590\n"
     ]
    }
   ],
   "source": [
    "from keras.models import Sequential\n",
    "from keras.models import Model, load_model\n",
    "from keras.optimizers import Adam as Adam\n",
    "from keras.layers import Dense, Conv1D, MaxPooling1D, GlobalMaxPool1D, BatchNormalization, Dropout, Activation\n",
    "from keras.layers import GlobalAveragePooling1D, Flatten, SeparableConv1D\n",
    "from keras.callbacks import ModelCheckpoint, EarlyStopping\n",
    "from sklearn.metrics import auc, classification_report, confusion_matrix, accuracy_score, roc_curve, roc_auc_score, f1_score, precision_recall_curve\n",
    "import tensorflow as tf\n",
    "import os, pickle\n",
    "from keras import backend as K\n",
    "\n",
    "\n",
    "# coefficient of determination (R^2) for regression  (only for Keras tensors)\n",
    "def r_square(y_true, y_pred):\n",
    "    SS_res =  K.sum(K.square(y_true - y_pred)) \n",
    "    SS_tot = K.sum(K.square(y_true - K.mean(y_true))) \n",
    "    return ( 1 - SS_res/(SS_tot + K.epsilon()) )\n",
    "\n",
    "\n",
    "# hyperparamters\n",
    "num_nodes = [64,64,64] #, 64, 64, 64]\n",
    "kernel_size = 9\n",
    "pool_size = 2\n",
    "BATCH_SIZE = 512\n",
    "dense_node = 16\n",
    "#dropout_rate = 0.2\n",
    "dropout_cnn = 0.5\n",
    "dropout_fc = 0.2\n",
    "learning_rate = 0.1\n",
    "\n",
    "\n",
    "testname = '-'.join([str(num_node) for num_node in num_nodes])\n",
    "print(testname)\n",
    "\n",
    "# 출력 폴더를 생성\n",
    "model_name = 'model_reg_'\n",
    "for num_node in num_nodes:\n",
    "    model_name += '{}_'.format(num_node)\n",
    "model_name += 'filtersize{}_relu_bn_maxpool{}_globalmaxpool_dropout{}_dense{}_dropout{}_batch{}_lr_{}'.format(kernel_size, pool_size, dropout_cnn, dense_node, dropout_fc, BATCH_SIZE, learning_rate)\n",
    "\n",
    "#model_name = 'model_reg_{}_{}_{}_size{}_relu_bn_maxpool{}_globalmaxpool_dense32_dropout{}_batch{}_learning_rate{}'.format(num_nodes[0], num_nodes[1], num_nodes[2], kernel_size, pool_size, dropout_rate, BATCH_SIZE, learning_rate)\n",
    "rootdir = 'output_ecg/'\n",
    "mdir = \"1D_CNN_\"+model_name\n",
    "save_path = rootdir+mdir\n",
    "\n",
    "if not os.path.exists(save_path):\n",
    "    os.mkdir(save_path)\n",
    "weight_path = save_path + \"/weights.hdf5\"\n",
    "\n",
    "\n",
    "# GPU 설정\n",
    "strategy = tf.distribute.MirroredStrategy(devices=[\"/gpu:3\"])\n",
    "with strategy.scope():\n",
    "    \n",
    "    # build a model\n",
    "    model = Sequential()\n",
    "    for num_node in num_nodes:\n",
    "        model.add(Conv1D(filters=num_node, kernel_size=kernel_size, padding='valid', activation='relu'))\n",
    "        model.add(BatchNormalization())\n",
    "        model.add(MaxPooling1D(pool_size=pool_size))\n",
    "    #model.add(BatchNormalization())    \n",
    "    model.add(GlobalMaxPool1D())\n",
    "    #model.add(Flatten())\n",
    "    model.add(Dropout(dropout_cnn))\n",
    "    #model.add(Activation('sigmoid'))\n",
    "    #model.add(Dropout(dropout_rate))\n",
    "    if dense_node != 0:\n",
    "        model.add(Dense(dense_node, activation='tanh'))\n",
    "        model.add(Dropout(dropout_fc))\n",
    "    model.add(Dense(1, activation='sigmoid'))\n",
    "\n",
    "    \n",
    "    # model 학습 설정\n",
    "    model.compile(loss='mse', optimizer=Adam(lr=learning_rate), metrics=[\"mean_absolute_error\"])\n",
    "    hist = model.fit(x_train_ecg, y_train/10, validation_data=(x_val_ecg,y_val), epochs=100, batch_size=BATCH_SIZE, #class_weight={0:1, 1:3}, \n",
    "                            callbacks=[ModelCheckpoint(monitor='val_loss', filepath=weight_path, verbose=1, save_best_only=True),\n",
    "                                        EarlyStopping(monitor='val_loss', patience=5, verbose=0, mode='auto')])\n",
    "\n",
    "    #tf.keras.backend.clear_session()\n",
    "\n",
    "model.load_weights(weight_path)\n",
    "    \n",
    "# 모델의 아키텍처 및 구조 저장\n",
    "open(save_path + \"/model.json\", \"wt\").write(model.to_json())\n",
    "\n",
    "# 전체 test 샘플을 한번에 예측\n",
    "y_pred = model.predict(x_test_ecg).flatten()\n",
    "\n",
    "# 결과를 저장\n",
    "#np.savetxt(save_path+'/pred_y.txt', y_pred)\n",
    "\n",
    "\n",
    "# 모델의 history log 저장 - binary classification\n",
    "for key in hist.history.keys():\n",
    "    if 'auc' in key and not 'val' in key:\n",
    "        auc_key = key\n",
    "#pickle.dump((hist.history['loss'], hist.history['val_loss'], hist.history['accuracy'], hist.history['val_accuracy'], hist.history[auc], hist.history['val_'+auc]), open(save_path+'/history', 'wb'))\n",
    "\n",
    "# 모델의 history log 저장 - regression\n",
    "pickle.dump((hist.history['loss'], hist.history['val_loss'], hist.history['mean_absolute_error'], hist.history['val_mean_absolute_error']), open(save_path+'/history', 'wb'))\n"
   ]
  },
  {
   "cell_type": "markdown",
   "metadata": {},
   "source": [
    "## Model Evaluation"
   ]
  },
  {
   "cell_type": "code",
   "execution_count": 42,
   "metadata": {
    "ExecuteTime": {
     "end_time": "2020-12-02T07:04:53.387656Z",
     "start_time": "2020-12-02T07:04:53.320291Z"
    }
   },
   "outputs": [
    {
     "name": "stdout",
     "output_type": "stream",
     "text": [
      "test set mse:4.16\n",
      "test set accuracy:0.66\n",
      "test set mae:3.45\n",
      "test set auroc: 0.6780628556891237\n"
     ]
    },
    {
     "ename": "FileNotFoundError",
     "evalue": "[Errno 2] No such file or directory: 'output_ecg/1D_CNN_model_reg_64_64_64_filtersize9_relu_bn_maxpool2_globalmaxpool_dropout0.5_dense16_dropout0.2_batch512_lr_0.1' -> 'output_ecg/auc0.6781_mae3.4522_mse4.1650_1D_CNN_model_reg_64_64_64_filtersize9_relu_bn_maxpool2_globalmaxpool_dropout0.5_dense16_dropout0.2_batch512_lr_0.1'",
     "output_type": "error",
     "traceback": [
      "\u001b[0;31m---------------------------------------------------------------------------\u001b[0m",
      "\u001b[0;31mFileNotFoundError\u001b[0m                         Traceback (most recent call last)",
      "\u001b[0;32m<ipython-input-42-50d754f6c80e>\u001b[0m in \u001b[0;36m<module>\u001b[0;34m\u001b[0m\n\u001b[1;32m     33\u001b[0m \u001b[0;31m# Adding evaluation results to file name\u001b[0m\u001b[0;34m\u001b[0m\u001b[0;34m\u001b[0m\u001b[0;34m\u001b[0m\u001b[0m\n\u001b[1;32m     34\u001b[0m \u001b[0;31m# classification\u001b[0m\u001b[0;34m\u001b[0m\u001b[0;34m\u001b[0m\u001b[0;34m\u001b[0m\u001b[0m\n\u001b[0;32m---> 35\u001b[0;31m \u001b[0mos\u001b[0m\u001b[0;34m.\u001b[0m\u001b[0mrename\u001b[0m\u001b[0;34m(\u001b[0m\u001b[0msave_path\u001b[0m\u001b[0;34m,\u001b[0m\u001b[0mrootdir\u001b[0m\u001b[0;34m+\u001b[0m\u001b[0;34m'auc{:.4f}_mae{:.4f}_mse{:.4f}_'\u001b[0m\u001b[0;34m.\u001b[0m\u001b[0mformat\u001b[0m\u001b[0;34m(\u001b[0m\u001b[0mroc_auc\u001b[0m\u001b[0;34m,\u001b[0m\u001b[0mmae_val\u001b[0m\u001b[0;34m,\u001b[0m\u001b[0mrmse_val\u001b[0m\u001b[0;34m)\u001b[0m\u001b[0;34m+\u001b[0m\u001b[0mmdir\u001b[0m \u001b[0;34m)\u001b[0m\u001b[0;34m\u001b[0m\u001b[0;34m\u001b[0m\u001b[0m\n\u001b[0m\u001b[1;32m     36\u001b[0m \u001b[0;34m\u001b[0m\u001b[0m\n\u001b[1;32m     37\u001b[0m \u001b[0;31m# regression\u001b[0m\u001b[0;34m\u001b[0m\u001b[0;34m\u001b[0m\u001b[0;34m\u001b[0m\u001b[0m\n",
      "\u001b[0;31mFileNotFoundError\u001b[0m: [Errno 2] No such file or directory: 'output_ecg/1D_CNN_model_reg_64_64_64_filtersize9_relu_bn_maxpool2_globalmaxpool_dropout0.5_dense16_dropout0.2_batch512_lr_0.1' -> 'output_ecg/auc0.6781_mae3.4522_mse4.1650_1D_CNN_model_reg_64_64_64_filtersize9_relu_bn_maxpool2_globalmaxpool_dropout0.5_dense16_dropout0.2_batch512_lr_0.1'"
     ]
    }
   ],
   "source": [
    "from sklearn.metrics import roc_curve, auc, r2_score, mean_absolute_error\n",
    "from numpy import interp\n",
    "from keras import losses, metrics\n",
    "import keras.backend as K\n",
    "import matplotlib.pyplot as plt\n",
    "\n",
    "### Classification\n",
    "# Model Accuracy of test set\n",
    "#model_y = np.where(y_pred<0.5,0,1)\n",
    "#print('test set accuracy:{:.2f}'.format(np.mean(model_y==y_test_bin)))\n",
    "\n",
    "### Regression\n",
    "# Model MSE of test set\n",
    "#mse_val = K.eval(losses.mean_squared_error(y_test, y_pred))\n",
    "model_err = metrics.RootMeanSquaredError()\n",
    "model_err.update_state(y_test, y_pred)\n",
    "rmse_val = model_err.result().numpy()\n",
    "mae_val = mean_absolute_error(y_test, y_pred)\n",
    "acc_val = np.mean((y_pred*10>=5)==y_test_bin)\n",
    "print('test set mse:{:.2f}'.format(rmse_val))\n",
    "print('test set accuracy:{:.2f}'.format(acc_val))\n",
    "print('test set mae:{:.2f}'.format(mae_val))\n",
    "\n",
    "# Model AUROC\n",
    "false_positive_rate, true_positive_rate, threshold = roc_curve(y_test_bin, y_pred)\n",
    "roc_auc = auc(false_positive_rate, true_positive_rate)\n",
    "print('test set auroc:', roc_auc)\n",
    "\n",
    "# Model R_square\n",
    "#print('test set R2:', r2_score(y_test, y_pred*10))\n",
    "\n",
    "\n",
    "# Adding evaluation results to file name\n",
    "# classification\n",
    "os.rename(save_path,rootdir+'auc{:.4f}_mae{:.4f}_mse{:.4f}_'.format(roc_auc,mae_val,rmse_val)+mdir )\n",
    "\n",
    "# regression\n",
    "#os.rename(save_path, \"output/auc{:.4f}_1D_CNN_{}rmse{:.4f}_acc{:.2f}\".format(roc_auc, model_name, rmse_val,acc_val))\n",
    "\n",
    "\n",
    "# plotting roc\n",
    "plt.title('Receiver Operating Characteristic')\n",
    "plt.xlabel(\"False Positive Rate(1 - Specificity)\")\n",
    "plt.ylabel('True Positive Rate(Sensitivity)')\n",
    "\n",
    "plt.plot(false_positive_rate, true_positive_rate, 'b', label='Model 1 (AUC = %0.4f)'% roc_auc)\n",
    "plt.plot([0,1],[1,1],'y--')\n",
    "plt.plot([0,1],[0,1],'r--')\n",
    "\n",
    "plt.legend(loc='lower right')\n",
    "plt.show()"
   ]
  },
  {
   "cell_type": "markdown",
   "metadata": {},
   "source": [
    "## Model history plot\n",
    "- training curve"
   ]
  },
  {
   "cell_type": "code",
   "execution_count": 43,
   "metadata": {
    "ExecuteTime": {
     "end_time": "2020-12-02T07:05:00.127060Z",
     "start_time": "2020-12-02T07:04:59.677946Z"
    }
   },
   "outputs": [
    {
     "data": {
      "image/png": "[encoded data removed]",
      "text/plain": [
       "<Figure size 1440x720 with 2 Axes>"
      ]
     },
     "metadata": {
      "needs_background": "light"
     },
     "output_type": "display_data"
    }
   ],
   "source": [
    "%matplotlib inline\n",
    "import matplotlib.pyplot as plt\n",
    "\n",
    "fig, loss_ax = plt.subplots(figsize=(20,10))\n",
    "\n",
    "#x-axis는 공유하지만 y-axis는 공유x\n",
    "acc_ax = loss_ax.twinx()\n",
    "\n",
    "loss_ax.plot(hist.history['loss'], 'y', linestyle='dashed', label='train loss')\n",
    "loss_ax.plot(hist.history['val_loss'], 'r', label='val loss')\n",
    "\n",
    "acc_ax.plot(hist.history['mean_absolute_error'], 'b', linestyle='dashed',label='train mae')\n",
    "acc_ax.plot(hist.history['val_mean_absolute_error'], 'g', label='val mae')\n",
    "#acc_ax.plot(hist.history[auc_key], 'b', linestyle='dashed',label='train auc')\n",
    "#acc_ax.plot(hist.history['val_'+auc_key], 'g', label='val auc')\n",
    "\n",
    "\n",
    "\n",
    "loss_ax.set_xlabel('epoch')\n",
    "loss_ax.set_ylabel('loss')\n",
    "#acc_ax.set_ylim(0.2,1.0)\n",
    "acc_ax.set_ylabel('accuray')\n",
    "\n",
    "loss_ax.legend(loc='upper left')\n",
    "acc_ax.legend(loc='lower left')\n",
    "\n",
    "plt.show()"
   ]
  },
  {
   "cell_type": "markdown",
   "metadata": {},
   "source": [
    "## Model summary"
   ]
  },
  {
   "cell_type": "code",
   "execution_count": 41,
   "metadata": {
    "ExecuteTime": {
     "end_time": "2020-12-02T07:02:31.959972Z",
     "start_time": "2020-12-02T07:02:31.939412Z"
    },
    "scrolled": false
   },
   "outputs": [
    {
     "name": "stdout",
     "output_type": "stream",
     "text": [
      "Model: \"sequential_10\"\n",
      "_________________________________________________________________\n",
      "Layer (type)                 Output Shape              Param #   \n",
      "=================================================================\n",
      "conv1d_20 (Conv1D)           (None, 4992, 64)          640       \n",
      "_________________________________________________________________\n",
      "batch_normalization_20 (Batc (None, 4992, 64)          256       \n",
      "_________________________________________________________________\n",
      "max_pooling1d_20 (MaxPooling (None, 2496, 64)          0         \n",
      "_________________________________________________________________\n",
      "conv1d_21 (Conv1D)           (None, 2488, 64)          36928     \n",
      "_________________________________________________________________\n",
      "batch_normalization_21 (Batc (None, 2488, 64)          256       \n",
      "_________________________________________________________________\n",
      "max_pooling1d_21 (MaxPooling (None, 1244, 64)          0         \n",
      "_________________________________________________________________\n",
      "conv1d_22 (Conv1D)           (None, 1236, 64)          36928     \n",
      "_________________________________________________________________\n",
      "batch_normalization_22 (Batc (None, 1236, 64)          256       \n",
      "_________________________________________________________________\n",
      "max_pooling1d_22 (MaxPooling (None, 618, 64)           0         \n",
      "_________________________________________________________________\n",
      "global_max_pooling1d_10 (Glo (None, 64)                0         \n",
      "_________________________________________________________________\n",
      "dropout_20 (Dropout)         (None, 64)                0         \n",
      "_________________________________________________________________\n",
      "dense_20 (Dense)             (None, 16)                1040      \n",
      "_________________________________________________________________\n",
      "dropout_21 (Dropout)         (None, 16)                0         \n",
      "_________________________________________________________________\n",
      "dense_21 (Dense)             (None, 1)                 17        \n",
      "=================================================================\n",
      "Total params: 76,321\n",
      "Trainable params: 75,937\n",
      "Non-trainable params: 384\n",
      "_________________________________________________________________\n"
     ]
    }
   ],
   "source": [
    "model.summary()"
   ]
  },
  {
   "cell_type": "code",
   "execution_count": null,
   "metadata": {},
   "outputs": [],
   "source": []
  },
  {
   "cell_type": "code",
   "execution_count": null,
   "metadata": {},
   "outputs": [],
   "source": []
  }
 ],
 "metadata": {
  "kernelspec": {
   "display_name": "Python 3",
   "language": "python",
   "name": "python3"
  },
  "language_info": {
   "codemirror_mode": {
    "name": "ipython",
    "version": 3
   },
   "file_extension": ".py",
   "mimetype": "text/x-python",
   "name": "python",
   "nbconvert_exporter": "python",
   "pygments_lexer": "ipython3",
   "version": "3.6.9"
  },
  "toc": {
   "base_numbering": 1,
   "nav_menu": {},
   "number_sections": true,
   "sideBar": true,
   "skip_h1_title": false,
   "title_cell": "Table of Contents",
   "title_sidebar": "Contents",
   "toc_cell": false,
   "toc_position": {},
   "toc_section_display": true,
   "toc_window_display": false
  },
  "varInspector": {
   "cols": {
    "lenName": 16,
    "lenType": 16,
    "lenVar": 40
   },
   "kernels_config": {
    "python": {
     "delete_cmd_postfix": "",
     "delete_cmd_prefix": "del ",
     "library": "var_list.py",
     "varRefreshCmd": "print(var_dic_list())"
    },
    "r": {
     "delete_cmd_postfix": ") ",
     "delete_cmd_prefix": "rm(",
     "library": "var_list.r",
     "varRefreshCmd": "cat(var_dic_list()) "
    }
   },
   "types_to_exclude": [
    "module",
    "function",
    "builtin_function_or_method",
    "instance",
    "_Feature"
   ],
   "window_display": false
  }
 },
 "nbformat": 4,
 "nbformat_minor": 4
}
