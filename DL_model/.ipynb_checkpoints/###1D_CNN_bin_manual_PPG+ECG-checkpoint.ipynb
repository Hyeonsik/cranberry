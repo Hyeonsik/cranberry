{
 "cells": [
  {
   "cell_type": "markdown",
   "metadata": {},
   "source": [
    "# train, test loading"
   ]
  },
  {
   "cell_type": "code",
   "execution_count": 5,
   "metadata": {
    "ExecuteTime": {
     "end_time": "2020-12-07T03:47:20.459789Z",
     "start_time": "2020-12-07T03:46:55.770061Z"
    },
    "scrolled": true
   },
   "outputs": [
    {
     "name": "stdout",
     "output_type": "stream",
     "text": [
      "loading train...done\n",
      "x_train shape: (78513, 5000, 2)\n",
      "x_test.shape: (9344, 5000, 2)\n",
      "x_val.shape: (8707, 5000, 2)\n"
     ]
    }
   ],
   "source": [
    "import pandas as pd\n",
    "\n",
    "print('loading train...', flush=True, end='')\n",
    "\n",
    "# x를 loading해서 (batch_size, step, channel)\n",
    "input_path = '../DL_model/dataset/preprocess3/input3-2/'\n",
    "x_train = np.load(input_path+'x_train.npz', allow_pickle=True)['arr_0']\n",
    "x_test = np.load(input_path+'x_test.npz', allow_pickle=True)['arr_0']\n",
    "x_val = np.load(input_path+'x_val.npz', allow_pickle=True)['arr_0']\n",
    "\n",
    "y_train = np.load(input_path+'y_train.npz')['arr_0']\n",
    "y_test = np.load(input_path+'y_test.npz')['arr_0']\n",
    "y_val = np.load(input_path+'y_val.npz')['arr_0']\n",
    "print('done', flush=True)\n",
    "\n",
    "print('x_train shape:', x_train.shape)\n",
    "print('x_test.shape:', x_test.shape)\n",
    "print('x_val.shape:', x_val.shape)\n"
   ]
  },
  {
   "cell_type": "markdown",
   "metadata": {},
   "source": [
    "## binary classification"
   ]
  },
  {
   "cell_type": "code",
   "execution_count": 6,
   "metadata": {
    "ExecuteTime": {
     "end_time": "2020-12-07T03:47:20.476966Z",
     "start_time": "2020-12-07T03:47:20.473970Z"
    }
   },
   "outputs": [],
   "source": [
    "# binary classification\n",
    "y_train_bin = y_train >= 4\n",
    "y_test_bin = y_test >= 4\n",
    "y_val_bin = y_val >= 4"
   ]
  },
  {
   "cell_type": "markdown",
   "metadata": {},
   "source": [
    "## multi-class classification (3 class)"
   ]
  },
  {
   "cell_type": "code",
   "execution_count": 7,
   "metadata": {
    "ExecuteTime": {
     "end_time": "2020-12-07T03:47:20.750442Z",
     "start_time": "2020-12-07T03:47:20.489517Z"
    }
   },
   "outputs": [],
   "source": [
    "def hist_class(y):\n",
    "    class1, class2, class3 = 0, 0, 0\n",
    "    for i in range(len(y)):\n",
    "        class1+=y[i][0]\n",
    "        class2+=y[i][1]\n",
    "        class3+=y[i][2]\n",
    "    return {'0': class1, '1': class2, '2': class3}\n",
    "\n",
    "dict_train = hist_class(y_train_class)\n",
    "dict_val = hist_class(y_val_class)\n",
    "dict_test = hist_class(y_test_class)"
   ]
  },
  {
   "cell_type": "code",
   "execution_count": 20,
   "metadata": {
    "ExecuteTime": {
     "end_time": "2020-12-04T14:16:14.567594Z",
     "start_time": "2020-12-04T14:16:14.546204Z"
    }
   },
   "outputs": [
    {
     "name": "stdout",
     "output_type": "stream",
     "text": [
      "train set: no pain 30132 (38.38%), moderate pain 36114 (46.00%), severe pain 12267 (15.62%)\n",
      "val set: no pain 3253 (37.36%), moderate pain 4185 (48.06%), severe pain 1269 (14.57%)\n",
      "test set: no pain 3947 (42.24%), moderate pain 4015 (42.97%), severe pain 1382 (14.79%)\n"
     ]
    }
   ],
   "source": [
    "print('train set: no pain {} ({:.2f}%), moderate pain {} ({:.2f}%), severe pain {} ({:.2f}%)'.format(dict_train['0'],dict_train['0']/(dict_train['0']+dict_train['1']+dict_train['2'])*100,dict_train['1'],dict_train['1']/(dict_train['0']+dict_train['1']+dict_train['2'])*100,dict_train['2'],dict_train['2']/(dict_train['0']+dict_train['1']+dict_train['2'])*100))\n",
    "print('val set: no pain {} ({:.2f}%), moderate pain {} ({:.2f}%), severe pain {} ({:.2f}%)'.format(dict_val['0'],dict_val['0']/(dict_val['0']+dict_val['1']+dict_val['2'])*100,dict_val['1'],dict_val['1']/(dict_val['0']+dict_val['1']+dict_val['2'])*100,dict_val['2'],dict_val['2']/(dict_val['0']+dict_val['1']+dict_val['2'])*100))\n",
    "print('test set: no pain {} ({:.2f}%), moderate pain {} ({:.2f}%), severe pain {} ({:.2f}%)'.format(dict_test['0'],dict_test['0']/(dict_test['0']+dict_test['1']+dict_test['2'])*100,dict_test['1'],dict_test['1']/(dict_test['0']+dict_test['1']+dict_test['2'])*100,dict_test['2'],dict_test['2']/(dict_test['0']+dict_test['1']+dict_test['2'])*100))\n"
   ]
  },
  {
   "cell_type": "code",
   "execution_count": 2,
   "metadata": {
    "ExecuteTime": {
     "end_time": "2020-12-02T15:00:02.465381Z",
     "start_time": "2020-12-02T15:00:02.455301Z"
    }
   },
   "outputs": [
    {
     "name": "stdout",
     "output_type": "stream",
     "text": [
      "y_train의 평균: 0.6065, y_test의 평균: 0.5790\n",
      "y_val의 평균: 0.6111\n"
     ]
    }
   ],
   "source": [
    "print('y_train의 평균: {:.4f}, y_test의 평균: {:.4f}'.format(np.mean(y_train_bin), np.mean(y_test_bin)))\n",
    "print('y_val의 평균: {:.4f}'.format(np.mean(y_val_bin)))"
   ]
  },
  {
   "cell_type": "code",
   "execution_count": 13,
   "metadata": {
    "ExecuteTime": {
     "end_time": "2020-12-07T03:55:28.442115Z",
     "start_time": "2020-12-07T03:55:27.590913Z"
    }
   },
   "outputs": [
    {
     "name": "stdout",
     "output_type": "stream",
     "text": [
      "y_test class bins:  [3947, 4015, 1382]\n"
     ]
    }
   ],
   "source": [
    "# labels for y_train\n",
    "y_train_class = []\n",
    "for i in range(y_train.shape[0]):\n",
    "    if y_train[i] <= 3.5:\n",
    "        y_train_class.append((1,0,0))\n",
    "    elif 3.5<y_train[i]<=6.5:\n",
    "        y_train_class.append((0,1,0))\n",
    "    else:\n",
    "        y_train_class.append((0,0,1))\n",
    "        \n",
    "y_train_class = np.array(y_train_class, int)\n",
    "\n",
    "\n",
    "# labels for y_val\n",
    "y_val_class = []\n",
    "for i in range(y_val.shape[0]):\n",
    "    if y_val[i] <= 3.5:\n",
    "        y_val_class.append((1,0,0))\n",
    "    elif 3.5<y_val[i]<=6.5:\n",
    "        y_val_class.append((0,1,0))\n",
    "    else:\n",
    "        y_val_class.append((0,0,1))\n",
    "        \n",
    "y_val_class = np.array(y_val_class, int)\n",
    "\n",
    "# labels for y_test\n",
    "y_test_class = []\n",
    "hist_y_test = [0, 0, 0]\n",
    "for i in range(y_test.shape[0]):\n",
    "    if y_test[i] <= 3.5:\n",
    "        y_test_class.append([1,0,0])\n",
    "        hist_y_test[0]+=1\n",
    "    elif 3.5<y_test[i]<=6.5:\n",
    "        y_test_class.append([0,1,0])\n",
    "        hist_y_test[1]+=1\n",
    "    else:\n",
    "        y_test_class.append([0,0,1])\n",
    "        hist_y_test[2]+=1\n",
    "        \n",
    "y_test_class = np.array(y_test_class, int)\n",
    "print('y_test class bins: ', hist_y_test)"
   ]
  },
  {
   "cell_type": "markdown",
   "metadata": {},
   "source": [
    "# GPU setting"
   ]
  },
  {
   "cell_type": "markdown",
   "metadata": {},
   "source": [
    "## GPU memory 확장"
   ]
  },
  {
   "cell_type": "code",
   "execution_count": 9,
   "metadata": {
    "ExecuteTime": {
     "end_time": "2020-12-07T03:47:21.602901Z",
     "start_time": "2020-12-07T03:47:21.596711Z"
    }
   },
   "outputs": [
    {
     "name": "stdout",
     "output_type": "stream",
     "text": [
      "4 Physical GPUs, 4 Logical GPUs\n"
     ]
    }
   ],
   "source": [
    "import tensorflow as tf\n",
    "\n",
    "gpus = tf.config.experimental.list_physical_devices('GPU')\n",
    "if gpus:\n",
    "    try:\n",
    "        # Currently, memory growth needs to be the same across GPUs\n",
    "        for gpu in gpus:\n",
    "            tf.config.experimental.set_memory_growth(gpu, True)\n",
    "        logical_gpus = tf.config.experimental.list_logical_devices('GPU')\n",
    "        print(len(gpus), \"Physical GPUs,\", len(logical_gpus), \"Logical GPUs\")\n",
    "    except RuntimeError as e:\n",
    "        # Memory growth must be set before GPUs have been initialized\n",
    "        print(e)"
   ]
  },
  {
   "cell_type": "markdown",
   "metadata": {},
   "source": [
    "# Model"
   ]
  },
  {
   "cell_type": "markdown",
   "metadata": {},
   "source": [
    "## Sample weight"
   ]
  },
  {
   "cell_type": "markdown",
   "metadata": {},
   "source": [
    "### NRS 각 class마다 weight"
   ]
  },
  {
   "cell_type": "code",
   "execution_count": 73,
   "metadata": {
    "ExecuteTime": {
     "end_time": "2020-12-04T16:14:55.130620Z",
     "start_time": "2020-12-04T16:14:55.116947Z"
    }
   },
   "outputs": [
    {
     "name": "stdout",
     "output_type": "stream",
     "text": [
      "5.300276783906028\n",
      "872.3666666666667\n",
      "17.105228758169936\n",
      "7.379734937494125\n",
      "7.4047910968593795\n",
      "4.210941271118262\n",
      "11.4350422371104\n",
      "14.285480349344978\n",
      "13.854420328215987\n",
      "83.79188900747064\n",
      "470.1377245508982\n"
     ]
    }
   ],
   "source": [
    "sample_weight = np.ones(shape=(len(y_train),))\n",
    "for i in range(0,11):\n",
    "    sample_weight[y_train==i] = len(y_train)/np.sum(y_train==i)\n",
    "    \n",
    "    \n",
    "for i in range(0,11):\n",
    "    print(len(y_train)/np.sum(y_train==i))"
   ]
  },
  {
   "cell_type": "markdown",
   "metadata": {},
   "source": [
    "### 3개의 class에 대해 sample_weight"
   ]
  },
  {
   "cell_type": "code",
   "execution_count": 17,
   "metadata": {
    "ExecuteTime": {
     "end_time": "2020-12-07T04:01:48.544818Z",
     "start_time": "2020-12-07T04:01:46.615686Z"
    }
   },
   "outputs": [
    {
     "name": "stdout",
     "output_type": "stream",
     "text": [
      "sample weight for class 1: 2.61, class 2: 2.17, class 3: 6.40\n"
     ]
    }
   ],
   "source": [
    "train_w_samp = np.ones(shape=(len(y_train),))\n",
    "\n",
    "mask1 = [(y_class==[1,0,0]).all() for y_class in y_train_class] \n",
    "train_w_samp[mask1]= len(y_train) / dict_train['0']\n",
    "\n",
    "mask1 = [(y_class==[0,1,0]).all() for y_class in y_train_class] \n",
    "train_w_samp[mask1]= len(y_train) / dict_train['1']\n",
    "\n",
    "mask1 = [(y_class==[0,0,1]).all() for y_class in y_train_class] \n",
    "train_w_samp[mask1]= len(y_train) / dict_train['2']\n",
    "\n",
    "print('sample weight for class 1: {:.2f}, class 2: {:.2f}, class 3: {:.2f}'\n",
    "      .format(len(y_train) / dict_train['0'],len(y_train) / dict_train['1'],len(y_train) / dict_train['2']))"
   ]
  },
  {
   "cell_type": "code",
   "execution_count": 18,
   "metadata": {
    "ExecuteTime": {
     "end_time": "2020-12-07T04:01:48.834556Z",
     "start_time": "2020-12-07T04:01:48.616897Z"
    }
   },
   "outputs": [
    {
     "name": "stdout",
     "output_type": "stream",
     "text": [
      "sample weight for class 1: 2.68, class 2: 2.08, class 3: 6.86\n"
     ]
    }
   ],
   "source": [
    "val_w_samp = np.ones(shape=(len(y_val),))\n",
    "\n",
    "mask1 = [(y_class==[1,0,0]).all() for y_class in y_val_class] \n",
    "val_w_samp[mask1]= len(y_val) / dict_val['0']\n",
    "\n",
    "mask1 = [(y_class==[0,1,0]).all() for y_class in y_val_class] \n",
    "val_w_samp[mask1]= len(y_val) / dict_val['1']\n",
    "\n",
    "mask1 = [(y_class==[0,0,1]).all() for y_class in y_val_class] \n",
    "val_w_samp[mask1]= len(y_val) / dict_val['2']\n",
    "\n",
    "print('sample weight for class 1: {:.2f}, class 2: {:.2f}, class 3: {:.2f}'\n",
    "      .format(len(y_val) / dict_val['0'],len(y_val) / dict_val['1'],len(y_val) / dict_val['2']))"
   ]
  },
  {
   "cell_type": "code",
   "execution_count": 19,
   "metadata": {
    "ExecuteTime": {
     "end_time": "2020-12-07T04:01:49.092032Z",
     "start_time": "2020-12-07T04:01:48.859349Z"
    }
   },
   "outputs": [
    {
     "name": "stdout",
     "output_type": "stream",
     "text": [
      "sample weight for class 1: 2.37, class 2: 2.33, class 3: 6.76\n"
     ]
    }
   ],
   "source": [
    "# 3 class에 대한 sample weight\n",
    "test_w_samp = np.ones(shape=(len(y_test),))\n",
    "\n",
    "mask1 = [(y_class==[1,0,0]).all() for y_class in y_test_class] \n",
    "test_w_samp[mask1]= len(y_test) / dict_test['0']\n",
    "\n",
    "mask1 = [(y_class==[0,1,0]).all() for y_class in y_test_class] \n",
    "test_w_samp[mask1]= len(y_test) / dict_test['1']\n",
    "\n",
    "mask1 = [(y_class==[0,0,1]).all() for y_class in y_test_class] \n",
    "test_w_samp[mask1]= len(y_test) / dict_test['2']\n",
    "\n",
    "print('sample weight for class 1: {:.2f}, class 2: {:.2f}, class 3: {:.2f}'\n",
    "      .format(len(y_test) / dict_test['0'],len(y_test) / dict_test['1'],len(y_test) / dict_test['2']))"
   ]
  },
  {
   "cell_type": "markdown",
   "metadata": {},
   "source": [
    "## Training"
   ]
  },
  {
   "cell_type": "markdown",
   "metadata": {},
   "source": [
    "### 1D-CNN"
   ]
  },
  {
   "cell_type": "code",
   "execution_count": 29,
   "metadata": {
    "ExecuteTime": {
     "end_time": "2020-12-07T04:33:38.410296Z",
     "start_time": "2020-12-07T04:29:59.445482Z"
    },
    "scrolled": true
   },
   "outputs": [
    {
     "name": "stdout",
     "output_type": "stream",
     "text": [
      "64-64-64-256\n",
      "INFO:tensorflow:Using MirroredStrategy with devices ('/job:localhost/replica:0/task:0/device:GPU:2', '/job:localhost/replica:0/task:0/device:GPU:3')\n",
      "Epoch 1/100\n",
      "INFO:tensorflow:batch_all_reduce: 26 all-reduces with algorithm = nccl, num_packs = 1\n",
      "INFO:tensorflow:batch_all_reduce: 26 all-reduces with algorithm = nccl, num_packs = 1\n",
      "77/77 [==============================] - ETA: 0s - loss: 3.0012 - acc: 0.5695 - auc_4: 0.5338\n",
      "Epoch 00001: val_loss improved from inf to 3.14056, saving model to output/preprocess3/input3-2_PPG+ECG/1D_CNN_model_bin_sampleweight_conv64_conv64_conv64_conv256_filter3x2_tanh_bn_maxpool2_globalmaxpool_dropout0.3_dense0_dropout0.3_batch1024_lr_0.001_kinit_kreg0/weights.hdf5\n",
      "77/77 [==============================] - 21s 274ms/step - loss: 3.0012 - acc: 0.5695 - auc_4: 0.5338 - val_loss: 3.1406 - val_acc: 0.6286 - val_auc_4: 0.6227\n",
      "Epoch 2/100\n",
      "77/77 [==============================] - ETA: 0s - loss: 2.2038 - acc: 0.6100 - auc_4: 0.5944\n",
      "Epoch 00002: val_loss improved from 3.14056 to 2.69650, saving model to output/preprocess3/input3-2_PPG+ECG/1D_CNN_model_bin_sampleweight_conv64_conv64_conv64_conv256_filter3x2_tanh_bn_maxpool2_globalmaxpool_dropout0.3_dense0_dropout0.3_batch1024_lr_0.001_kinit_kreg0/weights.hdf5\n",
      "77/77 [==============================] - 17s 216ms/step - loss: 2.2038 - acc: 0.6100 - auc_4: 0.5944 - val_loss: 2.6965 - val_acc: 0.6273 - val_auc_4: 0.6466\n",
      "Epoch 3/100\n",
      "77/77 [==============================] - ETA: 0s - loss: 2.0054 - acc: 0.6446 - auc_4: 0.6451\n",
      "Epoch 00003: val_loss improved from 2.69650 to 1.75066, saving model to output/preprocess3/input3-2_PPG+ECG/1D_CNN_model_bin_sampleweight_conv64_conv64_conv64_conv256_filter3x2_tanh_bn_maxpool2_globalmaxpool_dropout0.3_dense0_dropout0.3_batch1024_lr_0.001_kinit_kreg0/weights.hdf5\n",
      "77/77 [==============================] - 17s 215ms/step - loss: 2.0054 - acc: 0.6446 - auc_4: 0.6451 - val_loss: 1.7507 - val_acc: 0.6635 - val_auc_4: 0.7137\n",
      "Epoch 4/100\n",
      "77/77 [==============================] - ETA: 0s - loss: 1.8902 - acc: 0.6716 - auc_4: 0.6747\n",
      "Epoch 00004: val_loss improved from 1.75066 to 1.68636, saving model to output/preprocess3/input3-2_PPG+ECG/1D_CNN_model_bin_sampleweight_conv64_conv64_conv64_conv256_filter3x2_tanh_bn_maxpool2_globalmaxpool_dropout0.3_dense0_dropout0.3_batch1024_lr_0.001_kinit_kreg0/weights.hdf5\n",
      "77/77 [==============================] - 17s 215ms/step - loss: 1.8902 - acc: 0.6716 - auc_4: 0.6747 - val_loss: 1.6864 - val_acc: 0.6953 - val_auc_4: 0.7326\n",
      "Epoch 5/100\n",
      "77/77 [==============================] - ETA: 0s - loss: 1.8064 - acc: 0.6922 - auc_4: 0.6959\n",
      "Epoch 00005: val_loss improved from 1.68636 to 1.58351, saving model to output/preprocess3/input3-2_PPG+ECG/1D_CNN_model_bin_sampleweight_conv64_conv64_conv64_conv256_filter3x2_tanh_bn_maxpool2_globalmaxpool_dropout0.3_dense0_dropout0.3_batch1024_lr_0.001_kinit_kreg0/weights.hdf5\n",
      "77/77 [==============================] - 17s 216ms/step - loss: 1.8064 - acc: 0.6922 - auc_4: 0.6959 - val_loss: 1.5835 - val_acc: 0.7635 - val_auc_4: 0.7549\n",
      "Epoch 6/100\n",
      "77/77 [==============================] - ETA: 0s - loss: 1.7013 - acc: 0.7174 - auc_4: 0.7227\n",
      "Epoch 00006: val_loss improved from 1.58351 to 1.55079, saving model to output/preprocess3/input3-2_PPG+ECG/1D_CNN_model_bin_sampleweight_conv64_conv64_conv64_conv256_filter3x2_tanh_bn_maxpool2_globalmaxpool_dropout0.3_dense0_dropout0.3_batch1024_lr_0.001_kinit_kreg0/weights.hdf5\n",
      "77/77 [==============================] - 17s 217ms/step - loss: 1.7013 - acc: 0.7174 - auc_4: 0.7227 - val_loss: 1.5508 - val_acc: 0.7564 - val_auc_4: 0.7636\n",
      "Epoch 7/100\n",
      "77/77 [==============================] - ETA: 0s - loss: 1.6539 - acc: 0.7295 - auc_4: 0.7329\n",
      "Epoch 00007: val_loss did not improve from 1.55079\n",
      "77/77 [==============================] - 17s 215ms/step - loss: 1.6539 - acc: 0.7295 - auc_4: 0.7329 - val_loss: 1.5614 - val_acc: 0.7323 - val_auc_4: 0.7637\n",
      "Epoch 8/100\n",
      "77/77 [==============================] - ETA: 0s - loss: 1.5642 - acc: 0.7483 - auc_4: 0.7494\n",
      "Epoch 00008: val_loss did not improve from 1.55079\n",
      "77/77 [==============================] - 17s 215ms/step - loss: 1.5642 - acc: 0.7483 - auc_4: 0.7494 - val_loss: 1.5996 - val_acc: 0.7133 - val_auc_4: 0.7611\n",
      "Epoch 9/100\n",
      "77/77 [==============================] - ETA: 0s - loss: 1.5489 - acc: 0.7502 - auc_4: 0.7518\n",
      "Epoch 00009: val_loss did not improve from 1.55079\n",
      "77/77 [==============================] - 17s 215ms/step - loss: 1.5489 - acc: 0.7502 - auc_4: 0.7518 - val_loss: 1.7310 - val_acc: 0.6772 - val_auc_4: 0.7596\n",
      "Epoch 10/100\n",
      "77/77 [==============================] - ETA: 0s - loss: 1.4591 - acc: 0.7666 - auc_4: 0.7685\n",
      "Epoch 00010: val_loss did not improve from 1.55079\n",
      "77/77 [==============================] - 17s 216ms/step - loss: 1.4591 - acc: 0.7666 - auc_4: 0.7685 - val_loss: 2.9449 - val_acc: 0.4972 - val_auc_4: 0.7484\n",
      "Epoch 11/100\n",
      "77/77 [==============================] - ETA: 0s - loss: 1.3835 - acc: 0.7805 - auc_4: 0.7788\n",
      "Epoch 00011: val_loss did not improve from 1.55079\n",
      "77/77 [==============================] - 17s 215ms/step - loss: 1.3835 - acc: 0.7805 - auc_4: 0.7788 - val_loss: 1.6720 - val_acc: 0.7005 - val_auc_4: 0.7529\n"
     ]
    }
   ],
   "source": [
    "from keras.models import Sequential\n",
    "from keras.models import Model, load_model\n",
    "from keras.optimizers import Adam as Adam\n",
    "from keras.layers import Dense, Conv1D, MaxPooling1D, GlobalMaxPool1D, BatchNormalization, Dropout, Activation\n",
    "from keras.layers import GlobalAveragePooling1D, Flatten, SeparableConv1D, LeakyReLU\n",
    "from keras.callbacks import ModelCheckpoint, EarlyStopping\n",
    "from sklearn.metrics import auc, classification_report, confusion_matrix, accuracy_score, roc_curve, roc_auc_score, f1_score, precision_recall_curve\n",
    "import tensorflow as tf\n",
    "import os, pickle\n",
    "from keras import backend as K\n",
    "from keras import regularizers\n",
    "from keras.initializers import he_normal, GlorotNormal\n",
    "\n",
    "\n",
    "# hyperparamters\n",
    "num_nodes = [64, 64, 64, 256] #, 64, 64, 64]\n",
    "kernel_size = 3\n",
    "pool_size = 2\n",
    "BATCH_SIZE = 1024\n",
    "dense_node = 0\n",
    "dropout_rate = 0.3\n",
    "dropout_cnn = 0.3\n",
    "dropout_fc = 0.3\n",
    "learning_rate = 0.001\n",
    "\n",
    "\n",
    "# initializer & regularizer\n",
    "k_init = he_normal(seed=None)\n",
    "#k_init = GlorotNormal(seed=None) # Xavier normal initializer\n",
    "#k_init = None\n",
    "b_init = None\n",
    "k_l2 = 0\n",
    "#k_reg = regularizers.l2(l2=k_l2)\n",
    "k_reg = None\n",
    "b_reg = None\n",
    "\n",
    "\n",
    "testname = '-'.join([str(num_node) for num_node in num_nodes])\n",
    "print(testname)\n",
    "\n",
    "\n",
    "# 출력 폴더를 생성\n",
    "model_name = 'model_bin_sampleweight_'\n",
    "for num_node in num_nodes:\n",
    "    model_name += 'conv{}_'.format(num_node)\n",
    "model_name += 'filter{}x2_tanh_bn_maxpool{}_globalmaxpool_dropout{}_dense{}_dropout{}_batch{}_lr_{}_kinit_kreg{}'.format(kernel_size, pool_size, dropout_cnn, dense_node, dropout_fc, BATCH_SIZE, learning_rate, k_l2)\n",
    "\n",
    "#model_name = 'model_reg_{}_{}_{}_size{}_relu_bn_maxpool{}_globalmaxpool_dense32_dropout{}_batch{}_learning_rate{}'.format(num_nodes[0], num_nodes[1], num_nodes[2], kernel_size, pool_size, dropout_rate, BATCH_SIZE, learning_rate)\n",
    "save_path = \"output/preprocess3/input3-2_PPG+ECG/1D_CNN_\"+model_name\n",
    "\n",
    "if not os.path.exists(save_path):\n",
    "    os.mkdir(save_path)\n",
    "weight_path = save_path + \"/weights.hdf5\"\n",
    "\n",
    "\n",
    "# GPU 설정\n",
    "strategy = tf.distribute.MirroredStrategy(devices=[\"/gpu:2\",\"/gpu:3\"])\n",
    "with strategy.scope():\n",
    "    \n",
    "    # build a model\n",
    "    model = Sequential()\n",
    "    for num_node in num_nodes:\n",
    "        model.add(Conv1D(filters=num_node, kernel_size=kernel_size, padding='same', kernel_initializer=k_init,bias_initializer =b_init , kernel_regularizer=k_reg, bias_regularizer=b_reg))\n",
    "        model.add(Conv1D(filters=num_node, kernel_size=kernel_size, padding='same', kernel_initializer=k_init,bias_initializer =b_init , kernel_regularizer=k_reg, bias_regularizer=b_reg))\n",
    "        #model.add(LeakyReLU(alpha=0.1))\n",
    "        model.add(Activation('relu'))\n",
    "        model.add(BatchNormalization())\n",
    "        model.add(MaxPooling1D(pool_size=pool_size))\n",
    "    #model.add(BatchNormalization())    \n",
    "    model.add(GlobalMaxPool1D())\n",
    "    #model.add(Flatten())\n",
    "    model.add(Dropout(dropout_cnn))\n",
    "    #model.add(Activation('sigmoid'))\n",
    "    #model.add(Dropout(dropout_rate))\n",
    "    if dense_node != 0:\n",
    "        model.add(Dense(dense_node, activation='tanh', kernel_initializer=k_init, kernel_regularizer=k_reg))\n",
    "        model.add(Dropout(dropout_fc))\n",
    "    model.add(Dense(1, activation='sigmoid'))\n",
    "\n",
    "    \n",
    "    # model 학습 설정\n",
    "    model.compile(loss='binary_crossentropy', optimizer=Adam(lr=learning_rate), metrics=[\"acc\", tf.keras.metrics.AUC()])\n",
    "    hist = model.fit(x_train, y_train_bin, validation_data = (x_val, y_val_bin, val_w_samp), sample_weight=train_w_samp, epochs=100, batch_size=BATCH_SIZE, #class_weight={0:1, 1:3}, \n",
    "                            callbacks=[ModelCheckpoint(monitor='val_loss', filepath=weight_path, verbose=1, save_best_only=True),\n",
    "                                        EarlyStopping(monitor='val_loss', patience=5, verbose=0, mode='auto')])\n",
    "\n",
    "    #tf.keras.backend.clear_session()\n",
    "\n",
    "model.load_weights(weight_path)\n",
    "    \n",
    "# 모델의 아키텍처 및 구조 저장\n",
    "open(save_path + \"/model.json\", \"wt\").write(model.to_json())\n",
    "\n",
    "\n",
    "# 전체 test 샘플을 한번에 예측\n",
    "y_pred = model.predict(x_test).flatten() # binary는 flatten\n",
    "\n",
    "# 결과를 저장\n",
    "#np.savetxt(save_path+'/pred_y.txt', y_pred)\n",
    "\n",
    "\n",
    "# 모델의 history log 저장 - binary classification\n",
    "for key in hist.history.keys():\n",
    "    if 'auc' in key and not 'val' in key:\n",
    "        auc_key = key\n",
    "#pickle.dump((hist.history['loss'], hist.history['val_loss'], hist.history['accuracy'], hist.history['val_accuracy'], hist.history[auc], hist.history['val_'+auc]), open(save_path+'/history', 'wb'))\n",
    "\n",
    "# 모델의 history log 저장 - regression\n",
    "pickle.dump((hist.history['loss'], hist.history['val_loss'], hist.history['acc'], hist.history['val_acc'], hist.history[auc_key], hist.history['val_'+auc_key]), open(save_path+'/history', 'wb'))\n"
   ]
  },
  {
   "cell_type": "markdown",
   "metadata": {},
   "source": [
    "### Inception"
   ]
  },
  {
   "cell_type": "code",
   "execution_count": 33,
   "metadata": {
    "ExecuteTime": {
     "end_time": "2020-12-07T05:15:30.852632Z",
     "start_time": "2020-12-07T05:15:30.831052Z"
    }
   },
   "outputs": [],
   "source": [
    "from keras.models import Sequential\n",
    "from keras.models import Model, load_model\n",
    "from keras.optimizers import Adam as Adam\n",
    "from keras.layers import Dense, Conv1D, MaxPooling1D, GlobalMaxPool1D, BatchNormalization, Dropout, Activation\n",
    "from keras.layers import GlobalAveragePooling1D, Flatten, SeparableConv1D, AveragePooling1D, Input, concatenate, add, LSTM, Average\n",
    "from keras.callbacks import ModelCheckpoint, EarlyStopping\n",
    "from sklearn.metrics import auc, classification_report, confusion_matrix, accuracy_score, roc_curve, roc_auc_score, f1_score, precision_recall_curve\n",
    "import tensorflow as tf\n",
    "import os, pickle\n",
    "from keras import backend as K\n",
    "\n",
    "\n",
    "def inception(inp, nfilters=32):\n",
    "    # 각각은 길이가 줄어들지 않는다\n",
    "\n",
    "    # 1 conv\n",
    "    c1 = Conv1D(filters=nfilters, kernel_size=1, kernel_initializer='glorot_uniform', padding='same', activation='relu')(inp)\n",
    "\n",
    "    # 3 reduce\n",
    "    c2 = Conv1D(filters=nfilters  , kernel_size=1, kernel_initializer='glorot_uniform', padding='same', activation='relu')(inp)\n",
    "    # 3 conv\n",
    "    c2 = Conv1D(filters=nfilters, kernel_size=3, kernel_initializer='glorot_uniform', padding='same', activation='relu')(c2)\n",
    "\n",
    "    # 5 reduce\n",
    "    c3 = Conv1D(filters=nfilters, kernel_size=1, kernel_initializer='glorot_uniform', padding='same', activation='relu')(inp)\n",
    "    # 5 conv\n",
    "    c3 = Conv1D(filters=nfilters, kernel_size=5, kernel_initializer='glorot_uniform', padding='same', activation='relu')(c3)\n",
    "\n",
    "    # pooling\n",
    "    m1 = MaxPooling1D(pool_size=3, strides=1, padding='same')(inp)\n",
    "    # pooling proj\n",
    "    m1 = Conv1D(filters=nfilters, kernel_size=1, kernel_initializer='glorot_uniform', padding='same', activation='relu')(m1)\n",
    "\n",
    "    return concatenate([c1, c2, c3, m1], axis=-1)\n"
   ]
  },
  {
   "cell_type": "code",
   "execution_count": 63,
   "metadata": {
    "ExecuteTime": {
     "end_time": "2020-12-07T08:39:48.079914Z",
     "start_time": "2020-12-07T08:33:22.782786Z"
    },
    "scrolled": true
   },
   "outputs": [
    {
     "name": "stdout",
     "output_type": "stream",
     "text": [
      "INFO:tensorflow:Using MirroredStrategy with devices ('/job:localhost/replica:0/task:0/device:GPU:2', '/job:localhost/replica:0/task:0/device:GPU:3')\n",
      "Epoch 1/100\n",
      "77/77 [==============================] - ETA: 0s - loss: 1.8668 - acc: 0.6318 - auc_12: 0.6076\n",
      "Epoch 00001: val_loss improved from inf to 3.28823, saving model to output/preprocess3/input3-2_PPG+ECG/Inception_model_bin_sampleweight_simpleFalse_batch1024_conv64_k3x3_nfilter32_k3x2_nlayer3_drop0.2_dense16_drop0.2/weights.hdf5\n",
      "77/77 [==============================] - 32s 410ms/step - loss: 1.8668 - acc: 0.6318 - auc_12: 0.6076 - val_loss: 3.2882 - val_acc: 0.6264 - val_auc_12: 0.6357\n",
      "Epoch 2/100\n",
      "77/77 [==============================] - ETA: 0s - loss: 1.6970 - acc: 0.7125 - auc_12: 0.7077\n",
      "Epoch 00002: val_loss improved from 3.28823 to 2.27568, saving model to output/preprocess3/input3-2_PPG+ECG/Inception_model_bin_sampleweight_simpleFalse_batch1024_conv64_k3x3_nfilter32_k3x2_nlayer3_drop0.2_dense16_drop0.2/weights.hdf5\n",
      "77/77 [==============================] - 27s 345ms/step - loss: 1.6970 - acc: 0.7125 - auc_12: 0.7077 - val_loss: 2.2757 - val_acc: 0.6334 - val_auc_12: 0.6939\n",
      "Epoch 3/100\n",
      "77/77 [==============================] - ETA: 0s - loss: 1.5586 - acc: 0.7532 - auc_12: 0.7373\n",
      "Epoch 00003: val_loss improved from 2.27568 to 1.76639, saving model to output/preprocess3/input3-2_PPG+ECG/Inception_model_bin_sampleweight_simpleFalse_batch1024_conv64_k3x3_nfilter32_k3x2_nlayer3_drop0.2_dense16_drop0.2/weights.hdf5\n",
      "77/77 [==============================] - 27s 345ms/step - loss: 1.5586 - acc: 0.7532 - auc_12: 0.7373 - val_loss: 1.7664 - val_acc: 0.7129 - val_auc_12: 0.7454\n",
      "Epoch 4/100\n",
      "77/77 [==============================] - ETA: 0s - loss: 1.4109 - acc: 0.7812 - auc_12: 0.7541\n",
      "Epoch 00004: val_loss improved from 1.76639 to 1.40495, saving model to output/preprocess3/input3-2_PPG+ECG/Inception_model_bin_sampleweight_simpleFalse_batch1024_conv64_k3x3_nfilter32_k3x2_nlayer3_drop0.2_dense16_drop0.2/weights.hdf5\n",
      "77/77 [==============================] - 27s 345ms/step - loss: 1.4109 - acc: 0.7812 - auc_12: 0.7541 - val_loss: 1.4050 - val_acc: 0.7868 - val_auc_12: 0.7535\n",
      "Epoch 5/100\n",
      "77/77 [==============================] - ETA: 0s - loss: 1.3407 - acc: 0.7923 - auc_12: 0.7660\n",
      "Epoch 00005: val_loss did not improve from 1.40495\n",
      "77/77 [==============================] - 26s 342ms/step - loss: 1.3407 - acc: 0.7923 - auc_12: 0.7660 - val_loss: 1.4680 - val_acc: 0.7777 - val_auc_12: 0.7100\n",
      "Epoch 6/100\n",
      "77/77 [==============================] - ETA: 0s - loss: 1.3126 - acc: 0.7954 - auc_12: 0.7733\n",
      "Epoch 00006: val_loss did not improve from 1.40495\n",
      "77/77 [==============================] - 26s 342ms/step - loss: 1.3126 - acc: 0.7954 - auc_12: 0.7733 - val_loss: 1.4237 - val_acc: 0.7876 - val_auc_12: 0.7142\n",
      "Epoch 7/100\n",
      "77/77 [==============================] - ETA: 0s - loss: 1.3026 - acc: 0.7964 - auc_12: 0.7777\n",
      "Epoch 00007: val_loss improved from 1.40495 to 1.37562, saving model to output/preprocess3/input3-2_PPG+ECG/Inception_model_bin_sampleweight_simpleFalse_batch1024_conv64_k3x3_nfilter32_k3x2_nlayer3_drop0.2_dense16_drop0.2/weights.hdf5\n",
      "77/77 [==============================] - 27s 346ms/step - loss: 1.3026 - acc: 0.7964 - auc_12: 0.7777 - val_loss: 1.3756 - val_acc: 0.7995 - val_auc_12: 0.7366\n",
      "Epoch 8/100\n",
      "77/77 [==============================] - ETA: 0s - loss: 1.2826 - acc: 0.7987 - auc_12: 0.7854\n",
      "Epoch 00008: val_loss improved from 1.37562 to 1.36645, saving model to output/preprocess3/input3-2_PPG+ECG/Inception_model_bin_sampleweight_simpleFalse_batch1024_conv64_k3x3_nfilter32_k3x2_nlayer3_drop0.2_dense16_drop0.2/weights.hdf5\n",
      "77/77 [==============================] - 27s 345ms/step - loss: 1.2826 - acc: 0.7987 - auc_12: 0.7854 - val_loss: 1.3664 - val_acc: 0.7992 - val_auc_12: 0.7117\n",
      "Epoch 9/100\n",
      "77/77 [==============================] - ETA: 0s - loss: 1.2753 - acc: 0.7990 - auc_12: 0.7871\n",
      "Epoch 00009: val_loss did not improve from 1.36645\n",
      "77/77 [==============================] - 26s 343ms/step - loss: 1.2753 - acc: 0.7990 - auc_12: 0.7871 - val_loss: 1.7212 - val_acc: 0.6390 - val_auc_12: 0.7720\n",
      "Epoch 10/100\n",
      "77/77 [==============================] - ETA: 0s - loss: 1.2462 - acc: 0.8006 - auc_12: 0.8026\n",
      "Epoch 00010: val_loss did not improve from 1.36645\n",
      "77/77 [==============================] - 26s 342ms/step - loss: 1.2462 - acc: 0.8006 - auc_12: 0.8026 - val_loss: 1.4196 - val_acc: 0.7961 - val_auc_12: 0.7432\n",
      "Epoch 11/100\n",
      "77/77 [==============================] - ETA: 0s - loss: 1.2354 - acc: 0.8024 - auc_12: 0.8064\n",
      "Epoch 00011: val_loss did not improve from 1.36645\n",
      "77/77 [==============================] - 26s 343ms/step - loss: 1.2354 - acc: 0.8024 - auc_12: 0.8064 - val_loss: 1.7651 - val_acc: 0.6373 - val_auc_12: 0.7558\n",
      "Epoch 12/100\n",
      "77/77 [==============================] - ETA: 0s - loss: 1.1972 - acc: 0.8071 - auc_12: 0.8235\n",
      "Epoch 00012: val_loss did not improve from 1.36645\n",
      "77/77 [==============================] - 26s 343ms/step - loss: 1.1972 - acc: 0.8071 - auc_12: 0.8235 - val_loss: 1.3737 - val_acc: 0.7957 - val_auc_12: 0.7457\n",
      "Epoch 13/100\n",
      "77/77 [==============================] - ETA: 0s - loss: 1.1859 - acc: 0.8085 - auc_12: 0.8306\n",
      "Epoch 00013: val_loss did not improve from 1.36645\n",
      "77/77 [==============================] - 26s 342ms/step - loss: 1.1859 - acc: 0.8085 - auc_12: 0.8306 - val_loss: 1.4861 - val_acc: 0.7743 - val_auc_12: 0.7261\n"
     ]
    }
   ],
   "source": [
    "from keras.models import Sequential\n",
    "from keras.models import Model, load_model\n",
    "from keras.optimizers import Adam as Adam\n",
    "from keras.layers import Dense, Conv1D, MaxPooling1D, GlobalMaxPool1D, BatchNormalization, Dropout, Activation\n",
    "from keras.layers import GlobalAveragePooling1D, Flatten, SeparableConv1D, AveragePooling1D, Input, concatenate, add, LSTM, Average\n",
    "from keras.callbacks import ModelCheckpoint, EarlyStopping\n",
    "from sklearn.metrics import auc, classification_report, confusion_matrix, accuracy_score, roc_curve, roc_auc_score, f1_score, precision_recall_curve\n",
    "import tensorflow as tf\n",
    "import os, pickle\n",
    "from keras import backend as K\n",
    "\n",
    "\n",
    "# learning related hyperparamters\n",
    "BATCH_SIZE = 1024\n",
    "learning_rate = 0.002\n",
    "\n",
    "\n",
    "# inception paramters\n",
    "ngpu = 2\n",
    "nfilters=32\n",
    "nlayer=3\n",
    "conv1 = 64\n",
    "dense = 16\n",
    "dropout1 = 0.2\n",
    "dropout2 = 0.2\n",
    "kernel1 = 3\n",
    "kernel2 = 3\n",
    "simple = False\n",
    "\n",
    "# 출력 폴더를 생성\n",
    "model_name = 'Inception_model_bin_sampleweight_simple{}_batch{}_conv{}_k{}x3_nfilter{}_k{}x2_nlayer{}_drop{}_dense{}_drop{}'.format(simple, BATCH_SIZE, conv1,kernel1,nfilters,kernel2,nlayer,dropout1,dense,dropout2)\n",
    "\n",
    "save_path = \"output/preprocess3/input3-2_PPG+ECG/\"+model_name\n",
    "if not os.path.exists(save_path):\n",
    "    os.mkdir(save_path)\n",
    "weight_path = save_path + \"/weights.hdf5\"\n",
    "\n",
    "\n",
    "\n",
    "# GPU 설정\n",
    "strategy = tf.distribute.MirroredStrategy(devices=[\"/gpu:2\", \"/gpu:3\"])\n",
    "with strategy.scope():\n",
    "    \n",
    "    #inp_fnn = Input(shape=(x_train[0].shape[1],))\n",
    "    inp_cnn = Input(shape=(x_train.shape[1], x_train.shape[2]))\n",
    "\n",
    "    #out_fnn = inp_fnn\n",
    "    #out_fnn = Dense(256,  activation='relu')(out_fnn)\n",
    "\n",
    "    out_cnn = inp_cnn\n",
    "    \n",
    "    if not simple:\n",
    "        if conv1 != 0:\n",
    "            out_cnn = Conv1D(filters=conv1, kernel_size=kernel1, padding='same')(out_cnn)\n",
    "            out_cnn = Conv1D(filters=conv1, kernel_size=kernel1, padding='same')(out_cnn)\n",
    "            out_cnn = Conv1D(filters=conv1, kernel_size=kernel1, padding='same')(out_cnn)\n",
    "            #out_cnn = Conv1D(filters=conv1, kernel_size=kernel_size, padding='same', activation='relu')(out_cnn)\n",
    "            out_cnn = Activation('relu')(out_cnn)\n",
    "            out_cnn = MaxPooling1D(pool_size=3, strides=2)(out_cnn)\n",
    "            out_cnn = BatchNormalization()(out_cnn)\n",
    "\n",
    "        \n",
    "        out_cnn = Conv1D(filters=nfilters*4, kernel_size=kernel2, padding='same')(out_cnn)\n",
    "        out_cnn = Conv1D(filters=nfilters*4, kernel_size=kernel2, padding='same')(out_cnn)\n",
    "        out_cnn = Activation('relu')(out_cnn)\n",
    "        out_cnn = MaxPooling1D(pool_size=3, strides=2)(out_cnn)\n",
    "        out_cnn = BatchNormalization()(out_cnn)\n",
    "    \n",
    "    for ilayer in range(nlayer):\n",
    "        #inp_blk = out_cnn\n",
    "        out_cnn = inception(out_cnn, nfilters=nfilters)\n",
    "        #out_cnn = Conv1D(filters=64, kernel_size=1, padding='same')(out_cnn)\n",
    "        #out_cnn = add([out_cnn, inp_blk])\n",
    "        #out_cnn = AveragePooling1D(pool_size=2)(out_cnn)\n",
    "    out_cnn = GlobalAveragePooling1D()(out_cnn)\n",
    "    out_cnn = Dropout(dropout1)(out_cnn)\n",
    "    #out = concatenate([out_cnn, out_fnn])\n",
    "    out = out_cnn\n",
    "    #out = Dense(256,  activation='relu')(out)\n",
    "    \n",
    "    if dense != 0:\n",
    "        out = Dense(dense,  activation='tanh')(out)\n",
    "        out = Dropout(dropout2)(out)\n",
    "    out = Dense(1, activation='sigmoid')(out)\n",
    "\n",
    "    model = Model(inputs=[inp_cnn], outputs=[out])\n",
    "    \n",
    "        # model 학습 설정\n",
    "    model.compile(loss='binary_crossentropy', optimizer=Adam(lr=learning_rate), metrics=[\"acc\", tf.keras.metrics.AUC()])\n",
    "    hist = model.fit(x_train, y_train_bin, validation_data = (x_val, y_val_bin, val_w_samp), sample_weight=train_w_samp, epochs=100, batch_size=BATCH_SIZE, #class_weight={0:1, 1:3}, \n",
    "                            callbacks=[ModelCheckpoint(monitor='val_loss', filepath=weight_path, verbose=1, save_best_only=True),\n",
    "                                        EarlyStopping(monitor='val_loss', patience=5, verbose=0, mode='auto')])\n",
    "\n",
    "    #tf.keras.backend.clear_session()\n",
    "\n",
    "model.load_weights(weight_path)\n",
    "    \n",
    "# 모델의 아키텍처 및 구조 저장\n",
    "open(save_path + \"/model.json\", \"wt\").write(model.to_json())\n",
    "\n",
    "\n",
    "# 전체 test 샘플을 한번에 예측\n",
    "y_pred = model.predict(x_test).flatten() # binary는 flatten\n",
    "\n",
    "# 결과를 저장\n",
    "#np.savetxt(save_path+'/pred_y.txt', y_pred)\n",
    "\n",
    "\n",
    "# 모델의 history log 저장 - binary classification\n",
    "for key in hist.history.keys():\n",
    "    if 'auc' in key and not 'val' in key:\n",
    "        auc_key = key\n",
    "#pickle.dump((hist.history['loss'], hist.history['val_loss'], hist.history['accuracy'], hist.history['val_accuracy'], hist.history[auc], hist.history['val_'+auc]), open(save_path+'/history', 'wb'))\n",
    "\n",
    "# 모델의 history log 저장 - regression\n",
    "pickle.dump((hist.history['loss'], hist.history['val_loss'], hist.history['acc'], hist.history['val_acc'], hist.history[auc_key], hist.history['val_'+auc_key]), open(save_path+'/history', 'wb'))\n"
   ]
  },
  {
   "cell_type": "markdown",
   "metadata": {},
   "source": [
    "## Model Evaluation"
   ]
  },
  {
   "cell_type": "markdown",
   "metadata": {},
   "source": [
    "###  AUROC, AUPRC (sample weighted)"
   ]
  },
  {
   "cell_type": "code",
   "execution_count": 59,
   "metadata": {
    "ExecuteTime": {
     "end_time": "2020-12-07T08:31:41.907299Z",
     "start_time": "2020-12-07T08:31:41.215415Z"
    },
    "scrolled": false
   },
   "outputs": [
    {
     "name": "stdout",
     "output_type": "stream",
     "text": [
      "test set accuracy:0.81\n",
      "test set AUROC: 0.7769226389226154\n",
      "test set AUPRC: 0.8461515577929524\n"
     ]
    },
    {
     "data": {
      "image/png": "[encoded data removed]",
      "text/plain": [
       "<Figure size 864x432 with 2 Axes>"
      ]
     },
     "metadata": {
      "needs_background": "light"
     },
     "output_type": "display_data"
    }
   ],
   "source": [
    "from sklearn.metrics import roc_curve, auc, precision_recall_curve\n",
    "from numpy import interp\n",
    "from keras import losses, metrics\n",
    "import keras.backend as K\n",
    "import matplotlib.pyplot as plt\n",
    "\n",
    "### Classification\n",
    "# Model Accuracy of test set\n",
    "#model_y = y_pred>=0.5\n",
    "#acc_val = np.mean(model_y==y_test_bin)\n",
    "acc = metrics.Accuracy()\n",
    "acc.update_state(y_pred>=0.5, y_test_bin, sample_weight=test_w_samp)\n",
    "acc_val = acc.result().numpy()\n",
    "print('test set accuracy:{:.2f}'.format(acc_val))\n",
    "\n",
    "\n",
    "# moderate pain\n",
    "false_positive_rate, true_positive_rate, threshold = roc_curve(y_test_bin, y_pred, sample_weight = test_w_samp)\n",
    "precision, recall, _ = precision_recall_curve(y_test_bin, y_pred, sample_weight = test_w_samp)\n",
    "roc_auc = auc(false_positive_rate, true_positive_rate)\n",
    "prc_auc = auc(recall, precision)\n",
    "print('test set AUROC:', roc_auc)\n",
    "print('test set AUPRC:', prc_auc)\n",
    "\n",
    "\n",
    "# Adding evaluation results to file name\n",
    "test_path = 'output/preprocess3/input3-2_PPG+ECG/auroc{:.4f}_auprc{:.4f}_{}acc{:.2f}'.format(roc_auc,prc_auc,model_name,acc_val)\n",
    "os.rename(save_path, test_path)\n",
    "\n",
    "# Plotting ROC, PRC\n",
    "fig = plt.figure(figsize=(12,6))\n",
    "\n",
    "# ax1: auroc\n",
    "ax1 = fig.add_subplot(1,2,1)\n",
    "ax1.set_title('Receiver Operating Characteristic')\n",
    "ax1.set_xlabel(\"False Positive Rate(1 - Specificity)\")\n",
    "ax1.set_ylabel('True Positive Rate(Sensitivity)')\n",
    "ax1.plot([0,1],[1,1],'y--')\n",
    "ax1.plot([0,1],[0,1],'r--')\n",
    "ax1.plot(false_positive_rate, true_positive_rate, 'b', label='moderate pain (AUC = %0.4f)'% roc_auc)\n",
    "\n",
    "# ax2: auprc\n",
    "ax2 = fig.add_subplot(1,2,2)\n",
    "ax2.set_title('Precision - Recall Curve')\n",
    "ax2.set_xlabel(\"Precision\")\n",
    "ax2.set_ylabel('Recall')\n",
    "ax2.plot(recall, precision, 'b', label='moderate pain (AUC = %0.4f)'% prc_auc)\n",
    "\n",
    "plt.savefig(test_path + '/roc_prc.png', bbox_inches=\"tight\", pad_inches=0.5)\n"
   ]
  },
  {
   "cell_type": "markdown",
   "metadata": {},
   "source": [
    "### Confusion matrix"
   ]
  },
  {
   "cell_type": "code",
   "execution_count": 39,
   "metadata": {
    "ExecuteTime": {
     "end_time": "2020-12-07T05:35:21.378197Z",
     "start_time": "2020-12-07T05:35:21.358327Z"
    }
   },
   "outputs": [],
   "source": [
    "import itertools\n",
    "import matplotlib.pyplot as plt\n",
    "\n",
    "\n",
    "def plot_confusion_matrix(cm, classes,\n",
    "                          normalize=False,\n",
    "                          title='Confusion matrix',\n",
    "                          cmap=plt.cm.Blues):\n",
    "    \"\"\"\n",
    "    This function prints and plots the confusion matrix.\n",
    "    Normalization can be applied by setting `normalize=True`.\n",
    "    \"\"\"\n",
    "    plt.figure(figsize=(3,3))\n",
    "    plt.imshow(cm, interpolation='nearest', cmap=cmap)\n",
    "    plt.title(title)\n",
    "    #plt.colorbar()\n",
    "    tick_marks = np.arange(len(classes))\n",
    "    plt.xticks(tick_marks, classes, rotation=45)\n",
    "    plt.yticks(tick_marks, classes)\n",
    "\n",
    "    if normalize:\n",
    "        cm = cm.astype('float') / cm.sum(axis=1)[:, np.newaxis]\n",
    "        print(\"Normalized confusion matrix\")\n",
    "    else:\n",
    "        print('Confusion matrix, without normalization')\n",
    "\n",
    "    print(cm)\n",
    "\n",
    "    thresh = cm.max() / 2.\n",
    "    for i, j in itertools.product(range(cm.shape[0]), range(cm.shape[1])):\n",
    "        plt.text(j, i, '{:.0f}'.format(cm[i, j]),\n",
    "                 horizontalalignment=\"center\",\n",
    "                 color=\"white\" if cm[i, j] > thresh else \"black\")\n",
    "\n",
    "    plt.tight_layout()\n",
    "    plt.ylabel('True label')\n",
    "    plt.xlabel('Predicted label')"
   ]
  },
  {
   "cell_type": "code",
   "execution_count": 60,
   "metadata": {
    "ExecuteTime": {
     "end_time": "2020-12-07T08:31:52.697856Z",
     "start_time": "2020-12-07T08:31:52.525718Z"
    }
   },
   "outputs": [
    {
     "name": "stdout",
     "output_type": "stream",
     "text": [
      "optimal thval: 0.4663\n",
      "\n",
      "auroc:0.7769,  auprc:0.8462\n",
      "Confusion matrix, without normalization\n",
      "[[1709 2238]\n",
      " [  27 5370]]\n"
     ]
    },
    {
     "data": {
      "image/png": "[encoded data removed]",
      "text/plain": [
       "<Figure size 216x216 with 1 Axes>"
      ]
     },
     "metadata": {
      "needs_background": "light"
     },
     "output_type": "display_data"
    }
   ],
   "source": [
    "from sklearn.metrics import confusion_matrix, roc_curve\n",
    "\n",
    "\n",
    "# calculate optimal threshold that minimize 'sensitivity(TPR) + specificity(1-FPR)''\n",
    "fpr, tpr, thvals = roc_curve(y_test_bin, y_pred)\n",
    "optimal_idx = np.argmax(tpr-fpr)\n",
    "thval = thvals[optimal_idx]\n",
    "print('optimal thval: {:.4f}'.format(thval))\n",
    "                             \n",
    "#precision1, recall1, _ = precision_recall_curve(y_test_pacu_bin, y_pred)\n",
    "\n",
    "# confusion matrix\n",
    "cnf_matrix = confusion_matrix(y_test_bin, y_pred>=thval)\n",
    "np.set_printoptions(precision=2)\n",
    "class_names = ['NRS<4','NRS>=4']\n",
    "\n",
    "print('\\nauroc:{:.4f},  auprc:{:.4f}'.format(roc_auc, prc_auc))\n",
    "plot_confusion_matrix(cnf_matrix, classes=class_names, normalize=False, title='Confusion matrix for moderate pain')"
   ]
  },
  {
   "cell_type": "markdown",
   "metadata": {},
   "source": [
    "## Model history plot\n",
    "- training curve"
   ]
  },
  {
   "cell_type": "code",
   "execution_count": 61,
   "metadata": {
    "ExecuteTime": {
     "end_time": "2020-12-07T08:31:55.418590Z",
     "start_time": "2020-12-07T08:31:54.965970Z"
    }
   },
   "outputs": [
    {
     "data": {
      "image/png": "[encoded data removed]",
      "text/plain": [
       "<Figure size 1440x720 with 2 Axes>"
      ]
     },
     "metadata": {
      "needs_background": "light"
     },
     "output_type": "display_data"
    }
   ],
   "source": [
    "# model auroc 0.719짜리\n",
    "%matplotlib inline\n",
    "import matplotlib.pyplot as plt\n",
    "\n",
    "fig, loss_ax = plt.subplots(figsize=(20,10))\n",
    "\n",
    "#x-axis는 공유하지만 y-axis는 공유x\n",
    "acc_ax = loss_ax.twinx()\n",
    "\n",
    "loss_ax.plot(hist.history['loss'], 'y', linestyle='dashed', label='train loss')\n",
    "loss_ax.plot(hist.history['val_loss'], 'r', label='val loss')\n",
    "\n",
    "#acc_ax.plot(hist.history['mean_absolute_error'], 'b', linestyle='dashed',label='train mae')\n",
    "#acc_ax.plot(hist.history['val_mean_absolute_error'], 'g', label='val mae')\n",
    "acc_ax.plot(hist.history['acc'], 'b', linestyle='dashed',label='train acc')\n",
    "acc_ax.plot(hist.history['val_acc'], 'g', label='val acc')\n",
    "\n",
    "loss_ax.set_xlabel('epoch')\n",
    "loss_ax.set_ylabel('loss')\n",
    "#acc_ax.set_ylim(0.2,1.0)\n",
    "acc_ax.set_ylabel('accuray')\n",
    "\n",
    "loss_ax.legend(loc='upper left')\n",
    "acc_ax.legend(loc='lower left')\n",
    "\n",
    "plt.show()"
   ]
  },
  {
   "cell_type": "code",
   "execution_count": null,
   "metadata": {},
   "outputs": [],
   "source": [
    "test_result = model.evaluate(x=x_test, y=y_test_bin, batch_size=512, verbose=1, sample_weight=None, steps=None, callbacks=None)"
   ]
  },
  {
   "cell_type": "markdown",
   "metadata": {},
   "source": [
    "## Model summary"
   ]
  },
  {
   "cell_type": "code",
   "execution_count": 62,
   "metadata": {
    "ExecuteTime": {
     "end_time": "2020-12-07T08:32:00.419465Z",
     "start_time": "2020-12-07T08:32:00.386853Z"
    },
    "scrolled": false
   },
   "outputs": [
    {
     "name": "stdout",
     "output_type": "stream",
     "text": [
      "Model: \"functional_13\"\n",
      "__________________________________________________________________________________________________\n",
      "Layer (type)                    Output Shape         Param #     Connected to                     \n",
      "==================================================================================================\n",
      "input_9 (InputLayer)            [(None, 5000, 2)]    0                                            \n",
      "__________________________________________________________________________________________________\n",
      "conv1d_166 (Conv1D)             (None, 5000, 64)     448         input_9[0][0]                    \n",
      "__________________________________________________________________________________________________\n",
      "conv1d_167 (Conv1D)             (None, 5000, 64)     12352       conv1d_166[0][0]                 \n",
      "__________________________________________________________________________________________________\n",
      "conv1d_168 (Conv1D)             (None, 5000, 64)     12352       conv1d_167[0][0]                 \n",
      "__________________________________________________________________________________________________\n",
      "activation_22 (Activation)      (None, 5000, 64)     0           conv1d_168[0][0]                 \n",
      "__________________________________________________________________________________________________\n",
      "max_pooling1d_49 (MaxPooling1D) (None, 2499, 64)     0           activation_22[0][0]              \n",
      "__________________________________________________________________________________________________\n",
      "batch_normalization_30 (BatchNo (None, 2499, 64)     256         max_pooling1d_49[0][0]           \n",
      "__________________________________________________________________________________________________\n",
      "conv1d_169 (Conv1D)             (None, 2499, 128)    24704       batch_normalization_30[0][0]     \n",
      "__________________________________________________________________________________________________\n",
      "conv1d_170 (Conv1D)             (None, 2499, 128)    49280       conv1d_169[0][0]                 \n",
      "__________________________________________________________________________________________________\n",
      "activation_23 (Activation)      (None, 2499, 128)    0           conv1d_170[0][0]                 \n",
      "__________________________________________________________________________________________________\n",
      "max_pooling1d_50 (MaxPooling1D) (None, 1249, 128)    0           activation_23[0][0]              \n",
      "__________________________________________________________________________________________________\n",
      "batch_normalization_31 (BatchNo (None, 1249, 128)    512         max_pooling1d_50[0][0]           \n",
      "__________________________________________________________________________________________________\n",
      "conv1d_172 (Conv1D)             (None, 1249, 32)     4128        batch_normalization_31[0][0]     \n",
      "__________________________________________________________________________________________________\n",
      "conv1d_174 (Conv1D)             (None, 1249, 32)     4128        batch_normalization_31[0][0]     \n",
      "__________________________________________________________________________________________________\n",
      "max_pooling1d_51 (MaxPooling1D) (None, 1249, 128)    0           batch_normalization_31[0][0]     \n",
      "__________________________________________________________________________________________________\n",
      "conv1d_171 (Conv1D)             (None, 1249, 32)     4128        batch_normalization_31[0][0]     \n",
      "__________________________________________________________________________________________________\n",
      "conv1d_173 (Conv1D)             (None, 1249, 32)     3104        conv1d_172[0][0]                 \n",
      "__________________________________________________________________________________________________\n",
      "conv1d_175 (Conv1D)             (None, 1249, 32)     5152        conv1d_174[0][0]                 \n",
      "__________________________________________________________________________________________________\n",
      "conv1d_176 (Conv1D)             (None, 1249, 32)     4128        max_pooling1d_51[0][0]           \n",
      "__________________________________________________________________________________________________\n",
      "concatenate_19 (Concatenate)    (None, 1249, 128)    0           conv1d_171[0][0]                 \n",
      "                                                                 conv1d_173[0][0]                 \n",
      "                                                                 conv1d_175[0][0]                 \n",
      "                                                                 conv1d_176[0][0]                 \n",
      "__________________________________________________________________________________________________\n",
      "conv1d_178 (Conv1D)             (None, 1249, 32)     4128        concatenate_19[0][0]             \n",
      "__________________________________________________________________________________________________\n",
      "conv1d_180 (Conv1D)             (None, 1249, 32)     4128        concatenate_19[0][0]             \n",
      "__________________________________________________________________________________________________\n",
      "max_pooling1d_52 (MaxPooling1D) (None, 1249, 128)    0           concatenate_19[0][0]             \n",
      "__________________________________________________________________________________________________\n",
      "conv1d_177 (Conv1D)             (None, 1249, 32)     4128        concatenate_19[0][0]             \n",
      "__________________________________________________________________________________________________\n",
      "conv1d_179 (Conv1D)             (None, 1249, 32)     3104        conv1d_178[0][0]                 \n",
      "__________________________________________________________________________________________________\n",
      "conv1d_181 (Conv1D)             (None, 1249, 32)     5152        conv1d_180[0][0]                 \n",
      "__________________________________________________________________________________________________\n",
      "conv1d_182 (Conv1D)             (None, 1249, 32)     4128        max_pooling1d_52[0][0]           \n",
      "__________________________________________________________________________________________________\n",
      "concatenate_20 (Concatenate)    (None, 1249, 128)    0           conv1d_177[0][0]                 \n",
      "                                                                 conv1d_179[0][0]                 \n",
      "                                                                 conv1d_181[0][0]                 \n",
      "                                                                 conv1d_182[0][0]                 \n",
      "__________________________________________________________________________________________________\n",
      "global_average_pooling1d_6 (Glo (None, 128)          0           concatenate_20[0][0]             \n",
      "__________________________________________________________________________________________________\n",
      "dropout_12 (Dropout)            (None, 128)          0           global_average_pooling1d_6[0][0] \n",
      "__________________________________________________________________________________________________\n",
      "dense_12 (Dense)                (None, 16)           2064        dropout_12[0][0]                 \n",
      "__________________________________________________________________________________________________\n",
      "dropout_13 (Dropout)            (None, 16)           0           dense_12[0][0]                   \n",
      "__________________________________________________________________________________________________\n",
      "dense_13 (Dense)                (None, 1)            17          dropout_13[0][0]                 \n",
      "==================================================================================================\n",
      "Total params: 151,521\n",
      "Trainable params: 151,137\n",
      "Non-trainable params: 384\n",
      "__________________________________________________________________________________________________\n"
     ]
    }
   ],
   "source": [
    "model.summary()"
   ]
  },
  {
   "cell_type": "markdown",
   "metadata": {},
   "source": [
    "## Model ROC plot"
   ]
  },
  {
   "cell_type": "code",
   "execution_count": null,
   "metadata": {},
   "outputs": [],
   "source": [
    "# Model Accuracy of test set\n",
    "#print('test set accuracy:{:.2f}'.format(np.mean(y_pred>0.5==y_test_bin)))\n",
    "\n",
    "# Model AUROC\n",
    "from sklearn.metrics import roc_curve ,auc\n",
    "from numpy import interp\n",
    "#pipe_lr = make_pipeline(StandardScaler(), PCA(n_components=2), LogisticRegression(solver='liblinear', penalty='12', random_state=1, C=100.0))\n",
    "\n",
    "#cv = list(StratifiedKFold(n_splits=3, shuffle=True, random_state=1).split(x_))\n",
    "\n",
    "false_positive_rate, true_positive_rate, threshold = roc_curve(y_test_bin, y_pred)\n",
    "roc_auc = auc(false_positive_rate, true_positive_rate)\n",
    "print('test set auroc:', roc_auc)\n",
    "\n",
    "plt.title('Receiver Operating Characteristic')\n",
    "plt.xlabel(\"False Positive Rate(1 - Specificity)\")\n",
    "plt.ylabel('True Positive Rate(Sensitivity)')\n",
    "\n",
    "plt.plot(false_positive_rate, true_positive_rate, 'b', label='Model 1 (AUC = %0.4f)'% roc_auc)\n",
    "plt.plot([0,1],[1,1],'y--')\n",
    "plt.plot([0,1],[0,1],'r--')\n",
    "\n",
    "plt.legend(loc='lower right')\n",
    "plt.show()"
   ]
  },
  {
   "cell_type": "code",
   "execution_count": null,
   "metadata": {},
   "outputs": [],
   "source": []
  },
  {
   "cell_type": "code",
   "execution_count": 10,
   "metadata": {
    "ExecuteTime": {
     "end_time": "2020-12-04T17:54:12.438434Z",
     "start_time": "2020-12-04T17:54:12.426553Z"
    }
   },
   "outputs": [
    {
     "data": {
      "text/plain": [
       "array([0, 1, 0, 1, 0])"
      ]
     },
     "execution_count": 10,
     "metadata": {},
     "output_type": "execute_result"
    }
   ],
   "source": [
    "a = np.array([ [1,0,0], [0,1,0], [1,0,0],[0,0,1],[1,0,0]])\n",
    "a[:,1]+a[:,2]"
   ]
  },
  {
   "cell_type": "code",
   "execution_count": 4,
   "metadata": {
    "ExecuteTime": {
     "end_time": "2020-12-06T13:15:09.008695Z",
     "start_time": "2020-12-06T13:15:08.982690Z"
    }
   },
   "outputs": [
    {
     "data": {
      "text/plain": [
       "array([[0.55, 0.45],\n",
       "       [0.39, 0.61]])"
      ]
     },
     "execution_count": 4,
     "metadata": {},
     "output_type": "execute_result"
    }
   ],
   "source": [
    "cm = np.array([[0.55, 0.45], [0.39, 0.61]])\n",
    "cm = cm.astype('float') / cm.sum(axis=1)[:, np.newaxis]\n",
    "cm"
   ]
  }
 ],
 "metadata": {
  "kernelspec": {
   "display_name": "Python 3",
   "language": "python",
   "name": "python3"
  },
  "language_info": {
   "codemirror_mode": {
    "name": "ipython",
    "version": 3
   },
   "file_extension": ".py",
   "mimetype": "text/x-python",
   "name": "python",
   "nbconvert_exporter": "python",
   "pygments_lexer": "ipython3",
   "version": "3.6.9"
  },
  "toc": {
   "base_numbering": 1,
   "nav_menu": {},
   "number_sections": true,
   "sideBar": true,
   "skip_h1_title": false,
   "title_cell": "Table of Contents",
   "title_sidebar": "Contents",
   "toc_cell": false,
   "toc_position": {},
   "toc_section_display": true,
   "toc_window_display": true
  },
  "varInspector": {
   "cols": {
    "lenName": 16,
    "lenType": 16,
    "lenVar": 40
   },
   "kernels_config": {
    "python": {
     "delete_cmd_postfix": "",
     "delete_cmd_prefix": "del ",
     "library": "var_list.py",
     "varRefreshCmd": "print(var_dic_list())"
    },
    "r": {
     "delete_cmd_postfix": ") ",
     "delete_cmd_prefix": "rm(",
     "library": "var_list.r",
     "varRefreshCmd": "cat(var_dic_list()) "
    }
   },
   "types_to_exclude": [
    "module",
    "function",
    "builtin_function_or_method",
    "instance",
    "_Feature"
   ],
   "window_display": false
  }
 },
 "nbformat": 4,
 "nbformat_minor": 4
}
