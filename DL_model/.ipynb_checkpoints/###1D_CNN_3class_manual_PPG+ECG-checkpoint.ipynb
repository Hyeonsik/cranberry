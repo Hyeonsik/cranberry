{
 "cells": [
  {
   "cell_type": "markdown",
   "metadata": {},
   "source": [
    "# train, test loading"
   ]
  },
  {
   "cell_type": "code",
   "execution_count": 1,
   "metadata": {
    "ExecuteTime": {
     "end_time": "2020-12-07T03:42:06.423211Z",
     "start_time": "2020-12-07T03:41:41.776969Z"
    },
    "scrolled": true
   },
   "outputs": [
    {
     "name": "stdout",
     "output_type": "stream",
     "text": [
      "loading train...done\n",
      "x_train shape: (78513, 5000, 2)\n",
      "x_test.shape: (9344, 5000, 2)\n",
      "x_val.shape: (8707, 5000, 2)\n"
     ]
    }
   ],
   "source": [
    "import pandas as pd\n",
    "\n",
    "print('loading train...', flush=True, end='')\n",
    "\n",
    "# x를 loading해서 (batch_size, step, channel)\n",
    "input_path = '../DL_model/dataset/preprocess3/input3-2/'\n",
    "x_train = np.load(input_path+'x_train.npz', allow_pickle=True)['arr_0']\n",
    "x_test = np.load(input_path+'x_test.npz', allow_pickle=True)['arr_0']\n",
    "x_val = np.load(input_path+'x_val.npz', allow_pickle=True)['arr_0']\n",
    "\n",
    "y_train = np.load(input_path+'y_train.npz')['arr_0']\n",
    "y_test = np.load(input_path+'y_test.npz')['arr_0']\n",
    "y_val = np.load(input_path+'y_val.npz')['arr_0']\n",
    "print('done', flush=True)\n",
    "\n",
    "print('x_train shape:', x_train.shape)\n",
    "print('x_test.shape:', x_test.shape)\n",
    "print('x_val.shape:', x_val.shape)\n"
   ]
  },
  {
   "cell_type": "markdown",
   "metadata": {},
   "source": [
    "## multi-class classification (3 class)"
   ]
  },
  {
   "cell_type": "code",
   "execution_count": 2,
   "metadata": {
    "ExecuteTime": {
     "end_time": "2020-12-07T03:42:07.279282Z",
     "start_time": "2020-12-07T03:42:06.446859Z"
    }
   },
   "outputs": [],
   "source": [
    "# labels for y_train\n",
    "y_train_class = []\n",
    "for i in range(y_train.shape[0]):\n",
    "    if y_train[i] <= 3.5:\n",
    "        y_train_class.append((1,0,0))\n",
    "    elif 3.5<y_train[i]<=6.5:\n",
    "        y_train_class.append((0,1,0))\n",
    "    else:\n",
    "        y_train_class.append((0,0,1))\n",
    "        \n",
    "y_train_class = np.array(y_train_class, int)\n",
    "\n",
    "\n",
    "# labels for y_val\n",
    "y_val_class = []\n",
    "for i in range(y_val.shape[0]):\n",
    "    if y_val[i] <= 3.5:\n",
    "        y_val_class.append((1,0,0))\n",
    "    elif 3.5<y_val[i]<=6.5:\n",
    "        y_val_class.append((0,1,0))\n",
    "    else:\n",
    "        y_val_class.append((0,0,1))\n",
    "        \n",
    "y_val_class = np.array(y_val_class, int)\n",
    "\n",
    "# labels for y_test\n",
    "y_test_class = []\n",
    "for i in range(y_test.shape[0]):\n",
    "    if y_test[i] <= 3.5:\n",
    "        y_test_class.append([1,0,0])\n",
    "    elif 3.5<y_test[i]<=6.5:\n",
    "        y_test_class.append([0,1,0])\n",
    "    else:\n",
    "        y_test_class.append([0,0,1])\n",
    "        \n",
    "y_test_class = np.array(y_test_class, int)"
   ]
  },
  {
   "cell_type": "code",
   "execution_count": 3,
   "metadata": {
    "ExecuteTime": {
     "end_time": "2020-12-07T03:42:07.560954Z",
     "start_time": "2020-12-07T03:42:07.301641Z"
    }
   },
   "outputs": [],
   "source": [
    "def hist_class(y):\n",
    "    class1, class2, class3 = 0, 0, 0\n",
    "    for i in range(len(y)):\n",
    "        class1+=y[i][0]\n",
    "        class2+=y[i][1]\n",
    "        class3+=y[i][2]\n",
    "    return {'0': class1, '1': class2, '2': class3}\n",
    "\n",
    "dict_train = hist_class(y_train_class)\n",
    "dict_val = hist_class(y_val_class)\n",
    "dict_test = hist_class(y_test_class)"
   ]
  },
  {
   "cell_type": "code",
   "execution_count": 20,
   "metadata": {
    "ExecuteTime": {
     "end_time": "2020-12-04T14:16:14.567594Z",
     "start_time": "2020-12-04T14:16:14.546204Z"
    }
   },
   "outputs": [
    {
     "name": "stdout",
     "output_type": "stream",
     "text": [
      "train set: no pain 30132 (38.38%), moderate pain 36114 (46.00%), severe pain 12267 (15.62%)\n",
      "val set: no pain 3253 (37.36%), moderate pain 4185 (48.06%), severe pain 1269 (14.57%)\n",
      "test set: no pain 3947 (42.24%), moderate pain 4015 (42.97%), severe pain 1382 (14.79%)\n"
     ]
    }
   ],
   "source": [
    "print('train set: no pain {} ({:.2f}%), moderate pain {} ({:.2f}%), severe pain {} ({:.2f}%)'.format(dict_train['0'],dict_train['0']/(dict_train['0']+dict_train['1']+dict_train['2'])*100,dict_train['1'],dict_train['1']/(dict_train['0']+dict_train['1']+dict_train['2'])*100,dict_train['2'],dict_train['2']/(dict_train['0']+dict_train['1']+dict_train['2'])*100))\n",
    "print('val set: no pain {} ({:.2f}%), moderate pain {} ({:.2f}%), severe pain {} ({:.2f}%)'.format(dict_val['0'],dict_val['0']/(dict_val['0']+dict_val['1']+dict_val['2'])*100,dict_val['1'],dict_val['1']/(dict_val['0']+dict_val['1']+dict_val['2'])*100,dict_val['2'],dict_val['2']/(dict_val['0']+dict_val['1']+dict_val['2'])*100))\n",
    "print('test set: no pain {} ({:.2f}%), moderate pain {} ({:.2f}%), severe pain {} ({:.2f}%)'.format(dict_test['0'],dict_test['0']/(dict_test['0']+dict_test['1']+dict_test['2'])*100,dict_test['1'],dict_test['1']/(dict_test['0']+dict_test['1']+dict_test['2'])*100,dict_test['2'],dict_test['2']/(dict_test['0']+dict_test['1']+dict_test['2'])*100))\n"
   ]
  },
  {
   "cell_type": "code",
   "execution_count": 2,
   "metadata": {
    "ExecuteTime": {
     "end_time": "2020-12-02T15:00:02.465381Z",
     "start_time": "2020-12-02T15:00:02.455301Z"
    }
   },
   "outputs": [
    {
     "name": "stdout",
     "output_type": "stream",
     "text": [
      "y_train의 평균: 0.6065, y_test의 평균: 0.5790\n",
      "y_val의 평균: 0.6111\n"
     ]
    }
   ],
   "source": [
    "print('y_train의 평균: {:.4f}, y_test의 평균: {:.4f}'.format(np.mean(y_train_bin), np.mean(y_test_bin)))\n",
    "print('y_val의 평균: {:.4f}'.format(np.mean(y_val_bin)))"
   ]
  },
  {
   "cell_type": "markdown",
   "metadata": {},
   "source": [
    "# GPU setting"
   ]
  },
  {
   "cell_type": "markdown",
   "metadata": {},
   "source": [
    "## GPU memory 확장"
   ]
  },
  {
   "cell_type": "code",
   "execution_count": 4,
   "metadata": {
    "ExecuteTime": {
     "end_time": "2020-12-07T03:42:12.035546Z",
     "start_time": "2020-12-07T03:42:07.584678Z"
    }
   },
   "outputs": [
    {
     "name": "stdout",
     "output_type": "stream",
     "text": [
      "4 Physical GPUs, 4 Logical GPUs\n"
     ]
    }
   ],
   "source": [
    "import tensorflow as tf\n",
    "\n",
    "gpus = tf.config.experimental.list_physical_devices('GPU')\n",
    "if gpus:\n",
    "    try:\n",
    "        # Currently, memory growth needs to be the same across GPUs\n",
    "        for gpu in gpus:\n",
    "            tf.config.experimental.set_memory_growth(gpu, True)\n",
    "        logical_gpus = tf.config.experimental.list_logical_devices('GPU')\n",
    "        print(len(gpus), \"Physical GPUs,\", len(logical_gpus), \"Logical GPUs\")\n",
    "    except RuntimeError as e:\n",
    "        # Memory growth must be set before GPUs have been initialized\n",
    "        print(e)"
   ]
  },
  {
   "cell_type": "markdown",
   "metadata": {},
   "source": [
    "# Model"
   ]
  },
  {
   "cell_type": "markdown",
   "metadata": {},
   "source": [
    "## Sample weight"
   ]
  },
  {
   "cell_type": "markdown",
   "metadata": {},
   "source": [
    "### NRS 각 class마다 weight"
   ]
  },
  {
   "cell_type": "code",
   "execution_count": 73,
   "metadata": {
    "ExecuteTime": {
     "end_time": "2020-12-04T16:14:55.130620Z",
     "start_time": "2020-12-04T16:14:55.116947Z"
    }
   },
   "outputs": [
    {
     "name": "stdout",
     "output_type": "stream",
     "text": [
      "5.300276783906028\n",
      "872.3666666666667\n",
      "17.105228758169936\n",
      "7.379734937494125\n",
      "7.4047910968593795\n",
      "4.210941271118262\n",
      "11.4350422371104\n",
      "14.285480349344978\n",
      "13.854420328215987\n",
      "83.79188900747064\n",
      "470.1377245508982\n"
     ]
    }
   ],
   "source": [
    "sample_weight = np.ones(shape=(len(y_train),))\n",
    "for i in range(0,11):\n",
    "    sample_weight[y_train==i] = len(y_train)/np.sum(y_train==i)\n",
    "    \n",
    "    \n",
    "for i in range(0,11):\n",
    "    print(len(y_train)/np.sum(y_train==i))"
   ]
  },
  {
   "cell_type": "markdown",
   "metadata": {},
   "source": [
    "### 3개의 class에 대해 sample_weight"
   ]
  },
  {
   "cell_type": "code",
   "execution_count": 15,
   "metadata": {
    "ExecuteTime": {
     "end_time": "2020-12-07T04:01:15.331624Z",
     "start_time": "2020-12-07T04:01:13.451625Z"
    }
   },
   "outputs": [
    {
     "name": "stdout",
     "output_type": "stream",
     "text": [
      "sample weight for class 1: 2.61, class 2: 2.17, class 3: 6.40\n"
     ]
    }
   ],
   "source": [
    "train_w_samp = np.ones(shape=(len(y_train),))\n",
    "\n",
    "mask1 = [(y_class==[1,0,0]).all() for y_class in y_train_class] \n",
    "train_w_samp[mask1]= len(y_train) / dict_train['0']\n",
    "\n",
    "mask1 = [(y_class==[0,1,0]).all() for y_class in y_train_class] \n",
    "train_w_samp[mask1]= len(y_train) / dict_train['1']\n",
    "\n",
    "mask1 = [(y_class==[0,0,1]).all() for y_class in y_train_class] \n",
    "train_w_samp[mask1]= len(y_train) / dict_train['2']\n",
    "\n",
    "print('sample weight for class 1: {:.2f}, class 2: {:.2f}, class 3: {:.2f}'\n",
    "      .format(len(y_train) / dict_train['0'],len(y_train) / dict_train['1'],len(y_train) / dict_train['2']))"
   ]
  },
  {
   "cell_type": "code",
   "execution_count": 11,
   "metadata": {
    "ExecuteTime": {
     "end_time": "2020-12-07T04:00:05.339837Z",
     "start_time": "2020-12-07T04:00:05.118286Z"
    }
   },
   "outputs": [
    {
     "name": "stdout",
     "output_type": "stream",
     "text": [
      "sample weight for class 1: 2.68, class 2: 2.08, class 3: 6.86\n"
     ]
    }
   ],
   "source": [
    "val_w_samp = np.ones(shape=(len(y_val),))\n",
    "\n",
    "mask1 = [(y_class==[1,0,0]).all() for y_class in y_val_class] \n",
    "val_w_samp[mask1]= len(y_val) / dict_val['0']\n",
    "\n",
    "mask1 = [(y_class==[0,1,0]).all() for y_class in y_val_class] \n",
    "val_w_samp[mask1]= len(y_val) / dict_val['1']\n",
    "\n",
    "mask1 = [(y_class==[0,0,1]).all() for y_class in y_val_class] \n",
    "val_w_samp[mask1]= len(y_val) / dict_val['2']\n",
    "\n",
    "print('sample weight for class 1: {:.2f}, class 2: {:.2f}, class 3: {:.2f}'\n",
    "      .format(len(y_val) / dict_val['0'],len(y_val) / dict_val['1'],len(y_val) / dict_val['2']))"
   ]
  },
  {
   "cell_type": "code",
   "execution_count": 13,
   "metadata": {
    "ExecuteTime": {
     "end_time": "2020-12-07T04:00:17.991517Z",
     "start_time": "2020-12-07T04:00:17.730570Z"
    }
   },
   "outputs": [
    {
     "name": "stdout",
     "output_type": "stream",
     "text": [
      "sample weight for class 1: 2.37, class 2: 2.33, class 3: 6.76\n"
     ]
    }
   ],
   "source": [
    "# 3 class에 대한 sample weight\n",
    "test_w_samp = np.ones(shape=(len(y_test),))\n",
    "\n",
    "mask1 = [(y_class==[1,0,0]).all() for y_class in y_test_class] \n",
    "test_w_samp[mask1]= len(y_test) / dict_test['0']\n",
    "\n",
    "mask1 = [(y_class==[0,1,0]).all() for y_class in y_test_class] \n",
    "test_w_samp[mask1]= len(y_test) / dict_test['1']\n",
    "\n",
    "mask1 = [(y_class==[0,0,1]).all() for y_class in y_test_class] \n",
    "test_w_samp[mask1]= len(y_test) / dict_test['2']\n",
    "\n",
    "print('sample weight for class 1: {:.2f}, class 2: {:.2f}, class 3: {:.2f}'\n",
    "      .format(len(y_test) / dict_test['0'],len(y_test) / dict_test['1'],len(y_test) / dict_test['2']))"
   ]
  },
  {
   "cell_type": "markdown",
   "metadata": {},
   "source": [
    "## Training"
   ]
  },
  {
   "cell_type": "code",
   "execution_count": 25,
   "metadata": {
    "ExecuteTime": {
     "end_time": "2020-12-07T04:36:58.533188Z",
     "start_time": "2020-12-07T04:31:14.577493Z"
    },
    "scrolled": true
   },
   "outputs": [
    {
     "name": "stdout",
     "output_type": "stream",
     "text": [
      "64-64-64-128\n",
      "INFO:tensorflow:Using MirroredStrategy with devices ('/job:localhost/replica:0/task:0/device:GPU:0', '/job:localhost/replica:0/task:0/device:GPU:1')\n",
      "Epoch 1/100\n",
      "INFO:tensorflow:batch_all_reduce: 26 all-reduces with algorithm = nccl, num_packs = 1\n",
      "INFO:tensorflow:batch_all_reduce: 26 all-reduces with algorithm = nccl, num_packs = 1\n",
      "77/77 [==============================] - ETA: 0s - loss: 5.9547 - acc: 0.3395 - auc_5: 0.5043\n",
      "Epoch 00001: val_loss improved from inf to 5.43580, saving model to output/preprocess3/input3-2_PPG+ECG/1D_CNN_model_3cat_sampleweight_conv64_conv64_conv64_conv128_filter3x2_tanh_bn_maxpool2_globalmaxpool_dropout0.3_dense0_dropout0.3_batch1024_lr_0.001_kinit_kreg0/weights.hdf5\n",
      "77/77 [==============================] - 18s 238ms/step - loss: 5.9547 - acc: 0.3395 - auc_5: 0.5043 - val_loss: 5.4358 - val_acc: 0.1562 - val_auc_5: 0.3969\n",
      "Epoch 2/100\n",
      "77/77 [==============================] - ETA: 0s - loss: 4.1844 - acc: 0.3431 - auc_5: 0.5066\n",
      "Epoch 00002: val_loss improved from 5.43580 to 3.29874, saving model to output/preprocess3/input3-2_PPG+ECG/1D_CNN_model_3cat_sampleweight_conv64_conv64_conv64_conv128_filter3x2_tanh_bn_maxpool2_globalmaxpool_dropout0.3_dense0_dropout0.3_batch1024_lr_0.001_kinit_kreg0/weights.hdf5\n",
      "77/77 [==============================] - 14s 183ms/step - loss: 4.1844 - acc: 0.3431 - auc_5: 0.5066 - val_loss: 3.2987 - val_acc: 0.4556 - val_auc_5: 0.6025\n",
      "Epoch 3/100\n",
      "77/77 [==============================] - ETA: 0s - loss: 3.8555 - acc: 0.3461 - auc_5: 0.5127\n",
      "Epoch 00003: val_loss improved from 3.29874 to 3.24283, saving model to output/preprocess3/input3-2_PPG+ECG/1D_CNN_model_3cat_sampleweight_conv64_conv64_conv64_conv128_filter3x2_tanh_bn_maxpool2_globalmaxpool_dropout0.3_dense0_dropout0.3_batch1024_lr_0.001_kinit_kreg0/weights.hdf5\n",
      "77/77 [==============================] - 14s 183ms/step - loss: 3.8555 - acc: 0.3461 - auc_5: 0.5127 - val_loss: 3.2428 - val_acc: 0.4464 - val_auc_5: 0.6150\n",
      "Epoch 4/100\n",
      "77/77 [==============================] - ETA: 0s - loss: 3.6401 - acc: 0.3676 - auc_5: 0.5359\n",
      "Epoch 00004: val_loss did not improve from 3.24283\n",
      "77/77 [==============================] - 14s 181ms/step - loss: 3.6401 - acc: 0.3676 - auc_5: 0.5359 - val_loss: 3.6007 - val_acc: 0.3734 - val_auc_5: 0.6004\n",
      "Epoch 5/100\n",
      "77/77 [==============================] - ETA: 0s - loss: 3.4571 - acc: 0.4033 - auc_5: 0.5772\n",
      "Epoch 00005: val_loss did not improve from 3.24283\n",
      "77/77 [==============================] - 14s 181ms/step - loss: 3.4571 - acc: 0.4033 - auc_5: 0.5772 - val_loss: 3.3522 - val_acc: 0.3767 - val_auc_5: 0.6051\n",
      "Epoch 6/100\n",
      "77/77 [==============================] - ETA: 0s - loss: 3.3094 - acc: 0.4299 - auc_5: 0.6108\n",
      "Epoch 00006: val_loss improved from 3.24283 to 3.11631, saving model to output/preprocess3/input3-2_PPG+ECG/1D_CNN_model_3cat_sampleweight_conv64_conv64_conv64_conv128_filter3x2_tanh_bn_maxpool2_globalmaxpool_dropout0.3_dense0_dropout0.3_batch1024_lr_0.001_kinit_kreg0/weights.hdf5\n",
      "77/77 [==============================] - 14s 183ms/step - loss: 3.3094 - acc: 0.4299 - auc_5: 0.6108 - val_loss: 3.1163 - val_acc: 0.4913 - val_auc_5: 0.6653\n",
      "Epoch 7/100\n",
      "77/77 [==============================] - ETA: 0s - loss: 3.1941 - acc: 0.4446 - auc_5: 0.6350\n",
      "Epoch 00007: val_loss improved from 3.11631 to 3.09728, saving model to output/preprocess3/input3-2_PPG+ECG/1D_CNN_model_3cat_sampleweight_conv64_conv64_conv64_conv128_filter3x2_tanh_bn_maxpool2_globalmaxpool_dropout0.3_dense0_dropout0.3_batch1024_lr_0.001_kinit_kreg0/weights.hdf5\n",
      "77/77 [==============================] - 14s 183ms/step - loss: 3.1941 - acc: 0.4446 - auc_5: 0.6350 - val_loss: 3.0973 - val_acc: 0.4889 - val_auc_5: 0.6652\n",
      "Epoch 8/100\n",
      "77/77 [==============================] - ETA: 0s - loss: 3.1231 - acc: 0.4564 - auc_5: 0.6503\n",
      "Epoch 00008: val_loss improved from 3.09728 to 3.04495, saving model to output/preprocess3/input3-2_PPG+ECG/1D_CNN_model_3cat_sampleweight_conv64_conv64_conv64_conv128_filter3x2_tanh_bn_maxpool2_globalmaxpool_dropout0.3_dense0_dropout0.3_batch1024_lr_0.001_kinit_kreg0/weights.hdf5\n",
      "77/77 [==============================] - 14s 184ms/step - loss: 3.1231 - acc: 0.4564 - auc_5: 0.6503 - val_loss: 3.0450 - val_acc: 0.4942 - val_auc_5: 0.6731\n",
      "Epoch 9/100\n",
      "77/77 [==============================] - ETA: 0s - loss: 3.0538 - acc: 0.4688 - auc_5: 0.6647\n",
      "Epoch 00009: val_loss did not improve from 3.04495\n",
      "77/77 [==============================] - 14s 180ms/step - loss: 3.0538 - acc: 0.4688 - auc_5: 0.6647 - val_loss: 3.1151 - val_acc: 0.4762 - val_auc_5: 0.7034\n",
      "Epoch 10/100\n",
      "77/77 [==============================] - ETA: 0s - loss: 2.9909 - acc: 0.4820 - auc_5: 0.6810\n",
      "Epoch 00010: val_loss did not improve from 3.04495\n",
      "77/77 [==============================] - 14s 179ms/step - loss: 2.9909 - acc: 0.4820 - auc_5: 0.6810 - val_loss: 3.1728 - val_acc: 0.4801 - val_auc_5: 0.6239\n",
      "Epoch 11/100\n",
      "77/77 [==============================] - ETA: 0s - loss: 2.9138 - acc: 0.4932 - auc_5: 0.6931\n",
      "Epoch 00011: val_loss improved from 3.04495 to 3.01937, saving model to output/preprocess3/input3-2_PPG+ECG/1D_CNN_model_3cat_sampleweight_conv64_conv64_conv64_conv128_filter3x2_tanh_bn_maxpool2_globalmaxpool_dropout0.3_dense0_dropout0.3_batch1024_lr_0.001_kinit_kreg0/weights.hdf5\n",
      "77/77 [==============================] - 14s 181ms/step - loss: 2.9138 - acc: 0.4932 - auc_5: 0.6931 - val_loss: 3.0194 - val_acc: 0.5383 - val_auc_5: 0.7031\n",
      "Epoch 12/100\n",
      "77/77 [==============================] - ETA: 0s - loss: 2.7601 - acc: 0.5222 - auc_5: 0.7246\n",
      "Epoch 00012: val_loss did not improve from 3.01937\n",
      "77/77 [==============================] - 14s 179ms/step - loss: 2.7601 - acc: 0.5222 - auc_5: 0.7246 - val_loss: 3.0872 - val_acc: 0.4812 - val_auc_5: 0.6731\n",
      "Epoch 13/100\n",
      "77/77 [==============================] - ETA: 0s - loss: 2.7610 - acc: 0.5222 - auc_5: 0.7240\n",
      "Epoch 00013: val_loss improved from 3.01937 to 2.73097, saving model to output/preprocess3/input3-2_PPG+ECG/1D_CNN_model_3cat_sampleweight_conv64_conv64_conv64_conv128_filter3x2_tanh_bn_maxpool2_globalmaxpool_dropout0.3_dense0_dropout0.3_batch1024_lr_0.001_kinit_kreg0/weights.hdf5\n",
      "77/77 [==============================] - 14s 181ms/step - loss: 2.7610 - acc: 0.5222 - auc_5: 0.7240 - val_loss: 2.7310 - val_acc: 0.5089 - val_auc_5: 0.7085\n",
      "Epoch 14/100\n",
      "77/77 [==============================] - ETA: 0s - loss: 2.7013 - acc: 0.5276 - auc_5: 0.7318\n",
      "Epoch 00014: val_loss did not improve from 2.73097\n",
      "77/77 [==============================] - 14s 179ms/step - loss: 2.7013 - acc: 0.5276 - auc_5: 0.7318 - val_loss: 3.5241 - val_acc: 0.4678 - val_auc_5: 0.6770\n",
      "Epoch 15/100\n",
      "77/77 [==============================] - ETA: 0s - loss: 2.6827 - acc: 0.5397 - auc_5: 0.7392\n",
      "Epoch 00015: val_loss did not improve from 2.73097\n",
      "77/77 [==============================] - 14s 180ms/step - loss: 2.6827 - acc: 0.5397 - auc_5: 0.7392 - val_loss: 2.7577 - val_acc: 0.5644 - val_auc_5: 0.7512\n",
      "Epoch 16/100\n",
      "77/77 [==============================] - ETA: 0s - loss: 2.6551 - acc: 0.5411 - auc_5: 0.7430\n",
      "Epoch 00016: val_loss improved from 2.73097 to 2.71366, saving model to output/preprocess3/input3-2_PPG+ECG/1D_CNN_model_3cat_sampleweight_conv64_conv64_conv64_conv128_filter3x2_tanh_bn_maxpool2_globalmaxpool_dropout0.3_dense0_dropout0.3_batch1024_lr_0.001_kinit_kreg0/weights.hdf5\n",
      "77/77 [==============================] - 14s 181ms/step - loss: 2.6551 - acc: 0.5411 - auc_5: 0.7430 - val_loss: 2.7137 - val_acc: 0.5228 - val_auc_5: 0.7333\n",
      "Epoch 17/100\n",
      "77/77 [==============================] - ETA: 0s - loss: 2.6510 - acc: 0.5445 - auc_5: 0.7456\n",
      "Epoch 00017: val_loss improved from 2.71366 to 2.69549, saving model to output/preprocess3/input3-2_PPG+ECG/1D_CNN_model_3cat_sampleweight_conv64_conv64_conv64_conv128_filter3x2_tanh_bn_maxpool2_globalmaxpool_dropout0.3_dense0_dropout0.3_batch1024_lr_0.001_kinit_kreg0/weights.hdf5\n",
      "77/77 [==============================] - 14s 181ms/step - loss: 2.6510 - acc: 0.5445 - auc_5: 0.7456 - val_loss: 2.6955 - val_acc: 0.5791 - val_auc_5: 0.7698\n",
      "Epoch 18/100\n",
      "77/77 [==============================] - ETA: 0s - loss: 2.6374 - acc: 0.5454 - auc_5: 0.7480\n",
      "Epoch 00018: val_loss did not improve from 2.69549\n",
      "77/77 [==============================] - 14s 179ms/step - loss: 2.6374 - acc: 0.5454 - auc_5: 0.7480 - val_loss: 2.9388 - val_acc: 0.4557 - val_auc_5: 0.6535\n"
     ]
    },
    {
     "name": "stdout",
     "output_type": "stream",
     "text": [
      "Epoch 19/100\n",
      "77/77 [==============================] - ETA: 0s - loss: 2.6499 - acc: 0.5441 - auc_5: 0.7461\n",
      "Epoch 00019: val_loss did not improve from 2.69549\n",
      "77/77 [==============================] - 14s 179ms/step - loss: 2.6499 - acc: 0.5441 - auc_5: 0.7461 - val_loss: 2.7109 - val_acc: 0.5281 - val_auc_5: 0.7297\n",
      "Epoch 20/100\n",
      "77/77 [==============================] - ETA: 0s - loss: 2.6192 - acc: 0.5485 - auc_5: 0.7531\n",
      "Epoch 00020: val_loss did not improve from 2.69549\n",
      "77/77 [==============================] - 14s 179ms/step - loss: 2.6192 - acc: 0.5485 - auc_5: 0.7531 - val_loss: 3.4676 - val_acc: 0.4602 - val_auc_5: 0.6868\n",
      "Epoch 21/100\n",
      "77/77 [==============================] - ETA: 0s - loss: 2.6537 - acc: 0.5398 - auc_5: 0.7445\n",
      "Epoch 00021: val_loss did not improve from 2.69549\n",
      "77/77 [==============================] - 14s 179ms/step - loss: 2.6537 - acc: 0.5398 - auc_5: 0.7445 - val_loss: 2.8090 - val_acc: 0.5996 - val_auc_5: 0.7909\n",
      "Epoch 22/100\n",
      "77/77 [==============================] - ETA: 0s - loss: 2.6033 - acc: 0.5544 - auc_5: 0.7578\n",
      "Epoch 00022: val_loss did not improve from 2.69549\n",
      "77/77 [==============================] - 14s 179ms/step - loss: 2.6033 - acc: 0.5544 - auc_5: 0.7578 - val_loss: 2.9001 - val_acc: 0.6108 - val_auc_5: 0.7766\n"
     ]
    }
   ],
   "source": [
    "from keras.models import Sequential\n",
    "from keras.models import Model, load_model\n",
    "from keras.optimizers import Adam as Adam\n",
    "from keras.layers import Dense, Conv1D, MaxPooling1D, GlobalMaxPool1D, BatchNormalization, Dropout, Activation\n",
    "from keras.layers import GlobalAveragePooling1D, Flatten, SeparableConv1D, LeakyReLU\n",
    "from keras.callbacks import ModelCheckpoint, EarlyStopping\n",
    "from sklearn.metrics import auc, classification_report, confusion_matrix, accuracy_score, roc_curve, roc_auc_score, f1_score, precision_recall_curve\n",
    "import tensorflow as tf\n",
    "import os, pickle\n",
    "from keras import backend as K\n",
    "from keras import regularizers\n",
    "from keras.initializers import he_normal, GlorotNormal\n",
    "\n",
    "\n",
    "# hyperparamters\n",
    "num_nodes = [64, 64, 64, 128] #, 64, 64, 64]\n",
    "kernel_size = 3\n",
    "pool_size = 2\n",
    "BATCH_SIZE = 1024\n",
    "dense_node = 0\n",
    "dropout_rate = 0.3\n",
    "dropout_cnn = 0.3\n",
    "dropout_fc = 0.3\n",
    "learning_rate = 0.001\n",
    "\n",
    "\n",
    "# initializer & regularizer\n",
    "k_init = he_normal(seed=None)\n",
    "#k_init = GlorotNormal(seed=None) # Xavier normal initializer\n",
    "#k_init = None\n",
    "b_init = None\n",
    "k_l2 = 0\n",
    "#k_reg = regularizers.l2(l2=k_l2)\n",
    "k_reg = None\n",
    "b_reg = None\n",
    "\n",
    "\n",
    "testname = '-'.join([str(num_node) for num_node in num_nodes])\n",
    "print(testname)\n",
    "\n",
    "\n",
    "# 출력 폴더를 생성\n",
    "model_name = 'model_3cat_sampleweight_'\n",
    "for num_node in num_nodes:\n",
    "    model_name += 'conv{}_'.format(num_node)\n",
    "model_name += 'filter{}x2_tanh_bn_maxpool{}_globalmaxpool_dropout{}_dense{}_dropout{}_batch{}_lr_{}_kinit_kreg{}'.format(kernel_size, pool_size, dropout_cnn, dense_node, dropout_fc, BATCH_SIZE, learning_rate, k_l2)\n",
    "\n",
    "#model_name = 'model_reg_{}_{}_{}_size{}_relu_bn_maxpool{}_globalmaxpool_dense32_dropout{}_batch{}_learning_rate{}'.format(num_nodes[0], num_nodes[1], num_nodes[2], kernel_size, pool_size, dropout_rate, BATCH_SIZE, learning_rate)\n",
    "save_path = \"output/preprocess3/input3-2_PPG+ECG/1D_CNN_\"+model_name\n",
    "\n",
    "if not os.path.exists(save_path):\n",
    "    os.mkdir(save_path)\n",
    "weight_path = save_path + \"/weights.hdf5\"\n",
    "\n",
    "\n",
    "# GPU 설정\n",
    "strategy = tf.distribute.MirroredStrategy(devices=[\"/gpu:0\",\"/gpu:1\"])\n",
    "with strategy.scope():\n",
    "    \n",
    "    # build a model\n",
    "    model = Sequential()\n",
    "    for num_node in num_nodes:\n",
    "        model.add(Conv1D(filters=num_node, kernel_size=kernel_size, padding='same', kernel_initializer=k_init,bias_initializer =b_init , kernel_regularizer=k_reg, bias_regularizer=b_reg))\n",
    "        model.add(Conv1D(filters=num_node, kernel_size=kernel_size, padding='same', kernel_initializer=k_init,bias_initializer =b_init , kernel_regularizer=k_reg, bias_regularizer=b_reg))\n",
    "        #model.add(LeakyReLU(alpha=0.1))\n",
    "        model.add(Activation('relu'))\n",
    "        model.add(BatchNormalization())\n",
    "        model.add(MaxPooling1D(pool_size=pool_size))\n",
    "    #model.add(BatchNormalization())    \n",
    "    model.add(GlobalMaxPool1D())\n",
    "    #model.add(Flatten())\n",
    "    model.add(Dropout(dropout_cnn))\n",
    "    #model.add(Activation('sigmoid'))\n",
    "    #model.add(Dropout(dropout_rate))\n",
    "    if dense_node != 0:\n",
    "        model.add(Dense(dense_node, activation='tanh', kernel_initializer=k_init, kernel_regularizer=k_reg))\n",
    "        model.add(Dropout(dropout_fc))\n",
    "    model.add(Dense(3, activation='softmax'))\n",
    "\n",
    "    \n",
    "    # model 학습 설정\n",
    "    model.compile(loss='categorical_crossentropy', optimizer=Adam(lr=learning_rate), metrics=[\"acc\", tf.keras.metrics.AUC()])\n",
    "    hist = model.fit(x_train, y_train_class, sample_weight = train_w_samp, validation_data = (x_val, y_val_class, val_w_samp), epochs=100, batch_size=BATCH_SIZE, #class_weight={0:1, 1:3}, \n",
    "                            callbacks=[ModelCheckpoint(monitor='val_loss', filepath=weight_path, verbose=1, save_best_only=True),\n",
    "                                        EarlyStopping(monitor='val_loss', patience=5, verbose=0, mode='auto')])\n",
    "\n",
    "    #tf.keras.backend.clear_session()\n",
    "\n",
    "model.load_weights(weight_path)\n",
    "    \n",
    "# 모델의 아키텍처 및 구조 저장\n",
    "open(save_path + \"/model.json\", \"wt\").write(model.to_json())\n",
    "\n",
    "\n",
    "# 전체 test 샘플을 한번에 예측\n",
    "y_pred = model.predict(x_test) # binary는 flatten\n",
    "\n",
    "# 결과를 저장\n",
    "#np.savetxt(save_path+'/pred_y.txt', y_pred)\n",
    "\n",
    "\n",
    "# 모델의 history log 저장 - binary classification\n",
    "for key in hist.history.keys():\n",
    "    if 'auc' in key and not 'val' in key:\n",
    "        auc_key = key\n",
    "#pickle.dump((hist.history['loss'], hist.history['val_loss'], hist.history['accuracy'], hist.history['val_accuracy'], hist.history[auc], hist.history['val_'+auc]), open(save_path+'/history', 'wb'))\n",
    "\n",
    "# 모델의 history log 저장 - regression\n",
    "pickle.dump((hist.history['loss'], hist.history['val_loss'], hist.history['acc'], hist.history['val_acc'], hist.history[auc_key], hist.history['val_'+auc_key]), open(save_path+'/history', 'wb'))\n"
   ]
  },
  {
   "cell_type": "code",
   "execution_count": 27,
   "metadata": {
    "ExecuteTime": {
     "end_time": "2020-12-07T04:52:30.644415Z",
     "start_time": "2020-12-07T04:52:30.621677Z"
    }
   },
   "outputs": [],
   "source": [
    "from keras.models import Sequential\n",
    "from keras.models import Model, load_model\n",
    "from keras.optimizers import Adam as Adam\n",
    "from keras.layers import Dense, Conv1D, MaxPooling1D, GlobalMaxPool1D, BatchNormalization, Dropout, Activation\n",
    "from keras.layers import GlobalAveragePooling1D, Flatten, SeparableConv1D, AveragePooling1D, Input, concatenate, add, LSTM, Average\n",
    "from keras.callbacks import ModelCheckpoint, EarlyStopping\n",
    "from sklearn.metrics import auc, classification_report, confusion_matrix, accuracy_score, roc_curve, roc_auc_score, f1_score, precision_recall_curve\n",
    "import tensorflow as tf\n",
    "import os, pickle\n",
    "from keras import backend as K\n",
    "\n",
    "\n",
    "def inception(inp, nfilters=32):\n",
    "    # 각각은 길이가 줄어들지 않는다\n",
    "\n",
    "    # 1 conv\n",
    "    c1 = Conv1D(filters=nfilters, kernel_size=1, kernel_initializer='glorot_uniform', padding='same', activation='relu')(inp)\n",
    "\n",
    "    # 3 reduce\n",
    "    c2 = Conv1D(filters=nfilters  , kernel_size=1, kernel_initializer='glorot_uniform', padding='same', activation='relu')(inp)\n",
    "    # 3 conv\n",
    "    c2 = Conv1D(filters=nfilters, kernel_size=3, kernel_initializer='glorot_uniform', padding='same', activation='relu')(c2)\n",
    "\n",
    "    # 5 reduce\n",
    "    c3 = Conv1D(filters=nfilters, kernel_size=1, kernel_initializer='glorot_uniform', padding='same', activation='relu')(inp)\n",
    "    # 5 conv\n",
    "    c3 = Conv1D(filters=nfilters, kernel_size=5, kernel_initializer='glorot_uniform', padding='same', activation='relu')(c3)\n",
    "\n",
    "    # pooling\n",
    "    m1 = MaxPooling1D(pool_size=3, strides=1, padding='same')(inp)\n",
    "    # pooling proj\n",
    "    m1 = Conv1D(filters=nfilters, kernel_size=1, kernel_initializer='glorot_uniform', padding='same', activation='relu')(m1)\n",
    "\n",
    "    return concatenate([c1, c2, c3, m1], axis=-1)\n"
   ]
  },
  {
   "cell_type": "code",
   "execution_count": 39,
   "metadata": {
    "ExecuteTime": {
     "end_time": "2020-12-07T05:33:57.038353Z",
     "start_time": "2020-12-07T05:30:32.804986Z"
    },
    "scrolled": true
   },
   "outputs": [
    {
     "name": "stdout",
     "output_type": "stream",
     "text": [
      "INFO:tensorflow:Using MirroredStrategy with devices ('/job:localhost/replica:0/task:0/device:GPU:0', '/job:localhost/replica:0/task:0/device:GPU:1')\n",
      "Epoch 1/100\n",
      "77/77 [==============================] - ETA: 0s - loss: 3.2312 - acc: 0.4050 - auc_10: 0.5855\n",
      "Epoch 00001: val_loss improved from inf to 3.44370, saving model to output/preprocess3/input3-2_PPG+ECG/Inception_model_3cat_sampleweight_batch1024_conv64_k9_nfilter16_k7_nlayer4_drop0.2_dense0_drop0.2/weights.hdf5\n",
      "77/77 [==============================] - 20s 257ms/step - loss: 3.2312 - acc: 0.4050 - auc_10: 0.5855 - val_loss: 3.4437 - val_acc: 0.1957 - val_auc_10: 0.3928\n",
      "Epoch 2/100\n",
      "77/77 [==============================] - ETA: 0s - loss: 3.0691 - acc: 0.4671 - auc_10: 0.6590\n",
      "Epoch 00002: val_loss improved from 3.44370 to 3.19396, saving model to output/preprocess3/input3-2_PPG+ECG/Inception_model_3cat_sampleweight_batch1024_conv64_k9_nfilter16_k7_nlayer4_drop0.2_dense0_drop0.2/weights.hdf5\n",
      "77/77 [==============================] - 15s 196ms/step - loss: 3.0691 - acc: 0.4671 - auc_10: 0.6590 - val_loss: 3.1940 - val_acc: 0.3754 - val_auc_10: 0.5791\n",
      "Epoch 3/100\n",
      "77/77 [==============================] - ETA: 0s - loss: 2.9472 - acc: 0.4948 - auc_10: 0.6906\n",
      "Epoch 00003: val_loss did not improve from 3.19396\n",
      "77/77 [==============================] - 15s 193ms/step - loss: 2.9472 - acc: 0.4948 - auc_10: 0.6906 - val_loss: 3.2713 - val_acc: 0.3396 - val_auc_10: 0.5793\n",
      "Epoch 4/100\n",
      "77/77 [==============================] - ETA: 0s - loss: 2.8728 - acc: 0.5070 - auc_10: 0.7063\n",
      "Epoch 00004: val_loss improved from 3.19396 to 3.03600, saving model to output/preprocess3/input3-2_PPG+ECG/Inception_model_3cat_sampleweight_batch1024_conv64_k9_nfilter16_k7_nlayer4_drop0.2_dense0_drop0.2/weights.hdf5\n",
      "77/77 [==============================] - 15s 196ms/step - loss: 2.8728 - acc: 0.5070 - auc_10: 0.7063 - val_loss: 3.0360 - val_acc: 0.3944 - val_auc_10: 0.6502\n",
      "Epoch 5/100\n",
      "77/77 [==============================] - ETA: 0s - loss: 2.8114 - acc: 0.5230 - auc_10: 0.7219\n",
      "Epoch 00005: val_loss did not improve from 3.03600\n",
      "77/77 [==============================] - 15s 193ms/step - loss: 2.8114 - acc: 0.5230 - auc_10: 0.7219 - val_loss: 3.3702 - val_acc: 0.3284 - val_auc_10: 0.6001\n",
      "Epoch 6/100\n",
      "77/77 [==============================] - ETA: 0s - loss: 2.7720 - acc: 0.5317 - auc_10: 0.7312\n",
      "Epoch 00006: val_loss improved from 3.03600 to 2.91693, saving model to output/preprocess3/input3-2_PPG+ECG/Inception_model_3cat_sampleweight_batch1024_conv64_k9_nfilter16_k7_nlayer4_drop0.2_dense0_drop0.2/weights.hdf5\n",
      "77/77 [==============================] - 15s 196ms/step - loss: 2.7720 - acc: 0.5317 - auc_10: 0.7312 - val_loss: 2.9169 - val_acc: 0.4249 - val_auc_10: 0.6656\n",
      "Epoch 7/100\n",
      "77/77 [==============================] - ETA: 0s - loss: 2.7065 - acc: 0.5441 - auc_10: 0.7444\n",
      "Epoch 00007: val_loss did not improve from 2.91693\n",
      "77/77 [==============================] - 15s 193ms/step - loss: 2.7065 - acc: 0.5441 - auc_10: 0.7444 - val_loss: 2.9326 - val_acc: 0.5179 - val_auc_10: 0.7148\n",
      "Epoch 8/100\n",
      "77/77 [==============================] - ETA: 0s - loss: 2.6592 - acc: 0.5521 - auc_10: 0.7538\n",
      "Epoch 00008: val_loss did not improve from 2.91693\n",
      "77/77 [==============================] - 15s 193ms/step - loss: 2.6592 - acc: 0.5521 - auc_10: 0.7538 - val_loss: 3.4157 - val_acc: 0.5431 - val_auc_10: 0.7313\n",
      "Epoch 9/100\n",
      "77/77 [==============================] - ETA: 0s - loss: 2.6093 - acc: 0.5660 - auc_10: 0.7651\n",
      "Epoch 00009: val_loss did not improve from 2.91693\n",
      "77/77 [==============================] - 15s 192ms/step - loss: 2.6093 - acc: 0.5660 - auc_10: 0.7651 - val_loss: 3.6386 - val_acc: 0.5127 - val_auc_10: 0.7061\n",
      "Epoch 10/100\n",
      "77/77 [==============================] - ETA: 0s - loss: 2.5605 - acc: 0.5754 - auc_10: 0.7750\n",
      "Epoch 00010: val_loss did not improve from 2.91693\n",
      "77/77 [==============================] - 15s 193ms/step - loss: 2.5605 - acc: 0.5754 - auc_10: 0.7750 - val_loss: 2.9883 - val_acc: 0.3989 - val_auc_10: 0.6556\n",
      "Epoch 11/100\n",
      "77/77 [==============================] - ETA: 0s - loss: 2.4847 - acc: 0.5880 - auc_10: 0.7877\n",
      "Epoch 00011: val_loss did not improve from 2.91693\n",
      "77/77 [==============================] - 15s 191ms/step - loss: 2.4847 - acc: 0.5880 - auc_10: 0.7877 - val_loss: 3.1520 - val_acc: 0.4708 - val_auc_10: 0.6970\n"
     ]
    }
   ],
   "source": [
    "from keras.models import Sequential\n",
    "from keras.models import Model, load_model\n",
    "from keras.optimizers import Adam as Adam\n",
    "from keras.layers import Dense, Conv1D, MaxPooling1D, GlobalMaxPool1D, BatchNormalization, Dropout, Activation\n",
    "from keras.layers import GlobalAveragePooling1D, Flatten, SeparableConv1D, AveragePooling1D, Input, concatenate, add, LSTM, Average\n",
    "from keras.callbacks import ModelCheckpoint, EarlyStopping\n",
    "from sklearn.metrics import auc, classification_report, confusion_matrix, accuracy_score, roc_curve, roc_auc_score, f1_score, precision_recall_curve\n",
    "import tensorflow as tf\n",
    "import os, pickle\n",
    "from keras import backend as K\n",
    "\n",
    "\n",
    "# learning related hyperparamters\n",
    "BATCH_SIZE = 1024\n",
    "learning_rate = 0.002\n",
    "\n",
    "\n",
    "# inception paramters\n",
    "ngpu = 2\n",
    "nfilters=16\n",
    "nlayer=4\n",
    "conv1 = 64\n",
    "dense = 0\n",
    "dropout1 = 0.2\n",
    "dropout2 = 0.2\n",
    "kernel1 = 9\n",
    "kernel2 = 7\n",
    "\n",
    "\n",
    "# 출력 폴더를 생성\n",
    "model_name = 'model_3cat_sampleweight_batch{}_conv{}_k{}_nfilter{}_k{}_nlayer{}_drop{}_dense{}_drop{}'.format(BATCH_SIZE, conv1,kernel1,nfilters,kernel2,nlayer,dropout1,dense,dropout2)\n",
    "\n",
    "save_path = \"output/preprocess3/input3-2_PPG+ECG/Inception_\"+model_name\n",
    "if not os.path.exists(save_path):\n",
    "    os.mkdir(save_path)\n",
    "weight_path = save_path + \"/weights.hdf5\"\n",
    "\n",
    "\n",
    "\n",
    "# GPU 설정\n",
    "strategy = tf.distribute.MirroredStrategy(devices=[\"/gpu:0\", \"/gpu:1\"])\n",
    "with strategy.scope():\n",
    "    \n",
    "    #inp_fnn = Input(shape=(x_train[0].shape[1],))\n",
    "    inp_cnn = Input(shape=(x_train.shape[1], x_train.shape[2]))\n",
    "\n",
    "    #out_fnn = inp_fnn\n",
    "    #out_fnn = Dense(256,  activation='relu')(out_fnn)\n",
    "\n",
    "    out_cnn = inp_cnn\n",
    "    out_cnn = Conv1D(filters=conv1, kernel_size=9, padding='same', activation='relu')(out_cnn)\n",
    "    #out_cnn = Conv1D(filters=conv1, kernel_size=kernel_size, padding='same', activation='relu')(out_cnn)\n",
    "    out_cnn = MaxPooling1D(pool_size=3, strides=2)(out_cnn)\n",
    "    out_cnn = BatchNormalization()(out_cnn)\n",
    "\n",
    "    out_cnn = Conv1D(filters=nfilters*4, kernel_size=7, padding='same', activation='relu')(out_cnn)\n",
    "    out_cnn = MaxPooling1D(pool_size=3, strides=2)(out_cnn)\n",
    "    out_cnn = BatchNormalization()(out_cnn)\n",
    "    \n",
    "    for ilayer in range(nlayer):\n",
    "        #inp_blk = out_cnn\n",
    "        out_cnn = inception(out_cnn, nfilters=nfilters)\n",
    "        #out_cnn = Conv1D(filters=64, kernel_size=1, padding='same')(out_cnn)\n",
    "        #out_cnn = add([out_cnn, inp_blk])\n",
    "        #out_cnn = AveragePooling1D(pool_size=2)(out_cnn)\n",
    "    out_cnn = GlobalAveragePooling1D()(out_cnn)\n",
    "    out_cnn = Dropout(dropout1)(out_cnn)\n",
    "    #out = concatenate([out_cnn, out_fnn])\n",
    "    out = out_cnn\n",
    "    #out = Dense(256,  activation='relu')(out)\n",
    "    \n",
    "    if dense != 0:\n",
    "        out = Dense(dense,  activation='tanh')(out)\n",
    "        out = Dropout(dropout2)(out)\n",
    "    out = Dense(3, activation='softmax')(out)\n",
    "\n",
    "    model = Model(inputs=[inp_cnn], outputs=[out])\n",
    "    \n",
    "    \n",
    "\n",
    "    \n",
    "    # model 학습 설정\n",
    "    model.compile(loss='categorical_crossentropy', optimizer=Adam(lr=learning_rate), metrics=[\"acc\", tf.keras.metrics.AUC()])\n",
    "    hist = model.fit(x_train, y_train_class, sample_weight = train_w_samp, validation_data = (x_val, y_val_class, val_w_samp), epochs=100, batch_size=BATCH_SIZE, #class_weight={0:1, 1:3}, \n",
    "                            callbacks=[ModelCheckpoint(monitor='val_loss', filepath=weight_path, verbose=1, save_best_only=True),\n",
    "                                        EarlyStopping(monitor='val_loss', patience=5, verbose=0, mode='auto')])\n",
    "\n",
    "model.load_weights(weight_path)\n",
    "    \n",
    "# 모델의 아키텍처 및 구조 저장\n",
    "open(save_path + \"/model.json\", \"wt\").write(model.to_json())\n",
    "\n",
    "# 전체 test 샘플을 한번에 예측\n",
    "y_pred = model.predict(x_test)\n",
    "\n",
    "# 결과를 저장\n",
    "#np.savetxt(save_path+'/pred_y.txt', y_pred)\n",
    "\n",
    "\n",
    "# 모델의 history log 저장 - binary classification\n",
    "for key in hist.history.keys():\n",
    "    if 'auc' in key and not 'val' in key:\n",
    "        auc_key = key\n",
    "#pickle.dump((hist.history['loss'], hist.history['val_loss'], hist.history['accuracy'], hist.history['val_accuracy'], hist.history[auc], hist.history['val_'+auc]), open(save_path+'/history', 'wb'))\n",
    "\n",
    "# 모델의 history log 저장 - regression\n",
    "pickle.dump((hist.history['loss'], hist.history['val_loss'], hist.history['acc'], hist.history['val_acc'], hist.history[auc_key], hist.history['val_'+auc_key]), open(save_path+'/history', 'wb'))\n"
   ]
  },
  {
   "cell_type": "code",
   "execution_count": 35,
   "metadata": {
    "ExecuteTime": {
     "end_time": "2020-12-07T05:11:53.786121Z",
     "start_time": "2020-12-07T05:11:53.756057Z"
    },
    "scrolled": true
   },
   "outputs": [
    {
     "name": "stdout",
     "output_type": "stream",
     "text": [
      "Model: \"functional_5\"\n",
      "__________________________________________________________________________________________________\n",
      "Layer (type)                    Output Shape         Param #     Connected to                     \n",
      "==================================================================================================\n",
      "input_3 (InputLayer)            [(None, 5000, 2)]    0                                            \n",
      "__________________________________________________________________________________________________\n",
      "conv1d_72 (Conv1D)              (None, 5000, 64)     1216        input_3[0][0]                    \n",
      "__________________________________________________________________________________________________\n",
      "max_pooling1d_30 (MaxPooling1D) (None, 2499, 64)     0           conv1d_72[0][0]                  \n",
      "__________________________________________________________________________________________________\n",
      "batch_normalization_26 (BatchNo (None, 2499, 64)     256         max_pooling1d_30[0][0]           \n",
      "__________________________________________________________________________________________________\n",
      "conv1d_73 (Conv1D)              (None, 2499, 128)    57472       batch_normalization_26[0][0]     \n",
      "__________________________________________________________________________________________________\n",
      "max_pooling1d_31 (MaxPooling1D) (None, 1249, 128)    0           conv1d_73[0][0]                  \n",
      "__________________________________________________________________________________________________\n",
      "batch_normalization_27 (BatchNo (None, 1249, 128)    512         max_pooling1d_31[0][0]           \n",
      "__________________________________________________________________________________________________\n",
      "conv1d_75 (Conv1D)              (None, 1249, 32)     4128        batch_normalization_27[0][0]     \n",
      "__________________________________________________________________________________________________\n",
      "conv1d_77 (Conv1D)              (None, 1249, 32)     4128        batch_normalization_27[0][0]     \n",
      "__________________________________________________________________________________________________\n",
      "max_pooling1d_32 (MaxPooling1D) (None, 1249, 128)    0           batch_normalization_27[0][0]     \n",
      "__________________________________________________________________________________________________\n",
      "conv1d_74 (Conv1D)              (None, 1249, 32)     4128        batch_normalization_27[0][0]     \n",
      "__________________________________________________________________________________________________\n",
      "conv1d_76 (Conv1D)              (None, 1249, 32)     3104        conv1d_75[0][0]                  \n",
      "__________________________________________________________________________________________________\n",
      "conv1d_78 (Conv1D)              (None, 1249, 32)     5152        conv1d_77[0][0]                  \n",
      "__________________________________________________________________________________________________\n",
      "conv1d_79 (Conv1D)              (None, 1249, 32)     4128        max_pooling1d_32[0][0]           \n",
      "__________________________________________________________________________________________________\n",
      "concatenate_4 (Concatenate)     (None, 1249, 128)    0           conv1d_74[0][0]                  \n",
      "                                                                 conv1d_76[0][0]                  \n",
      "                                                                 conv1d_78[0][0]                  \n",
      "                                                                 conv1d_79[0][0]                  \n",
      "__________________________________________________________________________________________________\n",
      "conv1d_81 (Conv1D)              (None, 1249, 32)     4128        concatenate_4[0][0]              \n",
      "__________________________________________________________________________________________________\n",
      "conv1d_83 (Conv1D)              (None, 1249, 32)     4128        concatenate_4[0][0]              \n",
      "__________________________________________________________________________________________________\n",
      "max_pooling1d_33 (MaxPooling1D) (None, 1249, 128)    0           concatenate_4[0][0]              \n",
      "__________________________________________________________________________________________________\n",
      "conv1d_80 (Conv1D)              (None, 1249, 32)     4128        concatenate_4[0][0]              \n",
      "__________________________________________________________________________________________________\n",
      "conv1d_82 (Conv1D)              (None, 1249, 32)     3104        conv1d_81[0][0]                  \n",
      "__________________________________________________________________________________________________\n",
      "conv1d_84 (Conv1D)              (None, 1249, 32)     5152        conv1d_83[0][0]                  \n",
      "__________________________________________________________________________________________________\n",
      "conv1d_85 (Conv1D)              (None, 1249, 32)     4128        max_pooling1d_33[0][0]           \n",
      "__________________________________________________________________________________________________\n",
      "concatenate_5 (Concatenate)     (None, 1249, 128)    0           conv1d_80[0][0]                  \n",
      "                                                                 conv1d_82[0][0]                  \n",
      "                                                                 conv1d_84[0][0]                  \n",
      "                                                                 conv1d_85[0][0]                  \n",
      "__________________________________________________________________________________________________\n",
      "global_average_pooling1d_2 (Glo (None, 128)          0           concatenate_5[0][0]              \n",
      "__________________________________________________________________________________________________\n",
      "dropout_10 (Dropout)            (None, 128)          0           global_average_pooling1d_2[0][0] \n",
      "__________________________________________________________________________________________________\n",
      "dropout_11 (Dropout)            (None, 128)          0           dropout_10[0][0]                 \n",
      "__________________________________________________________________________________________________\n",
      "dense_8 (Dense)                 (None, 3)            387         dropout_11[0][0]                 \n",
      "==================================================================================================\n",
      "Total params: 109,379\n",
      "Trainable params: 108,995\n",
      "Non-trainable params: 384\n",
      "__________________________________________________________________________________________________\n"
     ]
    }
   ],
   "source": [
    "model.summary()"
   ]
  },
  {
   "cell_type": "markdown",
   "metadata": {},
   "source": [
    "## Model Evaluation"
   ]
  },
  {
   "cell_type": "markdown",
   "metadata": {},
   "source": [
    "### AUROC, AUPRC"
   ]
  },
  {
   "cell_type": "code",
   "execution_count": 38,
   "metadata": {
    "ExecuteTime": {
     "end_time": "2020-12-07T05:27:47.548544Z",
     "start_time": "2020-12-07T05:27:46.644136Z"
    }
   },
   "outputs": [
    {
     "name": "stdout",
     "output_type": "stream",
     "text": [
      "test set accuracy:0.48\n",
      "test set AUROC of moderate pain: 0.7309464929083184\n",
      "test set AUROC of severe pain: 0.6569092325036554\n"
     ]
    },
    {
     "data": {
      "image/png": "[encoded data removed]",
      "text/plain": [
       "<Figure size 1440x720 with 2 Axes>"
      ]
     },
     "metadata": {
      "needs_background": "light"
     },
     "output_type": "display_data"
    }
   ],
   "source": [
    "from sklearn.metrics import roc_curve, auc, r2_score, accuracy_score\n",
    "from numpy import interp\n",
    "from keras import losses, metrics\n",
    "import keras.backend as K\n",
    "import matplotlib.pyplot as plt\n",
    "\n",
    "### Classification\n",
    "# Model Accuracy of test set\n",
    "l_test = np.argmax(y_test_class, axis=1)\n",
    "l_pred = np.argmax(y_pred, axis=1)\n",
    "acc_val = accuracy_score(l_test, l_pred)\n",
    "print('test set accuracy:{:.2f}'.format(acc_val))\n",
    "\n",
    "\n",
    "# Model AUROC, AUPRC\n",
    "fig = plt.figure(figsize=(20,10))\n",
    "# ax1: auroc\n",
    "ax1 = fig.add_subplot(1,2,1)\n",
    "ax1.set_title('Receiver Operating Characteristic')\n",
    "ax1.set_xlabel(\"False Positive Rate(1 - Specificity)\")\n",
    "ax1.set_ylabel('True Positive Rate(Sensitivity)')\n",
    "ax1.plot([0,1],[1,1],'y--')\n",
    "ax1.plot([0,1],[0,1],'r--')\n",
    "# ax2: auprc\n",
    "ax2 = fig.add_subplot(1,2,2)\n",
    "ax2.set_title('Precision - recall curve')\n",
    "ax2.set_xlabel(\"Precision\")\n",
    "ax2.set_ylabel('Recall')\n",
    "\n",
    "\n",
    "# moderate pain\n",
    "false_positive_rate, true_positive_rate, threshold = roc_curve((y_test_class[:,1]+y_test_class[:,2])==1, y_pred[:,1]+y_pred[:,2], sample_weight=test_w_samp)\n",
    "precision, recall, _ = precision_recall_curve((y_test_class[:,1]+y_test_class[:,2])==1, y_pred[:,1]+y_pred[:,2], sample_weight=test_w_samp)\n",
    "roc_auc = auc(false_positive_rate, true_positive_rate)\n",
    "prc_auc = auc(recall, precision)\n",
    "print('test set AUROC of moderate pain:', roc_auc)\n",
    "ax1.plot(false_positive_rate, true_positive_rate, 'b', label='moderate pain (AUC = %0.4f)'% roc_auc)\n",
    "ax2.plot(recall, precision, 'b', label='moderate pain (AUC = %0.4f)'% prc_auc)\n",
    "\n",
    "# Adding evaluation results to file name\n",
    "# classification\n",
    "test_path = 'output/preprocess3/input3-2_PPG+ECG/auc{:.4f}_1D_CNN_{}acc{:.2f}'.format(roc_auc,model_name,acc_val)\n",
    "os.rename(save_path, test_path)\n",
    "\n",
    "# severe pain\n",
    "false_positive_rate, true_positive_rate, threshold = roc_curve(y_test_class[:,2], y_pred[:,2], sample_weight=test_w_samp)\n",
    "precision, recall, _ = precision_recall_curve(y_test_class[:,2], y_pred[:,2], sample_weight=test_w_samp)\n",
    "roc_auc = auc(false_positive_rate, true_positive_rate)\n",
    "prc_auc = auc(recall, precision)\n",
    "print('test set AUROC of severe pain:', roc_auc)\n",
    "ax1.plot(false_positive_rate, true_positive_rate, 'g', label='severe pain (AUC = %0.4f)'% roc_auc)\n",
    "ax2.plot(recall, precision, 'g', label='severe pain (AUC = %0.4f)'% prc_auc)\n",
    "\n",
    "ax1.legend(loc='lower right')\n",
    "ax2.legend(loc='lower right')\n",
    "\n",
    "\n",
    "plt.savefig(test_path + '/auroc_auprc.png', bbox_inches=\"tight\", pad_inches=0.5)\n"
   ]
  },
  {
   "cell_type": "markdown",
   "metadata": {},
   "source": [
    "### Confusion matrix"
   ]
  },
  {
   "cell_type": "code",
   "execution_count": null,
   "metadata": {},
   "outputs": [],
   "source": [
    "import itertools\n",
    "import matplotlib.pyplot as plt\n",
    "\n",
    "\n",
    "def plot_confusion_matrix(cm, classes,\n",
    "                          normalize=False,\n",
    "                          title='Confusion matrix',\n",
    "                          cmap=plt.cm.Blues):\n",
    "    \"\"\"\n",
    "    This function prints and plots the confusion matrix.\n",
    "    Normalization can be applied by setting `normalize=True`.\n",
    "    \"\"\"\n",
    "    plt.figure(figsize=(3,3))\n",
    "    plt.imshow(cm, interpolation='nearest', cmap=cmap)\n",
    "    plt.title(title)\n",
    "    #plt.colorbar()\n",
    "    tick_marks = np.arange(len(classes))\n",
    "    plt.xticks(tick_marks, classes, rotation=45)\n",
    "    plt.yticks(tick_marks, classes)\n",
    "\n",
    "    if normalize:\n",
    "        cm = cm.astype('float') / cm.sum(axis=1)[:, np.newaxis]\n",
    "        print(\"Normalized confusion matrix\")\n",
    "    else:\n",
    "        print('Confusion matrix, without normalization')\n",
    "\n",
    "    print(cm)\n",
    "\n",
    "    thresh = cm.max() / 2.\n",
    "    for i, j in itertools.product(range(cm.shape[0]), range(cm.shape[1])):\n",
    "        plt.text(j, i, '{:.0f}'.format(cm[i, j]),\n",
    "                 horizontalalignment=\"center\",\n",
    "                 color=\"white\" if cm[i, j] > thresh else \"black\")\n",
    "\n",
    "    plt.tight_layout()\n",
    "    plt.ylabel('True label')\n",
    "    plt.xlabel('Predicted label')"
   ]
  },
  {
   "cell_type": "code",
   "execution_count": null,
   "metadata": {},
   "outputs": [],
   "source": [
    "from sklearn.metrics import confusion_matrix, roc_curve\n",
    "\n",
    "\n",
    "### mooderate pain\n",
    "#y_test1 = (y_test_class[:,1]+y_test_class[:,2])==1\n",
    "#y_pred1 = y_pred[:,1]+y_pred[:,2]\n",
    "\n",
    "\n",
    "# 3x3 confusion matrix\n",
    "y_pred3 = np.argmax(y_pred, axis=1)\n",
    "y_test3 = np.argmax(y_test_class, axis=1)\n",
    "\n",
    "\n",
    "# calculate optimal threshold that minimize 'sensitivity(TPR) + specificity(1-FPR)''\n",
    "fpr, tpr, thvals = roc_curve(y_test1, y_pred1)\n",
    "optimal_idx = np.argmax(tpr-fpr)\n",
    "thval = thvals[optimal_idx]\n",
    "print('optimal thval: {}'.format(thval))\n",
    "                             \n",
    "#precision1, recall1, _ = precision_recall_curve(y_test_pacu_bin, y_pred)\n",
    "\n",
    "# confusion matrix\n",
    "cnf_matrix = confusion_matrix(y_test1, y_pred1>=thval, sample_weight = test_w_samp)\n",
    "np.set_printoptions(precision=2)\n",
    "class_names = ['NRS<4','NRS>=4']\n",
    "\n",
    "plot_confusion_matrix(cnf_matrix, classes=class_names, normalize=False, title='Confusion matrix for moderate pain')"
   ]
  },
  {
   "cell_type": "markdown",
   "metadata": {},
   "source": [
    "## Model history plot\n",
    "- training curve"
   ]
  },
  {
   "cell_type": "code",
   "execution_count": 24,
   "metadata": {
    "ExecuteTime": {
     "end_time": "2020-12-07T04:24:59.589036Z",
     "start_time": "2020-12-07T04:24:59.140560Z"
    }
   },
   "outputs": [
    {
     "data": {
      "image/png": "[encoded data removed]",
      "text/plain": [
       "<Figure size 1440x720 with 2 Axes>"
      ]
     },
     "metadata": {
      "needs_background": "light"
     },
     "output_type": "display_data"
    }
   ],
   "source": [
    "# model auroc 0.719짜리\n",
    "%matplotlib inline\n",
    "import matplotlib.pyplot as plt\n",
    "\n",
    "fig, loss_ax = plt.subplots(figsize=(20,10))\n",
    "\n",
    "#x-axis는 공유하지만 y-axis는 공유x\n",
    "acc_ax = loss_ax.twinx()\n",
    "\n",
    "loss_ax.plot(hist.history['loss'], 'y', linestyle='dashed', label='train loss')\n",
    "loss_ax.plot(hist.history['val_loss'], 'r', label='val loss')\n",
    "\n",
    "#acc_ax.plot(hist.history['mean_absolute_error'], 'b', linestyle='dashed',label='train mae')\n",
    "#acc_ax.plot(hist.history['val_mean_absolute_error'], 'g', label='val mae')\n",
    "acc_ax.plot(hist.history['acc'], 'b', linestyle='dashed',label='train acc')\n",
    "acc_ax.plot(hist.history['val_acc'], 'g', label='val acc')\n",
    "\n",
    "loss_ax.set_xlabel('epoch')\n",
    "loss_ax.set_ylabel('loss')\n",
    "#acc_ax.set_ylim(0.2,1.0)\n",
    "acc_ax.set_ylabel('accuray')\n",
    "\n",
    "loss_ax.legend(loc='upper left')\n",
    "acc_ax.legend(loc='lower left')\n",
    "\n",
    "plt.show()"
   ]
  },
  {
   "cell_type": "code",
   "execution_count": null,
   "metadata": {},
   "outputs": [],
   "source": [
    "test_result = model.evaluate(x=x_test, y=y_test_bin, batch_size=512, verbose=1, sample_weight=None, steps=None, callbacks=None)"
   ]
  },
  {
   "cell_type": "markdown",
   "metadata": {},
   "source": [
    "## Model summary"
   ]
  },
  {
   "cell_type": "code",
   "execution_count": 9,
   "metadata": {
    "ExecuteTime": {
     "end_time": "2020-12-04T17:53:48.799924Z",
     "start_time": "2020-12-04T17:53:48.779683Z"
    },
    "scrolled": true
   },
   "outputs": [
    {
     "name": "stdout",
     "output_type": "stream",
     "text": [
      "Model: \"sequential\"\n",
      "_________________________________________________________________\n",
      "Layer (type)                 Output Shape              Param #   \n",
      "=================================================================\n",
      "conv1d (Conv1D)              (None, 5000, 64)          448       \n",
      "_________________________________________________________________\n",
      "conv1d_1 (Conv1D)            (None, 5000, 64)          12352     \n",
      "_________________________________________________________________\n",
      "activation (Activation)      (None, 5000, 64)          0         \n",
      "_________________________________________________________________\n",
      "batch_normalization (BatchNo (None, 5000, 64)          256       \n",
      "_________________________________________________________________\n",
      "max_pooling1d (MaxPooling1D) (None, 2500, 64)          0         \n",
      "_________________________________________________________________\n",
      "conv1d_2 (Conv1D)            (None, 2500, 64)          12352     \n",
      "_________________________________________________________________\n",
      "conv1d_3 (Conv1D)            (None, 2500, 64)          12352     \n",
      "_________________________________________________________________\n",
      "activation_1 (Activation)    (None, 2500, 64)          0         \n",
      "_________________________________________________________________\n",
      "batch_normalization_1 (Batch (None, 2500, 64)          256       \n",
      "_________________________________________________________________\n",
      "max_pooling1d_1 (MaxPooling1 (None, 1250, 64)          0         \n",
      "_________________________________________________________________\n",
      "global_max_pooling1d (Global (None, 64)                0         \n",
      "_________________________________________________________________\n",
      "dropout (Dropout)            (None, 64)                0         \n",
      "_________________________________________________________________\n",
      "dense (Dense)                (None, 3)                 195       \n",
      "=================================================================\n",
      "Total params: 38,211\n",
      "Trainable params: 37,955\n",
      "Non-trainable params: 256\n",
      "_________________________________________________________________\n"
     ]
    }
   ],
   "source": [
    "model.summary()"
   ]
  },
  {
   "cell_type": "markdown",
   "metadata": {},
   "source": [
    "## Model ROC plot"
   ]
  },
  {
   "cell_type": "code",
   "execution_count": null,
   "metadata": {},
   "outputs": [],
   "source": [
    "# Model Accuracy of test set\n",
    "#print('test set accuracy:{:.2f}'.format(np.mean(y_pred>0.5==y_test_bin)))\n",
    "\n",
    "# Model AUROC\n",
    "from sklearn.metrics import roc_curve ,auc\n",
    "from numpy import interp\n",
    "#pipe_lr = make_pipeline(StandardScaler(), PCA(n_components=2), LogisticRegression(solver='liblinear', penalty='12', random_state=1, C=100.0))\n",
    "\n",
    "#cv = list(StratifiedKFold(n_splits=3, shuffle=True, random_state=1).split(x_))\n",
    "\n",
    "false_positive_rate, true_positive_rate, threshold = roc_curve(y_test_bin, y_pred)\n",
    "roc_auc = auc(false_positive_rate, true_positive_rate)\n",
    "print('test set auroc:', roc_auc)\n",
    "\n",
    "plt.title('Receiver Operating Characteristic')\n",
    "plt.xlabel(\"False Positive Rate(1 - Specificity)\")\n",
    "plt.ylabel('True Positive Rate(Sensitivity)')\n",
    "\n",
    "plt.plot(false_positive_rate, true_positive_rate, 'b', label='Model 1 (AUC = %0.4f)'% roc_auc)\n",
    "plt.plot([0,1],[1,1],'y--')\n",
    "plt.plot([0,1],[0,1],'r--')\n",
    "\n",
    "plt.legend(loc='lower right')\n",
    "plt.show()"
   ]
  },
  {
   "cell_type": "code",
   "execution_count": null,
   "metadata": {},
   "outputs": [],
   "source": []
  },
  {
   "cell_type": "code",
   "execution_count": 10,
   "metadata": {
    "ExecuteTime": {
     "end_time": "2020-12-04T17:54:12.438434Z",
     "start_time": "2020-12-04T17:54:12.426553Z"
    }
   },
   "outputs": [
    {
     "data": {
      "text/plain": [
       "array([0, 1, 0, 1, 0])"
      ]
     },
     "execution_count": 10,
     "metadata": {},
     "output_type": "execute_result"
    }
   ],
   "source": [
    "a = np.array([ [1,0,0], [0,1,0], [1,0,0],[0,0,1],[1,0,0]])\n",
    "a[:,1]+a[:,2]"
   ]
  },
  {
   "cell_type": "code",
   "execution_count": 4,
   "metadata": {
    "ExecuteTime": {
     "end_time": "2020-12-06T13:15:09.008695Z",
     "start_time": "2020-12-06T13:15:08.982690Z"
    }
   },
   "outputs": [
    {
     "data": {
      "text/plain": [
       "array([[0.55, 0.45],\n",
       "       [0.39, 0.61]])"
      ]
     },
     "execution_count": 4,
     "metadata": {},
     "output_type": "execute_result"
    }
   ],
   "source": [
    "cm = np.array([[0.55, 0.45], [0.39, 0.61]])\n",
    "cm = cm.astype('float') / cm.sum(axis=1)[:, np.newaxis]\n",
    "cm"
   ]
  }
 ],
 "metadata": {
  "kernelspec": {
   "display_name": "Python 3",
   "language": "python",
   "name": "python3"
  },
  "language_info": {
   "codemirror_mode": {
    "name": "ipython",
    "version": 3
   },
   "file_extension": ".py",
   "mimetype": "text/x-python",
   "name": "python",
   "nbconvert_exporter": "python",
   "pygments_lexer": "ipython3",
   "version": "3.6.9"
  },
  "toc": {
   "base_numbering": 1,
   "nav_menu": {},
   "number_sections": true,
   "sideBar": true,
   "skip_h1_title": false,
   "title_cell": "Table of Contents",
   "title_sidebar": "Contents",
   "toc_cell": false,
   "toc_position": {},
   "toc_section_display": true,
   "toc_window_display": true
  },
  "varInspector": {
   "cols": {
    "lenName": 16,
    "lenType": 16,
    "lenVar": 40
   },
   "kernels_config": {
    "python": {
     "delete_cmd_postfix": "",
     "delete_cmd_prefix": "del ",
     "library": "var_list.py",
     "varRefreshCmd": "print(var_dic_list())"
    },
    "r": {
     "delete_cmd_postfix": ") ",
     "delete_cmd_prefix": "rm(",
     "library": "var_list.r",
     "varRefreshCmd": "cat(var_dic_list()) "
    }
   },
   "types_to_exclude": [
    "module",
    "function",
    "builtin_function_or_method",
    "instance",
    "_Feature"
   ],
   "window_display": false
  }
 },
 "nbformat": 4,
 "nbformat_minor": 4
}
