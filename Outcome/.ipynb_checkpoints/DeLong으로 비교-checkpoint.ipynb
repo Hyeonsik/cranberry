{
 "cells": [
  {
   "cell_type": "markdown",
   "metadata": {},
   "source": [
    "- **hrv, mbp, hr -> 0, 1, 2**\n",
    "- **ep, e, p -> 0, 1, 2**"
   ]
  },
  {
   "cell_type": "markdown",
   "metadata": {},
   "source": [
    "# 비교할 지표와 x_test 열기 "
   ]
  },
  {
   "cell_type": "code",
   "execution_count": 80,
   "metadata": {
    "ExecuteTime": {
     "end_time": "2020-12-17T06:46:51.525947Z",
     "start_time": "2020-12-17T06:46:48.420841Z"
    }
   },
   "outputs": [
    {
     "data": {
      "text/plain": [
       "(8795, 5000, 2)"
      ]
     },
     "execution_count": 80,
     "metadata": {},
     "output_type": "execute_result"
    }
   ],
   "source": [
    "import numpy\n",
    "import pandas as pd\n",
    "\n",
    "input_path = '../DL_model/dataset/preprocess4/input2/'\n",
    "x_test = np.load(input_path+'x_test.npz',allow_pickle=True)['arr_0']\n",
    "x_test_ppg = np.load(input_path+'PPG_100Hz/x_test.npz',allow_pickle=True)['arr_0']\n",
    "y_test = np.load(input_path+'y_test.npz',allow_pickle=True)['arr_0']\n",
    "y_bin = y_test >=4\n",
    "\n",
    "age_test = np.load(input_path+'age_test.npz', allow_pickle=True)['arr_0']\n",
    "gender_test = np.load(input_path+'gender_test.npz', allow_pickle=True)['arr_0']\n",
    "x_test.shape"
   ]
  },
  {
   "cell_type": "code",
   "execution_count": 81,
   "metadata": {
    "ExecuteTime": {
     "end_time": "2020-12-17T06:47:25.108283Z",
     "start_time": "2020-12-17T06:47:24.954114Z"
    }
   },
   "outputs": [
    {
     "data": {
      "text/plain": [
       "((7941, 5000, 1), (7941, 2))"
      ]
     },
     "execution_count": 81,
     "metadata": {},
     "output_type": "execute_result"
    }
   ],
   "source": [
    "data_path = '../HR, MBP, HRV/Dataset/'\n",
    "x_hrv_mask = np.load(data_path+'x_HRV_mask.npz')['arr_0']\n",
    "\n",
    "x_0 = np.load(data_path+'x_RMSSD.npz')['arr_0']\n",
    "y_0 = y_bin[x_hrv_mask]\n",
    "x_test_0 = x_test[x_hrv_mask]\n",
    "x_test_ppg_0 = x_test_ppg[x_hrv_mask]\n",
    "\n",
    "age_test_0 = age_test[x_hrv_mask]\n",
    "gender_test_0 = gender_test[x_hrv_mask]\n",
    "agender_test_0 = np.array([[age_test_0[i], gender_test_0[i]] for i in range(len(age_test_0))])\n",
    "\n",
    "x_test_0_0 = [x_test_0, agender_test_0]\n",
    "x_test_0_1 = [x_test_0[:,:,1:2], agender_test_0]\n",
    "x_test_0_2 = [x_test_ppg_0, agender_test_0]\n",
    "\n",
    "x_test_0_1[0].shape,x_test_0_0[1].shape"
   ]
  },
  {
   "cell_type": "code",
   "execution_count": 82,
   "metadata": {
    "ExecuteTime": {
     "end_time": "2020-12-17T06:47:32.585505Z",
     "start_time": "2020-12-17T06:47:32.435095Z"
    }
   },
   "outputs": [
    {
     "data": {
      "text/plain": [
       "((8298, 5000, 2), (8298, 2))"
      ]
     },
     "execution_count": 82,
     "metadata": {},
     "output_type": "execute_result"
    }
   ],
   "source": [
    "data_path = '../HR, MBP, HRV/Dataset/'\n",
    "x_MBP_mask = np.load(data_path+'x_MBP_mask.npz')['arr_0']\n",
    "\n",
    "x_1 = np.load(data_path+'x_MBP.npz')['arr_0']\n",
    "y_1 = y_bin[x_MBP_mask]\n",
    "x_test_1 =x_test[x_MBP_mask]\n",
    "x_test_ppg_1 = x_test_ppg[x_MBP_mask]\n",
    "\n",
    "age_test_1 = age_test[x_MBP_mask]\n",
    "gender_test_1 = gender_test[x_MBP_mask]\n",
    "agender_test_1 = np.array([[age_test_1[i], gender_test_1[i]] for i in range(len(age_test_1))])\n",
    "\n",
    "x_test_1_0 = [x_test_1, agender_test_1]\n",
    "x_test_1_1 = [x_test_1[:,:,1:2], agender_test_1]\n",
    "x_test_1_2 = [x_test_ppg_1, agender_test_1]\n",
    "\n",
    "x_test_1_0[0].shape,x_test_1_0[1].shape"
   ]
  },
  {
   "cell_type": "code",
   "execution_count": 83,
   "metadata": {
    "ExecuteTime": {
     "end_time": "2020-12-17T06:47:53.883004Z",
     "start_time": "2020-12-17T06:47:53.719837Z"
    }
   },
   "outputs": [
    {
     "data": {
      "text/plain": [
       "((8795, 5000, 2), (8795, 2))"
      ]
     },
     "execution_count": 83,
     "metadata": {},
     "output_type": "execute_result"
    }
   ],
   "source": [
    "data_path = '../HR, MBP, HRV/Dataset/'\n",
    "x_hr_mask = np.load(data_path+'x_hr_mask.npz')['arr_0']\n",
    "\n",
    "x_2 = np.load(data_path+'x_hr.npz')['arr_0']\n",
    "y_2 = y_bin[x_MBP_mask]\n",
    "x_test_2 =x_test[x_hr_mask]\n",
    "x_test_ppg_2 = x_test_ppg[x_hr_mask]\n",
    "\n",
    "age_test_2 = age_test[x_hr_mask]\n",
    "gender_test_2 = gender_test[x_hr_mask]\n",
    "agender_test_2 = np.array([[age_test_2[i], gender_test_2[i]] for i in range(len(age_test_2))])\n",
    "\n",
    "x_test_2_0 = [x_test_2, agender_test_2]\n",
    "x_test_2_1 = [x_test_2[:,:,1:2], agender_test_2]\n",
    "x_test_2_2 = [x_test_ppg_2, agender_test_2]\n",
    "\n",
    "x_test_2_0[0].shape,x_test_2_0[1].shape"
   ]
  },
  {
   "cell_type": "markdown",
   "metadata": {},
   "source": [
    "# x, y, x_test, 모델 path 정리"
   ]
  },
  {
   "cell_type": "code",
   "execution_count": 84,
   "metadata": {
    "ExecuteTime": {
     "end_time": "2020-12-17T06:47:58.498348Z",
     "start_time": "2020-12-17T06:47:58.484035Z"
    }
   },
   "outputs": [],
   "source": [
    "xs = np.array([x_0,x_1,x_2])\n",
    "ys = np.array([y_0,y_1,y_2])\n",
    "x_tests = [x_test_0_0,x_test_0_1,x_test_0_2,x_test_1_0,x_test_1_1,x_test_1_2,x_test_2_0,x_test_2_1,x_test_2_2]\n"
   ]
  },
  {
   "cell_type": "code",
   "execution_count": 85,
   "metadata": {
    "ExecuteTime": {
     "end_time": "2020-12-17T06:48:00.126351Z",
     "start_time": "2020-12-17T06:48:00.120313Z"
    }
   },
   "outputs": [],
   "source": [
    "load_path_0 = '../DL_model/1D-CNN_age+gender/ECG+PPG/1D_CNN_3layers_sample-weighted_3class_lowess_filtered/roc0.7618_prc0.8335_batch=1024,c1=128,c2=32,c3=256,filt1=3,filt2=5,filt3=5,str1=1,str2=1,str3=2,conv_double=True,globalpool=ave,dropout=0.4,dnodes=16,dropout=0.2,dnodes=32,dropout=0.5_acc0.78'\n",
    "load_path_1 ='../DL_model/1D-CNN_age+gender/ECG/1D_CNN_3layers_sample-weighted_3class_lowess_filtered/roc0.7725_prc0.8419_batch=512,c1=128,c2=32,c3=0,filt1=3,filt2=3,filt3=0,str1=1,str2=1,str3=0,conv_double=True,globalpool=ave,dropout=0.2,dnodes=0,dropout=0,dnodes=0,dropout=0_acc0.78'\n",
    "load_path_2 = '../DL_model/1D-CNN_age+gender/PPG_100Hz/1D_CNN_3layers_sample-weighted_3class_lowess_filtered/roc0.7273_prc0.8014_batch=512,c1=32,c2=64,c3=0,filt1=5,filt2=7,filt3=0,str1=1,str2=1,str3=0,conv_double=True,globalpool=ave,dropout=0,dnodes=0,dropout=0,dnodes=0,dropout=0_acc0.76'\n",
    "loads = [load_path_0, load_path_1, load_path_2]"
   ]
  },
  {
   "cell_type": "markdown",
   "metadata": {},
   "source": [
    "# Model 불러오기"
   ]
  },
  {
   "cell_type": "code",
   "execution_count": 8,
   "metadata": {
    "ExecuteTime": {
     "end_time": "2020-12-17T05:03:30.785564Z",
     "start_time": "2020-12-17T05:03:24.666265Z"
    }
   },
   "outputs": [
    {
     "name": "stdout",
     "output_type": "stream",
     "text": [
      "4 Physical GPUs, 4 Logical GPUs\n"
     ]
    }
   ],
   "source": [
    "from keras.models import Sequential\n",
    "from keras.models import Model, load_model\n",
    "from keras.optimizers import Adam as Adam\n",
    "from keras.layers import Dense, Conv1D, MaxPooling1D, GlobalMaxPool1D, BatchNormalization, Dropout, Activation\n",
    "from keras.layers import GlobalAveragePooling1D, Flatten, SeparableConv1D, LeakyReLU\n",
    "from keras.callbacks import ModelCheckpoint, EarlyStopping\n",
    "from sklearn.metrics import auc, classification_report, confusion_matrix, accuracy_score, roc_curve, roc_auc_score, f1_score, precision_recall_curve\n",
    "import tensorflow as tf\n",
    "import os, pickle\n",
    "from keras import backend as K\n",
    "from keras import regularizers\n",
    "from keras.initializers import he_normal, GlorotNormal\n",
    "\n",
    "\n",
    "import tensorflow as tf\n",
    "\n",
    "gpus = tf.config.experimental.list_physical_devices('GPU')\n",
    "if gpus:\n",
    "    try:\n",
    "        # Currently, memory growth needs to be the same across GPUs\n",
    "        for gpu in gpus:\n",
    "            tf.config.experimental.set_memory_growth(gpu, True)\n",
    "        logical_gpus = tf.config.experimental.list_logical_devices('GPU')\n",
    "        print(len(gpus), \"Physical GPUs,\", len(logical_gpus), \"Logical GPUs\")\n",
    "    except RuntimeError as e:\n",
    "        # Memory growth must be set before GPUs have been initialized\n",
    "        print(e)\n"
   ]
  },
  {
   "cell_type": "code",
   "execution_count": 86,
   "metadata": {
    "ExecuteTime": {
     "end_time": "2020-12-17T06:48:03.690636Z",
     "start_time": "2020-12-17T06:48:03.674072Z"
    }
   },
   "outputs": [
    {
     "name": "stdout",
     "output_type": "stream",
     "text": [
      "      ep    e    p\n",
      "hrv  NaN  NaN  NaN\n",
      "MBP  NaN  NaN  NaN\n",
      "hr   NaN  NaN  NaN\n"
     ]
    }
   ],
   "source": [
    "models =['ep','e','p']\n",
    "items =['hrv','MBP','hr']\n",
    "df_delong=pd.DataFrame(columns=models,index=items)\n",
    "print(df_delong)"
   ]
  },
  {
   "cell_type": "markdown",
   "metadata": {},
   "source": [
    "# Delong"
   ]
  },
  {
   "cell_type": "code",
   "execution_count": 88,
   "metadata": {
    "ExecuteTime": {
     "end_time": "2020-12-17T07:09:22.696453Z",
     "start_time": "2020-12-17T06:55:49.840689Z"
    }
   },
   "outputs": [
    {
     "name": "stdout",
     "output_type": "stream",
     "text": [
      "loading model...done\n",
      "loading weights...done\n",
      "loading model...done\n",
      "loading weights...done\n",
      "loading model...done\n",
      "loading weights...done\n",
      "              ep            e            p\n",
      "hrv  4.02198e-74  1.43832e-97  3.45267e-63\n",
      "MBP  4.83558e-52   9.3076e-64  2.06672e-33\n",
      "hr   2.75739e-38  1.58423e-47  4.04013e-23\n"
     ]
    }
   ],
   "source": [
    "from keras.models import model_from_json\n",
    "import delong\n",
    "\n",
    "#i for items / j for models\n",
    "for j in range(3):\n",
    "    load_path = loads[j]\n",
    "    \n",
    "    #model 부르기\n",
    "    load_weight_path = load_path+'/weights.hdf5'\n",
    "\n",
    "    print('loading model...', flush=True, end='')\n",
    "    with open(load_path+\"/model.json\", 'r') as f_json:\n",
    "        loaded_model_json = f_json.read()\n",
    "    loaded_model = model_from_json(loaded_model_json)\n",
    "    print('done')\n",
    "    \n",
    "    print('loading weights...', flush=True, end='')\n",
    "    loaded_model.load_weights(load_weight_path)\n",
    "    print('done')\n",
    "\n",
    "    for i in range(3):\n",
    "        result = 0 \n",
    "        index=3*i+j\n",
    "        x_test_model = x_tests[index]\n",
    "        x = xs[i]\n",
    "        y = ys[i]                \n",
    "        \n",
    "        y_pred = loaded_model.predict(x_test_model).flatten()\n",
    "        \n",
    "        #delong 계산하기\n",
    "        actual = y\n",
    "        preds_A = x\n",
    "        preds_B = y_pred\n",
    "        \n",
    "        result = delong.delong_roc_test(actual, preds_A, preds_B)\n",
    "        df_delong.iloc[i,j]=result\n",
    "\n",
    "print(df_delong)        "
   ]
  },
  {
   "cell_type": "markdown",
   "metadata": {},
   "source": [
    "## 모델 간 비교"
   ]
  },
  {
   "cell_type": "code",
   "execution_count": 95,
   "metadata": {
    "ExecuteTime": {
     "end_time": "2020-12-17T07:14:51.109749Z",
     "start_time": "2020-12-17T07:14:48.009509Z"
    }
   },
   "outputs": [],
   "source": [
    "import numpy\n",
    "import pandas as pd\n",
    "\n",
    "input_path = '../DL_model/dataset/preprocess4/input2/'\n",
    "x_test = np.load(input_path+'x_test.npz',allow_pickle=True)['arr_0']\n",
    "x_test_ppg = np.load(input_path+'PPG_100Hz/x_test.npz',allow_pickle=True)['arr_0']\n",
    "y_test = np.load(input_path+'y_test.npz',allow_pickle=True)['arr_0']\n",
    "y_bin = y_test >=4\n",
    "\n",
    "age_test = np.load(input_path+'age_test.npz', allow_pickle=True)['arr_0']\n",
    "gender_test = np.load(input_path+'gender_test.npz', allow_pickle=True)['arr_0']\n",
    "agender_test = np.array([[age_test[i], gender_test[i]] for i in range(len(age_test))])"
   ]
  },
  {
   "cell_type": "code",
   "execution_count": 96,
   "metadata": {
    "ExecuteTime": {
     "end_time": "2020-12-17T07:14:54.295010Z",
     "start_time": "2020-12-17T07:14:54.286514Z"
    }
   },
   "outputs": [],
   "source": [
    "x_test_0 = [x_test, agender_test]\n",
    "x_test_1 = [x_test[:,:,1:2], agender_test]\n",
    "x_test_2 = [x_test_ppg, agender_test]\n",
    "x_models = [x_test_0, x_test_1, x_test_2]"
   ]
  },
  {
   "cell_type": "code",
   "execution_count": 98,
   "metadata": {
    "ExecuteTime": {
     "end_time": "2020-12-17T07:25:55.886749Z",
     "start_time": "2020-12-17T07:15:18.470643Z"
    }
   },
   "outputs": [
    {
     "name": "stdout",
     "output_type": "stream",
     "text": [
      "loading model...done\n",
      "loading weights...done\n",
      "loading model...done\n",
      "loading weights...done\n",
      "loading model...done\n",
      "loading weights...done\n",
      "              ep            e            p\n",
      "hrv  4.02198e-74  1.43832e-97  3.45267e-63\n",
      "MBP  4.83558e-52   9.3076e-64  2.06672e-33\n",
      "hr   2.75739e-38  1.58423e-47  4.04013e-23\n"
     ]
    }
   ],
   "source": [
    "from keras.models import model_from_json\n",
    "import delong\n",
    "\n",
    "models =['ep','e','p']\n",
    "df_model_delong=pd.DataFrame(columns=models,index=models)\n",
    "\n",
    "preds = []\n",
    "#i for items / j for models\n",
    "for j in range(3):\n",
    "    load_path = loads[j]\n",
    "    \n",
    "    #model 부르기\n",
    "    load_weight_path = load_path+'/weights.hdf5'\n",
    "\n",
    "    print('loading model...', flush=True, end='')\n",
    "    with open(load_path+\"/model.json\", 'r') as f_json:\n",
    "        loaded_model_json = f_json.read()\n",
    "    loaded_model = model_from_json(loaded_model_json)\n",
    "    print('done')\n",
    "    \n",
    "    print('loading weights...', flush=True, end='')\n",
    "    loaded_model.load_weights(load_weight_path)\n",
    "    print('done')\n",
    "    \n",
    "    y_pred = loaded_model.predict(x_models[j]).flatten()\n",
    "    preds.append(y_pred)\n",
    "    \n",
    "for i in range(3):\n",
    "    for k in range(3):\n",
    "        if i != k:\n",
    "            result = 0 \n",
    "            \n",
    "            result = delong.delong_roc_test(y_bin, preds[i], preds[k])\n",
    "            df_model_delong.iloc[i,k]=result\n",
    "\n",
    "print(df_delong)        "
   ]
  },
  {
   "cell_type": "code",
   "execution_count": 99,
   "metadata": {
    "ExecuteTime": {
     "end_time": "2020-12-17T07:28:01.985483Z",
     "start_time": "2020-12-17T07:28:01.967776Z"
    }
   },
   "outputs": [
    {
     "data": {
      "text/html": [
       "<div>\n",
       "<style scoped>\n",
       "    .dataframe tbody tr th:only-of-type {\n",
       "        vertical-align: middle;\n",
       "    }\n",
       "\n",
       "    .dataframe tbody tr th {\n",
       "        vertical-align: top;\n",
       "    }\n",
       "\n",
       "    .dataframe thead th {\n",
       "        text-align: right;\n",
       "    }\n",
       "</style>\n",
       "<table border=\"1\" class=\"dataframe\">\n",
       "  <thead>\n",
       "    <tr style=\"text-align: right;\">\n",
       "      <th></th>\n",
       "      <th>ep</th>\n",
       "      <th>e</th>\n",
       "      <th>p</th>\n",
       "    </tr>\n",
       "  </thead>\n",
       "  <tbody>\n",
       "    <tr>\n",
       "      <th>ep</th>\n",
       "      <td>NaN</td>\n",
       "      <td>0.00220369</td>\n",
       "      <td>1.19519e-05</td>\n",
       "    </tr>\n",
       "    <tr>\n",
       "      <th>e</th>\n",
       "      <td>0.00220369</td>\n",
       "      <td>NaN</td>\n",
       "      <td>8.57878e-10</td>\n",
       "    </tr>\n",
       "    <tr>\n",
       "      <th>p</th>\n",
       "      <td>1.19519e-05</td>\n",
       "      <td>8.57878e-10</td>\n",
       "      <td>NaN</td>\n",
       "    </tr>\n",
       "  </tbody>\n",
       "</table>\n",
       "</div>"
      ],
      "text/plain": [
       "             ep            e            p\n",
       "ep          NaN   0.00220369  1.19519e-05\n",
       "e    0.00220369          NaN  8.57878e-10\n",
       "p   1.19519e-05  8.57878e-10          NaN"
      ]
     },
     "execution_count": 99,
     "metadata": {},
     "output_type": "execute_result"
    }
   ],
   "source": [
    "df_model_delong"
   ]
  },
  {
   "cell_type": "markdown",
   "metadata": {},
   "source": [
    "    X_A, Y_A = group_preds_by_label(preds_A, actual)\n",
    "    X_B, Y_B = group_preds_by_label(preds_B, actual)\n",
    "    V_A10, V_A01 = structural_components(X_A, Y_A)\n",
    "    V_B10, V_B01 = structural_components(X_B, Y_B)\n",
    "    auc_A = auc2(X_A, Y_A)\n",
    "    auc_B = auc2(X_B, Y_B)\n",
    "    # Compute entries of covariance matrix S (covar_AB = covar_BA)\n",
    "    var_A = (get_S_entry(V_A10, V_A10, auc_A, auc_A) * 1/len(V_A10)\n",
    "            + get_S_entry(V_A01, V_A01, auc_A, auc_A) * 1/len(V_A01))\n",
    "    var_B = (get_S_entry(V_B10, V_B10, auc_B, auc_B) * 1/len(V_B10)\n",
    "            + get_S_entry(V_B01, V_B01, auc_B, auc_B) * 1/len(V_B01))\n",
    "    covar_AB = (get_S_entry(V_A10, V_B10, auc_A, auc_B) * 1/len(V_A10)\n",
    "                + get_S_entry(V_A01, V_B01, auc_A, auc_B) * 1/len(V_A01))\n",
    "    # Two tailed test\n",
    "    z = z_score(var_A, var_B, covar_AB, auc_A, auc_B)\n",
    "    return stat.norm.sf(abs(z))*2"
   ]
  }
 ],
 "metadata": {
  "kernelspec": {
   "display_name": "Python 3",
   "language": "python",
   "name": "python3"
  },
  "language_info": {
   "codemirror_mode": {
    "name": "ipython",
    "version": 3
   },
   "file_extension": ".py",
   "mimetype": "text/x-python",
   "name": "python",
   "nbconvert_exporter": "python",
   "pygments_lexer": "ipython3",
   "version": "3.6.9"
  },
  "toc": {
   "base_numbering": 1,
   "nav_menu": {},
   "number_sections": true,
   "sideBar": true,
   "skip_h1_title": false,
   "title_cell": "Table of Contents",
   "title_sidebar": "Contents",
   "toc_cell": false,
   "toc_position": {},
   "toc_section_display": true,
   "toc_window_display": false
  },
  "varInspector": {
   "cols": {
    "lenName": 16,
    "lenType": 16,
    "lenVar": 40
   },
   "kernels_config": {
    "python": {
     "delete_cmd_postfix": "",
     "delete_cmd_prefix": "del ",
     "library": "var_list.py",
     "varRefreshCmd": "print(var_dic_list())"
    },
    "r": {
     "delete_cmd_postfix": ") ",
     "delete_cmd_prefix": "rm(",
     "library": "var_list.r",
     "varRefreshCmd": "cat(var_dic_list()) "
    }
   },
   "types_to_exclude": [
    "module",
    "function",
    "builtin_function_or_method",
    "instance",
    "_Feature"
   ],
   "window_display": false
  }
 },
 "nbformat": 4,
 "nbformat_minor": 4
}
