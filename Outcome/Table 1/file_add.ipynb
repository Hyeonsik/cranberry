{
 "cells": [
  {
   "cell_type": "code",
   "execution_count": 1,
   "metadata": {
    "ExecuteTime": {
     "end_time": "2020-12-08T02:34:32.371109Z",
     "start_time": "2020-12-08T02:34:32.018771Z"
    }
   },
   "outputs": [
    {
     "name": "stdout",
     "output_type": "stream",
     "text": [
      "7939\n",
      "      index  Unnamed: 0  Unnamed: 0.1  Unnamed: 0.1.1  Unnamed: 0.1.1.1  \\\n",
      "0         3           3             3             146               146   \n",
      "1         4           4             4             150               150   \n",
      "2         5           5             6             161               161   \n",
      "3        10          10            11             208               208   \n",
      "4         7           7             8             178               178   \n",
      "...     ...         ...           ...             ...               ...   \n",
      "4944   8368        8368          9047           45250             45250   \n",
      "4945   8378        8378          9057           45264             45264   \n",
      "4946   8375        8375          9054           45259             45259   \n",
      "4947   8389        8389          9069           45294             45294   \n",
      "4948   8387        8387          9067           45286             45286   \n",
      "\n",
      "      Unnamed: 0.1.1.1.1       oID       hid gender   birthdate  \\\n",
      "0                    146  21884764  52067408      F  1972-10-25   \n",
      "1                    150  21863954  47393105      F  1972-09-21   \n",
      "2                    161  21864083  34170940      M  1962-10-10   \n",
      "3                    208  21863799  52018273      F  1960-07-15   \n",
      "4                    178  21863915  37019789      F  1975-11-02   \n",
      "...                  ...       ...       ...    ...         ...   \n",
      "4944               45250  31714755  53904036      F  1967-08-12   \n",
      "4945               45264  31716177  50975503      M  1967-11-04   \n",
      "4946               45259  31692399  54320756      F  1938-05-27   \n",
      "4947               45294  31748528  50856998      F  1979-08-08   \n",
      "4948               45286  31600302  51659688      M  1956-01-30   \n",
      "\n",
      "              NRS_time  Value  bed        opend_time       opid  \\\n",
      "0     2019-04-09 11:30    4.0    2  2019-04-09 10:52  190409012   \n",
      "1     2019-04-09 12:00    6.0    3  2019-04-09 11:38  190409044   \n",
      "2     2019-04-09 13:45    8.0    1  2019-04-09 13:30  190409057   \n",
      "3     2019-04-09 17:30    6.0    2  2019-04-09 16:58  190409079   \n",
      "4     2019-04-09 15:05    7.0    1  2019-04-09 14:33  190409087   \n",
      "...                ...    ...  ...               ...        ...   \n",
      "4944  2020-10-30 15:05    4.0    9  2020-10-30 14:25  201030105   \n",
      "4945  2020-10-30 16:15    6.0    1  2020-10-30 15:55  201030106   \n",
      "4946  2020-10-30 15:45    8.0    8  2020-10-30 15:15  201030108   \n",
      "4947  2020-10-31 16:20    3.0    4  2020-10-31 15:50  201031002   \n",
      "4948  2020-10-31 13:20   10.0    3  2020-10-31 12:55  201031004   \n",
      "\n",
      "                             path  set_value  \n",
      "0     PACU1_2_190409_110712.vital          1  \n",
      "1     PACU1_3_190409_114333.vital          0  \n",
      "2     PACU1_1_190409_133948.vital          0  \n",
      "3     PACU1_2_190409_171522.vital          0  \n",
      "4     PACU1_1_190409_144536.vital          0  \n",
      "...                           ...        ...  \n",
      "4944  PACU1_9_201030_143942.vital          0  \n",
      "4945  PACU1_1_201030_161119.vital          0  \n",
      "4946  PACU1_8_201030_152421.vital          0  \n",
      "4947  PACU1_4_201031_160405.vital          0  \n",
      "4948  PACU1_3_201031_131135.vital          0  \n",
      "\n",
      "[4949 rows x 17 columns]\n"
     ]
    }
   ],
   "source": [
    "import pandas as pd\n",
    "import datetime\n",
    "\n",
    "df_match = pd.read_csv('match_setvalue_20201125.csv')\n",
    "dlist = df_match[df_match['set_value']==2].index\n",
    "df_match_true = df_match.drop(dlist)\n",
    "print(len(df_match_true))\n",
    "\n",
    "df_match_true = df_match_true.sort_values(by=['Value'])\n",
    "df_match = df_match_true.drop_duplicates(subset=['opid'],keep='last')\n",
    "\n",
    "\n",
    "df_match = df_match.sort_values(by=['opid'])\n",
    "df_match = df_match.reset_index()\n",
    "print(df_match)"
   ]
  },
  {
   "cell_type": "code",
   "execution_count": 14,
   "metadata": {
    "ExecuteTime": {
     "end_time": "2020-11-30T09:00:52.396442Z",
     "start_time": "2020-11-30T09:00:35.551431Z"
    },
    "scrolled": true
   },
   "outputs": [
    {
     "name": "stdout",
     "output_type": "stream",
     "text": [
      "      index  Unnamed: 0  Unnamed: 0.1  Unnamed: 0.1.1  Unnamed: 0.1.1.1  \\\n",
      "0         3           3             3             146               146   \n",
      "1         4           4             4             150               150   \n",
      "2         5           5             6             161               161   \n",
      "3        10          10            11             208               208   \n",
      "4         7           7             8             178               178   \n",
      "...     ...         ...           ...             ...               ...   \n",
      "4944   8368        8368          9047           45250             45250   \n",
      "4945   8378        8378          9057           45264             45264   \n",
      "4946   8375        8375          9054           45259             45259   \n",
      "4947   8389        8389          9069           45294             45294   \n",
      "4948   8387        8387          9067           45286             45286   \n",
      "\n",
      "      Unnamed: 0.1.1.1.1       oID       hid gender   birthdate  ... bed  \\\n",
      "0                    146  21884764  52067408      F  1972-10-25  ...   2   \n",
      "1                    150  21863954  47393105      F  1972-09-21  ...   3   \n",
      "2                    161  21864083  34170940      M  1962-10-10  ...   1   \n",
      "3                    208  21863799  52018273      F  1960-07-15  ...   2   \n",
      "4                    178  21863915  37019789      F  1975-11-02  ...   1   \n",
      "...                  ...       ...       ...    ...         ...  ...  ..   \n",
      "4944               45250  31714755  53904036      F  1967-08-12  ...   9   \n",
      "4945               45264  31716177  50975503      M  1967-11-04  ...   1   \n",
      "4946               45259  31692399  54320756      F  1938-05-27  ...   8   \n",
      "4947               45294  31748528  50856998      F  1979-08-08  ...   4   \n",
      "4948               45286  31600302  51659688      M  1956-01-30  ...   3   \n",
      "\n",
      "            opend_time       opid                         path  set_value  \\\n",
      "0     2019-04-09 10:52  190409012  PACU1_2_190409_110712.vital          1   \n",
      "1     2019-04-09 11:38  190409044  PACU1_3_190409_114333.vital          0   \n",
      "2     2019-04-09 13:30  190409057  PACU1_1_190409_133948.vital          0   \n",
      "3     2019-04-09 16:58  190409079  PACU1_2_190409_171522.vital          0   \n",
      "4     2019-04-09 14:33  190409087  PACU1_1_190409_144536.vital          0   \n",
      "...                ...        ...                          ...        ...   \n",
      "4944  2020-10-30 14:25  201030105  PACU1_9_201030_143942.vital          0   \n",
      "4945  2020-10-30 15:55  201030106  PACU1_1_201030_161119.vital          0   \n",
      "4946  2020-10-30 15:15  201030108  PACU1_8_201030_152421.vital          0   \n",
      "4947  2020-10-31 15:50  201031002  PACU1_4_201031_160405.vital          0   \n",
      "4948  2020-10-31 12:55  201031004  PACU1_3_201031_131135.vital          0   \n",
      "\n",
      "       age  weight  height         Anetime          Optime  \n",
      "0     46.0   45.90   154.9 0 days 03:24:00 0 days 02:27:00  \n",
      "1     46.0   58.38   157.4 0 days 01:31:00 0 days 01:03:00  \n",
      "2     56.0   67.60   174.0 0 days 02:47:00 0 days 02:05:00  \n",
      "3     58.0   56.90   148.1 0 days 04:28:00 0 days 03:28:00  \n",
      "4     43.0   51.30   160.0 0 days 01:23:00 0 days 00:53:00  \n",
      "...    ...     ...     ...             ...             ...  \n",
      "4944  53.0   56.70   160.5 0 days 01:13:00 0 days 00:35:00  \n",
      "4945  52.0   78.70   167.1 0 days 01:18:00 0 days 00:45:00  \n",
      "4946  82.0   50.85   140.0 0 days 02:46:00 0 days 02:10:00  \n",
      "4947  41.0   51.70   154.2 0 days 01:40:00 0 days 01:05:00  \n",
      "4948  64.0   60.30   165.7 0 days 04:30:00 0 days 03:45:00  \n",
      "\n",
      "[4949 rows x 22 columns]\n"
     ]
    }
   ],
   "source": [
    "df_gc = pd.read_csv('table_1_contents_op_an.csv',sep=',')\n",
    "df_gc=df_gc.drop_duplicates(subset=['opid'],keep='first')\n",
    "df_gc=df_gc.reset_index()\n",
    "\n",
    "df_gc['orin']=pd.to_datetime(df_gc['orin'])\n",
    "df_gc['orout']=pd.to_datetime(df_gc['orout'])\n",
    "df_gc['opstart']=pd.to_datetime(df_gc['opstart'])\n",
    "df_gc['opend']=pd.to_datetime(df_gc['opend'])\n",
    "#print(df_gc.dtypes)\n",
    "\n",
    "for i in range(len(df_gc)):\n",
    "    idx=df_match[df_match['opid']==df_gc.loc[i,'opid']].index.tolist()\n",
    "    for j in idx:\n",
    "        df_match.loc[j,'age'] = int(df_gc.loc[i,'age'])\n",
    "        df_match.loc[j,'weight'] = df_gc.loc[i,'weight']\n",
    "        df_match.loc[j,'height'] = df_gc.loc[i,'height']\n",
    "        df_match.loc[j,'Anetime'] = df_gc.loc[i,'orout']-df_gc.loc[i,'orin']\n",
    "        df_match.loc[j,'Optime'] = df_gc.loc[i,'opend']-df_gc.loc[i,'opstart']\n",
    "        \n",
    "print(df_match)"
   ]
  },
  {
   "cell_type": "code",
   "execution_count": 15,
   "metadata": {
    "ExecuteTime": {
     "end_time": "2020-11-30T09:01:00.408007Z",
     "start_time": "2020-11-30T09:01:00.398160Z"
    }
   },
   "outputs": [],
   "source": [
    "df_match['Anetime']=df_match['Anetime'].dt.total_seconds()/3600\n",
    "df_match['Optime']=df_match['Optime'].dt.total_seconds()/3600\n"
   ]
  },
  {
   "cell_type": "code",
   "execution_count": 16,
   "metadata": {
    "ExecuteTime": {
     "end_time": "2020-11-30T09:01:03.666462Z",
     "start_time": "2020-11-30T09:01:03.534681Z"
    }
   },
   "outputs": [],
   "source": [
    "df_match.to_csv('T1_contents_final.csv')"
   ]
  }
 ],
 "metadata": {
  "kernelspec": {
   "display_name": "Python 3",
   "language": "python",
   "name": "python3"
  },
  "language_info": {
   "codemirror_mode": {
    "name": "ipython",
    "version": 3
   },
   "file_extension": ".py",
   "mimetype": "text/x-python",
   "name": "python",
   "nbconvert_exporter": "python",
   "pygments_lexer": "ipython3",
   "version": "3.6.9"
  },
  "toc": {
   "base_numbering": 1,
   "nav_menu": {},
   "number_sections": true,
   "sideBar": true,
   "skip_h1_title": false,
   "title_cell": "Table of Contents",
   "title_sidebar": "Contents",
   "toc_cell": false,
   "toc_position": {},
   "toc_section_display": true,
   "toc_window_display": false
  },
  "varInspector": {
   "cols": {
    "lenName": 16,
    "lenType": 16,
    "lenVar": 40
   },
   "kernels_config": {
    "python": {
     "delete_cmd_postfix": "",
     "delete_cmd_prefix": "del ",
     "library": "var_list.py",
     "varRefreshCmd": "print(var_dic_list())"
    },
    "r": {
     "delete_cmd_postfix": ") ",
     "delete_cmd_prefix": "rm(",
     "library": "var_list.r",
     "varRefreshCmd": "cat(var_dic_list()) "
    }
   },
   "types_to_exclude": [
    "module",
    "function",
    "builtin_function_or_method",
    "instance",
    "_Feature"
   ],
   "window_display": false
  }
 },
 "nbformat": 4,
 "nbformat_minor": 4
}
