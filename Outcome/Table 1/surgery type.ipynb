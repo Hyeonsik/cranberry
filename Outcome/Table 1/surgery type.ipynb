{
 "cells": [
  {
   "cell_type": "code",
   "execution_count": 4,
   "metadata": {
    "ExecuteTime": {
     "end_time": "2020-12-16T07:20:05.605282Z",
     "start_time": "2020-12-16T07:20:05.421307Z"
    }
   },
   "outputs": [],
   "source": [
    "import pandas as pd\n",
    "\n",
    "df_opid = pd.read_csv('match_age_pass_opid(3923)_20201212.csv')\n",
    "df_st = pd.read_csv('table_1_contents.csv',  engine='python')"
   ]
  },
  {
   "cell_type": "code",
   "execution_count": 12,
   "metadata": {
    "ExecuteTime": {
     "end_time": "2020-12-16T07:22:29.710813Z",
     "start_time": "2020-12-16T07:22:29.702525Z"
    }
   },
   "outputs": [
    {
     "data": {
      "text/plain": [
       "(3923,)"
      ]
     },
     "execution_count": 12,
     "metadata": {},
     "output_type": "execute_result"
    }
   ],
   "source": [
    "opid = np.array(df_opid['opid'].values.flatten())\n",
    "opid = np.unique(opid)\n",
    "opid.shape"
   ]
  },
  {
   "cell_type": "code",
   "execution_count": 15,
   "metadata": {
    "ExecuteTime": {
     "end_time": "2020-12-16T07:23:53.964937Z",
     "start_time": "2020-12-16T07:23:53.608610Z"
    }
   },
   "outputs": [],
   "source": [
    "droplist=[]\n",
    "for i in range(len(df_st)):\n",
    "    if df_st.loc[i,'opid'] not in opid:\n",
    "        droplist.append(i)\n",
    "len(droplist)\n",
    "\n",
    "df_st.drop(droplist,inplace=True)"
   ]
  },
  {
   "cell_type": "code",
   "execution_count": 24,
   "metadata": {
    "ExecuteTime": {
     "end_time": "2020-12-16T07:27:43.293498Z",
     "start_time": "2020-12-16T07:27:43.272998Z"
    }
   },
   "outputs": [
    {
     "name": "stdout",
     "output_type": "stream",
     "text": [
      "total opid:  3923\n"
     ]
    },
    {
     "data": {
      "text/plain": [
       "GS    1321\n",
       "OG     443\n",
       "OT     438\n",
       "UR     393\n",
       "OL     376\n",
       "OS     331\n",
       "NS     279\n",
       "TS     184\n",
       "PS     144\n",
       "DR      12\n",
       "IM       2\n",
       "Name: dept, dtype: int64"
      ]
     },
     "execution_count": 24,
     "metadata": {},
     "output_type": "execute_result"
    }
   ],
   "source": [
    "df_st.drop_duplicates('opid',keep='first',inplace=True)\n",
    "#df_st.to_csv('surgery_type.csv')\n",
    "print('total opid: ',len(df_st))\n",
    "df_st['dept'].value_counts()"
   ]
  }
 ],
 "metadata": {
  "kernelspec": {
   "display_name": "Python 3",
   "language": "python",
   "name": "python3"
  },
  "language_info": {
   "codemirror_mode": {
    "name": "ipython",
    "version": 3
   },
   "file_extension": ".py",
   "mimetype": "text/x-python",
   "name": "python",
   "nbconvert_exporter": "python",
   "pygments_lexer": "ipython3",
   "version": "3.6.9"
  },
  "toc": {
   "base_numbering": 1,
   "nav_menu": {},
   "number_sections": true,
   "sideBar": true,
   "skip_h1_title": false,
   "title_cell": "Table of Contents",
   "title_sidebar": "Contents",
   "toc_cell": false,
   "toc_position": {},
   "toc_section_display": true,
   "toc_window_display": false
  },
  "varInspector": {
   "cols": {
    "lenName": 16,
    "lenType": 16,
    "lenVar": 40
   },
   "kernels_config": {
    "python": {
     "delete_cmd_postfix": "",
     "delete_cmd_prefix": "del ",
     "library": "var_list.py",
     "varRefreshCmd": "print(var_dic_list())"
    },
    "r": {
     "delete_cmd_postfix": ") ",
     "delete_cmd_prefix": "rm(",
     "library": "var_list.r",
     "varRefreshCmd": "cat(var_dic_list()) "
    }
   },
   "types_to_exclude": [
    "module",
    "function",
    "builtin_function_or_method",
    "instance",
    "_Feature"
   ],
   "window_display": false
  }
 },
 "nbformat": 4,
 "nbformat_minor": 4
}
