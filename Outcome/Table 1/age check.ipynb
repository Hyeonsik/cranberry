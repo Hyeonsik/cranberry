{
 "cells": [
  {
   "cell_type": "code",
   "execution_count": 17,
   "metadata": {
    "ExecuteTime": {
     "end_time": "2020-12-10T02:42:18.942864Z",
     "start_time": "2020-12-10T02:42:18.902398Z"
    }
   },
   "outputs": [],
   "source": [
    "import pandas as pd\n",
    "\n",
    "a = pd.read_csv('T1_contents_final.csv')"
   ]
  },
  {
   "cell_type": "code",
   "execution_count": 8,
   "metadata": {
    "ExecuteTime": {
     "end_time": "2020-12-10T02:23:28.895235Z",
     "start_time": "2020-12-10T02:23:28.886167Z"
    },
    "scrolled": true
   },
   "outputs": [
    {
     "name": "stdout",
     "output_type": "stream",
     "text": [
      "38\n",
      "154\n"
     ]
    }
   ],
   "source": [
    "print(len(a[a['age']<18]))\n",
    "print(len(a[a['age']>80]))\n"
   ]
  },
  {
   "cell_type": "code",
   "execution_count": 23,
   "metadata": {
    "ExecuteTime": {
     "end_time": "2020-12-10T02:47:08.187220Z",
     "start_time": "2020-12-10T02:47:08.066089Z"
    }
   },
   "outputs": [
    {
     "name": "stdout",
     "output_type": "stream",
     "text": [
      "           hid       opid  set_value          NRS_time  Value  bed  \\\n",
      "0     52067408  190409012          1  2019-04-09 11:30    4.0    2   \n",
      "1     47393105  190409044          0  2019-04-09 12:00    6.0    3   \n",
      "2     34170940  190409057          0  2019-04-09 13:45    8.0    1   \n",
      "3     52018273  190409079          0  2019-04-09 17:30    6.0    2   \n",
      "4     37019789  190409087          0  2019-04-09 15:05    7.0    1   \n",
      "...        ...        ...        ...               ...    ...  ...   \n",
      "4944  53904036  201030105          0  2020-10-30 15:05    4.0    9   \n",
      "4945  50975503  201030106          0  2020-10-30 16:15    6.0    1   \n",
      "4946  54320756  201030108          0  2020-10-30 15:45    8.0    8   \n",
      "4947  50856998  201031002          0  2020-10-31 16:20    3.0    4   \n",
      "4948  51659688  201031004          0  2020-10-31 13:20   10.0    3   \n",
      "\n",
      "                             path   age gender  weight  height   Anetime  \\\n",
      "0     PACU1_2_190409_110712.vital  46.0      F   45.90   154.9  3.400000   \n",
      "1     PACU1_3_190409_114333.vital  46.0      F   58.38   157.4  1.516667   \n",
      "2     PACU1_1_190409_133948.vital  56.0      M   67.60   174.0  2.783333   \n",
      "3     PACU1_2_190409_171522.vital  58.0      F   56.90   148.1  4.466667   \n",
      "4     PACU1_1_190409_144536.vital  43.0      F   51.30   160.0  1.383333   \n",
      "...                           ...   ...    ...     ...     ...       ...   \n",
      "4944  PACU1_9_201030_143942.vital  53.0      F   56.70   160.5  1.216667   \n",
      "4945  PACU1_1_201030_161119.vital  52.0      M   78.70   167.1  1.300000   \n",
      "4946  PACU1_8_201030_152421.vital  82.0      F   50.85   140.0  2.766667   \n",
      "4947  PACU1_4_201031_160405.vital  41.0      F   51.70   154.2  1.666667   \n",
      "4948  PACU1_3_201031_131135.vital  64.0      M   60.30   165.7  4.500000   \n",
      "\n",
      "        Optime  \n",
      "0     2.450000  \n",
      "1     1.050000  \n",
      "2     2.083333  \n",
      "3     3.466667  \n",
      "4     0.883333  \n",
      "...        ...  \n",
      "4944  0.583333  \n",
      "4945  0.750000  \n",
      "4946  2.166667  \n",
      "4947  1.083333  \n",
      "4948  3.750000  \n",
      "\n",
      "[4911 rows x 13 columns]\n"
     ]
    }
   ],
   "source": [
    "b = a[a['age']>=18]\n",
    "b=b.drop(columns=['index','oID','Unnamed: 0','Unnamed: 0.1','Unnamed: 0.1.1','Unnamed: 0.1.1.1','Unnamed: 0.1.1.1.1','Unnamed: 0.1.1.1.1.1'])\n",
    "\n",
    "#print(b)\n",
    "b=b[['hid','opid','set_value','NRS_time','Value','bed','path','age','gender','weight','height','Anetime','Optime']]\n",
    "\n",
    "print(b)\n",
    "b.to_csv('match_age_20201210.csv')"
   ]
  },
  {
   "cell_type": "code",
   "execution_count": 15,
   "metadata": {
    "ExecuteTime": {
     "end_time": "2020-12-10T02:39:13.599204Z",
     "start_time": "2020-12-10T02:39:13.531924Z"
    }
   },
   "outputs": [
    {
     "data": {
      "text/html": [
       "<div>\n",
       "<style scoped>\n",
       "    .dataframe tbody tr th:only-of-type {\n",
       "        vertical-align: middle;\n",
       "    }\n",
       "\n",
       "    .dataframe tbody tr th {\n",
       "        vertical-align: top;\n",
       "    }\n",
       "\n",
       "    .dataframe thead th {\n",
       "        text-align: right;\n",
       "    }\n",
       "</style>\n",
       "<table border=\"1\" class=\"dataframe\">\n",
       "  <thead>\n",
       "    <tr style=\"text-align: right;\">\n",
       "      <th></th>\n",
       "      <th>Unnamed: 0</th>\n",
       "      <th>hid</th>\n",
       "      <th>opid</th>\n",
       "      <th>NRS_time</th>\n",
       "      <th>Value</th>\n",
       "      <th>bed</th>\n",
       "      <th>path</th>\n",
       "      <th>age</th>\n",
       "      <th>gender</th>\n",
       "      <th>weight</th>\n",
       "      <th>height</th>\n",
       "      <th>Anetime</th>\n",
       "      <th>Optime</th>\n",
       "    </tr>\n",
       "  </thead>\n",
       "  <tbody>\n",
       "    <tr>\n",
       "      <th>0</th>\n",
       "      <td>0</td>\n",
       "      <td>52067408</td>\n",
       "      <td>190409012</td>\n",
       "      <td>2019-04-09 11:30</td>\n",
       "      <td>4.0</td>\n",
       "      <td>2</td>\n",
       "      <td>PACU1_2_190409_110712.vital</td>\n",
       "      <td>46.0</td>\n",
       "      <td>F</td>\n",
       "      <td>45.90</td>\n",
       "      <td>154.9</td>\n",
       "      <td>3.400000</td>\n",
       "      <td>2.450000</td>\n",
       "    </tr>\n",
       "    <tr>\n",
       "      <th>1</th>\n",
       "      <td>1</td>\n",
       "      <td>47393105</td>\n",
       "      <td>190409044</td>\n",
       "      <td>2019-04-09 12:00</td>\n",
       "      <td>6.0</td>\n",
       "      <td>3</td>\n",
       "      <td>PACU1_3_190409_114333.vital</td>\n",
       "      <td>46.0</td>\n",
       "      <td>F</td>\n",
       "      <td>58.38</td>\n",
       "      <td>157.4</td>\n",
       "      <td>1.516667</td>\n",
       "      <td>1.050000</td>\n",
       "    </tr>\n",
       "    <tr>\n",
       "      <th>2</th>\n",
       "      <td>2</td>\n",
       "      <td>34170940</td>\n",
       "      <td>190409057</td>\n",
       "      <td>2019-04-09 13:45</td>\n",
       "      <td>8.0</td>\n",
       "      <td>1</td>\n",
       "      <td>PACU1_1_190409_133948.vital</td>\n",
       "      <td>56.0</td>\n",
       "      <td>M</td>\n",
       "      <td>67.60</td>\n",
       "      <td>174.0</td>\n",
       "      <td>2.783333</td>\n",
       "      <td>2.083333</td>\n",
       "    </tr>\n",
       "    <tr>\n",
       "      <th>3</th>\n",
       "      <td>3</td>\n",
       "      <td>52018273</td>\n",
       "      <td>190409079</td>\n",
       "      <td>2019-04-09 17:30</td>\n",
       "      <td>6.0</td>\n",
       "      <td>2</td>\n",
       "      <td>PACU1_2_190409_171522.vital</td>\n",
       "      <td>58.0</td>\n",
       "      <td>F</td>\n",
       "      <td>56.90</td>\n",
       "      <td>148.1</td>\n",
       "      <td>4.466667</td>\n",
       "      <td>3.466667</td>\n",
       "    </tr>\n",
       "    <tr>\n",
       "      <th>4</th>\n",
       "      <td>4</td>\n",
       "      <td>37019789</td>\n",
       "      <td>190409087</td>\n",
       "      <td>2019-04-09 15:05</td>\n",
       "      <td>7.0</td>\n",
       "      <td>1</td>\n",
       "      <td>PACU1_1_190409_144536.vital</td>\n",
       "      <td>43.0</td>\n",
       "      <td>F</td>\n",
       "      <td>51.30</td>\n",
       "      <td>160.0</td>\n",
       "      <td>1.383333</td>\n",
       "      <td>0.883333</td>\n",
       "    </tr>\n",
       "    <tr>\n",
       "      <th>...</th>\n",
       "      <td>...</td>\n",
       "      <td>...</td>\n",
       "      <td>...</td>\n",
       "      <td>...</td>\n",
       "      <td>...</td>\n",
       "      <td>...</td>\n",
       "      <td>...</td>\n",
       "      <td>...</td>\n",
       "      <td>...</td>\n",
       "      <td>...</td>\n",
       "      <td>...</td>\n",
       "      <td>...</td>\n",
       "      <td>...</td>\n",
       "    </tr>\n",
       "    <tr>\n",
       "      <th>4906</th>\n",
       "      <td>4906</td>\n",
       "      <td>53904036</td>\n",
       "      <td>201030105</td>\n",
       "      <td>2020-10-30 15:05</td>\n",
       "      <td>4.0</td>\n",
       "      <td>9</td>\n",
       "      <td>PACU1_9_201030_143942.vital</td>\n",
       "      <td>53.0</td>\n",
       "      <td>F</td>\n",
       "      <td>56.70</td>\n",
       "      <td>160.5</td>\n",
       "      <td>1.216667</td>\n",
       "      <td>0.583333</td>\n",
       "    </tr>\n",
       "    <tr>\n",
       "      <th>4907</th>\n",
       "      <td>4907</td>\n",
       "      <td>50975503</td>\n",
       "      <td>201030106</td>\n",
       "      <td>2020-10-30 16:15</td>\n",
       "      <td>6.0</td>\n",
       "      <td>1</td>\n",
       "      <td>PACU1_1_201030_161119.vital</td>\n",
       "      <td>52.0</td>\n",
       "      <td>M</td>\n",
       "      <td>78.70</td>\n",
       "      <td>167.1</td>\n",
       "      <td>1.300000</td>\n",
       "      <td>0.750000</td>\n",
       "    </tr>\n",
       "    <tr>\n",
       "      <th>4908</th>\n",
       "      <td>4908</td>\n",
       "      <td>54320756</td>\n",
       "      <td>201030108</td>\n",
       "      <td>2020-10-30 15:45</td>\n",
       "      <td>8.0</td>\n",
       "      <td>8</td>\n",
       "      <td>PACU1_8_201030_152421.vital</td>\n",
       "      <td>82.0</td>\n",
       "      <td>F</td>\n",
       "      <td>50.85</td>\n",
       "      <td>140.0</td>\n",
       "      <td>2.766667</td>\n",
       "      <td>2.166667</td>\n",
       "    </tr>\n",
       "    <tr>\n",
       "      <th>4909</th>\n",
       "      <td>4909</td>\n",
       "      <td>50856998</td>\n",
       "      <td>201031002</td>\n",
       "      <td>2020-10-31 16:20</td>\n",
       "      <td>3.0</td>\n",
       "      <td>4</td>\n",
       "      <td>PACU1_4_201031_160405.vital</td>\n",
       "      <td>41.0</td>\n",
       "      <td>F</td>\n",
       "      <td>51.70</td>\n",
       "      <td>154.2</td>\n",
       "      <td>1.666667</td>\n",
       "      <td>1.083333</td>\n",
       "    </tr>\n",
       "    <tr>\n",
       "      <th>4910</th>\n",
       "      <td>4910</td>\n",
       "      <td>51659688</td>\n",
       "      <td>201031004</td>\n",
       "      <td>2020-10-31 13:20</td>\n",
       "      <td>10.0</td>\n",
       "      <td>3</td>\n",
       "      <td>PACU1_3_201031_131135.vital</td>\n",
       "      <td>64.0</td>\n",
       "      <td>M</td>\n",
       "      <td>60.30</td>\n",
       "      <td>165.7</td>\n",
       "      <td>4.500000</td>\n",
       "      <td>3.750000</td>\n",
       "    </tr>\n",
       "  </tbody>\n",
       "</table>\n",
       "<p>4911 rows × 13 columns</p>\n",
       "</div>"
      ],
      "text/plain": [
       "      Unnamed: 0       hid       opid          NRS_time  Value  bed  \\\n",
       "0              0  52067408  190409012  2019-04-09 11:30    4.0    2   \n",
       "1              1  47393105  190409044  2019-04-09 12:00    6.0    3   \n",
       "2              2  34170940  190409057  2019-04-09 13:45    8.0    1   \n",
       "3              3  52018273  190409079  2019-04-09 17:30    6.0    2   \n",
       "4              4  37019789  190409087  2019-04-09 15:05    7.0    1   \n",
       "...          ...       ...        ...               ...    ...  ...   \n",
       "4906        4906  53904036  201030105  2020-10-30 15:05    4.0    9   \n",
       "4907        4907  50975503  201030106  2020-10-30 16:15    6.0    1   \n",
       "4908        4908  54320756  201030108  2020-10-30 15:45    8.0    8   \n",
       "4909        4909  50856998  201031002  2020-10-31 16:20    3.0    4   \n",
       "4910        4910  51659688  201031004  2020-10-31 13:20   10.0    3   \n",
       "\n",
       "                             path   age gender  weight  height   Anetime  \\\n",
       "0     PACU1_2_190409_110712.vital  46.0      F   45.90   154.9  3.400000   \n",
       "1     PACU1_3_190409_114333.vital  46.0      F   58.38   157.4  1.516667   \n",
       "2     PACU1_1_190409_133948.vital  56.0      M   67.60   174.0  2.783333   \n",
       "3     PACU1_2_190409_171522.vital  58.0      F   56.90   148.1  4.466667   \n",
       "4     PACU1_1_190409_144536.vital  43.0      F   51.30   160.0  1.383333   \n",
       "...                           ...   ...    ...     ...     ...       ...   \n",
       "4906  PACU1_9_201030_143942.vital  53.0      F   56.70   160.5  1.216667   \n",
       "4907  PACU1_1_201030_161119.vital  52.0      M   78.70   167.1  1.300000   \n",
       "4908  PACU1_8_201030_152421.vital  82.0      F   50.85   140.0  2.766667   \n",
       "4909  PACU1_4_201031_160405.vital  41.0      F   51.70   154.2  1.666667   \n",
       "4910  PACU1_3_201031_131135.vital  64.0      M   60.30   165.7  4.500000   \n",
       "\n",
       "        Optime  \n",
       "0     2.450000  \n",
       "1     1.050000  \n",
       "2     2.083333  \n",
       "3     3.466667  \n",
       "4     0.883333  \n",
       "...        ...  \n",
       "4906  0.583333  \n",
       "4907  0.750000  \n",
       "4908  2.166667  \n",
       "4909  1.083333  \n",
       "4910  3.750000  \n",
       "\n",
       "[4911 rows x 13 columns]"
      ]
     },
     "execution_count": 15,
     "metadata": {},
     "output_type": "execute_result"
    }
   ],
   "source": [
    "pd.read_csv('match_age_20201210.csv')"
   ]
  },
  {
   "cell_type": "code",
   "execution_count": 22,
   "metadata": {
    "ExecuteTime": {
     "end_time": "2020-12-10T02:29:30.863070Z",
     "start_time": "2020-12-10T02:29:30.822055Z"
    }
   },
   "outputs": [
    {
     "name": "stdout",
     "output_type": "stream",
     "text": [
      "      Unnamed: 0  index  Unnamed: 0.1  Unnamed: 0.1.1  Unnamed: 0.1.1.1  \\\n",
      "0              0      3             3               3               146   \n",
      "1              1      4             4               4               150   \n",
      "2              2      5             5               6               161   \n",
      "3              3     10            10              11               208   \n",
      "4              4      7             7               8               178   \n",
      "...          ...    ...           ...             ...               ...   \n",
      "4944        4944   8368          8368            9047             45250   \n",
      "4945        4945   8378          8378            9057             45264   \n",
      "4946        4946   8375          8375            9054             45259   \n",
      "4947        4947   8389          8389            9069             45294   \n",
      "4948        4948   8387          8387            9067             45286   \n",
      "\n",
      "      Unnamed: 0.1.1.1.1  Unnamed: 0.1.1.1.1.1       oID       hid gender  \\\n",
      "0                    146                   146  21884764  52067408      F   \n",
      "1                    150                   150  21863954  47393105      F   \n",
      "2                    161                   161  21864083  34170940      M   \n",
      "3                    208                   208  21863799  52018273      F   \n",
      "4                    178                   178  21863915  37019789      F   \n",
      "...                  ...                   ...       ...       ...    ...   \n",
      "4944               45250                 45250  31714755  53904036      F   \n",
      "4945               45264                 45264  31716177  50975503      M   \n",
      "4946               45259                 45259  31692399  54320756      F   \n",
      "4947               45294                 45294  31748528  50856998      F   \n",
      "4948               45286                 45286  31600302  51659688      M   \n",
      "\n",
      "      ... Value bed        opend_time       opid                         path  \\\n",
      "0     ...   4.0   2  2019-04-09 10:52  190409012  PACU1_2_190409_110712.vital   \n",
      "1     ...   6.0   3  2019-04-09 11:38  190409044  PACU1_3_190409_114333.vital   \n",
      "2     ...   8.0   1  2019-04-09 13:30  190409057  PACU1_1_190409_133948.vital   \n",
      "3     ...   6.0   2  2019-04-09 16:58  190409079  PACU1_2_190409_171522.vital   \n",
      "4     ...   7.0   1  2019-04-09 14:33  190409087  PACU1_1_190409_144536.vital   \n",
      "...   ...   ...  ..               ...        ...                          ...   \n",
      "4944  ...   4.0   9  2020-10-30 14:25  201030105  PACU1_9_201030_143942.vital   \n",
      "4945  ...   6.0   1  2020-10-30 15:55  201030106  PACU1_1_201030_161119.vital   \n",
      "4946  ...   8.0   8  2020-10-30 15:15  201030108  PACU1_8_201030_152421.vital   \n",
      "4947  ...   3.0   4  2020-10-31 15:50  201031002  PACU1_4_201031_160405.vital   \n",
      "4948  ...  10.0   3  2020-10-31 12:55  201031004  PACU1_3_201031_131135.vital   \n",
      "\n",
      "       age weight  height   Anetime    Optime  \n",
      "0     46.0  45.90   154.9  3.400000  2.450000  \n",
      "1     46.0  58.38   157.4  1.516667  1.050000  \n",
      "2     56.0  67.60   174.0  2.783333  2.083333  \n",
      "3     58.0  56.90   148.1  4.466667  3.466667  \n",
      "4     43.0  51.30   160.0  1.383333  0.883333  \n",
      "...    ...    ...     ...       ...       ...  \n",
      "4944  53.0  56.70   160.5  1.216667  0.583333  \n",
      "4945  52.0  78.70   167.1  1.300000  0.750000  \n",
      "4946  82.0  50.85   140.0  2.766667  2.166667  \n",
      "4947  41.0  51.70   154.2  1.666667  1.083333  \n",
      "4948  64.0  60.30   165.7  4.500000  3.750000  \n",
      "\n",
      "[4911 rows x 22 columns]\n",
      "Empty DataFrame\n",
      "Columns: [Unnamed: 0, index, Unnamed: 0.1, Unnamed: 0.1.1, Unnamed: 0.1.1.1, Unnamed: 0.1.1.1.1, Unnamed: 0.1.1.1.1.1, oID, hid, gender, birthdate, NRS_time, Value, bed, opend_time, opid, path, age, weight, height, Anetime, Optime]\n",
      "Index: []\n",
      "\n",
      "[0 rows x 22 columns]\n"
     ]
    }
   ],
   "source": [
    "b = a[a['age']>=18]\n",
    "b=b.drop(columns=['set_value'])\n",
    "print(b)\n",
    "print(b[b['age']<18])"
   ]
  },
  {
   "cell_type": "code",
   "execution_count": 6,
   "metadata": {
    "ExecuteTime": {
     "end_time": "2020-12-10T02:22:53.370480Z",
     "start_time": "2020-12-10T02:22:53.161716Z"
    },
    "scrolled": true
   },
   "outputs": [
    {
     "data": {
      "text/plain": [
       "(array([  83.,  309.,  457.,  824., 1142., 1218.,  727.,  179.,    9.]),\n",
       " array([ 10,  20,  30,  40,  50,  60,  70,  80,  90, 100]),\n",
       " <BarContainer object of 9 artists>)"
      ]
     },
     "execution_count": 6,
     "metadata": {},
     "output_type": "execute_result"
    },
    {
     "data": {
      "image/png": "[encoded data removed]",
      "text/plain": [
       "<Figure size 432x288 with 1 Axes>"
      ]
     },
     "metadata": {
      "needs_background": "light"
     },
     "output_type": "display_data"
    }
   ],
   "source": [
    "import matplotlib.pyplot as plt\n",
    "plt.hist(a['age'],bins=[10,20,30,40,50,60,70,80,90,100])"
   ]
  },
  {
   "cell_type": "code",
   "execution_count": 11,
   "metadata": {
    "ExecuteTime": {
     "end_time": "2020-12-10T03:10:11.215218Z",
     "start_time": "2020-12-10T03:10:11.143931Z"
    }
   },
   "outputs": [
    {
     "name": "stdout",
     "output_type": "stream",
     "text": [
      "4949\n",
      "4949\n",
      "494\n",
      "4911\n",
      "489\n"
     ]
    }
   ],
   "source": [
    "import pandas as pd\n",
    "\n",
    "a = pd.read_csv('T1_contents_final.csv')\n",
    "print(len(a))\n",
    "a.drop_duplicates(subset=['opid'],keep='first',inplace=True)\n",
    "print(len(a))\n",
    "print(len(a[a['set_value']==1]))\n",
    "\n",
    "df = pd.read_csv('match_age_20201210.csv')\n",
    "print(len(df))\n",
    "print(len(df[df['set_value']==1]))"
   ]
  }
 ],
 "metadata": {
  "kernelspec": {
   "display_name": "Python 3",
   "language": "python",
   "name": "python3"
  },
  "language_info": {
   "codemirror_mode": {
    "name": "ipython",
    "version": 3
   },
   "file_extension": ".py",
   "mimetype": "text/x-python",
   "name": "python",
   "nbconvert_exporter": "python",
   "pygments_lexer": "ipython3",
   "version": "3.6.9"
  },
  "toc": {
   "base_numbering": 1,
   "nav_menu": {},
   "number_sections": true,
   "sideBar": true,
   "skip_h1_title": false,
   "title_cell": "Table of Contents",
   "title_sidebar": "Contents",
   "toc_cell": false,
   "toc_position": {},
   "toc_section_display": true,
   "toc_window_display": false
  },
  "varInspector": {
   "cols": {
    "lenName": 16,
    "lenType": 16,
    "lenVar": 40
   },
   "kernels_config": {
    "python": {
     "delete_cmd_postfix": "",
     "delete_cmd_prefix": "del ",
     "library": "var_list.py",
     "varRefreshCmd": "print(var_dic_list())"
    },
    "r": {
     "delete_cmd_postfix": ") ",
     "delete_cmd_prefix": "rm(",
     "library": "var_list.r",
     "varRefreshCmd": "cat(var_dic_list()) "
    }
   },
   "types_to_exclude": [
    "module",
    "function",
    "builtin_function_or_method",
    "instance",
    "_Feature"
   ],
   "window_display": false
  }
 },
 "nbformat": 4,
 "nbformat_minor": 4
}
