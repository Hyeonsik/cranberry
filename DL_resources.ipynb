{
 "cells": [
  {
   "cell_type": "markdown",
   "metadata": {},
   "source": [
    "# Supervised Learning"
   ]
  },
  {
   "cell_type": "markdown",
   "metadata": {},
   "source": []
  },
  {
   "cell_type": "markdown",
   "metadata": {},
   "source": [
    "# Image Processing"
   ]
  },
  {
   "cell_type": "markdown",
   "metadata": {},
   "source": [
    "## Object classification\n",
    "- performance meausre: top 1, top 5 accuracy\n",
    "\n",
    "### Models\n",
    "- Resnet: [pytorch 코드](https://gist.github.com/nikogamulin/7774e0e3988305a78fd73e1c4364aded)\n",
    "\n",
    "<br>\n",
    "\n",
    "## Object detection: localization + classification\n",
    "- performance measure: mAP, AR\n",
    "\n",
    "### Models: R-CNN, \n",
    "\n",
    "<br>\n",
    "\n",
    "## Object segmentation\n",
    "- Pascal VOC (competition)\n",
    "  - performance measure: IoU = 100 x TP / (TP + FN + FP)\n",
    "\n",
    "- COCO challenge (compeition)\n",
    "  - stuff segmentation challenge(배경 분석), panoptic segmentation(stuff + things segmentation)\n",
    "    - performance measure : PQ(panoptic quality)\n",
    "\n",
    "- Cityscapes (competition)\n",
    "\n",
    "- [참고링크](https://89douner.tistory.com/category/%EB%94%A5%EB%9F%AC%EB%8B%9D%20%EC%9D%B4%EB%A1%A0/Segmentation)\n",
    "  - CNN, object detection, segmentation, 원격접속 개념, \n",
    "  \n",
    "\n",
    "### Application \n",
    "- self driving cars(자율주행), medical images(의료영상), 카메라의 focus 기능\n",
    "\n",
    "\n",
    "### Models: FCN, U-net, DeepLab\n",
    "- FCN(fully convolutional Networks) for semantic segmentation, U-Net, DeepLab\n",
    "\n",
    "<br>\n",
    "\n",
    "## Instance segmentation\n",
    "- object segmentation에서 같은 class의 instance도 구별\n",
    "\n",
    "<br>\n",
    "\n",
    "## Self-attention maps in vision\n",
    "- [BAM and CBAM: self-attention modules for CNN](https://blog.lunit.io/2018/08/30/bam-and-cbam-self-attention-modules-for-cnn/)\n",
    "\n",
    "- **[Visualization of Self-Attention Maps in Vision](https://epfml.github.io/attention-cnn/?fbclid=IwAR3XYKrz_heF1QyLS59btpDm6GtAWF2j-4M-H5M8AiRk6DFaIURKYlRuBQU)**\n",
    "  - 논문: ON THE RELATIONSHIP BETWEEN SELF-ATTENTION AND CONVOLUTIONAL LAYERS\n",
    " \n",
    "- [An Image is Worth 16x16 Words: Transformers for Image Recognition at Scale]"
   ]
  },
  {
   "cell_type": "markdown",
   "metadata": {},
   "source": []
  },
  {
   "cell_type": "markdown",
   "metadata": {},
   "source": [
    "# NLP (natural language processing)"
   ]
  },
  {
   "cell_type": "markdown",
   "metadata": {},
   "source": [
    "## 참고도서\n",
    "- [딥러닝을 이용한 자연어 처리 입문](https://wikidocs.net/book/2155): 총 20챕터, wikidocs에 책으로 정리\n",
    "\n",
    "<br>\n",
    "\n",
    "## Transformer\n",
    "- [Transformer 모델의 시각화 by Jay Alammar](https://nlpinkorean.github.io/illustrated-transformer/)\n",
    "- [Transformer to T5](http://dsba.korea.ac.kr/seminar/?mod=document&uid=247) : paper review & 댓글로 후기"
   ]
  },
  {
   "cell_type": "markdown",
   "metadata": {},
   "source": [
    "# GAN\n",
    "\n",
    "- [빅데이터 연합 동아리 투빅스 - GAN 세미나](https://velog.io/@tobigs-gm1?fbclid=IwAR0aNqnafsNOyKEfzxoTsBM2gy8aNzqvEsQDE6yU-wwKlPZgdjQEQNw8wkI)\n",
    "\n",
    "\n",
    "# Knowledge Tracing\n",
    "- [Deep Knowledge Tracing 논문](https://hcnoh.github.io/2019-06-14-deep-knowledge-tracing)"
   ]
  },
  {
   "cell_type": "code",
   "execution_count": null,
   "metadata": {},
   "outputs": [],
   "source": []
  },
  {
   "cell_type": "code",
   "execution_count": null,
   "metadata": {},
   "outputs": [],
   "source": []
  },
  {
   "cell_type": "markdown",
   "metadata": {},
   "source": [
    "# 기타 모임 및 contest\n",
    "\n",
    "- [SNU AI 동아리](https://goo.gl/WybHYp)\n",
    "\n",
    "- [Kaggle을 처음 접하는 사람들을 위한 문서](https://github.com/stevekwon211/Hello-Kaggle-KOR?fbclid=IwAR0zcwYeTz711OMC5bb57sVuyiJQdag3qo9buL6N9pfih2iBg9WL6LEpWkc)"
   ]
  },
  {
   "cell_type": "code",
   "execution_count": null,
   "metadata": {},
   "outputs": [],
   "source": []
  }
 ],
 "metadata": {
  "kernelspec": {
   "display_name": "Python 3",
   "language": "python",
   "name": "python3"
  },
  "language_info": {
   "codemirror_mode": {
    "name": "ipython",
    "version": 3
   },
   "file_extension": ".py",
   "mimetype": "text/x-python",
   "name": "python",
   "nbconvert_exporter": "python",
   "pygments_lexer": "ipython3",
   "version": "3.6.9"
  },
  "toc": {
   "base_numbering": 1,
   "nav_menu": {},
   "number_sections": true,
   "sideBar": true,
   "skip_h1_title": false,
   "title_cell": "Table of Contents",
   "title_sidebar": "Contents",
   "toc_cell": false,
   "toc_position": {},
   "toc_section_display": true,
   "toc_window_display": true
  },
  "varInspector": {
   "cols": {
    "lenName": 16,
    "lenType": 16,
    "lenVar": 40
   },
   "kernels_config": {
    "python": {
     "delete_cmd_postfix": "",
     "delete_cmd_prefix": "del ",
     "library": "var_list.py",
     "varRefreshCmd": "print(var_dic_list())"
    },
    "r": {
     "delete_cmd_postfix": ") ",
     "delete_cmd_prefix": "rm(",
     "library": "var_list.r",
     "varRefreshCmd": "cat(var_dic_list()) "
    }
   },
   "types_to_exclude": [
    "module",
    "function",
    "builtin_function_or_method",
    "instance",
    "_Feature"
   ],
   "window_display": false
  }
 },
 "nbformat": 4,
 "nbformat_minor": 4
}
